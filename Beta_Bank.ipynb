{
 "cells": [
  {
   "cell_type": "markdown",
   "metadata": {},
   "source": [
    "# Отток клиентов"
   ]
  },
  {
   "cell_type": "markdown",
   "metadata": {},
   "source": [
    "Из «Бета-Банка» стали уходить клиенты. Каждый месяц. Немного, но заметно. Банковские маркетологи посчитали: сохранять текущих клиентов дешевле, чем привлекать новых.\n",
    "\n",
    "Нужно спрогнозировать, уйдёт клиент из банка в ближайшее время или нет. Вам предоставлены исторические данные о поведении клиентов и расторжении договоров с банком. \n",
    "\n",
    "Постройте модель с предельно большим значением *F1*-меры. Чтобы сдать проект успешно, нужно довести метрику до 0.59. Проверьте *F1*-меру на тестовой выборке самостоятельно.\n",
    "\n",
    "Дополнительно измеряйте *AUC-ROC*, сравнивайте её значение с *F1*-мерой.\n",
    "\n",
    "Источник данных: [https://www.kaggle.com/barelydedicated/bank-customer-churn-modeling](https://www.kaggle.com/barelydedicated/bank-customer-churn-modeling)"
   ]
  },
  {
   "cell_type": "markdown",
   "metadata": {},
   "source": [
    "## Подготовка данных"
   ]
  },
  {
   "cell_type": "markdown",
   "metadata": {},
   "source": [
    "Импортируем необходимые библиотеки"
   ]
  },
  {
   "cell_type": "code",
   "execution_count": 1,
   "metadata": {},
   "outputs": [],
   "source": [
    "import pandas as pd\n",
    "import numpy as np\n",
    "import matplotlib.pyplot as plt\n",
    "from sklearn.model_selection import train_test_split\n",
    "from sklearn.preprocessing import StandardScaler\n",
    "from sklearn.tree import DecisionTreeClassifier\n",
    "from sklearn.ensemble import RandomForestClassifier\n",
    "from sklearn.linear_model import LogisticRegression\n",
    "from sklearn.metrics import accuracy_score\n",
    "from sklearn.metrics import confusion_matrix\n",
    "from sklearn.metrics import recall_score\n",
    "from sklearn.metrics import precision_score\n",
    "from sklearn.metrics import f1_score\n",
    "from sklearn.metrics import roc_auc_score\n",
    "from sklearn.metrics import roc_curve\n",
    "from sklearn.utils import shuffle\n",
    "from itertools import product\n",
    "import tqdm"
   ]
  },
  {
   "cell_type": "markdown",
   "metadata": {},
   "source": [
    "Загружаем данные"
   ]
  },
  {
   "cell_type": "code",
   "execution_count": 2,
   "metadata": {},
   "outputs": [],
   "source": [
    "data = pd.read_csv('/datasets/Churn.csv')"
   ]
  },
  {
   "cell_type": "markdown",
   "metadata": {},
   "source": [
    "**1.1 Проверяем данные**"
   ]
  },
  {
   "cell_type": "code",
   "execution_count": 3,
   "metadata": {},
   "outputs": [
    {
     "data": {
      "text/html": [
       "<div>\n",
       "<style scoped>\n",
       "    .dataframe tbody tr th:only-of-type {\n",
       "        vertical-align: middle;\n",
       "    }\n",
       "\n",
       "    .dataframe tbody tr th {\n",
       "        vertical-align: top;\n",
       "    }\n",
       "\n",
       "    .dataframe thead th {\n",
       "        text-align: right;\n",
       "    }\n",
       "</style>\n",
       "<table border=\"1\" class=\"dataframe\">\n",
       "  <thead>\n",
       "    <tr style=\"text-align: right;\">\n",
       "      <th></th>\n",
       "      <th>RowNumber</th>\n",
       "      <th>CustomerId</th>\n",
       "      <th>Surname</th>\n",
       "      <th>CreditScore</th>\n",
       "      <th>Geography</th>\n",
       "      <th>Gender</th>\n",
       "      <th>Age</th>\n",
       "      <th>Tenure</th>\n",
       "      <th>Balance</th>\n",
       "      <th>NumOfProducts</th>\n",
       "      <th>HasCrCard</th>\n",
       "      <th>IsActiveMember</th>\n",
       "      <th>EstimatedSalary</th>\n",
       "      <th>Exited</th>\n",
       "    </tr>\n",
       "  </thead>\n",
       "  <tbody>\n",
       "    <tr>\n",
       "      <td>0</td>\n",
       "      <td>1</td>\n",
       "      <td>15634602</td>\n",
       "      <td>Hargrave</td>\n",
       "      <td>619</td>\n",
       "      <td>France</td>\n",
       "      <td>Female</td>\n",
       "      <td>42</td>\n",
       "      <td>2.0</td>\n",
       "      <td>0.00</td>\n",
       "      <td>1</td>\n",
       "      <td>1</td>\n",
       "      <td>1</td>\n",
       "      <td>101348.88</td>\n",
       "      <td>1</td>\n",
       "    </tr>\n",
       "    <tr>\n",
       "      <td>1</td>\n",
       "      <td>2</td>\n",
       "      <td>15647311</td>\n",
       "      <td>Hill</td>\n",
       "      <td>608</td>\n",
       "      <td>Spain</td>\n",
       "      <td>Female</td>\n",
       "      <td>41</td>\n",
       "      <td>1.0</td>\n",
       "      <td>83807.86</td>\n",
       "      <td>1</td>\n",
       "      <td>0</td>\n",
       "      <td>1</td>\n",
       "      <td>112542.58</td>\n",
       "      <td>0</td>\n",
       "    </tr>\n",
       "    <tr>\n",
       "      <td>2</td>\n",
       "      <td>3</td>\n",
       "      <td>15619304</td>\n",
       "      <td>Onio</td>\n",
       "      <td>502</td>\n",
       "      <td>France</td>\n",
       "      <td>Female</td>\n",
       "      <td>42</td>\n",
       "      <td>8.0</td>\n",
       "      <td>159660.80</td>\n",
       "      <td>3</td>\n",
       "      <td>1</td>\n",
       "      <td>0</td>\n",
       "      <td>113931.57</td>\n",
       "      <td>1</td>\n",
       "    </tr>\n",
       "    <tr>\n",
       "      <td>3</td>\n",
       "      <td>4</td>\n",
       "      <td>15701354</td>\n",
       "      <td>Boni</td>\n",
       "      <td>699</td>\n",
       "      <td>France</td>\n",
       "      <td>Female</td>\n",
       "      <td>39</td>\n",
       "      <td>1.0</td>\n",
       "      <td>0.00</td>\n",
       "      <td>2</td>\n",
       "      <td>0</td>\n",
       "      <td>0</td>\n",
       "      <td>93826.63</td>\n",
       "      <td>0</td>\n",
       "    </tr>\n",
       "    <tr>\n",
       "      <td>4</td>\n",
       "      <td>5</td>\n",
       "      <td>15737888</td>\n",
       "      <td>Mitchell</td>\n",
       "      <td>850</td>\n",
       "      <td>Spain</td>\n",
       "      <td>Female</td>\n",
       "      <td>43</td>\n",
       "      <td>2.0</td>\n",
       "      <td>125510.82</td>\n",
       "      <td>1</td>\n",
       "      <td>1</td>\n",
       "      <td>1</td>\n",
       "      <td>79084.10</td>\n",
       "      <td>0</td>\n",
       "    </tr>\n",
       "    <tr>\n",
       "      <td>...</td>\n",
       "      <td>...</td>\n",
       "      <td>...</td>\n",
       "      <td>...</td>\n",
       "      <td>...</td>\n",
       "      <td>...</td>\n",
       "      <td>...</td>\n",
       "      <td>...</td>\n",
       "      <td>...</td>\n",
       "      <td>...</td>\n",
       "      <td>...</td>\n",
       "      <td>...</td>\n",
       "      <td>...</td>\n",
       "      <td>...</td>\n",
       "      <td>...</td>\n",
       "    </tr>\n",
       "    <tr>\n",
       "      <td>9995</td>\n",
       "      <td>9996</td>\n",
       "      <td>15606229</td>\n",
       "      <td>Obijiaku</td>\n",
       "      <td>771</td>\n",
       "      <td>France</td>\n",
       "      <td>Male</td>\n",
       "      <td>39</td>\n",
       "      <td>5.0</td>\n",
       "      <td>0.00</td>\n",
       "      <td>2</td>\n",
       "      <td>1</td>\n",
       "      <td>0</td>\n",
       "      <td>96270.64</td>\n",
       "      <td>0</td>\n",
       "    </tr>\n",
       "    <tr>\n",
       "      <td>9996</td>\n",
       "      <td>9997</td>\n",
       "      <td>15569892</td>\n",
       "      <td>Johnstone</td>\n",
       "      <td>516</td>\n",
       "      <td>France</td>\n",
       "      <td>Male</td>\n",
       "      <td>35</td>\n",
       "      <td>10.0</td>\n",
       "      <td>57369.61</td>\n",
       "      <td>1</td>\n",
       "      <td>1</td>\n",
       "      <td>1</td>\n",
       "      <td>101699.77</td>\n",
       "      <td>0</td>\n",
       "    </tr>\n",
       "    <tr>\n",
       "      <td>9997</td>\n",
       "      <td>9998</td>\n",
       "      <td>15584532</td>\n",
       "      <td>Liu</td>\n",
       "      <td>709</td>\n",
       "      <td>France</td>\n",
       "      <td>Female</td>\n",
       "      <td>36</td>\n",
       "      <td>7.0</td>\n",
       "      <td>0.00</td>\n",
       "      <td>1</td>\n",
       "      <td>0</td>\n",
       "      <td>1</td>\n",
       "      <td>42085.58</td>\n",
       "      <td>1</td>\n",
       "    </tr>\n",
       "    <tr>\n",
       "      <td>9998</td>\n",
       "      <td>9999</td>\n",
       "      <td>15682355</td>\n",
       "      <td>Sabbatini</td>\n",
       "      <td>772</td>\n",
       "      <td>Germany</td>\n",
       "      <td>Male</td>\n",
       "      <td>42</td>\n",
       "      <td>3.0</td>\n",
       "      <td>75075.31</td>\n",
       "      <td>2</td>\n",
       "      <td>1</td>\n",
       "      <td>0</td>\n",
       "      <td>92888.52</td>\n",
       "      <td>1</td>\n",
       "    </tr>\n",
       "    <tr>\n",
       "      <td>9999</td>\n",
       "      <td>10000</td>\n",
       "      <td>15628319</td>\n",
       "      <td>Walker</td>\n",
       "      <td>792</td>\n",
       "      <td>France</td>\n",
       "      <td>Female</td>\n",
       "      <td>28</td>\n",
       "      <td>NaN</td>\n",
       "      <td>130142.79</td>\n",
       "      <td>1</td>\n",
       "      <td>1</td>\n",
       "      <td>0</td>\n",
       "      <td>38190.78</td>\n",
       "      <td>0</td>\n",
       "    </tr>\n",
       "  </tbody>\n",
       "</table>\n",
       "<p>10000 rows × 14 columns</p>\n",
       "</div>"
      ],
      "text/plain": [
       "      RowNumber  CustomerId    Surname  CreditScore Geography  Gender  Age  \\\n",
       "0             1    15634602   Hargrave          619    France  Female   42   \n",
       "1             2    15647311       Hill          608     Spain  Female   41   \n",
       "2             3    15619304       Onio          502    France  Female   42   \n",
       "3             4    15701354       Boni          699    France  Female   39   \n",
       "4             5    15737888   Mitchell          850     Spain  Female   43   \n",
       "...         ...         ...        ...          ...       ...     ...  ...   \n",
       "9995       9996    15606229   Obijiaku          771    France    Male   39   \n",
       "9996       9997    15569892  Johnstone          516    France    Male   35   \n",
       "9997       9998    15584532        Liu          709    France  Female   36   \n",
       "9998       9999    15682355  Sabbatini          772   Germany    Male   42   \n",
       "9999      10000    15628319     Walker          792    France  Female   28   \n",
       "\n",
       "      Tenure    Balance  NumOfProducts  HasCrCard  IsActiveMember  \\\n",
       "0        2.0       0.00              1          1               1   \n",
       "1        1.0   83807.86              1          0               1   \n",
       "2        8.0  159660.80              3          1               0   \n",
       "3        1.0       0.00              2          0               0   \n",
       "4        2.0  125510.82              1          1               1   \n",
       "...      ...        ...            ...        ...             ...   \n",
       "9995     5.0       0.00              2          1               0   \n",
       "9996    10.0   57369.61              1          1               1   \n",
       "9997     7.0       0.00              1          0               1   \n",
       "9998     3.0   75075.31              2          1               0   \n",
       "9999     NaN  130142.79              1          1               0   \n",
       "\n",
       "      EstimatedSalary  Exited  \n",
       "0           101348.88       1  \n",
       "1           112542.58       0  \n",
       "2           113931.57       1  \n",
       "3            93826.63       0  \n",
       "4            79084.10       0  \n",
       "...               ...     ...  \n",
       "9995         96270.64       0  \n",
       "9996        101699.77       0  \n",
       "9997         42085.58       1  \n",
       "9998         92888.52       1  \n",
       "9999         38190.78       0  \n",
       "\n",
       "[10000 rows x 14 columns]"
      ]
     },
     "metadata": {},
     "output_type": "display_data"
    }
   ],
   "source": [
    "display(data)"
   ]
  },
  {
   "cell_type": "markdown",
   "metadata": {},
   "source": [
    "Целевой признак: Exited.\n",
    "Так как уход клиента — категориальный признак, то задачу будем решать методом классификации."
   ]
  },
  {
   "cell_type": "code",
   "execution_count": 4,
   "metadata": {},
   "outputs": [
    {
     "name": "stdout",
     "output_type": "stream",
     "text": [
      "<class 'pandas.core.frame.DataFrame'>\n",
      "RangeIndex: 10000 entries, 0 to 9999\n",
      "Data columns (total 14 columns):\n",
      "RowNumber          10000 non-null int64\n",
      "CustomerId         10000 non-null int64\n",
      "Surname            10000 non-null object\n",
      "CreditScore        10000 non-null int64\n",
      "Geography          10000 non-null object\n",
      "Gender             10000 non-null object\n",
      "Age                10000 non-null int64\n",
      "Tenure             9091 non-null float64\n",
      "Balance            10000 non-null float64\n",
      "NumOfProducts      10000 non-null int64\n",
      "HasCrCard          10000 non-null int64\n",
      "IsActiveMember     10000 non-null int64\n",
      "EstimatedSalary    10000 non-null float64\n",
      "Exited             10000 non-null int64\n",
      "dtypes: float64(3), int64(8), object(3)\n",
      "memory usage: 1.1+ MB\n"
     ]
    }
   ],
   "source": [
    "data.info()"
   ]
  },
  {
   "cell_type": "markdown",
   "metadata": {},
   "source": [
    "Видим пропуки в параметре Tenure"
   ]
  },
  {
   "cell_type": "code",
   "execution_count": 5,
   "metadata": {},
   "outputs": [
    {
     "name": "stdout",
     "output_type": "stream",
     "text": [
      "RowNumber          0\n",
      "CustomerId         0\n",
      "Surname            0\n",
      "CreditScore        0\n",
      "Geography          0\n",
      "Gender             0\n",
      "Age                0\n",
      "Tenure             0\n",
      "Balance            0\n",
      "NumOfProducts      0\n",
      "HasCrCard          0\n",
      "IsActiveMember     0\n",
      "EstimatedSalary    0\n",
      "Exited             0\n",
      "dtype: int64\n",
      "0\n"
     ]
    }
   ],
   "source": [
    "data['Tenure'] = data['Tenure'].fillna(-1)\n",
    "print(data.isna().sum())\n",
    "print(data.duplicated().sum())"
   ]
  },
  {
   "cell_type": "markdown",
   "metadata": {},
   "source": [
    "Датасет содержить 10000 строк.\n",
    "Что мы изменим:\n",
    "- RowNumber - удалим, так как он не несёт полезной нагрузки.\n",
    "- CustomerId - удалим, так как он не несёт полезной нагрузки.\n",
    "- Surname - удалим, так как он не несёт полезной нагрузки.   \n",
    "- CreditScore - исследуем и cохраняем.         \n",
    "- Geography - исследуем и сохраняем. Возможно вляет на целевой признак. Преобразуем через OHE.\n",
    "- Gender - исследуем и сохраняем. Возможно вляет на целевой признак. Преобразуем через OHE.\n",
    "- Age - исследуем и сохраняем. Возможно вляет на целевой признак. Преобразуем через OHE.\n",
    "- Tenure - исследуем и cохраняем.\n",
    "- Balance - исследуем и cохраняем.\n",
    "- NumOfProducts - исследуем и cохраняем.\n",
    "- HasCrCard - исследуем и cохраняем.\n",
    "- IsActiveMember - исследуем и cохраняем.\n",
    "- EstimatedSalary - исследуем и cохраняем.\n",
    "- **Exited** - наш целевой признак, оставляем.\n",
    "\n"
   ]
  },
  {
   "cell_type": "markdown",
   "metadata": {},
   "source": [
    "**1.2 Подготовка датасета**"
   ]
  },
  {
   "cell_type": "markdown",
   "metadata": {},
   "source": [
    "Создадим новый датасет для ML и назовём data_ml"
   ]
  },
  {
   "cell_type": "code",
   "execution_count": 6,
   "metadata": {},
   "outputs": [
    {
     "data": {
      "text/html": [
       "<div>\n",
       "<style scoped>\n",
       "    .dataframe tbody tr th:only-of-type {\n",
       "        vertical-align: middle;\n",
       "    }\n",
       "\n",
       "    .dataframe tbody tr th {\n",
       "        vertical-align: top;\n",
       "    }\n",
       "\n",
       "    .dataframe thead th {\n",
       "        text-align: right;\n",
       "    }\n",
       "</style>\n",
       "<table border=\"1\" class=\"dataframe\">\n",
       "  <thead>\n",
       "    <tr style=\"text-align: right;\">\n",
       "      <th></th>\n",
       "      <th>CreditScore</th>\n",
       "      <th>Geography</th>\n",
       "      <th>Gender</th>\n",
       "      <th>Age</th>\n",
       "      <th>Tenure</th>\n",
       "      <th>Balance</th>\n",
       "      <th>NumOfProducts</th>\n",
       "      <th>HasCrCard</th>\n",
       "      <th>IsActiveMember</th>\n",
       "      <th>EstimatedSalary</th>\n",
       "      <th>Exited</th>\n",
       "    </tr>\n",
       "  </thead>\n",
       "  <tbody>\n",
       "    <tr>\n",
       "      <td>0</td>\n",
       "      <td>619</td>\n",
       "      <td>France</td>\n",
       "      <td>Female</td>\n",
       "      <td>42</td>\n",
       "      <td>2.0</td>\n",
       "      <td>0.00</td>\n",
       "      <td>1</td>\n",
       "      <td>1</td>\n",
       "      <td>1</td>\n",
       "      <td>101348.88</td>\n",
       "      <td>1</td>\n",
       "    </tr>\n",
       "    <tr>\n",
       "      <td>1</td>\n",
       "      <td>608</td>\n",
       "      <td>Spain</td>\n",
       "      <td>Female</td>\n",
       "      <td>41</td>\n",
       "      <td>1.0</td>\n",
       "      <td>83807.86</td>\n",
       "      <td>1</td>\n",
       "      <td>0</td>\n",
       "      <td>1</td>\n",
       "      <td>112542.58</td>\n",
       "      <td>0</td>\n",
       "    </tr>\n",
       "    <tr>\n",
       "      <td>2</td>\n",
       "      <td>502</td>\n",
       "      <td>France</td>\n",
       "      <td>Female</td>\n",
       "      <td>42</td>\n",
       "      <td>8.0</td>\n",
       "      <td>159660.80</td>\n",
       "      <td>3</td>\n",
       "      <td>1</td>\n",
       "      <td>0</td>\n",
       "      <td>113931.57</td>\n",
       "      <td>1</td>\n",
       "    </tr>\n",
       "    <tr>\n",
       "      <td>3</td>\n",
       "      <td>699</td>\n",
       "      <td>France</td>\n",
       "      <td>Female</td>\n",
       "      <td>39</td>\n",
       "      <td>1.0</td>\n",
       "      <td>0.00</td>\n",
       "      <td>2</td>\n",
       "      <td>0</td>\n",
       "      <td>0</td>\n",
       "      <td>93826.63</td>\n",
       "      <td>0</td>\n",
       "    </tr>\n",
       "    <tr>\n",
       "      <td>4</td>\n",
       "      <td>850</td>\n",
       "      <td>Spain</td>\n",
       "      <td>Female</td>\n",
       "      <td>43</td>\n",
       "      <td>2.0</td>\n",
       "      <td>125510.82</td>\n",
       "      <td>1</td>\n",
       "      <td>1</td>\n",
       "      <td>1</td>\n",
       "      <td>79084.10</td>\n",
       "      <td>0</td>\n",
       "    </tr>\n",
       "    <tr>\n",
       "      <td>...</td>\n",
       "      <td>...</td>\n",
       "      <td>...</td>\n",
       "      <td>...</td>\n",
       "      <td>...</td>\n",
       "      <td>...</td>\n",
       "      <td>...</td>\n",
       "      <td>...</td>\n",
       "      <td>...</td>\n",
       "      <td>...</td>\n",
       "      <td>...</td>\n",
       "      <td>...</td>\n",
       "    </tr>\n",
       "    <tr>\n",
       "      <td>9995</td>\n",
       "      <td>771</td>\n",
       "      <td>France</td>\n",
       "      <td>Male</td>\n",
       "      <td>39</td>\n",
       "      <td>5.0</td>\n",
       "      <td>0.00</td>\n",
       "      <td>2</td>\n",
       "      <td>1</td>\n",
       "      <td>0</td>\n",
       "      <td>96270.64</td>\n",
       "      <td>0</td>\n",
       "    </tr>\n",
       "    <tr>\n",
       "      <td>9996</td>\n",
       "      <td>516</td>\n",
       "      <td>France</td>\n",
       "      <td>Male</td>\n",
       "      <td>35</td>\n",
       "      <td>10.0</td>\n",
       "      <td>57369.61</td>\n",
       "      <td>1</td>\n",
       "      <td>1</td>\n",
       "      <td>1</td>\n",
       "      <td>101699.77</td>\n",
       "      <td>0</td>\n",
       "    </tr>\n",
       "    <tr>\n",
       "      <td>9997</td>\n",
       "      <td>709</td>\n",
       "      <td>France</td>\n",
       "      <td>Female</td>\n",
       "      <td>36</td>\n",
       "      <td>7.0</td>\n",
       "      <td>0.00</td>\n",
       "      <td>1</td>\n",
       "      <td>0</td>\n",
       "      <td>1</td>\n",
       "      <td>42085.58</td>\n",
       "      <td>1</td>\n",
       "    </tr>\n",
       "    <tr>\n",
       "      <td>9998</td>\n",
       "      <td>772</td>\n",
       "      <td>Germany</td>\n",
       "      <td>Male</td>\n",
       "      <td>42</td>\n",
       "      <td>3.0</td>\n",
       "      <td>75075.31</td>\n",
       "      <td>2</td>\n",
       "      <td>1</td>\n",
       "      <td>0</td>\n",
       "      <td>92888.52</td>\n",
       "      <td>1</td>\n",
       "    </tr>\n",
       "    <tr>\n",
       "      <td>9999</td>\n",
       "      <td>792</td>\n",
       "      <td>France</td>\n",
       "      <td>Female</td>\n",
       "      <td>28</td>\n",
       "      <td>-1.0</td>\n",
       "      <td>130142.79</td>\n",
       "      <td>1</td>\n",
       "      <td>1</td>\n",
       "      <td>0</td>\n",
       "      <td>38190.78</td>\n",
       "      <td>0</td>\n",
       "    </tr>\n",
       "  </tbody>\n",
       "</table>\n",
       "<p>10000 rows × 11 columns</p>\n",
       "</div>"
      ],
      "text/plain": [
       "      CreditScore Geography  Gender  Age  Tenure    Balance  NumOfProducts  \\\n",
       "0             619    France  Female   42     2.0       0.00              1   \n",
       "1             608     Spain  Female   41     1.0   83807.86              1   \n",
       "2             502    France  Female   42     8.0  159660.80              3   \n",
       "3             699    France  Female   39     1.0       0.00              2   \n",
       "4             850     Spain  Female   43     2.0  125510.82              1   \n",
       "...           ...       ...     ...  ...     ...        ...            ...   \n",
       "9995          771    France    Male   39     5.0       0.00              2   \n",
       "9996          516    France    Male   35    10.0   57369.61              1   \n",
       "9997          709    France  Female   36     7.0       0.00              1   \n",
       "9998          772   Germany    Male   42     3.0   75075.31              2   \n",
       "9999          792    France  Female   28    -1.0  130142.79              1   \n",
       "\n",
       "      HasCrCard  IsActiveMember  EstimatedSalary  Exited  \n",
       "0             1               1        101348.88       1  \n",
       "1             0               1        112542.58       0  \n",
       "2             1               0        113931.57       1  \n",
       "3             0               0         93826.63       0  \n",
       "4             1               1         79084.10       0  \n",
       "...         ...             ...              ...     ...  \n",
       "9995          1               0         96270.64       0  \n",
       "9996          1               1        101699.77       0  \n",
       "9997          0               1         42085.58       1  \n",
       "9998          1               0         92888.52       1  \n",
       "9999          1               0         38190.78       0  \n",
       "\n",
       "[10000 rows x 11 columns]"
      ]
     },
     "metadata": {},
     "output_type": "display_data"
    }
   ],
   "source": [
    "for_drop = ['RowNumber','CustomerId','Surname']\n",
    "data_ml = data.drop(for_drop, axis=1)\n",
    "display(data_ml)"
   ]
  },
  {
   "cell_type": "markdown",
   "metadata": {},
   "source": [
    "Применяем OHE."
   ]
  },
  {
   "cell_type": "code",
   "execution_count": 7,
   "metadata": {},
   "outputs": [
    {
     "data": {
      "text/html": [
       "<div>\n",
       "<style scoped>\n",
       "    .dataframe tbody tr th:only-of-type {\n",
       "        vertical-align: middle;\n",
       "    }\n",
       "\n",
       "    .dataframe tbody tr th {\n",
       "        vertical-align: top;\n",
       "    }\n",
       "\n",
       "    .dataframe thead th {\n",
       "        text-align: right;\n",
       "    }\n",
       "</style>\n",
       "<table border=\"1\" class=\"dataframe\">\n",
       "  <thead>\n",
       "    <tr style=\"text-align: right;\">\n",
       "      <th></th>\n",
       "      <th>CreditScore</th>\n",
       "      <th>Age</th>\n",
       "      <th>Tenure</th>\n",
       "      <th>Balance</th>\n",
       "      <th>NumOfProducts</th>\n",
       "      <th>HasCrCard</th>\n",
       "      <th>IsActiveMember</th>\n",
       "      <th>EstimatedSalary</th>\n",
       "      <th>Exited</th>\n",
       "      <th>Geography_Germany</th>\n",
       "      <th>Geography_Spain</th>\n",
       "      <th>Gender_Male</th>\n",
       "    </tr>\n",
       "  </thead>\n",
       "  <tbody>\n",
       "    <tr>\n",
       "      <td>0</td>\n",
       "      <td>619</td>\n",
       "      <td>42</td>\n",
       "      <td>2.0</td>\n",
       "      <td>0.00</td>\n",
       "      <td>1</td>\n",
       "      <td>1</td>\n",
       "      <td>1</td>\n",
       "      <td>101348.88</td>\n",
       "      <td>1</td>\n",
       "      <td>0</td>\n",
       "      <td>0</td>\n",
       "      <td>0</td>\n",
       "    </tr>\n",
       "    <tr>\n",
       "      <td>1</td>\n",
       "      <td>608</td>\n",
       "      <td>41</td>\n",
       "      <td>1.0</td>\n",
       "      <td>83807.86</td>\n",
       "      <td>1</td>\n",
       "      <td>0</td>\n",
       "      <td>1</td>\n",
       "      <td>112542.58</td>\n",
       "      <td>0</td>\n",
       "      <td>0</td>\n",
       "      <td>1</td>\n",
       "      <td>0</td>\n",
       "    </tr>\n",
       "    <tr>\n",
       "      <td>2</td>\n",
       "      <td>502</td>\n",
       "      <td>42</td>\n",
       "      <td>8.0</td>\n",
       "      <td>159660.80</td>\n",
       "      <td>3</td>\n",
       "      <td>1</td>\n",
       "      <td>0</td>\n",
       "      <td>113931.57</td>\n",
       "      <td>1</td>\n",
       "      <td>0</td>\n",
       "      <td>0</td>\n",
       "      <td>0</td>\n",
       "    </tr>\n",
       "    <tr>\n",
       "      <td>3</td>\n",
       "      <td>699</td>\n",
       "      <td>39</td>\n",
       "      <td>1.0</td>\n",
       "      <td>0.00</td>\n",
       "      <td>2</td>\n",
       "      <td>0</td>\n",
       "      <td>0</td>\n",
       "      <td>93826.63</td>\n",
       "      <td>0</td>\n",
       "      <td>0</td>\n",
       "      <td>0</td>\n",
       "      <td>0</td>\n",
       "    </tr>\n",
       "    <tr>\n",
       "      <td>4</td>\n",
       "      <td>850</td>\n",
       "      <td>43</td>\n",
       "      <td>2.0</td>\n",
       "      <td>125510.82</td>\n",
       "      <td>1</td>\n",
       "      <td>1</td>\n",
       "      <td>1</td>\n",
       "      <td>79084.10</td>\n",
       "      <td>0</td>\n",
       "      <td>0</td>\n",
       "      <td>1</td>\n",
       "      <td>0</td>\n",
       "    </tr>\n",
       "  </tbody>\n",
       "</table>\n",
       "</div>"
      ],
      "text/plain": [
       "   CreditScore  Age  Tenure    Balance  NumOfProducts  HasCrCard  \\\n",
       "0          619   42     2.0       0.00              1          1   \n",
       "1          608   41     1.0   83807.86              1          0   \n",
       "2          502   42     8.0  159660.80              3          1   \n",
       "3          699   39     1.0       0.00              2          0   \n",
       "4          850   43     2.0  125510.82              1          1   \n",
       "\n",
       "   IsActiveMember  EstimatedSalary  Exited  Geography_Germany  \\\n",
       "0               1        101348.88       1                  0   \n",
       "1               1        112542.58       0                  0   \n",
       "2               0        113931.57       1                  0   \n",
       "3               0         93826.63       0                  0   \n",
       "4               1         79084.10       0                  0   \n",
       "\n",
       "   Geography_Spain  Gender_Male  \n",
       "0                0            0  \n",
       "1                1            0  \n",
       "2                0            0  \n",
       "3                0            0  \n",
       "4                1            0  "
      ]
     },
     "execution_count": 7,
     "metadata": {},
     "output_type": "execute_result"
    }
   ],
   "source": [
    "data_ml = pd.get_dummies(data_ml, drop_first=True)\n",
    "data_ml.head()"
   ]
  },
  {
   "cell_type": "markdown",
   "metadata": {},
   "source": [
    "**1.3 Создаём выбоки для обучения и валидации.**"
   ]
  },
  {
   "cell_type": "markdown",
   "metadata": {},
   "source": [
    "Так как у нас только один датасет, то мы разделяем наш датасет на 3 части: 60,20,20."
   ]
  },
  {
   "cell_type": "markdown",
   "metadata": {},
   "source": [
    "Создаём признаки и целевой признак"
   ]
  },
  {
   "cell_type": "code",
   "execution_count": 8,
   "metadata": {},
   "outputs": [],
   "source": [
    "features = data_ml.drop('Exited', axis=1)\n",
    "target = data_ml['Exited']"
   ]
  },
  {
   "cell_type": "markdown",
   "metadata": {},
   "source": [
    "Создаём обучающий датасет и валидационный."
   ]
  },
  {
   "cell_type": "code",
   "execution_count": 9,
   "metadata": {},
   "outputs": [],
   "source": [
    "features_train, features_validtest, target_train, target_validtest = train_test_split(\n",
    "features, target, train_size=0.6,random_state=12345, stratify=target)"
   ]
  },
  {
   "cell_type": "markdown",
   "metadata": {},
   "source": [
    "Разделим оставшиеся 40% на 2 равные части (валидационная и тестовая)"
   ]
  },
  {
   "cell_type": "code",
   "execution_count": 10,
   "metadata": {},
   "outputs": [],
   "source": [
    "features_valid, features_test, target_valid, target_test = train_test_split(\n",
    "features_validtest, target_validtest, train_size=0.5,random_state=12345, stratify=target_validtest)"
   ]
  },
  {
   "cell_type": "markdown",
   "metadata": {},
   "source": [
    "**1.4 Приводим все данные к одному масштабу**"
   ]
  },
  {
   "cell_type": "markdown",
   "metadata": {},
   "source": [
    "Приведём численные значения к едином масштабу"
   ]
  },
  {
   "cell_type": "code",
   "execution_count": 11,
   "metadata": {},
   "outputs": [],
   "source": [
    "numbers = ['CreditScore', 'Age', 'Tenure', 'Balance', 'NumOfProducts', 'EstimatedSalary']"
   ]
  },
  {
   "cell_type": "code",
   "execution_count": 12,
   "metadata": {},
   "outputs": [
    {
     "name": "stderr",
     "output_type": "stream",
     "text": [
      "/opt/conda/lib/python3.7/site-packages/ipykernel_launcher.py:3: SettingWithCopyWarning: \n",
      "A value is trying to be set on a copy of a slice from a DataFrame.\n",
      "Try using .loc[row_indexer,col_indexer] = value instead\n",
      "\n",
      "See the caveats in the documentation: http://pandas.pydata.org/pandas-docs/stable/user_guide/indexing.html#returning-a-view-versus-a-copy\n",
      "  This is separate from the ipykernel package so we can avoid doing imports until\n",
      "/opt/conda/lib/python3.7/site-packages/pandas/core/indexing.py:494: SettingWithCopyWarning: \n",
      "A value is trying to be set on a copy of a slice from a DataFrame.\n",
      "Try using .loc[row_indexer,col_indexer] = value instead\n",
      "\n",
      "See the caveats in the documentation: http://pandas.pydata.org/pandas-docs/stable/user_guide/indexing.html#returning-a-view-versus-a-copy\n",
      "  self.obj[item] = s\n",
      "/opt/conda/lib/python3.7/site-packages/ipykernel_launcher.py:4: SettingWithCopyWarning: \n",
      "A value is trying to be set on a copy of a slice from a DataFrame.\n",
      "Try using .loc[row_indexer,col_indexer] = value instead\n",
      "\n",
      "See the caveats in the documentation: http://pandas.pydata.org/pandas-docs/stable/user_guide/indexing.html#returning-a-view-versus-a-copy\n",
      "  after removing the cwd from sys.path.\n",
      "/opt/conda/lib/python3.7/site-packages/pandas/core/indexing.py:494: SettingWithCopyWarning: \n",
      "A value is trying to be set on a copy of a slice from a DataFrame.\n",
      "Try using .loc[row_indexer,col_indexer] = value instead\n",
      "\n",
      "See the caveats in the documentation: http://pandas.pydata.org/pandas-docs/stable/user_guide/indexing.html#returning-a-view-versus-a-copy\n",
      "  self.obj[item] = s\n",
      "/opt/conda/lib/python3.7/site-packages/ipykernel_launcher.py:5: SettingWithCopyWarning: \n",
      "A value is trying to be set on a copy of a slice from a DataFrame.\n",
      "Try using .loc[row_indexer,col_indexer] = value instead\n",
      "\n",
      "See the caveats in the documentation: http://pandas.pydata.org/pandas-docs/stable/user_guide/indexing.html#returning-a-view-versus-a-copy\n",
      "  \"\"\"\n",
      "/opt/conda/lib/python3.7/site-packages/pandas/core/indexing.py:494: SettingWithCopyWarning: \n",
      "A value is trying to be set on a copy of a slice from a DataFrame.\n",
      "Try using .loc[row_indexer,col_indexer] = value instead\n",
      "\n",
      "See the caveats in the documentation: http://pandas.pydata.org/pandas-docs/stable/user_guide/indexing.html#returning-a-view-versus-a-copy\n",
      "  self.obj[item] = s\n"
     ]
    }
   ],
   "source": [
    "scaler = StandardScaler()\n",
    "scaler.fit(features_train[numbers])\n",
    "features_train[numbers] = scaler.transform(features_train[numbers])\n",
    "features_valid[numbers] = scaler.transform(features_valid[numbers])\n",
    "features_test[numbers] = scaler.transform(features_test[numbers])"
   ]
  },
  {
   "cell_type": "markdown",
   "metadata": {},
   "source": [
    "## Исследование задачи"
   ]
  },
  {
   "cell_type": "markdown",
   "metadata": {},
   "source": [
    "Мы будем тестировать три модели."
   ]
  },
  {
   "cell_type": "markdown",
   "metadata": {},
   "source": [
    "**2.1 Обучаем модели и проверяем**"
   ]
  },
  {
   "cell_type": "code",
   "execution_count": 13,
   "metadata": {},
   "outputs": [],
   "source": [
    "def all_models_accuracy(features_train, target_train, features_valid, target_valid):\n",
    "    model_DTC = DecisionTreeClassifier(random_state=12345)\n",
    "    DTC_score = model_DTC.fit(features_train, target_train).score(features_valid, target_valid)\n",
    "    \n",
    "    model_RFC = RandomForestClassifier(random_state=12345, n_estimators = 100)\n",
    "    RFC_score = model_RFC.fit(features_train, target_train).score(features_valid, target_valid)\n",
    "    \n",
    "    model_LgR = LogisticRegression(solver = 'liblinear')\n",
    "    LgR_score = model_LgR.fit(features_train, target_train).score(features_valid, target_valid)\n",
    "    print(\"Точность:\" \"дерево решений\", DTC_score, \"случайный лес \", RFC_score, \"логистческая регрессия\", LgR_score)"
   ]
  },
  {
   "cell_type": "code",
   "execution_count": 14,
   "metadata": {},
   "outputs": [
    {
     "name": "stdout",
     "output_type": "stream",
     "text": [
      "Точность:дерево решений 0.789 случайный лес  0.8645 логистческая регрессия 0.811\n"
     ]
    }
   ],
   "source": [
    "all_models_accuracy(features_train, target_train, features_valid, target_valid)"
   ]
  },
  {
   "cell_type": "markdown",
   "metadata": {},
   "source": [
    "**2.2 Проверяем баланс**"
   ]
  },
  {
   "cell_type": "code",
   "execution_count": 15,
   "metadata": {},
   "outputs": [
    {
     "data": {
      "text/plain": [
       "0    0.796333\n",
       "1    0.203667\n",
       "Name: Exited, dtype: float64"
      ]
     },
     "execution_count": 15,
     "metadata": {},
     "output_type": "execute_result"
    }
   ],
   "source": [
    "target_train.value_counts(normalize = 1)"
   ]
  },
  {
   "cell_type": "code",
   "execution_count": 16,
   "metadata": {},
   "outputs": [
    {
     "data": {
      "text/plain": [
       "0    0.796\n",
       "1    0.204\n",
       "Name: Exited, dtype: float64"
      ]
     },
     "execution_count": 16,
     "metadata": {},
     "output_type": "execute_result"
    }
   ],
   "source": [
    "target_valid.value_counts(normalize = 1)"
   ]
  },
  {
   "cell_type": "markdown",
   "metadata": {},
   "source": [
    "Мы наблюдаем существеный дисбаланс в классах."
   ]
  },
  {
   "cell_type": "markdown",
   "metadata": {},
   "source": [
    "**2.3 Проверяем на адекватность**"
   ]
  },
  {
   "cell_type": "markdown",
   "metadata": {},
   "source": [
    "Проверяем соотношение ответов"
   ]
  },
  {
   "cell_type": "code",
   "execution_count": 17,
   "metadata": {},
   "outputs": [],
   "source": [
    "def all_models_share(features_train, target_train, features_valid, target_valid):\n",
    "    model_DTC = DecisionTreeClassifier(random_state=12345)\n",
    "    model_DTC.fit(features_train, target_train)\n",
    "    DTC_share = pd.Series(model_DTC.predict(features_valid)).value_counts(normalize = 1)\n",
    "    \n",
    "    \n",
    "    \n",
    "    model_RFC = RandomForestClassifier(random_state=12345, n_estimators = 100)\n",
    "    model_RFC.fit(features_train, target_train)\n",
    "    RFC_share = pd.Series(model_RFC.predict(features_valid)).value_counts(normalize = 1)\n",
    "    \n",
    "    model_LgR = LogisticRegression(solver = 'liblinear')\n",
    "    model_LgR.fit(features_train, target_train)\n",
    "    LgR_share = pd.Series(model_LgR.predict(features_valid)).value_counts(normalize = 1)\n",
    "    \n",
    "    target_predict_constant = pd.Series([0]*len(target_valid))\n",
    "    \n",
    "    print('Пропорции ответов:')\n",
    "    print(\"дерево решений:\")\n",
    "    print(DTC_share)\n",
    "    print(accuracy_score(target_valid, model_DTC.predict(features_valid)))\n",
    "    print()\n",
    "    print(\"случайный лес \")\n",
    "    print(RFC_share)\n",
    "    print(accuracy_score(target_valid, model_RFC.predict(features_valid)))\n",
    "    print()\n",
    "    print(\"логистческая регрессия\")\n",
    "    print(LgR_share )\n",
    "    print(accuracy_score(target_valid, model_LgR.predict(features_valid)))\n",
    "    print()\n",
    "    print('Константа')\n",
    "    print(accuracy_score(target_valid, target_predict_constant))\n"
   ]
  },
  {
   "cell_type": "code",
   "execution_count": 18,
   "metadata": {},
   "outputs": [
    {
     "name": "stdout",
     "output_type": "stream",
     "text": [
      "Пропорции ответов:\n",
      "дерево решений:\n",
      "0    0.777\n",
      "1    0.223\n",
      "dtype: float64\n",
      "0.789\n",
      "\n",
      "случайный лес \n",
      "0    0.8675\n",
      "1    0.1325\n",
      "dtype: float64\n",
      "0.8645\n",
      "\n",
      "логистческая регрессия\n",
      "0    0.931\n",
      "1    0.069\n",
      "dtype: float64\n",
      "0.811\n",
      "\n",
      "Константа\n",
      "0.796\n"
     ]
    }
   ],
   "source": [
    "all_models_share(features_train, target_train, features_valid, target_valid)"
   ]
  },
  {
   "cell_type": "markdown",
   "metadata": {},
   "source": [
    "Логистичесая регрессия показывала самую высокую точность, но данная модель выдает 100% одинаковый результат = 0\n",
    "Сравним качество предсказаний с константной моделью. За константу примем пример 0, так как это значение встречается 80% случаев"
   ]
  },
  {
   "cell_type": "markdown",
   "metadata": {},
   "source": [
    "Ниже создадим и проверим на константной модели."
   ]
  },
  {
   "cell_type": "code",
   "execution_count": 19,
   "metadata": {},
   "outputs": [
    {
     "name": "stdout",
     "output_type": "stream",
     "text": [
      "0.796\n"
     ]
    }
   ],
   "source": [
    "target_predict_constant = pd.Series([0]*len(target_valid))\n",
    "target_predict_constant.shape\n",
    "accuracy_score_constant = accuracy_score(target_valid, target_predict_constant)\n",
    "print(accuracy_score_constant)"
   ]
  },
  {
   "cell_type": "markdown",
   "metadata": {},
   "source": [
    "**2.3 Рассматриваем матрицу ошибок**"
   ]
  },
  {
   "cell_type": "code",
   "execution_count": 54,
   "metadata": {},
   "outputs": [],
   "source": [
    "def rec_prec_f1(target_valid, prediction):\n",
    "    print(\"Полнота\" , recall_score(target_valid, prediction))\n",
    "    print(\"Точность\", precision_score(target_valid, prediction))\n",
    "    print(\"F1-мера\", f1_score(target_valid, prediction))\n",
    "    print(\"AUC-ROC\", roc_auc_score(target_valid, prediction, ))"
   ]
  },
  {
   "cell_type": "code",
   "execution_count": 55,
   "metadata": {},
   "outputs": [
    {
     "name": "stdout",
     "output_type": "stream",
     "text": [
      "[[1362  230]\n",
      " [ 192  216]]\n",
      "\n",
      "Полнота 0.5294117647058824\n",
      "Точность 0.484304932735426\n",
      "F1-мера 0.5058548009367682\n",
      "AUC-ROC 0.6924697014484186\n"
     ]
    }
   ],
   "source": [
    "model_DTC = DecisionTreeClassifier(random_state=12345)\n",
    "model_DTC.fit(features_train, target_train)\n",
    "DTC_prediction = model_DTC.predict(features_valid)\n",
    "print(confusion_matrix(target_valid, DTC_prediction))\n",
    "print()\n",
    "rec_prec_f1(target_valid, DTC_prediction)\n"
   ]
  },
  {
   "cell_type": "markdown",
   "metadata": {},
   "source": [
    "Дерево решений склонно выдавать позитивные предсказания, очень высокое количество ложных позитивных предсказания (FP)\n",
    "Изучим полноту, точность и F1-меру"
   ]
  },
  {
   "cell_type": "markdown",
   "metadata": {},
   "source": [
    "Низкое значние F1- меры свидетельствует о низком качестве модели, проблема в точности."
   ]
  },
  {
   "cell_type": "code",
   "execution_count": 56,
   "metadata": {},
   "outputs": [
    {
     "name": "stdout",
     "output_type": "stream",
     "text": [
      "[[1528   64]\n",
      " [ 207  201]]\n",
      "\n",
      "Полнота 0.49264705882352944\n",
      "Точность 0.7584905660377359\n",
      "F1-мера 0.5973254086181279\n",
      "AUC-ROC 0.7262230268992019\n"
     ]
    }
   ],
   "source": [
    "model_RFC = RandomForestClassifier(random_state=12345, n_estimators = 100)\n",
    "model_RFC.fit(features_train, target_train)\n",
    "RFC_prediction = model_RFC.predict(features_valid)\n",
    "print(confusion_matrix(target_valid, RFC_prediction))\n",
    "print()\n",
    "rec_prec_f1(target_valid, RFC_prediction)\n",
    "\n"
   ]
  },
  {
   "cell_type": "markdown",
   "metadata": {},
   "source": [
    "Случайный лес примерно равную пропорцию позитивных и негативных предсказаний, выдает заметно больше качественных предсказаний, но также сильно склоняется к ложно позитивным предсказаниям (FP)"
   ]
  },
  {
   "cell_type": "code",
   "execution_count": 57,
   "metadata": {},
   "outputs": [
    {
     "name": "stdout",
     "output_type": "stream",
     "text": [
      "Полнота 0.49264705882352944\n",
      "Точность 0.7584905660377359\n",
      "F1-мера 0.5973254086181279\n",
      "AUC-ROC 0.7262230268992019\n"
     ]
    }
   ],
   "source": [
    "rec_prec_f1(target_valid, RFC_prediction)"
   ]
  },
  {
   "cell_type": "markdown",
   "metadata": {},
   "source": [
    "Мы видим низкий уровень F1 меры. Это свидетельствует о низком качестве модели."
   ]
  },
  {
   "cell_type": "code",
   "execution_count": 58,
   "metadata": {},
   "outputs": [
    {
     "data": {
      "text/plain": [
       "array([[1538,   54],\n",
       "       [ 324,   84]])"
      ]
     },
     "execution_count": 58,
     "metadata": {},
     "output_type": "execute_result"
    }
   ],
   "source": [
    "model_LgR = LogisticRegression(solver = 'liblinear')\n",
    "model_LgR.fit(features_train, target_train)\n",
    "LgR_prediction = model_LgR.predict(features_valid)\n",
    "confusion_matrix(target_valid, LgR_prediction)"
   ]
  },
  {
   "cell_type": "markdown",
   "metadata": {},
   "source": [
    "Для логистической регрессии расчитаем метрику AUC-ROC"
   ]
  },
  {
   "cell_type": "code",
   "execution_count": 59,
   "metadata": {},
   "outputs": [
    {
     "data": {
      "text/plain": [
       "0.7875914498965415"
      ]
     },
     "execution_count": 59,
     "metadata": {},
     "output_type": "execute_result"
    }
   ],
   "source": [
    "LgR_probabilities_one_valid = model_LgR.predict_proba(features_valid)[:, 1]\n",
    "auc_roc_LgR = roc_auc_score(target_valid, LgR_probabilities_one_valid)\n",
    "auc_roc_LgR"
   ]
  },
  {
   "cell_type": "code",
   "execution_count": 60,
   "metadata": {},
   "outputs": [
    {
     "data": {
      "image/png": "[encoded data removed]",
      "text/plain": [
       "<Figure size 432x288 with 1 Axes>"
      ]
     },
     "metadata": {
      "needs_background": "light"
     },
     "output_type": "display_data"
    }
   ],
   "source": [
    "fpr, tpr, thresholds = roc_curve(target_valid, LgR_probabilities_one_valid) \n",
    "\n",
    "plt.figure()\n",
    "plt.plot(fpr, tpr)\n",
    "plt.plot([0, 1], [0, 1], linestyle='--')\n",
    "plt.xlim([0.0, 1.0])\n",
    "plt.ylim([0.0, 1.0])\n",
    "plt.xlabel('False Positive Rate')\n",
    "plt.ylabel('True Positive Rate')\n",
    "plt.title('ROC-кривая')\n",
    "plt.show()"
   ]
  },
  {
   "cell_type": "code",
   "execution_count": null,
   "metadata": {},
   "outputs": [],
   "source": []
  },
  {
   "cell_type": "code",
   "execution_count": 61,
   "metadata": {},
   "outputs": [
    {
     "name": "stdout",
     "output_type": "stream",
     "text": [
      "Score 0.733\n",
      "AUC-ROC 0.7938097349492561\n"
     ]
    },
    {
     "data": {
      "image/png": "[encoded data removed]",
      "text/plain": [
       "<Figure size 432x288 with 1 Axes>"
      ]
     },
     "metadata": {
      "needs_background": "light"
     },
     "output_type": "display_data"
    }
   ],
   "source": [
    "model_LgR = LogisticRegression(solver = 'liblinear', class_weight='balanced')\n",
    "model_LgR.fit(features_train, target_train)\n",
    "LgR_probabilities_one_valid_class_weight = model_LgR.predict_proba(features_valid)[:, 1]\n",
    "print(\"Score\", model_LgR.score(features_valid, target_valid))\n",
    "print(\"AUC-ROC\", roc_auc_score(target_valid, LgR_probabilities_one_valid_class_weight))\n",
    "\n",
    "fpr, tpr, thresholds = roc_curve(target_valid, LgR_probabilities_one_valid_class_weight) \n",
    "plt.figure()\n",
    "plt.plot(fpr, tpr)\n",
    "plt.plot([0, 1], [0, 1], linestyle='--')\n",
    "plt.xlim([0.0, 1.0])\n",
    "plt.ylim([0.0, 1.0])\n",
    "plt.xlabel('False Positive Rate')\n",
    "plt.ylabel('True Positive Rate')\n",
    "plt.title('ROC-кривая')\n",
    "plt.show()"
   ]
  },
  {
   "cell_type": "markdown",
   "metadata": {},
   "source": [
    "Точность предсказаний не улучшилась.\n",
    "\n",
    "Логистическая регрессия выдает 100% негативных предсказаний — высокая точность модели объясняется высокой долей негативных ответов в валидационной выборке.\n",
    "Перейдем к формированию сбалансированных выборок"
   ]
  },
  {
   "cell_type": "markdown",
   "metadata": {},
   "source": [
    "## Борьба с дисбалансом"
   ]
  },
  {
   "cell_type": "markdown",
   "metadata": {},
   "source": [
    "Как мы выяснили ранее в нашей выборке отрицательны ответов ≈80% , положитительных ≈ 20%.\n",
    "Нам необходмо увеличить количество положительных ответов в 4 раза для достижения баланса.\n",
    "\n",
    "- Разделим обучающую выборку на отрицательные и положительные объекты;\n",
    "- Скопируем несколько раз положительные объекты;\n",
    "- С учётом полученных данных создадим новую обучающую выборку;\n",
    "- Перемешаем данные: идущие друг за другом одинаковые вопросы не помогут обучению.\n",
    "- Обучим новые модели"
   ]
  },
  {
   "cell_type": "code",
   "execution_count": 62,
   "metadata": {},
   "outputs": [
    {
     "data": {
      "text/plain": [
       "0    0.796333\n",
       "1    0.203667\n",
       "Name: Exited, dtype: float64"
      ]
     },
     "execution_count": 62,
     "metadata": {},
     "output_type": "execute_result"
    }
   ],
   "source": [
    "target_train.value_counts(normalize = 1)"
   ]
  },
  {
   "cell_type": "markdown",
   "metadata": {},
   "source": [
    "Напишем функцию для выравнивания баланса в выборке"
   ]
  },
  {
   "cell_type": "code",
   "execution_count": 63,
   "metadata": {},
   "outputs": [],
   "source": [
    "\n",
    "def upsample(features, target, repeat, upsampled_сlass):\n",
    "    features_zeros = features[target == 0]\n",
    "    features_ones = features[target == 1]\n",
    "    target_zeros = target[target == 0]\n",
    "    target_ones = target[target == 1]\n",
    "    \n",
    "    if upsampled_сlass == 0:\n",
    "        features_upsampled = pd.concat([features_zeros]* repeat + [features_ones] )\n",
    "        target_upsampled = pd.concat([target_zeros]* repeat + [target_ones] )\n",
    "        features_upsampled, target_upsampled = shuffle(\n",
    "        features_upsampled, target_upsampled, random_state=12345)\n",
    "        \n",
    "    elif upsampled_сlass == 1:\n",
    "        features_upsampled = pd.concat([features_zeros] + [features_ones] * repeat)\n",
    "        target_upsampled = pd.concat([target_zeros] + [target_ones] * repeat)\n",
    "        features_upsampled, target_upsampled = shuffle(\n",
    "        features_upsampled, target_upsampled, random_state=12345)\n",
    "    else:\n",
    "        features_upsampled = 0\n",
    "        target_upsampled = 0  \n",
    "        \n",
    "        \n",
    "       \n",
    "    return features_upsampled, target_upsampled"
   ]
  },
  {
   "cell_type": "code",
   "execution_count": 64,
   "metadata": {},
   "outputs": [
    {
     "name": "stdout",
     "output_type": "stream",
     "text": [
      "0    0.939904\n",
      "1    0.060096\n",
      "Name: Exited, dtype: float64\n",
      "(20334,)\n"
     ]
    }
   ],
   "source": [
    "features_train_upsampled, target_train_upsampled = upsample(features_train, target_train, 4, 0)\n",
    "print(target_train_upsampled.value_counts(normalize = 1))\n",
    "print(target_train_upsampled.shape)"
   ]
  },
  {
   "cell_type": "code",
   "execution_count": 65,
   "metadata": {},
   "outputs": [
    {
     "data": {
      "text/plain": [
       "0"
      ]
     },
     "execution_count": 65,
     "metadata": {},
     "output_type": "execute_result"
    }
   ],
   "source": [
    "features_train_upsampled, target_train_upsampled = upsample(features_train, target_train, 4, 3)\n",
    "features_train_upsampled"
   ]
  },
  {
   "cell_type": "markdown",
   "metadata": {},
   "source": [
    "Увеличим количство верных тветов"
   ]
  },
  {
   "cell_type": "code",
   "execution_count": 66,
   "metadata": {},
   "outputs": [
    {
     "name": "stdout",
     "output_type": "stream",
     "text": [
      "1    0.50569\n",
      "0    0.49431\n",
      "Name: Exited, dtype: float64\n",
      "(9666,)\n"
     ]
    }
   ],
   "source": [
    "features_train_upsampled, target_train_upsampled = upsample(features_train, target_train, 4, 1)\n",
    "print(target_train_upsampled.value_counts(normalize = 1))\n",
    "print(target_train_upsampled.shape)"
   ]
  },
  {
   "cell_type": "markdown",
   "metadata": {},
   "source": [
    "**Обучение моделей на сбаланированной выборке**"
   ]
  },
  {
   "cell_type": "markdown",
   "metadata": {},
   "source": [
    "Точность моделей на обычной выборке"
   ]
  },
  {
   "cell_type": "code",
   "execution_count": 67,
   "metadata": {},
   "outputs": [
    {
     "name": "stdout",
     "output_type": "stream",
     "text": [
      "Точность:дерево решений 0.789 случайный лес  0.8645 логистческая регрессия 0.811\n"
     ]
    }
   ],
   "source": [
    "all_models_accuracy(features_train, target_train, features_valid, target_valid)"
   ]
  },
  {
   "cell_type": "markdown",
   "metadata": {},
   "source": [
    "Точность моделей на сбалансированно выборке"
   ]
  },
  {
   "cell_type": "code",
   "execution_count": 68,
   "metadata": {},
   "outputs": [
    {
     "name": "stdout",
     "output_type": "stream",
     "text": [
      "Точность:дерево решений 0.809 случайный лес  0.852 логистческая регрессия 0.7255\n"
     ]
    }
   ],
   "source": [
    "all_models_accuracy(features_train_upsampled, target_train_upsampled, features_valid, target_valid)"
   ]
  },
  {
   "cell_type": "markdown",
   "metadata": {},
   "source": [
    "Мы видим, что точность не увеличилась, а по логистической регрессии даже существенно снизилась."
   ]
  },
  {
   "cell_type": "markdown",
   "metadata": {},
   "source": [
    "Теперь мы провери качество"
   ]
  },
  {
   "cell_type": "code",
   "execution_count": 69,
   "metadata": {},
   "outputs": [
    {
     "name": "stdout",
     "output_type": "stream",
     "text": [
      "Решающее дерево\n",
      "Полнота 0.5245098039215687\n",
      "Точность 0.5323383084577115\n",
      "F1-мера 0.5283950617283951\n",
      "AUC-ROC 0.7032096758301309\n"
     ]
    }
   ],
   "source": [
    "print('Решающее дерево')\n",
    "model_DTC_upsampled = DecisionTreeClassifier(random_state=12345)\n",
    "model_DTC_upsampled.fit(features_train_upsampled, target_train_upsampled)\n",
    "DTC_prediction_upsampled = model_DTC_upsampled.predict(features_valid)\n",
    "rec_prec_f1(target_valid, DTC_prediction_upsampled)\n"
   ]
  },
  {
   "cell_type": "code",
   "execution_count": 70,
   "metadata": {},
   "outputs": [
    {
     "name": "stdout",
     "output_type": "stream",
     "text": [
      "Случайный лес\n",
      "Полнота 0.5759803921568627\n",
      "Точность 0.6564245810055865\n",
      "F1-мера 0.6135770234986945\n",
      "AUC-ROC 0.7493595428120997\n"
     ]
    }
   ],
   "source": [
    "print('Случайный лес')\n",
    "model_RFC_upsampled = RandomForestClassifier(random_state=12345, n_estimators = 100)\n",
    "model_RFC_upsampled.fit(features_train_upsampled, target_train_upsampled)\n",
    "RFC_prediction_upsampled = model_RFC_upsampled.predict(features_valid)\n",
    "rec_prec_f1(target_valid, RFC_prediction_upsampled)"
   ]
  },
  {
   "cell_type": "code",
   "execution_count": 71,
   "metadata": {},
   "outputs": [
    {
     "name": "stdout",
     "output_type": "stream",
     "text": [
      "Логистическая регрессия\n",
      "Полнота 0.7426470588235294\n",
      "Точность 0.40562248995983935\n",
      "F1-мера 0.5246753246753246\n",
      "AUC-ROC 0.7318762932308602\n"
     ]
    }
   ],
   "source": [
    "print('Логистическая регрессия')\n",
    "model_LgR_upsampled = LogisticRegression(solver = 'liblinear')\n",
    "model_LgR_upsampled.fit(features_train_upsampled, target_train_upsampled)\n",
    "LgR_prediction_upsampled = model_LgR_upsampled.predict(features_valid)\n",
    "rec_prec_f1(target_valid, LgR_prediction_upsampled)"
   ]
  },
  {
   "cell_type": "markdown",
   "metadata": {},
   "source": [
    "Показаели всех моделей улучшились.\n",
    "\n",
    "Лучшие результаты показывает алгоритм случайный лес (RandomForestClassifier). \n",
    "\n",
    "На валидационной выборке RandomForestClassifier уже показывает резульаты F1 меры = 0.61, что выше целевого целевого значения.\n",
    "Попробуем улучшить модель путем изменения параметров."
   ]
  },
  {
   "cell_type": "markdown",
   "metadata": {},
   "source": [
    "**Улучшаем модели**"
   ]
  },
  {
   "cell_type": "code",
   "execution_count": 72,
   "metadata": {},
   "outputs": [],
   "source": [
    "def RandomForestQuality(features_train, target_train, features_valid, target_valid):\n",
    "    \n",
    "    #Параметры для перебора\n",
    "    bootstrap = [True, False]\n",
    "    class_weight = ['balanced', 'balanced_subsample', None]\n",
    "    max_features = ['auto', 'sqrt', 'log2'] \n",
    "    max_depth = [] #диапазон изменения параметра мксимальной глубины каждого дерева\n",
    "    for i in range(1, 20):\n",
    "        max_depth.append(i)\n",
    "\n",
    "    #Метод itertools.product для перебора нескольких параметров\n",
    "    myproduct = product(bootstrap, class_weight, max_features, max_depth)\n",
    "    \n",
    "    #Строки, котоыре будут наполняться циклом при переборе параметров\n",
    "    bootstrap_table = []\n",
    "    class_weight_table = []\n",
    "    features_table = []\n",
    "    depth_table = []\n",
    "    f1_table = []\n",
    "    recall_table = []\n",
    "    precision_table = []\n",
    "    score_train_table = []\n",
    "    score_valid_table = []\n",
    "    \n",
    "    #Цикл перебора всех параметров: bootstrap, class_weight, max_features, max_depth\n",
    "    for p in tqdm.tqdm(myproduct,):\n",
    "        #Обучение модели\n",
    "        model_forest = RandomForestClassifier(\n",
    "            bootstrap=p[0] , class_weight= p[1], max_features = p[2], max_depth = p[3], \n",
    "            n_estimators = 10, random_state=12345)\n",
    "        model_forest.fit(features_train, target_train)\n",
    "        prediction = model_forest.predict(features_valid) #предсказание целевого признака\n",
    "        \n",
    "        #расчет параметров\n",
    "        f1 = f1_score(target_valid, prediction)\n",
    "        recall = recall_score(target_valid, prediction)\n",
    "        precision = precision_score(target_valid, prediction)\n",
    "        score_train = model_forest.score(features_train, target_train)\n",
    "        score_valid = model_forest.score(features_valid, target_valid)\n",
    "        \n",
    "        #внесение значиний параметров в строки\n",
    "        bootstrap_table.append(p[0])\n",
    "        class_weight_table.append(p[1])\n",
    "        features_table.append(p[2])\n",
    "        depth_table.append(p[3])\n",
    "\n",
    "        #внесение значений метрик в строки\n",
    "        f1_table.append(f1)\n",
    "        recall_table.append(recall)\n",
    "        precision_table.append(precision)\n",
    "        score_train_table.append(score_train)\n",
    "        score_valid_table.append(score_valid)\n",
    "               \n",
    "    \n",
    "    #Обоъединение строк в датафрем\n",
    "    quality_table = pd.DataFrame(data = (\n",
    "        bootstrap_table, class_weight_table, features_table, depth_table, \n",
    "        f1_table, recall_table, precision_table, score_train_table, score_valid_table)).T\n",
    "    quality_table.columns = (\n",
    "        'bootstrap', 'class_weight', 'max_features', 'max_depth', 'f1', 'recall', 'precision', 'score_train', 'score_valid')\n",
    "    return quality_table\n",
    "\n",
    "    \"4 параметра: features_train, target_train — признаки и целевой признак обучающей выборки\"\n",
    "    \"features_valid, target_valid — признаки и целевой признак обучающей выборки\""
   ]
  },
  {
   "cell_type": "code",
   "execution_count": 73,
   "metadata": {},
   "outputs": [
    {
     "name": "stderr",
     "output_type": "stream",
     "text": [
      "342it [01:01,  5.60it/s]"
     ]
    },
    {
     "name": "stdout",
     "output_type": "stream",
     "text": [
      "CPU times: user 59.4 s, sys: 241 ms, total: 59.6 s\n",
      "Wall time: 1min 1s\n"
     ]
    },
    {
     "name": "stderr",
     "output_type": "stream",
     "text": [
      "\n"
     ]
    }
   ],
   "source": [
    "%%time\n",
    "quality_table = RandomForestQuality(features_train_upsampled, target_train_upsampled, features_valid, target_valid)"
   ]
  },
  {
   "cell_type": "code",
   "execution_count": 74,
   "metadata": {},
   "outputs": [
    {
     "data": {
      "text/html": [
       "<div>\n",
       "<style scoped>\n",
       "    .dataframe tbody tr th:only-of-type {\n",
       "        vertical-align: middle;\n",
       "    }\n",
       "\n",
       "    .dataframe tbody tr th {\n",
       "        vertical-align: top;\n",
       "    }\n",
       "\n",
       "    .dataframe thead th {\n",
       "        text-align: right;\n",
       "    }\n",
       "</style>\n",
       "<table border=\"1\" class=\"dataframe\">\n",
       "  <thead>\n",
       "    <tr style=\"text-align: right;\">\n",
       "      <th></th>\n",
       "      <th>bootstrap</th>\n",
       "      <th>class_weight</th>\n",
       "      <th>max_features</th>\n",
       "      <th>max_depth</th>\n",
       "      <th>f1</th>\n",
       "      <th>recall</th>\n",
       "      <th>precision</th>\n",
       "      <th>score_train</th>\n",
       "      <th>score_valid</th>\n",
       "    </tr>\n",
       "  </thead>\n",
       "  <tbody>\n",
       "    <tr>\n",
       "      <td>177</td>\n",
       "      <td>False</td>\n",
       "      <td>balanced</td>\n",
       "      <td>auto</td>\n",
       "      <td>7</td>\n",
       "      <td>0.636269</td>\n",
       "      <td>0.752451</td>\n",
       "      <td>0.551167</td>\n",
       "      <td>0.813263</td>\n",
       "      <td>0.8245</td>\n",
       "    </tr>\n",
       "    <tr>\n",
       "      <td>196</td>\n",
       "      <td>False</td>\n",
       "      <td>balanced</td>\n",
       "      <td>sqrt</td>\n",
       "      <td>7</td>\n",
       "      <td>0.636269</td>\n",
       "      <td>0.752451</td>\n",
       "      <td>0.551167</td>\n",
       "      <td>0.813263</td>\n",
       "      <td>0.8245</td>\n",
       "    </tr>\n",
       "    <tr>\n",
       "      <td>272</td>\n",
       "      <td>False</td>\n",
       "      <td>balanced_subsample</td>\n",
       "      <td>log2</td>\n",
       "      <td>7</td>\n",
       "      <td>0.636269</td>\n",
       "      <td>0.752451</td>\n",
       "      <td>0.551167</td>\n",
       "      <td>0.813263</td>\n",
       "      <td>0.8245</td>\n",
       "    </tr>\n",
       "    <tr>\n",
       "      <td>253</td>\n",
       "      <td>False</td>\n",
       "      <td>balanced_subsample</td>\n",
       "      <td>sqrt</td>\n",
       "      <td>7</td>\n",
       "      <td>0.636269</td>\n",
       "      <td>0.752451</td>\n",
       "      <td>0.551167</td>\n",
       "      <td>0.813263</td>\n",
       "      <td>0.8245</td>\n",
       "    </tr>\n",
       "    <tr>\n",
       "      <td>234</td>\n",
       "      <td>False</td>\n",
       "      <td>balanced_subsample</td>\n",
       "      <td>auto</td>\n",
       "      <td>7</td>\n",
       "      <td>0.636269</td>\n",
       "      <td>0.752451</td>\n",
       "      <td>0.551167</td>\n",
       "      <td>0.813263</td>\n",
       "      <td>0.8245</td>\n",
       "    </tr>\n",
       "  </tbody>\n",
       "</table>\n",
       "</div>"
      ],
      "text/plain": [
       "    bootstrap        class_weight max_features max_depth        f1    recall  \\\n",
       "177     False            balanced         auto         7  0.636269  0.752451   \n",
       "196     False            balanced         sqrt         7  0.636269  0.752451   \n",
       "272     False  balanced_subsample         log2         7  0.636269  0.752451   \n",
       "253     False  balanced_subsample         sqrt         7  0.636269  0.752451   \n",
       "234     False  balanced_subsample         auto         7  0.636269  0.752451   \n",
       "\n",
       "    precision score_train score_valid  \n",
       "177  0.551167    0.813263      0.8245  \n",
       "196  0.551167    0.813263      0.8245  \n",
       "272  0.551167    0.813263      0.8245  \n",
       "253  0.551167    0.813263      0.8245  \n",
       "234  0.551167    0.813263      0.8245  "
      ]
     },
     "execution_count": 74,
     "metadata": {},
     "output_type": "execute_result"
    }
   ],
   "source": [
    "quality_table.query('score_valid>=score_train').sort_values('f1', ascending = False).head()"
   ]
  },
  {
   "cell_type": "markdown",
   "metadata": {},
   "source": [
    "Лучшие параметры модели:\n",
    "model = RandomForestClassifier(bootstrap = True, class_weight = 'balanced', max_depth= 7, n_estimators = 10, random_state=12345)\n",
    "\n",
    "Параметр \"max_features\" не влияет на параметры модели, оставляем параметр без изменений (default=”auto”)"
   ]
  },
  {
   "cell_type": "markdown",
   "metadata": {},
   "source": [
    "Обучим финальную модель"
   ]
  },
  {
   "cell_type": "code",
   "execution_count": 75,
   "metadata": {},
   "outputs": [
    {
     "data": {
      "text/plain": [
       "RandomForestClassifier(bootstrap=True, class_weight='balanced',\n",
       "                       criterion='gini', max_depth=7, max_features='auto',\n",
       "                       max_leaf_nodes=None, min_impurity_decrease=0.0,\n",
       "                       min_impurity_split=None, min_samples_leaf=1,\n",
       "                       min_samples_split=2, min_weight_fraction_leaf=0.0,\n",
       "                       n_estimators=100, n_jobs=None, oob_score=False,\n",
       "                       random_state=12345, verbose=0, warm_start=False)"
      ]
     },
     "execution_count": 75,
     "metadata": {},
     "output_type": "execute_result"
    }
   ],
   "source": [
    "model_RFC_final = RandomForestClassifier(\n",
    "    bootstrap = True, class_weight = 'balanced', max_depth= 7,  n_estimators = 100, random_state=12345)\n",
    "model_RFC_final.fit(features_train_upsampled, target_train_upsampled)"
   ]
  },
  {
   "cell_type": "code",
   "execution_count": 76,
   "metadata": {},
   "outputs": [
    {
     "name": "stdout",
     "output_type": "stream",
     "text": [
      "Полнота 0.7622549019607843\n",
      "Точность 0.5475352112676056\n",
      "F1-мера 0.6372950819672132\n",
      "AUC-ROC 0.8004113705783821\n"
     ]
    }
   ],
   "source": [
    "model_RFC_final_prediction = model_RFC_final.predict(features_valid)\n",
    "rec_prec_f1(target_valid, model_RFC_final_prediction)"
   ]
  },
  {
   "cell_type": "markdown",
   "metadata": {},
   "source": [
    "Проверим финальную модель на адекватность"
   ]
  },
  {
   "cell_type": "code",
   "execution_count": 77,
   "metadata": {},
   "outputs": [
    {
     "data": {
      "text/plain": [
       "0    2000\n",
       "dtype: int64"
      ]
     },
     "execution_count": 77,
     "metadata": {},
     "output_type": "execute_result"
    }
   ],
   "source": [
    "target_predict_constant = pd.Series([0]*len(target_valid))\n",
    "target_predict_constant.value_counts()"
   ]
  },
  {
   "cell_type": "code",
   "execution_count": 78,
   "metadata": {},
   "outputs": [
    {
     "name": "stdout",
     "output_type": "stream",
     "text": [
      "accuracy_score константой модели: 0.796\n",
      "accuracy_score финальной модели: 0.823\n",
      "AUC-ROC константой модели: 0.5\n",
      "AUC-ROC финальной модели: 0.8004113705783821\n"
     ]
    }
   ],
   "source": [
    "print('accuracy_score константой модели:', accuracy_score(target_valid, target_predict_constant))\n",
    "print('accuracy_score финальной модели:', accuracy_score(target_valid, model_RFC_final_prediction))\n",
    "#Дополнительно сравним AUC-ROC — единственный параметр подающийся сравнению, потому что константная подель содержит только негативные ответы\n",
    "print('AUC-ROC константой модели:', roc_auc_score(target_valid, target_predict_constant))\n",
    "print('AUC-ROC финальной модели:', roc_auc_score(target_valid, model_RFC_final_prediction))"
   ]
  },
  {
   "cell_type": "markdown",
   "metadata": {},
   "source": [
    "Финальная модель показывает результаты лучше, чем константная модель — модель можно считать адекватной."
   ]
  },
  {
   "cell_type": "markdown",
   "metadata": {},
   "source": [
    "**Вывод по результатам исследования**\n",
    "\n",
    "В первоначальные данных наблюдался значительный дисбаланс (80% ответов целевого признака были негативными и только 20% позитивными), из-за чего обученная на этих данных модель не проходила проверку на адекватность. Все модели не первоначальных данных характеризовались высокой степенью ошибок и низким качеством взвешенной величины (F1) — модели показывали низкие результаты точности и полноты.\n",
    "\n",
    "Мы устранили дисбаланс классов в обучающей выборки методом upsampling — увеличили количество значений позитивного класса в 4 раза. Так мы достигли баланса классо в обучеющей выборки: 1 = 0.50569, 0 = 0.49431.\n",
    "\n",
    "На новых данных все модели показали результат выше, чем на несбалансированной выборке. Лучшие показатели были у модели случайного леса:\n",
    "- Полнота 0.5784313725490197\n",
    "- Точность 0.6880466472303207\n",
    "- F1-мера 0.6284953395472703\n",
    "- AUC-ROC 0.755610158636319\n",
    "\n",
    "Было принято решение продолжать улучшение модели на основании алгоритма случайный лес (RandomForestClassifier)\n",
    "\n",
    "Улучшение модели происходило путем цикла выбора параметров, которые показывали наиболее высокое значение F1 меры и не приводили модель к переобучению. Изменяемые параметры: bootstrap, class_weight, max_depth от 1 до 19 Параметр n_estimators был занижен для ускорения выполнения цикла\n",
    "\n",
    "Финальные параметры выбранной модели RandomForestClassifier(bootstrap = True, class_weight = 'balanced', max_depth= 7, n_estimators = 100, random_state=12345).\n",
    "Результаты модели:\n",
    "- Полнота 0.755\n",
    "- Точность 0.549\n",
    "- F1-мера 0.636\n",
    "- AUC-ROC 0.798\n",
    "\n",
    "Финальная модель прошла проверку на адекватность в сравнении с контантной моделью: \n",
    "- accuracy_score константой модели: 0.796\n",
    "- accuracy_score финальной модели: 0.8235\n",
    "- AUC-ROC константой модели: 0.5\n",
    "- AUC-ROC финальной модели: 0.798"
   ]
  },
  {
   "cell_type": "markdown",
   "metadata": {},
   "source": [
    "## Тестирование модели"
   ]
  },
  {
   "cell_type": "code",
   "execution_count": 82,
   "metadata": {},
   "outputs": [
    {
     "name": "stdout",
     "output_type": "stream",
     "text": [
      "Полнота 0.25735294117647056\n",
      "Точность 0.1881720430107527\n",
      "F1-мера 0.21739130434782608\n",
      "AUC-ROC 0.8556029064503641\n"
     ]
    }
   ],
   "source": [
    "model_RFC_final\n",
    "model_RFC_final_prediction = model_RFC_final.predict(features_test)\n",
    "#rec_prec_f1(target_test, model_RFC_final_prediction)\n",
    "\n",
    "print(\"Полнота\" , recall_score(target_valid, model_RFC_final_prediction))\n",
    "print(\"Точность\", precision_score(target_valid, model_RFC_final_prediction))\n",
    "print(\"F1-мера\", f1_score(target_valid, model_RFC_final_prediction))\n",
    "\n",
    "probabilities_valid = model_RFC_final.predict_proba(features_test)\n",
    "probabilities_one_valid = probabilities_valid[:, 1]\n",
    "auc_roc = roc_auc_score(target_test, probabilities_one_valid)\n",
    "print('AUC-ROC', auc_roc)"
   ]
  },
  {
   "cell_type": "code",
   "execution_count": 80,
   "metadata": {},
   "outputs": [
    {
     "data": {
      "image/png": "[encoded data removed]",
      "text/plain": [
       "<Figure size 432x288 with 1 Axes>"
      ]
     },
     "metadata": {
      "needs_background": "light"
     },
     "output_type": "display_data"
    }
   ],
   "source": [
    "final_model_probabilities_one = model_LgR.predict_proba(features_test)[:, 1]\n",
    "\n",
    "fpr, tpr, thresholds = roc_curve(target_test, final_model_probabilities_one) \n",
    "\n",
    "plt.figure()\n",
    "plt.plot(fpr, tpr)\n",
    "plt.plot([0, 1], [0, 1], linestyle='--')\n",
    "plt.xlim([0.0, 1.0])\n",
    "plt.ylim([0.0, 1.0])\n",
    "plt.xlabel('False Positive Rate')\n",
    "plt.ylabel('True Positive Rate')\n",
    "plt.title('ROC-кривая')\n",
    "plt.show()"
   ]
  },
  {
   "cell_type": "markdown",
   "metadata": {},
   "source": [
    "Финальная достигла заданой метрики (F1 > 0.59) и показывает адекватные результаты.\n",
    "Модель характеризуется высоким показателем полноты = 0.715 (min = 0, max = 1), поэтому она с высокой вероятностью предскажит уход клиента из банка.\n",
    "Показатель точности не высокий = 0.54 (min = 0, max = 1) — модель верно предсказывает только половину ухода клиентов.\n",
    "С точки зрения бизнеса полученная модель поможет маркетологам лучше определять килентов, которые могут уйти в ближайшее время. Важно, что мы меньше ошибаемся в плане ложно-положительных сигналов и если мы предсказываем, то предсказание носит высокий уровень надёжности.\n"
   ]
  }
 ],
 "metadata": {
  "ExecuteTimeLog": [
   {
    "duration": 1037,
    "start_time": "2021-12-28T11:12:12.089Z"
   },
   {
    "duration": 2128,
    "start_time": "2021-12-28T11:12:13.128Z"
   },
   {
    "duration": -1101,
    "start_time": "2021-12-28T11:12:16.358Z"
   },
   {
    "duration": 28,
    "start_time": "2021-12-28T11:13:37.822Z"
   },
   {
    "duration": 21,
    "start_time": "2021-12-28T11:13:39.270Z"
   },
   {
    "duration": 87,
    "start_time": "2021-12-28T11:26:40.737Z"
   },
   {
    "duration": 22,
    "start_time": "2021-12-28T12:21:08.870Z"
   },
   {
    "duration": 8,
    "start_time": "2021-12-28T12:21:36.957Z"
   },
   {
    "duration": 4,
    "start_time": "2021-12-28T12:21:48.015Z"
   },
   {
    "duration": 4,
    "start_time": "2021-12-28T12:22:06.886Z"
   },
   {
    "duration": 5,
    "start_time": "2021-12-28T14:17:37.102Z"
   },
   {
    "duration": 4,
    "start_time": "2021-12-28T14:17:45.626Z"
   },
   {
    "duration": 4,
    "start_time": "2021-12-28T14:17:50.866Z"
   },
   {
    "duration": 5,
    "start_time": "2021-12-28T14:18:08.565Z"
   },
   {
    "duration": 8,
    "start_time": "2021-12-28T14:19:13.828Z"
   },
   {
    "duration": 2,
    "start_time": "2021-12-28T14:19:19.970Z"
   },
   {
    "duration": 28,
    "start_time": "2021-12-28T14:19:20.592Z"
   },
   {
    "duration": 19,
    "start_time": "2021-12-28T14:19:20.891Z"
   },
   {
    "duration": 8,
    "start_time": "2021-12-28T14:19:21.760Z"
   },
   {
    "duration": 143,
    "start_time": "2021-12-28T14:19:22.376Z"
   },
   {
    "duration": 7,
    "start_time": "2021-12-28T14:19:22.972Z"
   },
   {
    "duration": 5,
    "start_time": "2021-12-28T14:20:27.740Z"
   },
   {
    "duration": 5,
    "start_time": "2021-12-28T14:20:34.868Z"
   },
   {
    "duration": 6,
    "start_time": "2021-12-28T14:21:50.346Z"
   },
   {
    "duration": 11,
    "start_time": "2021-12-28T15:03:38.974Z"
   },
   {
    "duration": 13,
    "start_time": "2021-12-28T15:03:44.814Z"
   },
   {
    "duration": 165,
    "start_time": "2021-12-28T19:36:05.676Z"
   },
   {
    "duration": 312,
    "start_time": "2021-12-28T19:37:14.812Z"
   },
   {
    "duration": 1486,
    "start_time": "2021-12-28T19:37:23.518Z"
   },
   {
    "duration": 37,
    "start_time": "2021-12-28T19:37:25.007Z"
   },
   {
    "duration": 46,
    "start_time": "2021-12-28T19:37:25.048Z"
   },
   {
    "duration": 12,
    "start_time": "2021-12-28T19:37:25.729Z"
   },
   {
    "duration": 27,
    "start_time": "2021-12-28T19:37:26.877Z"
   },
   {
    "duration": 6,
    "start_time": "2021-12-28T19:52:20.353Z"
   },
   {
    "duration": 9,
    "start_time": "2021-12-28T19:52:24.688Z"
   },
   {
    "duration": 33,
    "start_time": "2021-12-28T19:52:37.166Z"
   },
   {
    "duration": 34,
    "start_time": "2021-12-28T19:53:35.185Z"
   },
   {
    "duration": 104,
    "start_time": "2021-12-28T19:55:45.898Z"
   },
   {
    "duration": 88,
    "start_time": "2021-12-28T20:01:41.722Z"
   },
   {
    "duration": 342,
    "start_time": "2021-12-28T20:01:47.656Z"
   },
   {
    "duration": 7,
    "start_time": "2021-12-28T20:03:31.746Z"
   },
   {
    "duration": 98,
    "start_time": "2021-12-28T20:03:32.886Z"
   },
   {
    "duration": 18,
    "start_time": "2021-12-28T20:03:39.951Z"
   },
   {
    "duration": 14,
    "start_time": "2021-12-28T20:03:49.862Z"
   },
   {
    "duration": 14,
    "start_time": "2021-12-28T20:03:50.985Z"
   },
   {
    "duration": 79,
    "start_time": "2021-12-28T20:07:51.311Z"
   },
   {
    "duration": 91,
    "start_time": "2021-12-28T20:10:17.348Z"
   },
   {
    "duration": 495,
    "start_time": "2021-12-28T20:12:25.453Z"
   },
   {
    "duration": 5,
    "start_time": "2021-12-28T20:12:30.681Z"
   },
   {
    "duration": 281,
    "start_time": "2021-12-28T20:12:31.572Z"
   },
   {
    "duration": 6,
    "start_time": "2021-12-28T20:12:40.262Z"
   },
   {
    "duration": 14,
    "start_time": "2021-12-28T20:12:41.016Z"
   },
   {
    "duration": 14,
    "start_time": "2021-12-28T20:12:41.886Z"
   },
   {
    "duration": 4,
    "start_time": "2021-12-28T20:12:43.093Z"
   },
   {
    "duration": 39,
    "start_time": "2021-12-28T20:12:43.682Z"
   },
   {
    "duration": 101,
    "start_time": "2021-12-29T09:04:54.631Z"
   },
   {
    "duration": 1201,
    "start_time": "2021-12-29T09:09:58.947Z"
   },
   {
    "duration": 29,
    "start_time": "2021-12-29T09:10:00.150Z"
   },
   {
    "duration": 21,
    "start_time": "2021-12-29T09:10:00.959Z"
   },
   {
    "duration": 8,
    "start_time": "2021-12-29T09:10:01.967Z"
   },
   {
    "duration": 13,
    "start_time": "2021-12-29T09:10:02.779Z"
   },
   {
    "duration": 17,
    "start_time": "2021-12-29T09:10:04.355Z"
   },
   {
    "duration": 19,
    "start_time": "2021-12-29T09:10:05.186Z"
   },
   {
    "duration": 5,
    "start_time": "2021-12-29T09:10:06.926Z"
   },
   {
    "duration": 9,
    "start_time": "2021-12-29T09:10:08.327Z"
   },
   {
    "duration": 6,
    "start_time": "2021-12-29T09:10:09.239Z"
   },
   {
    "duration": 3,
    "start_time": "2021-12-29T09:10:10.659Z"
   },
   {
    "duration": 24,
    "start_time": "2021-12-29T09:10:11.047Z"
   },
   {
    "duration": 4,
    "start_time": "2021-12-29T09:11:34.946Z"
   },
   {
    "duration": 751,
    "start_time": "2021-12-29T09:11:35.479Z"
   },
   {
    "duration": 1624,
    "start_time": "2021-12-29T14:54:51.385Z"
   },
   {
    "duration": 38,
    "start_time": "2021-12-29T14:54:53.011Z"
   },
   {
    "duration": 39,
    "start_time": "2021-12-29T14:54:53.956Z"
   },
   {
    "duration": 12,
    "start_time": "2021-12-29T14:54:55.456Z"
   },
   {
    "duration": 20,
    "start_time": "2021-12-29T14:54:56.764Z"
   },
   {
    "duration": 45,
    "start_time": "2021-12-29T14:54:59.178Z"
   },
   {
    "duration": 49,
    "start_time": "2021-12-29T14:55:00.625Z"
   },
   {
    "duration": 9,
    "start_time": "2021-12-29T14:55:02.696Z"
   },
   {
    "duration": 15,
    "start_time": "2021-12-29T14:55:03.724Z"
   },
   {
    "duration": 11,
    "start_time": "2021-12-29T14:55:04.864Z"
   },
   {
    "duration": 4,
    "start_time": "2021-12-29T14:55:06.351Z"
   },
   {
    "duration": 60,
    "start_time": "2021-12-29T14:55:06.964Z"
   },
   {
    "duration": 6,
    "start_time": "2021-12-29T14:55:09.544Z"
   },
   {
    "duration": 671,
    "start_time": "2021-12-29T14:55:13.344Z"
   },
   {
    "duration": 8,
    "start_time": "2021-12-29T14:57:25.084Z"
   },
   {
    "duration": 42,
    "start_time": "2021-12-29T14:57:26.084Z"
   },
   {
    "duration": 32,
    "start_time": "2021-12-29T14:57:26.884Z"
   },
   {
    "duration": 13,
    "start_time": "2021-12-29T14:57:28.303Z"
   },
   {
    "duration": 30,
    "start_time": "2021-12-29T14:57:30.104Z"
   },
   {
    "duration": 42,
    "start_time": "2021-12-29T14:57:33.452Z"
   },
   {
    "duration": 36,
    "start_time": "2021-12-29T14:57:34.176Z"
   },
   {
    "duration": 8,
    "start_time": "2021-12-29T14:57:35.455Z"
   },
   {
    "duration": 13,
    "start_time": "2021-12-29T14:57:36.225Z"
   },
   {
    "duration": 11,
    "start_time": "2021-12-29T14:57:36.896Z"
   },
   {
    "duration": 3,
    "start_time": "2021-12-29T14:57:38.096Z"
   },
   {
    "duration": 54,
    "start_time": "2021-12-29T14:57:38.485Z"
   },
   {
    "duration": 8,
    "start_time": "2021-12-29T14:57:40.624Z"
   },
   {
    "duration": 1690,
    "start_time": "2021-12-29T14:57:41.283Z"
   },
   {
    "duration": 6,
    "start_time": "2021-12-29T14:58:15.064Z"
   },
   {
    "duration": 1146,
    "start_time": "2021-12-29T14:58:15.536Z"
   },
   {
    "duration": 16,
    "start_time": "2021-12-29T14:58:58.464Z"
   },
   {
    "duration": 13,
    "start_time": "2021-12-29T14:59:18.015Z"
   },
   {
    "duration": 78,
    "start_time": "2021-12-29T15:16:40.523Z"
   },
   {
    "duration": 8,
    "start_time": "2021-12-29T15:17:40.763Z"
   },
   {
    "duration": 1145,
    "start_time": "2021-12-29T15:17:48.231Z"
   },
   {
    "duration": 7,
    "start_time": "2021-12-29T15:28:06.271Z"
   },
   {
    "duration": 1428,
    "start_time": "2021-12-29T15:28:06.771Z"
   },
   {
    "duration": 7,
    "start_time": "2021-12-29T15:29:47.258Z"
   },
   {
    "duration": 1055,
    "start_time": "2021-12-29T15:29:47.922Z"
   },
   {
    "duration": 7,
    "start_time": "2021-12-29T15:30:57.110Z"
   },
   {
    "duration": 1236,
    "start_time": "2021-12-29T15:30:57.730Z"
   },
   {
    "duration": 8,
    "start_time": "2021-12-29T15:33:58.136Z"
   },
   {
    "duration": 243,
    "start_time": "2021-12-29T15:40:23.569Z"
   },
   {
    "duration": 7,
    "start_time": "2021-12-29T15:40:30.477Z"
   },
   {
    "duration": 1135,
    "start_time": "2021-12-29T15:40:31.429Z"
   },
   {
    "duration": 257,
    "start_time": "2021-12-29T15:40:36.069Z"
   },
   {
    "duration": 252,
    "start_time": "2021-12-29T15:41:02.093Z"
   },
   {
    "duration": 7,
    "start_time": "2021-12-29T15:41:43.346Z"
   },
   {
    "duration": 1917,
    "start_time": "2021-12-29T15:41:44.329Z"
   },
   {
    "duration": 8,
    "start_time": "2021-12-29T15:42:14.045Z"
   },
   {
    "duration": 1147,
    "start_time": "2021-12-29T15:42:15.717Z"
   },
   {
    "duration": 9,
    "start_time": "2021-12-29T15:43:06.377Z"
   },
   {
    "duration": 1286,
    "start_time": "2021-12-29T15:43:06.928Z"
   },
   {
    "duration": 6,
    "start_time": "2021-12-29T15:43:16.330Z"
   },
   {
    "duration": 80,
    "start_time": "2021-12-29T15:44:06.342Z"
   },
   {
    "duration": -357,
    "start_time": "2021-12-29T15:44:06.782Z"
   },
   {
    "duration": 9,
    "start_time": "2021-12-29T15:44:10.750Z"
   },
   {
    "duration": 1645,
    "start_time": "2021-12-29T15:44:12.864Z"
   },
   {
    "duration": 9,
    "start_time": "2021-12-29T15:45:37.364Z"
   },
   {
    "duration": 1916,
    "start_time": "2021-12-29T15:45:37.888Z"
   },
   {
    "duration": 9,
    "start_time": "2021-12-29T15:45:50.597Z"
   },
   {
    "duration": 9,
    "start_time": "2021-12-29T15:46:08.736Z"
   },
   {
    "duration": 1459,
    "start_time": "2021-12-29T15:46:09.208Z"
   },
   {
    "duration": 315,
    "start_time": "2021-12-30T14:07:30.451Z"
   },
   {
    "duration": 1472,
    "start_time": "2021-12-30T14:07:47.979Z"
   },
   {
    "duration": 41,
    "start_time": "2021-12-30T14:07:49.454Z"
   },
   {
    "duration": 44,
    "start_time": "2021-12-30T14:07:49.498Z"
   },
   {
    "duration": 13,
    "start_time": "2021-12-30T14:07:49.562Z"
   },
   {
    "duration": 24,
    "start_time": "2021-12-30T14:07:49.852Z"
   },
   {
    "duration": 31,
    "start_time": "2021-12-30T14:07:50.583Z"
   },
   {
    "duration": 39,
    "start_time": "2021-12-30T14:07:50.932Z"
   },
   {
    "duration": 9,
    "start_time": "2021-12-30T14:07:51.631Z"
   },
   {
    "duration": 13,
    "start_time": "2021-12-30T14:07:52.003Z"
   },
   {
    "duration": 14,
    "start_time": "2021-12-30T14:07:52.403Z"
   },
   {
    "duration": 5,
    "start_time": "2021-12-30T14:07:53.004Z"
   },
   {
    "duration": 60,
    "start_time": "2021-12-30T14:07:53.231Z"
   },
   {
    "duration": 8,
    "start_time": "2021-12-30T14:07:54.232Z"
   },
   {
    "duration": 1253,
    "start_time": "2021-12-30T14:07:54.411Z"
   },
   {
    "duration": 101,
    "start_time": "2021-12-30T14:07:55.667Z"
   },
   {
    "duration": 8,
    "start_time": "2021-12-30T14:07:55.771Z"
   },
   {
    "duration": 9,
    "start_time": "2021-12-30T14:07:56.652Z"
   },
   {
    "duration": 1372,
    "start_time": "2021-12-30T14:07:57.599Z"
   },
   {
    "duration": 88,
    "start_time": "2021-12-30T14:07:58.976Z"
   },
   {
    "duration": 62,
    "start_time": "2021-12-30T14:07:59.664Z"
   },
   {
    "duration": 4,
    "start_time": "2021-12-30T14:09:25.083Z"
   },
   {
    "duration": 16,
    "start_time": "2021-12-30T14:09:25.783Z"
   },
   {
    "duration": 1017,
    "start_time": "2021-12-30T14:10:01.223Z"
   },
   {
    "duration": 1014,
    "start_time": "2021-12-30T14:10:18.552Z"
   },
   {
    "duration": 1010,
    "start_time": "2021-12-30T14:10:32.031Z"
   },
   {
    "duration": 59,
    "start_time": "2021-12-30T14:11:03.872Z"
   },
   {
    "duration": 64,
    "start_time": "2021-12-30T14:11:22.971Z"
   },
   {
    "duration": 1000,
    "start_time": "2021-12-30T14:11:27.744Z"
   },
   {
    "duration": 223,
    "start_time": "2022-01-02T13:11:27.356Z"
   },
   {
    "duration": 1082,
    "start_time": "2022-01-02T13:11:33.982Z"
   },
   {
    "duration": 30,
    "start_time": "2022-01-02T13:11:35.065Z"
   },
   {
    "duration": 22,
    "start_time": "2022-01-02T13:11:35.096Z"
   },
   {
    "duration": 24,
    "start_time": "2022-01-02T13:11:35.120Z"
   },
   {
    "duration": 24,
    "start_time": "2022-01-02T13:11:35.146Z"
   },
   {
    "duration": 18,
    "start_time": "2022-01-02T13:11:35.172Z"
   },
   {
    "duration": 23,
    "start_time": "2022-01-02T13:11:35.192Z"
   },
   {
    "duration": 11,
    "start_time": "2022-01-02T13:11:35.218Z"
   },
   {
    "duration": 19,
    "start_time": "2022-01-02T13:11:35.231Z"
   },
   {
    "duration": 29,
    "start_time": "2022-01-02T13:11:35.251Z"
   },
   {
    "duration": 13,
    "start_time": "2022-01-02T13:11:35.281Z"
   },
   {
    "duration": 38,
    "start_time": "2022-01-02T13:11:35.296Z"
   },
   {
    "duration": 7,
    "start_time": "2022-01-02T13:11:35.336Z"
   },
   {
    "duration": 706,
    "start_time": "2022-01-02T13:11:35.345Z"
   },
   {
    "duration": 100,
    "start_time": "2022-01-02T13:11:36.142Z"
   },
   {
    "duration": 8,
    "start_time": "2022-01-02T13:11:36.244Z"
   },
   {
    "duration": 6,
    "start_time": "2022-01-02T13:11:36.253Z"
   },
   {
    "duration": 915,
    "start_time": "2022-01-02T13:11:36.260Z"
   },
   {
    "duration": 69,
    "start_time": "2022-01-02T13:11:37.177Z"
   },
   {
    "duration": 98,
    "start_time": "2022-01-02T13:11:37.248Z"
   },
   {
    "duration": 41,
    "start_time": "2022-01-02T13:11:37.348Z"
   },
   {
    "duration": 624,
    "start_time": "2022-01-02T13:11:37.390Z"
   },
   {
    "duration": 10,
    "start_time": "2022-01-02T13:11:38.016Z"
   },
   {
    "duration": 23,
    "start_time": "2022-01-02T13:23:19.595Z"
   },
   {
    "duration": 10,
    "start_time": "2022-01-02T13:24:34.426Z"
   },
   {
    "duration": 146,
    "start_time": "2022-01-02T13:24:43.270Z"
   },
   {
    "duration": 10,
    "start_time": "2022-01-02T13:25:33.566Z"
   },
   {
    "duration": 299,
    "start_time": "2022-01-02T13:26:24.788Z"
   },
   {
    "duration": 1105,
    "start_time": "2022-01-02T13:45:52.869Z"
   },
   {
    "duration": 30,
    "start_time": "2022-01-02T13:45:53.976Z"
   },
   {
    "duration": 21,
    "start_time": "2022-01-02T13:45:54.010Z"
   },
   {
    "duration": 14,
    "start_time": "2022-01-02T13:45:54.032Z"
   },
   {
    "duration": 14,
    "start_time": "2022-01-02T13:45:54.048Z"
   },
   {
    "duration": 16,
    "start_time": "2022-01-02T13:45:54.064Z"
   },
   {
    "duration": 21,
    "start_time": "2022-01-02T13:45:54.082Z"
   },
   {
    "duration": 5,
    "start_time": "2022-01-02T13:45:54.105Z"
   },
   {
    "duration": 38,
    "start_time": "2022-01-02T13:45:54.111Z"
   },
   {
    "duration": 9,
    "start_time": "2022-01-02T13:45:54.151Z"
   },
   {
    "duration": 7,
    "start_time": "2022-01-02T13:45:54.161Z"
   },
   {
    "duration": 30,
    "start_time": "2022-01-02T13:45:54.169Z"
   },
   {
    "duration": 4,
    "start_time": "2022-01-02T13:45:54.201Z"
   },
   {
    "duration": 735,
    "start_time": "2022-01-02T13:45:54.206Z"
   },
   {
    "duration": 100,
    "start_time": "2022-01-02T13:45:54.943Z"
   },
   {
    "duration": 5,
    "start_time": "2022-01-02T13:45:55.045Z"
   },
   {
    "duration": 6,
    "start_time": "2022-01-02T13:45:55.052Z"
   },
   {
    "duration": 912,
    "start_time": "2022-01-02T13:45:55.059Z"
   },
   {
    "duration": 7,
    "start_time": "2022-01-02T13:45:56.042Z"
   },
   {
    "duration": 95,
    "start_time": "2022-01-02T13:45:56.051Z"
   },
   {
    "duration": 50,
    "start_time": "2022-01-02T13:45:56.148Z"
   },
   {
    "duration": 650,
    "start_time": "2022-01-02T13:45:56.200Z"
   },
   {
    "duration": 11,
    "start_time": "2022-01-02T13:45:56.852Z"
   },
   {
    "duration": 78,
    "start_time": "2022-01-02T13:45:56.865Z"
   },
   {
    "duration": 102,
    "start_time": "2022-01-02T13:45:56.945Z"
   },
   {
    "duration": 255,
    "start_time": "2022-01-02T13:45:57.051Z"
   },
   {
    "duration": 379,
    "start_time": "2022-01-02T13:45:57.307Z"
   },
   {
    "duration": 7,
    "start_time": "2022-01-02T13:46:55.981Z"
   },
   {
    "duration": 110,
    "start_time": "2022-01-02T13:47:03.482Z"
   },
   {
    "duration": 222,
    "start_time": "2022-01-02T13:47:10.109Z"
   },
   {
    "duration": 146,
    "start_time": "2022-01-02T13:47:16.236Z"
   },
   {
    "duration": 5,
    "start_time": "2022-01-02T13:52:37.934Z"
   },
   {
    "duration": 17,
    "start_time": "2022-01-02T13:52:38.304Z"
   },
   {
    "duration": 9,
    "start_time": "2022-01-02T13:52:51.616Z"
   },
   {
    "duration": 16,
    "start_time": "2022-01-02T13:53:36.870Z"
   },
   {
    "duration": 465,
    "start_time": "2022-01-02T13:53:47.854Z"
   },
   {
    "duration": 15,
    "start_time": "2022-01-02T13:53:53.060Z"
   },
   {
    "duration": 69,
    "start_time": "2022-01-02T13:54:32.377Z"
   },
   {
    "duration": 775,
    "start_time": "2022-01-02T13:55:22.467Z"
   },
   {
    "duration": 72,
    "start_time": "2022-01-02T13:56:07.299Z"
   },
   {
    "duration": 1063,
    "start_time": "2022-01-02T13:56:22.897Z"
   },
   {
    "duration": 45,
    "start_time": "2022-01-02T13:57:50.651Z"
   },
   {
    "duration": 1007,
    "start_time": "2022-01-02T13:58:00.436Z"
   },
   {
    "duration": 95,
    "start_time": "2022-01-02T13:58:07.354Z"
   },
   {
    "duration": 45,
    "start_time": "2022-01-02T13:58:49.743Z"
   },
   {
    "duration": 900,
    "start_time": "2022-01-02T13:58:50.540Z"
   },
   {
    "duration": 54,
    "start_time": "2022-01-02T13:58:51.494Z"
   },
   {
    "duration": 60,
    "start_time": "2022-01-02T13:59:59.087Z"
   },
   {
    "duration": 1139,
    "start_time": "2022-01-02T14:01:33.864Z"
   },
   {
    "duration": 32,
    "start_time": "2022-01-02T14:01:35.005Z"
   },
   {
    "duration": 24,
    "start_time": "2022-01-02T14:01:35.039Z"
   },
   {
    "duration": 10,
    "start_time": "2022-01-02T14:01:35.065Z"
   },
   {
    "duration": 17,
    "start_time": "2022-01-02T14:01:35.076Z"
   },
   {
    "duration": 20,
    "start_time": "2022-01-02T14:01:35.094Z"
   },
   {
    "duration": 41,
    "start_time": "2022-01-02T14:01:35.116Z"
   },
   {
    "duration": 5,
    "start_time": "2022-01-02T14:01:35.159Z"
   },
   {
    "duration": 15,
    "start_time": "2022-01-02T14:01:35.166Z"
   },
   {
    "duration": 7,
    "start_time": "2022-01-02T14:01:35.183Z"
   },
   {
    "duration": 8,
    "start_time": "2022-01-02T14:01:35.191Z"
   },
   {
    "duration": 50,
    "start_time": "2022-01-02T14:01:35.201Z"
   },
   {
    "duration": 5,
    "start_time": "2022-01-02T14:01:35.253Z"
   },
   {
    "duration": 784,
    "start_time": "2022-01-02T14:01:35.260Z"
   },
   {
    "duration": 100,
    "start_time": "2022-01-02T14:01:36.046Z"
   },
   {
    "duration": 14,
    "start_time": "2022-01-02T14:01:36.147Z"
   },
   {
    "duration": 41,
    "start_time": "2022-01-02T14:01:36.163Z"
   },
   {
    "duration": 969,
    "start_time": "2022-01-02T14:01:36.206Z"
   },
   {
    "duration": 68,
    "start_time": "2022-01-02T14:01:37.177Z"
   },
   {
    "duration": 118,
    "start_time": "2022-01-02T14:01:37.250Z"
   },
   {
    "duration": 64,
    "start_time": "2022-01-02T14:01:37.370Z"
   },
   {
    "duration": 630,
    "start_time": "2022-01-02T14:01:37.436Z"
   },
   {
    "duration": 10,
    "start_time": "2022-01-02T14:01:38.068Z"
   },
   {
    "duration": 63,
    "start_time": "2022-01-02T14:01:38.080Z"
   },
   {
    "duration": 105,
    "start_time": "2022-01-02T14:01:38.145Z"
   },
   {
    "duration": 257,
    "start_time": "2022-01-02T14:01:38.343Z"
   },
   {
    "duration": 381,
    "start_time": "2022-01-02T14:01:38.604Z"
   },
   {
    "duration": 6,
    "start_time": "2022-01-02T14:01:38.988Z"
   },
   {
    "duration": 6,
    "start_time": "2022-01-02T14:01:38.996Z"
   },
   {
    "duration": 38,
    "start_time": "2022-01-02T14:01:39.004Z"
   },
   {
    "duration": 8,
    "start_time": "2022-01-02T14:01:39.044Z"
   },
   {
    "duration": 14,
    "start_time": "2022-01-02T14:01:39.054Z"
   },
   {
    "duration": 693,
    "start_time": "2022-01-02T14:01:39.070Z"
   },
   {
    "duration": 1175,
    "start_time": "2022-01-02T14:01:39.765Z"
   },
   {
    "duration": 100,
    "start_time": "2022-01-02T14:01:40.943Z"
   },
   {
    "duration": -1659,
    "start_time": "2022-01-02T14:01:42.704Z"
   },
   {
    "duration": -1659,
    "start_time": "2022-01-02T14:01:42.705Z"
   },
   {
    "duration": -1660,
    "start_time": "2022-01-02T14:01:42.707Z"
   },
   {
    "duration": 10,
    "start_time": "2022-01-02T14:04:36.706Z"
   },
   {
    "duration": 35815,
    "start_time": "2022-01-02T14:04:43.071Z"
   },
   {
    "duration": 15,
    "start_time": "2022-01-02T14:11:56.253Z"
   },
   {
    "duration": 1083,
    "start_time": "2022-01-02T14:13:32.093Z"
   },
   {
    "duration": 31,
    "start_time": "2022-01-02T14:13:33.178Z"
   },
   {
    "duration": 23,
    "start_time": "2022-01-02T14:13:33.211Z"
   },
   {
    "duration": 8,
    "start_time": "2022-01-02T14:13:33.241Z"
   },
   {
    "duration": 15,
    "start_time": "2022-01-02T14:13:33.251Z"
   },
   {
    "duration": 18,
    "start_time": "2022-01-02T14:13:33.268Z"
   },
   {
    "duration": 20,
    "start_time": "2022-01-02T14:13:33.287Z"
   },
   {
    "duration": 35,
    "start_time": "2022-01-02T14:13:33.309Z"
   },
   {
    "duration": 10,
    "start_time": "2022-01-02T14:13:33.347Z"
   },
   {
    "duration": 8,
    "start_time": "2022-01-02T14:13:33.359Z"
   },
   {
    "duration": 2,
    "start_time": "2022-01-02T14:13:33.369Z"
   },
   {
    "duration": 25,
    "start_time": "2022-01-02T14:13:33.373Z"
   },
   {
    "duration": 4,
    "start_time": "2022-01-02T14:13:33.400Z"
   },
   {
    "duration": 748,
    "start_time": "2022-01-02T14:13:33.406Z"
   },
   {
    "duration": 92,
    "start_time": "2022-01-02T14:13:34.155Z"
   },
   {
    "duration": 96,
    "start_time": "2022-01-02T14:13:34.249Z"
   },
   {
    "duration": 9,
    "start_time": "2022-01-02T14:13:34.347Z"
   },
   {
    "duration": 908,
    "start_time": "2022-01-02T14:13:34.358Z"
   },
   {
    "duration": 77,
    "start_time": "2022-01-02T14:13:35.268Z"
   },
   {
    "duration": 95,
    "start_time": "2022-01-02T14:13:35.347Z"
   },
   {
    "duration": 54,
    "start_time": "2022-01-02T14:13:35.444Z"
   },
   {
    "duration": 606,
    "start_time": "2022-01-02T14:13:35.500Z"
   },
   {
    "duration": 10,
    "start_time": "2022-01-02T14:13:36.108Z"
   },
   {
    "duration": 41,
    "start_time": "2022-01-02T14:13:36.120Z"
   },
   {
    "duration": 101,
    "start_time": "2022-01-02T14:13:36.242Z"
   },
   {
    "duration": 244,
    "start_time": "2022-01-02T14:13:36.345Z"
   },
   {
    "duration": 406,
    "start_time": "2022-01-02T14:13:36.592Z"
   },
   {
    "duration": 6,
    "start_time": "2022-01-02T14:13:37.000Z"
   },
   {
    "duration": 7,
    "start_time": "2022-01-02T14:13:37.008Z"
   },
   {
    "duration": 30,
    "start_time": "2022-01-02T14:13:37.016Z"
   },
   {
    "duration": 8,
    "start_time": "2022-01-02T14:13:37.047Z"
   },
   {
    "duration": 12,
    "start_time": "2022-01-02T14:13:37.056Z"
   },
   {
    "duration": 683,
    "start_time": "2022-01-02T14:13:37.070Z"
   },
   {
    "duration": 1288,
    "start_time": "2022-01-02T14:13:37.754Z"
   },
   {
    "duration": 98,
    "start_time": "2022-01-02T14:13:39.045Z"
   },
   {
    "duration": -1673,
    "start_time": "2022-01-02T14:13:40.819Z"
   },
   {
    "duration": -1678,
    "start_time": "2022-01-02T14:13:40.825Z"
   },
   {
    "duration": -1681,
    "start_time": "2022-01-02T14:13:40.829Z"
   },
   {
    "duration": -1684,
    "start_time": "2022-01-02T14:13:40.833Z"
   },
   {
    "duration": -1750,
    "start_time": "2022-01-02T14:13:40.900Z"
   },
   {
    "duration": -1752,
    "start_time": "2022-01-02T14:13:40.903Z"
   },
   {
    "duration": 1069,
    "start_time": "2022-01-02T14:14:07.078Z"
   },
   {
    "duration": 30,
    "start_time": "2022-01-02T14:14:08.149Z"
   },
   {
    "duration": 21,
    "start_time": "2022-01-02T14:14:08.183Z"
   },
   {
    "duration": 7,
    "start_time": "2022-01-02T14:14:08.205Z"
   },
   {
    "duration": 27,
    "start_time": "2022-01-02T14:14:08.214Z"
   },
   {
    "duration": 16,
    "start_time": "2022-01-02T14:14:08.242Z"
   },
   {
    "duration": 19,
    "start_time": "2022-01-02T14:14:08.260Z"
   },
   {
    "duration": 5,
    "start_time": "2022-01-02T14:14:08.281Z"
   },
   {
    "duration": 8,
    "start_time": "2022-01-02T14:14:08.288Z"
   },
   {
    "duration": 6,
    "start_time": "2022-01-02T14:14:08.297Z"
   },
   {
    "duration": 6,
    "start_time": "2022-01-02T14:14:08.304Z"
   },
   {
    "duration": 23,
    "start_time": "2022-01-02T14:14:08.341Z"
   },
   {
    "duration": 3,
    "start_time": "2022-01-02T14:14:08.365Z"
   },
   {
    "duration": 681,
    "start_time": "2022-01-02T14:14:08.370Z"
   },
   {
    "duration": 99,
    "start_time": "2022-01-02T14:14:09.143Z"
   },
   {
    "duration": 8,
    "start_time": "2022-01-02T14:14:09.244Z"
   },
   {
    "duration": 6,
    "start_time": "2022-01-02T14:14:09.253Z"
   },
   {
    "duration": 888,
    "start_time": "2022-01-02T14:14:09.261Z"
   },
   {
    "duration": 190,
    "start_time": "2022-01-02T14:14:10.152Z"
   },
   {
    "duration": 4,
    "start_time": "2022-01-02T14:14:10.344Z"
   },
   {
    "duration": 41,
    "start_time": "2022-01-02T14:14:10.350Z"
   },
   {
    "duration": 632,
    "start_time": "2022-01-02T14:14:10.394Z"
   },
   {
    "duration": 17,
    "start_time": "2022-01-02T14:14:11.028Z"
   },
   {
    "duration": 20,
    "start_time": "2022-01-02T14:14:11.046Z"
   },
   {
    "duration": 80,
    "start_time": "2022-01-02T14:14:11.068Z"
   },
   {
    "duration": 338,
    "start_time": "2022-01-02T14:14:11.150Z"
   },
   {
    "duration": 367,
    "start_time": "2022-01-02T14:14:11.490Z"
   },
   {
    "duration": 7,
    "start_time": "2022-01-02T14:14:11.859Z"
   },
   {
    "duration": 7,
    "start_time": "2022-01-02T14:14:11.867Z"
   },
   {
    "duration": 19,
    "start_time": "2022-01-02T14:14:11.875Z"
   },
   {
    "duration": 8,
    "start_time": "2022-01-02T14:14:11.896Z"
   },
   {
    "duration": 43,
    "start_time": "2022-01-02T14:14:11.905Z"
   },
   {
    "duration": 706,
    "start_time": "2022-01-02T14:14:11.950Z"
   },
   {
    "duration": 1086,
    "start_time": "2022-01-02T14:14:12.659Z"
   },
   {
    "duration": 221,
    "start_time": "2022-01-02T14:14:13.747Z"
   },
   {
    "duration": 872,
    "start_time": "2022-01-02T14:14:13.969Z"
   },
   {
    "duration": 100,
    "start_time": "2022-01-02T14:14:14.843Z"
   },
   {
    "duration": 98,
    "start_time": "2022-01-02T14:14:14.945Z"
   },
   {
    "duration": 35387,
    "start_time": "2022-01-02T14:14:15.045Z"
   },
   {
    "duration": 16,
    "start_time": "2022-01-02T14:14:50.434Z"
   },
   {
    "duration": 1101,
    "start_time": "2022-01-02T14:16:06.167Z"
   },
   {
    "duration": 30,
    "start_time": "2022-01-02T14:16:07.270Z"
   },
   {
    "duration": 25,
    "start_time": "2022-01-02T14:16:07.302Z"
   },
   {
    "duration": 27,
    "start_time": "2022-01-02T14:16:07.329Z"
   },
   {
    "duration": 14,
    "start_time": "2022-01-02T14:16:07.358Z"
   },
   {
    "duration": 19,
    "start_time": "2022-01-02T14:16:07.374Z"
   },
   {
    "duration": 21,
    "start_time": "2022-01-02T14:16:07.394Z"
   },
   {
    "duration": 25,
    "start_time": "2022-01-02T14:16:07.416Z"
   },
   {
    "duration": 10,
    "start_time": "2022-01-02T14:16:07.444Z"
   },
   {
    "duration": 7,
    "start_time": "2022-01-02T14:16:07.456Z"
   },
   {
    "duration": 3,
    "start_time": "2022-01-02T14:16:07.465Z"
   },
   {
    "duration": 25,
    "start_time": "2022-01-02T14:16:07.469Z"
   },
   {
    "duration": 5,
    "start_time": "2022-01-02T14:16:07.496Z"
   },
   {
    "duration": 744,
    "start_time": "2022-01-02T14:16:07.502Z"
   },
   {
    "duration": 100,
    "start_time": "2022-01-02T14:16:08.248Z"
   },
   {
    "duration": 5,
    "start_time": "2022-01-02T14:16:08.350Z"
   },
   {
    "duration": 7,
    "start_time": "2022-01-02T14:16:08.356Z"
   },
   {
    "duration": 908,
    "start_time": "2022-01-02T14:16:08.364Z"
   },
   {
    "duration": 99,
    "start_time": "2022-01-02T14:16:09.342Z"
   },
   {
    "duration": 23,
    "start_time": "2022-01-02T14:16:09.443Z"
   },
   {
    "duration": 76,
    "start_time": "2022-01-02T14:16:09.468Z"
   },
   {
    "duration": 635,
    "start_time": "2022-01-02T14:16:09.546Z"
   },
   {
    "duration": 10,
    "start_time": "2022-01-02T14:16:10.182Z"
   },
   {
    "duration": 50,
    "start_time": "2022-01-02T14:16:10.193Z"
   },
   {
    "duration": 103,
    "start_time": "2022-01-02T14:16:10.245Z"
   },
   {
    "duration": 275,
    "start_time": "2022-01-02T14:16:10.350Z"
   },
   {
    "duration": 421,
    "start_time": "2022-01-02T14:16:10.628Z"
   },
   {
    "duration": 6,
    "start_time": "2022-01-02T14:16:11.051Z"
   },
   {
    "duration": 30,
    "start_time": "2022-01-02T14:16:11.058Z"
   },
   {
    "duration": 57,
    "start_time": "2022-01-02T14:16:11.090Z"
   },
   {
    "duration": 14,
    "start_time": "2022-01-02T14:16:11.148Z"
   },
   {
    "duration": 20,
    "start_time": "2022-01-02T14:16:11.163Z"
   },
   {
    "duration": 676,
    "start_time": "2022-01-02T14:16:11.184Z"
   },
   {
    "duration": 1112,
    "start_time": "2022-01-02T14:16:11.862Z"
   },
   {
    "duration": 136,
    "start_time": "2022-01-02T14:16:13.043Z"
   },
   {
    "duration": 926,
    "start_time": "2022-01-02T14:16:13.181Z"
   },
   {
    "duration": 138,
    "start_time": "2022-01-02T14:16:14.108Z"
   },
   {
    "duration": 97,
    "start_time": "2022-01-02T14:16:14.248Z"
   },
   {
    "duration": 35007,
    "start_time": "2022-01-02T14:16:14.347Z"
   },
   {
    "duration": 12,
    "start_time": "2022-01-02T14:16:49.355Z"
   },
   {
    "duration": 9,
    "start_time": "2022-01-02T14:16:49.369Z"
   },
   {
    "duration": 548,
    "start_time": "2022-01-02T14:17:21.368Z"
   },
   {
    "duration": 33,
    "start_time": "2022-01-02T14:17:28.755Z"
   },
   {
    "duration": 66,
    "start_time": "2022-01-02T14:17:34.001Z"
   },
   {
    "duration": 7,
    "start_time": "2022-01-02T14:17:44.913Z"
   },
   {
    "duration": 9,
    "start_time": "2022-01-02T14:17:52.758Z"
   },
   {
    "duration": 76,
    "start_time": "2022-01-02T14:23:06.161Z"
   },
   {
    "duration": 34,
    "start_time": "2022-01-02T14:23:58.042Z"
   },
   {
    "duration": 395,
    "start_time": "2022-01-02T14:24:03.951Z"
   },
   {
    "duration": 1149,
    "start_time": "2022-01-03T12:46:54.494Z"
   },
   {
    "duration": 30,
    "start_time": "2022-01-03T12:46:55.644Z"
   },
   {
    "duration": 25,
    "start_time": "2022-01-03T12:46:55.676Z"
   },
   {
    "duration": 9,
    "start_time": "2022-01-03T12:46:55.703Z"
   },
   {
    "duration": 15,
    "start_time": "2022-01-03T12:46:55.714Z"
   },
   {
    "duration": 20,
    "start_time": "2022-01-03T12:46:55.731Z"
   },
   {
    "duration": 60,
    "start_time": "2022-01-03T12:46:55.752Z"
   },
   {
    "duration": 5,
    "start_time": "2022-01-03T12:46:55.813Z"
   },
   {
    "duration": 10,
    "start_time": "2022-01-03T12:46:55.821Z"
   },
   {
    "duration": 7,
    "start_time": "2022-01-03T12:46:55.833Z"
   },
   {
    "duration": 3,
    "start_time": "2022-01-03T12:46:55.842Z"
   },
   {
    "duration": 70,
    "start_time": "2022-01-03T12:46:55.846Z"
   },
   {
    "duration": 4,
    "start_time": "2022-01-03T12:46:55.917Z"
   },
   {
    "duration": 774,
    "start_time": "2022-01-03T12:46:55.923Z"
   },
   {
    "duration": 97,
    "start_time": "2022-01-03T12:46:56.700Z"
   },
   {
    "duration": 6,
    "start_time": "2022-01-03T12:46:56.799Z"
   },
   {
    "duration": 7,
    "start_time": "2022-01-03T12:46:56.807Z"
   },
   {
    "duration": 911,
    "start_time": "2022-01-03T12:46:56.816Z"
   },
   {
    "duration": 67,
    "start_time": "2022-01-03T12:46:57.730Z"
   },
   {
    "duration": 93,
    "start_time": "2022-01-03T12:46:57.800Z"
   },
   {
    "duration": 47,
    "start_time": "2022-01-03T12:46:57.895Z"
   },
   {
    "duration": 700,
    "start_time": "2022-01-03T12:46:57.943Z"
   },
   {
    "duration": 10,
    "start_time": "2022-01-03T12:46:58.645Z"
   },
   {
    "duration": 137,
    "start_time": "2022-01-03T12:46:58.656Z"
   },
   {
    "duration": 101,
    "start_time": "2022-01-03T12:46:58.795Z"
   },
   {
    "duration": 269,
    "start_time": "2022-01-03T12:46:58.900Z"
   },
   {
    "duration": 378,
    "start_time": "2022-01-03T12:46:59.172Z"
   },
   {
    "duration": 7,
    "start_time": "2022-01-03T12:46:59.552Z"
   },
   {
    "duration": 5,
    "start_time": "2022-01-03T12:46:59.560Z"
   },
   {
    "duration": 39,
    "start_time": "2022-01-03T12:46:59.567Z"
   },
   {
    "duration": 9,
    "start_time": "2022-01-03T12:46:59.608Z"
   },
   {
    "duration": 14,
    "start_time": "2022-01-03T12:46:59.618Z"
   },
   {
    "duration": 783,
    "start_time": "2022-01-03T12:46:59.634Z"
   },
   {
    "duration": 1181,
    "start_time": "2022-01-03T12:47:00.420Z"
   },
   {
    "duration": 224,
    "start_time": "2022-01-03T12:47:01.603Z"
   },
   {
    "duration": 987,
    "start_time": "2022-01-03T12:47:01.828Z"
   },
   {
    "duration": 76,
    "start_time": "2022-01-03T12:47:02.817Z"
   },
   {
    "duration": 98,
    "start_time": "2022-01-03T12:47:02.895Z"
   },
   {
    "duration": 38470,
    "start_time": "2022-01-03T12:47:02.995Z"
   },
   {
    "duration": 26,
    "start_time": "2022-01-03T12:47:41.467Z"
   },
   {
    "duration": 598,
    "start_time": "2022-01-03T12:47:41.495Z"
   },
   {
    "duration": 36,
    "start_time": "2022-01-03T12:47:42.095Z"
   },
   {
    "duration": 5,
    "start_time": "2022-01-03T12:47:42.133Z"
   },
   {
    "duration": 10,
    "start_time": "2022-01-03T12:47:42.140Z"
   },
   {
    "duration": 64,
    "start_time": "2022-01-03T12:47:42.151Z"
   },
   {
    "duration": 394,
    "start_time": "2022-01-03T12:47:42.216Z"
   },
   {
    "duration": 1149,
    "start_time": "2022-01-03T12:56:04.079Z"
   },
   {
    "duration": 29,
    "start_time": "2022-01-03T12:56:05.230Z"
   },
   {
    "duration": 30,
    "start_time": "2022-01-03T12:56:05.262Z"
   },
   {
    "duration": 8,
    "start_time": "2022-01-03T12:56:05.295Z"
   },
   {
    "duration": 21,
    "start_time": "2022-01-03T12:56:05.305Z"
   },
   {
    "duration": 19,
    "start_time": "2022-01-03T12:56:05.328Z"
   },
   {
    "duration": 52,
    "start_time": "2022-01-03T12:56:05.348Z"
   },
   {
    "duration": 5,
    "start_time": "2022-01-03T12:56:05.402Z"
   },
   {
    "duration": 36,
    "start_time": "2022-01-03T12:56:05.409Z"
   },
   {
    "duration": 7,
    "start_time": "2022-01-03T12:56:05.447Z"
   },
   {
    "duration": 17,
    "start_time": "2022-01-03T12:56:05.455Z"
   },
   {
    "duration": 38,
    "start_time": "2022-01-03T12:56:05.474Z"
   },
   {
    "duration": 4,
    "start_time": "2022-01-03T12:56:05.514Z"
   },
   {
    "duration": 781,
    "start_time": "2022-01-03T12:56:05.519Z"
   },
   {
    "duration": 8,
    "start_time": "2022-01-03T12:56:06.391Z"
   },
   {
    "duration": 23,
    "start_time": "2022-01-03T12:56:06.400Z"
   },
   {
    "duration": 12,
    "start_time": "2022-01-03T12:56:06.425Z"
   },
   {
    "duration": 888,
    "start_time": "2022-01-03T12:56:06.438Z"
   },
   {
    "duration": 68,
    "start_time": "2022-01-03T12:56:07.328Z"
   },
   {
    "duration": 93,
    "start_time": "2022-01-03T12:56:07.399Z"
   },
   {
    "duration": 43,
    "start_time": "2022-01-03T12:56:07.494Z"
   },
   {
    "duration": 687,
    "start_time": "2022-01-03T12:56:07.539Z"
   },
   {
    "duration": 10,
    "start_time": "2022-01-03T12:56:08.228Z"
   },
   {
    "duration": 53,
    "start_time": "2022-01-03T12:56:08.240Z"
   },
   {
    "duration": 196,
    "start_time": "2022-01-03T12:56:08.296Z"
   },
   {
    "duration": 218,
    "start_time": "2022-01-03T12:56:08.494Z"
   },
   {
    "duration": 341,
    "start_time": "2022-01-03T12:56:08.716Z"
   },
   {
    "duration": 6,
    "start_time": "2022-01-03T12:56:09.059Z"
   },
   {
    "duration": 12,
    "start_time": "2022-01-03T12:56:09.067Z"
   },
   {
    "duration": 34,
    "start_time": "2022-01-03T12:56:09.081Z"
   },
   {
    "duration": 12,
    "start_time": "2022-01-03T12:56:09.116Z"
   },
   {
    "duration": 18,
    "start_time": "2022-01-03T12:56:09.130Z"
   },
   {
    "duration": 841,
    "start_time": "2022-01-03T12:56:09.151Z"
   },
   {
    "duration": 1008,
    "start_time": "2022-01-03T12:56:09.994Z"
   },
   {
    "duration": 138,
    "start_time": "2022-01-03T12:56:11.092Z"
   },
   {
    "duration": 940,
    "start_time": "2022-01-03T12:56:11.232Z"
   },
   {
    "duration": 119,
    "start_time": "2022-01-03T12:56:12.173Z"
   },
   {
    "duration": 98,
    "start_time": "2022-01-03T12:56:12.295Z"
   },
   {
    "duration": 38716,
    "start_time": "2022-01-03T12:56:12.395Z"
   },
   {
    "duration": 59,
    "start_time": "2022-01-03T12:56:51.128Z"
   },
   {
    "duration": 661,
    "start_time": "2022-01-03T12:56:51.196Z"
   },
   {
    "duration": 42,
    "start_time": "2022-01-03T12:56:51.858Z"
   },
   {
    "duration": 7,
    "start_time": "2022-01-03T12:56:51.901Z"
   },
   {
    "duration": 12,
    "start_time": "2022-01-03T12:56:51.909Z"
   },
   {
    "duration": 38,
    "start_time": "2022-01-03T12:56:51.924Z"
   },
   {
    "duration": 450,
    "start_time": "2022-01-03T12:56:51.964Z"
   },
   {
    "duration": 1072,
    "start_time": "2022-01-03T13:00:45.952Z"
   },
   {
    "duration": 29,
    "start_time": "2022-01-03T13:00:47.026Z"
   },
   {
    "duration": 29,
    "start_time": "2022-01-03T13:00:47.057Z"
   },
   {
    "duration": 9,
    "start_time": "2022-01-03T13:00:47.091Z"
   },
   {
    "duration": 14,
    "start_time": "2022-01-03T13:00:47.101Z"
   },
   {
    "duration": 18,
    "start_time": "2022-01-03T13:00:47.117Z"
   },
   {
    "duration": 20,
    "start_time": "2022-01-03T13:00:47.136Z"
   },
   {
    "duration": 34,
    "start_time": "2022-01-03T13:00:47.158Z"
   },
   {
    "duration": 13,
    "start_time": "2022-01-03T13:00:47.195Z"
   },
   {
    "duration": 8,
    "start_time": "2022-01-03T13:00:47.209Z"
   },
   {
    "duration": 2,
    "start_time": "2022-01-03T13:00:47.219Z"
   },
   {
    "duration": 27,
    "start_time": "2022-01-03T13:00:47.223Z"
   },
   {
    "duration": 4,
    "start_time": "2022-01-03T13:00:47.251Z"
   },
   {
    "duration": 739,
    "start_time": "2022-01-03T13:00:47.257Z"
   },
   {
    "duration": 192,
    "start_time": "2022-01-03T13:00:47.998Z"
   },
   {
    "duration": 6,
    "start_time": "2022-01-03T13:00:48.193Z"
   },
   {
    "duration": 7,
    "start_time": "2022-01-03T13:00:48.201Z"
   },
   {
    "duration": 914,
    "start_time": "2022-01-03T13:00:48.210Z"
   },
   {
    "duration": 7,
    "start_time": "2022-01-03T13:00:49.193Z"
   },
   {
    "duration": 4,
    "start_time": "2022-01-03T13:00:49.292Z"
   },
   {
    "duration": 43,
    "start_time": "2022-01-03T13:00:49.298Z"
   },
   {
    "duration": 698,
    "start_time": "2022-01-03T13:00:49.343Z"
   },
   {
    "duration": 10,
    "start_time": "2022-01-03T13:00:50.046Z"
   },
   {
    "duration": 41,
    "start_time": "2022-01-03T13:00:50.058Z"
   },
   {
    "duration": 192,
    "start_time": "2022-01-03T13:00:50.101Z"
   },
   {
    "duration": 280,
    "start_time": "2022-01-03T13:00:50.296Z"
   },
   {
    "duration": 371,
    "start_time": "2022-01-03T13:00:50.578Z"
   },
   {
    "duration": 6,
    "start_time": "2022-01-03T13:00:50.951Z"
   },
   {
    "duration": 5,
    "start_time": "2022-01-03T13:00:50.959Z"
   },
   {
    "duration": 33,
    "start_time": "2022-01-03T13:00:50.966Z"
   },
   {
    "duration": 8,
    "start_time": "2022-01-03T13:00:51.001Z"
   },
   {
    "duration": 13,
    "start_time": "2022-01-03T13:00:51.011Z"
   },
   {
    "duration": 871,
    "start_time": "2022-01-03T13:00:51.025Z"
   },
   {
    "duration": 1120,
    "start_time": "2022-01-03T13:00:51.901Z"
   },
   {
    "duration": 203,
    "start_time": "2022-01-03T13:00:53.023Z"
   },
   {
    "duration": 996,
    "start_time": "2022-01-03T13:00:53.228Z"
   },
   {
    "duration": 68,
    "start_time": "2022-01-03T13:00:54.226Z"
   },
   {
    "duration": 100,
    "start_time": "2022-01-03T13:00:54.296Z"
   },
   {
    "duration": 37760,
    "start_time": "2022-01-03T13:00:54.398Z"
   },
   {
    "duration": 14,
    "start_time": "2022-01-03T13:01:32.160Z"
   },
   {
    "duration": 626,
    "start_time": "2022-01-03T13:01:32.176Z"
   },
   {
    "duration": 38,
    "start_time": "2022-01-03T13:01:32.805Z"
   },
   {
    "duration": 6,
    "start_time": "2022-01-03T13:01:32.845Z"
   },
   {
    "duration": 17,
    "start_time": "2022-01-03T13:01:32.853Z"
   },
   {
    "duration": 56,
    "start_time": "2022-01-03T13:01:32.871Z"
   },
   {
    "duration": 394,
    "start_time": "2022-01-03T13:01:32.929Z"
   },
   {
    "duration": 2226,
    "start_time": "2022-01-04T13:01:24.459Z"
   },
   {
    "duration": 47,
    "start_time": "2022-01-04T13:01:26.689Z"
   },
   {
    "duration": 63,
    "start_time": "2022-01-04T13:01:26.740Z"
   },
   {
    "duration": 17,
    "start_time": "2022-01-04T13:01:26.807Z"
   },
   {
    "duration": 60,
    "start_time": "2022-01-04T13:01:26.828Z"
   },
   {
    "duration": 46,
    "start_time": "2022-01-04T13:01:26.892Z"
   },
   {
    "duration": 72,
    "start_time": "2022-01-04T13:01:26.941Z"
   },
   {
    "duration": 9,
    "start_time": "2022-01-04T13:01:27.019Z"
   },
   {
    "duration": 46,
    "start_time": "2022-01-04T13:01:27.032Z"
   },
   {
    "duration": 15,
    "start_time": "2022-01-04T13:01:27.081Z"
   },
   {
    "duration": 4,
    "start_time": "2022-01-04T13:01:27.099Z"
   },
   {
    "duration": 85,
    "start_time": "2022-01-04T13:01:27.106Z"
   },
   {
    "duration": 7,
    "start_time": "2022-01-04T13:01:27.194Z"
   },
   {
    "duration": 1365,
    "start_time": "2022-01-04T13:01:27.203Z"
   },
   {
    "duration": 14,
    "start_time": "2022-01-04T13:01:28.570Z"
   },
   {
    "duration": 7,
    "start_time": "2022-01-04T13:01:28.586Z"
   },
   {
    "duration": 11,
    "start_time": "2022-01-04T13:01:28.596Z"
   },
   {
    "duration": 1403,
    "start_time": "2022-01-04T13:01:28.610Z"
   },
   {
    "duration": 13,
    "start_time": "2022-01-04T13:01:30.068Z"
   },
   {
    "duration": 16,
    "start_time": "2022-01-04T13:01:30.167Z"
   },
   {
    "duration": 74,
    "start_time": "2022-01-04T13:01:30.186Z"
   },
   {
    "duration": 1035,
    "start_time": "2022-01-04T13:01:30.262Z"
   },
   {
    "duration": 15,
    "start_time": "2022-01-04T13:01:31.303Z"
   },
   {
    "duration": 249,
    "start_time": "2022-01-04T13:01:31.321Z"
   },
   {
    "duration": 101,
    "start_time": "2022-01-04T13:01:31.574Z"
   },
   {
    "duration": 367,
    "start_time": "2022-01-04T13:01:31.677Z"
   },
   {
    "duration": 699,
    "start_time": "2022-01-04T13:01:32.048Z"
   },
   {
    "duration": 17,
    "start_time": "2022-01-04T13:01:32.749Z"
   },
   {
    "duration": 8,
    "start_time": "2022-01-04T13:01:32.768Z"
   },
   {
    "duration": 28,
    "start_time": "2022-01-04T13:01:32.779Z"
   },
   {
    "duration": 13,
    "start_time": "2022-01-04T13:01:32.810Z"
   },
   {
    "duration": 59,
    "start_time": "2022-01-04T13:01:32.826Z"
   },
   {
    "duration": 1280,
    "start_time": "2022-01-04T13:01:32.888Z"
   },
   {
    "duration": 2401,
    "start_time": "2022-01-04T13:01:34.171Z"
   },
   {
    "duration": 193,
    "start_time": "2022-01-04T13:01:36.576Z"
   },
   {
    "duration": 2203,
    "start_time": "2022-01-04T13:01:36.772Z"
   },
   {
    "duration": 189,
    "start_time": "2022-01-04T13:01:38.979Z"
   },
   {
    "duration": 18,
    "start_time": "2022-01-04T13:01:39.172Z"
   },
   {
    "duration": 66204,
    "start_time": "2022-01-04T13:01:39.193Z"
   },
   {
    "duration": 20,
    "start_time": "2022-01-04T13:02:45.399Z"
   },
   {
    "duration": 1533,
    "start_time": "2022-01-04T13:02:45.422Z"
   },
   {
    "duration": 84,
    "start_time": "2022-01-04T13:02:46.958Z"
   },
   {
    "duration": 29,
    "start_time": "2022-01-04T13:02:47.045Z"
   },
   {
    "duration": 19,
    "start_time": "2022-01-04T13:02:47.078Z"
   },
   {
    "duration": 472,
    "start_time": "2022-01-04T13:02:47.100Z"
   },
   {
    "duration": -546,
    "start_time": "2022-01-04T13:02:48.121Z"
   },
   {
    "duration": 6,
    "start_time": "2022-01-04T13:03:07.320Z"
   },
   {
    "duration": 87,
    "start_time": "2022-01-04T13:03:07.687Z"
   },
   {
    "duration": 312,
    "start_time": "2022-01-04T13:03:14.224Z"
   },
   {
    "duration": 47,
    "start_time": "2022-01-04T13:03:19.259Z"
   },
   {
    "duration": 47,
    "start_time": "2022-01-04T13:03:36.295Z"
   },
   {
    "duration": 2121,
    "start_time": "2022-01-04T13:03:47.768Z"
   },
   {
    "duration": 48,
    "start_time": "2022-01-04T13:03:49.893Z"
   },
   {
    "duration": 43,
    "start_time": "2022-01-04T13:03:49.943Z"
   },
   {
    "duration": 13,
    "start_time": "2022-01-04T13:03:49.989Z"
   },
   {
    "duration": 23,
    "start_time": "2022-01-04T13:03:50.005Z"
   },
   {
    "duration": 60,
    "start_time": "2022-01-04T13:03:50.031Z"
   },
   {
    "duration": 38,
    "start_time": "2022-01-04T13:03:50.094Z"
   },
   {
    "duration": 32,
    "start_time": "2022-01-04T13:03:50.136Z"
   },
   {
    "duration": 19,
    "start_time": "2022-01-04T13:03:50.174Z"
   },
   {
    "duration": 14,
    "start_time": "2022-01-04T13:03:50.197Z"
   },
   {
    "duration": 9,
    "start_time": "2022-01-04T13:03:50.214Z"
   },
   {
    "duration": 73,
    "start_time": "2022-01-04T13:03:50.226Z"
   },
   {
    "duration": 6,
    "start_time": "2022-01-04T13:03:50.301Z"
   },
   {
    "duration": 1267,
    "start_time": "2022-01-04T13:03:50.310Z"
   },
   {
    "duration": 15,
    "start_time": "2022-01-04T13:03:51.669Z"
   },
   {
    "duration": 8,
    "start_time": "2022-01-04T13:03:51.687Z"
   },
   {
    "duration": 11,
    "start_time": "2022-01-04T13:03:51.766Z"
   },
   {
    "duration": 1494,
    "start_time": "2022-01-04T13:03:51.779Z"
   },
   {
    "duration": 95,
    "start_time": "2022-01-04T13:03:53.277Z"
   },
   {
    "duration": 8,
    "start_time": "2022-01-04T13:03:53.375Z"
   },
   {
    "duration": 93,
    "start_time": "2022-01-04T13:03:53.386Z"
   },
   {
    "duration": 1186,
    "start_time": "2022-01-04T13:03:53.481Z"
   },
   {
    "duration": 18,
    "start_time": "2022-01-04T13:03:54.669Z"
   },
   {
    "duration": 91,
    "start_time": "2022-01-04T13:03:54.690Z"
   },
   {
    "duration": 13,
    "start_time": "2022-01-04T13:03:54.869Z"
   },
   {
    "duration": 542,
    "start_time": "2022-01-04T13:03:54.885Z"
   },
   {
    "duration": 497,
    "start_time": "2022-01-04T13:03:55.433Z"
   },
   {
    "duration": 9,
    "start_time": "2022-01-04T13:03:55.933Z"
   },
   {
    "duration": 25,
    "start_time": "2022-01-04T13:03:55.944Z"
   },
   {
    "duration": 29,
    "start_time": "2022-01-04T13:03:55.972Z"
   },
   {
    "duration": 10,
    "start_time": "2022-01-04T13:03:56.004Z"
   },
   {
    "duration": 63,
    "start_time": "2022-01-04T13:03:56.017Z"
   },
   {
    "duration": 1189,
    "start_time": "2022-01-04T13:03:56.083Z"
   },
   {
    "duration": 1753,
    "start_time": "2022-01-04T13:03:57.276Z"
   },
   {
    "duration": 160,
    "start_time": "2022-01-04T13:03:59.069Z"
   },
   {
    "duration": 2312,
    "start_time": "2022-01-04T13:03:59.231Z"
   },
   {
    "duration": 224,
    "start_time": "2022-01-04T13:04:01.547Z"
   },
   {
    "duration": 19,
    "start_time": "2022-01-04T13:04:01.774Z"
   },
   {
    "duration": 72620,
    "start_time": "2022-01-04T13:04:01.796Z"
   },
   {
    "duration": 21,
    "start_time": "2022-01-04T13:05:14.419Z"
   },
   {
    "duration": 1052,
    "start_time": "2022-01-04T13:05:14.443Z"
   },
   {
    "duration": 55,
    "start_time": "2022-01-04T13:05:15.498Z"
   },
   {
    "duration": 10,
    "start_time": "2022-01-04T13:05:15.568Z"
   },
   {
    "duration": 15,
    "start_time": "2022-01-04T13:05:15.580Z"
   },
   {
    "duration": 83,
    "start_time": "2022-01-04T13:05:15.598Z"
   },
   {
    "duration": 590,
    "start_time": "2022-01-04T13:05:15.684Z"
   },
   {
    "duration": 103,
    "start_time": "2022-01-04T13:07:48.774Z"
   },
   {
    "duration": 149,
    "start_time": "2022-01-04T13:10:26.188Z"
   },
   {
    "duration": 1120,
    "start_time": "2022-01-04T13:11:09.903Z"
   },
   {
    "duration": 92,
    "start_time": "2022-01-04T13:11:56.532Z"
   },
   {
    "duration": 1702,
    "start_time": "2022-01-04T13:12:00.760Z"
   },
   {
    "duration": 74,
    "start_time": "2022-01-04T13:12:58.153Z"
   },
   {
    "duration": 74,
    "start_time": "2022-01-04T13:13:41.484Z"
   },
   {
    "duration": 5,
    "start_time": "2022-01-04T13:14:15.448Z"
   },
   {
    "duration": 58,
    "start_time": "2022-01-04T13:14:16.015Z"
   },
   {
    "duration": 1299,
    "start_time": "2022-01-04T13:14:17.433Z"
   },
   {
    "duration": 32,
    "start_time": "2022-01-04T13:14:18.736Z"
   },
   {
    "duration": 100,
    "start_time": "2022-01-04T13:14:18.772Z"
   },
   {
    "duration": 102,
    "start_time": "2022-01-04T13:14:18.875Z"
   },
   {
    "duration": 365,
    "start_time": "2022-01-04T13:14:19.074Z"
   },
   {
    "duration": 506,
    "start_time": "2022-01-04T13:14:19.442Z"
   },
   {
    "duration": 9,
    "start_time": "2022-01-04T13:14:20.431Z"
   },
   {
    "duration": 7,
    "start_time": "2022-01-04T13:14:20.791Z"
   },
   {
    "duration": 28,
    "start_time": "2022-01-04T13:14:20.954Z"
   },
   {
    "duration": 12,
    "start_time": "2022-01-04T13:14:21.134Z"
   },
   {
    "duration": 20,
    "start_time": "2022-01-04T13:14:21.464Z"
   },
   {
    "duration": 1102,
    "start_time": "2022-01-04T13:14:22.980Z"
   },
   {
    "duration": 1784,
    "start_time": "2022-01-04T13:14:24.085Z"
   },
   {
    "duration": 249,
    "start_time": "2022-01-04T13:14:25.874Z"
   },
   {
    "duration": 1534,
    "start_time": "2022-01-04T13:14:26.126Z"
   },
   {
    "duration": 114,
    "start_time": "2022-01-04T13:14:27.662Z"
   },
   {
    "duration": 100,
    "start_time": "2022-01-04T13:14:27.779Z"
   },
   {
    "duration": 61184,
    "start_time": "2022-01-04T13:14:27.882Z"
   },
   {
    "duration": 22,
    "start_time": "2022-01-04T13:15:29.069Z"
   },
   {
    "duration": 973,
    "start_time": "2022-01-04T13:15:29.095Z"
   },
   {
    "duration": 53,
    "start_time": "2022-01-04T13:15:30.071Z"
   },
   {
    "duration": 9,
    "start_time": "2022-01-04T13:15:30.126Z"
   },
   {
    "duration": 42,
    "start_time": "2022-01-04T13:15:30.137Z"
   },
   {
    "duration": 114,
    "start_time": "2022-01-04T13:15:30.181Z"
   },
   {
    "duration": 426,
    "start_time": "2022-01-04T13:15:30.297Z"
   },
   {
    "duration": 98,
    "start_time": "2022-01-04T13:18:40.590Z"
   },
   {
    "duration": 98,
    "start_time": "2022-01-04T13:18:47.529Z"
   }
  ],
  "kernelspec": {
   "display_name": "Python 3 (ipykernel)",
   "language": "python",
   "name": "python3"
  },
  "language_info": {
   "codemirror_mode": {
    "name": "ipython",
    "version": 3
   },
   "file_extension": ".py",
   "mimetype": "text/x-python",
   "name": "python",
   "nbconvert_exporter": "python",
   "pygments_lexer": "ipython3",
   "version": "3.9.7"
  },
  "toc": {
   "base_numbering": 1,
   "nav_menu": {},
   "number_sections": true,
   "sideBar": true,
   "skip_h1_title": true,
   "title_cell": "Содержание",
   "title_sidebar": "Contents",
   "toc_cell": true,
   "toc_position": {},
   "toc_section_display": true,
   "toc_window_display": false
  }
 },
 "nbformat": 4,
 "nbformat_minor": 2
}
