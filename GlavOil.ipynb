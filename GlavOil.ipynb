{
 "cells": [
  {
   "cell_type": "markdown",
   "metadata": {},
   "source": [
    "# Выбор локации для скважины"
   ]
  },
  {
   "cell_type": "markdown",
   "metadata": {},
   "source": [
    "Допустим, вы работаете в добывающей компании «ГлавРосГосНефть». Нужно решить, где бурить новую скважину.\n",
    "\n",
    "Вам предоставлены пробы нефти в трёх регионах: в каждом 10 000 месторождений, где измерили качество нефти и объём её запасов. Постройте модель машинного обучения, которая поможет определить регион, где добыча принесёт наибольшую прибыль. Проанализируйте возможную прибыль и риски техникой *Bootstrap.*\n",
    "\n",
    "Шаги для выбора локации:\n",
    "\n",
    "- В избранном регионе ищут месторождения, для каждого определяют значения признаков;\n",
    "- Строят модель и оценивают объём запасов;\n",
    "- Выбирают месторождения с самым высокими оценками значений. Количество месторождений зависит от бюджета компании и стоимости разработки одной скважины;\n",
    "- Прибыль равна суммарной прибыли отобранных месторождений."
   ]
  },
  {
   "cell_type": "markdown",
   "metadata": {},
   "source": [
    "## Загрузка и подготовка данных"
   ]
  },
  {
   "cell_type": "markdown",
   "metadata": {},
   "source": [
    "Импортируем"
   ]
  },
  {
   "cell_type": "code",
   "execution_count": 1,
   "metadata": {},
   "outputs": [],
   "source": [
    "import matplotlib.pyplot as plt\n",
    "import numpy as np\n",
    "import pandas as pd\n",
    "from sklearn.model_selection import train_test_split\n",
    "from sklearn.linear_model import LinearRegression\n",
    "from sklearn.metrics import mean_squared_error\n",
    "from sklearn.preprocessing import StandardScaler\n",
    "from sklearn.utils import shuffle\n",
    "import warnings\n",
    "warnings.filterwarnings('ignore')"
   ]
  },
  {
   "cell_type": "markdown",
   "metadata": {},
   "source": [
    "Загрузим каждый регион в отдельный датафрейм."
   ]
  },
  {
   "cell_type": "code",
   "execution_count": 2,
   "metadata": {},
   "outputs": [
    {
     "name": "stdout",
     "output_type": "stream",
     "text": [
      "<class 'pandas.core.frame.DataFrame'>\n",
      "RangeIndex: 100000 entries, 0 to 99999\n",
      "Data columns (total 5 columns):\n",
      "id         100000 non-null object\n",
      "f0         100000 non-null float64\n",
      "f1         100000 non-null float64\n",
      "f2         100000 non-null float64\n",
      "product    100000 non-null float64\n",
      "dtypes: float64(4), object(1)\n",
      "memory usage: 3.8+ MB\n",
      "None\n",
      "\n",
      "<class 'pandas.core.frame.DataFrame'>\n",
      "RangeIndex: 100000 entries, 0 to 99999\n",
      "Data columns (total 5 columns):\n",
      "id         100000 non-null object\n",
      "f0         100000 non-null float64\n",
      "f1         100000 non-null float64\n",
      "f2         100000 non-null float64\n",
      "product    100000 non-null float64\n",
      "dtypes: float64(4), object(1)\n",
      "memory usage: 3.8+ MB\n",
      "None\n",
      "\n",
      "<class 'pandas.core.frame.DataFrame'>\n",
      "RangeIndex: 100000 entries, 0 to 99999\n",
      "Data columns (total 5 columns):\n",
      "id         100000 non-null object\n",
      "f0         100000 non-null float64\n",
      "f1         100000 non-null float64\n",
      "f2         100000 non-null float64\n",
      "product    100000 non-null float64\n",
      "dtypes: float64(4), object(1)\n",
      "memory usage: 3.8+ MB\n",
      "None\n"
     ]
    }
   ],
   "source": [
    "geo_data_0 = pd.read_csv('/datasets/geo_data_0.csv')\n",
    "print(geo_data_0.info())\n",
    "print()\n",
    "\n",
    "geo_data_1 = pd.read_csv('/datasets/geo_data_1.csv')\n",
    "print(geo_data_1.info())\n",
    "print()\n",
    "\n",
    "geo_data_2 = pd.read_csv('/datasets/geo_data_2.csv')\n",
    "print(geo_data_2.info())"
   ]
  },
  {
   "cell_type": "markdown",
   "metadata": {},
   "source": [
    "Проверим данные"
   ]
  },
  {
   "cell_type": "code",
   "execution_count": 3,
   "metadata": {},
   "outputs": [],
   "source": [
    "def check_columns(data_frame):\n",
    "    for column in data_frame.columns:\n",
    "        print('Уникальные значения столбца', column)\n",
    "        print(data_frame[column].unique())"
   ]
  },
  {
   "cell_type": "code",
   "execution_count": 4,
   "metadata": {},
   "outputs": [
    {
     "name": "stdout",
     "output_type": "stream",
     "text": [
      "Уникальные значения столбца id\n",
      "['txEyH' '2acmU' '409Wp' ... '3rnvd' '7kl59' '1CWhH']\n",
      "Уникальные значения столбца f0\n",
      "[0.70574498 1.33471129 1.02273226 ... 1.02958465 0.99816289 1.76475393]\n",
      "Уникальные значения столбца f1\n",
      "[-0.4978225  -0.34016425  0.15199044 ...  0.01878693 -0.52858167\n",
      " -0.26641676]\n",
      "Уникальные значения столбца f2\n",
      "[ 1.22116995  4.36508033  1.41992624 ... -1.34830814  1.58386866\n",
      "  5.72284937]\n",
      "Уникальные значения столбца product\n",
      "[105.28006184  73.03775027  85.26564713 ...  64.37544259  74.04076435\n",
      " 149.63324561]\n",
      "\n",
      "Уникальные значения столбца id\n",
      "['kBEdx' '62mP7' 'vyE1P' ... '09gWa' 'rqwUm' 'relB0']\n",
      "Уникальные значения столбца f0\n",
      "[-15.00134818  14.27208781   6.26318735 ...  -7.37889139   0.66571381\n",
      "  -3.42613898]\n",
      "Уникальные значения столбца f1\n",
      "[-8.27599995 -3.47508322 -5.94838579 ... -3.08410387 -6.15259286\n",
      " -7.7942742 ]\n",
      "Уникальные значения столбца f2\n",
      "[-5.87601369e-03  9.99182737e-01  5.00116016e+00 ...  4.99865060e+00\n",
      "  1.00014635e+00 -3.29851829e-03]\n",
      "Уникальные значения столбца product\n",
      "[  3.17910258  26.95326103 134.76630516 137.94540774  84.03888568\n",
      " 110.99214671  53.90652206   0.         107.81304413  57.08562465\n",
      "  30.13236361  80.85978309]\n",
      "\n",
      "Уникальные значения столбца id\n",
      "['fwXo0' 'WJtFt' 'ovLUW' ... 'tKPY3' 'nmxp2' 'V9kWn']\n",
      "Уникальные значения столбца f0\n",
      "[-1.1469871   0.2627779   0.19458728 ... -1.19993432 -2.41989641\n",
      " -2.55142066]\n",
      "Уникальные значения столбца f1\n",
      "[ 0.96332792  0.26983896  0.289035   ... -2.95763723  2.41722066\n",
      " -2.02562514]\n",
      "Уникальные значения столбца f2\n",
      "[-0.82896492 -2.53018652 -5.58643277 ...  5.219411   -5.54844392\n",
      "  6.09089066]\n",
      "Уникальные значения столбца product\n",
      "[ 27.75867323  56.06969663  62.87191005 ... 157.08007975  51.79525299\n",
      " 102.77576749]\n"
     ]
    }
   ],
   "source": [
    "check_columns(geo_data_0)\n",
    "print()\n",
    "check_columns(geo_data_1)\n",
    "print()\n",
    "check_columns(geo_data_2)"
   ]
  },
  {
   "cell_type": "markdown",
   "metadata": {},
   "source": [
    "Проблем в данный не видим. Удалим из каждого датафрейма столбец id.,так как он не несет смысловой нагрузки."
   ]
  },
  {
   "cell_type": "code",
   "execution_count": 5,
   "metadata": {},
   "outputs": [],
   "source": [
    "geo_data_0 = geo_data_0.drop(['id'], axis=1)\n",
    "geo_data_1 = geo_data_1.drop(['id'], axis=1)\n",
    "geo_data_2 = geo_data_2.drop(['id'], axis=1)"
   ]
  },
  {
   "cell_type": "code",
   "execution_count": 6,
   "metadata": {},
   "outputs": [],
   "source": [
    "def oil_hist(seria, bins, xlim_max, ylim_max):\n",
    "    plt.figure(figsize=[12,9])\n",
    "\n",
    "    plt.hist(seria, bins=bins)\n",
    "\n",
    "    plt.xlim([0,xlim_max])\n",
    "    plt.ylim([0,ylim_max])\n",
    "\n",
    "    plt.xlabel(\"Объем нефти на скважину, тыс. барелей\")\n",
    "    plt.ylabel(\"Количество скважин\")\n",
    "\n",
    "    plt.title(\"Гистограмма распределения по объему скважин\")\n",
    "    plt.show()"
   ]
  },
  {
   "cell_type": "code",
   "execution_count": 7,
   "metadata": {},
   "outputs": [
    {
     "data": {
      "image/png": "[encoded data removed]",
      "text/plain": [
       "<Figure size 864x648 with 1 Axes>"
      ]
     },
     "metadata": {
      "needs_background": "light"
     },
     "output_type": "display_data"
    }
   ],
   "source": [
    "oil_hist(geo_data_0['product'], 200, 190, 1000)"
   ]
  },
  {
   "cell_type": "code",
   "execution_count": 8,
   "metadata": {},
   "outputs": [
    {
     "data": {
      "image/png": "[encoded data removed]",
      "text/plain": [
       "<Figure size 864x648 with 1 Axes>"
      ]
     },
     "metadata": {
      "needs_background": "light"
     },
     "output_type": "display_data"
    }
   ],
   "source": [
    "oil_hist(geo_data_1['product'],  200, 190, 1000)"
   ]
  },
  {
   "cell_type": "code",
   "execution_count": 9,
   "metadata": {},
   "outputs": [
    {
     "data": {
      "image/png": "[encoded data removed]",
      "text/plain": [
       "<Figure size 864x648 with 1 Axes>"
      ]
     },
     "metadata": {
      "needs_background": "light"
     },
     "output_type": "display_data"
    }
   ],
   "source": [
    "oil_hist(geo_data_1['product'],  125, 250, 10000)"
   ]
  },
  {
   "cell_type": "code",
   "execution_count": 10,
   "metadata": {},
   "outputs": [
    {
     "data": {
      "image/png": "[encoded data removed]",
      "text/plain": [
       "<Figure size 864x648 with 1 Axes>"
      ]
     },
     "metadata": {
      "needs_background": "light"
     },
     "output_type": "display_data"
    }
   ],
   "source": [
    "oil_hist(geo_data_2['product'], 200, 190, 1000)"
   ]
  },
  {
   "cell_type": "code",
   "execution_count": 11,
   "metadata": {},
   "outputs": [],
   "source": [
    "def check_zeros(df, target_name):\n",
    "    zeros = df[df[target_name] == 0][target_name].count()\n",
    "    percent = zeros / df.shape[0]\n",
    "    print('Количество нулевых значений -', zeros)\n",
    "    print('Процент нулевых значений -', percent)"
   ]
  },
  {
   "cell_type": "code",
   "execution_count": 12,
   "metadata": {},
   "outputs": [
    {
     "name": "stdout",
     "output_type": "stream",
     "text": [
      "Количество нулевых значений - 1\n",
      "Процент нулевых значений - 1e-05\n",
      "Количество нулевых значений - 8235\n",
      "Процент нулевых значений - 0.08235\n",
      "Количество нулевых значений - 1\n",
      "Процент нулевых значений - 1e-05\n"
     ]
    }
   ],
   "source": [
    "check_zeros(geo_data_0, 'product')\n",
    "check_zeros(geo_data_1, 'product')\n",
    "check_zeros(geo_data_2, 'product')"
   ]
  },
  {
   "cell_type": "markdown",
   "metadata": {},
   "source": [
    "**Вывод по шагу 1.**"
   ]
  },
  {
   "cell_type": "markdown",
   "metadata": {},
   "source": [
    "Данные готовы к обучению.\n",
    "\n",
    "Во втором месторождении 8,2% месторождений не имело значения в столбце product.\n",
    "\n",
    "По гистограммам можно понять, что у первого и третьего региона наспределение скважин близкое к нормальному. Во втором регионе данные имеют странное распределение. Данные или искуственные или в них ошибка."
   ]
  },
  {
   "cell_type": "markdown",
   "metadata": {},
   "source": [
    "## Обучение и проверка модели"
   ]
  },
  {
   "cell_type": "markdown",
   "metadata": {},
   "source": [
    "Проверим качество модели линейной регрессии с текущим значением признаков и с масштабируемыми. Проверим эту гипотезу на geo_data_0.\n",
    "\n",
    "Выполняем разбивку неподготовленного датафрейма."
   ]
  },
  {
   "cell_type": "code",
   "execution_count": 13,
   "metadata": {},
   "outputs": [],
   "source": [
    "def test_split(df, target):\n",
    "    features = df.drop([target] , axis=1)\n",
    "    target = df[target]\n",
    "\n",
    "    features_train, features_valid, target_train, target_valid = train_test_split(\n",
    "    features, target, test_size=0.25, random_state=5062020)\n",
    "    \n",
    "    return features_train, features_valid, target_train, target_valid"
   ]
  },
  {
   "cell_type": "code",
   "execution_count": 14,
   "metadata": {},
   "outputs": [
    {
     "data": {
      "text/html": [
       "<div>\n",
       "<style scoped>\n",
       "    .dataframe tbody tr th:only-of-type {\n",
       "        vertical-align: middle;\n",
       "    }\n",
       "\n",
       "    .dataframe tbody tr th {\n",
       "        vertical-align: top;\n",
       "    }\n",
       "\n",
       "    .dataframe thead th {\n",
       "        text-align: right;\n",
       "    }\n",
       "</style>\n",
       "<table border=\"1\" class=\"dataframe\">\n",
       "  <thead>\n",
       "    <tr style=\"text-align: right;\">\n",
       "      <th></th>\n",
       "      <th>f0</th>\n",
       "      <th>f1</th>\n",
       "      <th>f2</th>\n",
       "    </tr>\n",
       "  </thead>\n",
       "  <tbody>\n",
       "    <tr>\n",
       "      <td>78638</td>\n",
       "      <td>0.602333</td>\n",
       "      <td>-0.445623</td>\n",
       "      <td>3.165303</td>\n",
       "    </tr>\n",
       "    <tr>\n",
       "      <td>67323</td>\n",
       "      <td>-0.984306</td>\n",
       "      <td>0.046746</td>\n",
       "      <td>0.400594</td>\n",
       "    </tr>\n",
       "    <tr>\n",
       "      <td>25303</td>\n",
       "      <td>0.085069</td>\n",
       "      <td>0.050226</td>\n",
       "      <td>-0.374703</td>\n",
       "    </tr>\n",
       "    <tr>\n",
       "      <td>80751</td>\n",
       "      <td>0.174317</td>\n",
       "      <td>0.011649</td>\n",
       "      <td>4.180446</td>\n",
       "    </tr>\n",
       "    <tr>\n",
       "      <td>28950</td>\n",
       "      <td>0.372650</td>\n",
       "      <td>1.031981</td>\n",
       "      <td>2.904160</td>\n",
       "    </tr>\n",
       "  </tbody>\n",
       "</table>\n",
       "</div>"
      ],
      "text/plain": [
       "             f0        f1        f2\n",
       "78638  0.602333 -0.445623  3.165303\n",
       "67323 -0.984306  0.046746  0.400594\n",
       "25303  0.085069  0.050226 -0.374703\n",
       "80751  0.174317  0.011649  4.180446\n",
       "28950  0.372650  1.031981  2.904160"
      ]
     },
     "execution_count": 14,
     "metadata": {},
     "output_type": "execute_result"
    }
   ],
   "source": [
    "features_train_0, features_valid_0, target_train_0, target_valid_0 = test_split(geo_data_0, 'product')\n",
    "\n",
    "features_train_0.head()"
   ]
  },
  {
   "cell_type": "code",
   "execution_count": 15,
   "metadata": {},
   "outputs": [],
   "source": [
    "def test_split_scaled(df, numeric, target):\n",
    "    geo_data_s = df.copy()\n",
    "\n",
    "    features_s = geo_data_s.drop([target] , axis=1)\n",
    "    target_s = geo_data_s[target]\n",
    "\n",
    "    features_train_s, features_valid_s, target_train_s, target_valid_s = train_test_split(\n",
    "        features_s, target_s, test_size=0.25, random_state=5062020)\n",
    "\n",
    "    scaler = StandardScaler()\n",
    "    scaler.fit(features_train_s[numeric])\n",
    "    features_train_s[numeric] = scaler.transform(features_train_s[numeric])\n",
    "    features_valid_s[numeric] = scaler.transform(features_valid_s[numeric])\n",
    "\n",
    "    return features_train_s, features_valid_s, target_train_s, target_valid_s"
   ]
  },
  {
   "cell_type": "markdown",
   "metadata": {},
   "source": [
    "features - данные без масштаба\n",
    "features_s - данные с масштабом"
   ]
  },
  {
   "cell_type": "code",
   "execution_count": 16,
   "metadata": {},
   "outputs": [
    {
     "name": "stdout",
     "output_type": "stream",
     "text": [
      "RMSE - 37.401957199217094\n"
     ]
    }
   ],
   "source": [
    "model = LinearRegression()\n",
    "\n",
    "model.fit(features_train_0, target_train_0)\n",
    "predicted_target_0 = model.predict(features_valid_0)\n",
    "print('RMSE -', mean_squared_error(target_valid_0, predicted_target_0)**0.5)"
   ]
  },
  {
   "cell_type": "markdown",
   "metadata": {},
   "source": [
    "Проверим каково RMSE на маштабированных данных."
   ]
  },
  {
   "cell_type": "code",
   "execution_count": 17,
   "metadata": {},
   "outputs": [
    {
     "name": "stdout",
     "output_type": "stream",
     "text": [
      "RMSE - 37.401957199217094\n"
     ]
    }
   ],
   "source": [
    "features_train_0s, features_valid_0s, target_train_0s, target_valid_0s = test_split_scaled(\n",
    "                                                                        geo_data_0, ['f0', 'f1', 'f2'], 'product')\n",
    "model.fit(features_train_0s, target_train_0s)\n",
    "predicted_target_0s = model.predict(features_valid_0s)\n",
    "print('RMSE -', mean_squared_error(target_valid_0s, predicted_target_0s)**0.5)"
   ]
  },
  {
   "cell_type": "code",
   "execution_count": 18,
   "metadata": {},
   "outputs": [
    {
     "name": "stdout",
     "output_type": "stream",
     "text": [
      "RMSE - 0.8874258342572853\n",
      "RMSE - 0.887425834257285\n"
     ]
    }
   ],
   "source": [
    "features_train_1, features_valid_1, target_train_1, target_valid_1 = test_split(geo_data_1, 'product')\n",
    "model.fit(features_train_1, target_train_1)\n",
    "predicted_target_1 = model.predict(features_valid_1)\n",
    "print('RMSE -', mean_squared_error(target_valid_1, predicted_target_1)**0.5)\n",
    "\n",
    "features_train_1s, features_valid_1s, target_train_1s, target_valid_1s = test_split_scaled(\n",
    "                                                                        geo_data_1, ['f0', 'f1', 'f2'], 'product')\n",
    "model.fit(features_train_1s, target_train_1s)\n",
    "predicted_target_1s = model.predict(features_valid_1s)\n",
    "print('RMSE -', mean_squared_error(target_valid_1s, predicted_target_1s)**0.5)"
   ]
  },
  {
   "cell_type": "code",
   "execution_count": 19,
   "metadata": {},
   "outputs": [
    {
     "name": "stdout",
     "output_type": "stream",
     "text": [
      "RMSE - 40.18553497171235\n",
      "RMSE - 40.18553497171235\n"
     ]
    }
   ],
   "source": [
    "features_train_2, features_valid_2, target_train_2, target_valid_2 = test_split(geo_data_2, 'product')\n",
    "model.fit(features_train_2, target_train_2)\n",
    "predicted_target_2 = model.predict(features_valid_2)\n",
    "print('RMSE -', mean_squared_error(target_valid_2, predicted_target_2)**0.5)\n",
    "\n",
    "features_train_2s, features_valid_2s, target_train_2s, target_valid_2s = test_split_scaled(\n",
    "                                                                        geo_data_2, ['f0', 'f1', 'f2'], 'product')\n",
    "model.fit(features_train_2s, target_train_2s)\n",
    "predicted_target_2s = model.predict(features_valid_2s)\n",
    "print('RMSE -', mean_squared_error(target_valid_2s, predicted_target_2s)**0.5)"
   ]
  },
  {
   "cell_type": "markdown",
   "metadata": {},
   "source": [
    "Масштабирование данных не требуется. Проверим показатель RMSE при других гиперпараметрах модели."
   ]
  },
  {
   "cell_type": "code",
   "execution_count": 20,
   "metadata": {},
   "outputs": [
    {
     "name": "stdout",
     "output_type": "stream",
     "text": [
      "RMSE - 37.401957199217094\n"
     ]
    }
   ],
   "source": [
    "model = LinearRegression(normalize=True)\n",
    "model.fit(features_train_0, target_train_0)\n",
    "predicted_target_0 = model.predict(features_valid_0)\n",
    "print('RMSE -', mean_squared_error(target_valid_0, predicted_target_0)**0.5)"
   ]
  },
  {
   "cell_type": "code",
   "execution_count": 21,
   "metadata": {},
   "outputs": [
    {
     "name": "stdout",
     "output_type": "stream",
     "text": [
      "RMSE - 60.749819777751355\n"
     ]
    }
   ],
   "source": [
    "model = LinearRegression(fit_intercept=False)\n",
    "model.fit(features_train_0, target_train_0)\n",
    "predicted_target_0 = model.predict(features_valid_0)\n",
    "print('RMSE -', mean_squared_error(target_valid_0, predicted_target_0)**0.5)"
   ]
  },
  {
   "cell_type": "markdown",
   "metadata": {},
   "source": [
    "Изменение стандартных значений гиперпараметров не улучшило модель. Произведем вывод предсказанного запаса с реальным и выведем RMSE."
   ]
  },
  {
   "cell_type": "code",
   "execution_count": 22,
   "metadata": {},
   "outputs": [],
   "source": [
    "model = LinearRegression()\n",
    "\n",
    "def oil_predict(df, target_name):\n",
    "    features = df.drop([target_name] , axis=1)\n",
    "    target = df[target_name]\n",
    "    \n",
    "    features_train, features_valid, target_train, target_valid = train_test_split(\n",
    "    features, target, test_size=0.25, random_state=5062020)\n",
    "    \n",
    "    model.fit(features_train, target_train)\n",
    "    predicted_target = model.predict(features_valid)\n",
    "    data = {'real_product' : target_valid,\n",
    "            'predicted_product' : predicted_target         \n",
    "    }\n",
    "    data_frame = pd.DataFrame(data, columns = ['real_product', 'predicted_product'])\n",
    "    rmse = mean_squared_error(target_valid, predicted_target)**0.5\n",
    "    mean = data_frame['predicted_product'].mean()\n",
    "    oil_sum = data_frame['predicted_product'].sum()\n",
    "    return data_frame, rmse, mean, oil_sum"
   ]
  },
  {
   "cell_type": "code",
   "execution_count": 23,
   "metadata": {},
   "outputs": [
    {
     "name": "stdout",
     "output_type": "stream",
     "text": [
      "       real_product  predicted_product\n",
      "87351    145.407098         110.644337\n",
      "52805    131.589165          76.793446\n",
      "6583     101.596316         103.711077\n",
      "34986      8.123407          53.135348\n",
      "8253     169.834019         151.656408\n",
      "RMSE - 37.401957199217094\n",
      "Средний запас запасанного сырья - 92.52620585803335\n"
     ]
    }
   ],
   "source": [
    "geo_data_0_predicted, geo_data_0_rmse, geo_data_0_predicted_mean, geo_data_0_predicted_sum = oil_predict(geo_data_0, 'product')\n",
    "print(geo_data_0_predicted.head())\n",
    "print('RMSE -', geo_data_0_rmse)\n",
    "print('Средний запас запасанного сырья -', geo_data_0_predicted_mean)"
   ]
  },
  {
   "cell_type": "code",
   "execution_count": 24,
   "metadata": {},
   "outputs": [
    {
     "name": "stdout",
     "output_type": "stream",
     "text": [
      "       real_product  predicted_product\n",
      "87351     53.906522          54.336477\n",
      "52805      3.179103           3.756436\n",
      "6583      30.132364          31.266991\n",
      "34986     26.953261          26.692436\n",
      "8253      30.132364          31.128898\n",
      "RMSE - 0.8874258342572853\n",
      "Средний запас запасанного сырья - 68.27820207556354\n"
     ]
    }
   ],
   "source": [
    "geo_data_1_predicted, geo_data_1_rmse, geo_data_1_predicted_mean, geo_data_1_predicted_sum = oil_predict(geo_data_1, 'product')\n",
    "print(geo_data_1_predicted.head())\n",
    "print('RMSE -', geo_data_1_rmse)\n",
    "print('Средний запас запасанного сырья -', geo_data_1_predicted_mean)"
   ]
  },
  {
   "cell_type": "code",
   "execution_count": 25,
   "metadata": {},
   "outputs": [
    {
     "name": "stdout",
     "output_type": "stream",
     "text": [
      "       real_product  predicted_product\n",
      "87351    140.971569          62.929196\n",
      "52805    125.190694          98.323840\n",
      "6583      94.544056          79.920918\n",
      "34986    107.208380         104.706020\n",
      "8253     173.924418         114.066050\n",
      "RMSE - 40.18553497171235\n",
      "Средний запас запасанного сырья - 94.94294307153748\n"
     ]
    }
   ],
   "source": [
    "geo_data_2_predicted, geo_data_2_rmse, geo_data_2_predicted_mean, geo_data_2_predicted_sum = oil_predict(geo_data_2, 'product')\n",
    "print(geo_data_2_predicted.head())\n",
    "print('RMSE -', geo_data_2_rmse)\n",
    "print('Средний запас запасанного сырья -', geo_data_2_predicted_mean)"
   ]
  },
  {
   "cell_type": "code",
   "execution_count": 26,
   "metadata": {},
   "outputs": [
    {
     "name": "stdout",
     "output_type": "stream",
     "text": [
      "Суммарный предсказанный запас в позиции 0 - 2313155.146450834\n",
      "Суммарный реальный запас в позиции 0 - 2313395.805667925\n",
      "\n",
      "Суммарный предсказанный запас в позиции 1 - 1706955.0518890887\n",
      "Суммарный реальный запас в позиции 1 - 1706710.3444370048\n",
      "\n",
      "Суммарный предсказанный запас в позиции 2 - 2373573.576788437\n",
      "Суммарный реальный запас в позиции 2 - 2378821.7815969232\n"
     ]
    }
   ],
   "source": [
    "print('Суммарный предсказанный запас в позиции 0 -', geo_data_0_predicted_sum)\n",
    "print('Суммарный реальный запас в позиции 0 -', geo_data_0_predicted['real_product'].sum())\n",
    "print()\n",
    "print('Суммарный предсказанный запас в позиции 1 -', geo_data_1_predicted_sum)\n",
    "print('Суммарный реальный запас в позиции 1 -', geo_data_1_predicted['real_product'].sum())\n",
    "print()\n",
    "print('Суммарный предсказанный запас в позиции 2 -', geo_data_2_predicted_sum)\n",
    "print('Суммарный реальный запас в позиции 2 -', geo_data_2_predicted['real_product'].sum())"
   ]
  },
  {
   "cell_type": "markdown",
   "metadata": {},
   "source": [
    "**Вывод по шагу 2**\n",
    "\n",
    "Данные предсказаний о количестве нефти по сумме примерно совпадают по сумме с предсказанными значениями. Лучше всего модель предсказала запасы во втором регионе (RMSE - 0.88), далее в первом и третьем соотвественно.\n",
    "\n",
    "Возможно утеряные данные из второго региона сказались на модели и она достаточно сильно переобучилась.\n",
    "\n",
    "Но из-за утери данных и малого запаса в среднем на меторождение не имеет смысла рассматривать второе месторождение как прибыльное.\n",
    "\n",
    "Изучим все регионы на риски и прибыль, но в конечном итоге будем выбирать между 1 и 3 регионом."
   ]
  },
  {
   "cell_type": "markdown",
   "metadata": {},
   "source": [
    "## Подготовка к расчёту прибыли"
   ]
  },
  {
   "cell_type": "markdown",
   "metadata": {},
   "source": [
    "Создадим переменные об экономической информации."
   ]
  },
  {
   "cell_type": "code",
   "execution_count": 44,
   "metadata": {},
   "outputs": [],
   "source": [
    "budget = 10000000 #Мы расчитываем прибыль в тысячах рублей за тысячу барелей, поэтому 1 милиард сохранен таким образом\n",
    "chosen_points = 500\n",
    "best_points = 200\n",
    "price_per_barrel = 450"
   ]
  },
  {
   "cell_type": "markdown",
   "metadata": {},
   "source": [
    "Расчитаем безубыточную разработку сырья на 200 месторождениях. И найдем среднее количество продукта в месторождениях необходимое для этого."
   ]
  },
  {
   "cell_type": "code",
   "execution_count": 45,
   "metadata": {},
   "outputs": [
    {
     "name": "stdout",
     "output_type": "stream",
     "text": [
      "Средняя прибыль на лучшую точку - 50000.0 тыс.руб.\n",
      "Средний объем нефти на точку - 111.11111111111111 тыс. барелей\n",
      "Средний объем нефти на регион - 22222.222222222223 тыс. барелей\n"
     ]
    }
   ],
   "source": [
    "average_profit_per_point = budget / best_points\n",
    "print('Средняя прибыль на лучшую точку -', average_profit_per_point, 'тыс.руб.')\n",
    "\n",
    "average_barrels_per_point = average_profit_per_point  / price_per_barrel\n",
    "print('Средний объем нефти на точку -',average_barrels_per_point, 'тыс. барелей')\n",
    "\n",
    "average_barrels = budget / price_per_barrel\n",
    "print('Средний объем нефти на регион -',average_barrels, 'тыс. барелей')"
   ]
  },
  {
   "cell_type": "code",
   "execution_count": 29,
   "metadata": {},
   "outputs": [
    {
     "name": "stdout",
     "output_type": "stream",
     "text": [
      "Средний запас фактичекой нефти на скважину в регионе 1:  92.50000000000001\n",
      "Средний запас фактичекой нефти на скважину в регионе 2:  68.82500000000002\n",
      "Средний запас фактичекой нефти на скважину в регионе 3:  95.00000000000004\n"
     ]
    }
   ],
   "source": [
    "print('Средний запас фактичекой нефти на скважину в регионе 1: ', geo_data_0['product'].mean())\n",
    "print('Средний запас фактичекой нефти на скважину в регионе 2: ', geo_data_1['product'].mean())\n",
    "print('Средний запас фактичекой нефти на скважину в регионе 3: ', geo_data_2['product'].mean())"
   ]
  },
  {
   "cell_type": "markdown",
   "metadata": {},
   "source": [
    "Создадим функцию для расчета прибыли на 500 точек."
   ]
  },
  {
   "cell_type": "code",
   "execution_count": 30,
   "metadata": {},
   "outputs": [],
   "source": [
    "def oil_profit_calculation(target, probabilities, count):\n",
    "    probs_sorted = probabilities.sort_values(ascending=False)\n",
    "    selected = target[probs_sorted.index][:count]\n",
    "    return price_per_barrel * selected.sum() - budget"
   ]
  },
  {
   "cell_type": "markdown",
   "metadata": {},
   "source": [
    "Выведем распределение предсказанных значений."
   ]
  },
  {
   "cell_type": "code",
   "execution_count": 31,
   "metadata": {},
   "outputs": [
    {
     "data": {
      "image/png": "[encoded data removed]",
      "text/plain": [
       "<Figure size 864x648 with 1 Axes>"
      ]
     },
     "metadata": {
      "needs_background": "light"
     },
     "output_type": "display_data"
    }
   ],
   "source": [
    "oil_hist(geo_data_0_predicted['predicted_product'], 200, 190, 500)"
   ]
  },
  {
   "cell_type": "code",
   "execution_count": 32,
   "metadata": {},
   "outputs": [
    {
     "data": {
      "image/png": "[encoded data removed]",
      "text/plain": [
       "<Figure size 864x648 with 1 Axes>"
      ]
     },
     "metadata": {
      "needs_background": "light"
     },
     "output_type": "display_data"
    }
   ],
   "source": [
    "oil_hist(geo_data_1_predicted['predicted_product'], 20, 150, 5000)"
   ]
  },
  {
   "cell_type": "code",
   "execution_count": 33,
   "metadata": {},
   "outputs": [
    {
     "data": {
      "image/png": "[encoded data removed]",
      "text/plain": [
       "<Figure size 864x648 with 1 Axes>"
      ]
     },
     "metadata": {
      "needs_background": "light"
     },
     "output_type": "display_data"
    }
   ],
   "source": [
    "oil_hist(geo_data_2_predicted['predicted_product'], 200, 190, 500)"
   ]
  },
  {
   "cell_type": "markdown",
   "metadata": {},
   "source": [
    "**Вывод по шагу 3**\n",
    "\n",
    "Была подготовлена средняя оценка прибили за скважину и средний объем на скважину. И создана функция по расчету прибыли.\n",
    "\n",
    "Изучены средние фактические запасы. Для первого и третьего - высокая вероятность окупить затраты. Разброс значений вокруг среднего 92.5 и 95 говорит нам о том, что существует достаточно много скважин, где запасы больше необходимого среднего.\n",
    "\n",
    "Во вторых данных возможно есть определенный смысл - значений больше 111 достаточно много и при определенной доли везения можно выбрать только лучшие в этой выборке, хотя и среднее значение 68.8."
   ]
  },
  {
   "cell_type": "markdown",
   "metadata": {},
   "source": [
    "## Расчёт прибыли и рисков "
   ]
  },
  {
   "cell_type": "code",
   "execution_count": 34,
   "metadata": {},
   "outputs": [],
   "source": [
    "state = np.random.RandomState(777)\n",
    "def bootstrap_1000(target, probs):\n",
    "    values=[]\n",
    "    lost = 0\n",
    "    for i in range(1000):\n",
    "        target_sample = target.sample(replace=True, random_state=state, n=chosen_points)\n",
    "        probs_sample = probs[target_sample.index]\n",
    "        profit = oil_profit_calculation(target, probs_sample, best_points)\n",
    "        if profit < 0:\n",
    "            lost +=1\n",
    "        values.append(profit)\n",
    "    \n",
    "    values = pd.Series(values)\n",
    "    lower = values.quantile(0.025)\n",
    "    upper = values.quantile(0.975)\n",
    "    average = values.mean()\n",
    "    risk = lost / 1000\n",
    "    return average, lower, upper, risk"
   ]
  },
  {
   "cell_type": "code",
   "execution_count": 35,
   "metadata": {},
   "outputs": [
    {
     "name": "stdout",
     "output_type": "stream",
     "text": [
      "Данные по первому региону.\n",
      "Средняя прибыль по региону = 444273.07 тыс.руб.\n",
      "95% доверительный интервал от -62354.93 до 927999.53 тыс.руб.\n",
      "Процент риска 4.00%\n",
      "-------------------\n",
      "Данные по второму региону.\n",
      "Средняя прибыль по региону = 420806.79 тыс.руб.\n",
      "95% доверительный интервал от 32431.90 до 827250.91 тыс.руб.\n",
      "Процент риска 1.50%\n",
      "-------------------\n",
      "Данные по третьему региону.\n",
      "Средняя прибыль по региону = 392909.18 тыс.руб.\n",
      "95% доверительный интервал от -97875.41 до 880862.49 тыс.руб.\n",
      "Процент риска 7.20%\n"
     ]
    }
   ],
   "source": [
    "average_0, lower_0, upper_0, risk_0 = bootstrap_1000(geo_data_0_predicted['real_product'], \n",
    "                                                     geo_data_0_predicted['predicted_product'])\n",
    "print('Данные по первому региону.')\n",
    "print('Средняя прибыль по региону = {:.2f} тыс.руб.'.format(average_0))\n",
    "print('95% доверительный интервал от {:.2f} до {:.2f} тыс.руб.'.format(lower_0, upper_0))\n",
    "print('Процент риска {:.2%}'.format(risk_0))\n",
    "\n",
    "print('-------------------')\n",
    "\n",
    "average_1, lower_1, upper_1, risk_1 = bootstrap_1000(geo_data_1_predicted['real_product'], \n",
    "                                                     geo_data_1_predicted['predicted_product'])\n",
    "print('Данные по второму региону.')\n",
    "print('Средняя прибыль по региону = {:.2f} тыс.руб.'.format(average_1))\n",
    "print('95% доверительный интервал от {:.2f} до {:.2f} тыс.руб.'.format(lower_1, upper_1))\n",
    "print('Процент риска {:.2%}'.format(risk_1))\n",
    "\n",
    "print('-------------------')\n",
    "\n",
    "average_2, lower_2, upper_2, risk_2 = bootstrap_1000(geo_data_2_predicted['real_product'], \n",
    "                                                     geo_data_2_predicted['predicted_product'])\n",
    "print('Данные по третьему региону.')\n",
    "print('Средняя прибыль по региону = {:.2f} тыс.руб.'.format(average_2))\n",
    "print('95% доверительный интервал от {:.2f} до {:.2f} тыс.руб.'.format(lower_2, upper_2))\n",
    "print('Процент риска {:.2%}'.format(risk_2))"
   ]
  },
  {
   "cell_type": "markdown",
   "metadata": {},
   "source": [
    "**Вывод по шагу 4**\n",
    "\n",
    "Данные были обработаны и рассчитаны прибыль, интервал и риски.\n",
    "\n",
    "Мы отсеиваем первый и третий регион, так как риски остаточно велики. Остается один единственный - второй, чей риск ниже требуемого. Кроме того доверительный интервал показывает, что даже при не очень удачном выборе разработка скважин окупится."
   ]
  },
  {
   "cell_type": "markdown",
   "metadata": {},
   "source": [
    "**Итоговый вывод**\n",
    "\n",
    "При выполнении следующего проекта было выполнено:\n",
    "\n",
    "Изучины данные. Проведена подготовка данных к моделированию.\n",
    "Обучена модель для каждого региона geo_data_0, geo_data_1 и geo_data_2.\n",
    "Составлена функция расчета прибыли в регионе.\n",
    "Посчитана прибыль и риски за каждый регион и обоснован выбор региона.\n",
    "Второй регион получился одним из лучших по показателям предсказывания, **хотя данные не выглядят нормально распределенными и вцелом подозрительно**."
   ]
  }
 ],
 "metadata": {
  "ExecuteTimeLog": [
   {
    "duration": 1185,
    "start_time": "2022-01-16T11:28:59.493Z"
   },
   {
    "duration": 552,
    "start_time": "2022-01-16T11:29:00.680Z"
   },
   {
    "duration": 3,
    "start_time": "2022-01-16T11:29:01.412Z"
   },
   {
    "duration": 76,
    "start_time": "2022-01-16T11:29:02.288Z"
   },
   {
    "duration": 3,
    "start_time": "2022-01-16T11:29:13.211Z"
   },
   {
    "duration": 208,
    "start_time": "2022-01-16T11:29:13.544Z"
   },
   {
    "duration": 5,
    "start_time": "2022-01-16T11:29:49.420Z"
   },
   {
    "duration": 457,
    "start_time": "2022-01-16T11:29:50.293Z"
   },
   {
    "duration": 11,
    "start_time": "2022-01-16T11:29:52.160Z"
   },
   {
    "duration": 2,
    "start_time": "2022-01-16T11:29:53.688Z"
   },
   {
    "duration": 222,
    "start_time": "2022-01-16T11:29:54.816Z"
   },
   {
    "duration": 4,
    "start_time": "2022-01-16T11:31:56.454Z"
   },
   {
    "duration": 443,
    "start_time": "2022-01-16T11:31:57.380Z"
   },
   {
    "duration": 14,
    "start_time": "2022-01-16T11:31:58.319Z"
   },
   {
    "duration": 101,
    "start_time": "2022-01-16T11:31:59.737Z"
   },
   {
    "duration": 3,
    "start_time": "2022-01-16T11:32:00.837Z"
   },
   {
    "duration": 316,
    "start_time": "2022-01-16T11:32:01.856Z"
   },
   {
    "duration": 558,
    "start_time": "2022-01-16T11:32:03.054Z"
   },
   {
    "duration": 16255,
    "start_time": "2022-01-16T11:32:15.449Z"
   },
   {
    "duration": 5,
    "start_time": "2022-01-16T11:34:00.328Z"
   },
   {
    "duration": 4,
    "start_time": "2022-01-16T11:34:05.550Z"
   },
   {
    "duration": 4,
    "start_time": "2022-01-16T11:34:29.060Z"
   },
   {
    "duration": 4,
    "start_time": "2022-01-16T11:34:30.065Z"
   },
   {
    "duration": 4,
    "start_time": "2022-01-16T11:34:31.064Z"
   },
   {
    "duration": 5,
    "start_time": "2022-01-16T11:44:22.014Z"
   },
   {
    "duration": 4,
    "start_time": "2022-01-16T11:44:23.073Z"
   },
   {
    "duration": 3,
    "start_time": "2022-01-16T11:44:23.625Z"
   },
   {
    "duration": 8300,
    "start_time": "2022-01-16T11:44:24.973Z"
   },
   {
    "duration": 4,
    "start_time": "2022-01-16T11:50:15.472Z"
   },
   {
    "duration": 382,
    "start_time": "2022-01-16T11:50:16.071Z"
   },
   {
    "duration": 4,
    "start_time": "2022-01-16T11:50:16.622Z"
   },
   {
    "duration": 546,
    "start_time": "2022-01-16T11:50:17.475Z"
   },
   {
    "duration": 438,
    "start_time": "2022-01-16T11:50:35.849Z"
   },
   {
    "duration": 447,
    "start_time": "2022-01-16T11:50:36.289Z"
   },
   {
    "duration": 6,
    "start_time": "2022-01-16T11:51:34.420Z"
   },
   {
    "duration": 460,
    "start_time": "2022-01-16T11:51:47.420Z"
   },
   {
    "duration": 401,
    "start_time": "2022-01-16T11:52:24.274Z"
   },
   {
    "duration": 590,
    "start_time": "2022-01-16T11:52:24.773Z"
   },
   {
    "duration": 3,
    "start_time": "2022-01-16T11:52:29.168Z"
   },
   {
    "duration": 3,
    "start_time": "2022-01-16T11:52:51.462Z"
   },
   {
    "duration": 5,
    "start_time": "2022-01-16T11:52:52.350Z"
   },
   {
    "duration": 5,
    "start_time": "2022-01-16T11:52:53.033Z"
   },
   {
    "duration": 4,
    "start_time": "2022-01-16T11:53:33.628Z"
   },
   {
    "duration": 9,
    "start_time": "2022-01-16T11:53:33.634Z"
   },
   {
    "duration": 4,
    "start_time": "2022-01-16T11:53:33.869Z"
   },
   {
    "duration": 4,
    "start_time": "2022-01-16T11:53:35.152Z"
   },
   {
    "duration": 4,
    "start_time": "2022-01-16T11:53:35.648Z"
   },
   {
    "duration": 5,
    "start_time": "2022-01-16T11:53:35.722Z"
   },
   {
    "duration": 10016,
    "start_time": "2022-01-16T11:53:42.055Z"
   },
   {
    "duration": 440,
    "start_time": "2022-01-16T11:57:18.408Z"
   },
   {
    "duration": 3,
    "start_time": "2022-01-16T11:57:26.351Z"
   },
   {
    "duration": 34,
    "start_time": "2022-01-16T11:57:30.856Z"
   },
   {
    "duration": 85,
    "start_time": "2022-01-16T11:58:42.394Z"
   },
   {
    "duration": 16,
    "start_time": "2022-01-16T11:59:23.804Z"
   },
   {
    "duration": 230,
    "start_time": "2022-01-16T12:00:22.563Z"
   },
   {
    "duration": 5,
    "start_time": "2022-01-16T12:00:23.836Z"
   },
   {
    "duration": 603,
    "start_time": "2022-01-16T12:00:24.235Z"
   },
   {
    "duration": 233,
    "start_time": "2022-01-16T12:00:25.903Z"
   },
   {
    "duration": 4,
    "start_time": "2022-01-16T12:00:26.157Z"
   },
   {
    "duration": 743,
    "start_time": "2022-01-16T12:00:26.618Z"
   },
   {
    "duration": 252,
    "start_time": "2022-01-16T12:00:59.532Z"
   },
   {
    "duration": 231,
    "start_time": "2022-01-16T12:01:03.432Z"
   },
   {
    "duration": 589,
    "start_time": "2022-01-16T12:01:07.049Z"
   },
   {
    "duration": 341,
    "start_time": "2022-01-16T12:01:16.364Z"
   },
   {
    "duration": 588,
    "start_time": "2022-01-16T12:01:30.219Z"
   },
   {
    "duration": 718,
    "start_time": "2022-01-16T12:02:05.342Z"
   },
   {
    "duration": 589,
    "start_time": "2022-01-16T12:02:07.611Z"
   },
   {
    "duration": 4,
    "start_time": "2022-01-16T12:03:51.639Z"
   },
   {
    "duration": 10,
    "start_time": "2022-01-16T12:03:51.985Z"
   },
   {
    "duration": 416,
    "start_time": "2022-01-16T12:04:39.370Z"
   },
   {
    "duration": 407,
    "start_time": "2022-01-16T12:04:53.108Z"
   },
   {
    "duration": 664,
    "start_time": "2022-01-16T12:04:58.754Z"
   },
   {
    "duration": 680,
    "start_time": "2022-01-16T12:05:02.754Z"
   },
   {
    "duration": 870,
    "start_time": "2022-01-16T12:05:08.435Z"
   },
   {
    "duration": 433,
    "start_time": "2022-01-16T12:05:18.727Z"
   },
   {
    "duration": 293,
    "start_time": "2022-01-16T12:05:21.981Z"
   },
   {
    "duration": 294,
    "start_time": "2022-01-16T12:05:25.742Z"
   },
   {
    "duration": 354,
    "start_time": "2022-01-16T12:05:33.425Z"
   },
   {
    "duration": 348,
    "start_time": "2022-01-16T12:05:39.288Z"
   },
   {
    "duration": 345,
    "start_time": "2022-01-16T12:05:44.158Z"
   },
   {
    "duration": 342,
    "start_time": "2022-01-16T12:05:47.904Z"
   },
   {
    "duration": 290,
    "start_time": "2022-01-16T12:05:51.673Z"
   },
   {
    "duration": 309,
    "start_time": "2022-01-16T12:05:55.308Z"
   },
   {
    "duration": 590,
    "start_time": "2022-01-16T12:05:59.310Z"
   },
   {
    "duration": 698,
    "start_time": "2022-01-16T12:06:07.283Z"
   },
   {
    "duration": 447,
    "start_time": "2022-01-16T12:06:12.682Z"
   },
   {
    "duration": 528,
    "start_time": "2022-01-16T12:06:16.347Z"
   },
   {
    "duration": 633,
    "start_time": "2022-01-16T12:06:16.877Z"
   },
   {
    "duration": 713,
    "start_time": "2022-01-16T12:06:20.233Z"
   },
   {
    "duration": 4,
    "start_time": "2022-01-16T12:06:20.947Z"
   },
   {
    "duration": 10,
    "start_time": "2022-01-16T12:06:21.026Z"
   },
   {
    "duration": 5,
    "start_time": "2022-01-16T12:34:21.504Z"
   },
   {
    "duration": 19,
    "start_time": "2022-01-16T12:34:22.183Z"
   },
   {
    "duration": 4,
    "start_time": "2022-01-16T12:34:29.009Z"
   },
   {
    "duration": 15,
    "start_time": "2022-01-16T12:34:48.955Z"
   },
   {
    "duration": 84,
    "start_time": "2022-01-16T12:34:56.278Z"
   },
   {
    "duration": 445,
    "start_time": "2022-01-16T12:35:08.210Z"
   },
   {
    "duration": 4,
    "start_time": "2022-01-16T12:35:39.662Z"
   },
   {
    "duration": 79,
    "start_time": "2022-01-16T12:35:39.964Z"
   },
   {
    "duration": 32,
    "start_time": "2022-01-16T12:35:40.329Z"
   },
   {
    "duration": 3,
    "start_time": "2022-01-16T12:35:47.075Z"
   },
   {
    "duration": 21,
    "start_time": "2022-01-16T12:35:47.514Z"
   },
   {
    "duration": 4,
    "start_time": "2022-01-16T12:35:47.850Z"
   },
   {
    "duration": 13,
    "start_time": "2022-01-16T12:35:48.939Z"
   },
   {
    "duration": 487,
    "start_time": "2022-01-16T12:35:50.031Z"
   },
   {
    "duration": 4,
    "start_time": "2022-01-16T12:36:10.535Z"
   },
   {
    "duration": 441,
    "start_time": "2022-01-16T12:36:10.541Z"
   },
   {
    "duration": 3,
    "start_time": "2022-01-16T12:36:11.153Z"
   },
   {
    "duration": 104,
    "start_time": "2022-01-16T12:36:11.159Z"
   },
   {
    "duration": 14,
    "start_time": "2022-01-16T12:36:11.265Z"
   },
   {
    "duration": 19,
    "start_time": "2022-01-16T12:36:11.281Z"
   },
   {
    "duration": 659,
    "start_time": "2022-01-16T12:36:11.302Z"
   },
   {
    "duration": 592,
    "start_time": "2022-01-16T12:36:11.963Z"
   },
   {
    "duration": 449,
    "start_time": "2022-01-16T12:36:12.560Z"
   },
   {
    "duration": 743,
    "start_time": "2022-01-16T12:36:13.011Z"
   },
   {
    "duration": 4,
    "start_time": "2022-01-16T12:36:13.756Z"
   },
   {
    "duration": 24,
    "start_time": "2022-01-16T12:36:13.762Z"
   },
   {
    "duration": 3,
    "start_time": "2022-01-16T12:36:13.970Z"
   },
   {
    "duration": 20,
    "start_time": "2022-01-16T12:36:14.077Z"
   },
   {
    "duration": 4,
    "start_time": "2022-01-16T12:36:14.301Z"
   },
   {
    "duration": 12,
    "start_time": "2022-01-16T12:36:14.773Z"
   },
   {
    "duration": 37,
    "start_time": "2022-01-16T12:36:15.659Z"
   },
   {
    "duration": 243,
    "start_time": "2022-01-16T12:36:30.226Z"
   },
   {
    "duration": 214,
    "start_time": "2022-01-16T12:36:37.769Z"
   },
   {
    "duration": 15,
    "start_time": "2022-01-16T12:36:53.414Z"
   },
   {
    "duration": 13,
    "start_time": "2022-01-16T12:37:01.269Z"
   },
   {
    "duration": 66,
    "start_time": "2022-01-16T12:37:08.416Z"
   },
   {
    "duration": 7,
    "start_time": "2022-01-16T12:37:21.710Z"
   },
   {
    "duration": 5,
    "start_time": "2022-01-16T12:37:33.866Z"
   },
   {
    "duration": 79,
    "start_time": "2022-01-16T12:37:34.282Z"
   },
   {
    "duration": 45,
    "start_time": "2022-01-16T12:38:07.219Z"
   },
   {
    "duration": 80,
    "start_time": "2022-01-16T12:38:12.484Z"
   },
   {
    "duration": 9,
    "start_time": "2022-01-16T12:38:24.581Z"
   },
   {
    "duration": 3,
    "start_time": "2022-01-16T12:39:26.481Z"
   },
   {
    "duration": 3,
    "start_time": "2022-01-16T12:40:02.454Z"
   },
   {
    "duration": 6,
    "start_time": "2022-01-16T12:40:10.771Z"
   },
   {
    "duration": 7,
    "start_time": "2022-01-16T12:40:30.324Z"
   },
   {
    "duration": 8,
    "start_time": "2022-01-16T12:40:43.115Z"
   },
   {
    "duration": 3,
    "start_time": "2022-01-16T12:41:14.414Z"
   },
   {
    "duration": 593,
    "start_time": "2022-01-16T12:41:26.946Z"
   },
   {
    "duration": 306,
    "start_time": "2022-01-16T12:41:35.925Z"
   },
   {
    "duration": 652,
    "start_time": "2022-01-16T12:41:42.539Z"
   },
   {
    "duration": 5,
    "start_time": "2022-01-16T12:43:03.318Z"
   },
   {
    "duration": 3041,
    "start_time": "2022-01-16T12:43:09.154Z"
   },
   {
    "duration": 8524,
    "start_time": "2022-01-16T12:43:58.488Z"
   },
   {
    "duration": 8535,
    "start_time": "2022-01-16T12:44:41.477Z"
   },
   {
    "duration": 302,
    "start_time": "2022-01-16T17:42:49.635Z"
   },
   {
    "duration": 972,
    "start_time": "2022-01-16T17:42:59.175Z"
   },
   {
    "duration": 363,
    "start_time": "2022-01-16T17:43:00.364Z"
   },
   {
    "duration": 3,
    "start_time": "2022-01-16T17:43:01.093Z"
   },
   {
    "duration": 75,
    "start_time": "2022-01-16T17:43:01.441Z"
   },
   {
    "duration": 16,
    "start_time": "2022-01-16T17:43:02.545Z"
   },
   {
    "duration": 4,
    "start_time": "2022-01-16T17:43:03.293Z"
   },
   {
    "duration": 532,
    "start_time": "2022-01-16T17:43:03.737Z"
   },
   {
    "duration": 523,
    "start_time": "2022-01-16T17:43:04.271Z"
   },
   {
    "duration": 401,
    "start_time": "2022-01-16T17:43:04.797Z"
   },
   {
    "duration": 592,
    "start_time": "2022-01-16T17:43:05.200Z"
   },
   {
    "duration": 4,
    "start_time": "2022-01-16T17:43:05.794Z"
   },
   {
    "duration": 10,
    "start_time": "2022-01-16T17:43:05.799Z"
   },
   {
    "duration": 3,
    "start_time": "2022-01-16T17:43:07.611Z"
   },
   {
    "duration": 21,
    "start_time": "2022-01-16T17:43:08.996Z"
   },
   {
    "duration": 4,
    "start_time": "2022-01-16T17:43:09.527Z"
   },
   {
    "duration": 19,
    "start_time": "2022-01-16T17:43:10.335Z"
   },
   {
    "duration": 57,
    "start_time": "2022-01-16T17:43:10.969Z"
   },
   {
    "duration": 240,
    "start_time": "2022-01-16T17:43:11.296Z"
   },
   {
    "duration": 216,
    "start_time": "2022-01-16T17:43:11.727Z"
   },
   {
    "duration": 12,
    "start_time": "2022-01-16T17:43:12.458Z"
   },
   {
    "duration": 12,
    "start_time": "2022-01-16T17:43:12.883Z"
   },
   {
    "duration": 4,
    "start_time": "2022-01-16T17:43:13.660Z"
   },
   {
    "duration": 26,
    "start_time": "2022-01-16T17:43:15.361Z"
   },
   {
    "duration": 26,
    "start_time": "2022-01-16T17:43:15.774Z"
   },
   {
    "duration": 69,
    "start_time": "2022-01-16T17:43:16.160Z"
   },
   {
    "duration": 7,
    "start_time": "2022-01-16T17:43:16.492Z"
   },
   {
    "duration": 2,
    "start_time": "2022-01-16T17:43:40.044Z"
   },
   {
    "duration": 5,
    "start_time": "2022-01-16T17:43:44.647Z"
   },
   {
    "duration": 6,
    "start_time": "2022-01-16T17:43:45.179Z"
   },
   {
    "duration": 3,
    "start_time": "2022-01-16T17:43:46.264Z"
   },
   {
    "duration": 525,
    "start_time": "2022-01-16T17:43:48.612Z"
   },
   {
    "duration": 324,
    "start_time": "2022-01-16T17:43:49.182Z"
   },
   {
    "duration": 526,
    "start_time": "2022-01-16T17:43:49.627Z"
   },
   {
    "duration": 5,
    "start_time": "2022-01-16T17:43:55.049Z"
   },
   {
    "duration": 7266,
    "start_time": "2022-01-16T17:43:58.866Z"
   },
   {
    "duration": 1424,
    "start_time": "2022-01-16T20:18:00.210Z"
   },
   {
    "duration": 571,
    "start_time": "2022-01-16T20:18:01.637Z"
   },
   {
    "duration": 3,
    "start_time": "2022-01-16T20:18:02.211Z"
   },
   {
    "duration": 94,
    "start_time": "2022-01-16T20:18:02.216Z"
   },
   {
    "duration": 15,
    "start_time": "2022-01-16T20:18:02.311Z"
   },
   {
    "duration": 19,
    "start_time": "2022-01-16T20:18:02.328Z"
   },
   {
    "duration": 539,
    "start_time": "2022-01-16T20:18:02.348Z"
   },
   {
    "duration": 519,
    "start_time": "2022-01-16T20:18:02.889Z"
   },
   {
    "duration": 399,
    "start_time": "2022-01-16T20:18:03.410Z"
   },
   {
    "duration": 695,
    "start_time": "2022-01-16T20:18:03.810Z"
   },
   {
    "duration": 3,
    "start_time": "2022-01-16T20:18:04.506Z"
   },
   {
    "duration": 19,
    "start_time": "2022-01-16T20:18:04.511Z"
   },
   {
    "duration": 3,
    "start_time": "2022-01-16T20:18:04.532Z"
   },
   {
    "duration": 31,
    "start_time": "2022-01-16T20:18:04.537Z"
   },
   {
    "duration": 5,
    "start_time": "2022-01-16T20:18:04.570Z"
   },
   {
    "duration": 58,
    "start_time": "2022-01-16T20:18:04.577Z"
   },
   {
    "duration": 101,
    "start_time": "2022-01-16T20:18:04.729Z"
   },
   {
    "duration": 305,
    "start_time": "2022-01-16T20:18:04.832Z"
   },
   {
    "duration": 403,
    "start_time": "2022-01-16T20:18:05.139Z"
   },
   {
    "duration": 92,
    "start_time": "2022-01-16T20:18:05.544Z"
   },
   {
    "duration": 194,
    "start_time": "2022-01-16T20:18:05.638Z"
   },
   {
    "duration": 196,
    "start_time": "2022-01-16T20:18:05.835Z"
   },
   {
    "duration": 30,
    "start_time": "2022-01-16T20:18:06.034Z"
   },
   {
    "duration": 118,
    "start_time": "2022-01-16T20:18:06.129Z"
   },
   {
    "duration": 189,
    "start_time": "2022-01-16T20:18:06.249Z"
   },
   {
    "duration": 90,
    "start_time": "2022-01-16T20:18:06.440Z"
   },
   {
    "duration": 8,
    "start_time": "2022-01-16T20:18:06.532Z"
   },
   {
    "duration": 93,
    "start_time": "2022-01-16T20:18:06.542Z"
   },
   {
    "duration": 8,
    "start_time": "2022-01-16T20:18:06.637Z"
   },
   {
    "duration": 4,
    "start_time": "2022-01-16T20:18:06.647Z"
   },
   {
    "duration": 939,
    "start_time": "2022-01-16T20:18:06.653Z"
   },
   {
    "duration": 255,
    "start_time": "2022-01-16T20:18:07.594Z"
   },
   {
    "duration": 525,
    "start_time": "2022-01-16T20:18:07.850Z"
   },
   {
    "duration": 5,
    "start_time": "2022-01-16T20:18:08.377Z"
   },
   {
    "duration": 7583,
    "start_time": "2022-01-16T20:18:08.383Z"
   },
   {
    "duration": 3,
    "start_time": "2022-01-16T20:19:12.505Z"
   },
   {
    "duration": 5,
    "start_time": "2022-01-16T20:19:16.608Z"
   },
   {
    "duration": 2,
    "start_time": "2022-01-16T20:20:56.249Z"
   },
   {
    "duration": 4,
    "start_time": "2022-01-16T20:20:58.944Z"
   },
   {
    "duration": 2,
    "start_time": "2022-01-16T20:21:11.124Z"
   },
   {
    "duration": 4,
    "start_time": "2022-01-16T20:21:13.530Z"
   },
   {
    "duration": 3,
    "start_time": "2022-01-16T20:21:21.208Z"
   },
   {
    "duration": 4,
    "start_time": "2022-01-16T20:21:23.927Z"
   },
   {
    "duration": 4,
    "start_time": "2022-01-16T20:21:27.305Z"
   },
   {
    "duration": 5,
    "start_time": "2022-01-16T20:21:28.781Z"
   },
   {
    "duration": 92,
    "start_time": "2022-01-16T20:22:21.939Z"
   },
   {
    "duration": 92,
    "start_time": "2022-01-16T20:22:52.631Z"
   }
  ],
  "kernelspec": {
   "display_name": "Python 3 (ipykernel)",
   "language": "python",
   "name": "python3"
  },
  "language_info": {
   "codemirror_mode": {
    "name": "ipython",
    "version": 3
   },
   "file_extension": ".py",
   "mimetype": "text/x-python",
   "name": "python",
   "nbconvert_exporter": "python",
   "pygments_lexer": "ipython3",
   "version": "3.9.7"
  },
  "toc": {
   "base_numbering": 1,
   "nav_menu": {},
   "number_sections": true,
   "sideBar": true,
   "skip_h1_title": true,
   "title_cell": "Table of Contents",
   "title_sidebar": "Contents",
   "toc_cell": false,
   "toc_position": {},
   "toc_section_display": true,
   "toc_window_display": false
  }
 },
 "nbformat": 4,
 "nbformat_minor": 2
}
