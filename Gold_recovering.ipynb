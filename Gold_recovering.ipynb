{
 "cells": [
  {
   "cell_type": "markdown",
   "metadata": {},
   "source": [
    "# Восстановление золота из руды"
   ]
  },
  {
   "cell_type": "markdown",
   "metadata": {},
   "source": [
    "Подготовьте прототип модели машинного обучения для «Цифры». Компания разрабатывает решения для эффективной работы промышленных предприятий.\n",
    "\n",
    "Модель должна предсказать коэффициент восстановления золота из золотосодержащей руды. Используйте данные с параметрами добычи и очистки. \n",
    "\n",
    "Модель поможет оптимизировать производство, чтобы не запускать предприятие с убыточными характеристиками.\n",
    "\n",
    "Вам нужно:\n",
    "\n",
    "1. Подготовить данные;\n",
    "2. Провести исследовательский анализ данных;\n",
    "3. Построить и обучить модель.\n",
    "\n",
    "Чтобы выполнить проект, обращайтесь к библиотекам *pandas*, *matplotlib* и *sklearn.* Вам поможет их документация."
   ]
  },
  {
   "cell_type": "markdown",
   "metadata": {},
   "source": [
    "## Подготовка данных"
   ]
  },
  {
   "cell_type": "markdown",
   "metadata": {},
   "source": [
    "Указываем используемые библиотеки"
   ]
  },
  {
   "cell_type": "code",
   "execution_count": 1,
   "metadata": {},
   "outputs": [],
   "source": [
    "import matplotlib.pyplot as plt\n",
    "import numpy as np\n",
    "import pandas as pd\n",
    "import warnings\n",
    "from sklearn.model_selection import train_test_split\n",
    "from sklearn.preprocessing import StandardScaler\n",
    "from sklearn.metrics import r2_score\n",
    "from sklearn.metrics import mean_absolute_error\n",
    "from sklearn.preprocessing import PolynomialFeatures\n",
    "from sklearn.linear_model import LinearRegression\n",
    "from sklearn.linear_model import Ridge\n",
    "from sklearn.tree import DecisionTreeRegressor\n",
    "from sklearn.ensemble import ExtraTreesRegressor\n",
    "from sklearn.model_selection import cross_val_score\n",
    "from sklearn.model_selection import GridSearchCV\n",
    "from sklearn.pipeline import Pipeline\n",
    "warnings.filterwarnings('ignore')"
   ]
  },
  {
   "cell_type": "code",
   "execution_count": 2,
   "metadata": {},
   "outputs": [],
   "source": [
    "gold_recovery_train = pd.read_csv('/datasets/gold_recovery_train.csv')\n",
    "gold_recovery_test = pd.read_csv('/datasets/gold_recovery_test.csv')\n",
    "gold_recovery_full = pd.read_csv('/datasets/gold_recovery_full.csv')"
   ]
  },
  {
   "cell_type": "code",
   "execution_count": 3,
   "metadata": {},
   "outputs": [
    {
     "name": "stdout",
     "output_type": "stream",
     "text": [
      "<class 'pandas.core.frame.DataFrame'>\n",
      "RangeIndex: 16860 entries, 0 to 16859\n",
      "Data columns (total 87 columns):\n",
      "date                                                  16860 non-null object\n",
      "final.output.concentrate_ag                           16788 non-null float64\n",
      "final.output.concentrate_pb                           16788 non-null float64\n",
      "final.output.concentrate_sol                          16490 non-null float64\n",
      "final.output.concentrate_au                           16789 non-null float64\n",
      "final.output.recovery                                 15339 non-null float64\n",
      "final.output.tail_ag                                  16794 non-null float64\n",
      "final.output.tail_pb                                  16677 non-null float64\n",
      "final.output.tail_sol                                 16715 non-null float64\n",
      "final.output.tail_au                                  16794 non-null float64\n",
      "primary_cleaner.input.sulfate                         15553 non-null float64\n",
      "primary_cleaner.input.depressant                      15598 non-null float64\n",
      "primary_cleaner.input.feed_size                       16860 non-null float64\n",
      "primary_cleaner.input.xanthate                        15875 non-null float64\n",
      "primary_cleaner.output.concentrate_ag                 16778 non-null float64\n",
      "primary_cleaner.output.concentrate_pb                 16502 non-null float64\n",
      "primary_cleaner.output.concentrate_sol                16224 non-null float64\n",
      "primary_cleaner.output.concentrate_au                 16778 non-null float64\n",
      "primary_cleaner.output.tail_ag                        16777 non-null float64\n",
      "primary_cleaner.output.tail_pb                        16761 non-null float64\n",
      "primary_cleaner.output.tail_sol                       16579 non-null float64\n",
      "primary_cleaner.output.tail_au                        16777 non-null float64\n",
      "primary_cleaner.state.floatbank8_a_air                16820 non-null float64\n",
      "primary_cleaner.state.floatbank8_a_level              16827 non-null float64\n",
      "primary_cleaner.state.floatbank8_b_air                16820 non-null float64\n",
      "primary_cleaner.state.floatbank8_b_level              16833 non-null float64\n",
      "primary_cleaner.state.floatbank8_c_air                16822 non-null float64\n",
      "primary_cleaner.state.floatbank8_c_level              16833 non-null float64\n",
      "primary_cleaner.state.floatbank8_d_air                16821 non-null float64\n",
      "primary_cleaner.state.floatbank8_d_level              16833 non-null float64\n",
      "rougher.calculation.sulfate_to_au_concentrate         16833 non-null float64\n",
      "rougher.calculation.floatbank10_sulfate_to_au_feed    16833 non-null float64\n",
      "rougher.calculation.floatbank11_sulfate_to_au_feed    16833 non-null float64\n",
      "rougher.calculation.au_pb_ratio                       15618 non-null float64\n",
      "rougher.input.feed_ag                                 16778 non-null float64\n",
      "rougher.input.feed_pb                                 16632 non-null float64\n",
      "rougher.input.feed_rate                               16347 non-null float64\n",
      "rougher.input.feed_size                               16443 non-null float64\n",
      "rougher.input.feed_sol                                16568 non-null float64\n",
      "rougher.input.feed_au                                 16777 non-null float64\n",
      "rougher.input.floatbank10_sulfate                     15816 non-null float64\n",
      "rougher.input.floatbank10_xanthate                    16514 non-null float64\n",
      "rougher.input.floatbank11_sulfate                     16237 non-null float64\n",
      "rougher.input.floatbank11_xanthate                    14956 non-null float64\n",
      "rougher.output.concentrate_ag                         16778 non-null float64\n",
      "rougher.output.concentrate_pb                         16778 non-null float64\n",
      "rougher.output.concentrate_sol                        16698 non-null float64\n",
      "rougher.output.concentrate_au                         16778 non-null float64\n",
      "rougher.output.recovery                               14287 non-null float64\n",
      "rougher.output.tail_ag                                14610 non-null float64\n",
      "rougher.output.tail_pb                                16778 non-null float64\n",
      "rougher.output.tail_sol                               14611 non-null float64\n",
      "rougher.output.tail_au                                14611 non-null float64\n",
      "rougher.state.floatbank10_a_air                       16807 non-null float64\n",
      "rougher.state.floatbank10_a_level                     16807 non-null float64\n",
      "rougher.state.floatbank10_b_air                       16807 non-null float64\n",
      "rougher.state.floatbank10_b_level                     16807 non-null float64\n",
      "rougher.state.floatbank10_c_air                       16807 non-null float64\n",
      "rougher.state.floatbank10_c_level                     16814 non-null float64\n",
      "rougher.state.floatbank10_d_air                       16802 non-null float64\n",
      "rougher.state.floatbank10_d_level                     16809 non-null float64\n",
      "rougher.state.floatbank10_e_air                       16257 non-null float64\n",
      "rougher.state.floatbank10_e_level                     16809 non-null float64\n",
      "rougher.state.floatbank10_f_air                       16802 non-null float64\n",
      "rougher.state.floatbank10_f_level                     16802 non-null float64\n",
      "secondary_cleaner.output.tail_ag                      16776 non-null float64\n",
      "secondary_cleaner.output.tail_pb                      16764 non-null float64\n",
      "secondary_cleaner.output.tail_sol                     14874 non-null float64\n",
      "secondary_cleaner.output.tail_au                      16778 non-null float64\n",
      "secondary_cleaner.state.floatbank2_a_air              16497 non-null float64\n",
      "secondary_cleaner.state.floatbank2_a_level            16751 non-null float64\n",
      "secondary_cleaner.state.floatbank2_b_air              16705 non-null float64\n",
      "secondary_cleaner.state.floatbank2_b_level            16748 non-null float64\n",
      "secondary_cleaner.state.floatbank3_a_air              16763 non-null float64\n",
      "secondary_cleaner.state.floatbank3_a_level            16747 non-null float64\n",
      "secondary_cleaner.state.floatbank3_b_air              16752 non-null float64\n",
      "secondary_cleaner.state.floatbank3_b_level            16750 non-null float64\n",
      "secondary_cleaner.state.floatbank4_a_air              16731 non-null float64\n",
      "secondary_cleaner.state.floatbank4_a_level            16747 non-null float64\n",
      "secondary_cleaner.state.floatbank4_b_air              16768 non-null float64\n",
      "secondary_cleaner.state.floatbank4_b_level            16767 non-null float64\n",
      "secondary_cleaner.state.floatbank5_a_air              16775 non-null float64\n",
      "secondary_cleaner.state.floatbank5_a_level            16775 non-null float64\n",
      "secondary_cleaner.state.floatbank5_b_air              16775 non-null float64\n",
      "secondary_cleaner.state.floatbank5_b_level            16776 non-null float64\n",
      "secondary_cleaner.state.floatbank6_a_air              16757 non-null float64\n",
      "secondary_cleaner.state.floatbank6_a_level            16775 non-null float64\n",
      "dtypes: float64(86), object(1)\n",
      "memory usage: 11.2+ MB\n"
     ]
    }
   ],
   "source": [
    "gold_recovery_train.info()"
   ]
  },
  {
   "cell_type": "markdown",
   "metadata": {},
   "source": [
    "Рассчитаем эффективность обогащения чернового концентрата rougher.output.recovery из обучающей выборки. Предварительно удалим пропуски из столбцов со значением NaN."
   ]
  },
  {
   "cell_type": "code",
   "execution_count": 4,
   "metadata": {},
   "outputs": [
    {
     "name": "stdout",
     "output_type": "stream",
     "text": [
      "<class 'pandas.core.frame.DataFrame'>\n",
      "RangeIndex: 16860 entries, 0 to 16859\n",
      "Data columns (total 87 columns):\n",
      "date                                                  16860 non-null object\n",
      "final.output.concentrate_ag                           16788 non-null float64\n",
      "final.output.concentrate_pb                           16788 non-null float64\n",
      "final.output.concentrate_sol                          16490 non-null float64\n",
      "final.output.concentrate_au                           16789 non-null float64\n",
      "final.output.recovery                                 15339 non-null float64\n",
      "final.output.tail_ag                                  16794 non-null float64\n",
      "final.output.tail_pb                                  16677 non-null float64\n",
      "final.output.tail_sol                                 16715 non-null float64\n",
      "final.output.tail_au                                  16794 non-null float64\n",
      "primary_cleaner.input.sulfate                         15553 non-null float64\n",
      "primary_cleaner.input.depressant                      15598 non-null float64\n",
      "primary_cleaner.input.feed_size                       16860 non-null float64\n",
      "primary_cleaner.input.xanthate                        15875 non-null float64\n",
      "primary_cleaner.output.concentrate_ag                 16778 non-null float64\n",
      "primary_cleaner.output.concentrate_pb                 16502 non-null float64\n",
      "primary_cleaner.output.concentrate_sol                16224 non-null float64\n",
      "primary_cleaner.output.concentrate_au                 16778 non-null float64\n",
      "primary_cleaner.output.tail_ag                        16777 non-null float64\n",
      "primary_cleaner.output.tail_pb                        16761 non-null float64\n",
      "primary_cleaner.output.tail_sol                       16579 non-null float64\n",
      "primary_cleaner.output.tail_au                        16777 non-null float64\n",
      "primary_cleaner.state.floatbank8_a_air                16820 non-null float64\n",
      "primary_cleaner.state.floatbank8_a_level              16827 non-null float64\n",
      "primary_cleaner.state.floatbank8_b_air                16820 non-null float64\n",
      "primary_cleaner.state.floatbank8_b_level              16833 non-null float64\n",
      "primary_cleaner.state.floatbank8_c_air                16822 non-null float64\n",
      "primary_cleaner.state.floatbank8_c_level              16833 non-null float64\n",
      "primary_cleaner.state.floatbank8_d_air                16821 non-null float64\n",
      "primary_cleaner.state.floatbank8_d_level              16833 non-null float64\n",
      "rougher.calculation.sulfate_to_au_concentrate         16833 non-null float64\n",
      "rougher.calculation.floatbank10_sulfate_to_au_feed    16833 non-null float64\n",
      "rougher.calculation.floatbank11_sulfate_to_au_feed    16833 non-null float64\n",
      "rougher.calculation.au_pb_ratio                       15618 non-null float64\n",
      "rougher.input.feed_ag                                 16778 non-null float64\n",
      "rougher.input.feed_pb                                 16632 non-null float64\n",
      "rougher.input.feed_rate                               16347 non-null float64\n",
      "rougher.input.feed_size                               16443 non-null float64\n",
      "rougher.input.feed_sol                                16568 non-null float64\n",
      "rougher.input.feed_au                                 16777 non-null float64\n",
      "rougher.input.floatbank10_sulfate                     15816 non-null float64\n",
      "rougher.input.floatbank10_xanthate                    16514 non-null float64\n",
      "rougher.input.floatbank11_sulfate                     16237 non-null float64\n",
      "rougher.input.floatbank11_xanthate                    14956 non-null float64\n",
      "rougher.output.concentrate_ag                         16778 non-null float64\n",
      "rougher.output.concentrate_pb                         16778 non-null float64\n",
      "rougher.output.concentrate_sol                        16698 non-null float64\n",
      "rougher.output.concentrate_au                         16778 non-null float64\n",
      "rougher.output.recovery                               14287 non-null float64\n",
      "rougher.output.tail_ag                                14610 non-null float64\n",
      "rougher.output.tail_pb                                16778 non-null float64\n",
      "rougher.output.tail_sol                               14611 non-null float64\n",
      "rougher.output.tail_au                                14611 non-null float64\n",
      "rougher.state.floatbank10_a_air                       16807 non-null float64\n",
      "rougher.state.floatbank10_a_level                     16807 non-null float64\n",
      "rougher.state.floatbank10_b_air                       16807 non-null float64\n",
      "rougher.state.floatbank10_b_level                     16807 non-null float64\n",
      "rougher.state.floatbank10_c_air                       16807 non-null float64\n",
      "rougher.state.floatbank10_c_level                     16814 non-null float64\n",
      "rougher.state.floatbank10_d_air                       16802 non-null float64\n",
      "rougher.state.floatbank10_d_level                     16809 non-null float64\n",
      "rougher.state.floatbank10_e_air                       16257 non-null float64\n",
      "rougher.state.floatbank10_e_level                     16809 non-null float64\n",
      "rougher.state.floatbank10_f_air                       16802 non-null float64\n",
      "rougher.state.floatbank10_f_level                     16802 non-null float64\n",
      "secondary_cleaner.output.tail_ag                      16776 non-null float64\n",
      "secondary_cleaner.output.tail_pb                      16764 non-null float64\n",
      "secondary_cleaner.output.tail_sol                     14874 non-null float64\n",
      "secondary_cleaner.output.tail_au                      16778 non-null float64\n",
      "secondary_cleaner.state.floatbank2_a_air              16497 non-null float64\n",
      "secondary_cleaner.state.floatbank2_a_level            16751 non-null float64\n",
      "secondary_cleaner.state.floatbank2_b_air              16705 non-null float64\n",
      "secondary_cleaner.state.floatbank2_b_level            16748 non-null float64\n",
      "secondary_cleaner.state.floatbank3_a_air              16763 non-null float64\n",
      "secondary_cleaner.state.floatbank3_a_level            16747 non-null float64\n",
      "secondary_cleaner.state.floatbank3_b_air              16752 non-null float64\n",
      "secondary_cleaner.state.floatbank3_b_level            16750 non-null float64\n",
      "secondary_cleaner.state.floatbank4_a_air              16731 non-null float64\n",
      "secondary_cleaner.state.floatbank4_a_level            16747 non-null float64\n",
      "secondary_cleaner.state.floatbank4_b_air              16768 non-null float64\n",
      "secondary_cleaner.state.floatbank4_b_level            16767 non-null float64\n",
      "secondary_cleaner.state.floatbank5_a_air              16775 non-null float64\n",
      "secondary_cleaner.state.floatbank5_a_level            16775 non-null float64\n",
      "secondary_cleaner.state.floatbank5_b_air              16775 non-null float64\n",
      "secondary_cleaner.state.floatbank5_b_level            16776 non-null float64\n",
      "secondary_cleaner.state.floatbank6_a_air              16757 non-null float64\n",
      "secondary_cleaner.state.floatbank6_a_level            16775 non-null float64\n",
      "dtypes: float64(86), object(1)\n",
      "memory usage: 11.2+ MB\n"
     ]
    }
   ],
   "source": [
    "gold_recovery_train.info()"
   ]
  },
  {
   "cell_type": "code",
   "execution_count": 5,
   "metadata": {},
   "outputs": [
    {
     "name": "stdout",
     "output_type": "stream",
     "text": [
      "<class 'pandas.core.frame.DataFrame'>\n",
      "RangeIndex: 5856 entries, 0 to 5855\n",
      "Data columns (total 53 columns):\n",
      "date                                          5856 non-null object\n",
      "primary_cleaner.input.sulfate                 5554 non-null float64\n",
      "primary_cleaner.input.depressant              5572 non-null float64\n",
      "primary_cleaner.input.feed_size               5856 non-null float64\n",
      "primary_cleaner.input.xanthate                5690 non-null float64\n",
      "primary_cleaner.state.floatbank8_a_air        5840 non-null float64\n",
      "primary_cleaner.state.floatbank8_a_level      5840 non-null float64\n",
      "primary_cleaner.state.floatbank8_b_air        5840 non-null float64\n",
      "primary_cleaner.state.floatbank8_b_level      5840 non-null float64\n",
      "primary_cleaner.state.floatbank8_c_air        5840 non-null float64\n",
      "primary_cleaner.state.floatbank8_c_level      5840 non-null float64\n",
      "primary_cleaner.state.floatbank8_d_air        5840 non-null float64\n",
      "primary_cleaner.state.floatbank8_d_level      5840 non-null float64\n",
      "rougher.input.feed_ag                         5840 non-null float64\n",
      "rougher.input.feed_pb                         5840 non-null float64\n",
      "rougher.input.feed_rate                       5816 non-null float64\n",
      "rougher.input.feed_size                       5834 non-null float64\n",
      "rougher.input.feed_sol                        5789 non-null float64\n",
      "rougher.input.feed_au                         5840 non-null float64\n",
      "rougher.input.floatbank10_sulfate             5599 non-null float64\n",
      "rougher.input.floatbank10_xanthate            5733 non-null float64\n",
      "rougher.input.floatbank11_sulfate             5801 non-null float64\n",
      "rougher.input.floatbank11_xanthate            5503 non-null float64\n",
      "rougher.state.floatbank10_a_air               5839 non-null float64\n",
      "rougher.state.floatbank10_a_level             5840 non-null float64\n",
      "rougher.state.floatbank10_b_air               5839 non-null float64\n",
      "rougher.state.floatbank10_b_level             5840 non-null float64\n",
      "rougher.state.floatbank10_c_air               5839 non-null float64\n",
      "rougher.state.floatbank10_c_level             5840 non-null float64\n",
      "rougher.state.floatbank10_d_air               5839 non-null float64\n",
      "rougher.state.floatbank10_d_level             5840 non-null float64\n",
      "rougher.state.floatbank10_e_air               5839 non-null float64\n",
      "rougher.state.floatbank10_e_level             5840 non-null float64\n",
      "rougher.state.floatbank10_f_air               5839 non-null float64\n",
      "rougher.state.floatbank10_f_level             5840 non-null float64\n",
      "secondary_cleaner.state.floatbank2_a_air      5836 non-null float64\n",
      "secondary_cleaner.state.floatbank2_a_level    5840 non-null float64\n",
      "secondary_cleaner.state.floatbank2_b_air      5833 non-null float64\n",
      "secondary_cleaner.state.floatbank2_b_level    5840 non-null float64\n",
      "secondary_cleaner.state.floatbank3_a_air      5822 non-null float64\n",
      "secondary_cleaner.state.floatbank3_a_level    5840 non-null float64\n",
      "secondary_cleaner.state.floatbank3_b_air      5840 non-null float64\n",
      "secondary_cleaner.state.floatbank3_b_level    5840 non-null float64\n",
      "secondary_cleaner.state.floatbank4_a_air      5840 non-null float64\n",
      "secondary_cleaner.state.floatbank4_a_level    5840 non-null float64\n",
      "secondary_cleaner.state.floatbank4_b_air      5840 non-null float64\n",
      "secondary_cleaner.state.floatbank4_b_level    5840 non-null float64\n",
      "secondary_cleaner.state.floatbank5_a_air      5840 non-null float64\n",
      "secondary_cleaner.state.floatbank5_a_level    5840 non-null float64\n",
      "secondary_cleaner.state.floatbank5_b_air      5840 non-null float64\n",
      "secondary_cleaner.state.floatbank5_b_level    5840 non-null float64\n",
      "secondary_cleaner.state.floatbank6_a_air      5840 non-null float64\n",
      "secondary_cleaner.state.floatbank6_a_level    5840 non-null float64\n",
      "dtypes: float64(52), object(1)\n",
      "memory usage: 2.4+ MB\n"
     ]
    }
   ],
   "source": [
    "gold_recovery_test.info()"
   ]
  },
  {
   "cell_type": "code",
   "execution_count": 6,
   "metadata": {},
   "outputs": [
    {
     "name": "stdout",
     "output_type": "stream",
     "text": [
      "<class 'pandas.core.frame.DataFrame'>\n",
      "RangeIndex: 22716 entries, 0 to 22715\n",
      "Data columns (total 87 columns):\n",
      "date                                                  22716 non-null object\n",
      "final.output.concentrate_ag                           22627 non-null float64\n",
      "final.output.concentrate_pb                           22629 non-null float64\n",
      "final.output.concentrate_sol                          22331 non-null float64\n",
      "final.output.concentrate_au                           22630 non-null float64\n",
      "final.output.recovery                                 20753 non-null float64\n",
      "final.output.tail_ag                                  22633 non-null float64\n",
      "final.output.tail_pb                                  22516 non-null float64\n",
      "final.output.tail_sol                                 22445 non-null float64\n",
      "final.output.tail_au                                  22635 non-null float64\n",
      "primary_cleaner.input.sulfate                         21107 non-null float64\n",
      "primary_cleaner.input.depressant                      21170 non-null float64\n",
      "primary_cleaner.input.feed_size                       22716 non-null float64\n",
      "primary_cleaner.input.xanthate                        21565 non-null float64\n",
      "primary_cleaner.output.concentrate_ag                 22618 non-null float64\n",
      "primary_cleaner.output.concentrate_pb                 22268 non-null float64\n",
      "primary_cleaner.output.concentrate_sol                21918 non-null float64\n",
      "primary_cleaner.output.concentrate_au                 22618 non-null float64\n",
      "primary_cleaner.output.tail_ag                        22614 non-null float64\n",
      "primary_cleaner.output.tail_pb                        22594 non-null float64\n",
      "primary_cleaner.output.tail_sol                       22365 non-null float64\n",
      "primary_cleaner.output.tail_au                        22617 non-null float64\n",
      "primary_cleaner.state.floatbank8_a_air                22660 non-null float64\n",
      "primary_cleaner.state.floatbank8_a_level              22667 non-null float64\n",
      "primary_cleaner.state.floatbank8_b_air                22660 non-null float64\n",
      "primary_cleaner.state.floatbank8_b_level              22673 non-null float64\n",
      "primary_cleaner.state.floatbank8_c_air                22662 non-null float64\n",
      "primary_cleaner.state.floatbank8_c_level              22673 non-null float64\n",
      "primary_cleaner.state.floatbank8_d_air                22661 non-null float64\n",
      "primary_cleaner.state.floatbank8_d_level              22673 non-null float64\n",
      "rougher.calculation.sulfate_to_au_concentrate         22672 non-null float64\n",
      "rougher.calculation.floatbank10_sulfate_to_au_feed    22672 non-null float64\n",
      "rougher.calculation.floatbank11_sulfate_to_au_feed    22672 non-null float64\n",
      "rougher.calculation.au_pb_ratio                       21089 non-null float64\n",
      "rougher.input.feed_ag                                 22618 non-null float64\n",
      "rougher.input.feed_pb                                 22472 non-null float64\n",
      "rougher.input.feed_rate                               22163 non-null float64\n",
      "rougher.input.feed_size                               22277 non-null float64\n",
      "rougher.input.feed_sol                                22357 non-null float64\n",
      "rougher.input.feed_au                                 22617 non-null float64\n",
      "rougher.input.floatbank10_sulfate                     21415 non-null float64\n",
      "rougher.input.floatbank10_xanthate                    22247 non-null float64\n",
      "rougher.input.floatbank11_sulfate                     22038 non-null float64\n",
      "rougher.input.floatbank11_xanthate                    20459 non-null float64\n",
      "rougher.output.concentrate_ag                         22618 non-null float64\n",
      "rougher.output.concentrate_pb                         22618 non-null float64\n",
      "rougher.output.concentrate_sol                        22526 non-null float64\n",
      "rougher.output.concentrate_au                         22618 non-null float64\n",
      "rougher.output.recovery                               19597 non-null float64\n",
      "rougher.output.tail_ag                                19979 non-null float64\n",
      "rougher.output.tail_pb                                22618 non-null float64\n",
      "rougher.output.tail_sol                               19980 non-null float64\n",
      "rougher.output.tail_au                                19980 non-null float64\n",
      "rougher.state.floatbank10_a_air                       22646 non-null float64\n",
      "rougher.state.floatbank10_a_level                     22647 non-null float64\n",
      "rougher.state.floatbank10_b_air                       22646 non-null float64\n",
      "rougher.state.floatbank10_b_level                     22647 non-null float64\n",
      "rougher.state.floatbank10_c_air                       22646 non-null float64\n",
      "rougher.state.floatbank10_c_level                     22654 non-null float64\n",
      "rougher.state.floatbank10_d_air                       22641 non-null float64\n",
      "rougher.state.floatbank10_d_level                     22649 non-null float64\n",
      "rougher.state.floatbank10_e_air                       22096 non-null float64\n",
      "rougher.state.floatbank10_e_level                     22649 non-null float64\n",
      "rougher.state.floatbank10_f_air                       22641 non-null float64\n",
      "rougher.state.floatbank10_f_level                     22642 non-null float64\n",
      "secondary_cleaner.output.tail_ag                      22616 non-null float64\n",
      "secondary_cleaner.output.tail_pb                      22600 non-null float64\n",
      "secondary_cleaner.output.tail_sol                     20501 non-null float64\n",
      "secondary_cleaner.output.tail_au                      22618 non-null float64\n",
      "secondary_cleaner.state.floatbank2_a_air              22333 non-null float64\n",
      "secondary_cleaner.state.floatbank2_a_level            22591 non-null float64\n",
      "secondary_cleaner.state.floatbank2_b_air              22538 non-null float64\n",
      "secondary_cleaner.state.floatbank2_b_level            22588 non-null float64\n",
      "secondary_cleaner.state.floatbank3_a_air              22585 non-null float64\n",
      "secondary_cleaner.state.floatbank3_a_level            22587 non-null float64\n",
      "secondary_cleaner.state.floatbank3_b_air              22592 non-null float64\n",
      "secondary_cleaner.state.floatbank3_b_level            22590 non-null float64\n",
      "secondary_cleaner.state.floatbank4_a_air              22571 non-null float64\n",
      "secondary_cleaner.state.floatbank4_a_level            22587 non-null float64\n",
      "secondary_cleaner.state.floatbank4_b_air              22608 non-null float64\n",
      "secondary_cleaner.state.floatbank4_b_level            22607 non-null float64\n",
      "secondary_cleaner.state.floatbank5_a_air              22615 non-null float64\n",
      "secondary_cleaner.state.floatbank5_a_level            22615 non-null float64\n",
      "secondary_cleaner.state.floatbank5_b_air              22615 non-null float64\n",
      "secondary_cleaner.state.floatbank5_b_level            22616 non-null float64\n",
      "secondary_cleaner.state.floatbank6_a_air              22597 non-null float64\n",
      "secondary_cleaner.state.floatbank6_a_level            22615 non-null float64\n",
      "dtypes: float64(86), object(1)\n",
      "memory usage: 15.1+ MB\n"
     ]
    }
   ],
   "source": [
    "gold_recovery_full.info()"
   ]
  },
  {
   "cell_type": "markdown",
   "metadata": {},
   "source": [
    "Удалим пропуски из столбцов со значением NaN для расчёта эффективности обогащения чернового концентрата rougher.output.recovery из обучающей выборки."
   ]
  },
  {
   "cell_type": "code",
   "execution_count": 7,
   "metadata": {},
   "outputs": [],
   "source": [
    "gold_recovery_train.dropna(subset=['rougher.output.concentrate_au', 'rougher.input.feed_au',\n",
    "                                   'rougher.output.tail_au','rougher.output.recovery'], inplace=True)"
   ]
  },
  {
   "cell_type": "code",
   "execution_count": 8,
   "metadata": {},
   "outputs": [
    {
     "name": "stdout",
     "output_type": "stream",
     "text": [
      "MAE = 1.0512313043960013e-14\n"
     ]
    }
   ],
   "source": [
    "concentrate_au_column = gold_recovery_train['rougher.output.concentrate_au']\n",
    "feed_au_column = gold_recovery_train['rougher.input.feed_au']\n",
    "tail_au_column = gold_recovery_train['rougher.output.tail_au']\n",
    "input_recovery = gold_recovery_train['rougher.output.recovery']\n",
    "calculated_recovery = concentrate_au_column * (feed_au_column - tail_au_column) / feed_au_column / (concentrate_au_column - tail_au_column) * 100\n",
    "print('MAE =', mean_absolute_error(input_recovery, calculated_recovery))"
   ]
  },
  {
   "cell_type": "markdown",
   "metadata": {},
   "source": [
    "MAE имеет очень малое отклонение - это значит, что расчетное значение rougher.output.recovery совпадает с данными из столбца.\n",
    "\n",
    "Проведем чистку от пропущенных значений в обучающей и тестовой выборке."
   ]
  },
  {
   "cell_type": "code",
   "execution_count": 9,
   "metadata": {},
   "outputs": [],
   "source": [
    "good_gold_recovery_train = gold_recovery_train.dropna()\n",
    "good_gold_recovery_test = gold_recovery_test.dropna()"
   ]
  },
  {
   "cell_type": "markdown",
   "metadata": {},
   "source": [
    "В тестовой выборке отсуствуют столбцы этапов rougher.output, rougher.calculation, final.output, primary_cleaner.output и secondary_cleaner.output. Эти данные будут получены по результатам технологического процесса. Это онлайн метрики. Остальные столбцы исторически известны - значит это офлайн метрики.\n",
    "\n",
    "Выделим столбцы из тестовой выборки, по которым будет обучаться модель. Столбец data не несет смысла для обучающей модели. Для предсказания rougher.output.recovery будут использоватся данные из стобцов этапа rougher. Для вычисления final.output.recovery будут использованы все столбцы из тестовой выборки."
   ]
  },
  {
   "cell_type": "code",
   "execution_count": 10,
   "metadata": {},
   "outputs": [],
   "source": [
    "features_columns = good_gold_recovery_test.columns[1:]\n",
    "rougher_features_columns = set(features_columns[12:34])\n",
    "final_features_columns = set(features_columns)"
   ]
  },
  {
   "cell_type": "markdown",
   "metadata": {},
   "source": [
    "Выведем на экрон гистограммы"
   ]
  },
  {
   "cell_type": "code",
   "execution_count": 11,
   "metadata": {},
   "outputs": [
    {
     "data": {
      "image/png": "[encoded data removed]",
      "text/plain": [
       "<Figure size 864x648 with 1 Axes>"
      ]
     },
     "metadata": {
      "needs_background": "light"
     },
     "output_type": "display_data"
    }
   ],
   "source": [
    "plt.figure(figsize=[12,9])\n",
    "\n",
    "plt.hist(good_gold_recovery_train['rougher.output.recovery'], bins=100)\n",
    "\n",
    "plt.xlim([0, 100])\n",
    "plt.ylim([0, 700])\n",
    "\n",
    "plt.xlabel(\"Эффективность обогащения чернового концентрата \")\n",
    "plt.ylabel(\"Количество результатов\")\n",
    "\n",
    "plt.title(\"Гистограмма распределения по эффективности обогащения\")\n",
    "plt.show()"
   ]
  },
  {
   "cell_type": "markdown",
   "metadata": {},
   "source": [
    "Видим значительно скопление нулевых значений в столбце rougher.output.recovery- изучим их."
   ]
  },
  {
   "cell_type": "code",
   "execution_count": 12,
   "metadata": {},
   "outputs": [
    {
     "data": {
      "text/html": [
       "<div>\n",
       "<style scoped>\n",
       "    .dataframe tbody tr th:only-of-type {\n",
       "        vertical-align: middle;\n",
       "    }\n",
       "\n",
       "    .dataframe tbody tr th {\n",
       "        vertical-align: top;\n",
       "    }\n",
       "\n",
       "    .dataframe thead th {\n",
       "        text-align: right;\n",
       "    }\n",
       "</style>\n",
       "<table border=\"1\" class=\"dataframe\">\n",
       "  <thead>\n",
       "    <tr style=\"text-align: right;\">\n",
       "      <th></th>\n",
       "      <th>date</th>\n",
       "      <th>final.output.concentrate_ag</th>\n",
       "      <th>final.output.concentrate_pb</th>\n",
       "      <th>final.output.concentrate_sol</th>\n",
       "      <th>final.output.concentrate_au</th>\n",
       "      <th>final.output.recovery</th>\n",
       "      <th>final.output.tail_ag</th>\n",
       "      <th>final.output.tail_pb</th>\n",
       "      <th>final.output.tail_sol</th>\n",
       "      <th>final.output.tail_au</th>\n",
       "      <th>...</th>\n",
       "      <th>secondary_cleaner.state.floatbank4_a_air</th>\n",
       "      <th>secondary_cleaner.state.floatbank4_a_level</th>\n",
       "      <th>secondary_cleaner.state.floatbank4_b_air</th>\n",
       "      <th>secondary_cleaner.state.floatbank4_b_level</th>\n",
       "      <th>secondary_cleaner.state.floatbank5_a_air</th>\n",
       "      <th>secondary_cleaner.state.floatbank5_a_level</th>\n",
       "      <th>secondary_cleaner.state.floatbank5_b_air</th>\n",
       "      <th>secondary_cleaner.state.floatbank5_b_level</th>\n",
       "      <th>secondary_cleaner.state.floatbank6_a_air</th>\n",
       "      <th>secondary_cleaner.state.floatbank6_a_level</th>\n",
       "    </tr>\n",
       "  </thead>\n",
       "  <tbody>\n",
       "    <tr>\n",
       "      <td>45</td>\n",
       "      <td>2016-01-16 21:00:00</td>\n",
       "      <td>4.566664</td>\n",
       "      <td>10.406178</td>\n",
       "      <td>4.588698</td>\n",
       "      <td>46.614456</td>\n",
       "      <td>68.403877</td>\n",
       "      <td>10.705777</td>\n",
       "      <td>1.509070</td>\n",
       "      <td>17.875134</td>\n",
       "      <td>2.509776</td>\n",
       "      <td>...</td>\n",
       "      <td>14.025588</td>\n",
       "      <td>-550.404242</td>\n",
       "      <td>12.028925</td>\n",
       "      <td>-550.570104</td>\n",
       "      <td>10.052072</td>\n",
       "      <td>-500.797905</td>\n",
       "      <td>7.984500</td>\n",
       "      <td>-499.581046</td>\n",
       "      <td>11.982025</td>\n",
       "      <td>-599.161228</td>\n",
       "    </tr>\n",
       "    <tr>\n",
       "      <td>46</td>\n",
       "      <td>2016-01-16 22:00:00</td>\n",
       "      <td>4.577832</td>\n",
       "      <td>10.691605</td>\n",
       "      <td>5.274175</td>\n",
       "      <td>46.250638</td>\n",
       "      <td>70.675633</td>\n",
       "      <td>10.728531</td>\n",
       "      <td>1.641216</td>\n",
       "      <td>18.349339</td>\n",
       "      <td>2.540843</td>\n",
       "      <td>...</td>\n",
       "      <td>14.094808</td>\n",
       "      <td>-550.676337</td>\n",
       "      <td>12.004728</td>\n",
       "      <td>-550.496522</td>\n",
       "      <td>9.953139</td>\n",
       "      <td>-500.330920</td>\n",
       "      <td>8.012074</td>\n",
       "      <td>-500.133530</td>\n",
       "      <td>11.975316</td>\n",
       "      <td>-598.839683</td>\n",
       "    </tr>\n",
       "    <tr>\n",
       "      <td>51</td>\n",
       "      <td>2016-01-17 03:00:00</td>\n",
       "      <td>5.759800</td>\n",
       "      <td>9.537415</td>\n",
       "      <td>3.997737</td>\n",
       "      <td>45.267942</td>\n",
       "      <td>68.638723</td>\n",
       "      <td>10.623064</td>\n",
       "      <td>1.217058</td>\n",
       "      <td>16.072705</td>\n",
       "      <td>2.471388</td>\n",
       "      <td>...</td>\n",
       "      <td>14.164342</td>\n",
       "      <td>-552.959690</td>\n",
       "      <td>11.917980</td>\n",
       "      <td>-549.417320</td>\n",
       "      <td>10.016315</td>\n",
       "      <td>-497.644975</td>\n",
       "      <td>7.999080</td>\n",
       "      <td>-500.112143</td>\n",
       "      <td>12.043030</td>\n",
       "      <td>-599.630112</td>\n",
       "    </tr>\n",
       "    <tr>\n",
       "      <td>52</td>\n",
       "      <td>2016-01-17 04:00:00</td>\n",
       "      <td>5.807253</td>\n",
       "      <td>10.439505</td>\n",
       "      <td>6.512951</td>\n",
       "      <td>43.237493</td>\n",
       "      <td>72.136712</td>\n",
       "      <td>10.518407</td>\n",
       "      <td>1.336890</td>\n",
       "      <td>17.750367</td>\n",
       "      <td>2.323883</td>\n",
       "      <td>...</td>\n",
       "      <td>14.097072</td>\n",
       "      <td>-549.292129</td>\n",
       "      <td>12.000525</td>\n",
       "      <td>-550.306171</td>\n",
       "      <td>9.925991</td>\n",
       "      <td>-501.985618</td>\n",
       "      <td>7.948277</td>\n",
       "      <td>-500.060988</td>\n",
       "      <td>12.005620</td>\n",
       "      <td>-601.746110</td>\n",
       "    </tr>\n",
       "    <tr>\n",
       "      <td>836</td>\n",
       "      <td>2016-02-18 20:00:00</td>\n",
       "      <td>8.478624</td>\n",
       "      <td>11.303437</td>\n",
       "      <td>10.547473</td>\n",
       "      <td>35.776254</td>\n",
       "      <td>80.041038</td>\n",
       "      <td>12.958362</td>\n",
       "      <td>2.369492</td>\n",
       "      <td>9.839622</td>\n",
       "      <td>3.066451</td>\n",
       "      <td>...</td>\n",
       "      <td>23.709602</td>\n",
       "      <td>-412.029336</td>\n",
       "      <td>22.639733</td>\n",
       "      <td>-412.896304</td>\n",
       "      <td>25.021629</td>\n",
       "      <td>-428.537556</td>\n",
       "      <td>21.011542</td>\n",
       "      <td>-400.287375</td>\n",
       "      <td>30.004867</td>\n",
       "      <td>-396.683519</td>\n",
       "    </tr>\n",
       "  </tbody>\n",
       "</table>\n",
       "<p>5 rows × 87 columns</p>\n",
       "</div>"
      ],
      "text/plain": [
       "                    date  final.output.concentrate_ag  \\\n",
       "45   2016-01-16 21:00:00                     4.566664   \n",
       "46   2016-01-16 22:00:00                     4.577832   \n",
       "51   2016-01-17 03:00:00                     5.759800   \n",
       "52   2016-01-17 04:00:00                     5.807253   \n",
       "836  2016-02-18 20:00:00                     8.478624   \n",
       "\n",
       "     final.output.concentrate_pb  final.output.concentrate_sol  \\\n",
       "45                     10.406178                      4.588698   \n",
       "46                     10.691605                      5.274175   \n",
       "51                      9.537415                      3.997737   \n",
       "52                     10.439505                      6.512951   \n",
       "836                    11.303437                     10.547473   \n",
       "\n",
       "     final.output.concentrate_au  final.output.recovery  final.output.tail_ag  \\\n",
       "45                     46.614456              68.403877             10.705777   \n",
       "46                     46.250638              70.675633             10.728531   \n",
       "51                     45.267942              68.638723             10.623064   \n",
       "52                     43.237493              72.136712             10.518407   \n",
       "836                    35.776254              80.041038             12.958362   \n",
       "\n",
       "     final.output.tail_pb  final.output.tail_sol  final.output.tail_au  ...  \\\n",
       "45               1.509070              17.875134              2.509776  ...   \n",
       "46               1.641216              18.349339              2.540843  ...   \n",
       "51               1.217058              16.072705              2.471388  ...   \n",
       "52               1.336890              17.750367              2.323883  ...   \n",
       "836              2.369492               9.839622              3.066451  ...   \n",
       "\n",
       "     secondary_cleaner.state.floatbank4_a_air  \\\n",
       "45                                  14.025588   \n",
       "46                                  14.094808   \n",
       "51                                  14.164342   \n",
       "52                                  14.097072   \n",
       "836                                 23.709602   \n",
       "\n",
       "     secondary_cleaner.state.floatbank4_a_level  \\\n",
       "45                                  -550.404242   \n",
       "46                                  -550.676337   \n",
       "51                                  -552.959690   \n",
       "52                                  -549.292129   \n",
       "836                                 -412.029336   \n",
       "\n",
       "     secondary_cleaner.state.floatbank4_b_air  \\\n",
       "45                                  12.028925   \n",
       "46                                  12.004728   \n",
       "51                                  11.917980   \n",
       "52                                  12.000525   \n",
       "836                                 22.639733   \n",
       "\n",
       "     secondary_cleaner.state.floatbank4_b_level  \\\n",
       "45                                  -550.570104   \n",
       "46                                  -550.496522   \n",
       "51                                  -549.417320   \n",
       "52                                  -550.306171   \n",
       "836                                 -412.896304   \n",
       "\n",
       "     secondary_cleaner.state.floatbank5_a_air  \\\n",
       "45                                  10.052072   \n",
       "46                                   9.953139   \n",
       "51                                  10.016315   \n",
       "52                                   9.925991   \n",
       "836                                 25.021629   \n",
       "\n",
       "     secondary_cleaner.state.floatbank5_a_level  \\\n",
       "45                                  -500.797905   \n",
       "46                                  -500.330920   \n",
       "51                                  -497.644975   \n",
       "52                                  -501.985618   \n",
       "836                                 -428.537556   \n",
       "\n",
       "     secondary_cleaner.state.floatbank5_b_air  \\\n",
       "45                                   7.984500   \n",
       "46                                   8.012074   \n",
       "51                                   7.999080   \n",
       "52                                   7.948277   \n",
       "836                                 21.011542   \n",
       "\n",
       "     secondary_cleaner.state.floatbank5_b_level  \\\n",
       "45                                  -499.581046   \n",
       "46                                  -500.133530   \n",
       "51                                  -500.112143   \n",
       "52                                  -500.060988   \n",
       "836                                 -400.287375   \n",
       "\n",
       "     secondary_cleaner.state.floatbank6_a_air  \\\n",
       "45                                  11.982025   \n",
       "46                                  11.975316   \n",
       "51                                  12.043030   \n",
       "52                                  12.005620   \n",
       "836                                 30.004867   \n",
       "\n",
       "     secondary_cleaner.state.floatbank6_a_level  \n",
       "45                                  -599.161228  \n",
       "46                                  -598.839683  \n",
       "51                                  -599.630112  \n",
       "52                                  -601.746110  \n",
       "836                                 -396.683519  \n",
       "\n",
       "[5 rows x 87 columns]"
      ]
     },
     "execution_count": 12,
     "metadata": {},
     "output_type": "execute_result"
    }
   ],
   "source": [
    "good_gold_recovery_train[good_gold_recovery_train['rougher.output.recovery'] < 1].head()"
   ]
  },
  {
   "cell_type": "code",
   "execution_count": 13,
   "metadata": {},
   "outputs": [
    {
     "data": {
      "text/html": [
       "<div>\n",
       "<style scoped>\n",
       "    .dataframe tbody tr th:only-of-type {\n",
       "        vertical-align: middle;\n",
       "    }\n",
       "\n",
       "    .dataframe tbody tr th {\n",
       "        vertical-align: top;\n",
       "    }\n",
       "\n",
       "    .dataframe thead th {\n",
       "        text-align: right;\n",
       "    }\n",
       "</style>\n",
       "<table border=\"1\" class=\"dataframe\">\n",
       "  <thead>\n",
       "    <tr style=\"text-align: right;\">\n",
       "      <th></th>\n",
       "      <th>date</th>\n",
       "      <th>final.output.concentrate_ag</th>\n",
       "      <th>final.output.concentrate_pb</th>\n",
       "      <th>final.output.concentrate_sol</th>\n",
       "      <th>final.output.concentrate_au</th>\n",
       "      <th>final.output.recovery</th>\n",
       "      <th>final.output.tail_ag</th>\n",
       "      <th>final.output.tail_pb</th>\n",
       "      <th>final.output.tail_sol</th>\n",
       "      <th>final.output.tail_au</th>\n",
       "      <th>...</th>\n",
       "      <th>secondary_cleaner.state.floatbank4_a_air</th>\n",
       "      <th>secondary_cleaner.state.floatbank4_a_level</th>\n",
       "      <th>secondary_cleaner.state.floatbank4_b_air</th>\n",
       "      <th>secondary_cleaner.state.floatbank4_b_level</th>\n",
       "      <th>secondary_cleaner.state.floatbank5_a_air</th>\n",
       "      <th>secondary_cleaner.state.floatbank5_a_level</th>\n",
       "      <th>secondary_cleaner.state.floatbank5_b_air</th>\n",
       "      <th>secondary_cleaner.state.floatbank5_b_level</th>\n",
       "      <th>secondary_cleaner.state.floatbank6_a_air</th>\n",
       "      <th>secondary_cleaner.state.floatbank6_a_level</th>\n",
       "    </tr>\n",
       "  </thead>\n",
       "  <tbody>\n",
       "    <tr>\n",
       "      <td>45</td>\n",
       "      <td>2016-01-16 21:00:00</td>\n",
       "      <td>4.566664</td>\n",
       "      <td>10.406178</td>\n",
       "      <td>4.588698</td>\n",
       "      <td>46.614456</td>\n",
       "      <td>68.403877</td>\n",
       "      <td>10.705777</td>\n",
       "      <td>1.509070</td>\n",
       "      <td>17.875134</td>\n",
       "      <td>2.509776</td>\n",
       "      <td>...</td>\n",
       "      <td>14.025588</td>\n",
       "      <td>-550.404242</td>\n",
       "      <td>12.028925</td>\n",
       "      <td>-550.570104</td>\n",
       "      <td>10.052072</td>\n",
       "      <td>-500.797905</td>\n",
       "      <td>7.984500</td>\n",
       "      <td>-499.581046</td>\n",
       "      <td>11.982025</td>\n",
       "      <td>-599.161228</td>\n",
       "    </tr>\n",
       "    <tr>\n",
       "      <td>46</td>\n",
       "      <td>2016-01-16 22:00:00</td>\n",
       "      <td>4.577832</td>\n",
       "      <td>10.691605</td>\n",
       "      <td>5.274175</td>\n",
       "      <td>46.250638</td>\n",
       "      <td>70.675633</td>\n",
       "      <td>10.728531</td>\n",
       "      <td>1.641216</td>\n",
       "      <td>18.349339</td>\n",
       "      <td>2.540843</td>\n",
       "      <td>...</td>\n",
       "      <td>14.094808</td>\n",
       "      <td>-550.676337</td>\n",
       "      <td>12.004728</td>\n",
       "      <td>-550.496522</td>\n",
       "      <td>9.953139</td>\n",
       "      <td>-500.330920</td>\n",
       "      <td>8.012074</td>\n",
       "      <td>-500.133530</td>\n",
       "      <td>11.975316</td>\n",
       "      <td>-598.839683</td>\n",
       "    </tr>\n",
       "    <tr>\n",
       "      <td>51</td>\n",
       "      <td>2016-01-17 03:00:00</td>\n",
       "      <td>5.759800</td>\n",
       "      <td>9.537415</td>\n",
       "      <td>3.997737</td>\n",
       "      <td>45.267942</td>\n",
       "      <td>68.638723</td>\n",
       "      <td>10.623064</td>\n",
       "      <td>1.217058</td>\n",
       "      <td>16.072705</td>\n",
       "      <td>2.471388</td>\n",
       "      <td>...</td>\n",
       "      <td>14.164342</td>\n",
       "      <td>-552.959690</td>\n",
       "      <td>11.917980</td>\n",
       "      <td>-549.417320</td>\n",
       "      <td>10.016315</td>\n",
       "      <td>-497.644975</td>\n",
       "      <td>7.999080</td>\n",
       "      <td>-500.112143</td>\n",
       "      <td>12.043030</td>\n",
       "      <td>-599.630112</td>\n",
       "    </tr>\n",
       "    <tr>\n",
       "      <td>52</td>\n",
       "      <td>2016-01-17 04:00:00</td>\n",
       "      <td>5.807253</td>\n",
       "      <td>10.439505</td>\n",
       "      <td>6.512951</td>\n",
       "      <td>43.237493</td>\n",
       "      <td>72.136712</td>\n",
       "      <td>10.518407</td>\n",
       "      <td>1.336890</td>\n",
       "      <td>17.750367</td>\n",
       "      <td>2.323883</td>\n",
       "      <td>...</td>\n",
       "      <td>14.097072</td>\n",
       "      <td>-549.292129</td>\n",
       "      <td>12.000525</td>\n",
       "      <td>-550.306171</td>\n",
       "      <td>9.925991</td>\n",
       "      <td>-501.985618</td>\n",
       "      <td>7.948277</td>\n",
       "      <td>-500.060988</td>\n",
       "      <td>12.005620</td>\n",
       "      <td>-601.746110</td>\n",
       "    </tr>\n",
       "    <tr>\n",
       "      <td>836</td>\n",
       "      <td>2016-02-18 20:00:00</td>\n",
       "      <td>8.478624</td>\n",
       "      <td>11.303437</td>\n",
       "      <td>10.547473</td>\n",
       "      <td>35.776254</td>\n",
       "      <td>80.041038</td>\n",
       "      <td>12.958362</td>\n",
       "      <td>2.369492</td>\n",
       "      <td>9.839622</td>\n",
       "      <td>3.066451</td>\n",
       "      <td>...</td>\n",
       "      <td>23.709602</td>\n",
       "      <td>-412.029336</td>\n",
       "      <td>22.639733</td>\n",
       "      <td>-412.896304</td>\n",
       "      <td>25.021629</td>\n",
       "      <td>-428.537556</td>\n",
       "      <td>21.011542</td>\n",
       "      <td>-400.287375</td>\n",
       "      <td>30.004867</td>\n",
       "      <td>-396.683519</td>\n",
       "    </tr>\n",
       "  </tbody>\n",
       "</table>\n",
       "<p>5 rows × 87 columns</p>\n",
       "</div>"
      ],
      "text/plain": [
       "                    date  final.output.concentrate_ag  \\\n",
       "45   2016-01-16 21:00:00                     4.566664   \n",
       "46   2016-01-16 22:00:00                     4.577832   \n",
       "51   2016-01-17 03:00:00                     5.759800   \n",
       "52   2016-01-17 04:00:00                     5.807253   \n",
       "836  2016-02-18 20:00:00                     8.478624   \n",
       "\n",
       "     final.output.concentrate_pb  final.output.concentrate_sol  \\\n",
       "45                     10.406178                      4.588698   \n",
       "46                     10.691605                      5.274175   \n",
       "51                      9.537415                      3.997737   \n",
       "52                     10.439505                      6.512951   \n",
       "836                    11.303437                     10.547473   \n",
       "\n",
       "     final.output.concentrate_au  final.output.recovery  final.output.tail_ag  \\\n",
       "45                     46.614456              68.403877             10.705777   \n",
       "46                     46.250638              70.675633             10.728531   \n",
       "51                     45.267942              68.638723             10.623064   \n",
       "52                     43.237493              72.136712             10.518407   \n",
       "836                    35.776254              80.041038             12.958362   \n",
       "\n",
       "     final.output.tail_pb  final.output.tail_sol  final.output.tail_au  ...  \\\n",
       "45               1.509070              17.875134              2.509776  ...   \n",
       "46               1.641216              18.349339              2.540843  ...   \n",
       "51               1.217058              16.072705              2.471388  ...   \n",
       "52               1.336890              17.750367              2.323883  ...   \n",
       "836              2.369492               9.839622              3.066451  ...   \n",
       "\n",
       "     secondary_cleaner.state.floatbank4_a_air  \\\n",
       "45                                  14.025588   \n",
       "46                                  14.094808   \n",
       "51                                  14.164342   \n",
       "52                                  14.097072   \n",
       "836                                 23.709602   \n",
       "\n",
       "     secondary_cleaner.state.floatbank4_a_level  \\\n",
       "45                                  -550.404242   \n",
       "46                                  -550.676337   \n",
       "51                                  -552.959690   \n",
       "52                                  -549.292129   \n",
       "836                                 -412.029336   \n",
       "\n",
       "     secondary_cleaner.state.floatbank4_b_air  \\\n",
       "45                                  12.028925   \n",
       "46                                  12.004728   \n",
       "51                                  11.917980   \n",
       "52                                  12.000525   \n",
       "836                                 22.639733   \n",
       "\n",
       "     secondary_cleaner.state.floatbank4_b_level  \\\n",
       "45                                  -550.570104   \n",
       "46                                  -550.496522   \n",
       "51                                  -549.417320   \n",
       "52                                  -550.306171   \n",
       "836                                 -412.896304   \n",
       "\n",
       "     secondary_cleaner.state.floatbank5_a_air  \\\n",
       "45                                  10.052072   \n",
       "46                                   9.953139   \n",
       "51                                  10.016315   \n",
       "52                                   9.925991   \n",
       "836                                 25.021629   \n",
       "\n",
       "     secondary_cleaner.state.floatbank5_a_level  \\\n",
       "45                                  -500.797905   \n",
       "46                                  -500.330920   \n",
       "51                                  -497.644975   \n",
       "52                                  -501.985618   \n",
       "836                                 -428.537556   \n",
       "\n",
       "     secondary_cleaner.state.floatbank5_b_air  \\\n",
       "45                                   7.984500   \n",
       "46                                   8.012074   \n",
       "51                                   7.999080   \n",
       "52                                   7.948277   \n",
       "836                                 21.011542   \n",
       "\n",
       "     secondary_cleaner.state.floatbank5_b_level  \\\n",
       "45                                  -499.581046   \n",
       "46                                  -500.133530   \n",
       "51                                  -500.112143   \n",
       "52                                  -500.060988   \n",
       "836                                 -400.287375   \n",
       "\n",
       "     secondary_cleaner.state.floatbank6_a_air  \\\n",
       "45                                  11.982025   \n",
       "46                                  11.975316   \n",
       "51                                  12.043030   \n",
       "52                                  12.005620   \n",
       "836                                 30.004867   \n",
       "\n",
       "     secondary_cleaner.state.floatbank6_a_level  \n",
       "45                                  -599.161228  \n",
       "46                                  -598.839683  \n",
       "51                                  -599.630112  \n",
       "52                                  -601.746110  \n",
       "836                                 -396.683519  \n",
       "\n",
       "[5 rows x 87 columns]"
      ]
     },
     "execution_count": 13,
     "metadata": {},
     "output_type": "execute_result"
    }
   ],
   "source": [
    "good_gold_recovery_train[good_gold_recovery_train['rougher.output.concentrate_au'] < 1].head()"
   ]
  },
  {
   "cell_type": "markdown",
   "metadata": {},
   "source": [
    "В данных нет информации об этапе rougher. Удалим эти значения, так как они могут исказить данные."
   ]
  },
  {
   "cell_type": "code",
   "execution_count": 14,
   "metadata": {},
   "outputs": [
    {
     "data": {
      "text/html": [
       "<div>\n",
       "<style scoped>\n",
       "    .dataframe tbody tr th:only-of-type {\n",
       "        vertical-align: middle;\n",
       "    }\n",
       "\n",
       "    .dataframe tbody tr th {\n",
       "        vertical-align: top;\n",
       "    }\n",
       "\n",
       "    .dataframe thead th {\n",
       "        text-align: right;\n",
       "    }\n",
       "</style>\n",
       "<table border=\"1\" class=\"dataframe\">\n",
       "  <thead>\n",
       "    <tr style=\"text-align: right;\">\n",
       "      <th></th>\n",
       "      <th>date</th>\n",
       "      <th>final.output.concentrate_ag</th>\n",
       "      <th>final.output.concentrate_pb</th>\n",
       "      <th>final.output.concentrate_sol</th>\n",
       "      <th>final.output.concentrate_au</th>\n",
       "      <th>final.output.recovery</th>\n",
       "      <th>final.output.tail_ag</th>\n",
       "      <th>final.output.tail_pb</th>\n",
       "      <th>final.output.tail_sol</th>\n",
       "      <th>final.output.tail_au</th>\n",
       "      <th>...</th>\n",
       "      <th>secondary_cleaner.state.floatbank4_a_air</th>\n",
       "      <th>secondary_cleaner.state.floatbank4_a_level</th>\n",
       "      <th>secondary_cleaner.state.floatbank4_b_air</th>\n",
       "      <th>secondary_cleaner.state.floatbank4_b_level</th>\n",
       "      <th>secondary_cleaner.state.floatbank5_a_air</th>\n",
       "      <th>secondary_cleaner.state.floatbank5_a_level</th>\n",
       "      <th>secondary_cleaner.state.floatbank5_b_air</th>\n",
       "      <th>secondary_cleaner.state.floatbank5_b_level</th>\n",
       "      <th>secondary_cleaner.state.floatbank6_a_air</th>\n",
       "      <th>secondary_cleaner.state.floatbank6_a_level</th>\n",
       "    </tr>\n",
       "  </thead>\n",
       "  <tbody>\n",
       "  </tbody>\n",
       "</table>\n",
       "<p>0 rows × 87 columns</p>\n",
       "</div>"
      ],
      "text/plain": [
       "Empty DataFrame\n",
       "Columns: [date, final.output.concentrate_ag, final.output.concentrate_pb, final.output.concentrate_sol, final.output.concentrate_au, final.output.recovery, final.output.tail_ag, final.output.tail_pb, final.output.tail_sol, final.output.tail_au, primary_cleaner.input.sulfate, primary_cleaner.input.depressant, primary_cleaner.input.feed_size, primary_cleaner.input.xanthate, primary_cleaner.output.concentrate_ag, primary_cleaner.output.concentrate_pb, primary_cleaner.output.concentrate_sol, primary_cleaner.output.concentrate_au, primary_cleaner.output.tail_ag, primary_cleaner.output.tail_pb, primary_cleaner.output.tail_sol, primary_cleaner.output.tail_au, primary_cleaner.state.floatbank8_a_air, primary_cleaner.state.floatbank8_a_level, primary_cleaner.state.floatbank8_b_air, primary_cleaner.state.floatbank8_b_level, primary_cleaner.state.floatbank8_c_air, primary_cleaner.state.floatbank8_c_level, primary_cleaner.state.floatbank8_d_air, primary_cleaner.state.floatbank8_d_level, rougher.calculation.sulfate_to_au_concentrate, rougher.calculation.floatbank10_sulfate_to_au_feed, rougher.calculation.floatbank11_sulfate_to_au_feed, rougher.calculation.au_pb_ratio, rougher.input.feed_ag, rougher.input.feed_pb, rougher.input.feed_rate, rougher.input.feed_size, rougher.input.feed_sol, rougher.input.feed_au, rougher.input.floatbank10_sulfate, rougher.input.floatbank10_xanthate, rougher.input.floatbank11_sulfate, rougher.input.floatbank11_xanthate, rougher.output.concentrate_ag, rougher.output.concentrate_pb, rougher.output.concentrate_sol, rougher.output.concentrate_au, rougher.output.recovery, rougher.output.tail_ag, rougher.output.tail_pb, rougher.output.tail_sol, rougher.output.tail_au, rougher.state.floatbank10_a_air, rougher.state.floatbank10_a_level, rougher.state.floatbank10_b_air, rougher.state.floatbank10_b_level, rougher.state.floatbank10_c_air, rougher.state.floatbank10_c_level, rougher.state.floatbank10_d_air, rougher.state.floatbank10_d_level, rougher.state.floatbank10_e_air, rougher.state.floatbank10_e_level, rougher.state.floatbank10_f_air, rougher.state.floatbank10_f_level, secondary_cleaner.output.tail_ag, secondary_cleaner.output.tail_pb, secondary_cleaner.output.tail_sol, secondary_cleaner.output.tail_au, secondary_cleaner.state.floatbank2_a_air, secondary_cleaner.state.floatbank2_a_level, secondary_cleaner.state.floatbank2_b_air, secondary_cleaner.state.floatbank2_b_level, secondary_cleaner.state.floatbank3_a_air, secondary_cleaner.state.floatbank3_a_level, secondary_cleaner.state.floatbank3_b_air, secondary_cleaner.state.floatbank3_b_level, secondary_cleaner.state.floatbank4_a_air, secondary_cleaner.state.floatbank4_a_level, secondary_cleaner.state.floatbank4_b_air, secondary_cleaner.state.floatbank4_b_level, secondary_cleaner.state.floatbank5_a_air, secondary_cleaner.state.floatbank5_a_level, secondary_cleaner.state.floatbank5_b_air, secondary_cleaner.state.floatbank5_b_level, secondary_cleaner.state.floatbank6_a_air, secondary_cleaner.state.floatbank6_a_level]\n",
       "Index: []\n",
       "\n",
       "[0 rows x 87 columns]"
      ]
     },
     "execution_count": 14,
     "metadata": {},
     "output_type": "execute_result"
    }
   ],
   "source": [
    "good_gold_recovery_train = good_gold_recovery_train.drop(good_gold_recovery_train[good_gold_recovery_train['rougher.output.recovery'] == 0].index)\n",
    "good_gold_recovery_train[good_gold_recovery_train['rougher.output.recovery'] < 1].head()"
   ]
  },
  {
   "cell_type": "code",
   "execution_count": 15,
   "metadata": {},
   "outputs": [
    {
     "data": {
      "image/png": "[encoded data removed]",
      "text/plain": [
       "<Figure size 864x648 with 1 Axes>"
      ]
     },
     "metadata": {
      "needs_background": "light"
     },
     "output_type": "display_data"
    }
   ],
   "source": [
    "plt.figure(figsize=[12,9])\n",
    "\n",
    "plt.hist(good_gold_recovery_train['final.output.recovery'], bins=100)\n",
    "\n",
    "plt.xlim([0, 100])\n",
    "plt.ylim([0, 1000])\n",
    "\n",
    "plt.xlabel(\"Эффективность обогащения финального концентрата \")\n",
    "plt.ylabel(\"Количество результатов\")\n",
    "\n",
    "plt.title(\"Гистограмма распределения по эффективности обогащения\")\n",
    "plt.show()"
   ]
  },
  {
   "cell_type": "code",
   "execution_count": 16,
   "metadata": {},
   "outputs": [
    {
     "data": {
      "text/html": [
       "<div>\n",
       "<style scoped>\n",
       "    .dataframe tbody tr th:only-of-type {\n",
       "        vertical-align: middle;\n",
       "    }\n",
       "\n",
       "    .dataframe tbody tr th {\n",
       "        vertical-align: top;\n",
       "    }\n",
       "\n",
       "    .dataframe thead th {\n",
       "        text-align: right;\n",
       "    }\n",
       "</style>\n",
       "<table border=\"1\" class=\"dataframe\">\n",
       "  <thead>\n",
       "    <tr style=\"text-align: right;\">\n",
       "      <th></th>\n",
       "      <th>date</th>\n",
       "      <th>final.output.concentrate_ag</th>\n",
       "      <th>final.output.concentrate_pb</th>\n",
       "      <th>final.output.concentrate_sol</th>\n",
       "      <th>final.output.concentrate_au</th>\n",
       "      <th>final.output.recovery</th>\n",
       "      <th>final.output.tail_ag</th>\n",
       "      <th>final.output.tail_pb</th>\n",
       "      <th>final.output.tail_sol</th>\n",
       "      <th>final.output.tail_au</th>\n",
       "      <th>...</th>\n",
       "      <th>secondary_cleaner.state.floatbank4_a_air</th>\n",
       "      <th>secondary_cleaner.state.floatbank4_a_level</th>\n",
       "      <th>secondary_cleaner.state.floatbank4_b_air</th>\n",
       "      <th>secondary_cleaner.state.floatbank4_b_level</th>\n",
       "      <th>secondary_cleaner.state.floatbank5_a_air</th>\n",
       "      <th>secondary_cleaner.state.floatbank5_a_level</th>\n",
       "      <th>secondary_cleaner.state.floatbank5_b_air</th>\n",
       "      <th>secondary_cleaner.state.floatbank5_b_level</th>\n",
       "      <th>secondary_cleaner.state.floatbank6_a_air</th>\n",
       "      <th>secondary_cleaner.state.floatbank6_a_level</th>\n",
       "    </tr>\n",
       "  </thead>\n",
       "  <tbody>\n",
       "    <tr>\n",
       "      <td>707</td>\n",
       "      <td>2016-02-13 11:00:00</td>\n",
       "      <td>0.0</td>\n",
       "      <td>0.0</td>\n",
       "      <td>0.0</td>\n",
       "      <td>0.0</td>\n",
       "      <td>0.0</td>\n",
       "      <td>8.894029</td>\n",
       "      <td>0.843584</td>\n",
       "      <td>15.417342</td>\n",
       "      <td>1.779052</td>\n",
       "      <td>...</td>\n",
       "      <td>21.991762</td>\n",
       "      <td>-399.587122</td>\n",
       "      <td>21.988937</td>\n",
       "      <td>-401.366408</td>\n",
       "      <td>22.995012</td>\n",
       "      <td>-399.370680</td>\n",
       "      <td>20.966863</td>\n",
       "      <td>-399.308354</td>\n",
       "      <td>24.987274</td>\n",
       "      <td>-399.619808</td>\n",
       "    </tr>\n",
       "    <tr>\n",
       "      <td>1354</td>\n",
       "      <td>2016-03-11 10:00:00</td>\n",
       "      <td>0.0</td>\n",
       "      <td>0.0</td>\n",
       "      <td>0.0</td>\n",
       "      <td>0.0</td>\n",
       "      <td>0.0</td>\n",
       "      <td>10.817313</td>\n",
       "      <td>1.462800</td>\n",
       "      <td>16.407607</td>\n",
       "      <td>2.984504</td>\n",
       "      <td>...</td>\n",
       "      <td>11.979352</td>\n",
       "      <td>-453.431061</td>\n",
       "      <td>12.003445</td>\n",
       "      <td>-450.179844</td>\n",
       "      <td>11.982937</td>\n",
       "      <td>-449.856468</td>\n",
       "      <td>9.927727</td>\n",
       "      <td>-450.521700</td>\n",
       "      <td>19.971682</td>\n",
       "      <td>-500.685521</td>\n",
       "    </tr>\n",
       "    <tr>\n",
       "      <td>1355</td>\n",
       "      <td>2016-03-11 11:00:00</td>\n",
       "      <td>0.0</td>\n",
       "      <td>0.0</td>\n",
       "      <td>0.0</td>\n",
       "      <td>0.0</td>\n",
       "      <td>0.0</td>\n",
       "      <td>10.436792</td>\n",
       "      <td>1.207636</td>\n",
       "      <td>17.800392</td>\n",
       "      <td>2.747294</td>\n",
       "      <td>...</td>\n",
       "      <td>12.034636</td>\n",
       "      <td>-446.590944</td>\n",
       "      <td>12.130405</td>\n",
       "      <td>-449.684812</td>\n",
       "      <td>11.844983</td>\n",
       "      <td>-450.881424</td>\n",
       "      <td>9.916784</td>\n",
       "      <td>-449.542871</td>\n",
       "      <td>20.004767</td>\n",
       "      <td>-500.137068</td>\n",
       "    </tr>\n",
       "    <tr>\n",
       "      <td>1356</td>\n",
       "      <td>2016-03-11 12:00:00</td>\n",
       "      <td>0.0</td>\n",
       "      <td>0.0</td>\n",
       "      <td>0.0</td>\n",
       "      <td>0.0</td>\n",
       "      <td>0.0</td>\n",
       "      <td>10.637073</td>\n",
       "      <td>1.405778</td>\n",
       "      <td>17.195897</td>\n",
       "      <td>2.791440</td>\n",
       "      <td>...</td>\n",
       "      <td>12.016716</td>\n",
       "      <td>-496.613149</td>\n",
       "      <td>12.055535</td>\n",
       "      <td>-496.908551</td>\n",
       "      <td>12.091144</td>\n",
       "      <td>-496.404140</td>\n",
       "      <td>9.976074</td>\n",
       "      <td>-496.783155</td>\n",
       "      <td>19.921634</td>\n",
       "      <td>-500.769011</td>\n",
       "    </tr>\n",
       "    <tr>\n",
       "      <td>1357</td>\n",
       "      <td>2016-03-11 13:00:00</td>\n",
       "      <td>0.0</td>\n",
       "      <td>0.0</td>\n",
       "      <td>0.0</td>\n",
       "      <td>0.0</td>\n",
       "      <td>0.0</td>\n",
       "      <td>10.530320</td>\n",
       "      <td>1.461550</td>\n",
       "      <td>17.556860</td>\n",
       "      <td>2.682127</td>\n",
       "      <td>...</td>\n",
       "      <td>11.993898</td>\n",
       "      <td>-500.427824</td>\n",
       "      <td>12.083824</td>\n",
       "      <td>-500.162537</td>\n",
       "      <td>12.078809</td>\n",
       "      <td>-499.903743</td>\n",
       "      <td>10.075259</td>\n",
       "      <td>-499.540325</td>\n",
       "      <td>20.039788</td>\n",
       "      <td>-499.932405</td>\n",
       "    </tr>\n",
       "  </tbody>\n",
       "</table>\n",
       "<p>5 rows × 87 columns</p>\n",
       "</div>"
      ],
      "text/plain": [
       "                     date  final.output.concentrate_ag  \\\n",
       "707   2016-02-13 11:00:00                          0.0   \n",
       "1354  2016-03-11 10:00:00                          0.0   \n",
       "1355  2016-03-11 11:00:00                          0.0   \n",
       "1356  2016-03-11 12:00:00                          0.0   \n",
       "1357  2016-03-11 13:00:00                          0.0   \n",
       "\n",
       "      final.output.concentrate_pb  final.output.concentrate_sol  \\\n",
       "707                           0.0                           0.0   \n",
       "1354                          0.0                           0.0   \n",
       "1355                          0.0                           0.0   \n",
       "1356                          0.0                           0.0   \n",
       "1357                          0.0                           0.0   \n",
       "\n",
       "      final.output.concentrate_au  final.output.recovery  \\\n",
       "707                           0.0                    0.0   \n",
       "1354                          0.0                    0.0   \n",
       "1355                          0.0                    0.0   \n",
       "1356                          0.0                    0.0   \n",
       "1357                          0.0                    0.0   \n",
       "\n",
       "      final.output.tail_ag  final.output.tail_pb  final.output.tail_sol  \\\n",
       "707               8.894029              0.843584              15.417342   \n",
       "1354             10.817313              1.462800              16.407607   \n",
       "1355             10.436792              1.207636              17.800392   \n",
       "1356             10.637073              1.405778              17.195897   \n",
       "1357             10.530320              1.461550              17.556860   \n",
       "\n",
       "      final.output.tail_au  ...  secondary_cleaner.state.floatbank4_a_air  \\\n",
       "707               1.779052  ...                                 21.991762   \n",
       "1354              2.984504  ...                                 11.979352   \n",
       "1355              2.747294  ...                                 12.034636   \n",
       "1356              2.791440  ...                                 12.016716   \n",
       "1357              2.682127  ...                                 11.993898   \n",
       "\n",
       "      secondary_cleaner.state.floatbank4_a_level  \\\n",
       "707                                  -399.587122   \n",
       "1354                                 -453.431061   \n",
       "1355                                 -446.590944   \n",
       "1356                                 -496.613149   \n",
       "1357                                 -500.427824   \n",
       "\n",
       "      secondary_cleaner.state.floatbank4_b_air  \\\n",
       "707                                  21.988937   \n",
       "1354                                 12.003445   \n",
       "1355                                 12.130405   \n",
       "1356                                 12.055535   \n",
       "1357                                 12.083824   \n",
       "\n",
       "      secondary_cleaner.state.floatbank4_b_level  \\\n",
       "707                                  -401.366408   \n",
       "1354                                 -450.179844   \n",
       "1355                                 -449.684812   \n",
       "1356                                 -496.908551   \n",
       "1357                                 -500.162537   \n",
       "\n",
       "      secondary_cleaner.state.floatbank5_a_air  \\\n",
       "707                                  22.995012   \n",
       "1354                                 11.982937   \n",
       "1355                                 11.844983   \n",
       "1356                                 12.091144   \n",
       "1357                                 12.078809   \n",
       "\n",
       "      secondary_cleaner.state.floatbank5_a_level  \\\n",
       "707                                  -399.370680   \n",
       "1354                                 -449.856468   \n",
       "1355                                 -450.881424   \n",
       "1356                                 -496.404140   \n",
       "1357                                 -499.903743   \n",
       "\n",
       "      secondary_cleaner.state.floatbank5_b_air  \\\n",
       "707                                  20.966863   \n",
       "1354                                  9.927727   \n",
       "1355                                  9.916784   \n",
       "1356                                  9.976074   \n",
       "1357                                 10.075259   \n",
       "\n",
       "      secondary_cleaner.state.floatbank5_b_level  \\\n",
       "707                                  -399.308354   \n",
       "1354                                 -450.521700   \n",
       "1355                                 -449.542871   \n",
       "1356                                 -496.783155   \n",
       "1357                                 -499.540325   \n",
       "\n",
       "      secondary_cleaner.state.floatbank6_a_air  \\\n",
       "707                                  24.987274   \n",
       "1354                                 19.971682   \n",
       "1355                                 20.004767   \n",
       "1356                                 19.921634   \n",
       "1357                                 20.039788   \n",
       "\n",
       "      secondary_cleaner.state.floatbank6_a_level  \n",
       "707                                  -399.619808  \n",
       "1354                                 -500.685521  \n",
       "1355                                 -500.137068  \n",
       "1356                                 -500.769011  \n",
       "1357                                 -499.932405  \n",
       "\n",
       "[5 rows x 87 columns]"
      ]
     },
     "execution_count": 16,
     "metadata": {},
     "output_type": "execute_result"
    }
   ],
   "source": [
    "good_gold_recovery_train[good_gold_recovery_train['final.output.recovery'] < 1].head()"
   ]
  },
  {
   "cell_type": "code",
   "execution_count": 17,
   "metadata": {},
   "outputs": [
    {
     "data": {
      "text/html": [
       "<div>\n",
       "<style scoped>\n",
       "    .dataframe tbody tr th:only-of-type {\n",
       "        vertical-align: middle;\n",
       "    }\n",
       "\n",
       "    .dataframe tbody tr th {\n",
       "        vertical-align: top;\n",
       "    }\n",
       "\n",
       "    .dataframe thead th {\n",
       "        text-align: right;\n",
       "    }\n",
       "</style>\n",
       "<table border=\"1\" class=\"dataframe\">\n",
       "  <thead>\n",
       "    <tr style=\"text-align: right;\">\n",
       "      <th></th>\n",
       "      <th>date</th>\n",
       "      <th>final.output.concentrate_ag</th>\n",
       "      <th>final.output.concentrate_pb</th>\n",
       "      <th>final.output.concentrate_sol</th>\n",
       "      <th>final.output.concentrate_au</th>\n",
       "      <th>final.output.recovery</th>\n",
       "      <th>final.output.tail_ag</th>\n",
       "      <th>final.output.tail_pb</th>\n",
       "      <th>final.output.tail_sol</th>\n",
       "      <th>final.output.tail_au</th>\n",
       "      <th>...</th>\n",
       "      <th>secondary_cleaner.state.floatbank4_a_air</th>\n",
       "      <th>secondary_cleaner.state.floatbank4_a_level</th>\n",
       "      <th>secondary_cleaner.state.floatbank4_b_air</th>\n",
       "      <th>secondary_cleaner.state.floatbank4_b_level</th>\n",
       "      <th>secondary_cleaner.state.floatbank5_a_air</th>\n",
       "      <th>secondary_cleaner.state.floatbank5_a_level</th>\n",
       "      <th>secondary_cleaner.state.floatbank5_b_air</th>\n",
       "      <th>secondary_cleaner.state.floatbank5_b_level</th>\n",
       "      <th>secondary_cleaner.state.floatbank6_a_air</th>\n",
       "      <th>secondary_cleaner.state.floatbank6_a_level</th>\n",
       "    </tr>\n",
       "  </thead>\n",
       "  <tbody>\n",
       "  </tbody>\n",
       "</table>\n",
       "<p>0 rows × 87 columns</p>\n",
       "</div>"
      ],
      "text/plain": [
       "Empty DataFrame\n",
       "Columns: [date, final.output.concentrate_ag, final.output.concentrate_pb, final.output.concentrate_sol, final.output.concentrate_au, final.output.recovery, final.output.tail_ag, final.output.tail_pb, final.output.tail_sol, final.output.tail_au, primary_cleaner.input.sulfate, primary_cleaner.input.depressant, primary_cleaner.input.feed_size, primary_cleaner.input.xanthate, primary_cleaner.output.concentrate_ag, primary_cleaner.output.concentrate_pb, primary_cleaner.output.concentrate_sol, primary_cleaner.output.concentrate_au, primary_cleaner.output.tail_ag, primary_cleaner.output.tail_pb, primary_cleaner.output.tail_sol, primary_cleaner.output.tail_au, primary_cleaner.state.floatbank8_a_air, primary_cleaner.state.floatbank8_a_level, primary_cleaner.state.floatbank8_b_air, primary_cleaner.state.floatbank8_b_level, primary_cleaner.state.floatbank8_c_air, primary_cleaner.state.floatbank8_c_level, primary_cleaner.state.floatbank8_d_air, primary_cleaner.state.floatbank8_d_level, rougher.calculation.sulfate_to_au_concentrate, rougher.calculation.floatbank10_sulfate_to_au_feed, rougher.calculation.floatbank11_sulfate_to_au_feed, rougher.calculation.au_pb_ratio, rougher.input.feed_ag, rougher.input.feed_pb, rougher.input.feed_rate, rougher.input.feed_size, rougher.input.feed_sol, rougher.input.feed_au, rougher.input.floatbank10_sulfate, rougher.input.floatbank10_xanthate, rougher.input.floatbank11_sulfate, rougher.input.floatbank11_xanthate, rougher.output.concentrate_ag, rougher.output.concentrate_pb, rougher.output.concentrate_sol, rougher.output.concentrate_au, rougher.output.recovery, rougher.output.tail_ag, rougher.output.tail_pb, rougher.output.tail_sol, rougher.output.tail_au, rougher.state.floatbank10_a_air, rougher.state.floatbank10_a_level, rougher.state.floatbank10_b_air, rougher.state.floatbank10_b_level, rougher.state.floatbank10_c_air, rougher.state.floatbank10_c_level, rougher.state.floatbank10_d_air, rougher.state.floatbank10_d_level, rougher.state.floatbank10_e_air, rougher.state.floatbank10_e_level, rougher.state.floatbank10_f_air, rougher.state.floatbank10_f_level, secondary_cleaner.output.tail_ag, secondary_cleaner.output.tail_pb, secondary_cleaner.output.tail_sol, secondary_cleaner.output.tail_au, secondary_cleaner.state.floatbank2_a_air, secondary_cleaner.state.floatbank2_a_level, secondary_cleaner.state.floatbank2_b_air, secondary_cleaner.state.floatbank2_b_level, secondary_cleaner.state.floatbank3_a_air, secondary_cleaner.state.floatbank3_a_level, secondary_cleaner.state.floatbank3_b_air, secondary_cleaner.state.floatbank3_b_level, secondary_cleaner.state.floatbank4_a_air, secondary_cleaner.state.floatbank4_a_level, secondary_cleaner.state.floatbank4_b_air, secondary_cleaner.state.floatbank4_b_level, secondary_cleaner.state.floatbank5_a_air, secondary_cleaner.state.floatbank5_a_level, secondary_cleaner.state.floatbank5_b_air, secondary_cleaner.state.floatbank5_b_level, secondary_cleaner.state.floatbank6_a_air, secondary_cleaner.state.floatbank6_a_level]\n",
       "Index: []\n",
       "\n",
       "[0 rows x 87 columns]"
      ]
     },
     "execution_count": 17,
     "metadata": {},
     "output_type": "execute_result"
    }
   ],
   "source": [
    "good_gold_recovery_train = good_gold_recovery_train.drop(good_gold_recovery_train[good_gold_recovery_train['final.output.recovery'] == 0].index)\n",
    "good_gold_recovery_train[good_gold_recovery_train['final.output.recovery'] < 1].head()"
   ]
  },
  {
   "cell_type": "markdown",
   "metadata": {},
   "source": [
    "**Вывод по шагу 1**"
   ]
  },
  {
   "cell_type": "markdown",
   "metadata": {},
   "source": [
    "В данных присутвовали аномалии:\n",
    "\n",
    "Пропущенные значение\n",
    "Нулевые значения на ключевых этапах\n",
    "Неподходящие данные были удалены. Возможно не были сняты данные по выбранным этапам или они еще не были получены в результате работы системы.\n",
    "\n",
    "Данные готовы к дальнейшему анализу."
   ]
  },
  {
   "cell_type": "markdown",
   "metadata": {},
   "source": [
    "## Анализ данных"
   ]
  },
  {
   "cell_type": "markdown",
   "metadata": {},
   "source": [
    "Рассмотрим концентрацию веществ на каждом этапе."
   ]
  },
  {
   "cell_type": "code",
   "execution_count": 18,
   "metadata": {},
   "outputs": [
    {
     "data": {
      "image/png": "[encoded data removed]",
      "text/plain": [
       "<Figure size 864x648 with 1 Axes>"
      ]
     },
     "metadata": {
      "needs_background": "light"
     },
     "output_type": "display_data"
    }
   ],
   "source": [
    "plt.figure(figsize=[12,9])\n",
    "\n",
    "plt.hist(good_gold_recovery_train['final.output.concentrate_au'], bins=100, label = 'final.output', alpha=.5)\n",
    "plt.hist(good_gold_recovery_train['primary_cleaner.output.concentrate_au'], bins=100, label = 'primary_cleaner.output', alpha=.5)\n",
    "plt.hist(good_gold_recovery_train['rougher.output.concentrate_au'], bins=100, label = 'rougher.output', alpha=.5)\n",
    "\n",
    "plt.xlim([0, 55])\n",
    "plt.ylim([0, 1000])\n",
    "\n",
    "plt.xlabel(\"Концентрация золота на выходе этапов\")\n",
    "plt.ylabel(\"Количество результатов\")\n",
    "\n",
    "plt.legend(loc='upper left', fontsize='x-large')\n",
    "\n",
    "plt.title(\"Гистограмма распределения концентрации золота\")\n",
    "plt.show()"
   ]
  },
  {
   "cell_type": "markdown",
   "metadata": {},
   "source": [
    "Концентрация золота повышается с каждым этапом. Цель флотации и очисток увеличить концентрацию золота."
   ]
  },
  {
   "cell_type": "code",
   "execution_count": 19,
   "metadata": {},
   "outputs": [
    {
     "data": {
      "image/png": "[encoded data removed]",
      "text/plain": [
       "<Figure size 864x648 with 1 Axes>"
      ]
     },
     "metadata": {
      "needs_background": "light"
     },
     "output_type": "display_data"
    }
   ],
   "source": [
    "plt.figure(figsize=[12,9])\n",
    "\n",
    "plt.hist(good_gold_recovery_train['final.output.concentrate_ag'], bins=100, label = 'final.output', alpha=.5)\n",
    "plt.hist(good_gold_recovery_train['primary_cleaner.output.concentrate_ag'], bins=100, label = 'primary_cleaner.output', alpha=.5)\n",
    "plt.hist(good_gold_recovery_train['rougher.output.concentrate_ag'], bins=100, label = 'rougher.output', alpha=.5)\n",
    "\n",
    "plt.xlim([0, 25])\n",
    "plt.ylim([0, 600])\n",
    "\n",
    "plt.xlabel(\"Концентрация серебра на выходе этапов\")\n",
    "plt.ylabel(\"Количество результатов\")\n",
    "\n",
    "plt.legend(loc='upper left', fontsize='x-large')\n",
    "\n",
    "plt.title(\"Гистограмма распределения концентрации серебра\")\n",
    "plt.show()"
   ]
  },
  {
   "cell_type": "markdown",
   "metadata": {},
   "source": [
    "Конецентрация серебра понижается с каждым шагом очистки. Так как основным благородным металом является золото, то остальные металлы и соединения должны быть отфильтрованы."
   ]
  },
  {
   "cell_type": "code",
   "execution_count": 20,
   "metadata": {},
   "outputs": [
    {
     "data": {
      "image/png": "[encoded data removed]",
      "text/plain": [
       "<Figure size 864x648 with 1 Axes>"
      ]
     },
     "metadata": {
      "needs_background": "light"
     },
     "output_type": "display_data"
    }
   ],
   "source": [
    "plt.figure(figsize=[12,9])\n",
    "\n",
    "plt.hist(good_gold_recovery_train['final.output.concentrate_pb'], bins=100, label = 'final.output', alpha=.5)\n",
    "plt.hist(good_gold_recovery_train['primary_cleaner.output.concentrate_pb'], bins=100, label = 'primary_cleaner.output', alpha=.5)\n",
    "plt.hist(good_gold_recovery_train['rougher.output.concentrate_pb'], bins=100, label = 'rougher.output', alpha=.5)\n",
    "\n",
    "plt.xlim([0, 20])\n",
    "plt.ylim([0, 600])\n",
    "\n",
    "plt.xlabel(\"Концентрация свинца на выходе этапов\")\n",
    "plt.ylabel(\"Количество результатов\")\n",
    "\n",
    "plt.legend(loc='upper left', fontsize='x-large')\n",
    "\n",
    "plt.title(\"Гистограмма распределения концентрации свинца\")\n",
    "plt.show()"
   ]
  },
  {
   "cell_type": "markdown",
   "metadata": {},
   "source": [
    "Концентрация свинца повышается с этапа rougher до primary_cleaner. И потом усредняется."
   ]
  },
  {
   "cell_type": "markdown",
   "metadata": {},
   "source": [
    "Изучим размеры гранул на этапах обработки."
   ]
  },
  {
   "cell_type": "code",
   "execution_count": 21,
   "metadata": {},
   "outputs": [
    {
     "data": {
      "image/png": "[encoded data removed]",
      "text/plain": [
       "<Figure size 864x648 with 1 Axes>"
      ]
     },
     "metadata": {
      "needs_background": "light"
     },
     "output_type": "display_data"
    }
   ],
   "source": [
    "plt.figure(figsize=[12,9])\n",
    "\n",
    "plt.hist(good_gold_recovery_train['rougher.input.feed_size'], bins=200, label = 'Train rougher.input.feed_size', alpha=.5)\n",
    "plt.hist(good_gold_recovery_test['rougher.input.feed_size'], bins=200, label = 'Test rougher.input.feed_size', alpha=.5)\n",
    "\n",
    "plt.xlim([0, 500])\n",
    "plt.ylim([0, 1300])\n",
    "\n",
    "plt.xlabel(\"Размер гранул сырья\")\n",
    "plt.ylabel(\"Количество результатов\")\n",
    "\n",
    "plt.legend(loc='upper left', fontsize='x-large')\n",
    "\n",
    "plt.title(\"Гистограмма распределения гранул сырья перед флотацией\")\n",
    "plt.show()"
   ]
  },
  {
   "cell_type": "markdown",
   "metadata": {},
   "source": [
    "Распределение гранул до флотации похоже на нормальное со смещением влево как в обучающей, так и в тестовой выбрке. Существует много выбросов свыше 100."
   ]
  },
  {
   "cell_type": "code",
   "execution_count": 22,
   "metadata": {},
   "outputs": [
    {
     "data": {
      "image/png": "[encoded data removed]",
      "text/plain": [
       "<Figure size 864x648 with 1 Axes>"
      ]
     },
     "metadata": {
      "needs_background": "light"
     },
     "output_type": "display_data"
    }
   ],
   "source": [
    "plt.figure(figsize=[12,9])\n",
    "\n",
    "plt.hist(good_gold_recovery_train['primary_cleaner.input.feed_size'], bins=100, label = 'Train primary_cleaner.input.feed_size', alpha=.5)\n",
    "plt.hist(good_gold_recovery_test['primary_cleaner.input.feed_size'], bins=100, label = 'Test primary_cleaner.input.feed_size', alpha=.5)\n",
    "\n",
    "plt.xlim([0, 16])\n",
    "plt.ylim([0, 1000])\n",
    "\n",
    "plt.xlabel(\"Размер гранул сырья\")\n",
    "plt.ylabel(\"Количество результатов\")\n",
    "\n",
    "plt.legend(loc='upper left', fontsize='x-large')\n",
    "\n",
    "plt.title(\"Гистограмма распределения гранул сырья перед первичной очисткой\")\n",
    "plt.show()"
   ]
  },
  {
   "cell_type": "markdown",
   "metadata": {},
   "source": [
    "Размеры гранул перед первичной очисткой обладают нормальным распределением.\n",
    "\n",
    "Подготовим столбцы с финальными концентрациями в обучающей выборке."
   ]
  },
  {
   "cell_type": "code",
   "execution_count": 23,
   "metadata": {},
   "outputs": [],
   "source": [
    "final_output_concentrate_sum_train = (good_gold_recovery_train['final.output.concentrate_au'] + \n",
    "                                      good_gold_recovery_train['final.output.concentrate_ag'] + \n",
    "                                      good_gold_recovery_train['final.output.concentrate_pb'] +\n",
    "                                      good_gold_recovery_train['final.output.concentrate_sol'])\n",
    "primary_cleaner_output_concentrate_sum_train = (good_gold_recovery_train['primary_cleaner.output.concentrate_au'] + \n",
    "                                                good_gold_recovery_train['primary_cleaner.output.concentrate_ag'] + \n",
    "                                                good_gold_recovery_train['primary_cleaner.output.concentrate_pb'] +\n",
    "                                                good_gold_recovery_train['primary_cleaner.output.concentrate_sol'])\n",
    "rougher_output_concentrate_sum_train = (good_gold_recovery_train['rougher.output.concentrate_au'] + \n",
    "                                        good_gold_recovery_train['rougher.output.concentrate_ag'] + \n",
    "                                        good_gold_recovery_train['rougher.output.concentrate_pb'] +\n",
    "                                        good_gold_recovery_train['rougher.output.concentrate_sol'])"
   ]
  },
  {
   "cell_type": "code",
   "execution_count": 24,
   "metadata": {},
   "outputs": [
    {
     "data": {
      "image/png": "[encoded data removed]",
      "text/plain": [
       "<Figure size 864x648 with 1 Axes>"
      ]
     },
     "metadata": {
      "needs_background": "light"
     },
     "output_type": "display_data"
    }
   ],
   "source": [
    "plt.figure(figsize=[12,9])\n",
    "\n",
    "plt.hist(final_output_concentrate_sum_train, bins=100, label = 'final_output', alpha=.5)\n",
    "plt.hist(primary_cleaner_output_concentrate_sum_train, bins=100, label = 'primary_cleaner_output', alpha=.5)\n",
    "plt.hist(rougher_output_concentrate_sum_train, bins=100, label = 'rougher_output', alpha=.5)\n",
    "\n",
    "plt.xlim([0, 100])\n",
    "plt.ylim([0, 1500])\n",
    "\n",
    "plt.xlabel(\"Суммарная концентраця\")\n",
    "plt.ylabel(\"Количество результатов\")\n",
    "\n",
    "plt.legend(loc='upper left', fontsize='x-large')\n",
    "\n",
    "plt.title(\"Гистограмма распределения концентраций на разных этапах очистки\")\n",
    "plt.show()"
   ]
  },
  {
   "cell_type": "code",
   "execution_count": 25,
   "metadata": {},
   "outputs": [
    {
     "data": {
      "image/png": "[encoded data removed]",
      "text/plain": [
       "<Figure size 864x648 with 1 Axes>"
      ]
     },
     "metadata": {
      "needs_background": "light"
     },
     "output_type": "display_data"
    }
   ],
   "source": [
    "plt.figure(figsize=[12,9])\n",
    "\n",
    "plt.hist(final_output_concentrate_sum_train, bins=100, label = 'final_output', alpha=.5)\n",
    "plt.hist(primary_cleaner_output_concentrate_sum_train, bins=100, label = 'primary_cleaner_output', alpha=.5)\n",
    "plt.hist(rougher_output_concentrate_sum_train, bins=100, label = 'rougher_output', alpha=.5)\n",
    "\n",
    "plt.xlim([0, 10])\n",
    "plt.ylim([0, 200])\n",
    "\n",
    "plt.xlabel(\"Суммарная концентраця\")\n",
    "plt.ylabel(\"Количество результатов\")\n",
    "\n",
    "plt.legend(loc='upper left', fontsize='x-large')\n",
    "\n",
    "plt.title(\"Гистограмма распределения концентраций на разных этапах очистки\")\n",
    "plt.show()"
   ]
  },
  {
   "cell_type": "markdown",
   "metadata": {},
   "source": [
    "На этапе предобрабоки были найдены строки с нулевыми значениями в primary_cleaner.output. Эти же строки показывают суммарную концентрацию, равную 0. Соответственно они являются аномалией. Удалим их."
   ]
  },
  {
   "cell_type": "code",
   "execution_count": 26,
   "metadata": {},
   "outputs": [
    {
     "data": {
      "text/html": [
       "<div>\n",
       "<style scoped>\n",
       "    .dataframe tbody tr th:only-of-type {\n",
       "        vertical-align: middle;\n",
       "    }\n",
       "\n",
       "    .dataframe tbody tr th {\n",
       "        vertical-align: top;\n",
       "    }\n",
       "\n",
       "    .dataframe thead th {\n",
       "        text-align: right;\n",
       "    }\n",
       "</style>\n",
       "<table border=\"1\" class=\"dataframe\">\n",
       "  <thead>\n",
       "    <tr style=\"text-align: right;\">\n",
       "      <th></th>\n",
       "      <th>date</th>\n",
       "      <th>final.output.concentrate_ag</th>\n",
       "      <th>final.output.concentrate_pb</th>\n",
       "      <th>final.output.concentrate_sol</th>\n",
       "      <th>final.output.concentrate_au</th>\n",
       "      <th>final.output.recovery</th>\n",
       "      <th>final.output.tail_ag</th>\n",
       "      <th>final.output.tail_pb</th>\n",
       "      <th>final.output.tail_sol</th>\n",
       "      <th>final.output.tail_au</th>\n",
       "      <th>...</th>\n",
       "      <th>secondary_cleaner.state.floatbank4_a_air</th>\n",
       "      <th>secondary_cleaner.state.floatbank4_a_level</th>\n",
       "      <th>secondary_cleaner.state.floatbank4_b_air</th>\n",
       "      <th>secondary_cleaner.state.floatbank4_b_level</th>\n",
       "      <th>secondary_cleaner.state.floatbank5_a_air</th>\n",
       "      <th>secondary_cleaner.state.floatbank5_a_level</th>\n",
       "      <th>secondary_cleaner.state.floatbank5_b_air</th>\n",
       "      <th>secondary_cleaner.state.floatbank5_b_level</th>\n",
       "      <th>secondary_cleaner.state.floatbank6_a_air</th>\n",
       "      <th>secondary_cleaner.state.floatbank6_a_level</th>\n",
       "    </tr>\n",
       "  </thead>\n",
       "  <tbody>\n",
       "  </tbody>\n",
       "</table>\n",
       "<p>0 rows × 87 columns</p>\n",
       "</div>"
      ],
      "text/plain": [
       "Empty DataFrame\n",
       "Columns: [date, final.output.concentrate_ag, final.output.concentrate_pb, final.output.concentrate_sol, final.output.concentrate_au, final.output.recovery, final.output.tail_ag, final.output.tail_pb, final.output.tail_sol, final.output.tail_au, primary_cleaner.input.sulfate, primary_cleaner.input.depressant, primary_cleaner.input.feed_size, primary_cleaner.input.xanthate, primary_cleaner.output.concentrate_ag, primary_cleaner.output.concentrate_pb, primary_cleaner.output.concentrate_sol, primary_cleaner.output.concentrate_au, primary_cleaner.output.tail_ag, primary_cleaner.output.tail_pb, primary_cleaner.output.tail_sol, primary_cleaner.output.tail_au, primary_cleaner.state.floatbank8_a_air, primary_cleaner.state.floatbank8_a_level, primary_cleaner.state.floatbank8_b_air, primary_cleaner.state.floatbank8_b_level, primary_cleaner.state.floatbank8_c_air, primary_cleaner.state.floatbank8_c_level, primary_cleaner.state.floatbank8_d_air, primary_cleaner.state.floatbank8_d_level, rougher.calculation.sulfate_to_au_concentrate, rougher.calculation.floatbank10_sulfate_to_au_feed, rougher.calculation.floatbank11_sulfate_to_au_feed, rougher.calculation.au_pb_ratio, rougher.input.feed_ag, rougher.input.feed_pb, rougher.input.feed_rate, rougher.input.feed_size, rougher.input.feed_sol, rougher.input.feed_au, rougher.input.floatbank10_sulfate, rougher.input.floatbank10_xanthate, rougher.input.floatbank11_sulfate, rougher.input.floatbank11_xanthate, rougher.output.concentrate_ag, rougher.output.concentrate_pb, rougher.output.concentrate_sol, rougher.output.concentrate_au, rougher.output.recovery, rougher.output.tail_ag, rougher.output.tail_pb, rougher.output.tail_sol, rougher.output.tail_au, rougher.state.floatbank10_a_air, rougher.state.floatbank10_a_level, rougher.state.floatbank10_b_air, rougher.state.floatbank10_b_level, rougher.state.floatbank10_c_air, rougher.state.floatbank10_c_level, rougher.state.floatbank10_d_air, rougher.state.floatbank10_d_level, rougher.state.floatbank10_e_air, rougher.state.floatbank10_e_level, rougher.state.floatbank10_f_air, rougher.state.floatbank10_f_level, secondary_cleaner.output.tail_ag, secondary_cleaner.output.tail_pb, secondary_cleaner.output.tail_sol, secondary_cleaner.output.tail_au, secondary_cleaner.state.floatbank2_a_air, secondary_cleaner.state.floatbank2_a_level, secondary_cleaner.state.floatbank2_b_air, secondary_cleaner.state.floatbank2_b_level, secondary_cleaner.state.floatbank3_a_air, secondary_cleaner.state.floatbank3_a_level, secondary_cleaner.state.floatbank3_b_air, secondary_cleaner.state.floatbank3_b_level, secondary_cleaner.state.floatbank4_a_air, secondary_cleaner.state.floatbank4_a_level, secondary_cleaner.state.floatbank4_b_air, secondary_cleaner.state.floatbank4_b_level, secondary_cleaner.state.floatbank5_a_air, secondary_cleaner.state.floatbank5_a_level, secondary_cleaner.state.floatbank5_b_air, secondary_cleaner.state.floatbank5_b_level, secondary_cleaner.state.floatbank6_a_air, secondary_cleaner.state.floatbank6_a_level]\n",
       "Index: []\n",
       "\n",
       "[0 rows x 87 columns]"
      ]
     },
     "execution_count": 26,
     "metadata": {},
     "output_type": "execute_result"
    }
   ],
   "source": [
    "good_gold_recovery_train = good_gold_recovery_train.drop(good_gold_recovery_train[good_gold_recovery_train['primary_cleaner.output.concentrate_au'] == 0].index)\n",
    "good_gold_recovery_train[good_gold_recovery_train['primary_cleaner.output.concentrate_au'] == 0].head()"
   ]
  },
  {
   "cell_type": "markdown",
   "metadata": {},
   "source": [
    "**Вывод к шагу 2**\n",
    "В результате анализа были изучены:\n",
    "\n",
    "Концетрации основных веществ на разных этапах очистки.\n",
    "Размер гранул тестовой и обучающей выборки.\n",
    "Суммарная концентрация веществ.\n",
    "Аномалии были удалены. Данные готовы к обучению."
   ]
  },
  {
   "cell_type": "markdown",
   "metadata": {},
   "source": [
    "## Модель"
   ]
  },
  {
   "cell_type": "markdown",
   "metadata": {},
   "source": [
    "Создадим разделение признаков для предсказания rougher.output.recovery и final.output.recovery."
   ]
  },
  {
   "cell_type": "code",
   "execution_count": 27,
   "metadata": {},
   "outputs": [],
   "source": [
    "columns_to_delete = set(good_gold_recovery_train.columns) - final_features_columns\n",
    "train_features_final = good_gold_recovery_train.drop(columns_to_delete, axis=1)\n",
    "columns_to_delete = set(train_features_final.columns) - rougher_features_columns\n",
    "train_features_rougher = train_features_final.drop(columns_to_delete, axis=1)"
   ]
  },
  {
   "cell_type": "markdown",
   "metadata": {},
   "source": [
    "Подготовим целевой признак."
   ]
  },
  {
   "cell_type": "code",
   "execution_count": 28,
   "metadata": {},
   "outputs": [],
   "source": [
    "train_target_final = good_gold_recovery_train['final.output.recovery']\n",
    "train_target_rougher = good_gold_recovery_train['rougher.output.recovery']"
   ]
  },
  {
   "cell_type": "markdown",
   "metadata": {},
   "source": [
    "Удалим date."
   ]
  },
  {
   "cell_type": "code",
   "execution_count": 29,
   "metadata": {},
   "outputs": [],
   "source": [
    "test_features = good_gold_recovery_test.drop('date', axis=1)"
   ]
  },
  {
   "cell_type": "code",
   "execution_count": 30,
   "metadata": {},
   "outputs": [],
   "source": [
    "test_features_final = test_features\n",
    "columns_to_delete = set(test_features_final.columns) - rougher_features_columns\n",
    "test_features_rougher = test_features_final.drop(columns_to_delete, axis=1)"
   ]
  },
  {
   "cell_type": "code",
   "execution_count": 31,
   "metadata": {},
   "outputs": [
    {
     "data": {
      "text/html": [
       "<div>\n",
       "<style scoped>\n",
       "    .dataframe tbody tr th:only-of-type {\n",
       "        vertical-align: middle;\n",
       "    }\n",
       "\n",
       "    .dataframe tbody tr th {\n",
       "        vertical-align: top;\n",
       "    }\n",
       "\n",
       "    .dataframe thead th {\n",
       "        text-align: right;\n",
       "    }\n",
       "</style>\n",
       "<table border=\"1\" class=\"dataframe\">\n",
       "  <thead>\n",
       "    <tr style=\"text-align: right;\">\n",
       "      <th></th>\n",
       "      <th>primary_cleaner.input.sulfate</th>\n",
       "      <th>primary_cleaner.input.depressant</th>\n",
       "      <th>primary_cleaner.input.feed_size</th>\n",
       "      <th>primary_cleaner.input.xanthate</th>\n",
       "      <th>primary_cleaner.state.floatbank8_a_air</th>\n",
       "      <th>primary_cleaner.state.floatbank8_a_level</th>\n",
       "      <th>primary_cleaner.state.floatbank8_b_air</th>\n",
       "      <th>primary_cleaner.state.floatbank8_b_level</th>\n",
       "      <th>primary_cleaner.state.floatbank8_c_air</th>\n",
       "      <th>primary_cleaner.state.floatbank8_c_level</th>\n",
       "      <th>...</th>\n",
       "      <th>secondary_cleaner.state.floatbank4_a_air</th>\n",
       "      <th>secondary_cleaner.state.floatbank4_a_level</th>\n",
       "      <th>secondary_cleaner.state.floatbank4_b_air</th>\n",
       "      <th>secondary_cleaner.state.floatbank4_b_level</th>\n",
       "      <th>secondary_cleaner.state.floatbank5_a_air</th>\n",
       "      <th>secondary_cleaner.state.floatbank5_a_level</th>\n",
       "      <th>secondary_cleaner.state.floatbank5_b_air</th>\n",
       "      <th>secondary_cleaner.state.floatbank5_b_level</th>\n",
       "      <th>secondary_cleaner.state.floatbank6_a_air</th>\n",
       "      <th>secondary_cleaner.state.floatbank6_a_level</th>\n",
       "    </tr>\n",
       "  </thead>\n",
       "  <tbody>\n",
       "    <tr>\n",
       "      <td>0</td>\n",
       "      <td>210.800909</td>\n",
       "      <td>14.993118</td>\n",
       "      <td>8.080000</td>\n",
       "      <td>1.005021</td>\n",
       "      <td>1398.981301</td>\n",
       "      <td>-500.225577</td>\n",
       "      <td>1399.144926</td>\n",
       "      <td>-499.919735</td>\n",
       "      <td>1400.102998</td>\n",
       "      <td>-500.704369</td>\n",
       "      <td>...</td>\n",
       "      <td>12.023554</td>\n",
       "      <td>-497.795834</td>\n",
       "      <td>8.016656</td>\n",
       "      <td>-501.289139</td>\n",
       "      <td>7.946562</td>\n",
       "      <td>-432.317850</td>\n",
       "      <td>4.872511</td>\n",
       "      <td>-500.037437</td>\n",
       "      <td>26.705889</td>\n",
       "      <td>-499.709414</td>\n",
       "    </tr>\n",
       "    <tr>\n",
       "      <td>1</td>\n",
       "      <td>215.392455</td>\n",
       "      <td>14.987471</td>\n",
       "      <td>8.080000</td>\n",
       "      <td>0.990469</td>\n",
       "      <td>1398.777912</td>\n",
       "      <td>-500.057435</td>\n",
       "      <td>1398.055362</td>\n",
       "      <td>-499.778182</td>\n",
       "      <td>1396.151033</td>\n",
       "      <td>-499.240168</td>\n",
       "      <td>...</td>\n",
       "      <td>12.058140</td>\n",
       "      <td>-498.695773</td>\n",
       "      <td>8.130979</td>\n",
       "      <td>-499.634209</td>\n",
       "      <td>7.958270</td>\n",
       "      <td>-525.839648</td>\n",
       "      <td>4.878850</td>\n",
       "      <td>-500.162375</td>\n",
       "      <td>25.019940</td>\n",
       "      <td>-499.819438</td>\n",
       "    </tr>\n",
       "    <tr>\n",
       "      <td>2</td>\n",
       "      <td>215.259946</td>\n",
       "      <td>12.884934</td>\n",
       "      <td>7.786667</td>\n",
       "      <td>0.996043</td>\n",
       "      <td>1398.493666</td>\n",
       "      <td>-500.868360</td>\n",
       "      <td>1398.860436</td>\n",
       "      <td>-499.764529</td>\n",
       "      <td>1398.075709</td>\n",
       "      <td>-502.151509</td>\n",
       "      <td>...</td>\n",
       "      <td>11.962366</td>\n",
       "      <td>-498.767484</td>\n",
       "      <td>8.096893</td>\n",
       "      <td>-500.827423</td>\n",
       "      <td>8.071056</td>\n",
       "      <td>-500.801673</td>\n",
       "      <td>4.905125</td>\n",
       "      <td>-499.828510</td>\n",
       "      <td>24.994862</td>\n",
       "      <td>-500.622559</td>\n",
       "    </tr>\n",
       "    <tr>\n",
       "      <td>3</td>\n",
       "      <td>215.336236</td>\n",
       "      <td>12.006805</td>\n",
       "      <td>7.640000</td>\n",
       "      <td>0.863514</td>\n",
       "      <td>1399.618111</td>\n",
       "      <td>-498.863574</td>\n",
       "      <td>1397.440120</td>\n",
       "      <td>-499.211024</td>\n",
       "      <td>1400.129303</td>\n",
       "      <td>-498.355873</td>\n",
       "      <td>...</td>\n",
       "      <td>12.033091</td>\n",
       "      <td>-498.350935</td>\n",
       "      <td>8.074946</td>\n",
       "      <td>-499.474407</td>\n",
       "      <td>7.897085</td>\n",
       "      <td>-500.868509</td>\n",
       "      <td>4.931400</td>\n",
       "      <td>-499.963623</td>\n",
       "      <td>24.948919</td>\n",
       "      <td>-498.709987</td>\n",
       "    </tr>\n",
       "    <tr>\n",
       "      <td>4</td>\n",
       "      <td>199.099327</td>\n",
       "      <td>10.682530</td>\n",
       "      <td>7.530000</td>\n",
       "      <td>0.805575</td>\n",
       "      <td>1401.268123</td>\n",
       "      <td>-500.808305</td>\n",
       "      <td>1398.128818</td>\n",
       "      <td>-499.504543</td>\n",
       "      <td>1402.172226</td>\n",
       "      <td>-500.810606</td>\n",
       "      <td>...</td>\n",
       "      <td>12.025367</td>\n",
       "      <td>-500.786497</td>\n",
       "      <td>8.054678</td>\n",
       "      <td>-500.397500</td>\n",
       "      <td>8.107890</td>\n",
       "      <td>-509.526725</td>\n",
       "      <td>4.957674</td>\n",
       "      <td>-500.360026</td>\n",
       "      <td>25.003331</td>\n",
       "      <td>-500.856333</td>\n",
       "    </tr>\n",
       "    <tr>\n",
       "      <td>...</td>\n",
       "      <td>...</td>\n",
       "      <td>...</td>\n",
       "      <td>...</td>\n",
       "      <td>...</td>\n",
       "      <td>...</td>\n",
       "      <td>...</td>\n",
       "      <td>...</td>\n",
       "      <td>...</td>\n",
       "      <td>...</td>\n",
       "      <td>...</td>\n",
       "      <td>...</td>\n",
       "      <td>...</td>\n",
       "      <td>...</td>\n",
       "      <td>...</td>\n",
       "      <td>...</td>\n",
       "      <td>...</td>\n",
       "      <td>...</td>\n",
       "      <td>...</td>\n",
       "      <td>...</td>\n",
       "      <td>...</td>\n",
       "      <td>...</td>\n",
       "    </tr>\n",
       "    <tr>\n",
       "      <td>5851</td>\n",
       "      <td>173.957757</td>\n",
       "      <td>15.963399</td>\n",
       "      <td>8.070000</td>\n",
       "      <td>0.896701</td>\n",
       "      <td>1401.930554</td>\n",
       "      <td>-499.728848</td>\n",
       "      <td>1401.441445</td>\n",
       "      <td>-499.193423</td>\n",
       "      <td>1399.810313</td>\n",
       "      <td>-499.599127</td>\n",
       "      <td>...</td>\n",
       "      <td>13.995957</td>\n",
       "      <td>-500.157454</td>\n",
       "      <td>12.069155</td>\n",
       "      <td>-499.673279</td>\n",
       "      <td>7.977259</td>\n",
       "      <td>-499.516126</td>\n",
       "      <td>5.933319</td>\n",
       "      <td>-499.965973</td>\n",
       "      <td>8.987171</td>\n",
       "      <td>-499.755909</td>\n",
       "    </tr>\n",
       "    <tr>\n",
       "      <td>5852</td>\n",
       "      <td>172.910270</td>\n",
       "      <td>16.002605</td>\n",
       "      <td>8.070000</td>\n",
       "      <td>0.896519</td>\n",
       "      <td>1447.075722</td>\n",
       "      <td>-494.716823</td>\n",
       "      <td>1448.851892</td>\n",
       "      <td>-465.963026</td>\n",
       "      <td>1443.890424</td>\n",
       "      <td>-503.587739</td>\n",
       "      <td>...</td>\n",
       "      <td>16.749781</td>\n",
       "      <td>-496.031539</td>\n",
       "      <td>13.365371</td>\n",
       "      <td>-499.122723</td>\n",
       "      <td>9.288553</td>\n",
       "      <td>-496.892967</td>\n",
       "      <td>7.372897</td>\n",
       "      <td>-499.942956</td>\n",
       "      <td>8.986832</td>\n",
       "      <td>-499.903761</td>\n",
       "    </tr>\n",
       "    <tr>\n",
       "      <td>5853</td>\n",
       "      <td>171.135718</td>\n",
       "      <td>15.993669</td>\n",
       "      <td>8.070000</td>\n",
       "      <td>1.165996</td>\n",
       "      <td>1498.836182</td>\n",
       "      <td>-501.770403</td>\n",
       "      <td>1499.572353</td>\n",
       "      <td>-495.516347</td>\n",
       "      <td>1502.749213</td>\n",
       "      <td>-520.667442</td>\n",
       "      <td>...</td>\n",
       "      <td>19.994130</td>\n",
       "      <td>-499.791312</td>\n",
       "      <td>15.101425</td>\n",
       "      <td>-499.936252</td>\n",
       "      <td>10.989181</td>\n",
       "      <td>-498.347898</td>\n",
       "      <td>9.020944</td>\n",
       "      <td>-500.040448</td>\n",
       "      <td>8.982038</td>\n",
       "      <td>-497.789882</td>\n",
       "    </tr>\n",
       "    <tr>\n",
       "      <td>5854</td>\n",
       "      <td>179.697158</td>\n",
       "      <td>15.438979</td>\n",
       "      <td>8.070000</td>\n",
       "      <td>1.501068</td>\n",
       "      <td>1498.466243</td>\n",
       "      <td>-500.483984</td>\n",
       "      <td>1497.986986</td>\n",
       "      <td>-519.200340</td>\n",
       "      <td>1496.569047</td>\n",
       "      <td>-487.479567</td>\n",
       "      <td>...</td>\n",
       "      <td>19.958760</td>\n",
       "      <td>-499.958750</td>\n",
       "      <td>15.026853</td>\n",
       "      <td>-499.723143</td>\n",
       "      <td>11.011607</td>\n",
       "      <td>-499.985046</td>\n",
       "      <td>9.009783</td>\n",
       "      <td>-499.937902</td>\n",
       "      <td>9.012660</td>\n",
       "      <td>-500.154284</td>\n",
       "    </tr>\n",
       "    <tr>\n",
       "      <td>5855</td>\n",
       "      <td>181.556856</td>\n",
       "      <td>14.995850</td>\n",
       "      <td>8.070000</td>\n",
       "      <td>1.623454</td>\n",
       "      <td>1498.096303</td>\n",
       "      <td>-499.796922</td>\n",
       "      <td>1501.743791</td>\n",
       "      <td>-505.146931</td>\n",
       "      <td>1499.535978</td>\n",
       "      <td>-492.428226</td>\n",
       "      <td>...</td>\n",
       "      <td>20.034715</td>\n",
       "      <td>-500.728588</td>\n",
       "      <td>14.914199</td>\n",
       "      <td>-499.948518</td>\n",
       "      <td>10.986607</td>\n",
       "      <td>-500.658027</td>\n",
       "      <td>8.989497</td>\n",
       "      <td>-500.337588</td>\n",
       "      <td>8.988632</td>\n",
       "      <td>-500.764937</td>\n",
       "    </tr>\n",
       "  </tbody>\n",
       "</table>\n",
       "<p>5383 rows × 52 columns</p>\n",
       "</div>"
      ],
      "text/plain": [
       "      primary_cleaner.input.sulfate  primary_cleaner.input.depressant  \\\n",
       "0                        210.800909                         14.993118   \n",
       "1                        215.392455                         14.987471   \n",
       "2                        215.259946                         12.884934   \n",
       "3                        215.336236                         12.006805   \n",
       "4                        199.099327                         10.682530   \n",
       "...                             ...                               ...   \n",
       "5851                     173.957757                         15.963399   \n",
       "5852                     172.910270                         16.002605   \n",
       "5853                     171.135718                         15.993669   \n",
       "5854                     179.697158                         15.438979   \n",
       "5855                     181.556856                         14.995850   \n",
       "\n",
       "      primary_cleaner.input.feed_size  primary_cleaner.input.xanthate  \\\n",
       "0                            8.080000                        1.005021   \n",
       "1                            8.080000                        0.990469   \n",
       "2                            7.786667                        0.996043   \n",
       "3                            7.640000                        0.863514   \n",
       "4                            7.530000                        0.805575   \n",
       "...                               ...                             ...   \n",
       "5851                         8.070000                        0.896701   \n",
       "5852                         8.070000                        0.896519   \n",
       "5853                         8.070000                        1.165996   \n",
       "5854                         8.070000                        1.501068   \n",
       "5855                         8.070000                        1.623454   \n",
       "\n",
       "      primary_cleaner.state.floatbank8_a_air  \\\n",
       "0                                1398.981301   \n",
       "1                                1398.777912   \n",
       "2                                1398.493666   \n",
       "3                                1399.618111   \n",
       "4                                1401.268123   \n",
       "...                                      ...   \n",
       "5851                             1401.930554   \n",
       "5852                             1447.075722   \n",
       "5853                             1498.836182   \n",
       "5854                             1498.466243   \n",
       "5855                             1498.096303   \n",
       "\n",
       "      primary_cleaner.state.floatbank8_a_level  \\\n",
       "0                                  -500.225577   \n",
       "1                                  -500.057435   \n",
       "2                                  -500.868360   \n",
       "3                                  -498.863574   \n",
       "4                                  -500.808305   \n",
       "...                                        ...   \n",
       "5851                               -499.728848   \n",
       "5852                               -494.716823   \n",
       "5853                               -501.770403   \n",
       "5854                               -500.483984   \n",
       "5855                               -499.796922   \n",
       "\n",
       "      primary_cleaner.state.floatbank8_b_air  \\\n",
       "0                                1399.144926   \n",
       "1                                1398.055362   \n",
       "2                                1398.860436   \n",
       "3                                1397.440120   \n",
       "4                                1398.128818   \n",
       "...                                      ...   \n",
       "5851                             1401.441445   \n",
       "5852                             1448.851892   \n",
       "5853                             1499.572353   \n",
       "5854                             1497.986986   \n",
       "5855                             1501.743791   \n",
       "\n",
       "      primary_cleaner.state.floatbank8_b_level  \\\n",
       "0                                  -499.919735   \n",
       "1                                  -499.778182   \n",
       "2                                  -499.764529   \n",
       "3                                  -499.211024   \n",
       "4                                  -499.504543   \n",
       "...                                        ...   \n",
       "5851                               -499.193423   \n",
       "5852                               -465.963026   \n",
       "5853                               -495.516347   \n",
       "5854                               -519.200340   \n",
       "5855                               -505.146931   \n",
       "\n",
       "      primary_cleaner.state.floatbank8_c_air  \\\n",
       "0                                1400.102998   \n",
       "1                                1396.151033   \n",
       "2                                1398.075709   \n",
       "3                                1400.129303   \n",
       "4                                1402.172226   \n",
       "...                                      ...   \n",
       "5851                             1399.810313   \n",
       "5852                             1443.890424   \n",
       "5853                             1502.749213   \n",
       "5854                             1496.569047   \n",
       "5855                             1499.535978   \n",
       "\n",
       "      primary_cleaner.state.floatbank8_c_level  ...  \\\n",
       "0                                  -500.704369  ...   \n",
       "1                                  -499.240168  ...   \n",
       "2                                  -502.151509  ...   \n",
       "3                                  -498.355873  ...   \n",
       "4                                  -500.810606  ...   \n",
       "...                                        ...  ...   \n",
       "5851                               -499.599127  ...   \n",
       "5852                               -503.587739  ...   \n",
       "5853                               -520.667442  ...   \n",
       "5854                               -487.479567  ...   \n",
       "5855                               -492.428226  ...   \n",
       "\n",
       "      secondary_cleaner.state.floatbank4_a_air  \\\n",
       "0                                    12.023554   \n",
       "1                                    12.058140   \n",
       "2                                    11.962366   \n",
       "3                                    12.033091   \n",
       "4                                    12.025367   \n",
       "...                                        ...   \n",
       "5851                                 13.995957   \n",
       "5852                                 16.749781   \n",
       "5853                                 19.994130   \n",
       "5854                                 19.958760   \n",
       "5855                                 20.034715   \n",
       "\n",
       "      secondary_cleaner.state.floatbank4_a_level  \\\n",
       "0                                    -497.795834   \n",
       "1                                    -498.695773   \n",
       "2                                    -498.767484   \n",
       "3                                    -498.350935   \n",
       "4                                    -500.786497   \n",
       "...                                          ...   \n",
       "5851                                 -500.157454   \n",
       "5852                                 -496.031539   \n",
       "5853                                 -499.791312   \n",
       "5854                                 -499.958750   \n",
       "5855                                 -500.728588   \n",
       "\n",
       "      secondary_cleaner.state.floatbank4_b_air  \\\n",
       "0                                     8.016656   \n",
       "1                                     8.130979   \n",
       "2                                     8.096893   \n",
       "3                                     8.074946   \n",
       "4                                     8.054678   \n",
       "...                                        ...   \n",
       "5851                                 12.069155   \n",
       "5852                                 13.365371   \n",
       "5853                                 15.101425   \n",
       "5854                                 15.026853   \n",
       "5855                                 14.914199   \n",
       "\n",
       "      secondary_cleaner.state.floatbank4_b_level  \\\n",
       "0                                    -501.289139   \n",
       "1                                    -499.634209   \n",
       "2                                    -500.827423   \n",
       "3                                    -499.474407   \n",
       "4                                    -500.397500   \n",
       "...                                          ...   \n",
       "5851                                 -499.673279   \n",
       "5852                                 -499.122723   \n",
       "5853                                 -499.936252   \n",
       "5854                                 -499.723143   \n",
       "5855                                 -499.948518   \n",
       "\n",
       "      secondary_cleaner.state.floatbank5_a_air  \\\n",
       "0                                     7.946562   \n",
       "1                                     7.958270   \n",
       "2                                     8.071056   \n",
       "3                                     7.897085   \n",
       "4                                     8.107890   \n",
       "...                                        ...   \n",
       "5851                                  7.977259   \n",
       "5852                                  9.288553   \n",
       "5853                                 10.989181   \n",
       "5854                                 11.011607   \n",
       "5855                                 10.986607   \n",
       "\n",
       "      secondary_cleaner.state.floatbank5_a_level  \\\n",
       "0                                    -432.317850   \n",
       "1                                    -525.839648   \n",
       "2                                    -500.801673   \n",
       "3                                    -500.868509   \n",
       "4                                    -509.526725   \n",
       "...                                          ...   \n",
       "5851                                 -499.516126   \n",
       "5852                                 -496.892967   \n",
       "5853                                 -498.347898   \n",
       "5854                                 -499.985046   \n",
       "5855                                 -500.658027   \n",
       "\n",
       "      secondary_cleaner.state.floatbank5_b_air  \\\n",
       "0                                     4.872511   \n",
       "1                                     4.878850   \n",
       "2                                     4.905125   \n",
       "3                                     4.931400   \n",
       "4                                     4.957674   \n",
       "...                                        ...   \n",
       "5851                                  5.933319   \n",
       "5852                                  7.372897   \n",
       "5853                                  9.020944   \n",
       "5854                                  9.009783   \n",
       "5855                                  8.989497   \n",
       "\n",
       "      secondary_cleaner.state.floatbank5_b_level  \\\n",
       "0                                    -500.037437   \n",
       "1                                    -500.162375   \n",
       "2                                    -499.828510   \n",
       "3                                    -499.963623   \n",
       "4                                    -500.360026   \n",
       "...                                          ...   \n",
       "5851                                 -499.965973   \n",
       "5852                                 -499.942956   \n",
       "5853                                 -500.040448   \n",
       "5854                                 -499.937902   \n",
       "5855                                 -500.337588   \n",
       "\n",
       "      secondary_cleaner.state.floatbank6_a_air  \\\n",
       "0                                    26.705889   \n",
       "1                                    25.019940   \n",
       "2                                    24.994862   \n",
       "3                                    24.948919   \n",
       "4                                    25.003331   \n",
       "...                                        ...   \n",
       "5851                                  8.987171   \n",
       "5852                                  8.986832   \n",
       "5853                                  8.982038   \n",
       "5854                                  9.012660   \n",
       "5855                                  8.988632   \n",
       "\n",
       "      secondary_cleaner.state.floatbank6_a_level  \n",
       "0                                    -499.709414  \n",
       "1                                    -499.819438  \n",
       "2                                    -500.622559  \n",
       "3                                    -498.709987  \n",
       "4                                    -500.856333  \n",
       "...                                          ...  \n",
       "5851                                 -499.755909  \n",
       "5852                                 -499.903761  \n",
       "5853                                 -497.789882  \n",
       "5854                                 -500.154284  \n",
       "5855                                 -500.764937  \n",
       "\n",
       "[5383 rows x 52 columns]"
      ]
     },
     "execution_count": 31,
     "metadata": {},
     "output_type": "execute_result"
    }
   ],
   "source": [
    "test_features_final"
   ]
  },
  {
   "cell_type": "markdown",
   "metadata": {},
   "source": [
    "Функция вычисления симметричного среднего абсолютного процентного отклонения."
   ]
  },
  {
   "cell_type": "code",
   "execution_count": 32,
   "metadata": {},
   "outputs": [],
   "source": [
    "def sMAPE_score(rougher_recovery_real, rougher_recovery_predicted, final_recovery_real, final_recovery_predicted):\n",
    "    n = rougher_recovery_real.shape[0]\n",
    "    rougher_sMAPE = ((2*abs(rougher_recovery_real - rougher_recovery_predicted)/\n",
    "                     (abs(rougher_recovery_real) + abs(rougher_recovery_predicted))).sum() * 100 / n)\n",
    "    final_sMAPE = ((2*abs(final_recovery_real - final_recovery_predicted)/\n",
    "                     (abs(final_recovery_real) + abs(final_recovery_predicted))).sum() * 100 / n)\n",
    "    return rougher_sMAPE * 0.25 + final_sMAPE * 0.75"
   ]
  },
  {
   "cell_type": "markdown",
   "metadata": {},
   "source": [
    "Перед нами стоит задача регресии. Выберем следующие модели для обучения:\n",
    "\n",
    "Линейная регрессия\n",
    "Полиноминальная регрессия. Применется на линейной регрессии с подготовленными признаками\n",
    "Регрессия Ridge\n",
    "DecisionTreeRegressor"
   ]
  },
  {
   "cell_type": "markdown",
   "metadata": {},
   "source": [
    "Выполним поиск лучшей модели для предсказаний"
   ]
  },
  {
   "cell_type": "code",
   "execution_count": 33,
   "metadata": {},
   "outputs": [],
   "source": [
    "from sklearn.metrics import make_scorer\n",
    "\n",
    "def sMAPE(y_true,y_pred):\n",
    "    error = np.mean(abs(y_true - y_pred)/((abs(y_true)+abs(y_pred))/2))*100\n",
    "    return error\n",
    "\n",
    "custom_score = make_scorer(sMAPE,greater_is_better=False)"
   ]
  },
  {
   "cell_type": "code",
   "execution_count": 34,
   "metadata": {},
   "outputs": [
    {
     "name": "stdout",
     "output_type": "stream",
     "text": [
      "Mean R2 from CV of LinearRegression = -0.1945534942868865\n",
      "Mean sMAPE from CV of LinearRegression = -9.018601124709136\n",
      "CPU times: user 2.42 s, sys: 3.09 s, total: 5.51 s\n",
      "Wall time: 5.51 s\n"
     ]
    }
   ],
   "source": [
    "%%time\n",
    "\n",
    "regressor = LinearRegression()\n",
    "print('Mean R2 from CV of LinearRegression =', cross_val_score(regressor, train_features_final, train_target_final, cv=5).mean())\n",
    "print('Mean sMAPE from CV of LinearRegression =', cross_val_score(regressor, train_features_final, train_target_final, cv=5, scoring=custom_score).mean())"
   ]
  },
  {
   "cell_type": "markdown",
   "metadata": {},
   "source": [
    "Проверим влияние масштаба признаков на качество модели."
   ]
  },
  {
   "cell_type": "code",
   "execution_count": 35,
   "metadata": {},
   "outputs": [
    {
     "name": "stdout",
     "output_type": "stream",
     "text": [
      "Mean R2 from CV of LinearRegression = -0.19455349428688687\n",
      "Mean sMAPE from CV of LinearRegression = -9.01860112470913\n",
      "CPU times: user 1.54 s, sys: 1.79 s, total: 3.33 s\n",
      "Wall time: 3.31 s\n"
     ]
    }
   ],
   "source": [
    "%%time\n",
    "\n",
    "regressor = LinearRegression()\n",
    "scaller = StandardScaler()\n",
    "pipeline = Pipeline([(\"standard_scaller\", scaller),(\"linear_regression\", regressor)])\n",
    "print('Mean R2 from CV of LinearRegression =', cross_val_score(pipeline, train_features_final, train_target_final, cv=5).mean())\n",
    "print('Mean sMAPE from CV of LinearRegression =', cross_val_score(pipeline, train_features_final, train_target_final, cv=5, scoring=custom_score).mean())"
   ]
  },
  {
   "cell_type": "markdown",
   "metadata": {},
   "source": [
    "Масштаб признаков не влияет."
   ]
  },
  {
   "cell_type": "code",
   "execution_count": 36,
   "metadata": {},
   "outputs": [
    {
     "name": "stdout",
     "output_type": "stream",
     "text": [
      "Mean R2 from CV of PolynomialRegression with 2 degree = -53.896531744446484\n",
      "Mean sMAPE from CV of PolynomialRegression with 2 degree = -47.70415476008717\n",
      "CPU times: user 2min 7s, sys: 1min 46s, total: 3min 54s\n",
      "Wall time: 3min 55s\n"
     ]
    }
   ],
   "source": [
    "%%time\n",
    "\n",
    "regressor = LinearRegression()\n",
    "polynomial_features = PolynomialFeatures(degree=2, include_bias=False)\n",
    "pipeline = Pipeline([(\"polynomial_features\", polynomial_features),(\"linear_regression\", regressor)])\n",
    "print('Mean R2 from CV of PolynomialRegression with 2 degree =', cross_val_score(pipeline, train_features_final, train_target_final, cv=5).mean())\n",
    "print('Mean sMAPE from CV of PolynomialRegression with 2 degree =', cross_val_score(pipeline, train_features_final, train_target_final, cv=5, scoring=custom_score).mean())"
   ]
  },
  {
   "cell_type": "markdown",
   "metadata": {},
   "source": [
    "Для регрессоров Ridge и DecisionTreeRegressor применим метод GridSearchCV. В нем уже вложена кросс-валидация."
   ]
  },
  {
   "cell_type": "code",
   "execution_count": 37,
   "metadata": {},
   "outputs": [
    {
     "name": "stdout",
     "output_type": "stream",
     "text": [
      "# Tuning hyper-parameters for r2\n",
      "\n",
      "Best parameters set found on development set:\n",
      "\n",
      "{'alpha': 10, 'solver': 'sparse_cg'}\n",
      "\n",
      "Grid scores on development set:\n",
      "\n",
      "-0.236 (+/-0.480) for {'alpha': 0.1, 'solver': 'auto'}\n",
      "-0.235 (+/-0.480) for {'alpha': 1, 'solver': 'auto'}\n",
      "-0.235 (+/-0.484) for {'alpha': 10, 'solver': 'auto'}\n",
      "-0.224 (+/-0.497) for {'alpha': 100, 'solver': 'auto'}\n",
      "-0.236 (+/-0.480) for {'alpha': 0.1, 'solver': 'svd'}\n",
      "-0.235 (+/-0.480) for {'alpha': 1, 'solver': 'svd'}\n",
      "-0.235 (+/-0.484) for {'alpha': 10, 'solver': 'svd'}\n",
      "-0.224 (+/-0.497) for {'alpha': 100, 'solver': 'svd'}\n",
      "-0.236 (+/-0.480) for {'alpha': 0.1, 'solver': 'cholesky'}\n",
      "-0.235 (+/-0.480) for {'alpha': 1, 'solver': 'cholesky'}\n",
      "-0.235 (+/-0.484) for {'alpha': 10, 'solver': 'cholesky'}\n",
      "-0.224 (+/-0.497) for {'alpha': 100, 'solver': 'cholesky'}\n",
      "-0.470 (+/-0.716) for {'alpha': 0.1, 'solver': 'lsqr'}\n",
      "-0.470 (+/-0.716) for {'alpha': 1, 'solver': 'lsqr'}\n",
      "-0.470 (+/-0.716) for {'alpha': 10, 'solver': 'lsqr'}\n",
      "-0.470 (+/-0.716) for {'alpha': 100, 'solver': 'lsqr'}\n",
      "-0.140 (+/-0.443) for {'alpha': 0.1, 'solver': 'sparse_cg'}\n",
      "-0.183 (+/-0.537) for {'alpha': 1, 'solver': 'sparse_cg'}\n",
      "-0.124 (+/-0.469) for {'alpha': 10, 'solver': 'sparse_cg'}\n",
      "-0.149 (+/-0.450) for {'alpha': 100, 'solver': 'sparse_cg'}\n",
      "\n",
      "# Tuning hyper-parameters for neg_mean_absolute_error\n",
      "\n",
      "Best parameters set found on development set:\n",
      "\n",
      "{'alpha': 10, 'solver': 'sparse_cg'}\n",
      "\n",
      "Grid scores on development set:\n",
      "\n",
      "-6.801 (+/-2.599) for {'alpha': 0.1, 'solver': 'auto'}\n",
      "-6.801 (+/-2.601) for {'alpha': 1, 'solver': 'auto'}\n",
      "-6.800 (+/-2.620) for {'alpha': 10, 'solver': 'auto'}\n",
      "-6.758 (+/-2.685) for {'alpha': 100, 'solver': 'auto'}\n",
      "-6.801 (+/-2.599) for {'alpha': 0.1, 'solver': 'svd'}\n",
      "-6.801 (+/-2.601) for {'alpha': 1, 'solver': 'svd'}\n",
      "-6.800 (+/-2.620) for {'alpha': 10, 'solver': 'svd'}\n",
      "-6.758 (+/-2.685) for {'alpha': 100, 'solver': 'svd'}\n",
      "-6.801 (+/-2.599) for {'alpha': 0.1, 'solver': 'cholesky'}\n",
      "-6.801 (+/-2.601) for {'alpha': 1, 'solver': 'cholesky'}\n",
      "-6.800 (+/-2.620) for {'alpha': 10, 'solver': 'cholesky'}\n",
      "-6.758 (+/-2.685) for {'alpha': 100, 'solver': 'cholesky'}\n",
      "-7.417 (+/-3.061) for {'alpha': 0.1, 'solver': 'lsqr'}\n",
      "-7.417 (+/-3.061) for {'alpha': 1, 'solver': 'lsqr'}\n",
      "-7.417 (+/-3.061) for {'alpha': 10, 'solver': 'lsqr'}\n",
      "-7.416 (+/-3.062) for {'alpha': 100, 'solver': 'lsqr'}\n",
      "-6.425 (+/-2.486) for {'alpha': 0.1, 'solver': 'sparse_cg'}\n",
      "-6.575 (+/-2.844) for {'alpha': 1, 'solver': 'sparse_cg'}\n",
      "-6.362 (+/-2.586) for {'alpha': 10, 'solver': 'sparse_cg'}\n",
      "-6.445 (+/-2.509) for {'alpha': 100, 'solver': 'sparse_cg'}\n",
      "\n",
      "CPU times: user 18.8 s, sys: 24.9 s, total: 43.7 s\n",
      "Wall time: 43.7 s\n"
     ]
    }
   ],
   "source": [
    "%%time\n",
    "\n",
    "regressor = Ridge()\n",
    "hyperparams = [{'alpha':[0.1, 1, 10, 100], 'solver':['auto']},\n",
    "                 {'alpha':[0.1, 1, 10, 100], 'solver':['svd']}, \n",
    "                 {'alpha':[0.1, 1, 10, 100], 'solver':['cholesky']},\n",
    "                 {'alpha':[0.1, 1, 10, 100], 'solver':['lsqr']}, \n",
    "                 {'alpha':[0.1, 1, 10, 100], 'solver':['sparse_cg']}]\n",
    "\n",
    "scores = ['r2', 'neg_mean_absolute_error']\n",
    "\n",
    "for score in scores:\n",
    "    print('# Tuning hyper-parameters for %s' % score)\n",
    "    print()\n",
    "    clf = GridSearchCV(regressor, hyperparams, scoring=score)\n",
    "    clf.fit(train_features_final, train_target_final)\n",
    "    print(\"Best parameters set found on development set:\")\n",
    "    print()\n",
    "    print(clf.best_params_)\n",
    "    print()\n",
    "    print(\"Grid scores on development set:\")\n",
    "    print()\n",
    "    means = clf.cv_results_['mean_test_score']\n",
    "    stds = clf.cv_results_['std_test_score']\n",
    "    for mean, std, params in zip(means, stds, clf.cv_results_['params']):\n",
    "        print(\"%0.3f (+/-%0.03f) for %r\"% (mean, std * 2, params))\n",
    "    print()"
   ]
  },
  {
   "cell_type": "code",
   "execution_count": 38,
   "metadata": {},
   "outputs": [
    {
     "name": "stdout",
     "output_type": "stream",
     "text": [
      "# Tuning hyper-parameters\n",
      "\n",
      "Best parameters set found on development set:\n",
      "\n",
      "{'criterion': 'mae', 'max_depth': 2, 'random_state': 15062020}\n",
      "\n",
      "Grid scores on development set:\n",
      "\n",
      "-0.134 (+/-0.286) for {'criterion': 'mse', 'max_depth': 2, 'random_state': 15062020}\n",
      "-0.055 (+/-0.188) for {'criterion': 'mse', 'max_depth': 4, 'random_state': 15062020}\n",
      "-0.260 (+/-0.131) for {'criterion': 'mse', 'max_depth': 6, 'random_state': 15062020}\n",
      "-0.435 (+/-0.091) for {'criterion': 'mse', 'max_depth': 8, 'random_state': 15062020}\n",
      "-0.878 (+/-0.074) for {'criterion': 'mse', 'max_depth': 10, 'random_state': 15062020}\n",
      "-0.890 (+/-0.322) for {'criterion': 'mse', 'max_depth': 12, 'random_state': 15062020}\n",
      "-1.023 (+/-0.408) for {'criterion': 'mse', 'max_depth': 14, 'random_state': 15062020}\n",
      "-1.160 (+/-0.837) for {'criterion': 'mse', 'max_depth': 16, 'random_state': 15062020}\n",
      "-1.398 (+/-1.096) for {'criterion': 'mse', 'max_depth': 18, 'random_state': 15062020}\n",
      "-1.364 (+/-0.945) for {'criterion': 'mse', 'max_depth': 20, 'random_state': 15062020}\n",
      "-0.036 (+/-0.175) for {'criterion': 'mae', 'max_depth': 2, 'random_state': 15062020}\n",
      "-0.483 (+/-1.273) for {'criterion': 'mae', 'max_depth': 4, 'random_state': 15062020}\n",
      "-2.211 (+/-2.810) for {'criterion': 'mae', 'max_depth': 6, 'random_state': 15062020}\n",
      "-1.811 (+/-2.322) for {'criterion': 'mae', 'max_depth': 8, 'random_state': 15062020}\n",
      "-2.108 (+/-2.314) for {'criterion': 'mae', 'max_depth': 10, 'random_state': 15062020}\n",
      "-2.347 (+/-2.244) for {'criterion': 'mae', 'max_depth': 12, 'random_state': 15062020}\n",
      "-2.459 (+/-1.912) for {'criterion': 'mae', 'max_depth': 14, 'random_state': 15062020}\n",
      "-3.126 (+/-2.379) for {'criterion': 'mae', 'max_depth': 16, 'random_state': 15062020}\n",
      "-2.751 (+/-1.427) for {'criterion': 'mae', 'max_depth': 18, 'random_state': 15062020}\n",
      "-3.625 (+/-2.349) for {'criterion': 'mae', 'max_depth': 20, 'random_state': 15062020}\n",
      "\n",
      "CPU times: user 11min 9s, sys: 0 ns, total: 11min 9s\n",
      "Wall time: 11min 12s\n"
     ]
    }
   ],
   "source": [
    "%%time\n",
    "\n",
    "regressor = DecisionTreeRegressor() \n",
    "max_depth_list = [x for x in range(2, 21, 2)]\n",
    "hyperparams = [{'criterion':['mse'], 'max_depth':max_depth_list, 'random_state':[15062020]},\n",
    "               {'criterion':['mae'], 'max_depth':max_depth_list, 'random_state':[15062020]}]\n",
    "\n",
    "print('# Tuning hyper-parameters')\n",
    "print()\n",
    "clf = GridSearchCV(regressor, hyperparams)\n",
    "clf.fit(train_features_final, train_target_final)\n",
    "print(\"Best parameters set found on development set:\")\n",
    "print()\n",
    "print(clf.best_params_)\n",
    "print()\n",
    "print(\"Grid scores on development set:\")\n",
    "print()\n",
    "means = clf.cv_results_['mean_test_score']\n",
    "stds = clf.cv_results_['std_test_score']\n",
    "for mean, std, params in zip(means, stds, clf.cv_results_['params']):\n",
    "    print(\"%0.3f (+/-%0.03f) for %r\"% (mean, std * 2, params))\n",
    "print()"
   ]
  },
  {
   "cell_type": "markdown",
   "metadata": {},
   "source": [
    "Проверим лучшие модели по метрикам на созданной метрике sMAPE. Проверим реальные данные."
   ]
  },
  {
   "cell_type": "code",
   "execution_count": 39,
   "metadata": {},
   "outputs": [],
   "source": [
    "gold_recovery_full_set_index = gold_recovery_full.set_index(gold_recovery_full['date'], drop=False, append=False, inplace=False).drop('date', 1)"
   ]
  },
  {
   "cell_type": "code",
   "execution_count": 40,
   "metadata": {},
   "outputs": [],
   "source": [
    "test_features_final_set_index = good_gold_recovery_test.set_index(good_gold_recovery_test['date'], drop=False, append=False, inplace=False).drop('date', 1)"
   ]
  },
  {
   "cell_type": "code",
   "execution_count": 41,
   "metadata": {},
   "outputs": [],
   "source": [
    "columns_to_delete = set(test_features_final_set_index.columns) - rougher_features_columns\n",
    "test_features_rougher_set_index = test_features_final_set_index.drop(columns_to_delete, axis=1)"
   ]
  },
  {
   "cell_type": "code",
   "execution_count": 42,
   "metadata": {},
   "outputs": [],
   "source": [
    "rougher_recovery_real = gold_recovery_full_set_index.loc[test_features_rougher_set_index.index,'rougher.output.recovery']\n",
    "final_recovery_real = gold_recovery_full_set_index.loc[test_features_rougher_set_index.index,'final.output.recovery']"
   ]
  },
  {
   "cell_type": "code",
   "execution_count": 43,
   "metadata": {},
   "outputs": [
    {
     "name": "stdout",
     "output_type": "stream",
     "text": [
      "Процент пропусков в общей выборке 0.025636262307263607\n",
      "Процент пропусков в общей выборке 0.009288500835965075\n"
     ]
    }
   ],
   "source": [
    "print('Процент пропусков в общей выборке' ,rougher_recovery_real.isna().mean())\n",
    "print('Процент пропусков в общей выборке',final_recovery_real.isna().mean())"
   ]
  },
  {
   "cell_type": "code",
   "execution_count": 44,
   "metadata": {},
   "outputs": [],
   "source": [
    "rougher_recovery_real = gold_recovery_full.loc[test_features_rougher.index,'rougher.output.recovery']\n",
    "final_recovery_real = gold_recovery_full.loc[test_features_final.index,'final.output.recovery']"
   ]
  },
  {
   "cell_type": "markdown",
   "metadata": {},
   "source": [
    "В реальной таблице отсутсвуют зачения для выборки. Они будут игнорироваться при расчете sMAPE."
   ]
  },
  {
   "cell_type": "code",
   "execution_count": 45,
   "metadata": {},
   "outputs": [
    {
     "name": "stdout",
     "output_type": "stream",
     "text": [
      "sMAPE для линейной регресии 12.300567079496306\n",
      "sMAPE для полиноминальной регресии 25.250639724184683\n",
      "sMAPE для регресии Ridge 12.288374134627773\n",
      "sMAPE для DecisionTreeRegressor 12.397228650408637\n",
      "CPU times: user 1min 4s, sys: 875 ms, total: 1min 5s\n",
      "Wall time: 1min 6s\n"
     ]
    }
   ],
   "source": [
    "%%time\n",
    "\n",
    "model = LinearRegression()\n",
    "model.fit(train_features_rougher, train_target_rougher)\n",
    "rougher_recovery_predicted = model.predict(test_features_rougher)\n",
    "model.fit(train_features_final, train_target_final)\n",
    "final_recovery_predicted = model.predict(test_features_final)\n",
    "print('sMAPE для линейной регресии',sMAPE_score(rougher_recovery_real, rougher_recovery_predicted, final_recovery_real, final_recovery_predicted))\n",
    "\n",
    "regressor = LinearRegression()\n",
    "polynomial_features = PolynomialFeatures(degree=2, include_bias=False)\n",
    "model = Pipeline([(\"polynomial_features\", polynomial_features),(\"linear_regression\", regressor)])\n",
    "model.fit(train_features_rougher, train_target_rougher)\n",
    "rougher_recovery_predicted = model.predict(test_features_rougher)\n",
    "model.fit(train_features_final, train_target_final)\n",
    "final_recovery_predicted = model.predict(test_features_final)\n",
    "print('sMAPE для полиноминальной регресии',sMAPE_score(rougher_recovery_real, rougher_recovery_predicted, final_recovery_real, final_recovery_predicted))\n",
    "\n",
    "model = Ridge(alpha=100, solver='sparse_cg')\n",
    "model.fit(train_features_rougher, train_target_rougher)\n",
    "rougher_recovery_predicted = model.predict(test_features_rougher)\n",
    "model.fit(train_features_final, train_target_final)\n",
    "final_recovery_predicted = model.predict(test_features_final)\n",
    "print('sMAPE для регресии Ridge',sMAPE_score(rougher_recovery_real, rougher_recovery_predicted, final_recovery_real, final_recovery_predicted))\n",
    "\n",
    "model = DecisionTreeRegressor(criterion='mae', max_depth=2, random_state=15062020)\n",
    "model.fit(train_features_rougher, train_target_rougher)\n",
    "rougher_recovery_predicted = model.predict(test_features_rougher)\n",
    "model.fit(train_features_final, train_target_final)\n",
    "final_recovery_predicted = model.predict(test_features_final)\n",
    "print('sMAPE для DecisionTreeRegressor',sMAPE_score(rougher_recovery_real, rougher_recovery_predicted, final_recovery_real, final_recovery_predicted))  "
   ]
  },
  {
   "cell_type": "markdown",
   "metadata": {},
   "source": [
    "Создадим константную модель на медианных значений. Изменим код функции для подсчета."
   ]
  },
  {
   "cell_type": "code",
   "execution_count": 46,
   "metadata": {},
   "outputs": [
    {
     "name": "stdout",
     "output_type": "stream",
     "text": [
      "sMAPE для медианной константной модели 11.437793816641223\n"
     ]
    }
   ],
   "source": [
    "median_rougher_recovery = gold_recovery_full['rougher.output.recovery'].median()\n",
    "median_final_recovery = gold_recovery_full['final.output.recovery'].median()\n",
    "\n",
    "n = rougher_recovery_real.shape[0]\n",
    "rougher_sMAPE = ((2*abs(rougher_recovery_real - median_rougher_recovery)/\n",
    "                     (abs(rougher_recovery_real) + abs(median_rougher_recovery))).sum() * 100 / n)\n",
    "final_sMAPE = ((2*abs(final_recovery_real - median_final_recovery)/\n",
    "                     (abs(final_recovery_real) + abs(median_final_recovery))).sum() * 100 / n)\n",
    "print('sMAPE для медианной константной модели', rougher_sMAPE * 0.25 + final_sMAPE * 0.75)"
   ]
  },
  {
   "cell_type": "markdown",
   "metadata": {},
   "source": [
    "Проведем сокращение тестовой выборки из-за пропущенных значений rougher.output.recovery и final.output.recovery в полном датафрейме. Для вычисления sMAPE длина и индексы всех серий должны быть одинаковы."
   ]
  },
  {
   "cell_type": "code",
   "execution_count": 47,
   "metadata": {},
   "outputs": [
    {
     "name": "stdout",
     "output_type": "stream",
     "text": [
      "Количество строк rougher_recovery_real = 4608\n",
      "Количество строк final_recovery_real = 4819\n",
      "Количество строк test_features_rougher = 5383\n",
      "Количество индексов с полными данными= 4554\n"
     ]
    }
   ],
   "source": [
    "rougher_recovery_real.dropna(inplace=True)\n",
    "print('Количество строк rougher_recovery_real =', rougher_recovery_real.shape[0])\n",
    "final_recovery_real.dropna(inplace=True)\n",
    "print('Количество строк final_recovery_real =', final_recovery_real.shape[0])\n",
    "print('Количество строк test_features_rougher =', test_features_rougher.shape[0])\n",
    "\n",
    "not_nan_index = set(test_features_rougher.index)\n",
    "not_nan_index = not_nan_index.intersection(set(final_recovery_real.index), set(rougher_recovery_real.index))\n",
    "print('Количество индексов с полными данными=', len(not_nan_index))"
   ]
  },
  {
   "cell_type": "markdown",
   "metadata": {},
   "source": [
    "Преобразем количество данных тестовой выбоки и рельных так, чтобы не было NaN."
   ]
  },
  {
   "cell_type": "code",
   "execution_count": 48,
   "metadata": {},
   "outputs": [
    {
     "name": "stdout",
     "output_type": "stream",
     "text": [
      "Количество строк test_features_final = 4554\n"
     ]
    }
   ],
   "source": [
    "rougher_recovery_real = gold_recovery_full.loc[not_nan_index,'rougher.output.recovery']\n",
    "final_recovery_real = gold_recovery_full.loc[not_nan_index,'final.output.recovery']\n",
    "test_features_rougher = test_features_rougher.loc[not_nan_index,:]\n",
    "test_features_final = test_features_final.loc[not_nan_index,:]\n",
    "print('Количество строк test_features_final =', test_features_final.shape[0])"
   ]
  },
  {
   "cell_type": "markdown",
   "metadata": {},
   "source": [
    "Повторим получение sMAPE на тех же моделях."
   ]
  },
  {
   "cell_type": "code",
   "execution_count": 49,
   "metadata": {},
   "outputs": [
    {
     "name": "stdout",
     "output_type": "stream",
     "text": [
      "sMAPE для линейной регресии 13.212153673716113\n",
      "sMAPE для полиноминальной регресии 27.988194717599818\n",
      "sMAPE для регресии Ridge 13.209790284979336\n",
      "sMAPE для DecisionTreeRegressor 13.296719085879957\n",
      "sMAPE для медианной константной модели 12.236756621839444\n",
      "CPU times: user 58.6 s, sys: 12 s, total: 1min 10s\n",
      "Wall time: 1min 10s\n"
     ]
    }
   ],
   "source": [
    "%%time\n",
    "\n",
    "model = LinearRegression()\n",
    "model.fit(train_features_rougher, train_target_rougher)\n",
    "rougher_recovery_predicted = model.predict(test_features_rougher)\n",
    "model.fit(train_features_final, train_target_final)\n",
    "final_recovery_predicted = model.predict(test_features_final)\n",
    "print('sMAPE для линейной регресии',sMAPE_score(rougher_recovery_real, rougher_recovery_predicted, final_recovery_real, final_recovery_predicted))\n",
    "\n",
    "regressor = LinearRegression()\n",
    "polynomial_features = PolynomialFeatures(degree=2, include_bias=False)\n",
    "model = Pipeline([(\"polynomial_features\", polynomial_features),(\"linear_regression\", regressor)])\n",
    "model.fit(train_features_rougher, train_target_rougher)\n",
    "rougher_recovery_predicted = model.predict(test_features_rougher)\n",
    "model.fit(train_features_final, train_target_final)\n",
    "final_recovery_predicted = model.predict(test_features_final)\n",
    "print('sMAPE для полиноминальной регресии',sMAPE_score(rougher_recovery_real, rougher_recovery_predicted, final_recovery_real, final_recovery_predicted))\n",
    "\n",
    "model = Ridge(alpha=100, solver='sparse_cg')\n",
    "model.fit(train_features_rougher, train_target_rougher)\n",
    "rougher_recovery_predicted = model.predict(test_features_rougher)\n",
    "model.fit(train_features_final, train_target_final)\n",
    "final_recovery_predicted = model.predict(test_features_final)\n",
    "print('sMAPE для регресии Ridge',sMAPE_score(rougher_recovery_real, rougher_recovery_predicted, final_recovery_real, final_recovery_predicted))\n",
    "\n",
    "model = DecisionTreeRegressor(criterion='mae', max_depth=2, random_state=15062020)\n",
    "model.fit(train_features_rougher, train_target_rougher)\n",
    "rougher_recovery_predicted = model.predict(test_features_rougher)\n",
    "model.fit(train_features_final, train_target_final)\n",
    "final_recovery_predicted = model.predict(test_features_final)\n",
    "print('sMAPE для DecisionTreeRegressor',sMAPE_score(rougher_recovery_real, rougher_recovery_predicted, final_recovery_real, final_recovery_predicted)) \n",
    "\n",
    "n = rougher_recovery_real.shape[0]\n",
    "rougher_sMAPE = ((2*abs(rougher_recovery_real - median_rougher_recovery)/\n",
    "                     (abs(rougher_recovery_real) + abs(median_rougher_recovery))).sum() * 100 / n)\n",
    "final_sMAPE = ((2*abs(final_recovery_real - median_final_recovery)/\n",
    "                     (abs(final_recovery_real) + abs(median_final_recovery))).sum() * 100 / n)\n",
    "print('sMAPE для медианной константной модели', rougher_sMAPE * 0.25 + final_sMAPE * 0.75)"
   ]
  },
  {
   "cell_type": "markdown",
   "metadata": {},
   "source": [
    "Сравним модель Ridge c медианной константной по метрикам R2 и MAE. проверим показания на final_recovery_real."
   ]
  },
  {
   "cell_type": "code",
   "execution_count": 50,
   "metadata": {},
   "outputs": [
    {
     "name": "stdout",
     "output_type": "stream",
     "text": [
      "R2 Ridge model = -0.3635651427387332\n",
      "MAE Ridge model = 7.7851315088551525\n",
      "\n",
      "R2 constant model = -0.16953176961687788\n",
      "MAE constant model = 6.986583173406042\n"
     ]
    }
   ],
   "source": [
    "model = Ridge(alpha=100, solver='sparse_cg')\n",
    "model.fit(train_features_final, train_target_final)\n",
    "final_recovery_predicted = model.predict(test_features_final)\n",
    "print('R2 Ridge model =', r2_score(final_recovery_real, final_recovery_predicted))\n",
    "print('MAE Ridge model =', mean_absolute_error(final_recovery_real, final_recovery_predicted))\n",
    "print()\n",
    "\n",
    "final_median_predict = pd.Series(median_final_recovery, index=not_nan_index)\n",
    "print('R2 constant model =', r2_score(final_recovery_real, final_median_predict))\n",
    "print('MAE constant model =', mean_absolute_error(final_recovery_real, final_median_predict))"
   ]
  },
  {
   "cell_type": "markdown",
   "metadata": {},
   "source": [
    "**Вывод** \n",
    "\n",
    "Была написана функция для вычисления sMAPE. Каждая модель была изучена на качество с помощью методов кросс-валидации и поиска гипер параметром GridSearchCV.\n",
    "\n",
    "Была отобрана лучшая модель - Ridge. Ее значение sMAPE самое низкое.\n",
    "\n",
    "После удаления значений NaN модель изменила свои значения. В полных данных отсутвует 14% и 10% данных по предсказаниям, возможно это повлияло на качество модели."
   ]
  },
  {
   "cell_type": "markdown",
   "metadata": {},
   "source": [
    "**Итоговый вывод**\n",
    "\n",
    "В ходе работы было выполнено:\n",
    "\n",
    "Подготовлены данные.\n",
    "Проведен исследовательский анализ данных.\n",
    "Построена и обучена модель.\n",
    "Работа над проектом велась в течении нескольких дней. Основная сложность - скорость прохождения кросс-валидации с поиском лучших гиперпараметров.\n",
    "\n",
    "Регрессор Ridge показал себя лучше обычной линейной регресии. sMAPE показал 12.27 до того как убрать пропущенные значения, и 13.19 после. Если сравнивать с константной моделью, значение проигрывает на 0.8 и 0.95 соответсвенно. Другие метрики тоже говорят о том, что константная модель адекватнее выбранной"
   ]
  }
 ],
 "metadata": {
  "ExecuteTimeLog": [
   {
    "duration": 1144,
    "start_time": "2022-01-24T19:28:13.391Z"
   },
   {
    "duration": 5875,
    "start_time": "2022-01-24T19:28:14.537Z"
   },
   {
    "duration": 31,
    "start_time": "2022-01-24T19:31:42.541Z"
   },
   {
    "duration": 230,
    "start_time": "2022-01-24T19:33:17.561Z"
   },
   {
    "duration": 3,
    "start_time": "2022-01-24T19:33:20.329Z"
   },
   {
    "duration": 329,
    "start_time": "2022-01-24T19:33:20.725Z"
   },
   {
    "duration": 143,
    "start_time": "2022-01-24T19:46:33.696Z"
   },
   {
    "duration": 136,
    "start_time": "2022-01-24T19:46:58.486Z"
   },
   {
    "duration": 757,
    "start_time": "2022-01-24T19:46:59.133Z"
   },
   {
    "duration": 46,
    "start_time": "2022-01-24T19:46:59.891Z"
   },
   {
    "duration": 191,
    "start_time": "2022-01-24T19:47:00.358Z"
   },
   {
    "duration": 136,
    "start_time": "2022-01-24T19:47:09.009Z"
   },
   {
    "duration": 131,
    "start_time": "2022-01-24T19:48:21.868Z"
   },
   {
    "duration": 511,
    "start_time": "2022-01-24T19:48:26.626Z"
   },
   {
    "duration": 5,
    "start_time": "2022-01-24T19:49:00.897Z"
   },
   {
    "duration": 779,
    "start_time": "2022-01-24T19:49:01.698Z"
   },
   {
    "duration": 839,
    "start_time": "2022-01-24T19:50:56.409Z"
   },
   {
    "duration": 688,
    "start_time": "2022-01-24T19:51:04.791Z"
   },
   {
    "duration": 5,
    "start_time": "2022-01-24T19:52:22.716Z"
   },
   {
    "duration": 4,
    "start_time": "2022-01-24T20:02:05.140Z"
   },
   {
    "duration": 5,
    "start_time": "2022-01-24T20:02:49.143Z"
   },
   {
    "duration": 5,
    "start_time": "2022-01-24T20:03:02.268Z"
   },
   {
    "duration": 6,
    "start_time": "2022-01-24T20:03:35.692Z"
   },
   {
    "duration": 130,
    "start_time": "2022-01-24T20:32:17.790Z"
   },
   {
    "duration": 3,
    "start_time": "2022-01-24T20:32:20.527Z"
   },
   {
    "duration": 40,
    "start_time": "2022-01-24T20:32:21.268Z"
   },
   {
    "duration": 3,
    "start_time": "2022-01-24T20:32:26.523Z"
   },
   {
    "duration": 140,
    "start_time": "2022-01-24T20:32:29.204Z"
   },
   {
    "duration": 3,
    "start_time": "2022-01-24T20:32:44.707Z"
   },
   {
    "duration": 275,
    "start_time": "2022-01-24T20:32:45.562Z"
   },
   {
    "duration": 4,
    "start_time": "2022-01-24T20:33:01.907Z"
   },
   {
    "duration": 3,
    "start_time": "2022-01-24T20:33:02.585Z"
   },
   {
    "duration": 7,
    "start_time": "2022-01-24T20:33:02.959Z"
   },
   {
    "duration": 6,
    "start_time": "2022-01-24T20:44:10.735Z"
   },
   {
    "duration": 143,
    "start_time": "2022-01-24T20:44:10.983Z"
   },
   {
    "duration": 137,
    "start_time": "2022-01-24T20:44:11.396Z"
   },
   {
    "duration": 3,
    "start_time": "2022-01-24T20:44:43.595Z"
   },
   {
    "duration": 3,
    "start_time": "2022-01-24T20:44:44.233Z"
   },
   {
    "duration": 4,
    "start_time": "2022-01-24T20:44:44.584Z"
   },
   {
    "duration": 140,
    "start_time": "2022-01-24T20:44:45.180Z"
   },
   {
    "duration": 4,
    "start_time": "2022-01-24T20:44:53.481Z"
   },
   {
    "duration": 9,
    "start_time": "2022-01-24T20:44:54.394Z"
   },
   {
    "duration": 6,
    "start_time": "2022-01-24T20:45:48.629Z"
   },
   {
    "duration": 137,
    "start_time": "2022-01-24T20:46:15.266Z"
   },
   {
    "duration": 127,
    "start_time": "2022-01-24T20:46:22.578Z"
   },
   {
    "duration": 14,
    "start_time": "2022-01-24T20:46:44.212Z"
   },
   {
    "duration": 9,
    "start_time": "2022-01-24T20:46:45.267Z"
   },
   {
    "duration": 290,
    "start_time": "2022-01-25T19:49:09.269Z"
   },
   {
    "duration": 2319,
    "start_time": "2022-01-25T19:58:12.044Z"
   },
   {
    "duration": 6091,
    "start_time": "2022-01-25T19:58:14.365Z"
   },
   {
    "duration": 4,
    "start_time": "2022-01-25T19:58:20.458Z"
   },
   {
    "duration": 2974,
    "start_time": "2022-01-25T19:58:20.463Z"
   },
   {
    "duration": 2900,
    "start_time": "2022-01-25T19:58:23.438Z"
   },
   {
    "duration": 3058,
    "start_time": "2022-01-25T19:58:26.340Z"
   },
   {
    "duration": 2962,
    "start_time": "2022-01-25T19:58:29.400Z"
   },
   {
    "duration": 1556,
    "start_time": "2022-01-25T19:58:32.364Z"
   },
   {
    "duration": 393,
    "start_time": "2022-01-25T19:58:33.921Z"
   },
   {
    "duration": 1826,
    "start_time": "2022-01-25T20:00:20.830Z"
   },
   {
    "duration": 8846,
    "start_time": "2022-01-25T20:00:22.657Z"
   },
   {
    "duration": 2526,
    "start_time": "2022-01-25T20:00:31.504Z"
   },
   {
    "duration": 2292,
    "start_time": "2022-01-25T20:00:34.032Z"
   },
   {
    "duration": -1547,
    "start_time": "2022-01-25T20:00:37.872Z"
   },
   {
    "duration": -1547,
    "start_time": "2022-01-25T20:00:37.873Z"
   },
   {
    "duration": -1548,
    "start_time": "2022-01-25T20:00:37.875Z"
   },
   {
    "duration": -1548,
    "start_time": "2022-01-25T20:00:37.876Z"
   },
   {
    "duration": -1548,
    "start_time": "2022-01-25T20:00:37.877Z"
   },
   {
    "duration": -1548,
    "start_time": "2022-01-25T20:00:37.878Z"
   },
   {
    "duration": 1028,
    "start_time": "2022-01-25T20:00:58.504Z"
   },
   {
    "duration": 3013,
    "start_time": "2022-01-25T20:01:00.970Z"
   },
   {
    "duration": 408,
    "start_time": "2022-01-25T20:01:06.693Z"
   },
   {
    "duration": 3662,
    "start_time": "2022-01-25T20:01:07.573Z"
   },
   {
    "duration": 4125,
    "start_time": "2022-01-25T20:01:11.237Z"
   },
   {
    "duration": 3962,
    "start_time": "2022-01-25T20:01:15.365Z"
   },
   {
    "duration": 3229,
    "start_time": "2022-01-25T20:01:19.328Z"
   },
   {
    "duration": 4062,
    "start_time": "2022-01-25T20:01:22.559Z"
   },
   {
    "duration": 4913,
    "start_time": "2022-01-25T20:01:26.623Z"
   },
   {
    "duration": 3315,
    "start_time": "2022-01-25T20:01:31.537Z"
   },
   {
    "duration": 4,
    "start_time": "2022-01-25T20:01:43.920Z"
   },
   {
    "duration": 5,
    "start_time": "2022-01-25T20:02:10.937Z"
   },
   {
    "duration": 444,
    "start_time": "2022-01-25T20:05:46.308Z"
   },
   {
    "duration": 7,
    "start_time": "2022-01-25T20:06:16.903Z"
   },
   {
    "duration": 15,
    "start_time": "2022-01-25T20:10:56.457Z"
   },
   {
    "duration": 265,
    "start_time": "2022-01-25T20:11:24.971Z"
   },
   {
    "duration": 256,
    "start_time": "2022-01-25T20:11:33.876Z"
   },
   {
    "duration": 9,
    "start_time": "2022-01-25T20:11:38.917Z"
   },
   {
    "duration": 6,
    "start_time": "2022-01-25T20:11:46.658Z"
   },
   {
    "duration": 32,
    "start_time": "2022-01-25T20:13:24.015Z"
   },
   {
    "duration": 1137,
    "start_time": "2022-01-25T20:14:19.859Z"
   },
   {
    "duration": 659,
    "start_time": "2022-01-25T20:14:20.998Z"
   },
   {
    "duration": 1380,
    "start_time": "2022-01-25T20:14:21.659Z"
   },
   {
    "duration": 1220,
    "start_time": "2022-01-25T20:14:23.041Z"
   },
   {
    "duration": 1493,
    "start_time": "2022-01-25T20:14:24.263Z"
   },
   {
    "duration": 1257,
    "start_time": "2022-01-25T20:14:25.757Z"
   },
   {
    "duration": 583,
    "start_time": "2022-01-25T20:14:27.016Z"
   },
   {
    "duration": 868,
    "start_time": "2022-01-25T20:14:27.601Z"
   },
   {
    "duration": 2000,
    "start_time": "2022-01-25T20:14:28.472Z"
   },
   {
    "duration": 948,
    "start_time": "2022-01-25T20:14:30.474Z"
   },
   {
    "duration": 1707,
    "start_time": "2022-01-25T20:14:31.423Z"
   },
   {
    "duration": 2416,
    "start_time": "2022-01-25T20:14:33.131Z"
   },
   {
    "duration": 5,
    "start_time": "2022-01-25T20:14:56.221Z"
   },
   {
    "duration": 1163,
    "start_time": "2022-01-25T20:35:18.635Z"
   },
   {
    "duration": 3611,
    "start_time": "2022-01-25T20:35:19.800Z"
   },
   {
    "duration": 1746,
    "start_time": "2022-01-25T20:35:23.414Z"
   },
   {
    "duration": 3736,
    "start_time": "2022-01-25T20:35:25.162Z"
   },
   {
    "duration": 1770,
    "start_time": "2022-01-25T20:35:28.900Z"
   },
   {
    "duration": 539,
    "start_time": "2022-01-25T20:35:30.672Z"
   },
   {
    "duration": 1504,
    "start_time": "2022-01-25T20:35:31.212Z"
   },
   {
    "duration": 760,
    "start_time": "2022-01-25T20:35:32.717Z"
   },
   {
    "duration": 748,
    "start_time": "2022-01-25T20:35:33.479Z"
   },
   {
    "duration": 552,
    "start_time": "2022-01-25T20:35:34.229Z"
   },
   {
    "duration": 79,
    "start_time": "2022-01-25T20:40:10.355Z"
   },
   {
    "duration": 4,
    "start_time": "2022-01-25T20:40:10.742Z"
   },
   {
    "duration": 370,
    "start_time": "2022-01-25T20:48:02.907Z"
   },
   {
    "duration": 290,
    "start_time": "2022-01-25T20:48:26.901Z"
   },
   {
    "duration": 9,
    "start_time": "2022-01-25T20:49:11.127Z"
   },
   {
    "duration": 11,
    "start_time": "2022-01-25T20:49:21.956Z"
   },
   {
    "duration": 11,
    "start_time": "2022-01-25T20:49:31.511Z"
   },
   {
    "duration": 256,
    "start_time": "2022-01-25T20:49:41.843Z"
   },
   {
    "duration": 3,
    "start_time": "2022-01-25T20:49:48.294Z"
   },
   {
    "duration": 5,
    "start_time": "2022-01-25T20:49:58.968Z"
   },
   {
    "duration": 284,
    "start_time": "2022-01-25T20:50:06.311Z"
   },
   {
    "duration": 263,
    "start_time": "2022-01-25T20:50:44.349Z"
   },
   {
    "duration": 256,
    "start_time": "2022-01-25T20:50:50.771Z"
   },
   {
    "duration": 1121,
    "start_time": "2022-01-26T19:03:25.594Z"
   },
   {
    "duration": 4589,
    "start_time": "2022-01-26T19:03:26.717Z"
   },
   {
    "duration": 5,
    "start_time": "2022-01-26T19:03:31.309Z"
   },
   {
    "duration": 35,
    "start_time": "2022-01-26T19:03:31.315Z"
   },
   {
    "duration": 2,
    "start_time": "2022-01-26T19:03:31.352Z"
   },
   {
    "duration": 18,
    "start_time": "2022-01-26T19:03:31.355Z"
   },
   {
    "duration": 12,
    "start_time": "2022-01-26T19:03:31.375Z"
   },
   {
    "duration": 7,
    "start_time": "2022-01-26T19:03:31.389Z"
   },
   {
    "duration": 5,
    "start_time": "2022-01-26T19:03:31.397Z"
   },
   {
    "duration": 4,
    "start_time": "2022-01-26T19:03:31.403Z"
   },
   {
    "duration": 359,
    "start_time": "2022-01-26T19:03:31.409Z"
   },
   {
    "duration": 1418,
    "start_time": "2022-01-26T19:10:05.473Z"
   },
   {
    "duration": 16,
    "start_time": "2022-01-26T19:10:15.164Z"
   },
   {
    "duration": 20,
    "start_time": "2022-01-26T19:10:47.276Z"
   },
   {
    "duration": 1413,
    "start_time": "2022-01-26T19:12:13.929Z"
   },
   {
    "duration": 1378,
    "start_time": "2022-01-26T19:12:48.899Z"
   },
   {
    "duration": 1137,
    "start_time": "2022-01-26T19:13:17.544Z"
   },
   {
    "duration": 624,
    "start_time": "2022-01-26T19:13:18.683Z"
   },
   {
    "duration": 5,
    "start_time": "2022-01-26T19:13:19.309Z"
   },
   {
    "duration": 33,
    "start_time": "2022-01-26T19:13:19.316Z"
   },
   {
    "duration": 2,
    "start_time": "2022-01-26T19:13:19.351Z"
   },
   {
    "duration": 3,
    "start_time": "2022-01-26T19:13:19.371Z"
   },
   {
    "duration": 7,
    "start_time": "2022-01-26T19:13:19.375Z"
   },
   {
    "duration": 6,
    "start_time": "2022-01-26T19:13:19.384Z"
   },
   {
    "duration": 3,
    "start_time": "2022-01-26T19:13:19.392Z"
   },
   {
    "duration": 5,
    "start_time": "2022-01-26T19:13:19.396Z"
   },
   {
    "duration": 15,
    "start_time": "2022-01-26T19:13:19.403Z"
   },
   {
    "duration": 6426,
    "start_time": "2022-01-26T19:13:19.419Z"
   },
   {
    "duration": 2252,
    "start_time": "2022-01-26T19:49:07.857Z"
   },
   {
    "duration": 4,
    "start_time": "2022-01-26T19:49:13.458Z"
   },
   {
    "duration": 2112,
    "start_time": "2022-01-26T19:49:13.680Z"
   },
   {
    "duration": 307,
    "start_time": "2022-01-26T19:50:30.696Z"
   },
   {
    "duration": 755,
    "start_time": "2022-01-26T19:50:57.744Z"
   },
   {
    "duration": 15,
    "start_time": "2022-01-26T19:51:23.279Z"
   },
   {
    "duration": 15,
    "start_time": "2022-01-26T19:51:48.157Z"
   },
   {
    "duration": 12,
    "start_time": "2022-01-26T19:51:50.397Z"
   },
   {
    "duration": 4,
    "start_time": "2022-01-26T19:53:00.105Z"
   },
   {
    "duration": 281,
    "start_time": "2022-01-26T19:53:09.065Z"
   },
   {
    "duration": 14,
    "start_time": "2022-01-26T19:53:29.533Z"
   },
   {
    "duration": 3,
    "start_time": "2022-01-26T19:53:31.205Z"
   },
   {
    "duration": 264,
    "start_time": "2022-01-26T19:53:31.704Z"
   },
   {
    "duration": 3,
    "start_time": "2022-01-26T19:54:26.611Z"
   },
   {
    "duration": 278,
    "start_time": "2022-01-26T19:55:41.007Z"
   },
   {
    "duration": 285,
    "start_time": "2022-01-26T19:55:49.331Z"
   },
   {
    "duration": 7,
    "start_time": "2022-01-26T19:55:57.729Z"
   },
   {
    "duration": 287,
    "start_time": "2022-01-26T19:56:24.254Z"
   },
   {
    "duration": 6,
    "start_time": "2022-01-26T19:56:32.217Z"
   },
   {
    "duration": 5,
    "start_time": "2022-01-26T19:56:58.516Z"
   },
   {
    "duration": 5,
    "start_time": "2022-01-26T20:02:39.317Z"
   },
   {
    "duration": 317,
    "start_time": "2022-01-26T20:04:50.752Z"
   },
   {
    "duration": 23,
    "start_time": "2022-01-26T20:13:17.316Z"
   },
   {
    "duration": 11,
    "start_time": "2022-01-26T20:13:23.777Z"
   },
   {
    "duration": 260,
    "start_time": "2022-01-26T20:14:17.547Z"
   },
   {
    "duration": 6903,
    "start_time": "2022-01-26T20:14:48.467Z"
   },
   {
    "duration": 8496,
    "start_time": "2022-01-26T20:15:27.098Z"
   },
   {
    "duration": 8,
    "start_time": "2022-01-26T20:15:51.446Z"
   },
   {
    "duration": 8,
    "start_time": "2022-01-26T20:16:01.529Z"
   },
   {
    "duration": 8,
    "start_time": "2022-01-26T20:16:10.024Z"
   },
   {
    "duration": 15,
    "start_time": "2022-01-26T20:16:26.189Z"
   },
   {
    "duration": 14,
    "start_time": "2022-01-26T20:16:36.493Z"
   },
   {
    "duration": 4,
    "start_time": "2022-01-26T20:17:37.112Z"
   },
   {
    "duration": 9,
    "start_time": "2022-01-26T20:19:12.481Z"
   },
   {
    "duration": 1306,
    "start_time": "2022-01-26T20:20:08.631Z"
   },
   {
    "duration": 1068,
    "start_time": "2022-01-26T20:20:14.370Z"
   },
   {
    "duration": 9,
    "start_time": "2022-01-26T20:20:22.314Z"
   },
   {
    "duration": 297,
    "start_time": "2022-01-26T20:23:06.684Z"
   },
   {
    "duration": 322,
    "start_time": "2022-01-26T20:23:16.846Z"
   },
   {
    "duration": 290,
    "start_time": "2022-01-26T20:23:20.416Z"
   },
   {
    "duration": 262,
    "start_time": "2022-01-26T20:25:55.857Z"
   },
   {
    "duration": 13,
    "start_time": "2022-01-26T20:26:01.550Z"
   },
   {
    "duration": 5,
    "start_time": "2022-01-26T20:26:25.907Z"
   },
   {
    "duration": 13,
    "start_time": "2022-01-26T20:27:10.962Z"
   },
   {
    "duration": 3,
    "start_time": "2022-01-26T20:28:34.837Z"
   },
   {
    "duration": 6,
    "start_time": "2022-01-26T20:29:51.747Z"
   },
   {
    "duration": 5,
    "start_time": "2022-01-26T20:30:11.246Z"
   },
   {
    "duration": 25,
    "start_time": "2022-01-26T20:37:34.881Z"
   },
   {
    "duration": 266,
    "start_time": "2022-01-26T20:38:01.853Z"
   },
   {
    "duration": 9,
    "start_time": "2022-01-26T20:40:42.042Z"
   },
   {
    "duration": 263,
    "start_time": "2022-01-26T20:40:55.975Z"
   },
   {
    "duration": 9,
    "start_time": "2022-01-26T20:40:58.348Z"
   },
   {
    "duration": 262,
    "start_time": "2022-01-26T20:41:37.466Z"
   },
   {
    "duration": 254,
    "start_time": "2022-01-26T20:41:49.951Z"
   },
   {
    "duration": 367,
    "start_time": "2022-01-26T20:41:57.988Z"
   },
   {
    "duration": 5,
    "start_time": "2022-01-26T20:42:12.121Z"
   },
   {
    "duration": 5,
    "start_time": "2022-01-26T20:42:17.588Z"
   },
   {
    "duration": 7,
    "start_time": "2022-01-26T20:42:20.142Z"
   },
   {
    "duration": 1142,
    "start_time": "2022-01-26T20:42:35.397Z"
   },
   {
    "duration": 4146,
    "start_time": "2022-01-26T20:42:36.540Z"
   },
   {
    "duration": 15,
    "start_time": "2022-01-26T20:42:40.687Z"
   },
   {
    "duration": 2,
    "start_time": "2022-01-26T20:42:40.704Z"
   },
   {
    "duration": 11,
    "start_time": "2022-01-26T20:42:40.708Z"
   },
   {
    "duration": 4,
    "start_time": "2022-01-26T20:42:40.721Z"
   },
   {
    "duration": 8,
    "start_time": "2022-01-26T20:42:40.726Z"
   },
   {
    "duration": 3,
    "start_time": "2022-01-26T20:42:40.736Z"
   },
   {
    "duration": 42,
    "start_time": "2022-01-26T20:42:40.741Z"
   },
   {
    "duration": 8,
    "start_time": "2022-01-26T20:42:40.785Z"
   },
   {
    "duration": 3,
    "start_time": "2022-01-26T20:42:40.795Z"
   },
   {
    "duration": 8635,
    "start_time": "2022-01-26T20:42:40.800Z"
   },
   {
    "duration": 23,
    "start_time": "2022-01-26T20:44:35.506Z"
   },
   {
    "duration": 219,
    "start_time": "2022-01-26T20:46:38.228Z"
   },
   {
    "duration": 334,
    "start_time": "2022-01-26T20:47:26.959Z"
   },
   {
    "duration": 1313,
    "start_time": "2022-01-26T20:47:55.909Z"
   },
   {
    "duration": 661,
    "start_time": "2022-01-26T20:47:57.224Z"
   },
   {
    "duration": 14,
    "start_time": "2022-01-26T20:47:57.887Z"
   },
   {
    "duration": 3,
    "start_time": "2022-01-26T20:47:57.903Z"
   },
   {
    "duration": 9,
    "start_time": "2022-01-26T20:47:57.907Z"
   },
   {
    "duration": 4,
    "start_time": "2022-01-26T20:47:57.917Z"
   },
   {
    "duration": 8,
    "start_time": "2022-01-26T20:47:57.922Z"
   },
   {
    "duration": 4,
    "start_time": "2022-01-26T20:47:57.932Z"
   },
   {
    "duration": 257,
    "start_time": "2022-01-26T20:47:57.938Z"
   },
   {
    "duration": 592,
    "start_time": "2022-01-26T20:47:58.197Z"
   },
   {
    "duration": 1555,
    "start_time": "2022-01-26T20:48:24.747Z"
   },
   {
    "duration": 719,
    "start_time": "2022-01-26T20:48:26.304Z"
   },
   {
    "duration": 15,
    "start_time": "2022-01-26T20:48:27.025Z"
   },
   {
    "duration": 3,
    "start_time": "2022-01-26T20:48:27.041Z"
   },
   {
    "duration": 26,
    "start_time": "2022-01-26T20:48:27.046Z"
   },
   {
    "duration": 4,
    "start_time": "2022-01-26T20:48:27.073Z"
   },
   {
    "duration": 9,
    "start_time": "2022-01-26T20:48:27.079Z"
   },
   {
    "duration": 3,
    "start_time": "2022-01-26T20:48:27.090Z"
   },
   {
    "duration": 236,
    "start_time": "2022-01-26T20:48:27.095Z"
   },
   {
    "duration": 1807,
    "start_time": "2022-01-26T20:48:27.333Z"
   },
   {
    "duration": 173,
    "start_time": "2022-01-27T18:50:32.090Z"
   },
   {
    "duration": 1392,
    "start_time": "2022-01-27T18:50:38.331Z"
   },
   {
    "duration": 691,
    "start_time": "2022-01-27T18:50:39.725Z"
   },
   {
    "duration": 16,
    "start_time": "2022-01-27T18:50:40.418Z"
   },
   {
    "duration": 3,
    "start_time": "2022-01-27T18:50:40.436Z"
   },
   {
    "duration": 17,
    "start_time": "2022-01-27T18:50:40.440Z"
   },
   {
    "duration": 5,
    "start_time": "2022-01-27T18:50:40.458Z"
   },
   {
    "duration": 33,
    "start_time": "2022-01-27T18:50:40.465Z"
   },
   {
    "duration": 5,
    "start_time": "2022-01-27T18:50:40.501Z"
   },
   {
    "duration": 253,
    "start_time": "2022-01-27T18:50:40.507Z"
   },
   {
    "duration": 45,
    "start_time": "2022-01-27T18:50:40.762Z"
   },
   {
    "duration": 242,
    "start_time": "2022-01-27T18:50:40.808Z"
   },
   {
    "duration": 1984,
    "start_time": "2022-01-27T18:50:41.052Z"
   },
   {
    "duration": 10,
    "start_time": "2022-01-27T18:51:47.742Z"
   },
   {
    "duration": 173,
    "start_time": "2022-01-27T18:51:49.447Z"
   },
   {
    "duration": 9,
    "start_time": "2022-01-27T18:57:29.698Z"
   },
   {
    "duration": 13,
    "start_time": "2022-01-27T18:58:22.780Z"
   },
   {
    "duration": 1075,
    "start_time": "2022-01-27T18:58:40.240Z"
   },
   {
    "duration": 10,
    "start_time": "2022-01-27T19:00:36.651Z"
   },
   {
    "duration": 300,
    "start_time": "2022-01-27T19:16:06.793Z"
   },
   {
    "duration": 27,
    "start_time": "2022-01-27T19:16:17.539Z"
   },
   {
    "duration": 39,
    "start_time": "2022-01-27T19:19:26.313Z"
   },
   {
    "duration": 135,
    "start_time": "2022-01-27T19:26:22.935Z"
   },
   {
    "duration": 364,
    "start_time": "2022-01-27T19:27:23.056Z"
   },
   {
    "duration": 45,
    "start_time": "2022-01-27T19:30:34.575Z"
   },
   {
    "duration": 156,
    "start_time": "2022-01-27T19:31:28.931Z"
   },
   {
    "duration": 5,
    "start_time": "2022-01-27T19:31:30.405Z"
   },
   {
    "duration": 3388,
    "start_time": "2022-01-27T19:31:30.855Z"
   },
   {
    "duration": 10,
    "start_time": "2022-01-27T19:31:34.245Z"
   },
   {
    "duration": 1463,
    "start_time": "2022-01-27T19:52:26.434Z"
   },
   {
    "duration": 1712,
    "start_time": "2022-01-29T14:35:57.035Z"
   },
   {
    "duration": 753,
    "start_time": "2022-01-29T14:35:58.750Z"
   },
   {
    "duration": 18,
    "start_time": "2022-01-29T14:35:59.508Z"
   },
   {
    "duration": 33,
    "start_time": "2022-01-29T14:35:59.528Z"
   },
   {
    "duration": 4,
    "start_time": "2022-01-29T14:35:59.563Z"
   },
   {
    "duration": 10,
    "start_time": "2022-01-29T14:35:59.598Z"
   },
   {
    "duration": 6,
    "start_time": "2022-01-29T14:35:59.610Z"
   },
   {
    "duration": 10,
    "start_time": "2022-01-29T14:35:59.619Z"
   },
   {
    "duration": 5,
    "start_time": "2022-01-29T14:35:59.631Z"
   },
   {
    "duration": 312,
    "start_time": "2022-01-29T14:35:59.638Z"
   },
   {
    "duration": 13,
    "start_time": "2022-01-29T14:35:59.953Z"
   },
   {
    "duration": 31,
    "start_time": "2022-01-29T14:35:59.968Z"
   },
   {
    "duration": 23,
    "start_time": "2022-01-29T14:36:00.001Z"
   },
   {
    "duration": 237,
    "start_time": "2022-01-29T14:36:00.025Z"
   },
   {
    "duration": 6,
    "start_time": "2022-01-29T14:36:00.265Z"
   },
   {
    "duration": 3929,
    "start_time": "2022-01-29T14:36:00.273Z"
   },
   {
    "duration": 13,
    "start_time": "2022-01-29T14:36:04.204Z"
   },
   {
    "duration": 1689,
    "start_time": "2022-01-29T14:36:04.219Z"
   },
   {
    "duration": 551,
    "start_time": "2022-01-29T14:36:05.910Z"
   },
   {
    "duration": 238,
    "start_time": "2022-01-29T14:47:36.419Z"
   },
   {
    "duration": 275,
    "start_time": "2022-01-29T14:47:59.905Z"
   },
   {
    "duration": 65,
    "start_time": "2022-01-29T14:48:05.118Z"
   },
   {
    "duration": 1807,
    "start_time": "2022-01-29T14:48:19.499Z"
   },
   {
    "duration": 6782,
    "start_time": "2022-01-29T14:48:55.380Z"
   },
   {
    "duration": 3675,
    "start_time": "2022-01-29T14:49:56.657Z"
   },
   {
    "duration": 1591,
    "start_time": "2022-01-29T14:50:00.334Z"
   },
   {
    "duration": 3,
    "start_time": "2022-01-29T14:51:59.292Z"
   },
   {
    "duration": 4,
    "start_time": "2022-01-29T14:51:59.488Z"
   },
   {
    "duration": 3,
    "start_time": "2022-01-29T14:51:59.731Z"
   },
   {
    "duration": 5,
    "start_time": "2022-01-29T14:52:11.767Z"
   },
   {
    "duration": 230,
    "start_time": "2022-01-29T14:52:48.286Z"
   },
   {
    "duration": 1534,
    "start_time": "2022-01-29T14:53:26.722Z"
   },
   {
    "duration": 777,
    "start_time": "2022-01-29T14:53:28.258Z"
   },
   {
    "duration": 17,
    "start_time": "2022-01-29T14:53:29.038Z"
   },
   {
    "duration": 52,
    "start_time": "2022-01-29T14:53:29.058Z"
   },
   {
    "duration": 3,
    "start_time": "2022-01-29T14:53:29.111Z"
   },
   {
    "duration": 15,
    "start_time": "2022-01-29T14:53:29.116Z"
   },
   {
    "duration": 7,
    "start_time": "2022-01-29T14:53:29.133Z"
   },
   {
    "duration": 16,
    "start_time": "2022-01-29T14:53:29.143Z"
   },
   {
    "duration": 14,
    "start_time": "2022-01-29T14:53:29.161Z"
   },
   {
    "duration": 267,
    "start_time": "2022-01-29T14:53:29.177Z"
   },
   {
    "duration": 12,
    "start_time": "2022-01-29T14:53:29.445Z"
   },
   {
    "duration": 25,
    "start_time": "2022-01-29T14:53:29.459Z"
   },
   {
    "duration": 19,
    "start_time": "2022-01-29T14:53:29.486Z"
   },
   {
    "duration": 239,
    "start_time": "2022-01-29T14:53:29.507Z"
   },
   {
    "duration": 5,
    "start_time": "2022-01-29T14:53:29.748Z"
   },
   {
    "duration": 3926,
    "start_time": "2022-01-29T14:53:29.755Z"
   },
   {
    "duration": 11,
    "start_time": "2022-01-29T14:53:33.683Z"
   },
   {
    "duration": 1629,
    "start_time": "2022-01-29T14:53:33.698Z"
   },
   {
    "duration": 74,
    "start_time": "2022-01-29T14:53:35.329Z"
   },
   {
    "duration": 3699,
    "start_time": "2022-01-29T14:53:35.405Z"
   },
   {
    "duration": 1596,
    "start_time": "2022-01-29T14:53:39.105Z"
   },
   {
    "duration": 3,
    "start_time": "2022-01-29T14:53:40.703Z"
   },
   {
    "duration": 4,
    "start_time": "2022-01-29T14:53:40.709Z"
   },
   {
    "duration": 5,
    "start_time": "2022-01-29T14:53:40.715Z"
   },
   {
    "duration": 363,
    "start_time": "2022-01-29T14:53:40.722Z"
   },
   {
    "duration": 1645,
    "start_time": "2022-01-29T14:58:45.964Z"
   },
   {
    "duration": 828,
    "start_time": "2022-01-29T14:58:47.611Z"
   },
   {
    "duration": 18,
    "start_time": "2022-01-29T14:58:48.441Z"
   },
   {
    "duration": 54,
    "start_time": "2022-01-29T14:58:48.461Z"
   },
   {
    "duration": 5,
    "start_time": "2022-01-29T14:58:48.517Z"
   },
   {
    "duration": 12,
    "start_time": "2022-01-29T14:58:48.524Z"
   },
   {
    "duration": 11,
    "start_time": "2022-01-29T14:58:48.539Z"
   },
   {
    "duration": 17,
    "start_time": "2022-01-29T14:58:48.553Z"
   },
   {
    "duration": 8,
    "start_time": "2022-01-29T14:58:48.602Z"
   },
   {
    "duration": 417,
    "start_time": "2022-01-29T14:58:48.613Z"
   },
   {
    "duration": 13,
    "start_time": "2022-01-29T14:58:49.032Z"
   },
   {
    "duration": 15,
    "start_time": "2022-01-29T14:58:49.047Z"
   },
   {
    "duration": 41,
    "start_time": "2022-01-29T14:58:49.065Z"
   },
   {
    "duration": 311,
    "start_time": "2022-01-29T14:58:49.109Z"
   },
   {
    "duration": 6,
    "start_time": "2022-01-29T14:58:49.422Z"
   },
   {
    "duration": 4298,
    "start_time": "2022-01-29T14:58:49.430Z"
   },
   {
    "duration": 15,
    "start_time": "2022-01-29T14:58:53.730Z"
   },
   {
    "duration": 1964,
    "start_time": "2022-01-29T14:58:53.748Z"
   },
   {
    "duration": 130,
    "start_time": "2022-01-29T14:58:55.716Z"
   },
   {
    "duration": 4459,
    "start_time": "2022-01-29T14:58:55.849Z"
   },
   {
    "duration": 2084,
    "start_time": "2022-01-29T14:59:00.311Z"
   },
   {
    "duration": 5,
    "start_time": "2022-01-29T14:59:02.399Z"
   },
   {
    "duration": 8,
    "start_time": "2022-01-29T14:59:02.406Z"
   },
   {
    "duration": 26,
    "start_time": "2022-01-29T14:59:02.417Z"
   },
   {
    "duration": 14,
    "start_time": "2022-01-29T14:59:02.446Z"
   },
   {
    "duration": 3,
    "start_time": "2022-01-29T15:00:12.230Z"
   },
   {
    "duration": 4,
    "start_time": "2022-01-29T15:00:18.831Z"
   },
   {
    "duration": 356,
    "start_time": "2022-01-29T15:00:38.453Z"
   },
   {
    "duration": 237,
    "start_time": "2022-01-29T15:02:41.220Z"
   },
   {
    "duration": 229,
    "start_time": "2022-01-29T15:02:48.509Z"
   },
   {
    "duration": 6,
    "start_time": "2022-01-29T15:02:53.201Z"
   },
   {
    "duration": 3,
    "start_time": "2022-01-29T15:02:55.271Z"
   },
   {
    "duration": 3,
    "start_time": "2022-01-29T15:02:55.561Z"
   },
   {
    "duration": 3,
    "start_time": "2022-01-29T15:02:55.936Z"
   },
   {
    "duration": 4,
    "start_time": "2022-01-29T15:02:56.642Z"
   },
   {
    "duration": 3,
    "start_time": "2022-01-29T15:02:57.075Z"
   },
   {
    "duration": 3,
    "start_time": "2022-01-29T15:02:57.449Z"
   },
   {
    "duration": 391,
    "start_time": "2022-01-29T15:02:58.237Z"
   },
   {
    "duration": 297,
    "start_time": "2022-01-29T15:03:26.719Z"
   },
   {
    "duration": 247,
    "start_time": "2022-01-29T15:04:05.835Z"
   },
   {
    "duration": 22,
    "start_time": "2022-01-29T15:04:11.094Z"
   },
   {
    "duration": 7,
    "start_time": "2022-01-29T15:04:11.688Z"
   },
   {
    "duration": 4,
    "start_time": "2022-01-29T15:04:13.163Z"
   },
   {
    "duration": 3,
    "start_time": "2022-01-29T15:04:13.386Z"
   },
   {
    "duration": 3,
    "start_time": "2022-01-29T15:04:13.609Z"
   },
   {
    "duration": 3,
    "start_time": "2022-01-29T15:04:14.066Z"
   },
   {
    "duration": 3,
    "start_time": "2022-01-29T15:04:14.336Z"
   },
   {
    "duration": 3,
    "start_time": "2022-01-29T15:04:14.904Z"
   },
   {
    "duration": 296,
    "start_time": "2022-01-29T15:04:15.728Z"
   },
   {
    "duration": 299,
    "start_time": "2022-01-29T15:06:29.875Z"
   },
   {
    "duration": 295,
    "start_time": "2022-01-29T15:06:36.269Z"
   },
   {
    "duration": 226,
    "start_time": "2022-01-29T15:07:22.441Z"
   },
   {
    "duration": 6,
    "start_time": "2022-01-29T15:07:28.256Z"
   },
   {
    "duration": 3,
    "start_time": "2022-01-29T15:07:29.610Z"
   },
   {
    "duration": 3,
    "start_time": "2022-01-29T15:07:29.861Z"
   },
   {
    "duration": 3,
    "start_time": "2022-01-29T15:07:30.109Z"
   },
   {
    "duration": 3,
    "start_time": "2022-01-29T15:07:30.583Z"
   },
   {
    "duration": 3,
    "start_time": "2022-01-29T15:07:30.812Z"
   },
   {
    "duration": 3,
    "start_time": "2022-01-29T15:07:31.031Z"
   },
   {
    "duration": 401,
    "start_time": "2022-01-29T15:07:32.349Z"
   },
   {
    "duration": 1446,
    "start_time": "2022-01-29T15:10:37.045Z"
   },
   {
    "duration": 733,
    "start_time": "2022-01-29T15:10:38.494Z"
   },
   {
    "duration": 16,
    "start_time": "2022-01-29T15:10:39.229Z"
   },
   {
    "duration": 38,
    "start_time": "2022-01-29T15:10:39.246Z"
   },
   {
    "duration": 3,
    "start_time": "2022-01-29T15:10:39.298Z"
   },
   {
    "duration": 18,
    "start_time": "2022-01-29T15:10:39.304Z"
   },
   {
    "duration": 12,
    "start_time": "2022-01-29T15:10:39.323Z"
   },
   {
    "duration": 13,
    "start_time": "2022-01-29T15:10:39.338Z"
   },
   {
    "duration": 5,
    "start_time": "2022-01-29T15:10:39.353Z"
   },
   {
    "duration": 270,
    "start_time": "2022-01-29T15:10:39.359Z"
   },
   {
    "duration": 11,
    "start_time": "2022-01-29T15:10:39.630Z"
   },
   {
    "duration": 24,
    "start_time": "2022-01-29T15:10:39.643Z"
   },
   {
    "duration": 28,
    "start_time": "2022-01-29T15:10:39.669Z"
   },
   {
    "duration": 255,
    "start_time": "2022-01-29T15:10:39.699Z"
   },
   {
    "duration": 5,
    "start_time": "2022-01-29T15:10:39.956Z"
   },
   {
    "duration": 3809,
    "start_time": "2022-01-29T15:10:39.962Z"
   },
   {
    "duration": 11,
    "start_time": "2022-01-29T15:10:43.773Z"
   },
   {
    "duration": 1600,
    "start_time": "2022-01-29T15:10:43.786Z"
   },
   {
    "duration": 71,
    "start_time": "2022-01-29T15:10:45.387Z"
   },
   {
    "duration": 3726,
    "start_time": "2022-01-29T15:10:45.459Z"
   },
   {
    "duration": 1641,
    "start_time": "2022-01-29T15:10:49.187Z"
   },
   {
    "duration": 22,
    "start_time": "2022-01-29T15:10:50.830Z"
   },
   {
    "duration": 6,
    "start_time": "2022-01-29T15:10:50.854Z"
   },
   {
    "duration": 6,
    "start_time": "2022-01-29T15:10:50.862Z"
   },
   {
    "duration": 8,
    "start_time": "2022-01-29T15:10:50.870Z"
   },
   {
    "duration": 17,
    "start_time": "2022-01-29T15:10:50.882Z"
   },
   {
    "duration": 8,
    "start_time": "2022-01-29T15:10:50.901Z"
   },
   {
    "duration": 9,
    "start_time": "2022-01-29T15:10:50.910Z"
   },
   {
    "duration": 5,
    "start_time": "2022-01-29T15:10:50.921Z"
   },
   {
    "duration": 495,
    "start_time": "2022-01-29T15:10:50.928Z"
   },
   {
    "duration": 28,
    "start_time": "2022-01-29T15:15:46.177Z"
   },
   {
    "duration": 243,
    "start_time": "2022-01-29T15:17:00.580Z"
   },
   {
    "duration": 231,
    "start_time": "2022-01-29T15:17:11.137Z"
   },
   {
    "duration": 240,
    "start_time": "2022-01-29T15:17:17.333Z"
   },
   {
    "duration": 18,
    "start_time": "2022-01-29T15:18:25.946Z"
   },
   {
    "duration": 223,
    "start_time": "2022-01-29T15:18:32.171Z"
   },
   {
    "duration": 9,
    "start_time": "2022-01-29T15:18:48.684Z"
   },
   {
    "duration": 6,
    "start_time": "2022-01-29T15:18:50.417Z"
   },
   {
    "duration": 3,
    "start_time": "2022-01-29T15:18:50.651Z"
   },
   {
    "duration": 4,
    "start_time": "2022-01-29T15:18:50.843Z"
   },
   {
    "duration": 3,
    "start_time": "2022-01-29T15:18:51.178Z"
   },
   {
    "duration": 3,
    "start_time": "2022-01-29T15:18:51.361Z"
   },
   {
    "duration": 6,
    "start_time": "2022-01-29T15:18:51.527Z"
   },
   {
    "duration": 329523,
    "start_time": "2022-01-29T15:18:52.690Z"
   },
   {
    "duration": 11,
    "start_time": "2022-01-29T15:24:22.215Z"
   },
   {
    "duration": 5,
    "start_time": "2022-01-29T15:24:22.228Z"
   },
   {
    "duration": 7,
    "start_time": "2022-01-29T15:24:22.235Z"
   },
   {
    "duration": 5,
    "start_time": "2022-01-29T15:25:30.854Z"
   },
   {
    "duration": 3875,
    "start_time": "2022-01-29T15:39:26.838Z"
   },
   {
    "duration": 3866,
    "start_time": "2022-01-29T15:40:01.436Z"
   },
   {
    "duration": 3947,
    "start_time": "2022-01-29T15:40:25.855Z"
   },
   {
    "duration": 82,
    "start_time": "2022-01-29T15:41:24.097Z"
   },
   {
    "duration": 1514,
    "start_time": "2022-01-29T16:06:02.637Z"
   },
   {
    "duration": 756,
    "start_time": "2022-01-29T16:06:04.154Z"
   },
   {
    "duration": 17,
    "start_time": "2022-01-29T16:06:04.912Z"
   },
   {
    "duration": 36,
    "start_time": "2022-01-29T16:06:04.931Z"
   },
   {
    "duration": 3,
    "start_time": "2022-01-29T16:06:04.969Z"
   },
   {
    "duration": 35,
    "start_time": "2022-01-29T16:06:04.974Z"
   },
   {
    "duration": 14,
    "start_time": "2022-01-29T16:06:05.011Z"
   },
   {
    "duration": 19,
    "start_time": "2022-01-29T16:06:05.027Z"
   },
   {
    "duration": 5,
    "start_time": "2022-01-29T16:06:05.049Z"
   },
   {
    "duration": 285,
    "start_time": "2022-01-29T16:06:05.056Z"
   },
   {
    "duration": 12,
    "start_time": "2022-01-29T16:06:05.343Z"
   },
   {
    "duration": 13,
    "start_time": "2022-01-29T16:06:05.357Z"
   },
   {
    "duration": 32,
    "start_time": "2022-01-29T16:06:05.372Z"
   },
   {
    "duration": 252,
    "start_time": "2022-01-29T16:06:05.406Z"
   },
   {
    "duration": 5,
    "start_time": "2022-01-29T16:06:05.659Z"
   },
   {
    "duration": 3887,
    "start_time": "2022-01-29T16:06:05.666Z"
   },
   {
    "duration": 11,
    "start_time": "2022-01-29T16:06:09.555Z"
   },
   {
    "duration": 1593,
    "start_time": "2022-01-29T16:06:09.568Z"
   },
   {
    "duration": 76,
    "start_time": "2022-01-29T16:06:11.163Z"
   },
   {
    "duration": 3581,
    "start_time": "2022-01-29T16:06:11.240Z"
   },
   {
    "duration": 1552,
    "start_time": "2022-01-29T16:06:14.823Z"
   },
   {
    "duration": 30,
    "start_time": "2022-01-29T16:06:16.377Z"
   },
   {
    "duration": 8,
    "start_time": "2022-01-29T16:06:16.409Z"
   },
   {
    "duration": 4,
    "start_time": "2022-01-29T16:06:16.420Z"
   },
   {
    "duration": 5,
    "start_time": "2022-01-29T16:06:16.426Z"
   },
   {
    "duration": 5,
    "start_time": "2022-01-29T16:06:16.433Z"
   },
   {
    "duration": 4,
    "start_time": "2022-01-29T16:06:16.441Z"
   },
   {
    "duration": 8,
    "start_time": "2022-01-29T16:06:16.447Z"
   },
   {
    "duration": 5,
    "start_time": "2022-01-29T16:06:16.457Z"
   },
   {
    "duration": 313916,
    "start_time": "2022-01-29T16:06:16.464Z"
   },
   {
    "duration": 11,
    "start_time": "2022-01-29T16:11:30.381Z"
   },
   {
    "duration": 9,
    "start_time": "2022-01-29T16:11:30.399Z"
   },
   {
    "duration": 25,
    "start_time": "2022-01-29T16:11:30.410Z"
   },
   {
    "duration": 27,
    "start_time": "2022-01-29T16:11:30.437Z"
   },
   {
    "duration": 11,
    "start_time": "2022-01-29T16:11:30.466Z"
   },
   {
    "duration": 474,
    "start_time": "2022-01-29T16:11:30.479Z"
   },
   {
    "duration": -1039,
    "start_time": "2022-01-29T16:11:31.994Z"
   },
   {
    "duration": -1086,
    "start_time": "2022-01-29T16:11:32.042Z"
   },
   {
    "duration": -1091,
    "start_time": "2022-01-29T16:11:32.048Z"
   },
   {
    "duration": -1095,
    "start_time": "2022-01-29T16:11:32.053Z"
   },
   {
    "duration": 303,
    "start_time": "2022-01-29T16:25:58.005Z"
   },
   {
    "duration": 220,
    "start_time": "2022-01-29T16:27:04.782Z"
   },
   {
    "duration": 239,
    "start_time": "2022-01-29T16:27:20.681Z"
   },
   {
    "duration": 291,
    "start_time": "2022-01-29T16:27:33.158Z"
   },
   {
    "duration": 215,
    "start_time": "2022-01-29T16:27:38.033Z"
   },
   {
    "duration": 219,
    "start_time": "2022-01-29T16:27:46.824Z"
   },
   {
    "duration": 242,
    "start_time": "2022-01-29T16:27:47.257Z"
   },
   {
    "duration": 141,
    "start_time": "2022-01-29T16:27:55.358Z"
   },
   {
    "duration": 5,
    "start_time": "2022-01-29T16:27:56.599Z"
   },
   {
    "duration": 215,
    "start_time": "2022-01-29T16:27:58.214Z"
   },
   {
    "duration": 5963,
    "start_time": "2022-01-29T16:28:41.237Z"
   },
   {
    "duration": -1051,
    "start_time": "2022-01-29T16:28:48.253Z"
   },
   {
    "duration": 6,
    "start_time": "2022-01-29T16:35:52.394Z"
   },
   {
    "duration": 1585,
    "start_time": "2022-01-29T16:37:28.613Z"
   },
   {
    "duration": 815,
    "start_time": "2022-01-29T16:37:30.200Z"
   },
   {
    "duration": 19,
    "start_time": "2022-01-29T16:37:31.017Z"
   },
   {
    "duration": 35,
    "start_time": "2022-01-29T16:37:31.038Z"
   },
   {
    "duration": 4,
    "start_time": "2022-01-29T16:37:31.075Z"
   },
   {
    "duration": 24,
    "start_time": "2022-01-29T16:37:31.080Z"
   },
   {
    "duration": 6,
    "start_time": "2022-01-29T16:37:31.106Z"
   },
   {
    "duration": 13,
    "start_time": "2022-01-29T16:37:31.115Z"
   },
   {
    "duration": 4,
    "start_time": "2022-01-29T16:37:31.131Z"
   },
   {
    "duration": 306,
    "start_time": "2022-01-29T16:37:31.138Z"
   },
   {
    "duration": 12,
    "start_time": "2022-01-29T16:37:31.446Z"
   },
   {
    "duration": 13,
    "start_time": "2022-01-29T16:37:31.460Z"
   },
   {
    "duration": 34,
    "start_time": "2022-01-29T16:37:31.475Z"
   },
   {
    "duration": 249,
    "start_time": "2022-01-29T16:37:31.511Z"
   },
   {
    "duration": 5,
    "start_time": "2022-01-29T16:37:31.762Z"
   },
   {
    "duration": 3966,
    "start_time": "2022-01-29T16:37:31.769Z"
   },
   {
    "duration": 12,
    "start_time": "2022-01-29T16:37:35.736Z"
   },
   {
    "duration": 1619,
    "start_time": "2022-01-29T16:37:35.750Z"
   },
   {
    "duration": 74,
    "start_time": "2022-01-29T16:37:37.371Z"
   },
   {
    "duration": 3770,
    "start_time": "2022-01-29T16:37:37.447Z"
   },
   {
    "duration": 1590,
    "start_time": "2022-01-29T16:37:41.218Z"
   },
   {
    "duration": 21,
    "start_time": "2022-01-29T16:37:42.810Z"
   },
   {
    "duration": 6,
    "start_time": "2022-01-29T16:37:42.832Z"
   },
   {
    "duration": 6,
    "start_time": "2022-01-29T16:37:42.840Z"
   },
   {
    "duration": 5,
    "start_time": "2022-01-29T16:37:42.848Z"
   },
   {
    "duration": 6,
    "start_time": "2022-01-29T16:37:42.855Z"
   },
   {
    "duration": 6,
    "start_time": "2022-01-29T16:37:42.864Z"
   },
   {
    "duration": 5,
    "start_time": "2022-01-29T16:37:42.872Z"
   },
   {
    "duration": 21,
    "start_time": "2022-01-29T16:37:42.879Z"
   },
   {
    "duration": 440,
    "start_time": "2022-01-29T16:37:42.902Z"
   },
   {
    "duration": -1094,
    "start_time": "2022-01-29T16:37:44.438Z"
   },
   {
    "duration": -1100,
    "start_time": "2022-01-29T16:37:44.445Z"
   },
   {
    "duration": -1106,
    "start_time": "2022-01-29T16:37:44.452Z"
   },
   {
    "duration": -1110,
    "start_time": "2022-01-29T16:37:44.457Z"
   },
   {
    "duration": -1114,
    "start_time": "2022-01-29T16:37:44.462Z"
   },
   {
    "duration": 6,
    "start_time": "2022-01-29T16:41:13.283Z"
   },
   {
    "duration": 2851,
    "start_time": "2022-01-29T16:41:13.671Z"
   },
   {
    "duration": 7,
    "start_time": "2022-01-29T16:41:27.408Z"
   },
   {
    "duration": 4822,
    "start_time": "2022-01-29T16:41:35.295Z"
   },
   {
    "duration": 2765,
    "start_time": "2022-01-29T16:41:49.281Z"
   },
   {
    "duration": 2817,
    "start_time": "2022-01-29T16:42:03.122Z"
   },
   {
    "duration": 7,
    "start_time": "2022-01-29T16:42:09.486Z"
   },
   {
    "duration": 3,
    "start_time": "2022-01-29T16:42:12.172Z"
   },
   {
    "duration": 3,
    "start_time": "2022-01-29T16:42:12.499Z"
   },
   {
    "duration": 3,
    "start_time": "2022-01-29T16:42:14.944Z"
   },
   {
    "duration": 3,
    "start_time": "2022-01-29T16:42:15.733Z"
   },
   {
    "duration": 3,
    "start_time": "2022-01-29T16:42:16.105Z"
   },
   {
    "duration": 3,
    "start_time": "2022-01-29T16:42:17.018Z"
   },
   {
    "duration": 152983,
    "start_time": "2022-01-29T16:42:19.312Z"
   },
   {
    "duration": 1682,
    "start_time": "2022-01-29T17:51:48.515Z"
   },
   {
    "duration": 1420,
    "start_time": "2022-01-29T17:55:46.879Z"
   },
   {
    "duration": -527,
    "start_time": "2022-01-29T17:55:48.830Z"
   },
   {
    "duration": -530,
    "start_time": "2022-01-29T17:55:48.834Z"
   },
   {
    "duration": -531,
    "start_time": "2022-01-29T17:55:48.836Z"
   },
   {
    "duration": -532,
    "start_time": "2022-01-29T17:55:48.838Z"
   },
   {
    "duration": -533,
    "start_time": "2022-01-29T17:55:48.840Z"
   },
   {
    "duration": -533,
    "start_time": "2022-01-29T17:55:48.841Z"
   },
   {
    "duration": -535,
    "start_time": "2022-01-29T17:55:48.844Z"
   },
   {
    "duration": -536,
    "start_time": "2022-01-29T17:55:48.846Z"
   },
   {
    "duration": -540,
    "start_time": "2022-01-29T17:55:48.851Z"
   },
   {
    "duration": -540,
    "start_time": "2022-01-29T17:55:48.853Z"
   },
   {
    "duration": -540,
    "start_time": "2022-01-29T17:55:48.854Z"
   },
   {
    "duration": -541,
    "start_time": "2022-01-29T17:55:48.856Z"
   },
   {
    "duration": -542,
    "start_time": "2022-01-29T17:55:48.858Z"
   },
   {
    "duration": -542,
    "start_time": "2022-01-29T17:55:48.859Z"
   },
   {
    "duration": -543,
    "start_time": "2022-01-29T17:55:48.861Z"
   },
   {
    "duration": -543,
    "start_time": "2022-01-29T17:55:48.862Z"
   },
   {
    "duration": -547,
    "start_time": "2022-01-29T17:55:48.867Z"
   },
   {
    "duration": -548,
    "start_time": "2022-01-29T17:55:48.869Z"
   },
   {
    "duration": -548,
    "start_time": "2022-01-29T17:55:48.870Z"
   },
   {
    "duration": -549,
    "start_time": "2022-01-29T17:55:48.872Z"
   },
   {
    "duration": -549,
    "start_time": "2022-01-29T17:55:48.873Z"
   },
   {
    "duration": -550,
    "start_time": "2022-01-29T17:55:48.875Z"
   },
   {
    "duration": -550,
    "start_time": "2022-01-29T17:55:48.876Z"
   },
   {
    "duration": -550,
    "start_time": "2022-01-29T17:55:48.877Z"
   },
   {
    "duration": -551,
    "start_time": "2022-01-29T17:55:48.879Z"
   },
   {
    "duration": -555,
    "start_time": "2022-01-29T17:55:48.884Z"
   },
   {
    "duration": -554,
    "start_time": "2022-01-29T17:55:48.885Z"
   },
   {
    "duration": -555,
    "start_time": "2022-01-29T17:55:48.887Z"
   },
   {
    "duration": -557,
    "start_time": "2022-01-29T17:55:48.889Z"
   },
   {
    "duration": -556,
    "start_time": "2022-01-29T17:55:48.890Z"
   },
   {
    "duration": -557,
    "start_time": "2022-01-29T17:55:48.892Z"
   },
   {
    "duration": -558,
    "start_time": "2022-01-29T17:55:48.894Z"
   },
   {
    "duration": -559,
    "start_time": "2022-01-29T17:55:48.896Z"
   },
   {
    "duration": -562,
    "start_time": "2022-01-29T17:55:48.900Z"
   },
   {
    "duration": -563,
    "start_time": "2022-01-29T17:55:48.902Z"
   },
   {
    "duration": -564,
    "start_time": "2022-01-29T17:55:48.904Z"
   },
   {
    "duration": -508,
    "start_time": "2022-01-29T17:55:48.905Z"
   },
   {
    "duration": -507,
    "start_time": "2022-01-29T17:55:48.906Z"
   },
   {
    "duration": 1340,
    "start_time": "2022-01-29T18:55:57.294Z"
   },
   {
    "duration": -163,
    "start_time": "2022-01-29T18:55:58.802Z"
   },
   {
    "duration": -165,
    "start_time": "2022-01-29T18:55:58.804Z"
   },
   {
    "duration": -166,
    "start_time": "2022-01-29T18:55:58.806Z"
   },
   {
    "duration": -168,
    "start_time": "2022-01-29T18:55:58.809Z"
   },
   {
    "duration": -169,
    "start_time": "2022-01-29T18:55:58.811Z"
   },
   {
    "duration": -170,
    "start_time": "2022-01-29T18:55:58.813Z"
   },
   {
    "duration": -172,
    "start_time": "2022-01-29T18:55:58.816Z"
   },
   {
    "duration": -174,
    "start_time": "2022-01-29T18:55:58.819Z"
   },
   {
    "duration": -176,
    "start_time": "2022-01-29T18:55:58.821Z"
   },
   {
    "duration": -176,
    "start_time": "2022-01-29T18:55:58.823Z"
   },
   {
    "duration": -183,
    "start_time": "2022-01-29T18:55:58.830Z"
   },
   {
    "duration": -184,
    "start_time": "2022-01-29T18:55:58.832Z"
   },
   {
    "duration": -185,
    "start_time": "2022-01-29T18:55:58.834Z"
   },
   {
    "duration": -186,
    "start_time": "2022-01-29T18:55:58.836Z"
   },
   {
    "duration": -187,
    "start_time": "2022-01-29T18:55:58.838Z"
   },
   {
    "duration": -187,
    "start_time": "2022-01-29T18:55:58.839Z"
   },
   {
    "duration": -188,
    "start_time": "2022-01-29T18:55:58.841Z"
   },
   {
    "duration": -190,
    "start_time": "2022-01-29T18:55:58.843Z"
   },
   {
    "duration": -196,
    "start_time": "2022-01-29T18:55:58.850Z"
   },
   {
    "duration": -197,
    "start_time": "2022-01-29T18:55:58.852Z"
   },
   {
    "duration": -198,
    "start_time": "2022-01-29T18:55:58.854Z"
   },
   {
    "duration": -199,
    "start_time": "2022-01-29T18:55:58.856Z"
   },
   {
    "duration": -199,
    "start_time": "2022-01-29T18:55:58.857Z"
   },
   {
    "duration": -200,
    "start_time": "2022-01-29T18:55:58.859Z"
   },
   {
    "duration": -201,
    "start_time": "2022-01-29T18:55:58.861Z"
   },
   {
    "duration": -202,
    "start_time": "2022-01-29T18:55:58.863Z"
   },
   {
    "duration": -204,
    "start_time": "2022-01-29T18:55:58.865Z"
   },
   {
    "duration": -204,
    "start_time": "2022-01-29T18:55:58.866Z"
   },
   {
    "duration": -205,
    "start_time": "2022-01-29T18:55:58.868Z"
   },
   {
    "duration": -206,
    "start_time": "2022-01-29T18:55:58.870Z"
   },
   {
    "duration": -211,
    "start_time": "2022-01-29T18:55:58.876Z"
   },
   {
    "duration": -211,
    "start_time": "2022-01-29T18:55:58.878Z"
   },
   {
    "duration": -211,
    "start_time": "2022-01-29T18:55:58.879Z"
   },
   {
    "duration": -212,
    "start_time": "2022-01-29T18:55:58.881Z"
   },
   {
    "duration": -212,
    "start_time": "2022-01-29T18:55:58.883Z"
   },
   {
    "duration": -212,
    "start_time": "2022-01-29T18:55:58.884Z"
   },
   {
    "duration": -212,
    "start_time": "2022-01-29T18:55:58.885Z"
   },
   {
    "duration": -187,
    "start_time": "2022-01-29T18:55:58.887Z"
   },
   {
    "duration": 1232,
    "start_time": "2022-01-29T18:56:46.663Z"
   },
   {
    "duration": 1721,
    "start_time": "2022-01-29T18:56:47.897Z"
   },
   {
    "duration": -193,
    "start_time": "2022-01-29T18:56:49.819Z"
   },
   {
    "duration": -195,
    "start_time": "2022-01-29T18:56:49.822Z"
   },
   {
    "duration": -197,
    "start_time": "2022-01-29T18:56:49.825Z"
   },
   {
    "duration": -199,
    "start_time": "2022-01-29T18:56:49.828Z"
   },
   {
    "duration": -200,
    "start_time": "2022-01-29T18:56:49.830Z"
   },
   {
    "duration": -201,
    "start_time": "2022-01-29T18:56:49.832Z"
   },
   {
    "duration": -202,
    "start_time": "2022-01-29T18:56:49.834Z"
   },
   {
    "duration": -206,
    "start_time": "2022-01-29T18:56:49.839Z"
   },
   {
    "duration": -207,
    "start_time": "2022-01-29T18:56:49.841Z"
   },
   {
    "duration": -208,
    "start_time": "2022-01-29T18:56:49.843Z"
   },
   {
    "duration": -208,
    "start_time": "2022-01-29T18:56:49.844Z"
   },
   {
    "duration": -208,
    "start_time": "2022-01-29T18:56:49.846Z"
   },
   {
    "duration": -208,
    "start_time": "2022-01-29T18:56:49.847Z"
   },
   {
    "duration": -208,
    "start_time": "2022-01-29T18:56:49.849Z"
   },
   {
    "duration": -208,
    "start_time": "2022-01-29T18:56:49.850Z"
   },
   {
    "duration": -211,
    "start_time": "2022-01-29T18:56:49.855Z"
   },
   {
    "duration": -212,
    "start_time": "2022-01-29T18:56:49.857Z"
   },
   {
    "duration": -212,
    "start_time": "2022-01-29T18:56:49.859Z"
   },
   {
    "duration": -212,
    "start_time": "2022-01-29T18:56:49.861Z"
   },
   {
    "duration": -211,
    "start_time": "2022-01-29T18:56:49.862Z"
   },
   {
    "duration": -212,
    "start_time": "2022-01-29T18:56:49.864Z"
   },
   {
    "duration": -217,
    "start_time": "2022-01-29T18:56:49.870Z"
   },
   {
    "duration": -218,
    "start_time": "2022-01-29T18:56:49.872Z"
   },
   {
    "duration": -218,
    "start_time": "2022-01-29T18:56:49.873Z"
   },
   {
    "duration": -220,
    "start_time": "2022-01-29T18:56:49.875Z"
   },
   {
    "duration": -221,
    "start_time": "2022-01-29T18:56:49.877Z"
   },
   {
    "duration": -225,
    "start_time": "2022-01-29T18:56:49.882Z"
   },
   {
    "duration": -226,
    "start_time": "2022-01-29T18:56:49.884Z"
   },
   {
    "duration": -229,
    "start_time": "2022-01-29T18:56:49.888Z"
   },
   {
    "duration": -231,
    "start_time": "2022-01-29T18:56:49.890Z"
   },
   {
    "duration": -232,
    "start_time": "2022-01-29T18:56:49.892Z"
   },
   {
    "duration": -233,
    "start_time": "2022-01-29T18:56:49.894Z"
   },
   {
    "duration": -237,
    "start_time": "2022-01-29T18:56:49.899Z"
   },
   {
    "duration": -204,
    "start_time": "2022-01-29T18:56:49.901Z"
   },
   {
    "duration": -203,
    "start_time": "2022-01-29T18:56:49.902Z"
   },
   {
    "duration": -204,
    "start_time": "2022-01-29T18:56:49.904Z"
   },
   {
    "duration": -204,
    "start_time": "2022-01-29T18:56:49.905Z"
   },
   {
    "duration": 761,
    "start_time": "2022-01-29T18:57:41.452Z"
   },
   {
    "duration": 1275,
    "start_time": "2022-01-29T18:57:46.009Z"
   },
   {
    "duration": 746,
    "start_time": "2022-01-29T18:57:47.286Z"
   },
   {
    "duration": 12,
    "start_time": "2022-01-29T18:57:48.034Z"
   },
   {
    "duration": 3,
    "start_time": "2022-01-29T18:57:48.048Z"
   },
   {
    "duration": 312,
    "start_time": "2022-01-29T18:57:48.053Z"
   },
   {
    "duration": -171,
    "start_time": "2022-01-29T18:57:48.539Z"
   },
   {
    "duration": -172,
    "start_time": "2022-01-29T18:57:48.541Z"
   },
   {
    "duration": -173,
    "start_time": "2022-01-29T18:57:48.543Z"
   },
   {
    "duration": -173,
    "start_time": "2022-01-29T18:57:48.544Z"
   },
   {
    "duration": -174,
    "start_time": "2022-01-29T18:57:48.546Z"
   },
   {
    "duration": -178,
    "start_time": "2022-01-29T18:57:48.552Z"
   },
   {
    "duration": -179,
    "start_time": "2022-01-29T18:57:48.554Z"
   },
   {
    "duration": -180,
    "start_time": "2022-01-29T18:57:48.556Z"
   },
   {
    "duration": -181,
    "start_time": "2022-01-29T18:57:48.558Z"
   },
   {
    "duration": -182,
    "start_time": "2022-01-29T18:57:48.560Z"
   },
   {
    "duration": -182,
    "start_time": "2022-01-29T18:57:48.561Z"
   },
   {
    "duration": -183,
    "start_time": "2022-01-29T18:57:48.563Z"
   },
   {
    "duration": -188,
    "start_time": "2022-01-29T18:57:48.569Z"
   },
   {
    "duration": -189,
    "start_time": "2022-01-29T18:57:48.571Z"
   },
   {
    "duration": -190,
    "start_time": "2022-01-29T18:57:48.573Z"
   },
   {
    "duration": -191,
    "start_time": "2022-01-29T18:57:48.575Z"
   },
   {
    "duration": -191,
    "start_time": "2022-01-29T18:57:48.577Z"
   },
   {
    "duration": -191,
    "start_time": "2022-01-29T18:57:48.579Z"
   },
   {
    "duration": -194,
    "start_time": "2022-01-29T18:57:48.584Z"
   },
   {
    "duration": -195,
    "start_time": "2022-01-29T18:57:48.586Z"
   },
   {
    "duration": -195,
    "start_time": "2022-01-29T18:57:48.588Z"
   },
   {
    "duration": -196,
    "start_time": "2022-01-29T18:57:48.590Z"
   },
   {
    "duration": -195,
    "start_time": "2022-01-29T18:57:48.591Z"
   },
   {
    "duration": -195,
    "start_time": "2022-01-29T18:57:48.593Z"
   },
   {
    "duration": -195,
    "start_time": "2022-01-29T18:57:48.594Z"
   },
   {
    "duration": -195,
    "start_time": "2022-01-29T18:57:48.596Z"
   },
   {
    "duration": -199,
    "start_time": "2022-01-29T18:57:48.601Z"
   },
   {
    "duration": -199,
    "start_time": "2022-01-29T18:57:48.603Z"
   },
   {
    "duration": -198,
    "start_time": "2022-01-29T18:57:48.604Z"
   },
   {
    "duration": -199,
    "start_time": "2022-01-29T18:57:48.606Z"
   },
   {
    "duration": -198,
    "start_time": "2022-01-29T18:57:48.607Z"
   },
   {
    "duration": -199,
    "start_time": "2022-01-29T18:57:48.610Z"
   },
   {
    "duration": -200,
    "start_time": "2022-01-29T18:57:48.612Z"
   },
   {
    "duration": -203,
    "start_time": "2022-01-29T18:57:48.616Z"
   },
   {
    "duration": 76,
    "start_time": "2022-01-29T18:58:42.642Z"
   },
   {
    "duration": 245,
    "start_time": "2022-01-29T18:59:16.861Z"
   },
   {
    "duration": 4,
    "start_time": "2022-01-29T19:03:50.236Z"
   },
   {
    "duration": 888,
    "start_time": "2022-01-29T19:03:50.571Z"
   },
   {
    "duration": 27,
    "start_time": "2022-01-29T19:03:51.576Z"
   },
   {
    "duration": 15,
    "start_time": "2022-01-29T19:04:01.667Z"
   },
   {
    "duration": 11,
    "start_time": "2022-01-29T19:04:20.884Z"
   },
   {
    "duration": 18,
    "start_time": "2022-01-29T19:04:29.925Z"
   },
   {
    "duration": 10,
    "start_time": "2022-01-29T19:04:50.995Z"
   },
   {
    "duration": 26,
    "start_time": "2022-01-29T19:04:59.225Z"
   },
   {
    "duration": 8,
    "start_time": "2022-01-29T19:05:27.491Z"
   },
   {
    "duration": 18,
    "start_time": "2022-01-29T19:05:46.905Z"
   },
   {
    "duration": 12,
    "start_time": "2022-01-29T19:05:55.535Z"
   },
   {
    "duration": 4,
    "start_time": "2022-01-29T19:06:26.793Z"
   },
   {
    "duration": 3,
    "start_time": "2022-01-29T19:06:35.098Z"
   },
   {
    "duration": 508,
    "start_time": "2022-01-29T19:06:58.201Z"
   },
   {
    "duration": 25,
    "start_time": "2022-01-29T19:07:13.961Z"
   },
   {
    "duration": 38,
    "start_time": "2022-01-29T19:07:30.105Z"
   },
   {
    "duration": 30,
    "start_time": "2022-01-29T19:07:40.035Z"
   },
   {
    "duration": 490,
    "start_time": "2022-01-29T19:07:45.563Z"
   },
   {
    "duration": 25,
    "start_time": "2022-01-29T19:07:55.512Z"
   },
   {
    "duration": 19,
    "start_time": "2022-01-29T19:08:02.744Z"
   },
   {
    "duration": 18,
    "start_time": "2022-01-29T19:08:19.595Z"
   },
   {
    "duration": 6,
    "start_time": "2022-01-29T19:08:20.392Z"
   },
   {
    "duration": 1019,
    "start_time": "2022-01-29T19:13:49.676Z"
   },
   {
    "duration": 938,
    "start_time": "2022-01-29T19:14:47.959Z"
   },
   {
    "duration": 1066,
    "start_time": "2022-01-29T19:15:07.938Z"
   },
   {
    "duration": 1301,
    "start_time": "2022-01-29T19:16:04.361Z"
   },
   {
    "duration": 726,
    "start_time": "2022-01-29T19:16:35.881Z"
   },
   {
    "duration": 8,
    "start_time": "2022-01-29T19:17:00.872Z"
   },
   {
    "duration": 1075,
    "start_time": "2022-01-29T19:17:13.390Z"
   },
   {
    "duration": 940,
    "start_time": "2022-01-29T19:17:29.818Z"
   },
   {
    "duration": 18,
    "start_time": "2022-01-29T19:17:50.768Z"
   },
   {
    "duration": 7,
    "start_time": "2022-01-29T19:18:35.650Z"
   },
   {
    "duration": 8,
    "start_time": "2022-01-29T19:18:44.671Z"
   },
   {
    "duration": 75,
    "start_time": "2022-01-29T19:18:45.071Z"
   },
   {
    "duration": 3,
    "start_time": "2022-01-29T19:18:53.023Z"
   },
   {
    "duration": 5,
    "start_time": "2022-01-29T19:19:08.627Z"
   },
   {
    "duration": 4,
    "start_time": "2022-01-29T19:19:32.404Z"
   },
   {
    "duration": 5,
    "start_time": "2022-01-29T19:19:48.431Z"
   },
   {
    "duration": 2970,
    "start_time": "2022-01-29T19:25:22.928Z"
   },
   {
    "duration": 2576,
    "start_time": "2022-01-29T19:25:32.531Z"
   },
   {
    "duration": 126275,
    "start_time": "2022-01-29T19:26:24.224Z"
   },
   {
    "duration": 31896,
    "start_time": "2022-01-29T19:28:30.505Z"
   },
   {
    "duration": 525682,
    "start_time": "2022-01-29T19:29:02.408Z"
   },
   {
    "duration": 7,
    "start_time": "2022-01-29T19:37:48.099Z"
   },
   {
    "duration": 55084,
    "start_time": "2022-01-29T19:37:48.107Z"
   },
   {
    "duration": 12,
    "start_time": "2022-01-29T19:38:43.193Z"
   },
   {
    "duration": 11,
    "start_time": "2022-01-29T19:38:43.207Z"
   },
   {
    "duration": 14,
    "start_time": "2022-01-29T19:38:43.220Z"
   },
   {
    "duration": 58301,
    "start_time": "2022-01-29T19:38:43.236Z"
   },
   {
    "duration": 364,
    "start_time": "2022-01-29T19:39:41.539Z"
   },
   {
    "duration": 1393,
    "start_time": "2022-01-30T09:59:54.675Z"
   },
   {
    "duration": 5678,
    "start_time": "2022-01-30T09:59:56.071Z"
   },
   {
    "duration": 25,
    "start_time": "2022-01-30T10:00:01.752Z"
   },
   {
    "duration": 26,
    "start_time": "2022-01-30T10:00:01.779Z"
   },
   {
    "duration": 15,
    "start_time": "2022-01-30T10:00:06.568Z"
   },
   {
    "duration": 25,
    "start_time": "2022-01-30T10:00:07.021Z"
   },
   {
    "duration": 15,
    "start_time": "2022-01-30T10:00:07.846Z"
   },
   {
    "duration": 12,
    "start_time": "2022-01-30T10:00:11.579Z"
   },
   {
    "duration": 16,
    "start_time": "2022-01-30T10:02:47.774Z"
   },
   {
    "duration": 10,
    "start_time": "2022-01-30T10:02:55.822Z"
   },
   {
    "duration": 10,
    "start_time": "2022-01-30T10:03:13.401Z"
   },
   {
    "duration": 27,
    "start_time": "2022-01-30T10:03:25.793Z"
   },
   {
    "duration": 8,
    "start_time": "2022-01-30T10:03:34.071Z"
   },
   {
    "duration": 19,
    "start_time": "2022-01-30T10:03:53.822Z"
   },
   {
    "duration": 4,
    "start_time": "2022-01-30T10:04:01.071Z"
   },
   {
    "duration": 5,
    "start_time": "2022-01-30T10:04:15.378Z"
   },
   {
    "duration": 710,
    "start_time": "2022-01-30T10:04:17.269Z"
   },
   {
    "duration": 35,
    "start_time": "2022-01-30T10:05:10.748Z"
   },
   {
    "duration": 37,
    "start_time": "2022-01-30T10:05:27.841Z"
   },
   {
    "duration": 1135,
    "start_time": "2022-01-30T10:05:30.040Z"
   },
   {
    "duration": 1255,
    "start_time": "2022-01-31T19:38:05.202Z"
   },
   {
    "duration": 879,
    "start_time": "2022-01-31T19:38:06.459Z"
   },
   {
    "duration": 19,
    "start_time": "2022-01-31T19:38:07.340Z"
   },
   {
    "duration": 16,
    "start_time": "2022-01-31T19:38:07.362Z"
   },
   {
    "duration": 30,
    "start_time": "2022-01-31T19:38:07.380Z"
   },
   {
    "duration": 22,
    "start_time": "2022-01-31T19:38:07.412Z"
   },
   {
    "duration": 28,
    "start_time": "2022-01-31T19:38:07.437Z"
   },
   {
    "duration": 13,
    "start_time": "2022-01-31T19:38:07.469Z"
   },
   {
    "duration": 26,
    "start_time": "2022-01-31T19:38:07.500Z"
   },
   {
    "duration": 4,
    "start_time": "2022-01-31T19:38:07.529Z"
   },
   {
    "duration": 539,
    "start_time": "2022-01-31T19:38:07.535Z"
   },
   {
    "duration": 39,
    "start_time": "2022-01-31T19:38:08.077Z"
   },
   {
    "duration": 24,
    "start_time": "2022-01-31T19:38:08.119Z"
   },
   {
    "duration": 34,
    "start_time": "2022-01-31T19:38:08.146Z"
   },
   {
    "duration": 517,
    "start_time": "2022-01-31T19:38:08.182Z"
   },
   {
    "duration": 30,
    "start_time": "2022-01-31T19:38:08.702Z"
   },
   {
    "duration": 27,
    "start_time": "2022-01-31T19:38:08.734Z"
   },
   {
    "duration": 1038,
    "start_time": "2022-01-31T19:38:08.763Z"
   },
   {
    "duration": 939,
    "start_time": "2022-01-31T19:38:09.803Z"
   },
   {
    "duration": 962,
    "start_time": "2022-01-31T19:38:10.744Z"
   },
   {
    "duration": 1239,
    "start_time": "2022-01-31T19:38:11.708Z"
   },
   {
    "duration": 727,
    "start_time": "2022-01-31T19:38:12.948Z"
   },
   {
    "duration": 6,
    "start_time": "2022-01-31T19:38:13.679Z"
   },
   {
    "duration": 925,
    "start_time": "2022-01-31T19:38:13.687Z"
   },
   {
    "duration": 1019,
    "start_time": "2022-01-31T19:38:14.613Z"
   },
   {
    "duration": 20,
    "start_time": "2022-01-31T19:38:15.633Z"
   },
   {
    "duration": 7,
    "start_time": "2022-01-31T19:38:15.655Z"
   },
   {
    "duration": 9,
    "start_time": "2022-01-31T19:38:15.664Z"
   },
   {
    "duration": 5,
    "start_time": "2022-01-31T19:38:15.698Z"
   },
   {
    "duration": 6,
    "start_time": "2022-01-31T19:38:15.705Z"
   },
   {
    "duration": 7,
    "start_time": "2022-01-31T19:38:15.713Z"
   },
   {
    "duration": 81,
    "start_time": "2022-01-31T19:38:15.722Z"
   },
   {
    "duration": -478,
    "start_time": "2022-01-31T19:38:16.282Z"
   },
   {
    "duration": -479,
    "start_time": "2022-01-31T19:38:16.285Z"
   },
   {
    "duration": -481,
    "start_time": "2022-01-31T19:38:16.288Z"
   },
   {
    "duration": -482,
    "start_time": "2022-01-31T19:38:16.290Z"
   },
   {
    "duration": -499,
    "start_time": "2022-01-31T19:38:16.309Z"
   },
   {
    "duration": -500,
    "start_time": "2022-01-31T19:38:16.311Z"
   },
   {
    "duration": -502,
    "start_time": "2022-01-31T19:38:16.314Z"
   },
   {
    "duration": -502,
    "start_time": "2022-01-31T19:38:16.316Z"
   },
   {
    "duration": -503,
    "start_time": "2022-01-31T19:38:16.318Z"
   },
   {
    "duration": -504,
    "start_time": "2022-01-31T19:38:16.320Z"
   },
   {
    "duration": -505,
    "start_time": "2022-01-31T19:38:16.322Z"
   },
   {
    "duration": -505,
    "start_time": "2022-01-31T19:38:16.324Z"
   },
   {
    "duration": -506,
    "start_time": "2022-01-31T19:38:16.326Z"
   },
   {
    "duration": 699,
    "start_time": "2022-01-31T19:42:50.154Z"
   },
   {
    "duration": 704,
    "start_time": "2022-01-31T19:43:08.658Z"
   },
   {
    "duration": 2763,
    "start_time": "2022-01-31T19:51:11.442Z"
   },
   {
    "duration": 1154,
    "start_time": "2022-01-31T19:54:39.913Z"
   },
   {
    "duration": 910,
    "start_time": "2022-01-31T19:54:41.069Z"
   },
   {
    "duration": 20,
    "start_time": "2022-01-31T19:54:41.982Z"
   },
   {
    "duration": 14,
    "start_time": "2022-01-31T19:54:42.004Z"
   },
   {
    "duration": 11,
    "start_time": "2022-01-31T19:54:42.020Z"
   },
   {
    "duration": 19,
    "start_time": "2022-01-31T19:54:42.033Z"
   },
   {
    "duration": 47,
    "start_time": "2022-01-31T19:54:42.054Z"
   },
   {
    "duration": 8,
    "start_time": "2022-01-31T19:54:42.102Z"
   },
   {
    "duration": 23,
    "start_time": "2022-01-31T19:54:42.113Z"
   },
   {
    "duration": 2,
    "start_time": "2022-01-31T19:54:42.139Z"
   },
   {
    "duration": 538,
    "start_time": "2022-01-31T19:54:42.143Z"
   },
   {
    "duration": 38,
    "start_time": "2022-01-31T19:54:42.683Z"
   },
   {
    "duration": 25,
    "start_time": "2022-01-31T19:54:42.722Z"
   },
   {
    "duration": 20,
    "start_time": "2022-01-31T19:54:42.748Z"
   },
   {
    "duration": 530,
    "start_time": "2022-01-31T19:54:42.770Z"
   },
   {
    "duration": 25,
    "start_time": "2022-01-31T19:54:43.302Z"
   },
   {
    "duration": 24,
    "start_time": "2022-01-31T19:54:43.328Z"
   },
   {
    "duration": 1023,
    "start_time": "2022-01-31T19:54:43.353Z"
   },
   {
    "duration": 937,
    "start_time": "2022-01-31T19:54:44.378Z"
   },
   {
    "duration": 951,
    "start_time": "2022-01-31T19:54:45.317Z"
   },
   {
    "duration": 1265,
    "start_time": "2022-01-31T19:54:46.271Z"
   },
   {
    "duration": 769,
    "start_time": "2022-01-31T19:54:47.538Z"
   },
   {
    "duration": 7,
    "start_time": "2022-01-31T19:54:48.310Z"
   },
   {
    "duration": 956,
    "start_time": "2022-01-31T19:54:48.319Z"
   },
   {
    "duration": 1037,
    "start_time": "2022-01-31T19:54:49.277Z"
   },
   {
    "duration": 19,
    "start_time": "2022-01-31T19:54:50.316Z"
   },
   {
    "duration": 7,
    "start_time": "2022-01-31T19:54:50.338Z"
   },
   {
    "duration": 6,
    "start_time": "2022-01-31T19:54:50.347Z"
   },
   {
    "duration": 8,
    "start_time": "2022-01-31T19:54:50.354Z"
   },
   {
    "duration": 6,
    "start_time": "2022-01-31T19:54:50.364Z"
   },
   {
    "duration": 26,
    "start_time": "2022-01-31T19:54:50.372Z"
   },
   {
    "duration": 2405,
    "start_time": "2022-01-31T19:54:50.400Z"
   },
   {
    "duration": 92,
    "start_time": "2022-01-31T19:54:52.808Z"
   },
   {
    "duration": -460,
    "start_time": "2022-01-31T19:54:53.362Z"
   },
   {
    "duration": -461,
    "start_time": "2022-01-31T19:54:53.364Z"
   },
   {
    "duration": -462,
    "start_time": "2022-01-31T19:54:53.366Z"
   },
   {
    "duration": -466,
    "start_time": "2022-01-31T19:54:53.372Z"
   },
   {
    "duration": -468,
    "start_time": "2022-01-31T19:54:53.375Z"
   },
   {
    "duration": -469,
    "start_time": "2022-01-31T19:54:53.377Z"
   },
   {
    "duration": -469,
    "start_time": "2022-01-31T19:54:53.379Z"
   },
   {
    "duration": -470,
    "start_time": "2022-01-31T19:54:53.381Z"
   },
   {
    "duration": -471,
    "start_time": "2022-01-31T19:54:53.383Z"
   },
   {
    "duration": -472,
    "start_time": "2022-01-31T19:54:53.385Z"
   },
   {
    "duration": -473,
    "start_time": "2022-01-31T19:54:53.388Z"
   },
   {
    "duration": 324,
    "start_time": "2022-01-31T20:18:59.601Z"
   },
   {
    "duration": 222,
    "start_time": "2022-01-31T20:19:34.915Z"
   },
   {
    "duration": 1405,
    "start_time": "2022-01-31T20:19:36.535Z"
   },
   {
    "duration": 4,
    "start_time": "2022-01-31T20:20:10.570Z"
   },
   {
    "duration": 2779,
    "start_time": "2022-01-31T20:20:12.225Z"
   },
   {
    "duration": 125,
    "start_time": "2022-01-31T20:21:28.369Z"
   },
   {
    "duration": 76,
    "start_time": "2022-01-31T20:21:35.672Z"
   },
   {
    "duration": 1254,
    "start_time": "2022-01-31T20:26:58.554Z"
   },
   {
    "duration": 886,
    "start_time": "2022-01-31T20:26:59.810Z"
   },
   {
    "duration": 18,
    "start_time": "2022-01-31T20:27:00.698Z"
   },
   {
    "duration": 19,
    "start_time": "2022-01-31T20:27:00.719Z"
   },
   {
    "duration": 29,
    "start_time": "2022-01-31T20:27:00.740Z"
   },
   {
    "duration": 34,
    "start_time": "2022-01-31T20:27:00.771Z"
   },
   {
    "duration": 19,
    "start_time": "2022-01-31T20:27:00.807Z"
   },
   {
    "duration": 26,
    "start_time": "2022-01-31T20:27:00.827Z"
   },
   {
    "duration": 32,
    "start_time": "2022-01-31T20:27:00.856Z"
   },
   {
    "duration": 7,
    "start_time": "2022-01-31T20:27:00.891Z"
   },
   {
    "duration": 532,
    "start_time": "2022-01-31T20:27:00.899Z"
   },
   {
    "duration": 27,
    "start_time": "2022-01-31T20:27:01.433Z"
   },
   {
    "duration": 44,
    "start_time": "2022-01-31T20:27:01.462Z"
   },
   {
    "duration": 25,
    "start_time": "2022-01-31T20:27:01.508Z"
   },
   {
    "duration": 532,
    "start_time": "2022-01-31T20:27:01.535Z"
   },
   {
    "duration": 36,
    "start_time": "2022-01-31T20:27:02.069Z"
   },
   {
    "duration": 21,
    "start_time": "2022-01-31T20:27:02.107Z"
   },
   {
    "duration": 1069,
    "start_time": "2022-01-31T20:27:02.130Z"
   },
   {
    "duration": 990,
    "start_time": "2022-01-31T20:27:03.201Z"
   },
   {
    "duration": 1000,
    "start_time": "2022-01-31T20:27:04.194Z"
   },
   {
    "duration": 1272,
    "start_time": "2022-01-31T20:27:05.198Z"
   },
   {
    "duration": 762,
    "start_time": "2022-01-31T20:27:06.472Z"
   },
   {
    "duration": 7,
    "start_time": "2022-01-31T20:27:07.235Z"
   },
   {
    "duration": 996,
    "start_time": "2022-01-31T20:27:07.244Z"
   },
   {
    "duration": 1057,
    "start_time": "2022-01-31T20:27:08.243Z"
   },
   {
    "duration": 19,
    "start_time": "2022-01-31T20:27:09.302Z"
   },
   {
    "duration": 7,
    "start_time": "2022-01-31T20:27:09.325Z"
   },
   {
    "duration": 7,
    "start_time": "2022-01-31T20:27:09.335Z"
   },
   {
    "duration": 10,
    "start_time": "2022-01-31T20:27:09.344Z"
   },
   {
    "duration": 7,
    "start_time": "2022-01-31T20:27:09.356Z"
   },
   {
    "duration": 7,
    "start_time": "2022-01-31T20:27:09.365Z"
   },
   {
    "duration": 4,
    "start_time": "2022-01-31T20:27:09.398Z"
   },
   {
    "duration": 2702,
    "start_time": "2022-01-31T20:27:09.404Z"
   },
   {
    "duration": 3293,
    "start_time": "2022-01-31T20:27:12.109Z"
   },
   {
    "duration": 180942,
    "start_time": "2022-01-31T20:27:15.409Z"
   },
   {
    "duration": 33205,
    "start_time": "2022-01-31T20:30:16.404Z"
   },
   {
    "duration": 531371,
    "start_time": "2022-01-31T20:30:49.612Z"
   },
   {
    "duration": 13,
    "start_time": "2022-01-31T20:39:40.985Z"
   },
   {
    "duration": 53954,
    "start_time": "2022-01-31T20:39:41.000Z"
   },
   {
    "duration": 9,
    "start_time": "2022-01-31T20:40:34.956Z"
   },
   {
    "duration": 11,
    "start_time": "2022-01-31T20:40:34.967Z"
   },
   {
    "duration": 30,
    "start_time": "2022-01-31T20:40:34.980Z"
   },
   {
    "duration": 57652,
    "start_time": "2022-01-31T20:40:35.012Z"
   },
   {
    "duration": 432,
    "start_time": "2022-01-31T20:41:32.667Z"
   },
   {
    "duration": 344,
    "start_time": "2022-01-31T20:41:33.102Z"
   },
   {
    "duration": 224,
    "start_time": "2022-01-31T20:41:51.980Z"
   },
   {
    "duration": 10,
    "start_time": "2022-01-31T20:41:53.914Z"
   },
   {
    "duration": 224,
    "start_time": "2022-01-31T20:45:17.780Z"
   },
   {
    "duration": 4,
    "start_time": "2022-01-31T20:45:41.317Z"
   },
   {
    "duration": 5,
    "start_time": "2022-01-31T20:45:50.221Z"
   },
   {
    "duration": 5,
    "start_time": "2022-01-31T20:46:16.126Z"
   },
   {
    "duration": 749,
    "start_time": "2022-01-31T20:46:16.491Z"
   },
   {
    "duration": 18,
    "start_time": "2022-01-31T20:46:17.242Z"
   },
   {
    "duration": 16,
    "start_time": "2022-01-31T20:46:17.262Z"
   },
   {
    "duration": 26,
    "start_time": "2022-01-31T20:46:17.281Z"
   },
   {
    "duration": 18,
    "start_time": "2022-01-31T20:46:17.430Z"
   },
   {
    "duration": 9,
    "start_time": "2022-01-31T20:46:17.993Z"
   },
   {
    "duration": 7,
    "start_time": "2022-01-31T20:46:18.197Z"
   },
   {
    "duration": 14,
    "start_time": "2022-01-31T20:46:18.798Z"
   },
   {
    "duration": 3,
    "start_time": "2022-01-31T20:46:19.405Z"
   },
   {
    "duration": 483,
    "start_time": "2022-01-31T20:46:19.735Z"
   },
   {
    "duration": 26,
    "start_time": "2022-01-31T20:46:20.219Z"
   },
   {
    "duration": 26,
    "start_time": "2022-01-31T20:46:20.313Z"
   },
   {
    "duration": 19,
    "start_time": "2022-01-31T20:46:20.698Z"
   },
   {
    "duration": 489,
    "start_time": "2022-01-31T20:46:20.929Z"
   },
   {
    "duration": 24,
    "start_time": "2022-01-31T20:46:21.420Z"
   },
   {
    "duration": 20,
    "start_time": "2022-01-31T20:46:21.446Z"
   },
   {
    "duration": 931,
    "start_time": "2022-01-31T20:46:22.334Z"
   },
   {
    "duration": 1045,
    "start_time": "2022-01-31T20:46:23.267Z"
   },
   {
    "duration": 944,
    "start_time": "2022-01-31T20:46:24.315Z"
   },
   {
    "duration": 1180,
    "start_time": "2022-01-31T20:46:25.261Z"
   },
   {
    "duration": 742,
    "start_time": "2022-01-31T20:46:26.443Z"
   },
   {
    "duration": 11,
    "start_time": "2022-01-31T20:46:27.187Z"
   },
   {
    "duration": 936,
    "start_time": "2022-01-31T20:46:27.200Z"
   },
   {
    "duration": 1063,
    "start_time": "2022-01-31T20:46:28.138Z"
   },
   {
    "duration": 18,
    "start_time": "2022-01-31T20:46:29.204Z"
   },
   {
    "duration": 7,
    "start_time": "2022-01-31T20:46:30.050Z"
   },
   {
    "duration": 3,
    "start_time": "2022-01-31T20:46:30.396Z"
   },
   {
    "duration": 5,
    "start_time": "2022-01-31T20:46:31.200Z"
   },
   {
    "duration": 5,
    "start_time": "2022-01-31T20:46:31.374Z"
   },
   {
    "duration": 5,
    "start_time": "2022-01-31T20:46:31.730Z"
   },
   {
    "duration": 4,
    "start_time": "2022-01-31T20:46:34.920Z"
   },
   {
    "duration": 2675,
    "start_time": "2022-01-31T20:46:35.127Z"
   },
   {
    "duration": 2769,
    "start_time": "2022-01-31T20:46:39.033Z"
   },
   {
    "duration": 190345,
    "start_time": "2022-01-31T20:46:41.805Z"
   },
   {
    "duration": 38400,
    "start_time": "2022-01-31T20:49:52.201Z"
   },
   {
    "duration": 529244,
    "start_time": "2022-01-31T20:50:30.610Z"
   },
   {
    "duration": 8,
    "start_time": "2022-01-31T20:59:19.856Z"
   },
   {
    "duration": 6,
    "start_time": "2022-01-31T21:05:43.933Z"
   },
   {
    "duration": 49,
    "start_time": "2022-01-31T21:06:05.057Z"
   },
   {
    "duration": 29,
    "start_time": "2022-01-31T21:06:08.963Z"
   },
   {
    "duration": 62,
    "start_time": "2022-01-31T21:07:46.303Z"
   },
   {
    "duration": 87,
    "start_time": "2022-01-31T21:07:57.343Z"
   },
   {
    "duration": 3,
    "start_time": "2022-01-31T21:08:03.470Z"
   },
   {
    "duration": 5,
    "start_time": "2022-01-31T21:08:05.939Z"
   },
   {
    "duration": 5337,
    "start_time": "2022-01-31T21:08:37.209Z"
   },
   {
    "duration": 26,
    "start_time": "2022-01-31T21:09:05.205Z"
   },
   {
    "duration": 6659,
    "start_time": "2022-01-31T21:15:35.781Z"
   },
   {
    "duration": 31,
    "start_time": "2022-01-31T21:16:03.101Z"
   },
   {
    "duration": 5523,
    "start_time": "2022-01-31T21:17:47.690Z"
   },
   {
    "duration": 225,
    "start_time": "2022-01-31T21:18:28.503Z"
   },
   {
    "duration": 20,
    "start_time": "2022-01-31T21:18:41.598Z"
   },
   {
    "duration": 302,
    "start_time": "2022-02-01T19:20:58.896Z"
   },
   {
    "duration": 1591,
    "start_time": "2022-02-01T19:24:29.126Z"
   },
   {
    "duration": 1082,
    "start_time": "2022-02-01T19:24:30.720Z"
   },
   {
    "duration": 27,
    "start_time": "2022-02-01T19:24:31.806Z"
   },
   {
    "duration": 20,
    "start_time": "2022-02-01T19:24:31.847Z"
   },
   {
    "duration": 17,
    "start_time": "2022-02-01T19:24:31.870Z"
   },
   {
    "duration": 25,
    "start_time": "2022-02-01T19:24:31.889Z"
   },
   {
    "duration": 43,
    "start_time": "2022-02-01T19:24:31.917Z"
   },
   {
    "duration": 31,
    "start_time": "2022-02-01T19:24:31.964Z"
   },
   {
    "duration": 23,
    "start_time": "2022-02-01T19:24:31.998Z"
   },
   {
    "duration": 5,
    "start_time": "2022-02-01T19:24:32.543Z"
   },
   {
    "duration": 696,
    "start_time": "2022-02-01T19:24:32.918Z"
   },
   {
    "duration": 49,
    "start_time": "2022-02-01T19:24:33.617Z"
   },
   {
    "duration": 51,
    "start_time": "2022-02-01T19:24:33.669Z"
   },
   {
    "duration": 38,
    "start_time": "2022-02-01T19:24:33.938Z"
   },
   {
    "duration": 668,
    "start_time": "2022-02-01T19:24:34.135Z"
   },
   {
    "duration": 46,
    "start_time": "2022-02-01T19:24:34.805Z"
   },
   {
    "duration": 55,
    "start_time": "2022-02-01T19:24:34.854Z"
   },
   {
    "duration": 1348,
    "start_time": "2022-02-01T19:24:35.687Z"
   },
   {
    "duration": 1381,
    "start_time": "2022-02-01T19:24:37.038Z"
   },
   {
    "duration": 1441,
    "start_time": "2022-02-01T19:24:38.422Z"
   },
   {
    "duration": 1676,
    "start_time": "2022-02-01T19:24:39.867Z"
   },
   {
    "duration": 1024,
    "start_time": "2022-02-01T19:24:41.550Z"
   },
   {
    "duration": 9,
    "start_time": "2022-02-01T19:24:42.577Z"
   },
   {
    "duration": 1296,
    "start_time": "2022-02-01T19:24:42.589Z"
   },
   {
    "duration": 1345,
    "start_time": "2022-02-01T19:24:43.889Z"
   },
   {
    "duration": 34,
    "start_time": "2022-02-01T19:24:45.237Z"
   },
   {
    "duration": 8,
    "start_time": "2022-02-01T19:24:45.274Z"
   },
   {
    "duration": 26,
    "start_time": "2022-02-01T19:24:45.284Z"
   },
   {
    "duration": 11,
    "start_time": "2022-02-01T19:24:45.313Z"
   },
   {
    "duration": 21,
    "start_time": "2022-02-01T19:24:45.326Z"
   },
   {
    "duration": 12,
    "start_time": "2022-02-01T19:24:45.350Z"
   },
   {
    "duration": 5,
    "start_time": "2022-02-01T19:24:45.975Z"
   },
   {
    "duration": 3054,
    "start_time": "2022-02-01T19:24:46.194Z"
   },
   {
    "duration": 2899,
    "start_time": "2022-02-01T19:24:49.251Z"
   },
   {
    "duration": 173801,
    "start_time": "2022-02-01T19:24:52.154Z"
   },
   {
    "duration": 36595,
    "start_time": "2022-02-01T19:27:45.958Z"
   },
   {
    "duration": 626419,
    "start_time": "2022-02-01T19:28:22.556Z"
   },
   {
    "duration": 503,
    "start_time": "2022-02-01T19:38:48.978Z"
   },
   {
    "duration": -1514,
    "start_time": "2022-02-01T19:38:50.998Z"
   },
   {
    "duration": -1518,
    "start_time": "2022-02-01T19:38:51.004Z"
   },
   {
    "duration": 45,
    "start_time": "2022-02-01T19:39:10.512Z"
   },
   {
    "duration": 233,
    "start_time": "2022-02-01T19:40:14.518Z"
   },
   {
    "duration": 253,
    "start_time": "2022-02-01T19:40:26.310Z"
   },
   {
    "duration": 7,
    "start_time": "2022-02-01T19:40:35.247Z"
   },
   {
    "duration": 325,
    "start_time": "2022-02-01T19:40:36.810Z"
   },
   {
    "duration": 8,
    "start_time": "2022-02-01T19:40:53.147Z"
   },
   {
    "duration": 265,
    "start_time": "2022-02-01T19:40:53.810Z"
   },
   {
    "duration": 243,
    "start_time": "2022-02-01T19:41:36.265Z"
   },
   {
    "duration": 233,
    "start_time": "2022-02-01T19:41:48.355Z"
   },
   {
    "duration": 7073,
    "start_time": "2022-02-01T19:43:40.131Z"
   },
   {
    "duration": 16,
    "start_time": "2022-02-01T19:44:03.933Z"
   },
   {
    "duration": 6556,
    "start_time": "2022-02-01T19:44:47.557Z"
   },
   {
    "duration": 39,
    "start_time": "2022-02-01T19:45:03.484Z"
   },
   {
    "duration": 259,
    "start_time": "2022-02-01T19:45:29.386Z"
   },
   {
    "duration": 39,
    "start_time": "2022-02-01T19:46:10.686Z"
   },
   {
    "duration": 37,
    "start_time": "2022-02-01T19:46:52.577Z"
   },
   {
    "duration": 44,
    "start_time": "2022-02-01T19:46:57.768Z"
   },
   {
    "duration": 52,
    "start_time": "2022-02-01T19:53:12.044Z"
   },
   {
    "duration": 17,
    "start_time": "2022-02-01T19:54:24.901Z"
   },
   {
    "duration": 301,
    "start_time": "2022-02-01T19:54:26.716Z"
   },
   {
    "duration": 7,
    "start_time": "2022-02-01T19:54:49.934Z"
   },
   {
    "duration": 5,
    "start_time": "2022-02-01T19:54:58.235Z"
   },
   {
    "duration": 283,
    "start_time": "2022-02-01T19:55:00.413Z"
   },
   {
    "duration": 6,
    "start_time": "2022-02-01T19:55:08.972Z"
   },
   {
    "duration": 57,
    "start_time": "2022-02-01T19:55:35.530Z"
   },
   {
    "duration": 8,
    "start_time": "2022-02-01T19:56:23.294Z"
   },
   {
    "duration": 43,
    "start_time": "2022-02-01T19:56:50.470Z"
   },
   {
    "duration": 18,
    "start_time": "2022-02-01T19:57:10.595Z"
   },
   {
    "duration": 8,
    "start_time": "2022-02-01T19:57:11.562Z"
   },
   {
    "duration": 6,
    "start_time": "2022-02-01T19:57:12.139Z"
   },
   {
    "duration": 463,
    "start_time": "2022-02-01T19:57:14.919Z"
   },
   {
    "duration": 63,
    "start_time": "2022-02-01T19:57:43.112Z"
   },
   {
    "duration": 11,
    "start_time": "2022-02-01T19:58:28.518Z"
   },
   {
    "duration": 9,
    "start_time": "2022-02-01T19:58:31.538Z"
   },
   {
    "duration": 25,
    "start_time": "2022-02-01T20:00:30.444Z"
   },
   {
    "duration": 80,
    "start_time": "2022-02-01T20:01:39.681Z"
   },
   {
    "duration": 18,
    "start_time": "2022-02-01T20:02:49.773Z"
   },
   {
    "duration": 9,
    "start_time": "2022-02-01T20:02:51.176Z"
   },
   {
    "duration": 6,
    "start_time": "2022-02-01T20:02:51.732Z"
   },
   {
    "duration": 14,
    "start_time": "2022-02-01T20:02:52.490Z"
   },
   {
    "duration": 7,
    "start_time": "2022-02-01T20:02:53.167Z"
   },
   {
    "duration": 1972,
    "start_time": "2022-02-01T20:03:14.902Z"
   },
   {
    "duration": 1448,
    "start_time": "2022-02-01T20:03:16.878Z"
   },
   {
    "duration": 42,
    "start_time": "2022-02-01T20:03:18.330Z"
   },
   {
    "duration": 20,
    "start_time": "2022-02-01T20:03:18.375Z"
   },
   {
    "duration": 18,
    "start_time": "2022-02-01T20:03:18.398Z"
   },
   {
    "duration": 65,
    "start_time": "2022-02-01T20:03:18.419Z"
   },
   {
    "duration": 17,
    "start_time": "2022-02-01T20:03:18.486Z"
   },
   {
    "duration": 44,
    "start_time": "2022-02-01T20:03:18.506Z"
   },
   {
    "duration": 25,
    "start_time": "2022-02-01T20:03:18.555Z"
   },
   {
    "duration": 13,
    "start_time": "2022-02-01T20:03:18.583Z"
   },
   {
    "duration": 888,
    "start_time": "2022-02-01T20:03:18.599Z"
   },
   {
    "duration": 61,
    "start_time": "2022-02-01T20:03:19.490Z"
   },
   {
    "duration": 40,
    "start_time": "2022-02-01T20:03:19.556Z"
   },
   {
    "duration": 57,
    "start_time": "2022-02-01T20:03:19.599Z"
   },
   {
    "duration": 772,
    "start_time": "2022-02-01T20:03:19.659Z"
   },
   {
    "duration": 57,
    "start_time": "2022-02-01T20:03:20.433Z"
   },
   {
    "duration": 27,
    "start_time": "2022-02-01T20:03:20.492Z"
   },
   {
    "duration": 1520,
    "start_time": "2022-02-01T20:03:20.522Z"
   },
   {
    "duration": 1422,
    "start_time": "2022-02-01T20:03:22.044Z"
   },
   {
    "duration": 1735,
    "start_time": "2022-02-01T20:03:23.468Z"
   },
   {
    "duration": 1868,
    "start_time": "2022-02-01T20:03:25.206Z"
   },
   {
    "duration": 1671,
    "start_time": "2022-02-01T20:03:27.078Z"
   },
   {
    "duration": 11,
    "start_time": "2022-02-01T20:03:28.752Z"
   },
   {
    "duration": 2226,
    "start_time": "2022-02-01T20:03:28.766Z"
   },
   {
    "duration": 2143,
    "start_time": "2022-02-01T20:03:30.995Z"
   },
   {
    "duration": 34,
    "start_time": "2022-02-01T20:03:33.141Z"
   },
   {
    "duration": 9,
    "start_time": "2022-02-01T20:03:33.181Z"
   },
   {
    "duration": 6,
    "start_time": "2022-02-01T20:03:33.193Z"
   },
   {
    "duration": 14,
    "start_time": "2022-02-01T20:03:33.202Z"
   },
   {
    "duration": 33,
    "start_time": "2022-02-01T20:03:33.218Z"
   },
   {
    "duration": 58,
    "start_time": "2022-02-01T20:03:33.254Z"
   },
   {
    "duration": 7,
    "start_time": "2022-02-01T20:03:33.315Z"
   },
   {
    "duration": 25,
    "start_time": "2022-02-01T20:03:33.325Z"
   },
   {
    "duration": 3302,
    "start_time": "2022-02-01T20:03:33.353Z"
   },
   {
    "duration": 3890,
    "start_time": "2022-02-01T20:03:36.663Z"
   },
   {
    "duration": 247499,
    "start_time": "2022-02-01T20:03:40.561Z"
   },
   {
    "duration": 39587,
    "start_time": "2022-02-01T20:07:48.063Z"
   },
   {
    "duration": 745519,
    "start_time": "2022-02-01T20:08:27.654Z"
   },
   {
    "duration": 45,
    "start_time": "2022-02-01T20:20:53.176Z"
   },
   {
    "duration": 44,
    "start_time": "2022-02-01T20:20:53.224Z"
   },
   {
    "duration": 10,
    "start_time": "2022-02-01T20:20:53.271Z"
   },
   {
    "duration": 7,
    "start_time": "2022-02-01T20:20:53.284Z"
   },
   {
    "duration": 56,
    "start_time": "2022-02-01T20:20:53.294Z"
   },
   {
    "duration": 9,
    "start_time": "2022-02-01T20:20:53.353Z"
   },
   {
    "duration": 88861,
    "start_time": "2022-02-01T20:20:53.365Z"
   },
   {
    "duration": 28,
    "start_time": "2022-02-01T20:22:22.229Z"
   },
   {
    "duration": 20,
    "start_time": "2022-02-01T20:22:22.260Z"
   },
   {
    "duration": 22,
    "start_time": "2022-02-01T20:22:22.284Z"
   },
   {
    "duration": 579,
    "start_time": "2022-02-01T20:22:22.309Z"
   },
   {
    "duration": 705,
    "start_time": "2022-02-01T20:22:22.890Z"
   },
   {
    "duration": 1599,
    "start_time": "2022-02-01T21:02:32.849Z"
   },
   {
    "duration": 1098,
    "start_time": "2022-02-01T21:02:34.452Z"
   },
   {
    "duration": 30,
    "start_time": "2022-02-01T21:02:35.554Z"
   },
   {
    "duration": 19,
    "start_time": "2022-02-01T21:02:35.587Z"
   },
   {
    "duration": 51,
    "start_time": "2022-02-01T21:02:35.609Z"
   },
   {
    "duration": 33,
    "start_time": "2022-02-01T21:02:35.663Z"
   },
   {
    "duration": 21,
    "start_time": "2022-02-01T21:02:35.698Z"
   },
   {
    "duration": 31,
    "start_time": "2022-02-01T21:02:35.723Z"
   },
   {
    "duration": 39,
    "start_time": "2022-02-01T21:02:35.758Z"
   },
   {
    "duration": 6,
    "start_time": "2022-02-01T21:02:35.799Z"
   },
   {
    "duration": 794,
    "start_time": "2022-02-01T21:02:35.807Z"
   },
   {
    "duration": 59,
    "start_time": "2022-02-01T21:02:36.604Z"
   },
   {
    "duration": 40,
    "start_time": "2022-02-01T21:02:36.666Z"
   },
   {
    "duration": 60,
    "start_time": "2022-02-01T21:02:36.709Z"
   },
   {
    "duration": 864,
    "start_time": "2022-02-01T21:02:36.772Z"
   },
   {
    "duration": 57,
    "start_time": "2022-02-01T21:02:37.638Z"
   },
   {
    "duration": 59,
    "start_time": "2022-02-01T21:02:37.698Z"
   },
   {
    "duration": 1545,
    "start_time": "2022-02-01T21:02:37.760Z"
   },
   {
    "duration": 1502,
    "start_time": "2022-02-01T21:02:39.308Z"
   },
   {
    "duration": 1475,
    "start_time": "2022-02-01T21:02:40.813Z"
   },
   {
    "duration": 1779,
    "start_time": "2022-02-01T21:02:42.291Z"
   },
   {
    "duration": 1075,
    "start_time": "2022-02-01T21:02:44.073Z"
   },
   {
    "duration": 10,
    "start_time": "2022-02-01T21:02:45.155Z"
   },
   {
    "duration": 2110,
    "start_time": "2022-02-01T21:02:45.170Z"
   },
   {
    "duration": 1433,
    "start_time": "2022-02-01T21:02:47.282Z"
   },
   {
    "duration": 38,
    "start_time": "2022-02-01T21:02:48.718Z"
   },
   {
    "duration": 11,
    "start_time": "2022-02-01T21:02:48.759Z"
   },
   {
    "duration": 8,
    "start_time": "2022-02-01T21:02:48.773Z"
   },
   {
    "duration": 13,
    "start_time": "2022-02-01T21:02:48.784Z"
   },
   {
    "duration": 13,
    "start_time": "2022-02-01T21:02:48.799Z"
   },
   {
    "duration": 73,
    "start_time": "2022-02-01T21:02:48.814Z"
   },
   {
    "duration": 5,
    "start_time": "2022-02-01T21:02:48.890Z"
   },
   {
    "duration": 25,
    "start_time": "2022-02-01T21:02:48.899Z"
   },
   {
    "duration": 4535,
    "start_time": "2022-02-01T21:02:48.927Z"
   },
   {
    "duration": 4001,
    "start_time": "2022-02-01T21:02:53.549Z"
   },
   {
    "duration": 268796,
    "start_time": "2022-02-01T21:02:57.554Z"
   },
   {
    "duration": 51903,
    "start_time": "2022-02-01T21:07:26.354Z"
   },
   {
    "duration": 663858,
    "start_time": "2022-02-01T21:08:18.260Z"
   },
   {
    "duration": 60,
    "start_time": "2022-02-01T21:19:22.121Z"
   },
   {
    "duration": 3,
    "start_time": "2022-02-01T21:19:22.184Z"
   },
   {
    "duration": 7,
    "start_time": "2022-02-01T21:19:22.189Z"
   },
   {
    "duration": 8,
    "start_time": "2022-02-01T21:19:22.199Z"
   },
   {
    "duration": 6,
    "start_time": "2022-02-01T21:19:22.211Z"
   },
   {
    "duration": 4,
    "start_time": "2022-02-01T21:19:22.250Z"
   },
   {
    "duration": 960,
    "start_time": "2022-02-01T21:19:22.257Z"
   },
   {
    "duration": 254,
    "start_time": "2022-02-01T21:19:23.220Z"
   },
   {
    "duration": -1552,
    "start_time": "2022-02-01T21:19:25.030Z"
   },
   {
    "duration": -1553,
    "start_time": "2022-02-01T21:19:25.032Z"
   },
   {
    "duration": -1553,
    "start_time": "2022-02-01T21:19:25.034Z"
   },
   {
    "duration": -1554,
    "start_time": "2022-02-01T21:19:25.037Z"
   },
   {
    "duration": 6,
    "start_time": "2022-02-01T21:20:16.495Z"
   },
   {
    "duration": 541,
    "start_time": "2022-02-01T21:20:20.004Z"
   },
   {
    "duration": 7,
    "start_time": "2022-02-01T21:20:35.818Z"
   },
   {
    "duration": 94511,
    "start_time": "2022-02-01T21:20:37.545Z"
   },
   {
    "duration": 16,
    "start_time": "2022-02-01T21:22:12.059Z"
   },
   {
    "duration": 8,
    "start_time": "2022-02-01T21:22:22.360Z"
   },
   {
    "duration": 7,
    "start_time": "2022-02-01T21:22:23.246Z"
   },
   {
    "duration": 13,
    "start_time": "2022-02-01T21:22:30.998Z"
   },
   {
    "duration": 23,
    "start_time": "2022-02-01T21:22:31.849Z"
   },
   {
    "duration": 1405,
    "start_time": "2022-02-01T21:22:44.582Z"
   },
   {
    "duration": 1042,
    "start_time": "2022-02-01T21:22:45.990Z"
   },
   {
    "duration": 37,
    "start_time": "2022-02-01T21:22:47.036Z"
   },
   {
    "duration": 28,
    "start_time": "2022-02-01T21:22:47.077Z"
   },
   {
    "duration": 46,
    "start_time": "2022-02-01T21:22:47.109Z"
   },
   {
    "duration": 28,
    "start_time": "2022-02-01T21:22:47.158Z"
   },
   {
    "duration": 17,
    "start_time": "2022-02-01T21:22:47.189Z"
   },
   {
    "duration": 53,
    "start_time": "2022-02-01T21:22:47.209Z"
   },
   {
    "duration": 32,
    "start_time": "2022-02-01T21:22:47.266Z"
   },
   {
    "duration": 4,
    "start_time": "2022-02-01T21:22:47.301Z"
   },
   {
    "duration": 735,
    "start_time": "2022-02-01T21:22:47.307Z"
   },
   {
    "duration": 36,
    "start_time": "2022-02-01T21:22:48.049Z"
   },
   {
    "duration": 34,
    "start_time": "2022-02-01T21:22:48.088Z"
   },
   {
    "duration": 37,
    "start_time": "2022-02-01T21:22:48.150Z"
   },
   {
    "duration": 1080,
    "start_time": "2022-02-01T21:22:48.190Z"
   },
   {
    "duration": 37,
    "start_time": "2022-02-01T21:22:49.273Z"
   },
   {
    "duration": 67,
    "start_time": "2022-02-01T21:22:49.314Z"
   },
   {
    "duration": 2299,
    "start_time": "2022-02-01T21:22:49.385Z"
   },
   {
    "duration": 1413,
    "start_time": "2022-02-01T21:22:51.687Z"
   },
   {
    "duration": 2197,
    "start_time": "2022-02-01T21:22:53.103Z"
   },
   {
    "duration": 2676,
    "start_time": "2022-02-01T21:22:55.303Z"
   },
   {
    "duration": 1086,
    "start_time": "2022-02-01T21:22:57.981Z"
   },
   {
    "duration": 8,
    "start_time": "2022-02-01T21:22:59.070Z"
   },
   {
    "duration": 1355,
    "start_time": "2022-02-01T21:22:59.081Z"
   },
   {
    "duration": 1431,
    "start_time": "2022-02-01T21:23:00.439Z"
   },
   {
    "duration": 37,
    "start_time": "2022-02-01T21:23:01.873Z"
   },
   {
    "duration": 31,
    "start_time": "2022-02-01T21:23:01.919Z"
   },
   {
    "duration": 18,
    "start_time": "2022-02-01T21:23:01.954Z"
   },
   {
    "duration": 15,
    "start_time": "2022-02-01T21:23:01.975Z"
   },
   {
    "duration": 16,
    "start_time": "2022-02-01T21:23:01.994Z"
   },
   {
    "duration": 75,
    "start_time": "2022-02-01T21:23:02.014Z"
   },
   {
    "duration": 8,
    "start_time": "2022-02-01T21:23:02.092Z"
   },
   {
    "duration": 20,
    "start_time": "2022-02-01T21:23:02.104Z"
   },
   {
    "duration": 5529,
    "start_time": "2022-02-01T21:23:02.128Z"
   },
   {
    "duration": 3391,
    "start_time": "2022-02-01T21:23:07.659Z"
   },
   {
    "duration": 235199,
    "start_time": "2022-02-01T21:23:11.053Z"
   },
   {
    "duration": 43798,
    "start_time": "2022-02-01T21:27:06.256Z"
   },
   {
    "duration": 672462,
    "start_time": "2022-02-01T21:27:50.057Z"
   },
   {
    "duration": 40,
    "start_time": "2022-02-01T21:39:02.521Z"
   },
   {
    "duration": 8,
    "start_time": "2022-02-01T21:39:02.563Z"
   },
   {
    "duration": 21,
    "start_time": "2022-02-01T21:39:02.573Z"
   },
   {
    "duration": 27,
    "start_time": "2022-02-01T21:39:02.597Z"
   },
   {
    "duration": 30,
    "start_time": "2022-02-01T21:39:02.627Z"
   },
   {
    "duration": 11,
    "start_time": "2022-02-01T21:39:02.661Z"
   },
   {
    "duration": 66102,
    "start_time": "2022-02-01T21:39:02.675Z"
   },
   {
    "duration": 13,
    "start_time": "2022-02-01T21:40:08.780Z"
   },
   {
    "duration": 17,
    "start_time": "2022-02-01T21:40:08.796Z"
   },
   {
    "duration": 51,
    "start_time": "2022-02-01T21:40:08.816Z"
   },
   {
    "duration": 70912,
    "start_time": "2022-02-01T21:40:08.870Z"
   },
   {
    "duration": 465,
    "start_time": "2022-02-01T21:41:19.785Z"
   }
  ],
  "kernelspec": {
   "display_name": "Python 3 (ipykernel)",
   "language": "python",
   "name": "python3"
  },
  "language_info": {
   "codemirror_mode": {
    "name": "ipython",
    "version": 3
   },
   "file_extension": ".py",
   "mimetype": "text/x-python",
   "name": "python",
   "nbconvert_exporter": "python",
   "pygments_lexer": "ipython3",
   "version": "3.9.7"
  },
  "toc": {
   "base_numbering": 1,
   "nav_menu": {},
   "number_sections": true,
   "sideBar": true,
   "skip_h1_title": true,
   "title_cell": "Содержание",
   "title_sidebar": "Contents",
   "toc_cell": true,
   "toc_position": {},
   "toc_section_display": true,
   "toc_window_display": false
  }
 },
 "nbformat": 4,
 "nbformat_minor": 2
}
