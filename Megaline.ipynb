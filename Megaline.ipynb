{
 "cells": [
  {
   "cell_type": "markdown",
   "metadata": {},
   "source": [
    "# Рекомендация тарифов"
   ]
  },
  {
   "cell_type": "markdown",
   "metadata": {},
   "source": [
    "В вашем распоряжении данные о поведении клиентов, которые уже перешли на эти тарифы (из проекта курса «Статистический анализ данных»). Нужно построить модель для задачи классификации, которая выберет подходящий тариф. Предобработка данных не понадобится — вы её уже сделали.\n",
    "\n",
    "Постройте модель с максимально большим значением *accuracy*. Чтобы сдать проект успешно, нужно довести долю правильных ответов по крайней мере до 0.75. Проверьте *accuracy* на тестовой выборке самостоятельно."
   ]
  },
  {
   "cell_type": "markdown",
   "metadata": {},
   "source": [
    "## Откройте и изучите файл"
   ]
  },
  {
   "cell_type": "code",
   "execution_count": 1,
   "metadata": {},
   "outputs": [],
   "source": [
    "import pandas as pd\n",
    "from sklearn.model_selection import train_test_split\n",
    "from sklearn.tree import DecisionTreeClassifier \n",
    "from sklearn.ensemble import RandomForestClassifier\n",
    "from sklearn.linear_model import LogisticRegression\n",
    "from sklearn.metrics import accuracy_score\n",
    "from sklearn.metrics import precision_score\n",
    "from sklearn.metrics import recall_score\n",
    "from sklearn.metrics import f1_score\n",
    "import warnings\n",
    "warnings.filterwarnings('ignore')"
   ]
  },
  {
   "cell_type": "code",
   "execution_count": 2,
   "metadata": {},
   "outputs": [],
   "source": [
    "data = pd.read_csv('/datasets/users_behavior.csv')\n"
   ]
  },
  {
   "cell_type": "code",
   "execution_count": 3,
   "metadata": {},
   "outputs": [
    {
     "data": {
      "text/html": [
       "<div>\n",
       "<style scoped>\n",
       "    .dataframe tbody tr th:only-of-type {\n",
       "        vertical-align: middle;\n",
       "    }\n",
       "\n",
       "    .dataframe tbody tr th {\n",
       "        vertical-align: top;\n",
       "    }\n",
       "\n",
       "    .dataframe thead th {\n",
       "        text-align: right;\n",
       "    }\n",
       "</style>\n",
       "<table border=\"1\" class=\"dataframe\">\n",
       "  <thead>\n",
       "    <tr style=\"text-align: right;\">\n",
       "      <th></th>\n",
       "      <th>calls</th>\n",
       "      <th>minutes</th>\n",
       "      <th>messages</th>\n",
       "      <th>mb_used</th>\n",
       "      <th>is_ultra</th>\n",
       "    </tr>\n",
       "  </thead>\n",
       "  <tbody>\n",
       "    <tr>\n",
       "      <td>0</td>\n",
       "      <td>40.0</td>\n",
       "      <td>311.90</td>\n",
       "      <td>83.0</td>\n",
       "      <td>19915.42</td>\n",
       "      <td>0</td>\n",
       "    </tr>\n",
       "    <tr>\n",
       "      <td>1</td>\n",
       "      <td>85.0</td>\n",
       "      <td>516.75</td>\n",
       "      <td>56.0</td>\n",
       "      <td>22696.96</td>\n",
       "      <td>0</td>\n",
       "    </tr>\n",
       "    <tr>\n",
       "      <td>2</td>\n",
       "      <td>77.0</td>\n",
       "      <td>467.66</td>\n",
       "      <td>86.0</td>\n",
       "      <td>21060.45</td>\n",
       "      <td>0</td>\n",
       "    </tr>\n",
       "    <tr>\n",
       "      <td>3</td>\n",
       "      <td>106.0</td>\n",
       "      <td>745.53</td>\n",
       "      <td>81.0</td>\n",
       "      <td>8437.39</td>\n",
       "      <td>1</td>\n",
       "    </tr>\n",
       "    <tr>\n",
       "      <td>4</td>\n",
       "      <td>66.0</td>\n",
       "      <td>418.74</td>\n",
       "      <td>1.0</td>\n",
       "      <td>14502.75</td>\n",
       "      <td>0</td>\n",
       "    </tr>\n",
       "    <tr>\n",
       "      <td>...</td>\n",
       "      <td>...</td>\n",
       "      <td>...</td>\n",
       "      <td>...</td>\n",
       "      <td>...</td>\n",
       "      <td>...</td>\n",
       "    </tr>\n",
       "    <tr>\n",
       "      <td>3209</td>\n",
       "      <td>122.0</td>\n",
       "      <td>910.98</td>\n",
       "      <td>20.0</td>\n",
       "      <td>35124.90</td>\n",
       "      <td>1</td>\n",
       "    </tr>\n",
       "    <tr>\n",
       "      <td>3210</td>\n",
       "      <td>25.0</td>\n",
       "      <td>190.36</td>\n",
       "      <td>0.0</td>\n",
       "      <td>3275.61</td>\n",
       "      <td>0</td>\n",
       "    </tr>\n",
       "    <tr>\n",
       "      <td>3211</td>\n",
       "      <td>97.0</td>\n",
       "      <td>634.44</td>\n",
       "      <td>70.0</td>\n",
       "      <td>13974.06</td>\n",
       "      <td>0</td>\n",
       "    </tr>\n",
       "    <tr>\n",
       "      <td>3212</td>\n",
       "      <td>64.0</td>\n",
       "      <td>462.32</td>\n",
       "      <td>90.0</td>\n",
       "      <td>31239.78</td>\n",
       "      <td>0</td>\n",
       "    </tr>\n",
       "    <tr>\n",
       "      <td>3213</td>\n",
       "      <td>80.0</td>\n",
       "      <td>566.09</td>\n",
       "      <td>6.0</td>\n",
       "      <td>29480.52</td>\n",
       "      <td>1</td>\n",
       "    </tr>\n",
       "  </tbody>\n",
       "</table>\n",
       "<p>3214 rows × 5 columns</p>\n",
       "</div>"
      ],
      "text/plain": [
       "      calls  minutes  messages   mb_used  is_ultra\n",
       "0      40.0   311.90      83.0  19915.42         0\n",
       "1      85.0   516.75      56.0  22696.96         0\n",
       "2      77.0   467.66      86.0  21060.45         0\n",
       "3     106.0   745.53      81.0   8437.39         1\n",
       "4      66.0   418.74       1.0  14502.75         0\n",
       "...     ...      ...       ...       ...       ...\n",
       "3209  122.0   910.98      20.0  35124.90         1\n",
       "3210   25.0   190.36       0.0   3275.61         0\n",
       "3211   97.0   634.44      70.0  13974.06         0\n",
       "3212   64.0   462.32      90.0  31239.78         0\n",
       "3213   80.0   566.09       6.0  29480.52         1\n",
       "\n",
       "[3214 rows x 5 columns]"
      ]
     },
     "metadata": {},
     "output_type": "display_data"
    },
    {
     "name": "stdout",
     "output_type": "stream",
     "text": [
      "<class 'pandas.core.frame.DataFrame'>\n",
      "RangeIndex: 3214 entries, 0 to 3213\n",
      "Data columns (total 5 columns):\n",
      "calls       3214 non-null float64\n",
      "minutes     3214 non-null float64\n",
      "messages    3214 non-null float64\n",
      "mb_used     3214 non-null float64\n",
      "is_ultra    3214 non-null int64\n",
      "dtypes: float64(4), int64(1)\n",
      "memory usage: 125.7 KB\n"
     ]
    },
    {
     "data": {
      "text/plain": [
       "0"
      ]
     },
     "execution_count": 3,
     "metadata": {},
     "output_type": "execute_result"
    }
   ],
   "source": [
    "display(data)\n",
    "data.info()\n",
    "data.shape\n",
    "data.duplicated().sum()"
   ]
  },
  {
   "cell_type": "code",
   "execution_count": 4,
   "metadata": {},
   "outputs": [
    {
     "data": {
      "text/html": [
       "<div>\n",
       "<style scoped>\n",
       "    .dataframe tbody tr th:only-of-type {\n",
       "        vertical-align: middle;\n",
       "    }\n",
       "\n",
       "    .dataframe tbody tr th {\n",
       "        vertical-align: top;\n",
       "    }\n",
       "\n",
       "    .dataframe thead th {\n",
       "        text-align: right;\n",
       "    }\n",
       "</style>\n",
       "<table border=\"1\" class=\"dataframe\">\n",
       "  <thead>\n",
       "    <tr style=\"text-align: right;\">\n",
       "      <th></th>\n",
       "      <th>calls</th>\n",
       "      <th>minutes</th>\n",
       "      <th>messages</th>\n",
       "      <th>mb_used</th>\n",
       "      <th>is_ultra</th>\n",
       "    </tr>\n",
       "  </thead>\n",
       "  <tbody>\n",
       "    <tr>\n",
       "      <td>count</td>\n",
       "      <td>3214.000000</td>\n",
       "      <td>3214.000000</td>\n",
       "      <td>3214.000000</td>\n",
       "      <td>3214.000000</td>\n",
       "      <td>3214.000000</td>\n",
       "    </tr>\n",
       "    <tr>\n",
       "      <td>mean</td>\n",
       "      <td>63.038892</td>\n",
       "      <td>438.208787</td>\n",
       "      <td>38.281269</td>\n",
       "      <td>17207.673836</td>\n",
       "      <td>0.306472</td>\n",
       "    </tr>\n",
       "    <tr>\n",
       "      <td>std</td>\n",
       "      <td>33.236368</td>\n",
       "      <td>234.569872</td>\n",
       "      <td>36.148326</td>\n",
       "      <td>7570.968246</td>\n",
       "      <td>0.461100</td>\n",
       "    </tr>\n",
       "    <tr>\n",
       "      <td>min</td>\n",
       "      <td>0.000000</td>\n",
       "      <td>0.000000</td>\n",
       "      <td>0.000000</td>\n",
       "      <td>0.000000</td>\n",
       "      <td>0.000000</td>\n",
       "    </tr>\n",
       "    <tr>\n",
       "      <td>25%</td>\n",
       "      <td>40.000000</td>\n",
       "      <td>274.575000</td>\n",
       "      <td>9.000000</td>\n",
       "      <td>12491.902500</td>\n",
       "      <td>0.000000</td>\n",
       "    </tr>\n",
       "    <tr>\n",
       "      <td>50%</td>\n",
       "      <td>62.000000</td>\n",
       "      <td>430.600000</td>\n",
       "      <td>30.000000</td>\n",
       "      <td>16943.235000</td>\n",
       "      <td>0.000000</td>\n",
       "    </tr>\n",
       "    <tr>\n",
       "      <td>75%</td>\n",
       "      <td>82.000000</td>\n",
       "      <td>571.927500</td>\n",
       "      <td>57.000000</td>\n",
       "      <td>21424.700000</td>\n",
       "      <td>1.000000</td>\n",
       "    </tr>\n",
       "    <tr>\n",
       "      <td>max</td>\n",
       "      <td>244.000000</td>\n",
       "      <td>1632.060000</td>\n",
       "      <td>224.000000</td>\n",
       "      <td>49745.730000</td>\n",
       "      <td>1.000000</td>\n",
       "    </tr>\n",
       "  </tbody>\n",
       "</table>\n",
       "</div>"
      ],
      "text/plain": [
       "             calls      minutes     messages       mb_used     is_ultra\n",
       "count  3214.000000  3214.000000  3214.000000   3214.000000  3214.000000\n",
       "mean     63.038892   438.208787    38.281269  17207.673836     0.306472\n",
       "std      33.236368   234.569872    36.148326   7570.968246     0.461100\n",
       "min       0.000000     0.000000     0.000000      0.000000     0.000000\n",
       "25%      40.000000   274.575000     9.000000  12491.902500     0.000000\n",
       "50%      62.000000   430.600000    30.000000  16943.235000     0.000000\n",
       "75%      82.000000   571.927500    57.000000  21424.700000     1.000000\n",
       "max     244.000000  1632.060000   224.000000  49745.730000     1.000000"
      ]
     },
     "execution_count": 4,
     "metadata": {},
     "output_type": "execute_result"
    }
   ],
   "source": [
    "data.describe()"
   ]
  },
  {
   "cell_type": "markdown",
   "metadata": {},
   "source": [
    "Мы получили данные, сделали обзор и убедились, что данные не требуют обработки."
   ]
  },
  {
   "cell_type": "markdown",
   "metadata": {},
   "source": [
    "## Разбейте данные на выборки"
   ]
  },
  {
   "cell_type": "markdown",
   "metadata": {},
   "source": [
    "Разобьем выборку по принципу 60/20/20."
   ]
  },
  {
   "cell_type": "code",
   "execution_count": 5,
   "metadata": {},
   "outputs": [
    {
     "name": "stdout",
     "output_type": "stream",
     "text": [
      "Размер тренериующей выборки 1928\n",
      "Размер валидационной выборки 643\n",
      "Размер тестовой выборки 643\n"
     ]
    }
   ],
   "source": [
    "r_s  = 4 \n",
    "train_data, vnt_data = train_test_split(data, test_size=0.40, random_state=r_s)  \n",
    "valid_data, test_data = train_test_split(vnt_data, test_size=0.50, random_state=r_s)\n",
    "\n",
    "print('Размер тренериующей выборки', train_data.shape[0])\n",
    "print('Размер валидационной выборки', valid_data.shape[0])\n",
    "print('Размер тестовой выборки', test_data.shape[0])\n",
    "\n",
    "# Я подставлял разные значения в r_s, стремясь получить максимальный показатель accuracy.\n",
    "# 17       Лучшая глубина дерева 3 Лучшая точность 0.807153965785381\n",
    "# 0        Лучшая глубина дерева 7 Лучшая точность 0.8133748055987559\n",
    "# 4        Лучшая глубина дерева 11 Лучшая точность 0.8227060653188181"
   ]
  },
  {
   "cell_type": "code",
   "execution_count": 6,
   "metadata": {},
   "outputs": [],
   "source": [
    "train_data_features = train_data.drop(['is_ultra'], axis=1)\n",
    "train_data_target = train_data['is_ultra']\n",
    "valid_data_features = valid_data.drop(['is_ultra'], axis=1)\n",
    "valid_data_target = valid_data['is_ultra']\n",
    "test_data_features = test_data.drop(['is_ultra'], axis=1)\n",
    "test_data_target = test_data['is_ultra']"
   ]
  },
  {
   "cell_type": "markdown",
   "metadata": {},
   "source": [
    "Вывод по шагу 2\n",
    "\n",
    "Данные были разбиты по принципу 60/20/20.\n",
    "\n",
    "- Обучение пройдет на данных train_data\n",
    "- Валидация модели на данных valid_data\n",
    "- Лучшая модель по валидации будет применена на данных test_data"
   ]
  },
  {
   "cell_type": "markdown",
   "metadata": {},
   "source": [
    "## Исследуйте модели"
   ]
  },
  {
   "cell_type": "markdown",
   "metadata": {},
   "source": [
    "Обучаем модель **Дерево Решений**"
   ]
  },
  {
   "cell_type": "code",
   "execution_count": 7,
   "metadata": {},
   "outputs": [
    {
     "name": "stdout",
     "output_type": "stream",
     "text": [
      "\n",
      "Лучшая глубина дерева 10 Лучшая точность 0.8273716951788491\n"
     ]
    }
   ],
   "source": [
    "best_depth_tree = 0\n",
    "best_accuracy_tree = 0\n",
    "r_s_tree = 109\n",
    "\n",
    "for depth in range(1,101):\n",
    "    model = DecisionTreeClassifier(random_state=r_s_tree, max_depth=depth)\n",
    "    model.fit(train_data_features, train_data_target)\n",
    "    valid_predictions = model.predict(valid_data_features)\n",
    "    accuracy = accuracy_score(valid_data_target, valid_predictions)\n",
    "    #print('Глубина дерева', depth,'Точность',accuracy)\n",
    "    if accuracy > best_accuracy_tree:\n",
    "        best_depth_tree = depth\n",
    "        best_accuracy_tree = accuracy\n",
    "print()\n",
    "print('Лучшая глубина дерева', best_depth_tree,'Лучшая точность', best_accuracy_tree) \n",
    "\n",
    "# 17   Лучшая глубина дерева 10 Лучшая точность 0.8227060653188181\n",
    "# 666  Лучшая глубина дерева 10 Лучшая точность 0.8242612752721618\n",
    "# 109  Лучшая глубина дерева 10 Лучшая точность 0.8273716951788491\n"
   ]
  },
  {
   "cell_type": "markdown",
   "metadata": {},
   "source": [
    "Обучаем модель **Случайный Лес**"
   ]
  },
  {
   "cell_type": "code",
   "execution_count": 8,
   "metadata": {},
   "outputs": [
    {
     "name": "stdout",
     "output_type": "stream",
     "text": [
      "Лучшая количество деревьев 73 Лучшая точность 0.8429237947122862\n"
     ]
    }
   ],
   "source": [
    "best_estim_random = 0\n",
    "best_accuracy_random = 0\n",
    "random_state_random = 17\n",
    "for estim in range(1,101):\n",
    "    model = RandomForestClassifier(random_state=random_state_random, n_estimators=estim)\n",
    "    model.fit(train_data_features, train_data_target)\n",
    "    valid_predictions = model.predict(valid_data_features)\n",
    "    accuracy = accuracy_score(valid_data_target, valid_predictions)\n",
    "    #print('Количество деревьев', estim,'Точность',accuracy)\n",
    "    if accuracy > best_accuracy_random:\n",
    "        best_estim_random = estim\n",
    "        best_accuracy_random = accuracy\n",
    "\n",
    "print('Лучшая количество деревьев', best_estim_random,'Лучшая точность', best_accuracy_random)  \n",
    "\n",
    "# 1    Лучшая количество деревьев 65 Лучшая точность 0.838258164852255\n",
    "# 109  Лучшая количество деревьев 36 Лучшая точность 0.8413685847589425\n",
    "# 17   Лучшая количество деревьев 73 Лучшая точность 0.8429237947122862"
   ]
  },
  {
   "cell_type": "markdown",
   "metadata": {},
   "source": [
    "Обучаем модель **Регрессии**"
   ]
  },
  {
   "cell_type": "code",
   "execution_count": 9,
   "metadata": {},
   "outputs": [
    {
     "name": "stdout",
     "output_type": "stream",
     "text": [
      "Лучшая количество итерраций 25 Лучшая точность 0.7293934681181959\n"
     ]
    }
   ],
   "source": [
    "best_max_iter = 0\n",
    "best_accuracy = 0\n",
    "random_state_regr = 123456\n",
    "\n",
    "for max_iter in range(1,101):\n",
    "    model = LogisticRegression(random_state=random_state_regr, max_iter=max_iter)\n",
    "    model.fit(train_data_features, train_data_target)\n",
    "    valid_predictions = model.predict(valid_data_features)\n",
    "    accuracy = accuracy_score(valid_data_target, valid_predictions)\n",
    "    #print('Количество итерраций', max_iter,'Точность',accuracy)\n",
    "    if accuracy > best_accuracy:\n",
    "        best_max_iter = max_iter\n",
    "        best_accuracy = accuracy\n",
    "\n",
    "print('Лучшая количество итерраций', best_max_iter,'Лучшая точность', best_accuracy)      \n",
    "\n",
    "# 777  Лучшая количество итерраций 25 Лучшая точность 0.7293934681181959\n"
   ]
  },
  {
   "cell_type": "markdown",
   "metadata": {},
   "source": [
    "**Вывод по шагу 3**\n",
    "\n",
    "В ходе исследования были получены следующие данные:\n",
    "\n",
    "- Точность модели решающего дерева при глубине 10 равна 0.8273.\n",
    "- Точность модели случайного леса при количестве деревьев 73 равна 0.8429.\n",
    "- Точность модели логистической регресии равна 0.7293.\n",
    "- Лучший результат показывает случайный лес с гиперпараметром max_depth=73."
   ]
  },
  {
   "cell_type": "markdown",
   "metadata": {},
   "source": [
    "## Проверьте модель на тестовой выборке"
   ]
  },
  {
   "cell_type": "code",
   "execution_count": 10,
   "metadata": {},
   "outputs": [
    {
     "name": "stdout",
     "output_type": "stream",
     "text": [
      "Точность модели дерева решений на тестовой выборке 0.7729393468118196\n"
     ]
    }
   ],
   "source": [
    "best_tree_model = DecisionTreeClassifier(random_state=r_s_tree, max_depth=best_depth_tree)\n",
    "best_tree_model.fit(train_data_features, train_data_target)\n",
    "valid_predictions = best_tree_model.predict(valid_data_features)\n",
    "accuracy = accuracy_score(valid_data_target, valid_predictions)\n",
    "\n",
    "test_predictions = best_tree_model.predict(test_data_features)\n",
    "accuracy = accuracy_score(test_data_target, test_predictions)\n",
    "print('Точность модели дерева решений на тестовой выборке',accuracy)"
   ]
  },
  {
   "cell_type": "code",
   "execution_count": 11,
   "metadata": {},
   "outputs": [
    {
     "name": "stdout",
     "output_type": "stream",
     "text": [
      "Точность модели случайного леса на тестовой выборке 0.7884914463452566\n"
     ]
    }
   ],
   "source": [
    "best_forest_model = RandomForestClassifier(random_state=random_state_random, n_estimators=best_estim_random)\n",
    "best_forest_model.fit(train_data_features, train_data_target)\n",
    "valid_predictions = best_forest_model.predict(valid_data_features)\n",
    "accuracy = accuracy_score(valid_data_target, valid_predictions)\n",
    "\n",
    "test_predictions = best_forest_model.predict(test_data_features)\n",
    "accuracy = accuracy_score(test_data_target, test_predictions)\n",
    "print('Точность модели случайного леса на тестовой выборке',accuracy)"
   ]
  },
  {
   "cell_type": "code",
   "execution_count": 12,
   "metadata": {},
   "outputs": [
    {
     "name": "stdout",
     "output_type": "stream",
     "text": [
      "Точность модели логистической регресиии на тестовой выборке 0.7262830482115086\n"
     ]
    }
   ],
   "source": [
    "best_reg_model = LogisticRegression(random_state=random_state_regr)\n",
    "best_reg_model.fit(train_data_features, train_data_target)\n",
    "valid_predictions = best_reg_model.predict(valid_data_features)\n",
    "accuracy = accuracy_score(valid_data_target, valid_predictions)\n",
    "\n",
    "test_predictions = best_reg_model.predict(test_data_features)\n",
    "accuracy = accuracy_score(test_data_target, test_predictions)\n",
    "print('Точность модели логистической регресиии на тестовой выборке',accuracy)"
   ]
  },
  {
   "cell_type": "markdown",
   "metadata": {},
   "source": [
    "**Вывод по шагу 4**\n",
    "\n",
    "Самый высокий показатель по Случайному Лесу.\n",
    "Наш лучший результат 0,7885, что на 0,0385 выше требуемого уровня."
   ]
  },
  {
   "cell_type": "markdown",
   "metadata": {},
   "source": [
    "## (бонус) Проверьте модели на адекватность"
   ]
  },
  {
   "cell_type": "code",
   "execution_count": 13,
   "metadata": {},
   "outputs": [
    {
     "name": "stdout",
     "output_type": "stream",
     "text": [
      "Accuracy = 0.7884914463452566 Precision = 0.7338129496402878 Recall = 0.5074626865671642\n"
     ]
    }
   ],
   "source": [
    "test_predictions = best_forest_model.predict(test_data_features)\n",
    "accuracy = accuracy_score(test_data_target, test_predictions)\n",
    "precision = precision_score(test_data_target, test_predictions)\n",
    "recall = recall_score(test_data_target, test_predictions)\n",
    "print('Accuracy =', accuracy, 'Precision =', precision, 'Recall =', recall)"
   ]
  },
  {
   "cell_type": "markdown",
   "metadata": {},
   "source": [
    "Для оценки адеватности используется F-мера - среднее гармоническое между precision и recall. Если хотя бы один из параметров близок к нулю, то и F-мера стремится к 0. Если оба стремятся к 1, то F-мера тоже стремится к 1."
   ]
  },
  {
   "cell_type": "code",
   "execution_count": 14,
   "metadata": {},
   "outputs": [
    {
     "name": "stdout",
     "output_type": "stream",
     "text": [
      "F-мера = 0.6\n"
     ]
    }
   ],
   "source": [
    "f_score = f1_score(test_data_target, test_predictions)\n",
    "print('F-мера =', f_score)"
   ]
  },
  {
   "cell_type": "markdown",
   "metadata": {},
   "source": [
    "**Вывод по шагу 5**\n",
    "\n",
    "Адекватность модели оценивается по нескольким параметрам. Для модели классификации это accuracy, precision и recall. Качество модели лучше всего отражают precision и recall и эти метрики складываются в F-мера как единую оценку модели.\n",
    "\n",
    "Модель получилась среднего качества. И для таких задач она адекватна."
   ]
  }
 ],
 "metadata": {
  "ExecuteTimeLog": [
   {
    "duration": 1050,
    "start_time": "2021-12-12T17:34:46.381Z"
   },
   {
    "duration": 21,
    "start_time": "2021-12-12T17:34:47.433Z"
   },
   {
    "duration": 18,
    "start_time": "2021-12-12T17:34:47.456Z"
   },
   {
    "duration": 18,
    "start_time": "2021-12-12T17:35:05.024Z"
   },
   {
    "duration": 18,
    "start_time": "2021-12-12T17:35:26.896Z"
   },
   {
    "duration": 16,
    "start_time": "2021-12-12T17:35:37.424Z"
   },
   {
    "duration": 18,
    "start_time": "2021-12-12T17:38:32.778Z"
   },
   {
    "duration": 30,
    "start_time": "2021-12-12T17:42:58.439Z"
   },
   {
    "duration": 30,
    "start_time": "2021-12-12T17:43:07.504Z"
   },
   {
    "duration": 21,
    "start_time": "2021-12-12T17:43:17.164Z"
   },
   {
    "duration": 286,
    "start_time": "2021-12-12T17:57:38.118Z"
   },
   {
    "duration": 2398,
    "start_time": "2021-12-12T17:57:56.381Z"
   },
   {
    "duration": 2887,
    "start_time": "2021-12-12T17:59:42.844Z"
   },
   {
    "duration": 4541,
    "start_time": "2021-12-12T17:59:48.852Z"
   },
   {
    "duration": 170,
    "start_time": "2021-12-12T18:01:33.362Z"
   },
   {
    "duration": 3,
    "start_time": "2021-12-12T18:01:38.307Z"
   },
   {
    "duration": 22,
    "start_time": "2021-12-12T18:01:38.576Z"
   },
   {
    "duration": 23,
    "start_time": "2021-12-12T18:01:38.901Z"
   },
   {
    "duration": 22,
    "start_time": "2021-12-12T18:01:39.655Z"
   },
   {
    "duration": 8,
    "start_time": "2021-12-12T18:01:41.277Z"
   },
   {
    "duration": 8,
    "start_time": "2021-12-12T18:01:48.732Z"
   },
   {
    "duration": 204,
    "start_time": "2021-12-12T18:02:18.075Z"
   },
   {
    "duration": 8,
    "start_time": "2021-12-12T18:02:30.170Z"
   },
   {
    "duration": 4,
    "start_time": "2021-12-13T19:35:12.273Z"
   },
   {
    "duration": 20,
    "start_time": "2021-12-13T19:35:13.139Z"
   },
   {
    "duration": 21,
    "start_time": "2021-12-13T19:35:14.515Z"
   },
   {
    "duration": 22,
    "start_time": "2021-12-13T19:35:15.649Z"
   },
   {
    "duration": 1645,
    "start_time": "2021-12-13T19:35:18.184Z"
   },
   {
    "duration": 1083,
    "start_time": "2021-12-13T19:35:33.656Z"
   },
   {
    "duration": 19,
    "start_time": "2021-12-13T19:35:34.741Z"
   },
   {
    "duration": 27,
    "start_time": "2021-12-13T19:35:34.762Z"
   },
   {
    "duration": 23,
    "start_time": "2021-12-13T19:35:34.861Z"
   },
   {
    "duration": 1835,
    "start_time": "2021-12-13T19:35:36.527Z"
   },
   {
    "duration": 4,
    "start_time": "2021-12-13T19:36:21.625Z"
   },
   {
    "duration": 18,
    "start_time": "2021-12-13T19:36:21.959Z"
   },
   {
    "duration": 19,
    "start_time": "2021-12-13T19:36:22.623Z"
   },
   {
    "duration": 22,
    "start_time": "2021-12-13T19:36:23.204Z"
   },
   {
    "duration": 8,
    "start_time": "2021-12-13T19:36:24.879Z"
   },
   {
    "duration": 2278,
    "start_time": "2021-12-13T19:36:50.655Z"
   },
   {
    "duration": 10,
    "start_time": "2021-12-13T19:37:08.400Z"
   },
   {
    "duration": 1608,
    "start_time": "2021-12-13T19:37:20.688Z"
   },
   {
    "duration": 10,
    "start_time": "2021-12-13T19:37:41.587Z"
   },
   {
    "duration": 4,
    "start_time": "2021-12-13T19:37:54.593Z"
   },
   {
    "duration": 20,
    "start_time": "2021-12-13T19:37:54.904Z"
   },
   {
    "duration": 19,
    "start_time": "2021-12-13T19:37:55.270Z"
   },
   {
    "duration": 29,
    "start_time": "2021-12-13T19:37:55.736Z"
   },
   {
    "duration": 9,
    "start_time": "2021-12-13T19:37:57.204Z"
   },
   {
    "duration": 6,
    "start_time": "2021-12-13T19:37:59.829Z"
   },
   {
    "duration": 5,
    "start_time": "2021-12-13T19:39:57.660Z"
   },
   {
    "duration": 1041,
    "start_time": "2021-12-13T19:40:01.335Z"
   },
   {
    "duration": 976,
    "start_time": "2021-12-13T19:40:18.829Z"
   },
   {
    "duration": 10,
    "start_time": "2021-12-13T19:40:57.890Z"
   },
   {
    "duration": 6,
    "start_time": "2021-12-13T19:40:58.483Z"
   },
   {
    "duration": 1007,
    "start_time": "2021-12-13T19:41:05.473Z"
   },
   {
    "duration": 7,
    "start_time": "2021-12-13T19:41:48.138Z"
   },
   {
    "duration": 6,
    "start_time": "2021-12-13T19:41:49.081Z"
   },
   {
    "duration": 948,
    "start_time": "2021-12-13T19:41:52.483Z"
   },
   {
    "duration": 9,
    "start_time": "2021-12-13T19:42:17.311Z"
   },
   {
    "duration": 5,
    "start_time": "2021-12-13T19:42:17.688Z"
   },
   {
    "duration": 994,
    "start_time": "2021-12-13T19:42:20.215Z"
   },
   {
    "duration": 9,
    "start_time": "2021-12-13T19:42:38.929Z"
   },
   {
    "duration": 6,
    "start_time": "2021-12-13T19:42:39.602Z"
   },
   {
    "duration": 967,
    "start_time": "2021-12-13T19:42:42.206Z"
   },
   {
    "duration": 8,
    "start_time": "2021-12-13T19:43:19.263Z"
   },
   {
    "duration": 7,
    "start_time": "2021-12-13T19:43:19.581Z"
   },
   {
    "duration": 1076,
    "start_time": "2021-12-13T19:43:21.247Z"
   },
   {
    "duration": 9,
    "start_time": "2021-12-13T19:44:43.455Z"
   },
   {
    "duration": 6,
    "start_time": "2021-12-13T19:44:44.183Z"
   },
   {
    "duration": 986,
    "start_time": "2021-12-13T19:44:47.851Z"
   },
   {
    "duration": 12,
    "start_time": "2021-12-13T19:44:56.505Z"
   },
   {
    "duration": 7,
    "start_time": "2021-12-13T19:44:56.936Z"
   },
   {
    "duration": 1048,
    "start_time": "2021-12-13T19:44:58.784Z"
   },
   {
    "duration": 10,
    "start_time": "2021-12-13T19:46:12.754Z"
   },
   {
    "duration": 7,
    "start_time": "2021-12-13T19:46:13.189Z"
   },
   {
    "duration": 993,
    "start_time": "2021-12-13T19:46:15.280Z"
   },
   {
    "duration": 9,
    "start_time": "2021-12-13T19:46:29.015Z"
   },
   {
    "duration": 8,
    "start_time": "2021-12-13T19:46:29.355Z"
   },
   {
    "duration": 1085,
    "start_time": "2021-12-13T19:46:31.051Z"
   },
   {
    "duration": 9,
    "start_time": "2021-12-13T19:46:59.057Z"
   },
   {
    "duration": 7,
    "start_time": "2021-12-13T19:46:59.507Z"
   },
   {
    "duration": 1067,
    "start_time": "2021-12-13T19:47:01.326Z"
   },
   {
    "duration": 12,
    "start_time": "2021-12-13T19:47:07.403Z"
   },
   {
    "duration": 9,
    "start_time": "2021-12-13T19:47:07.758Z"
   },
   {
    "duration": 1060,
    "start_time": "2021-12-13T19:47:09.410Z"
   },
   {
    "duration": 9,
    "start_time": "2021-12-13T19:47:27.214Z"
   },
   {
    "duration": 6,
    "start_time": "2021-12-13T19:47:27.910Z"
   },
   {
    "duration": 1015,
    "start_time": "2021-12-13T19:47:28.909Z"
   },
   {
    "duration": 8,
    "start_time": "2021-12-13T19:47:39.139Z"
   },
   {
    "duration": 6,
    "start_time": "2021-12-13T19:47:39.614Z"
   },
   {
    "duration": 944,
    "start_time": "2021-12-13T19:47:41.055Z"
   },
   {
    "duration": 9,
    "start_time": "2021-12-13T19:47:52.123Z"
   },
   {
    "duration": 6,
    "start_time": "2021-12-13T19:47:52.993Z"
   },
   {
    "duration": 968,
    "start_time": "2021-12-13T19:47:54.608Z"
   },
   {
    "duration": 10,
    "start_time": "2021-12-13T19:48:05.417Z"
   },
   {
    "duration": 6,
    "start_time": "2021-12-13T19:48:05.892Z"
   },
   {
    "duration": 958,
    "start_time": "2021-12-13T19:48:08.297Z"
   },
   {
    "duration": 8,
    "start_time": "2021-12-13T19:48:14.808Z"
   },
   {
    "duration": 6,
    "start_time": "2021-12-13T19:48:15.300Z"
   },
   {
    "duration": 996,
    "start_time": "2021-12-13T19:48:17.125Z"
   },
   {
    "duration": 9,
    "start_time": "2021-12-13T19:48:27.974Z"
   },
   {
    "duration": 6,
    "start_time": "2021-12-13T19:48:28.242Z"
   },
   {
    "duration": 1018,
    "start_time": "2021-12-13T19:48:30.114Z"
   },
   {
    "duration": 8,
    "start_time": "2021-12-13T19:48:40.597Z"
   },
   {
    "duration": 6,
    "start_time": "2021-12-13T19:48:40.927Z"
   },
   {
    "duration": 1020,
    "start_time": "2021-12-13T19:48:42.338Z"
   },
   {
    "duration": 9,
    "start_time": "2021-12-13T19:48:55.535Z"
   },
   {
    "duration": 6,
    "start_time": "2021-12-13T19:48:55.768Z"
   },
   {
    "duration": 988,
    "start_time": "2021-12-13T19:48:57.140Z"
   },
   {
    "duration": 10,
    "start_time": "2021-12-13T19:49:32.233Z"
   },
   {
    "duration": 6,
    "start_time": "2021-12-13T19:49:32.749Z"
   },
   {
    "duration": 1034,
    "start_time": "2021-12-13T19:49:34.667Z"
   },
   {
    "duration": 986,
    "start_time": "2021-12-13T19:54:45.109Z"
   },
   {
    "duration": 1026,
    "start_time": "2021-12-13T19:55:16.912Z"
   },
   {
    "duration": 962,
    "start_time": "2021-12-13T19:57:32.408Z"
   },
   {
    "duration": 989,
    "start_time": "2021-12-13T19:57:46.114Z"
   },
   {
    "duration": 954,
    "start_time": "2021-12-13T19:58:05.412Z"
   },
   {
    "duration": 956,
    "start_time": "2021-12-13T19:58:13.296Z"
   },
   {
    "duration": 975,
    "start_time": "2021-12-13T19:58:20.869Z"
   },
   {
    "duration": 1010,
    "start_time": "2021-12-13T19:58:37.386Z"
   },
   {
    "duration": 967,
    "start_time": "2021-12-13T19:59:03.200Z"
   },
   {
    "duration": 964,
    "start_time": "2021-12-13T19:59:12.411Z"
   },
   {
    "duration": 1015,
    "start_time": "2021-12-13T19:59:19.419Z"
   },
   {
    "duration": 1043,
    "start_time": "2021-12-13T19:59:28.421Z"
   },
   {
    "duration": 1018,
    "start_time": "2021-12-13T19:59:40.096Z"
   },
   {
    "duration": 1018,
    "start_time": "2021-12-13T20:04:16.429Z"
   },
   {
    "duration": 984,
    "start_time": "2021-12-13T20:05:14.599Z"
   },
   {
    "duration": 1006,
    "start_time": "2021-12-13T20:05:27.020Z"
   },
   {
    "duration": 13,
    "start_time": "2021-12-13T20:06:04.267Z"
   },
   {
    "duration": 906,
    "start_time": "2021-12-13T20:07:01.258Z"
   },
   {
    "duration": 12,
    "start_time": "2021-12-13T20:07:04.016Z"
   },
   {
    "duration": 12,
    "start_time": "2021-12-13T20:07:32.102Z"
   },
   {
    "duration": 13,
    "start_time": "2021-12-13T20:08:41.809Z"
   },
   {
    "duration": 15,
    "start_time": "2021-12-13T20:08:44.492Z"
   },
   {
    "duration": 8,
    "start_time": "2021-12-13T20:10:10.085Z"
   },
   {
    "duration": 18568,
    "start_time": "2021-12-13T20:12:43.399Z"
   },
   {
    "duration": 8,
    "start_time": "2021-12-13T20:13:01.969Z"
   },
   {
    "duration": 17967,
    "start_time": "2021-12-13T20:13:31.241Z"
   },
   {
    "duration": 17792,
    "start_time": "2021-12-13T20:14:07.500Z"
   },
   {
    "duration": 17865,
    "start_time": "2021-12-13T20:14:37.909Z"
   },
   {
    "duration": 18463,
    "start_time": "2021-12-13T20:15:09.556Z"
   },
   {
    "duration": 18439,
    "start_time": "2021-12-13T20:15:59.202Z"
   },
   {
    "duration": 18210,
    "start_time": "2021-12-13T20:16:32.632Z"
   },
   {
    "duration": 18187,
    "start_time": "2021-12-13T20:17:15.154Z"
   },
   {
    "duration": 17909,
    "start_time": "2021-12-13T20:17:45.749Z"
   },
   {
    "duration": 18410,
    "start_time": "2021-12-13T20:18:29.094Z"
   },
   {
    "duration": 18289,
    "start_time": "2021-12-13T20:18:56.979Z"
   },
   {
    "duration": 18628,
    "start_time": "2021-12-13T20:20:00.453Z"
   },
   {
    "duration": 18341,
    "start_time": "2021-12-13T20:20:45.425Z"
   },
   {
    "duration": 490,
    "start_time": "2021-12-13T20:21:12.084Z"
   },
   {
    "duration": 186,
    "start_time": "2021-12-13T20:21:23.267Z"
   },
   {
    "duration": 279,
    "start_time": "2021-12-13T20:21:29.585Z"
   },
   {
    "duration": 165,
    "start_time": "2021-12-13T20:26:01.759Z"
   },
   {
    "duration": 173,
    "start_time": "2021-12-13T20:26:17.078Z"
   },
   {
    "duration": 1610,
    "start_time": "2021-12-13T20:26:53.387Z"
   },
   {
    "duration": 1356,
    "start_time": "2021-12-13T20:27:11.582Z"
   },
   {
    "duration": 1343,
    "start_time": "2021-12-13T20:27:16.619Z"
   },
   {
    "duration": 1407,
    "start_time": "2021-12-13T20:27:25.305Z"
   },
   {
    "duration": 1359,
    "start_time": "2021-12-13T20:27:31.734Z"
   },
   {
    "duration": 1369,
    "start_time": "2021-12-13T20:28:03.266Z"
   },
   {
    "duration": 1363,
    "start_time": "2021-12-13T20:28:11.702Z"
   },
   {
    "duration": 1359,
    "start_time": "2021-12-13T20:28:41.651Z"
   },
   {
    "duration": 1407,
    "start_time": "2021-12-13T20:29:00.677Z"
   },
   {
    "duration": 1411,
    "start_time": "2021-12-13T20:29:09.538Z"
   },
   {
    "duration": 1682,
    "start_time": "2021-12-13T20:29:22.157Z"
   },
   {
    "duration": 6028,
    "start_time": "2021-12-13T20:29:37.185Z"
   },
   {
    "duration": 775,
    "start_time": "2021-12-13T20:30:01.680Z"
   },
   {
    "duration": 673,
    "start_time": "2021-12-13T20:30:15.496Z"
   },
   {
    "duration": 1098,
    "start_time": "2021-12-14T11:38:46.115Z"
   },
   {
    "duration": 18,
    "start_time": "2021-12-14T11:38:47.215Z"
   },
   {
    "duration": 33,
    "start_time": "2021-12-14T11:38:49.556Z"
   },
   {
    "duration": 33,
    "start_time": "2021-12-14T11:38:49.593Z"
   },
   {
    "duration": 9,
    "start_time": "2021-12-14T11:38:49.634Z"
   },
   {
    "duration": 6,
    "start_time": "2021-12-14T11:38:49.674Z"
   },
   {
    "duration": 5,
    "start_time": "2021-12-14T11:40:07.442Z"
   },
   {
    "duration": 328,
    "start_time": "2021-12-14T11:45:55.885Z"
   },
   {
    "duration": 1110,
    "start_time": "2021-12-14T11:46:01.675Z"
   },
   {
    "duration": 20,
    "start_time": "2021-12-14T11:46:02.787Z"
   },
   {
    "duration": 23,
    "start_time": "2021-12-14T11:46:03.455Z"
   },
   {
    "duration": 20,
    "start_time": "2021-12-14T11:46:04.345Z"
   },
   {
    "duration": 9,
    "start_time": "2021-12-14T11:46:07.255Z"
   },
   {
    "duration": 6,
    "start_time": "2021-12-14T11:46:08.495Z"
   },
   {
    "duration": 945,
    "start_time": "2021-12-14T11:46:11.446Z"
   },
   {
    "duration": 18590,
    "start_time": "2021-12-14T11:46:14.445Z"
   },
   {
    "duration": 1071,
    "start_time": "2021-12-14T11:46:36.166Z"
   },
   {
    "duration": 562,
    "start_time": "2021-12-14T11:46:40.933Z"
   },
   {
    "duration": 230,
    "start_time": "2021-12-14T11:49:54.257Z"
   },
   {
    "duration": 567,
    "start_time": "2021-12-14T11:53:32.226Z"
   },
   {
    "duration": 303,
    "start_time": "2021-12-14T11:56:00.007Z"
   },
   {
    "duration": 14,
    "start_time": "2021-12-14T11:56:45.734Z"
   },
   {
    "duration": 491,
    "start_time": "2021-12-14T12:12:41.086Z"
   },
   {
    "duration": 481,
    "start_time": "2021-12-14T12:12:49.155Z"
   },
   {
    "duration": 263,
    "start_time": "2021-12-14T12:13:05.515Z"
   },
   {
    "duration": 13,
    "start_time": "2021-12-14T12:15:41.809Z"
   },
   {
    "duration": 79,
    "start_time": "2021-12-14T12:47:00.884Z"
   },
   {
    "duration": 24,
    "start_time": "2021-12-14T13:02:10.971Z"
   },
   {
    "duration": 5,
    "start_time": "2021-12-14T13:02:59.753Z"
   },
   {
    "duration": 1162,
    "start_time": "2021-12-14T13:23:18.634Z"
   },
   {
    "duration": 19,
    "start_time": "2021-12-14T13:23:19.798Z"
   },
   {
    "duration": 23,
    "start_time": "2021-12-14T13:23:19.819Z"
   },
   {
    "duration": 20,
    "start_time": "2021-12-14T13:23:19.843Z"
   },
   {
    "duration": 7,
    "start_time": "2021-12-14T13:23:19.865Z"
   },
   {
    "duration": 17,
    "start_time": "2021-12-14T13:23:19.874Z"
   },
   {
    "duration": 867,
    "start_time": "2021-12-14T13:23:19.893Z"
   },
   {
    "duration": 18194,
    "start_time": "2021-12-14T13:23:20.762Z"
   },
   {
    "duration": 697,
    "start_time": "2021-12-14T13:23:38.959Z"
   },
   {
    "duration": 11,
    "start_time": "2021-12-14T13:23:39.658Z"
   },
   {
    "duration": 286,
    "start_time": "2021-12-14T13:23:39.670Z"
   },
   {
    "duration": 12,
    "start_time": "2021-12-14T13:23:39.958Z"
   },
   {
    "duration": 42,
    "start_time": "2021-12-14T13:23:39.971Z"
   },
   {
    "duration": 4,
    "start_time": "2021-12-14T13:23:40.015Z"
   },
   {
    "duration": 108,
    "start_time": "2021-12-16T12:43:12.349Z"
   },
   {
    "duration": 107,
    "start_time": "2021-12-16T12:43:34.900Z"
   },
   {
    "duration": 1911,
    "start_time": "2021-12-16T12:43:47.020Z"
   },
   {
    "duration": 778,
    "start_time": "2021-12-16T12:43:50.123Z"
   },
   {
    "duration": 165,
    "start_time": "2021-12-16T12:47:04.883Z"
   },
   {
    "duration": 110,
    "start_time": "2021-12-16T12:47:09.863Z"
   },
   {
    "duration": 129,
    "start_time": "2021-12-16T12:51:45.153Z"
   },
   {
    "duration": 109,
    "start_time": "2021-12-16T12:54:53.936Z"
   }
  ],
  "kernelspec": {
   "display_name": "Python 3 (ipykernel)",
   "language": "python",
   "name": "python3"
  },
  "language_info": {
   "codemirror_mode": {
    "name": "ipython",
    "version": 3
   },
   "file_extension": ".py",
   "mimetype": "text/x-python",
   "name": "python",
   "nbconvert_exporter": "python",
   "pygments_lexer": "ipython3",
   "version": "3.9.7"
  },
  "toc": {
   "base_numbering": 1,
   "nav_menu": {},
   "number_sections": true,
   "sideBar": true,
   "skip_h1_title": true,
   "title_cell": "Table of Contents",
   "title_sidebar": "Contents",
   "toc_cell": false,
   "toc_position": {},
   "toc_section_display": true,
   "toc_window_display": false
  }
 },
 "nbformat": 4,
 "nbformat_minor": 2
}
