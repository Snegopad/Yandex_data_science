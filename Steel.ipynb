{
 "cells": [
  {
   "cell_type": "markdown",
   "id": "96a7bdf3",
   "metadata": {},
   "source": [
    "**Описание процекта: Мне предстоит оптимизировать производственные расходы, металлургический комбинат ООО «Так закаляем сталь».**"
   ]
  },
  {
   "cell_type": "markdown",
   "id": "bb327b73",
   "metadata": {},
   "source": [
    "### Описание этапа обработки\n",
    "\n",
    "Сталь обрабатывают в металлическом ковше вместимостью около 100 тонн. Чтобы ковш выдерживал высокие температуры, изнутри его облицовывают огнеупорным кирпичом. Расплавленную сталь заливают в ковш и подогревают до нужной температуры графитовыми электродами. Они установлены в крышке ковша. \n",
    "\n",
    "Из сплава выводится сера (десульфурация), добавлением примесей корректируется химический состав и отбираются пробы. Сталь легируют — изменяют её состав — подавая куски сплава из бункера для сыпучих материалов или проволоку через специальный трайб-аппарат (англ. tribe, «масса»).\n",
    "\n",
    "Перед тем как первый раз ввести легирующие добавки, измеряют температуру стали и производят её химический анализ. Потом температуру на несколько минут повышают, добавляют легирующие материалы и продувают сплав инертным газом. Затем его перемешивают и снова проводят измерения. Такой цикл повторяется до достижения целевого химического состава и оптимальной температуры плавки.\n",
    "\n",
    "Тогда расплавленная сталь отправляется на доводку металла или поступает в машину непрерывной разливки. Оттуда готовый продукт выходит в виде заготовок-слябов (англ. *slab*, «плита»).\n",
    "\n",
    "### Описание данных\n",
    "\n",
    "Данные состоят из файлов, полученных из разных источников:\n",
    "\n",
    "- `data_arc.csv` — данные об электродах;\n",
    "- `data_bulk.csv` — данные о подаче сыпучих материалов (объём);\n",
    "- `data_bulk_time.csv` *—* данные о подаче сыпучих материалов (время);\n",
    "- `data_gas.csv` — данные о продувке сплава газом;\n",
    "- `data_temp.csv` — результаты измерения температуры;\n",
    "- `data_wire.csv` — данные о проволочных материалах (объём);\n",
    "- `data_wire_time.csv` — данные о проволочных материалах (время).\n",
    "\n",
    "Во всех файлах столбец `key` содержит номер партии. В файлах может быть несколько строк с одинаковым значением `key`: они соответствуют разным итерациям обработки."
   ]
  },
  {
   "cell_type": "markdown",
   "id": "d95fe1e6",
   "metadata": {},
   "source": [
    "**План работы**\n",
    "\n",
    "**Наша главная задача - предсказать финальную температуру. Исходя из данной цели мы выполним следующие задачи:**\n",
    "- Проанализировать наши данные\n",
    "- Обработать данные\n",
    "- Сгенерировать дополнительные параметры\n",
    "- Создать единый датафрейм для дальнейшей работы\n",
    "- Разделить датафрейм на фичи/таргет и обучающую/валидационную выборки\n",
    "- Протестировать на обчучающей выборке различные модели и определить лучшую."
   ]
  },
  {
   "cell_type": "markdown",
   "id": "f89e088e",
   "metadata": {},
   "source": [
    "Для начала мы загружаем библиотеки для дальнейшего использования"
   ]
  },
  {
   "cell_type": "markdown",
   "id": "843f3b81",
   "metadata": {},
   "source": [
    "<font color='steelblue'><b>Комментарий тимлида</b></font><br>\n",
    "<font color='green'>✔️ Описание на месте 👍🏼 можно ещё цели добавить.</font><br>"
   ]
  },
  {
   "cell_type": "code",
   "execution_count": 1,
   "id": "b9a3b25f",
   "metadata": {},
   "outputs": [],
   "source": [
    "import pandas as pd\n",
    "import seaborn as sns\n",
    "import matplotlib.pyplot as plt\n",
    "import numpy as np\n",
    "from datetime import datetime\n",
    "from statsmodels.tsa.seasonal import seasonal_decompose\n",
    "import time\n",
    "import datetime\n",
    "import matplotlib.pyplot as plt\n",
    "import numpy as np\n",
    "import pandas as pd\n",
    "import warnings\n",
    "warnings.filterwarnings('ignore')\n",
    "import statistics\n",
    "from sklearn.model_selection import train_test_split\n",
    "from sklearn.preprocessing import StandardScaler\n",
    "from sklearn.metrics import r2_score\n",
    "from sklearn.metrics import mean_absolute_error\n",
    "from sklearn.preprocessing import PolynomialFeatures\n",
    "from sklearn.linear_model import LinearRegression\n",
    "from sklearn.linear_model import Ridge\n",
    "from sklearn.tree import DecisionTreeRegressor\n",
    "from sklearn.ensemble import ExtraTreesRegressor\n",
    "from sklearn.model_selection import cross_val_score\n",
    "from sklearn.model_selection import GridSearchCV\n",
    "from catboost import CatBoostRegressor\n",
    "from sklearn import svm, datasets\n",
    "from sklearn.metrics import confusion_matrix, classification_report, accuracy_score\n",
    "from sklearn.model_selection import train_test_split, GridSearchCV, cross_val_score\n",
    "from sklearn.model_selection import RepeatedKFold\n",
    "from sklearn.linear_model import LogisticRegression\n",
    "from sklearn.tree import DecisionTreeClassifier\n",
    "from sklearn.ensemble import RandomForestRegressor\n",
    "from sklearn.datasets import make_regression\n",
    "from lightgbm import LGBMClassifier, LGBMRegressor\n",
    "import lightgbm as lgb"
   ]
  },
  {
   "cell_type": "markdown",
   "id": "7570a2f6",
   "metadata": {},
   "source": [
    "Ниже мы загружаем данные для дальнейшего анализа"
   ]
  },
  {
   "cell_type": "markdown",
   "id": "42ce9144",
   "metadata": {},
   "source": [
    "**Данные из тренажера**"
   ]
  },
  {
   "cell_type": "code",
   "execution_count": 2,
   "id": "878bad84",
   "metadata": {},
   "outputs": [],
   "source": [
    "#данные об электродах;\n",
    "data_arc = pd.read_csv('/datasets/final_steel/data_arc.csv')\n",
    "#данные о подаче сыпучих материалов (объём);\n",
    "data_bulk = pd.read_csv('/datasets/final_steel/data_bulk.csv')\n",
    "\n",
    "#данные о подаче сыпучих материалов (время);\n",
    "data_bulk_time = pd.read_csv('/datasets/final_steel/data_bulk_time.csv')\n",
    "\n",
    "#данные о продувке сплава газом;\n",
    "data_gas = pd.read_csv('/datasets/final_steel/data_gas.csv')\n",
    "\n",
    "#результаты измерения температуры;\n",
    "data_temp = pd.read_csv('/datasets/final_steel/data_temp.csv')\n",
    "\n",
    "#данные о проволочных материалах (объём);\n",
    "data_wire = pd.read_csv('/datasets/final_steel/data_wire.csv')\n",
    "\n",
    "#данные о проволочных материалах (время)\n",
    "data_wire_time = pd.read_csv('/datasets/final_steel/data_wire_time.csv')"
   ]
  },
  {
   "cell_type": "markdown",
   "id": "517ed4a0",
   "metadata": {},
   "source": [
    "**Проводим первичный визуальный анализ**"
   ]
  },
  {
   "cell_type": "markdown",
   "id": "28cbb56c",
   "metadata": {},
   "source": [
    "**1) Данные об электродах**"
   ]
  },
  {
   "cell_type": "code",
   "execution_count": 3,
   "id": "3b0bda5f",
   "metadata": {},
   "outputs": [
    {
     "name": "stdout",
     "output_type": "stream",
     "text": [
      "Данные об электродах\n"
     ]
    },
    {
     "data": {
      "text/html": [
       "<div>\n",
       "<style scoped>\n",
       "    .dataframe tbody tr th:only-of-type {\n",
       "        vertical-align: middle;\n",
       "    }\n",
       "\n",
       "    .dataframe tbody tr th {\n",
       "        vertical-align: top;\n",
       "    }\n",
       "\n",
       "    .dataframe thead th {\n",
       "        text-align: right;\n",
       "    }\n",
       "</style>\n",
       "<table border=\"1\" class=\"dataframe\">\n",
       "  <thead>\n",
       "    <tr style=\"text-align: right;\">\n",
       "      <th></th>\n",
       "      <th>key</th>\n",
       "      <th>Начало нагрева дугой</th>\n",
       "      <th>Конец нагрева дугой</th>\n",
       "      <th>Активная мощность</th>\n",
       "      <th>Реактивная мощность</th>\n",
       "    </tr>\n",
       "  </thead>\n",
       "  <tbody>\n",
       "    <tr>\n",
       "      <th>0</th>\n",
       "      <td>1</td>\n",
       "      <td>2019-05-03 11:02:14</td>\n",
       "      <td>2019-05-03 11:06:02</td>\n",
       "      <td>0.976059</td>\n",
       "      <td>0.687084</td>\n",
       "    </tr>\n",
       "    <tr>\n",
       "      <th>1</th>\n",
       "      <td>1</td>\n",
       "      <td>2019-05-03 11:07:28</td>\n",
       "      <td>2019-05-03 11:10:33</td>\n",
       "      <td>0.805607</td>\n",
       "      <td>0.520285</td>\n",
       "    </tr>\n",
       "    <tr>\n",
       "      <th>2</th>\n",
       "      <td>1</td>\n",
       "      <td>2019-05-03 11:11:44</td>\n",
       "      <td>2019-05-03 11:14:36</td>\n",
       "      <td>0.744363</td>\n",
       "      <td>0.498805</td>\n",
       "    </tr>\n",
       "    <tr>\n",
       "      <th>3</th>\n",
       "      <td>1</td>\n",
       "      <td>2019-05-03 11:18:14</td>\n",
       "      <td>2019-05-03 11:24:19</td>\n",
       "      <td>1.659363</td>\n",
       "      <td>1.062669</td>\n",
       "    </tr>\n",
       "    <tr>\n",
       "      <th>4</th>\n",
       "      <td>1</td>\n",
       "      <td>2019-05-03 11:26:09</td>\n",
       "      <td>2019-05-03 11:28:37</td>\n",
       "      <td>0.692755</td>\n",
       "      <td>0.414397</td>\n",
       "    </tr>\n",
       "    <tr>\n",
       "      <th>...</th>\n",
       "      <td>...</td>\n",
       "      <td>...</td>\n",
       "      <td>...</td>\n",
       "      <td>...</td>\n",
       "      <td>...</td>\n",
       "    </tr>\n",
       "    <tr>\n",
       "      <th>14871</th>\n",
       "      <td>3241</td>\n",
       "      <td>2019-09-01 03:58:58</td>\n",
       "      <td>2019-09-01 04:01:35</td>\n",
       "      <td>0.533670</td>\n",
       "      <td>0.354439</td>\n",
       "    </tr>\n",
       "    <tr>\n",
       "      <th>14872</th>\n",
       "      <td>3241</td>\n",
       "      <td>2019-09-01 04:05:04</td>\n",
       "      <td>2019-09-01 04:08:04</td>\n",
       "      <td>0.676604</td>\n",
       "      <td>0.523631</td>\n",
       "    </tr>\n",
       "    <tr>\n",
       "      <th>14873</th>\n",
       "      <td>3241</td>\n",
       "      <td>2019-09-01 04:16:41</td>\n",
       "      <td>2019-09-01 04:19:45</td>\n",
       "      <td>0.733899</td>\n",
       "      <td>0.475654</td>\n",
       "    </tr>\n",
       "    <tr>\n",
       "      <th>14874</th>\n",
       "      <td>3241</td>\n",
       "      <td>2019-09-01 04:31:51</td>\n",
       "      <td>2019-09-01 04:32:48</td>\n",
       "      <td>0.220694</td>\n",
       "      <td>0.145768</td>\n",
       "    </tr>\n",
       "    <tr>\n",
       "      <th>14875</th>\n",
       "      <td>3241</td>\n",
       "      <td>2019-09-01 04:34:47</td>\n",
       "      <td>2019-09-01 04:36:08</td>\n",
       "      <td>0.306580</td>\n",
       "      <td>0.196708</td>\n",
       "    </tr>\n",
       "  </tbody>\n",
       "</table>\n",
       "<p>14876 rows × 5 columns</p>\n",
       "</div>"
      ],
      "text/plain": [
       "        key Начало нагрева дугой  Конец нагрева дугой  Активная мощность  \\\n",
       "0         1  2019-05-03 11:02:14  2019-05-03 11:06:02           0.976059   \n",
       "1         1  2019-05-03 11:07:28  2019-05-03 11:10:33           0.805607   \n",
       "2         1  2019-05-03 11:11:44  2019-05-03 11:14:36           0.744363   \n",
       "3         1  2019-05-03 11:18:14  2019-05-03 11:24:19           1.659363   \n",
       "4         1  2019-05-03 11:26:09  2019-05-03 11:28:37           0.692755   \n",
       "...     ...                  ...                  ...                ...   \n",
       "14871  3241  2019-09-01 03:58:58  2019-09-01 04:01:35           0.533670   \n",
       "14872  3241  2019-09-01 04:05:04  2019-09-01 04:08:04           0.676604   \n",
       "14873  3241  2019-09-01 04:16:41  2019-09-01 04:19:45           0.733899   \n",
       "14874  3241  2019-09-01 04:31:51  2019-09-01 04:32:48           0.220694   \n",
       "14875  3241  2019-09-01 04:34:47  2019-09-01 04:36:08           0.306580   \n",
       "\n",
       "       Реактивная мощность  \n",
       "0                 0.687084  \n",
       "1                 0.520285  \n",
       "2                 0.498805  \n",
       "3                 1.062669  \n",
       "4                 0.414397  \n",
       "...                    ...  \n",
       "14871             0.354439  \n",
       "14872             0.523631  \n",
       "14873             0.475654  \n",
       "14874             0.145768  \n",
       "14875             0.196708  \n",
       "\n",
       "[14876 rows x 5 columns]"
      ]
     },
     "metadata": {},
     "output_type": "display_data"
    },
    {
     "name": "stdout",
     "output_type": "stream",
     "text": [
      "\n",
      "<class 'pandas.core.frame.DataFrame'>\n",
      "RangeIndex: 14876 entries, 0 to 14875\n",
      "Data columns (total 5 columns):\n",
      " #   Column                Non-Null Count  Dtype  \n",
      "---  ------                --------------  -----  \n",
      " 0   key                   14876 non-null  int64  \n",
      " 1   Начало нагрева дугой  14876 non-null  object \n",
      " 2   Конец нагрева дугой   14876 non-null  object \n",
      " 3   Активная мощность     14876 non-null  float64\n",
      " 4   Реактивная мощность   14876 non-null  float64\n",
      "dtypes: float64(2), int64(1), object(2)\n",
      "memory usage: 581.2+ KB\n",
      "\n",
      "key                     0\n",
      "Начало нагрева дугой    0\n",
      "Конец нагрева дугой     0\n",
      "Активная мощность       0\n",
      "Реактивная мощность     0\n",
      "dtype: int64\n",
      "\n",
      "                key  Активная мощность  Реактивная мощность\n",
      "count  14876.000000       14876.000000         14876.000000\n",
      "mean    1615.220422           0.670441             0.452592\n",
      "std      934.571502           0.408159             5.878702\n",
      "min        1.000000           0.030002          -715.504924\n",
      "25%      806.000000           0.395297             0.290991\n",
      "50%     1617.000000           0.555517             0.415962\n",
      "75%     2429.000000           0.857034             0.637371\n",
      "max     3241.000000           3.731596             2.676388\n",
      "_____________________________________________________\n"
     ]
    }
   ],
   "source": [
    "print('Данные об электродах')\n",
    "display(data_arc)\n",
    "print('')\n",
    "data_arc.info()\n",
    "print('')\n",
    "print(data_arc.isna().sum())\n",
    "print('')\n",
    "print(data_arc.describe())\n",
    "print('_____________________________________________________')\n"
   ]
  },
  {
   "cell_type": "markdown",
   "id": "77477a1f",
   "metadata": {},
   "source": [
    "1) Мы видим в реактивной мощности отрицательное значение. Необходимо привести все  значения выше нуля."
   ]
  },
  {
   "cell_type": "code",
   "execution_count": 4,
   "id": "8f344a16",
   "metadata": {},
   "outputs": [],
   "source": [
    "data_arc = data_arc[data_arc['Реактивная мощность'] > 0 ]"
   ]
  },
  {
   "cell_type": "markdown",
   "id": "47c2047c",
   "metadata": {},
   "source": [
    "**2) Данные о подаче сыпучих материалов (объём)**"
   ]
  },
  {
   "cell_type": "code",
   "execution_count": 5,
   "id": "be25e072",
   "metadata": {},
   "outputs": [
    {
     "name": "stdout",
     "output_type": "stream",
     "text": [
      "\n",
      "Данные о подаче сыпучих материалов (объём)\n"
     ]
    },
    {
     "data": {
      "text/html": [
       "<div>\n",
       "<style scoped>\n",
       "    .dataframe tbody tr th:only-of-type {\n",
       "        vertical-align: middle;\n",
       "    }\n",
       "\n",
       "    .dataframe tbody tr th {\n",
       "        vertical-align: top;\n",
       "    }\n",
       "\n",
       "    .dataframe thead th {\n",
       "        text-align: right;\n",
       "    }\n",
       "</style>\n",
       "<table border=\"1\" class=\"dataframe\">\n",
       "  <thead>\n",
       "    <tr style=\"text-align: right;\">\n",
       "      <th></th>\n",
       "      <th>key</th>\n",
       "      <th>Bulk 1</th>\n",
       "      <th>Bulk 2</th>\n",
       "      <th>Bulk 3</th>\n",
       "      <th>Bulk 4</th>\n",
       "      <th>Bulk 5</th>\n",
       "      <th>Bulk 6</th>\n",
       "      <th>Bulk 7</th>\n",
       "      <th>Bulk 8</th>\n",
       "      <th>Bulk 9</th>\n",
       "      <th>Bulk 10</th>\n",
       "      <th>Bulk 11</th>\n",
       "      <th>Bulk 12</th>\n",
       "      <th>Bulk 13</th>\n",
       "      <th>Bulk 14</th>\n",
       "      <th>Bulk 15</th>\n",
       "    </tr>\n",
       "  </thead>\n",
       "  <tbody>\n",
       "    <tr>\n",
       "      <th>0</th>\n",
       "      <td>1</td>\n",
       "      <td>NaN</td>\n",
       "      <td>NaN</td>\n",
       "      <td>NaN</td>\n",
       "      <td>43.0</td>\n",
       "      <td>NaN</td>\n",
       "      <td>NaN</td>\n",
       "      <td>NaN</td>\n",
       "      <td>NaN</td>\n",
       "      <td>NaN</td>\n",
       "      <td>NaN</td>\n",
       "      <td>NaN</td>\n",
       "      <td>206.0</td>\n",
       "      <td>NaN</td>\n",
       "      <td>150.0</td>\n",
       "      <td>154.0</td>\n",
       "    </tr>\n",
       "    <tr>\n",
       "      <th>1</th>\n",
       "      <td>2</td>\n",
       "      <td>NaN</td>\n",
       "      <td>NaN</td>\n",
       "      <td>NaN</td>\n",
       "      <td>73.0</td>\n",
       "      <td>NaN</td>\n",
       "      <td>NaN</td>\n",
       "      <td>NaN</td>\n",
       "      <td>NaN</td>\n",
       "      <td>NaN</td>\n",
       "      <td>NaN</td>\n",
       "      <td>NaN</td>\n",
       "      <td>206.0</td>\n",
       "      <td>NaN</td>\n",
       "      <td>149.0</td>\n",
       "      <td>154.0</td>\n",
       "    </tr>\n",
       "    <tr>\n",
       "      <th>2</th>\n",
       "      <td>3</td>\n",
       "      <td>NaN</td>\n",
       "      <td>NaN</td>\n",
       "      <td>NaN</td>\n",
       "      <td>34.0</td>\n",
       "      <td>NaN</td>\n",
       "      <td>NaN</td>\n",
       "      <td>NaN</td>\n",
       "      <td>NaN</td>\n",
       "      <td>NaN</td>\n",
       "      <td>NaN</td>\n",
       "      <td>NaN</td>\n",
       "      <td>205.0</td>\n",
       "      <td>NaN</td>\n",
       "      <td>152.0</td>\n",
       "      <td>153.0</td>\n",
       "    </tr>\n",
       "    <tr>\n",
       "      <th>3</th>\n",
       "      <td>4</td>\n",
       "      <td>NaN</td>\n",
       "      <td>NaN</td>\n",
       "      <td>NaN</td>\n",
       "      <td>81.0</td>\n",
       "      <td>NaN</td>\n",
       "      <td>NaN</td>\n",
       "      <td>NaN</td>\n",
       "      <td>NaN</td>\n",
       "      <td>NaN</td>\n",
       "      <td>NaN</td>\n",
       "      <td>NaN</td>\n",
       "      <td>207.0</td>\n",
       "      <td>NaN</td>\n",
       "      <td>153.0</td>\n",
       "      <td>154.0</td>\n",
       "    </tr>\n",
       "    <tr>\n",
       "      <th>4</th>\n",
       "      <td>5</td>\n",
       "      <td>NaN</td>\n",
       "      <td>NaN</td>\n",
       "      <td>NaN</td>\n",
       "      <td>78.0</td>\n",
       "      <td>NaN</td>\n",
       "      <td>NaN</td>\n",
       "      <td>NaN</td>\n",
       "      <td>NaN</td>\n",
       "      <td>NaN</td>\n",
       "      <td>NaN</td>\n",
       "      <td>NaN</td>\n",
       "      <td>203.0</td>\n",
       "      <td>NaN</td>\n",
       "      <td>151.0</td>\n",
       "      <td>152.0</td>\n",
       "    </tr>\n",
       "    <tr>\n",
       "      <th>...</th>\n",
       "      <td>...</td>\n",
       "      <td>...</td>\n",
       "      <td>...</td>\n",
       "      <td>...</td>\n",
       "      <td>...</td>\n",
       "      <td>...</td>\n",
       "      <td>...</td>\n",
       "      <td>...</td>\n",
       "      <td>...</td>\n",
       "      <td>...</td>\n",
       "      <td>...</td>\n",
       "      <td>...</td>\n",
       "      <td>...</td>\n",
       "      <td>...</td>\n",
       "      <td>...</td>\n",
       "      <td>...</td>\n",
       "    </tr>\n",
       "    <tr>\n",
       "      <th>3124</th>\n",
       "      <td>3237</td>\n",
       "      <td>NaN</td>\n",
       "      <td>NaN</td>\n",
       "      <td>170.0</td>\n",
       "      <td>NaN</td>\n",
       "      <td>NaN</td>\n",
       "      <td>NaN</td>\n",
       "      <td>NaN</td>\n",
       "      <td>NaN</td>\n",
       "      <td>NaN</td>\n",
       "      <td>NaN</td>\n",
       "      <td>NaN</td>\n",
       "      <td>252.0</td>\n",
       "      <td>NaN</td>\n",
       "      <td>130.0</td>\n",
       "      <td>206.0</td>\n",
       "    </tr>\n",
       "    <tr>\n",
       "      <th>3125</th>\n",
       "      <td>3238</td>\n",
       "      <td>NaN</td>\n",
       "      <td>NaN</td>\n",
       "      <td>126.0</td>\n",
       "      <td>NaN</td>\n",
       "      <td>NaN</td>\n",
       "      <td>NaN</td>\n",
       "      <td>NaN</td>\n",
       "      <td>NaN</td>\n",
       "      <td>NaN</td>\n",
       "      <td>NaN</td>\n",
       "      <td>NaN</td>\n",
       "      <td>254.0</td>\n",
       "      <td>NaN</td>\n",
       "      <td>108.0</td>\n",
       "      <td>106.0</td>\n",
       "    </tr>\n",
       "    <tr>\n",
       "      <th>3126</th>\n",
       "      <td>3239</td>\n",
       "      <td>NaN</td>\n",
       "      <td>NaN</td>\n",
       "      <td>NaN</td>\n",
       "      <td>NaN</td>\n",
       "      <td>NaN</td>\n",
       "      <td>114.0</td>\n",
       "      <td>NaN</td>\n",
       "      <td>NaN</td>\n",
       "      <td>NaN</td>\n",
       "      <td>NaN</td>\n",
       "      <td>NaN</td>\n",
       "      <td>158.0</td>\n",
       "      <td>NaN</td>\n",
       "      <td>270.0</td>\n",
       "      <td>88.0</td>\n",
       "    </tr>\n",
       "    <tr>\n",
       "      <th>3127</th>\n",
       "      <td>3240</td>\n",
       "      <td>NaN</td>\n",
       "      <td>NaN</td>\n",
       "      <td>NaN</td>\n",
       "      <td>NaN</td>\n",
       "      <td>NaN</td>\n",
       "      <td>26.0</td>\n",
       "      <td>NaN</td>\n",
       "      <td>NaN</td>\n",
       "      <td>NaN</td>\n",
       "      <td>NaN</td>\n",
       "      <td>NaN</td>\n",
       "      <td>NaN</td>\n",
       "      <td>NaN</td>\n",
       "      <td>192.0</td>\n",
       "      <td>54.0</td>\n",
       "    </tr>\n",
       "    <tr>\n",
       "      <th>3128</th>\n",
       "      <td>3241</td>\n",
       "      <td>NaN</td>\n",
       "      <td>NaN</td>\n",
       "      <td>NaN</td>\n",
       "      <td>NaN</td>\n",
       "      <td>NaN</td>\n",
       "      <td>NaN</td>\n",
       "      <td>NaN</td>\n",
       "      <td>NaN</td>\n",
       "      <td>NaN</td>\n",
       "      <td>NaN</td>\n",
       "      <td>NaN</td>\n",
       "      <td>NaN</td>\n",
       "      <td>NaN</td>\n",
       "      <td>180.0</td>\n",
       "      <td>52.0</td>\n",
       "    </tr>\n",
       "  </tbody>\n",
       "</table>\n",
       "<p>3129 rows × 16 columns</p>\n",
       "</div>"
      ],
      "text/plain": [
       "       key  Bulk 1  Bulk 2  Bulk 3  Bulk 4  Bulk 5  Bulk 6  Bulk 7  Bulk 8  \\\n",
       "0        1     NaN     NaN     NaN    43.0     NaN     NaN     NaN     NaN   \n",
       "1        2     NaN     NaN     NaN    73.0     NaN     NaN     NaN     NaN   \n",
       "2        3     NaN     NaN     NaN    34.0     NaN     NaN     NaN     NaN   \n",
       "3        4     NaN     NaN     NaN    81.0     NaN     NaN     NaN     NaN   \n",
       "4        5     NaN     NaN     NaN    78.0     NaN     NaN     NaN     NaN   \n",
       "...    ...     ...     ...     ...     ...     ...     ...     ...     ...   \n",
       "3124  3237     NaN     NaN   170.0     NaN     NaN     NaN     NaN     NaN   \n",
       "3125  3238     NaN     NaN   126.0     NaN     NaN     NaN     NaN     NaN   \n",
       "3126  3239     NaN     NaN     NaN     NaN     NaN   114.0     NaN     NaN   \n",
       "3127  3240     NaN     NaN     NaN     NaN     NaN    26.0     NaN     NaN   \n",
       "3128  3241     NaN     NaN     NaN     NaN     NaN     NaN     NaN     NaN   \n",
       "\n",
       "      Bulk 9  Bulk 10  Bulk 11  Bulk 12  Bulk 13  Bulk 14  Bulk 15  \n",
       "0        NaN      NaN      NaN    206.0      NaN    150.0    154.0  \n",
       "1        NaN      NaN      NaN    206.0      NaN    149.0    154.0  \n",
       "2        NaN      NaN      NaN    205.0      NaN    152.0    153.0  \n",
       "3        NaN      NaN      NaN    207.0      NaN    153.0    154.0  \n",
       "4        NaN      NaN      NaN    203.0      NaN    151.0    152.0  \n",
       "...      ...      ...      ...      ...      ...      ...      ...  \n",
       "3124     NaN      NaN      NaN    252.0      NaN    130.0    206.0  \n",
       "3125     NaN      NaN      NaN    254.0      NaN    108.0    106.0  \n",
       "3126     NaN      NaN      NaN    158.0      NaN    270.0     88.0  \n",
       "3127     NaN      NaN      NaN      NaN      NaN    192.0     54.0  \n",
       "3128     NaN      NaN      NaN      NaN      NaN    180.0     52.0  \n",
       "\n",
       "[3129 rows x 16 columns]"
      ]
     },
     "metadata": {},
     "output_type": "display_data"
    },
    {
     "name": "stdout",
     "output_type": "stream",
     "text": [
      "<class 'pandas.core.frame.DataFrame'>\n",
      "RangeIndex: 3129 entries, 0 to 3128\n",
      "Data columns (total 16 columns):\n",
      " #   Column   Non-Null Count  Dtype  \n",
      "---  ------   --------------  -----  \n",
      " 0   key      3129 non-null   int64  \n",
      " 1   Bulk 1   252 non-null    float64\n",
      " 2   Bulk 2   22 non-null     float64\n",
      " 3   Bulk 3   1298 non-null   float64\n",
      " 4   Bulk 4   1014 non-null   float64\n",
      " 5   Bulk 5   77 non-null     float64\n",
      " 6   Bulk 6   576 non-null    float64\n",
      " 7   Bulk 7   25 non-null     float64\n",
      " 8   Bulk 8   1 non-null      float64\n",
      " 9   Bulk 9   19 non-null     float64\n",
      " 10  Bulk 10  176 non-null    float64\n",
      " 11  Bulk 11  177 non-null    float64\n",
      " 12  Bulk 12  2450 non-null   float64\n",
      " 13  Bulk 13  18 non-null     float64\n",
      " 14  Bulk 14  2806 non-null   float64\n",
      " 15  Bulk 15  2248 non-null   float64\n",
      "dtypes: float64(15), int64(1)\n",
      "memory usage: 391.2 KB\n",
      "\n",
      "\n",
      "key           0\n",
      "Bulk 1     2877\n",
      "Bulk 2     3107\n",
      "Bulk 3     1831\n",
      "Bulk 4     2115\n",
      "Bulk 5     3052\n",
      "Bulk 6     2553\n",
      "Bulk 7     3104\n",
      "Bulk 8     3128\n",
      "Bulk 9     3110\n",
      "Bulk 10    2953\n",
      "Bulk 11    2952\n",
      "Bulk 12     679\n",
      "Bulk 13    3111\n",
      "Bulk 14     323\n",
      "Bulk 15     881\n",
      "dtype: int64\n",
      "               key      Bulk 1      Bulk 2       Bulk 3       Bulk 4  \\\n",
      "count  3129.000000  252.000000   22.000000  1298.000000  1014.000000   \n",
      "mean   1624.383509   39.242063  253.045455   113.879045   104.394477   \n",
      "std     933.337642   18.277654   21.180578    75.483494    48.184126   \n",
      "min       1.000000   10.000000  228.000000     6.000000    12.000000   \n",
      "25%     816.000000   27.000000  242.000000    58.000000    72.000000   \n",
      "50%    1622.000000   31.000000  251.500000    97.500000   102.000000   \n",
      "75%    2431.000000   46.000000  257.750000   152.000000   133.000000   \n",
      "max    3241.000000  185.000000  325.000000   454.000000   281.000000   \n",
      "\n",
      "           Bulk 5      Bulk 6      Bulk 7  Bulk 8      Bulk 9     Bulk 10  \\\n",
      "count   77.000000  576.000000   25.000000     1.0   19.000000  176.000000   \n",
      "mean   107.025974  118.925347  305.600000    49.0   76.315789   83.284091   \n",
      "std     81.790646   72.057776  191.022904     NaN   21.720581   26.060347   \n",
      "min     11.000000   17.000000   47.000000    49.0   63.000000   24.000000   \n",
      "25%     70.000000   69.750000  155.000000    49.0   66.000000   64.000000   \n",
      "50%     86.000000  100.000000  298.000000    49.0   68.000000   86.500000   \n",
      "75%    132.000000  157.000000  406.000000    49.0   70.500000  102.000000   \n",
      "max    603.000000  503.000000  772.000000    49.0  147.000000  159.000000   \n",
      "\n",
      "          Bulk 11      Bulk 12     Bulk 13      Bulk 14      Bulk 15  \n",
      "count  177.000000  2450.000000   18.000000  2806.000000  2248.000000  \n",
      "mean    76.819209   260.471020  181.111111   170.284747   160.513345  \n",
      "std     59.655365   120.649269   46.088009    65.868652    51.765319  \n",
      "min      8.000000    53.000000  151.000000    16.000000     1.000000  \n",
      "25%     25.000000   204.000000  153.250000   119.000000   105.000000  \n",
      "50%     64.000000   208.000000  155.500000   151.000000   160.000000  \n",
      "75%    106.000000   316.000000  203.500000   205.750000   205.000000  \n",
      "max    313.000000  1849.000000  305.000000   636.000000   405.000000  \n",
      "_____________________________________________________\n"
     ]
    }
   ],
   "source": [
    "\n",
    "print('')\n",
    "print('Данные о подаче сыпучих материалов (объём)')\n",
    "display(data_bulk)\n",
    "data_bulk.info()\n",
    "print('')\n",
    "print('')\n",
    "print(data_bulk.isna().sum())\n",
    "print(data_bulk.describe())\n",
    "print('_____________________________________________________')\n"
   ]
  },
  {
   "cell_type": "markdown",
   "id": "ed4a2efb",
   "metadata": {},
   "source": [
    "Мы видим аномальные значение в колонке \"Bulk 8\". Данные неоднозначыне, только одно использование. Принимаем решение о удалении данной колонки."
   ]
  },
  {
   "cell_type": "code",
   "execution_count": 6,
   "id": "c3b5f4e0",
   "metadata": {},
   "outputs": [],
   "source": [
    "data_bulk = data_bulk.drop('Bulk 8', axis=1)"
   ]
  },
  {
   "cell_type": "markdown",
   "id": "c69bb746",
   "metadata": {},
   "source": [
    "**3) Данные о подаче сыпучих материалов (время)**"
   ]
  },
  {
   "cell_type": "code",
   "execution_count": 7,
   "id": "06ab2eeb",
   "metadata": {},
   "outputs": [
    {
     "name": "stdout",
     "output_type": "stream",
     "text": [
      "\n",
      "Данные о подаче сыпучих материалов (время)\n"
     ]
    },
    {
     "data": {
      "text/html": [
       "<div>\n",
       "<style scoped>\n",
       "    .dataframe tbody tr th:only-of-type {\n",
       "        vertical-align: middle;\n",
       "    }\n",
       "\n",
       "    .dataframe tbody tr th {\n",
       "        vertical-align: top;\n",
       "    }\n",
       "\n",
       "    .dataframe thead th {\n",
       "        text-align: right;\n",
       "    }\n",
       "</style>\n",
       "<table border=\"1\" class=\"dataframe\">\n",
       "  <thead>\n",
       "    <tr style=\"text-align: right;\">\n",
       "      <th></th>\n",
       "      <th>key</th>\n",
       "      <th>Bulk 1</th>\n",
       "      <th>Bulk 2</th>\n",
       "      <th>Bulk 3</th>\n",
       "      <th>Bulk 4</th>\n",
       "      <th>Bulk 5</th>\n",
       "      <th>Bulk 6</th>\n",
       "      <th>Bulk 7</th>\n",
       "      <th>Bulk 8</th>\n",
       "      <th>Bulk 9</th>\n",
       "      <th>Bulk 10</th>\n",
       "      <th>Bulk 11</th>\n",
       "      <th>Bulk 12</th>\n",
       "      <th>Bulk 13</th>\n",
       "      <th>Bulk 14</th>\n",
       "      <th>Bulk 15</th>\n",
       "    </tr>\n",
       "  </thead>\n",
       "  <tbody>\n",
       "    <tr>\n",
       "      <th>0</th>\n",
       "      <td>1</td>\n",
       "      <td>NaN</td>\n",
       "      <td>NaN</td>\n",
       "      <td>NaN</td>\n",
       "      <td>2019-05-03 11:21:30</td>\n",
       "      <td>NaN</td>\n",
       "      <td>NaN</td>\n",
       "      <td>NaN</td>\n",
       "      <td>NaN</td>\n",
       "      <td>NaN</td>\n",
       "      <td>NaN</td>\n",
       "      <td>NaN</td>\n",
       "      <td>2019-05-03 11:03:52</td>\n",
       "      <td>NaN</td>\n",
       "      <td>2019-05-03 11:03:52</td>\n",
       "      <td>2019-05-03 11:03:52</td>\n",
       "    </tr>\n",
       "    <tr>\n",
       "      <th>1</th>\n",
       "      <td>2</td>\n",
       "      <td>NaN</td>\n",
       "      <td>NaN</td>\n",
       "      <td>NaN</td>\n",
       "      <td>2019-05-03 11:46:38</td>\n",
       "      <td>NaN</td>\n",
       "      <td>NaN</td>\n",
       "      <td>NaN</td>\n",
       "      <td>NaN</td>\n",
       "      <td>NaN</td>\n",
       "      <td>NaN</td>\n",
       "      <td>NaN</td>\n",
       "      <td>2019-05-03 11:40:20</td>\n",
       "      <td>NaN</td>\n",
       "      <td>2019-05-03 11:40:20</td>\n",
       "      <td>2019-05-03 11:40:20</td>\n",
       "    </tr>\n",
       "    <tr>\n",
       "      <th>2</th>\n",
       "      <td>3</td>\n",
       "      <td>NaN</td>\n",
       "      <td>NaN</td>\n",
       "      <td>NaN</td>\n",
       "      <td>2019-05-03 12:31:06</td>\n",
       "      <td>NaN</td>\n",
       "      <td>NaN</td>\n",
       "      <td>NaN</td>\n",
       "      <td>NaN</td>\n",
       "      <td>NaN</td>\n",
       "      <td>NaN</td>\n",
       "      <td>NaN</td>\n",
       "      <td>2019-05-03 12:09:40</td>\n",
       "      <td>NaN</td>\n",
       "      <td>2019-05-03 12:09:40</td>\n",
       "      <td>2019-05-03 12:09:40</td>\n",
       "    </tr>\n",
       "    <tr>\n",
       "      <th>3</th>\n",
       "      <td>4</td>\n",
       "      <td>NaN</td>\n",
       "      <td>NaN</td>\n",
       "      <td>NaN</td>\n",
       "      <td>2019-05-03 12:48:43</td>\n",
       "      <td>NaN</td>\n",
       "      <td>NaN</td>\n",
       "      <td>NaN</td>\n",
       "      <td>NaN</td>\n",
       "      <td>NaN</td>\n",
       "      <td>NaN</td>\n",
       "      <td>NaN</td>\n",
       "      <td>2019-05-03 12:41:24</td>\n",
       "      <td>NaN</td>\n",
       "      <td>2019-05-03 12:41:24</td>\n",
       "      <td>2019-05-03 12:41:24</td>\n",
       "    </tr>\n",
       "    <tr>\n",
       "      <th>4</th>\n",
       "      <td>5</td>\n",
       "      <td>NaN</td>\n",
       "      <td>NaN</td>\n",
       "      <td>NaN</td>\n",
       "      <td>2019-05-03 13:18:50</td>\n",
       "      <td>NaN</td>\n",
       "      <td>NaN</td>\n",
       "      <td>NaN</td>\n",
       "      <td>NaN</td>\n",
       "      <td>NaN</td>\n",
       "      <td>NaN</td>\n",
       "      <td>NaN</td>\n",
       "      <td>2019-05-03 13:12:56</td>\n",
       "      <td>NaN</td>\n",
       "      <td>2019-05-03 13:12:56</td>\n",
       "      <td>2019-05-03 13:12:56</td>\n",
       "    </tr>\n",
       "    <tr>\n",
       "      <th>...</th>\n",
       "      <td>...</td>\n",
       "      <td>...</td>\n",
       "      <td>...</td>\n",
       "      <td>...</td>\n",
       "      <td>...</td>\n",
       "      <td>...</td>\n",
       "      <td>...</td>\n",
       "      <td>...</td>\n",
       "      <td>...</td>\n",
       "      <td>...</td>\n",
       "      <td>...</td>\n",
       "      <td>...</td>\n",
       "      <td>...</td>\n",
       "      <td>...</td>\n",
       "      <td>...</td>\n",
       "      <td>...</td>\n",
       "    </tr>\n",
       "    <tr>\n",
       "      <th>3124</th>\n",
       "      <td>3237</td>\n",
       "      <td>NaN</td>\n",
       "      <td>NaN</td>\n",
       "      <td>2019-08-31 22:51:28</td>\n",
       "      <td>NaN</td>\n",
       "      <td>NaN</td>\n",
       "      <td>NaN</td>\n",
       "      <td>NaN</td>\n",
       "      <td>NaN</td>\n",
       "      <td>NaN</td>\n",
       "      <td>NaN</td>\n",
       "      <td>NaN</td>\n",
       "      <td>2019-08-31 22:46:52</td>\n",
       "      <td>NaN</td>\n",
       "      <td>2019-08-31 22:46:52</td>\n",
       "      <td>2019-08-31 22:46:52</td>\n",
       "    </tr>\n",
       "    <tr>\n",
       "      <th>3125</th>\n",
       "      <td>3238</td>\n",
       "      <td>NaN</td>\n",
       "      <td>NaN</td>\n",
       "      <td>2019-08-31 23:39:11</td>\n",
       "      <td>NaN</td>\n",
       "      <td>NaN</td>\n",
       "      <td>NaN</td>\n",
       "      <td>NaN</td>\n",
       "      <td>NaN</td>\n",
       "      <td>NaN</td>\n",
       "      <td>NaN</td>\n",
       "      <td>NaN</td>\n",
       "      <td>2019-08-31 23:33:09</td>\n",
       "      <td>NaN</td>\n",
       "      <td>2019-08-31 23:33:09</td>\n",
       "      <td>2019-08-31 23:33:09</td>\n",
       "    </tr>\n",
       "    <tr>\n",
       "      <th>3126</th>\n",
       "      <td>3239</td>\n",
       "      <td>NaN</td>\n",
       "      <td>NaN</td>\n",
       "      <td>NaN</td>\n",
       "      <td>NaN</td>\n",
       "      <td>NaN</td>\n",
       "      <td>2019-09-01 01:51:58</td>\n",
       "      <td>NaN</td>\n",
       "      <td>NaN</td>\n",
       "      <td>NaN</td>\n",
       "      <td>NaN</td>\n",
       "      <td>NaN</td>\n",
       "      <td>2019-09-01 01:39:41</td>\n",
       "      <td>NaN</td>\n",
       "      <td>2019-09-01 01:33:25</td>\n",
       "      <td>2019-09-01 01:33:25</td>\n",
       "    </tr>\n",
       "    <tr>\n",
       "      <th>3127</th>\n",
       "      <td>3240</td>\n",
       "      <td>NaN</td>\n",
       "      <td>NaN</td>\n",
       "      <td>NaN</td>\n",
       "      <td>NaN</td>\n",
       "      <td>NaN</td>\n",
       "      <td>2019-09-01 03:12:40</td>\n",
       "      <td>NaN</td>\n",
       "      <td>NaN</td>\n",
       "      <td>NaN</td>\n",
       "      <td>NaN</td>\n",
       "      <td>NaN</td>\n",
       "      <td>NaN</td>\n",
       "      <td>NaN</td>\n",
       "      <td>2019-09-01 02:41:27</td>\n",
       "      <td>2019-09-01 02:41:27</td>\n",
       "    </tr>\n",
       "    <tr>\n",
       "      <th>3128</th>\n",
       "      <td>3241</td>\n",
       "      <td>NaN</td>\n",
       "      <td>NaN</td>\n",
       "      <td>NaN</td>\n",
       "      <td>NaN</td>\n",
       "      <td>NaN</td>\n",
       "      <td>NaN</td>\n",
       "      <td>NaN</td>\n",
       "      <td>NaN</td>\n",
       "      <td>NaN</td>\n",
       "      <td>NaN</td>\n",
       "      <td>NaN</td>\n",
       "      <td>NaN</td>\n",
       "      <td>NaN</td>\n",
       "      <td>2019-09-01 04:05:34</td>\n",
       "      <td>2019-09-01 04:05:34</td>\n",
       "    </tr>\n",
       "  </tbody>\n",
       "</table>\n",
       "<p>3129 rows × 16 columns</p>\n",
       "</div>"
      ],
      "text/plain": [
       "       key Bulk 1 Bulk 2               Bulk 3               Bulk 4 Bulk 5  \\\n",
       "0        1    NaN    NaN                  NaN  2019-05-03 11:21:30    NaN   \n",
       "1        2    NaN    NaN                  NaN  2019-05-03 11:46:38    NaN   \n",
       "2        3    NaN    NaN                  NaN  2019-05-03 12:31:06    NaN   \n",
       "3        4    NaN    NaN                  NaN  2019-05-03 12:48:43    NaN   \n",
       "4        5    NaN    NaN                  NaN  2019-05-03 13:18:50    NaN   \n",
       "...    ...    ...    ...                  ...                  ...    ...   \n",
       "3124  3237    NaN    NaN  2019-08-31 22:51:28                  NaN    NaN   \n",
       "3125  3238    NaN    NaN  2019-08-31 23:39:11                  NaN    NaN   \n",
       "3126  3239    NaN    NaN                  NaN                  NaN    NaN   \n",
       "3127  3240    NaN    NaN                  NaN                  NaN    NaN   \n",
       "3128  3241    NaN    NaN                  NaN                  NaN    NaN   \n",
       "\n",
       "                   Bulk 6 Bulk 7 Bulk 8 Bulk 9 Bulk 10 Bulk 11  \\\n",
       "0                     NaN    NaN    NaN    NaN     NaN     NaN   \n",
       "1                     NaN    NaN    NaN    NaN     NaN     NaN   \n",
       "2                     NaN    NaN    NaN    NaN     NaN     NaN   \n",
       "3                     NaN    NaN    NaN    NaN     NaN     NaN   \n",
       "4                     NaN    NaN    NaN    NaN     NaN     NaN   \n",
       "...                   ...    ...    ...    ...     ...     ...   \n",
       "3124                  NaN    NaN    NaN    NaN     NaN     NaN   \n",
       "3125                  NaN    NaN    NaN    NaN     NaN     NaN   \n",
       "3126  2019-09-01 01:51:58    NaN    NaN    NaN     NaN     NaN   \n",
       "3127  2019-09-01 03:12:40    NaN    NaN    NaN     NaN     NaN   \n",
       "3128                  NaN    NaN    NaN    NaN     NaN     NaN   \n",
       "\n",
       "                  Bulk 12 Bulk 13              Bulk 14              Bulk 15  \n",
       "0     2019-05-03 11:03:52     NaN  2019-05-03 11:03:52  2019-05-03 11:03:52  \n",
       "1     2019-05-03 11:40:20     NaN  2019-05-03 11:40:20  2019-05-03 11:40:20  \n",
       "2     2019-05-03 12:09:40     NaN  2019-05-03 12:09:40  2019-05-03 12:09:40  \n",
       "3     2019-05-03 12:41:24     NaN  2019-05-03 12:41:24  2019-05-03 12:41:24  \n",
       "4     2019-05-03 13:12:56     NaN  2019-05-03 13:12:56  2019-05-03 13:12:56  \n",
       "...                   ...     ...                  ...                  ...  \n",
       "3124  2019-08-31 22:46:52     NaN  2019-08-31 22:46:52  2019-08-31 22:46:52  \n",
       "3125  2019-08-31 23:33:09     NaN  2019-08-31 23:33:09  2019-08-31 23:33:09  \n",
       "3126  2019-09-01 01:39:41     NaN  2019-09-01 01:33:25  2019-09-01 01:33:25  \n",
       "3127                  NaN     NaN  2019-09-01 02:41:27  2019-09-01 02:41:27  \n",
       "3128                  NaN     NaN  2019-09-01 04:05:34  2019-09-01 04:05:34  \n",
       "\n",
       "[3129 rows x 16 columns]"
      ]
     },
     "metadata": {},
     "output_type": "display_data"
    },
    {
     "name": "stdout",
     "output_type": "stream",
     "text": [
      "<class 'pandas.core.frame.DataFrame'>\n",
      "RangeIndex: 3129 entries, 0 to 3128\n",
      "Data columns (total 16 columns):\n",
      " #   Column   Non-Null Count  Dtype \n",
      "---  ------   --------------  ----- \n",
      " 0   key      3129 non-null   int64 \n",
      " 1   Bulk 1   252 non-null    object\n",
      " 2   Bulk 2   22 non-null     object\n",
      " 3   Bulk 3   1298 non-null   object\n",
      " 4   Bulk 4   1014 non-null   object\n",
      " 5   Bulk 5   77 non-null     object\n",
      " 6   Bulk 6   576 non-null    object\n",
      " 7   Bulk 7   25 non-null     object\n",
      " 8   Bulk 8   1 non-null      object\n",
      " 9   Bulk 9   19 non-null     object\n",
      " 10  Bulk 10  176 non-null    object\n",
      " 11  Bulk 11  177 non-null    object\n",
      " 12  Bulk 12  2450 non-null   object\n",
      " 13  Bulk 13  18 non-null     object\n",
      " 14  Bulk 14  2806 non-null   object\n",
      " 15  Bulk 15  2248 non-null   object\n",
      "dtypes: int64(1), object(15)\n",
      "memory usage: 391.2+ KB\n",
      "key           0\n",
      "Bulk 1     2877\n",
      "Bulk 2     3107\n",
      "Bulk 3     1831\n",
      "Bulk 4     2115\n",
      "Bulk 5     3052\n",
      "Bulk 6     2553\n",
      "Bulk 7     3104\n",
      "Bulk 8     3128\n",
      "Bulk 9     3110\n",
      "Bulk 10    2953\n",
      "Bulk 11    2952\n",
      "Bulk 12     679\n",
      "Bulk 13    3111\n",
      "Bulk 14     323\n",
      "Bulk 15     881\n",
      "dtype: int64\n",
      "               key\n",
      "count  3129.000000\n",
      "mean   1624.383509\n",
      "std     933.337642\n",
      "min       1.000000\n",
      "25%     816.000000\n",
      "50%    1622.000000\n",
      "75%    2431.000000\n",
      "max    3241.000000\n",
      "_____________________________________________________\n"
     ]
    }
   ],
   "source": [
    "print('')\n",
    "print('Данные о подаче сыпучих материалов (время)')\n",
    "display(data_bulk_time)\n",
    "data_bulk_time.info()\n",
    "print(data_bulk_time.isna().sum())\n",
    "print(data_bulk_time.describe())\n",
    "print('_____________________________________________________')"
   ]
  },
  {
   "cell_type": "markdown",
   "id": "1789cef1",
   "metadata": {},
   "source": [
    "Отклонений не выявлено"
   ]
  },
  {
   "cell_type": "markdown",
   "id": "bf522e2f",
   "metadata": {},
   "source": [
    "**4) Данные о продувке сплава газом**"
   ]
  },
  {
   "cell_type": "code",
   "execution_count": 8,
   "id": "ab650870",
   "metadata": {},
   "outputs": [
    {
     "name": "stdout",
     "output_type": "stream",
     "text": [
      "\n",
      "Данные о продувке сплава газом\n"
     ]
    },
    {
     "data": {
      "text/html": [
       "<div>\n",
       "<style scoped>\n",
       "    .dataframe tbody tr th:only-of-type {\n",
       "        vertical-align: middle;\n",
       "    }\n",
       "\n",
       "    .dataframe tbody tr th {\n",
       "        vertical-align: top;\n",
       "    }\n",
       "\n",
       "    .dataframe thead th {\n",
       "        text-align: right;\n",
       "    }\n",
       "</style>\n",
       "<table border=\"1\" class=\"dataframe\">\n",
       "  <thead>\n",
       "    <tr style=\"text-align: right;\">\n",
       "      <th></th>\n",
       "      <th>key</th>\n",
       "      <th>Газ 1</th>\n",
       "    </tr>\n",
       "  </thead>\n",
       "  <tbody>\n",
       "    <tr>\n",
       "      <th>0</th>\n",
       "      <td>1</td>\n",
       "      <td>29.749986</td>\n",
       "    </tr>\n",
       "    <tr>\n",
       "      <th>1</th>\n",
       "      <td>2</td>\n",
       "      <td>12.555561</td>\n",
       "    </tr>\n",
       "    <tr>\n",
       "      <th>2</th>\n",
       "      <td>3</td>\n",
       "      <td>28.554793</td>\n",
       "    </tr>\n",
       "    <tr>\n",
       "      <th>3</th>\n",
       "      <td>4</td>\n",
       "      <td>18.841219</td>\n",
       "    </tr>\n",
       "    <tr>\n",
       "      <th>4</th>\n",
       "      <td>5</td>\n",
       "      <td>5.413692</td>\n",
       "    </tr>\n",
       "    <tr>\n",
       "      <th>...</th>\n",
       "      <td>...</td>\n",
       "      <td>...</td>\n",
       "    </tr>\n",
       "    <tr>\n",
       "      <th>3234</th>\n",
       "      <td>3237</td>\n",
       "      <td>5.543905</td>\n",
       "    </tr>\n",
       "    <tr>\n",
       "      <th>3235</th>\n",
       "      <td>3238</td>\n",
       "      <td>6.745669</td>\n",
       "    </tr>\n",
       "    <tr>\n",
       "      <th>3236</th>\n",
       "      <td>3239</td>\n",
       "      <td>16.023518</td>\n",
       "    </tr>\n",
       "    <tr>\n",
       "      <th>3237</th>\n",
       "      <td>3240</td>\n",
       "      <td>11.863103</td>\n",
       "    </tr>\n",
       "    <tr>\n",
       "      <th>3238</th>\n",
       "      <td>3241</td>\n",
       "      <td>12.680959</td>\n",
       "    </tr>\n",
       "  </tbody>\n",
       "</table>\n",
       "<p>3239 rows × 2 columns</p>\n",
       "</div>"
      ],
      "text/plain": [
       "       key      Газ 1\n",
       "0        1  29.749986\n",
       "1        2  12.555561\n",
       "2        3  28.554793\n",
       "3        4  18.841219\n",
       "4        5   5.413692\n",
       "...    ...        ...\n",
       "3234  3237   5.543905\n",
       "3235  3238   6.745669\n",
       "3236  3239  16.023518\n",
       "3237  3240  11.863103\n",
       "3238  3241  12.680959\n",
       "\n",
       "[3239 rows x 2 columns]"
      ]
     },
     "metadata": {},
     "output_type": "display_data"
    },
    {
     "name": "stdout",
     "output_type": "stream",
     "text": [
      "<class 'pandas.core.frame.DataFrame'>\n",
      "RangeIndex: 3239 entries, 0 to 3238\n",
      "Data columns (total 2 columns):\n",
      " #   Column  Non-Null Count  Dtype  \n",
      "---  ------  --------------  -----  \n",
      " 0   key     3239 non-null   int64  \n",
      " 1   Газ 1   3239 non-null   float64\n",
      "dtypes: float64(1), int64(1)\n",
      "memory usage: 50.7 KB\n",
      "key      0\n",
      "Газ 1    0\n",
      "dtype: int64\n",
      "               key        Газ 1\n",
      "count  3239.000000  3239.000000\n",
      "mean   1621.861377    11.002062\n",
      "std     935.386334     6.220327\n",
      "min       1.000000     0.008399\n",
      "25%     812.500000     7.043089\n",
      "50%    1622.000000     9.836267\n",
      "75%    2431.500000    13.769915\n",
      "max    3241.000000    77.995040\n",
      "_____________________________________________________\n"
     ]
    }
   ],
   "source": [
    "print('')\n",
    "print('Данные о продувке сплава газом')\n",
    "display(data_gas)\n",
    "data_gas.info()\n",
    "print(data_gas.isna().sum())\n",
    "print(data_gas.describe())\n",
    "print('_____________________________________________________')"
   ]
  },
  {
   "cell_type": "markdown",
   "id": "ad63105c",
   "metadata": {},
   "source": [
    "Отклонений не выявлено"
   ]
  },
  {
   "cell_type": "markdown",
   "id": "d8481d01",
   "metadata": {},
   "source": [
    "**5) Результаты измерения температуры**"
   ]
  },
  {
   "cell_type": "code",
   "execution_count": 9,
   "id": "fae79746",
   "metadata": {},
   "outputs": [
    {
     "name": "stdout",
     "output_type": "stream",
     "text": [
      "\n",
      "Результаты измерения температуры\n"
     ]
    },
    {
     "data": {
      "text/html": [
       "<div>\n",
       "<style scoped>\n",
       "    .dataframe tbody tr th:only-of-type {\n",
       "        vertical-align: middle;\n",
       "    }\n",
       "\n",
       "    .dataframe tbody tr th {\n",
       "        vertical-align: top;\n",
       "    }\n",
       "\n",
       "    .dataframe thead th {\n",
       "        text-align: right;\n",
       "    }\n",
       "</style>\n",
       "<table border=\"1\" class=\"dataframe\">\n",
       "  <thead>\n",
       "    <tr style=\"text-align: right;\">\n",
       "      <th></th>\n",
       "      <th>key</th>\n",
       "      <th>Время замера</th>\n",
       "      <th>Температура</th>\n",
       "    </tr>\n",
       "  </thead>\n",
       "  <tbody>\n",
       "    <tr>\n",
       "      <th>0</th>\n",
       "      <td>1</td>\n",
       "      <td>2019-05-03 11:16:18</td>\n",
       "      <td>1571.0</td>\n",
       "    </tr>\n",
       "    <tr>\n",
       "      <th>1</th>\n",
       "      <td>1</td>\n",
       "      <td>2019-05-03 11:25:53</td>\n",
       "      <td>1604.0</td>\n",
       "    </tr>\n",
       "    <tr>\n",
       "      <th>2</th>\n",
       "      <td>1</td>\n",
       "      <td>2019-05-03 11:29:11</td>\n",
       "      <td>1618.0</td>\n",
       "    </tr>\n",
       "    <tr>\n",
       "      <th>3</th>\n",
       "      <td>1</td>\n",
       "      <td>2019-05-03 11:30:01</td>\n",
       "      <td>1601.0</td>\n",
       "    </tr>\n",
       "    <tr>\n",
       "      <th>4</th>\n",
       "      <td>1</td>\n",
       "      <td>2019-05-03 11:30:39</td>\n",
       "      <td>1613.0</td>\n",
       "    </tr>\n",
       "    <tr>\n",
       "      <th>...</th>\n",
       "      <td>...</td>\n",
       "      <td>...</td>\n",
       "      <td>...</td>\n",
       "    </tr>\n",
       "    <tr>\n",
       "      <th>15902</th>\n",
       "      <td>3241</td>\n",
       "      <td>2019-09-01 04:03:30</td>\n",
       "      <td>1586.0</td>\n",
       "    </tr>\n",
       "    <tr>\n",
       "      <th>15903</th>\n",
       "      <td>3241</td>\n",
       "      <td>2019-09-01 04:16:12</td>\n",
       "      <td>NaN</td>\n",
       "    </tr>\n",
       "    <tr>\n",
       "      <th>15904</th>\n",
       "      <td>3241</td>\n",
       "      <td>2019-09-01 04:22:39</td>\n",
       "      <td>NaN</td>\n",
       "    </tr>\n",
       "    <tr>\n",
       "      <th>15905</th>\n",
       "      <td>3241</td>\n",
       "      <td>2019-09-01 04:33:42</td>\n",
       "      <td>NaN</td>\n",
       "    </tr>\n",
       "    <tr>\n",
       "      <th>15906</th>\n",
       "      <td>3241</td>\n",
       "      <td>2019-09-01 04:38:08</td>\n",
       "      <td>NaN</td>\n",
       "    </tr>\n",
       "  </tbody>\n",
       "</table>\n",
       "<p>15907 rows × 3 columns</p>\n",
       "</div>"
      ],
      "text/plain": [
       "        key         Время замера  Температура\n",
       "0         1  2019-05-03 11:16:18       1571.0\n",
       "1         1  2019-05-03 11:25:53       1604.0\n",
       "2         1  2019-05-03 11:29:11       1618.0\n",
       "3         1  2019-05-03 11:30:01       1601.0\n",
       "4         1  2019-05-03 11:30:39       1613.0\n",
       "...     ...                  ...          ...\n",
       "15902  3241  2019-09-01 04:03:30       1586.0\n",
       "15903  3241  2019-09-01 04:16:12          NaN\n",
       "15904  3241  2019-09-01 04:22:39          NaN\n",
       "15905  3241  2019-09-01 04:33:42          NaN\n",
       "15906  3241  2019-09-01 04:38:08          NaN\n",
       "\n",
       "[15907 rows x 3 columns]"
      ]
     },
     "metadata": {},
     "output_type": "display_data"
    },
    {
     "name": "stdout",
     "output_type": "stream",
     "text": [
      "<class 'pandas.core.frame.DataFrame'>\n",
      "RangeIndex: 15907 entries, 0 to 15906\n",
      "Data columns (total 3 columns):\n",
      " #   Column        Non-Null Count  Dtype  \n",
      "---  ------        --------------  -----  \n",
      " 0   key           15907 non-null  int64  \n",
      " 1   Время замера  15907 non-null  object \n",
      " 2   Температура   13006 non-null  float64\n",
      "dtypes: float64(1), int64(1), object(1)\n",
      "memory usage: 372.9+ KB\n",
      "key                0\n",
      "Время замера       0\n",
      "Температура     2901\n",
      "dtype: int64\n",
      "                key   Температура\n",
      "count  15907.000000  13006.000000\n",
      "mean    1607.880870   1591.840920\n",
      "std      942.212073     21.375851\n",
      "min        1.000000   1191.000000\n",
      "25%      790.000000   1581.000000\n",
      "50%     1618.000000   1591.000000\n",
      "75%     2427.000000   1601.000000\n",
      "max     3241.000000   1705.000000\n",
      "_____________________________________________________\n"
     ]
    }
   ],
   "source": [
    "print('')\n",
    "print('Результаты измерения температуры')\n",
    "display(data_temp)\n",
    "data_temp.info()\n",
    "print(data_temp.isna().sum())\n",
    "print(data_temp.describe())\n",
    "print('_____________________________________________________')"
   ]
  },
  {
   "cell_type": "markdown",
   "id": "1b5a4334",
   "metadata": {},
   "source": [
    "Отклонений не выявлено"
   ]
  },
  {
   "cell_type": "markdown",
   "id": "95e3a923",
   "metadata": {},
   "source": [
    "**6) Данные о проволочных материалах (объём)**"
   ]
  },
  {
   "cell_type": "code",
   "execution_count": 10,
   "id": "656e22b4",
   "metadata": {},
   "outputs": [
    {
     "name": "stdout",
     "output_type": "stream",
     "text": [
      "\n",
      "Данные о проволочных материалах (объём)\n"
     ]
    },
    {
     "data": {
      "text/html": [
       "<div>\n",
       "<style scoped>\n",
       "    .dataframe tbody tr th:only-of-type {\n",
       "        vertical-align: middle;\n",
       "    }\n",
       "\n",
       "    .dataframe tbody tr th {\n",
       "        vertical-align: top;\n",
       "    }\n",
       "\n",
       "    .dataframe thead th {\n",
       "        text-align: right;\n",
       "    }\n",
       "</style>\n",
       "<table border=\"1\" class=\"dataframe\">\n",
       "  <thead>\n",
       "    <tr style=\"text-align: right;\">\n",
       "      <th></th>\n",
       "      <th>key</th>\n",
       "      <th>Wire 1</th>\n",
       "      <th>Wire 2</th>\n",
       "      <th>Wire 3</th>\n",
       "      <th>Wire 4</th>\n",
       "      <th>Wire 5</th>\n",
       "      <th>Wire 6</th>\n",
       "      <th>Wire 7</th>\n",
       "      <th>Wire 8</th>\n",
       "      <th>Wire 9</th>\n",
       "    </tr>\n",
       "  </thead>\n",
       "  <tbody>\n",
       "    <tr>\n",
       "      <th>0</th>\n",
       "      <td>1</td>\n",
       "      <td>60.059998</td>\n",
       "      <td>NaN</td>\n",
       "      <td>NaN</td>\n",
       "      <td>NaN</td>\n",
       "      <td>NaN</td>\n",
       "      <td>NaN</td>\n",
       "      <td>NaN</td>\n",
       "      <td>NaN</td>\n",
       "      <td>NaN</td>\n",
       "    </tr>\n",
       "    <tr>\n",
       "      <th>1</th>\n",
       "      <td>2</td>\n",
       "      <td>96.052315</td>\n",
       "      <td>NaN</td>\n",
       "      <td>NaN</td>\n",
       "      <td>NaN</td>\n",
       "      <td>NaN</td>\n",
       "      <td>NaN</td>\n",
       "      <td>NaN</td>\n",
       "      <td>NaN</td>\n",
       "      <td>NaN</td>\n",
       "    </tr>\n",
       "    <tr>\n",
       "      <th>2</th>\n",
       "      <td>3</td>\n",
       "      <td>91.160157</td>\n",
       "      <td>NaN</td>\n",
       "      <td>NaN</td>\n",
       "      <td>NaN</td>\n",
       "      <td>NaN</td>\n",
       "      <td>NaN</td>\n",
       "      <td>NaN</td>\n",
       "      <td>NaN</td>\n",
       "      <td>NaN</td>\n",
       "    </tr>\n",
       "    <tr>\n",
       "      <th>3</th>\n",
       "      <td>4</td>\n",
       "      <td>89.063515</td>\n",
       "      <td>NaN</td>\n",
       "      <td>NaN</td>\n",
       "      <td>NaN</td>\n",
       "      <td>NaN</td>\n",
       "      <td>NaN</td>\n",
       "      <td>NaN</td>\n",
       "      <td>NaN</td>\n",
       "      <td>NaN</td>\n",
       "    </tr>\n",
       "    <tr>\n",
       "      <th>4</th>\n",
       "      <td>5</td>\n",
       "      <td>89.238236</td>\n",
       "      <td>9.11456</td>\n",
       "      <td>NaN</td>\n",
       "      <td>NaN</td>\n",
       "      <td>NaN</td>\n",
       "      <td>NaN</td>\n",
       "      <td>NaN</td>\n",
       "      <td>NaN</td>\n",
       "      <td>NaN</td>\n",
       "    </tr>\n",
       "    <tr>\n",
       "      <th>...</th>\n",
       "      <td>...</td>\n",
       "      <td>...</td>\n",
       "      <td>...</td>\n",
       "      <td>...</td>\n",
       "      <td>...</td>\n",
       "      <td>...</td>\n",
       "      <td>...</td>\n",
       "      <td>...</td>\n",
       "      <td>...</td>\n",
       "      <td>...</td>\n",
       "    </tr>\n",
       "    <tr>\n",
       "      <th>3076</th>\n",
       "      <td>3237</td>\n",
       "      <td>38.088959</td>\n",
       "      <td>NaN</td>\n",
       "      <td>NaN</td>\n",
       "      <td>NaN</td>\n",
       "      <td>NaN</td>\n",
       "      <td>NaN</td>\n",
       "      <td>NaN</td>\n",
       "      <td>NaN</td>\n",
       "      <td>NaN</td>\n",
       "    </tr>\n",
       "    <tr>\n",
       "      <th>3077</th>\n",
       "      <td>3238</td>\n",
       "      <td>56.128799</td>\n",
       "      <td>NaN</td>\n",
       "      <td>NaN</td>\n",
       "      <td>NaN</td>\n",
       "      <td>NaN</td>\n",
       "      <td>NaN</td>\n",
       "      <td>NaN</td>\n",
       "      <td>NaN</td>\n",
       "      <td>NaN</td>\n",
       "    </tr>\n",
       "    <tr>\n",
       "      <th>3078</th>\n",
       "      <td>3239</td>\n",
       "      <td>143.357761</td>\n",
       "      <td>NaN</td>\n",
       "      <td>NaN</td>\n",
       "      <td>NaN</td>\n",
       "      <td>NaN</td>\n",
       "      <td>NaN</td>\n",
       "      <td>NaN</td>\n",
       "      <td>NaN</td>\n",
       "      <td>NaN</td>\n",
       "    </tr>\n",
       "    <tr>\n",
       "      <th>3079</th>\n",
       "      <td>3240</td>\n",
       "      <td>34.070400</td>\n",
       "      <td>NaN</td>\n",
       "      <td>NaN</td>\n",
       "      <td>NaN</td>\n",
       "      <td>NaN</td>\n",
       "      <td>NaN</td>\n",
       "      <td>NaN</td>\n",
       "      <td>NaN</td>\n",
       "      <td>NaN</td>\n",
       "    </tr>\n",
       "    <tr>\n",
       "      <th>3080</th>\n",
       "      <td>3241</td>\n",
       "      <td>63.117595</td>\n",
       "      <td>NaN</td>\n",
       "      <td>NaN</td>\n",
       "      <td>NaN</td>\n",
       "      <td>NaN</td>\n",
       "      <td>NaN</td>\n",
       "      <td>NaN</td>\n",
       "      <td>NaN</td>\n",
       "      <td>NaN</td>\n",
       "    </tr>\n",
       "  </tbody>\n",
       "</table>\n",
       "<p>3081 rows × 10 columns</p>\n",
       "</div>"
      ],
      "text/plain": [
       "       key      Wire 1   Wire 2  Wire 3  Wire 4  Wire 5  Wire 6  Wire 7  \\\n",
       "0        1   60.059998      NaN     NaN     NaN     NaN     NaN     NaN   \n",
       "1        2   96.052315      NaN     NaN     NaN     NaN     NaN     NaN   \n",
       "2        3   91.160157      NaN     NaN     NaN     NaN     NaN     NaN   \n",
       "3        4   89.063515      NaN     NaN     NaN     NaN     NaN     NaN   \n",
       "4        5   89.238236  9.11456     NaN     NaN     NaN     NaN     NaN   \n",
       "...    ...         ...      ...     ...     ...     ...     ...     ...   \n",
       "3076  3237   38.088959      NaN     NaN     NaN     NaN     NaN     NaN   \n",
       "3077  3238   56.128799      NaN     NaN     NaN     NaN     NaN     NaN   \n",
       "3078  3239  143.357761      NaN     NaN     NaN     NaN     NaN     NaN   \n",
       "3079  3240   34.070400      NaN     NaN     NaN     NaN     NaN     NaN   \n",
       "3080  3241   63.117595      NaN     NaN     NaN     NaN     NaN     NaN   \n",
       "\n",
       "      Wire 8  Wire 9  \n",
       "0        NaN     NaN  \n",
       "1        NaN     NaN  \n",
       "2        NaN     NaN  \n",
       "3        NaN     NaN  \n",
       "4        NaN     NaN  \n",
       "...      ...     ...  \n",
       "3076     NaN     NaN  \n",
       "3077     NaN     NaN  \n",
       "3078     NaN     NaN  \n",
       "3079     NaN     NaN  \n",
       "3080     NaN     NaN  \n",
       "\n",
       "[3081 rows x 10 columns]"
      ]
     },
     "metadata": {},
     "output_type": "display_data"
    },
    {
     "name": "stdout",
     "output_type": "stream",
     "text": [
      "<class 'pandas.core.frame.DataFrame'>\n",
      "RangeIndex: 3081 entries, 0 to 3080\n",
      "Data columns (total 10 columns):\n",
      " #   Column  Non-Null Count  Dtype  \n",
      "---  ------  --------------  -----  \n",
      " 0   key     3081 non-null   int64  \n",
      " 1   Wire 1  3055 non-null   float64\n",
      " 2   Wire 2  1079 non-null   float64\n",
      " 3   Wire 3  63 non-null     float64\n",
      " 4   Wire 4  14 non-null     float64\n",
      " 5   Wire 5  1 non-null      float64\n",
      " 6   Wire 6  73 non-null     float64\n",
      " 7   Wire 7  11 non-null     float64\n",
      " 8   Wire 8  19 non-null     float64\n",
      " 9   Wire 9  29 non-null     float64\n",
      "dtypes: float64(9), int64(1)\n",
      "memory usage: 240.8 KB\n",
      "key          0\n",
      "Wire 1      26\n",
      "Wire 2    2002\n",
      "Wire 3    3018\n",
      "Wire 4    3067\n",
      "Wire 5    3080\n",
      "Wire 6    3008\n",
      "Wire 7    3070\n",
      "Wire 8    3062\n",
      "Wire 9    3052\n",
      "dtype: int64\n",
      "               key       Wire 1       Wire 2      Wire 3      Wire 4  Wire 5  \\\n",
      "count  3081.000000  3055.000000  1079.000000   63.000000   14.000000   1.000   \n",
      "mean   1623.426485   100.895853    50.577323  189.482681   57.442841  15.132   \n",
      "std     932.996726    42.012518    39.320216   99.513444   28.824667     NaN   \n",
      "min       1.000000     1.918800     0.030160    0.144144   24.148801  15.132   \n",
      "25%     823.000000    72.115684    20.193680   95.135044   40.807002  15.132   \n",
      "50%    1619.000000   100.158234    40.142956  235.194977   45.234282  15.132   \n",
      "75%    2434.000000   126.060483    70.227558  276.252014   76.124619  15.132   \n",
      "max    3241.000000   330.314424   282.780152  385.008668  113.231044  15.132   \n",
      "\n",
      "           Wire 6     Wire 7      Wire 8     Wire 9  \n",
      "count   73.000000  11.000000   19.000000  29.000000  \n",
      "mean    48.016974  10.039007   53.625193  34.155752  \n",
      "std     33.919845   8.610584   16.881728  19.931616  \n",
      "min      0.034320   0.234208   45.076721   4.622800  \n",
      "25%     25.053600   6.762756   46.094879  22.058401  \n",
      "50%     42.076324   9.017009   46.279999  30.066399  \n",
      "75%     64.212723  11.886057   48.089603  43.862003  \n",
      "max    180.454575  32.847674  102.762401  90.053604  \n",
      "_____________________________________________________\n"
     ]
    }
   ],
   "source": [
    "print('')\n",
    "print('Данные о проволочных материалах (объём)')\n",
    "display(data_wire)\n",
    "data_wire.info()\n",
    "print(data_wire.isna().sum())\n",
    "print(data_wire.describe())\n",
    "print('_____________________________________________________')"
   ]
  },
  {
   "cell_type": "markdown",
   "id": "88442eee",
   "metadata": {},
   "source": [
    "Мы видим в колонке 'Wire 5' единичное значение. Предполагаем искажение данных/ошибку - удаляем колонку."
   ]
  },
  {
   "cell_type": "code",
   "execution_count": 11,
   "id": "665956a1",
   "metadata": {},
   "outputs": [],
   "source": [
    "data_wire = data_wire.drop('Wire 5', axis=1)"
   ]
  },
  {
   "cell_type": "markdown",
   "id": "acd1f916",
   "metadata": {},
   "source": [
    "**7) Данные  о проволочных материалах (время)**"
   ]
  },
  {
   "cell_type": "code",
   "execution_count": 12,
   "id": "c759600b",
   "metadata": {},
   "outputs": [
    {
     "name": "stdout",
     "output_type": "stream",
     "text": [
      "\n",
      "Данные  о проволочных материалах (время)\n"
     ]
    },
    {
     "data": {
      "text/html": [
       "<div>\n",
       "<style scoped>\n",
       "    .dataframe tbody tr th:only-of-type {\n",
       "        vertical-align: middle;\n",
       "    }\n",
       "\n",
       "    .dataframe tbody tr th {\n",
       "        vertical-align: top;\n",
       "    }\n",
       "\n",
       "    .dataframe thead th {\n",
       "        text-align: right;\n",
       "    }\n",
       "</style>\n",
       "<table border=\"1\" class=\"dataframe\">\n",
       "  <thead>\n",
       "    <tr style=\"text-align: right;\">\n",
       "      <th></th>\n",
       "      <th>key</th>\n",
       "      <th>Wire 1</th>\n",
       "      <th>Wire 2</th>\n",
       "      <th>Wire 3</th>\n",
       "      <th>Wire 4</th>\n",
       "      <th>Wire 5</th>\n",
       "      <th>Wire 6</th>\n",
       "      <th>Wire 7</th>\n",
       "      <th>Wire 8</th>\n",
       "      <th>Wire 9</th>\n",
       "    </tr>\n",
       "  </thead>\n",
       "  <tbody>\n",
       "    <tr>\n",
       "      <th>0</th>\n",
       "      <td>1</td>\n",
       "      <td>2019-05-03 11:11:41</td>\n",
       "      <td>NaN</td>\n",
       "      <td>NaN</td>\n",
       "      <td>NaN</td>\n",
       "      <td>NaN</td>\n",
       "      <td>NaN</td>\n",
       "      <td>NaN</td>\n",
       "      <td>NaN</td>\n",
       "      <td>NaN</td>\n",
       "    </tr>\n",
       "    <tr>\n",
       "      <th>1</th>\n",
       "      <td>2</td>\n",
       "      <td>2019-05-03 11:46:10</td>\n",
       "      <td>NaN</td>\n",
       "      <td>NaN</td>\n",
       "      <td>NaN</td>\n",
       "      <td>NaN</td>\n",
       "      <td>NaN</td>\n",
       "      <td>NaN</td>\n",
       "      <td>NaN</td>\n",
       "      <td>NaN</td>\n",
       "    </tr>\n",
       "    <tr>\n",
       "      <th>2</th>\n",
       "      <td>3</td>\n",
       "      <td>2019-05-03 12:13:47</td>\n",
       "      <td>NaN</td>\n",
       "      <td>NaN</td>\n",
       "      <td>NaN</td>\n",
       "      <td>NaN</td>\n",
       "      <td>NaN</td>\n",
       "      <td>NaN</td>\n",
       "      <td>NaN</td>\n",
       "      <td>NaN</td>\n",
       "    </tr>\n",
       "    <tr>\n",
       "      <th>3</th>\n",
       "      <td>4</td>\n",
       "      <td>2019-05-03 12:48:05</td>\n",
       "      <td>NaN</td>\n",
       "      <td>NaN</td>\n",
       "      <td>NaN</td>\n",
       "      <td>NaN</td>\n",
       "      <td>NaN</td>\n",
       "      <td>NaN</td>\n",
       "      <td>NaN</td>\n",
       "      <td>NaN</td>\n",
       "    </tr>\n",
       "    <tr>\n",
       "      <th>4</th>\n",
       "      <td>5</td>\n",
       "      <td>2019-05-03 13:18:15</td>\n",
       "      <td>2019-05-03 13:32:06</td>\n",
       "      <td>NaN</td>\n",
       "      <td>NaN</td>\n",
       "      <td>NaN</td>\n",
       "      <td>NaN</td>\n",
       "      <td>NaN</td>\n",
       "      <td>NaN</td>\n",
       "      <td>NaN</td>\n",
       "    </tr>\n",
       "    <tr>\n",
       "      <th>...</th>\n",
       "      <td>...</td>\n",
       "      <td>...</td>\n",
       "      <td>...</td>\n",
       "      <td>...</td>\n",
       "      <td>...</td>\n",
       "      <td>...</td>\n",
       "      <td>...</td>\n",
       "      <td>...</td>\n",
       "      <td>...</td>\n",
       "      <td>...</td>\n",
       "    </tr>\n",
       "    <tr>\n",
       "      <th>3076</th>\n",
       "      <td>3237</td>\n",
       "      <td>2019-08-31 22:50:20</td>\n",
       "      <td>NaN</td>\n",
       "      <td>NaN</td>\n",
       "      <td>NaN</td>\n",
       "      <td>NaN</td>\n",
       "      <td>NaN</td>\n",
       "      <td>NaN</td>\n",
       "      <td>NaN</td>\n",
       "      <td>NaN</td>\n",
       "    </tr>\n",
       "    <tr>\n",
       "      <th>3077</th>\n",
       "      <td>3238</td>\n",
       "      <td>2019-08-31 23:38:24</td>\n",
       "      <td>NaN</td>\n",
       "      <td>NaN</td>\n",
       "      <td>NaN</td>\n",
       "      <td>NaN</td>\n",
       "      <td>NaN</td>\n",
       "      <td>NaN</td>\n",
       "      <td>NaN</td>\n",
       "      <td>NaN</td>\n",
       "    </tr>\n",
       "    <tr>\n",
       "      <th>3078</th>\n",
       "      <td>3239</td>\n",
       "      <td>2019-09-01 01:50:43</td>\n",
       "      <td>NaN</td>\n",
       "      <td>NaN</td>\n",
       "      <td>NaN</td>\n",
       "      <td>NaN</td>\n",
       "      <td>NaN</td>\n",
       "      <td>NaN</td>\n",
       "      <td>NaN</td>\n",
       "      <td>NaN</td>\n",
       "    </tr>\n",
       "    <tr>\n",
       "      <th>3079</th>\n",
       "      <td>3240</td>\n",
       "      <td>2019-09-01 03:12:02</td>\n",
       "      <td>NaN</td>\n",
       "      <td>NaN</td>\n",
       "      <td>NaN</td>\n",
       "      <td>NaN</td>\n",
       "      <td>NaN</td>\n",
       "      <td>NaN</td>\n",
       "      <td>NaN</td>\n",
       "      <td>NaN</td>\n",
       "    </tr>\n",
       "    <tr>\n",
       "      <th>3080</th>\n",
       "      <td>3241</td>\n",
       "      <td>2019-09-01 04:16:01</td>\n",
       "      <td>NaN</td>\n",
       "      <td>NaN</td>\n",
       "      <td>NaN</td>\n",
       "      <td>NaN</td>\n",
       "      <td>NaN</td>\n",
       "      <td>NaN</td>\n",
       "      <td>NaN</td>\n",
       "      <td>NaN</td>\n",
       "    </tr>\n",
       "  </tbody>\n",
       "</table>\n",
       "<p>3081 rows × 10 columns</p>\n",
       "</div>"
      ],
      "text/plain": [
       "       key               Wire 1               Wire 2 Wire 3 Wire 4 Wire 5  \\\n",
       "0        1  2019-05-03 11:11:41                  NaN    NaN    NaN    NaN   \n",
       "1        2  2019-05-03 11:46:10                  NaN    NaN    NaN    NaN   \n",
       "2        3  2019-05-03 12:13:47                  NaN    NaN    NaN    NaN   \n",
       "3        4  2019-05-03 12:48:05                  NaN    NaN    NaN    NaN   \n",
       "4        5  2019-05-03 13:18:15  2019-05-03 13:32:06    NaN    NaN    NaN   \n",
       "...    ...                  ...                  ...    ...    ...    ...   \n",
       "3076  3237  2019-08-31 22:50:20                  NaN    NaN    NaN    NaN   \n",
       "3077  3238  2019-08-31 23:38:24                  NaN    NaN    NaN    NaN   \n",
       "3078  3239  2019-09-01 01:50:43                  NaN    NaN    NaN    NaN   \n",
       "3079  3240  2019-09-01 03:12:02                  NaN    NaN    NaN    NaN   \n",
       "3080  3241  2019-09-01 04:16:01                  NaN    NaN    NaN    NaN   \n",
       "\n",
       "     Wire 6 Wire 7 Wire 8 Wire 9  \n",
       "0       NaN    NaN    NaN    NaN  \n",
       "1       NaN    NaN    NaN    NaN  \n",
       "2       NaN    NaN    NaN    NaN  \n",
       "3       NaN    NaN    NaN    NaN  \n",
       "4       NaN    NaN    NaN    NaN  \n",
       "...     ...    ...    ...    ...  \n",
       "3076    NaN    NaN    NaN    NaN  \n",
       "3077    NaN    NaN    NaN    NaN  \n",
       "3078    NaN    NaN    NaN    NaN  \n",
       "3079    NaN    NaN    NaN    NaN  \n",
       "3080    NaN    NaN    NaN    NaN  \n",
       "\n",
       "[3081 rows x 10 columns]"
      ]
     },
     "metadata": {},
     "output_type": "display_data"
    },
    {
     "name": "stdout",
     "output_type": "stream",
     "text": [
      "<class 'pandas.core.frame.DataFrame'>\n",
      "RangeIndex: 3081 entries, 0 to 3080\n",
      "Data columns (total 10 columns):\n",
      " #   Column  Non-Null Count  Dtype \n",
      "---  ------  --------------  ----- \n",
      " 0   key     3081 non-null   int64 \n",
      " 1   Wire 1  3055 non-null   object\n",
      " 2   Wire 2  1079 non-null   object\n",
      " 3   Wire 3  63 non-null     object\n",
      " 4   Wire 4  14 non-null     object\n",
      " 5   Wire 5  1 non-null      object\n",
      " 6   Wire 6  73 non-null     object\n",
      " 7   Wire 7  11 non-null     object\n",
      " 8   Wire 8  19 non-null     object\n",
      " 9   Wire 9  29 non-null     object\n",
      "dtypes: int64(1), object(9)\n",
      "memory usage: 240.8+ KB\n",
      "key          0\n",
      "Wire 1      26\n",
      "Wire 2    2002\n",
      "Wire 3    3018\n",
      "Wire 4    3067\n",
      "Wire 5    3080\n",
      "Wire 6    3008\n",
      "Wire 7    3070\n",
      "Wire 8    3062\n",
      "Wire 9    3052\n",
      "dtype: int64\n",
      "               key\n",
      "count  3081.000000\n",
      "mean   1623.426485\n",
      "std     932.996726\n",
      "min       1.000000\n",
      "25%     823.000000\n",
      "50%    1619.000000\n",
      "75%    2434.000000\n",
      "max    3241.000000\n"
     ]
    }
   ],
   "source": [
    "print('')\n",
    "print('Данные  о проволочных материалах (время)')\n",
    "display(data_wire_time)\n",
    "data_wire_time.info()\n",
    "print(data_wire_time.isna().sum())\n",
    "print(data_wire_time.describe())"
   ]
  },
  {
   "cell_type": "markdown",
   "id": "685f7832",
   "metadata": {},
   "source": [
    "Отклонений не выявлено"
   ]
  },
  {
   "cell_type": "markdown",
   "id": "d3956ff6",
   "metadata": {},
   "source": [
    "**Длительность времени между первым и последним замером температуры + вычислите статистики + первая температура.**"
   ]
  },
  {
   "cell_type": "markdown",
   "id": "742e7f5c",
   "metadata": {},
   "source": [
    "Создаём рабочу таблицу для манипуляций"
   ]
  },
  {
   "cell_type": "code",
   "execution_count": 13,
   "id": "cf487667",
   "metadata": {},
   "outputs": [
    {
     "data": {
      "text/html": [
       "<div>\n",
       "<style scoped>\n",
       "    .dataframe tbody tr th:only-of-type {\n",
       "        vertical-align: middle;\n",
       "    }\n",
       "\n",
       "    .dataframe tbody tr th {\n",
       "        vertical-align: top;\n",
       "    }\n",
       "\n",
       "    .dataframe thead th {\n",
       "        text-align: right;\n",
       "    }\n",
       "</style>\n",
       "<table border=\"1\" class=\"dataframe\">\n",
       "  <thead>\n",
       "    <tr style=\"text-align: right;\">\n",
       "      <th></th>\n",
       "      <th>key</th>\n",
       "      <th>Время замера</th>\n",
       "      <th>Температура</th>\n",
       "    </tr>\n",
       "  </thead>\n",
       "  <tbody>\n",
       "    <tr>\n",
       "      <th>0</th>\n",
       "      <td>1</td>\n",
       "      <td>2019-05-03 11:16:18</td>\n",
       "      <td>1571.0</td>\n",
       "    </tr>\n",
       "    <tr>\n",
       "      <th>1</th>\n",
       "      <td>1</td>\n",
       "      <td>2019-05-03 11:25:53</td>\n",
       "      <td>1604.0</td>\n",
       "    </tr>\n",
       "    <tr>\n",
       "      <th>2</th>\n",
       "      <td>1</td>\n",
       "      <td>2019-05-03 11:29:11</td>\n",
       "      <td>1618.0</td>\n",
       "    </tr>\n",
       "    <tr>\n",
       "      <th>3</th>\n",
       "      <td>1</td>\n",
       "      <td>2019-05-03 11:30:01</td>\n",
       "      <td>1601.0</td>\n",
       "    </tr>\n",
       "    <tr>\n",
       "      <th>4</th>\n",
       "      <td>1</td>\n",
       "      <td>2019-05-03 11:30:39</td>\n",
       "      <td>1613.0</td>\n",
       "    </tr>\n",
       "    <tr>\n",
       "      <th>...</th>\n",
       "      <td>...</td>\n",
       "      <td>...</td>\n",
       "      <td>...</td>\n",
       "    </tr>\n",
       "    <tr>\n",
       "      <th>15902</th>\n",
       "      <td>3241</td>\n",
       "      <td>2019-09-01 04:03:30</td>\n",
       "      <td>1586.0</td>\n",
       "    </tr>\n",
       "    <tr>\n",
       "      <th>15903</th>\n",
       "      <td>3241</td>\n",
       "      <td>2019-09-01 04:16:12</td>\n",
       "      <td>NaN</td>\n",
       "    </tr>\n",
       "    <tr>\n",
       "      <th>15904</th>\n",
       "      <td>3241</td>\n",
       "      <td>2019-09-01 04:22:39</td>\n",
       "      <td>NaN</td>\n",
       "    </tr>\n",
       "    <tr>\n",
       "      <th>15905</th>\n",
       "      <td>3241</td>\n",
       "      <td>2019-09-01 04:33:42</td>\n",
       "      <td>NaN</td>\n",
       "    </tr>\n",
       "    <tr>\n",
       "      <th>15906</th>\n",
       "      <td>3241</td>\n",
       "      <td>2019-09-01 04:38:08</td>\n",
       "      <td>NaN</td>\n",
       "    </tr>\n",
       "  </tbody>\n",
       "</table>\n",
       "<p>15907 rows × 3 columns</p>\n",
       "</div>"
      ],
      "text/plain": [
       "        key         Время замера  Температура\n",
       "0         1  2019-05-03 11:16:18       1571.0\n",
       "1         1  2019-05-03 11:25:53       1604.0\n",
       "2         1  2019-05-03 11:29:11       1618.0\n",
       "3         1  2019-05-03 11:30:01       1601.0\n",
       "4         1  2019-05-03 11:30:39       1613.0\n",
       "...     ...                  ...          ...\n",
       "15902  3241  2019-09-01 04:03:30       1586.0\n",
       "15903  3241  2019-09-01 04:16:12          NaN\n",
       "15904  3241  2019-09-01 04:22:39          NaN\n",
       "15905  3241  2019-09-01 04:33:42          NaN\n",
       "15906  3241  2019-09-01 04:38:08          NaN\n",
       "\n",
       "[15907 rows x 3 columns]"
      ]
     },
     "metadata": {},
     "output_type": "display_data"
    }
   ],
   "source": [
    "display(data_temp)"
   ]
  },
  {
   "cell_type": "markdown",
   "id": "26330db0",
   "metadata": {},
   "source": [
    "Ниже мы извлекаем уникальные key из каждой таблицы и сводим в одну таблицу, где встречаются только пересекающиеся значения."
   ]
  },
  {
   "cell_type": "code",
   "execution_count": 14,
   "id": "02b73e37",
   "metadata": {},
   "outputs": [],
   "source": [
    "work_data = pd.DataFrame([])\n",
    "work_data['key'] = data_temp['key'].unique()\n",
    "data_arc_key = pd.DataFrame([])\n",
    "data_arc_key['key'] = data_arc['key'].unique()\n",
    "work_data = work_data.merge(data_arc_key, on='key', how='inner')\n",
    "data_bulk_key = pd.DataFrame([])\n",
    "data_bulk_key['key'] = data_bulk['key'].unique()\n",
    "work_data = work_data.merge(data_bulk_key, on='key', how='inner')\n",
    "data_bulk_time_key = pd.DataFrame([])\n",
    "data_bulk_time_key['key'] = data_bulk_time['key'].unique()\n",
    "work_data = work_data.merge(data_bulk_time_key, on='key', how='inner')\n",
    "data_gas_key = pd.DataFrame([])\n",
    "data_gas_key['key'] = data_gas['key'].unique()\n",
    "work_data = work_data.merge(data_gas_key, on='key', how='inner')\n",
    "data_temp_key = pd.DataFrame([])\n",
    "data_temp_key['key'] = data_temp['key'].unique()\n",
    "work_data = work_data.merge(data_temp_key, on='key', how='inner')\n",
    "data_wire_key = pd.DataFrame([])\n",
    "data_wire_key['key'] = data_wire['key'].unique()\n",
    "work_data = work_data.merge(data_wire_key, on='key', how='inner')\n",
    "data_wire_time_key = pd.DataFrame([])\n",
    "data_wire_time_key['key'] = data_wire_time['key'].unique()\n",
    "work_data = work_data.merge(data_wire_time_key, on='key', how='inner')\n",
    "work_data = work_data.rename(columns={\"key\": \"key_xxx\"})"
   ]
  },
  {
   "cell_type": "code",
   "execution_count": 16,
   "id": "27600db6",
   "metadata": {},
   "outputs": [],
   "source": [
    "work_data = work_data.merge(data_temp.groupby('key').min()['Время замера'], left_on='key_xxx', right_on='key')     \n",
    "work_data = work_data.rename(columns={\"Время замера\": \"Время замера MIN\"})\n",
    "work_data = work_data.merge(data_temp, left_on='Время замера MIN', right_on='Время замера') \n",
    "work_data = work_data.rename(columns={\"Температура\": \"Температура 1\"})\n",
    "work_data = work_data.drop('Время замера', axis = 1)\n",
    "work_data = work_data.merge(data_temp.groupby('key').max()['Время замера'], left_on='key_xxx', right_on='key')     \n",
    "work_data = work_data.rename(columns={\"Время замера\": \"Время замера MAX\"})"
   ]
  },
  {
   "cell_type": "code",
   "execution_count": 17,
   "id": "6074b4e3",
   "metadata": {},
   "outputs": [
    {
     "data": {
      "text/html": [
       "<div>\n",
       "<style scoped>\n",
       "    .dataframe tbody tr th:only-of-type {\n",
       "        vertical-align: middle;\n",
       "    }\n",
       "\n",
       "    .dataframe tbody tr th {\n",
       "        vertical-align: top;\n",
       "    }\n",
       "\n",
       "    .dataframe thead th {\n",
       "        text-align: right;\n",
       "    }\n",
       "</style>\n",
       "<table border=\"1\" class=\"dataframe\">\n",
       "  <thead>\n",
       "    <tr style=\"text-align: right;\">\n",
       "      <th></th>\n",
       "      <th>key</th>\n",
       "      <th>Температура 1</th>\n",
       "      <th>Температура 2</th>\n",
       "    </tr>\n",
       "  </thead>\n",
       "  <tbody>\n",
       "    <tr>\n",
       "      <th>0</th>\n",
       "      <td>1</td>\n",
       "      <td>1571.0</td>\n",
       "      <td>1613.0</td>\n",
       "    </tr>\n",
       "    <tr>\n",
       "      <th>1</th>\n",
       "      <td>2</td>\n",
       "      <td>1581.0</td>\n",
       "      <td>1602.0</td>\n",
       "    </tr>\n",
       "    <tr>\n",
       "      <th>2</th>\n",
       "      <td>3</td>\n",
       "      <td>1596.0</td>\n",
       "      <td>1599.0</td>\n",
       "    </tr>\n",
       "    <tr>\n",
       "      <th>3</th>\n",
       "      <td>4</td>\n",
       "      <td>1601.0</td>\n",
       "      <td>1625.0</td>\n",
       "    </tr>\n",
       "    <tr>\n",
       "      <th>4</th>\n",
       "      <td>5</td>\n",
       "      <td>1576.0</td>\n",
       "      <td>1602.0</td>\n",
       "    </tr>\n",
       "    <tr>\n",
       "      <th>...</th>\n",
       "      <td>...</td>\n",
       "      <td>...</td>\n",
       "      <td>...</td>\n",
       "    </tr>\n",
       "    <tr>\n",
       "      <th>2324</th>\n",
       "      <td>2495</td>\n",
       "      <td>1570.0</td>\n",
       "      <td>1591.0</td>\n",
       "    </tr>\n",
       "    <tr>\n",
       "      <th>2325</th>\n",
       "      <td>2496</td>\n",
       "      <td>1554.0</td>\n",
       "      <td>1591.0</td>\n",
       "    </tr>\n",
       "    <tr>\n",
       "      <th>2326</th>\n",
       "      <td>2497</td>\n",
       "      <td>1571.0</td>\n",
       "      <td>1589.0</td>\n",
       "    </tr>\n",
       "    <tr>\n",
       "      <th>2327</th>\n",
       "      <td>2498</td>\n",
       "      <td>1591.0</td>\n",
       "      <td>1594.0</td>\n",
       "    </tr>\n",
       "    <tr>\n",
       "      <th>2328</th>\n",
       "      <td>2499</td>\n",
       "      <td>1569.0</td>\n",
       "      <td>1603.0</td>\n",
       "    </tr>\n",
       "  </tbody>\n",
       "</table>\n",
       "<p>2329 rows × 3 columns</p>\n",
       "</div>"
      ],
      "text/plain": [
       "       key  Температура 1  Температура 2\n",
       "0        1         1571.0         1613.0\n",
       "1        2         1581.0         1602.0\n",
       "2        3         1596.0         1599.0\n",
       "3        4         1601.0         1625.0\n",
       "4        5         1576.0         1602.0\n",
       "...    ...            ...            ...\n",
       "2324  2495         1570.0         1591.0\n",
       "2325  2496         1554.0         1591.0\n",
       "2326  2497         1571.0         1589.0\n",
       "2327  2498         1591.0         1594.0\n",
       "2328  2499         1569.0         1603.0\n",
       "\n",
       "[2329 rows x 3 columns]"
      ]
     },
     "execution_count": 17,
     "metadata": {},
     "output_type": "execute_result"
    }
   ],
   "source": [
    "work_data = work_data.merge(data_temp, left_on='Время замера MAX', right_on='Время замера') \n",
    "work_data = work_data.rename(columns={\"Температура\": \"Температура 2\"})\n",
    "work_data = work_data.drop(['Время замера MIN', 'key_x', 'Время замера', 'Время замера MAX', 'key_y', 'Время замера'], axis = 1)\n",
    "work_data = work_data.rename(columns={\"key_xxx\": \"key\"})\n",
    "work_data = work_data.dropna()"
   ]
  },
  {
   "cell_type": "code",
   "execution_count": 18,
   "id": "170d3cf2",
   "metadata": {},
   "outputs": [],
   "source": [
    "data_arc['Конец нагрева дугой'] = pd.to_datetime(data_arc['Конец нагрева дугой'])\n",
    "data_arc['Начало нагрева дугой']= pd.to_datetime(data_arc['Начало нагрева дугой'])\n",
    "data_arc['Время нагрева'] = data_arc['Конец нагрева дугой'] - data_arc['Начало нагрева дугой']\n",
    "data_arc['Отношение мощности'] = data_arc['Активная мощность'] / data_arc['Реактивная мощность']\n",
    "data_arc['Время нагрева всего'] = (data_arc['Конец нагрева дугой'] - data_arc['Начало нагрева дугой']) / np.timedelta64(1, 's')"
   ]
  },
  {
   "cell_type": "code",
   "execution_count": 19,
   "id": "9accf853",
   "metadata": {},
   "outputs": [
    {
     "data": {
      "text/html": [
       "<div>\n",
       "<style scoped>\n",
       "    .dataframe tbody tr th:only-of-type {\n",
       "        vertical-align: middle;\n",
       "    }\n",
       "\n",
       "    .dataframe tbody tr th {\n",
       "        vertical-align: top;\n",
       "    }\n",
       "\n",
       "    .dataframe thead th {\n",
       "        text-align: right;\n",
       "    }\n",
       "</style>\n",
       "<table border=\"1\" class=\"dataframe\">\n",
       "  <thead>\n",
       "    <tr style=\"text-align: right;\">\n",
       "      <th></th>\n",
       "      <th>Активная мощность</th>\n",
       "      <th>Реактивная мощность</th>\n",
       "    </tr>\n",
       "    <tr>\n",
       "      <th>key</th>\n",
       "      <th></th>\n",
       "      <th></th>\n",
       "    </tr>\n",
       "  </thead>\n",
       "  <tbody>\n",
       "    <tr>\n",
       "      <th>1</th>\n",
       "      <td>4.878147</td>\n",
       "      <td>3.183241</td>\n",
       "    </tr>\n",
       "    <tr>\n",
       "      <th>2</th>\n",
       "      <td>3.052598</td>\n",
       "      <td>1.998112</td>\n",
       "    </tr>\n",
       "    <tr>\n",
       "      <th>3</th>\n",
       "      <td>2.525882</td>\n",
       "      <td>1.599076</td>\n",
       "    </tr>\n",
       "    <tr>\n",
       "      <th>4</th>\n",
       "      <td>3.209250</td>\n",
       "      <td>2.060298</td>\n",
       "    </tr>\n",
       "    <tr>\n",
       "      <th>5</th>\n",
       "      <td>3.347173</td>\n",
       "      <td>2.252643</td>\n",
       "    </tr>\n",
       "    <tr>\n",
       "      <th>...</th>\n",
       "      <td>...</td>\n",
       "      <td>...</td>\n",
       "    </tr>\n",
       "    <tr>\n",
       "      <th>3237</th>\n",
       "      <td>3.932467</td>\n",
       "      <td>2.828459</td>\n",
       "    </tr>\n",
       "    <tr>\n",
       "      <th>3238</th>\n",
       "      <td>2.106529</td>\n",
       "      <td>1.681182</td>\n",
       "    </tr>\n",
       "    <tr>\n",
       "      <th>3239</th>\n",
       "      <td>4.666754</td>\n",
       "      <td>3.111617</td>\n",
       "    </tr>\n",
       "    <tr>\n",
       "      <th>3240</th>\n",
       "      <td>2.984083</td>\n",
       "      <td>2.483267</td>\n",
       "    </tr>\n",
       "    <tr>\n",
       "      <th>3241</th>\n",
       "      <td>2.471447</td>\n",
       "      <td>1.696199</td>\n",
       "    </tr>\n",
       "  </tbody>\n",
       "</table>\n",
       "<p>3214 rows × 2 columns</p>\n",
       "</div>"
      ],
      "text/plain": [
       "      Активная мощность  Реактивная мощность\n",
       "key                                         \n",
       "1              4.878147             3.183241\n",
       "2              3.052598             1.998112\n",
       "3              2.525882             1.599076\n",
       "4              3.209250             2.060298\n",
       "5              3.347173             2.252643\n",
       "...                 ...                  ...\n",
       "3237           3.932467             2.828459\n",
       "3238           2.106529             1.681182\n",
       "3239           4.666754             3.111617\n",
       "3240           2.984083             2.483267\n",
       "3241           2.471447             1.696199\n",
       "\n",
       "[3214 rows x 2 columns]"
      ]
     },
     "execution_count": 19,
     "metadata": {},
     "output_type": "execute_result"
    }
   ],
   "source": [
    "data_arc_power = data_arc.groupby('key').sum('Отношение мощности')\n",
    "data_arc_power = data_arc_power.drop('Отношение мощности', axis = 1)\n",
    "data_arc_power = data_arc_power.drop('Время нагрева всего', axis = 1)"
   ]
  },
  {
   "cell_type": "code",
   "execution_count": 20,
   "id": "2038d7e8",
   "metadata": {},
   "outputs": [],
   "source": [
    "data_arc_power['key'] = data_arc_power.index\n",
    "work_data.reset_index(drop = True, inplace = True)\n",
    "data_arc_power.reset_index(drop = True, inplace = True)\n",
    "work_data = work_data.merge(data_arc_power, on='key', how='inner')  "
   ]
  },
  {
   "cell_type": "code",
   "execution_count": 21,
   "id": "fcb48ef2",
   "metadata": {},
   "outputs": [],
   "source": [
    "count_n = pd.DataFrame([])\n",
    "count_n= data_arc.groupby('key').count()\n",
    "count_n['key'] = count_n.index\n",
    "count_n.reset_index(drop = True, inplace = True)\n",
    "count_n = count_n.drop(['Начало нагрева дугой', 'Конец нагрева дугой', 'Реактивная мощность', 'Время нагрева', 'Отношение мощности', 'Активная мощность'], axis = 1)\n",
    "count_n = count_n.rename(columns={\"Время нагрева всего\": \"Количество нагреваний\"})\n",
    "work_data = work_data.merge(count_n, on='key', how='inner')     "
   ]
  },
  {
   "cell_type": "code",
   "execution_count": 22,
   "id": "a4996548",
   "metadata": {},
   "outputs": [],
   "source": [
    "data_bulk = data_bulk.fillna(0)\n",
    "data_wire = data_wire.fillna(0)"
   ]
  },
  {
   "cell_type": "code",
   "execution_count": 23,
   "id": "1067b4d6",
   "metadata": {},
   "outputs": [
    {
     "data": {
      "text/html": [
       "<div>\n",
       "<style scoped>\n",
       "    .dataframe tbody tr th:only-of-type {\n",
       "        vertical-align: middle;\n",
       "    }\n",
       "\n",
       "    .dataframe tbody tr th {\n",
       "        vertical-align: top;\n",
       "    }\n",
       "\n",
       "    .dataframe thead th {\n",
       "        text-align: right;\n",
       "    }\n",
       "</style>\n",
       "<table border=\"1\" class=\"dataframe\">\n",
       "  <thead>\n",
       "    <tr style=\"text-align: right;\">\n",
       "      <th></th>\n",
       "      <th>key</th>\n",
       "      <th>Температура 1</th>\n",
       "      <th>Температура 2</th>\n",
       "      <th>Активная мощность</th>\n",
       "      <th>Реактивная мощность</th>\n",
       "      <th>Количество нагреваний</th>\n",
       "      <th>Bulk 1</th>\n",
       "      <th>Bulk 2</th>\n",
       "      <th>Bulk 3</th>\n",
       "      <th>Bulk 4</th>\n",
       "      <th>...</th>\n",
       "      <th>Bulk 15</th>\n",
       "      <th>Газ 1</th>\n",
       "      <th>Wire 1</th>\n",
       "      <th>Wire 2</th>\n",
       "      <th>Wire 3</th>\n",
       "      <th>Wire 4</th>\n",
       "      <th>Wire 6</th>\n",
       "      <th>Wire 7</th>\n",
       "      <th>Wire 8</th>\n",
       "      <th>Wire 9</th>\n",
       "    </tr>\n",
       "  </thead>\n",
       "  <tbody>\n",
       "    <tr>\n",
       "      <th>0</th>\n",
       "      <td>1</td>\n",
       "      <td>1571.0</td>\n",
       "      <td>1613.0</td>\n",
       "      <td>4.878147</td>\n",
       "      <td>3.183241</td>\n",
       "      <td>5</td>\n",
       "      <td>0.0</td>\n",
       "      <td>0.0</td>\n",
       "      <td>0.0</td>\n",
       "      <td>43.0</td>\n",
       "      <td>...</td>\n",
       "      <td>154.0</td>\n",
       "      <td>29.749986</td>\n",
       "      <td>60.059998</td>\n",
       "      <td>0.00000</td>\n",
       "      <td>0.0</td>\n",
       "      <td>0.0</td>\n",
       "      <td>0.0</td>\n",
       "      <td>0.0</td>\n",
       "      <td>0.0</td>\n",
       "      <td>0.0</td>\n",
       "    </tr>\n",
       "    <tr>\n",
       "      <th>1</th>\n",
       "      <td>2</td>\n",
       "      <td>1581.0</td>\n",
       "      <td>1602.0</td>\n",
       "      <td>3.052598</td>\n",
       "      <td>1.998112</td>\n",
       "      <td>4</td>\n",
       "      <td>0.0</td>\n",
       "      <td>0.0</td>\n",
       "      <td>0.0</td>\n",
       "      <td>73.0</td>\n",
       "      <td>...</td>\n",
       "      <td>154.0</td>\n",
       "      <td>12.555561</td>\n",
       "      <td>96.052315</td>\n",
       "      <td>0.00000</td>\n",
       "      <td>0.0</td>\n",
       "      <td>0.0</td>\n",
       "      <td>0.0</td>\n",
       "      <td>0.0</td>\n",
       "      <td>0.0</td>\n",
       "      <td>0.0</td>\n",
       "    </tr>\n",
       "    <tr>\n",
       "      <th>2</th>\n",
       "      <td>3</td>\n",
       "      <td>1596.0</td>\n",
       "      <td>1599.0</td>\n",
       "      <td>2.525882</td>\n",
       "      <td>1.599076</td>\n",
       "      <td>5</td>\n",
       "      <td>0.0</td>\n",
       "      <td>0.0</td>\n",
       "      <td>0.0</td>\n",
       "      <td>34.0</td>\n",
       "      <td>...</td>\n",
       "      <td>153.0</td>\n",
       "      <td>28.554793</td>\n",
       "      <td>91.160157</td>\n",
       "      <td>0.00000</td>\n",
       "      <td>0.0</td>\n",
       "      <td>0.0</td>\n",
       "      <td>0.0</td>\n",
       "      <td>0.0</td>\n",
       "      <td>0.0</td>\n",
       "      <td>0.0</td>\n",
       "    </tr>\n",
       "    <tr>\n",
       "      <th>3</th>\n",
       "      <td>4</td>\n",
       "      <td>1601.0</td>\n",
       "      <td>1625.0</td>\n",
       "      <td>3.209250</td>\n",
       "      <td>2.060298</td>\n",
       "      <td>4</td>\n",
       "      <td>0.0</td>\n",
       "      <td>0.0</td>\n",
       "      <td>0.0</td>\n",
       "      <td>81.0</td>\n",
       "      <td>...</td>\n",
       "      <td>154.0</td>\n",
       "      <td>18.841219</td>\n",
       "      <td>89.063515</td>\n",
       "      <td>0.00000</td>\n",
       "      <td>0.0</td>\n",
       "      <td>0.0</td>\n",
       "      <td>0.0</td>\n",
       "      <td>0.0</td>\n",
       "      <td>0.0</td>\n",
       "      <td>0.0</td>\n",
       "    </tr>\n",
       "    <tr>\n",
       "      <th>4</th>\n",
       "      <td>5</td>\n",
       "      <td>1576.0</td>\n",
       "      <td>1602.0</td>\n",
       "      <td>3.347173</td>\n",
       "      <td>2.252643</td>\n",
       "      <td>4</td>\n",
       "      <td>0.0</td>\n",
       "      <td>0.0</td>\n",
       "      <td>0.0</td>\n",
       "      <td>78.0</td>\n",
       "      <td>...</td>\n",
       "      <td>152.0</td>\n",
       "      <td>5.413692</td>\n",
       "      <td>89.238236</td>\n",
       "      <td>9.11456</td>\n",
       "      <td>0.0</td>\n",
       "      <td>0.0</td>\n",
       "      <td>0.0</td>\n",
       "      <td>0.0</td>\n",
       "      <td>0.0</td>\n",
       "      <td>0.0</td>\n",
       "    </tr>\n",
       "    <tr>\n",
       "      <th>...</th>\n",
       "      <td>...</td>\n",
       "      <td>...</td>\n",
       "      <td>...</td>\n",
       "      <td>...</td>\n",
       "      <td>...</td>\n",
       "      <td>...</td>\n",
       "      <td>...</td>\n",
       "      <td>...</td>\n",
       "      <td>...</td>\n",
       "      <td>...</td>\n",
       "      <td>...</td>\n",
       "      <td>...</td>\n",
       "      <td>...</td>\n",
       "      <td>...</td>\n",
       "      <td>...</td>\n",
       "      <td>...</td>\n",
       "      <td>...</td>\n",
       "      <td>...</td>\n",
       "      <td>...</td>\n",
       "      <td>...</td>\n",
       "      <td>...</td>\n",
       "    </tr>\n",
       "    <tr>\n",
       "      <th>2324</th>\n",
       "      <td>2495</td>\n",
       "      <td>1570.0</td>\n",
       "      <td>1591.0</td>\n",
       "      <td>3.210690</td>\n",
       "      <td>2.360777</td>\n",
       "      <td>4</td>\n",
       "      <td>0.0</td>\n",
       "      <td>0.0</td>\n",
       "      <td>21.0</td>\n",
       "      <td>0.0</td>\n",
       "      <td>...</td>\n",
       "      <td>223.0</td>\n",
       "      <td>7.125735</td>\n",
       "      <td>89.150879</td>\n",
       "      <td>0.00000</td>\n",
       "      <td>0.0</td>\n",
       "      <td>0.0</td>\n",
       "      <td>0.0</td>\n",
       "      <td>0.0</td>\n",
       "      <td>0.0</td>\n",
       "      <td>0.0</td>\n",
       "    </tr>\n",
       "    <tr>\n",
       "      <th>2325</th>\n",
       "      <td>2496</td>\n",
       "      <td>1554.0</td>\n",
       "      <td>1591.0</td>\n",
       "      <td>4.203064</td>\n",
       "      <td>2.810185</td>\n",
       "      <td>6</td>\n",
       "      <td>0.0</td>\n",
       "      <td>0.0</td>\n",
       "      <td>0.0</td>\n",
       "      <td>63.0</td>\n",
       "      <td>...</td>\n",
       "      <td>226.0</td>\n",
       "      <td>9.412616</td>\n",
       "      <td>114.179527</td>\n",
       "      <td>0.00000</td>\n",
       "      <td>0.0</td>\n",
       "      <td>0.0</td>\n",
       "      <td>0.0</td>\n",
       "      <td>0.0</td>\n",
       "      <td>0.0</td>\n",
       "      <td>0.0</td>\n",
       "    </tr>\n",
       "    <tr>\n",
       "      <th>2326</th>\n",
       "      <td>2497</td>\n",
       "      <td>1571.0</td>\n",
       "      <td>1589.0</td>\n",
       "      <td>2.212379</td>\n",
       "      <td>1.851269</td>\n",
       "      <td>3</td>\n",
       "      <td>0.0</td>\n",
       "      <td>0.0</td>\n",
       "      <td>0.0</td>\n",
       "      <td>85.0</td>\n",
       "      <td>...</td>\n",
       "      <td>226.0</td>\n",
       "      <td>6.271699</td>\n",
       "      <td>94.086723</td>\n",
       "      <td>9.04800</td>\n",
       "      <td>0.0</td>\n",
       "      <td>0.0</td>\n",
       "      <td>0.0</td>\n",
       "      <td>0.0</td>\n",
       "      <td>0.0</td>\n",
       "      <td>0.0</td>\n",
       "    </tr>\n",
       "    <tr>\n",
       "      <th>2327</th>\n",
       "      <td>2498</td>\n",
       "      <td>1591.0</td>\n",
       "      <td>1594.0</td>\n",
       "      <td>3.408725</td>\n",
       "      <td>2.355428</td>\n",
       "      <td>5</td>\n",
       "      <td>0.0</td>\n",
       "      <td>0.0</td>\n",
       "      <td>90.0</td>\n",
       "      <td>0.0</td>\n",
       "      <td>...</td>\n",
       "      <td>207.0</td>\n",
       "      <td>14.953657</td>\n",
       "      <td>118.110717</td>\n",
       "      <td>0.00000</td>\n",
       "      <td>0.0</td>\n",
       "      <td>0.0</td>\n",
       "      <td>0.0</td>\n",
       "      <td>0.0</td>\n",
       "      <td>0.0</td>\n",
       "      <td>0.0</td>\n",
       "    </tr>\n",
       "    <tr>\n",
       "      <th>2328</th>\n",
       "      <td>2499</td>\n",
       "      <td>1569.0</td>\n",
       "      <td>1603.0</td>\n",
       "      <td>4.098431</td>\n",
       "      <td>2.777865</td>\n",
       "      <td>4</td>\n",
       "      <td>0.0</td>\n",
       "      <td>0.0</td>\n",
       "      <td>47.0</td>\n",
       "      <td>0.0</td>\n",
       "      <td>...</td>\n",
       "      <td>227.0</td>\n",
       "      <td>11.336151</td>\n",
       "      <td>110.160958</td>\n",
       "      <td>50.00528</td>\n",
       "      <td>0.0</td>\n",
       "      <td>0.0</td>\n",
       "      <td>0.0</td>\n",
       "      <td>0.0</td>\n",
       "      <td>0.0</td>\n",
       "      <td>0.0</td>\n",
       "    </tr>\n",
       "  </tbody>\n",
       "</table>\n",
       "<p>2329 rows × 29 columns</p>\n",
       "</div>"
      ],
      "text/plain": [
       "       key  Температура 1  Температура 2  Активная мощность  \\\n",
       "0        1         1571.0         1613.0           4.878147   \n",
       "1        2         1581.0         1602.0           3.052598   \n",
       "2        3         1596.0         1599.0           2.525882   \n",
       "3        4         1601.0         1625.0           3.209250   \n",
       "4        5         1576.0         1602.0           3.347173   \n",
       "...    ...            ...            ...                ...   \n",
       "2324  2495         1570.0         1591.0           3.210690   \n",
       "2325  2496         1554.0         1591.0           4.203064   \n",
       "2326  2497         1571.0         1589.0           2.212379   \n",
       "2327  2498         1591.0         1594.0           3.408725   \n",
       "2328  2499         1569.0         1603.0           4.098431   \n",
       "\n",
       "      Реактивная мощность  Количество нагреваний  Bulk 1  Bulk 2  Bulk 3  \\\n",
       "0                3.183241                      5     0.0     0.0     0.0   \n",
       "1                1.998112                      4     0.0     0.0     0.0   \n",
       "2                1.599076                      5     0.0     0.0     0.0   \n",
       "3                2.060298                      4     0.0     0.0     0.0   \n",
       "4                2.252643                      4     0.0     0.0     0.0   \n",
       "...                   ...                    ...     ...     ...     ...   \n",
       "2324             2.360777                      4     0.0     0.0    21.0   \n",
       "2325             2.810185                      6     0.0     0.0     0.0   \n",
       "2326             1.851269                      3     0.0     0.0     0.0   \n",
       "2327             2.355428                      5     0.0     0.0    90.0   \n",
       "2328             2.777865                      4     0.0     0.0    47.0   \n",
       "\n",
       "      Bulk 4  ...  Bulk 15      Газ 1      Wire 1    Wire 2  Wire 3  Wire 4  \\\n",
       "0       43.0  ...    154.0  29.749986   60.059998   0.00000     0.0     0.0   \n",
       "1       73.0  ...    154.0  12.555561   96.052315   0.00000     0.0     0.0   \n",
       "2       34.0  ...    153.0  28.554793   91.160157   0.00000     0.0     0.0   \n",
       "3       81.0  ...    154.0  18.841219   89.063515   0.00000     0.0     0.0   \n",
       "4       78.0  ...    152.0   5.413692   89.238236   9.11456     0.0     0.0   \n",
       "...      ...  ...      ...        ...         ...       ...     ...     ...   \n",
       "2324     0.0  ...    223.0   7.125735   89.150879   0.00000     0.0     0.0   \n",
       "2325    63.0  ...    226.0   9.412616  114.179527   0.00000     0.0     0.0   \n",
       "2326    85.0  ...    226.0   6.271699   94.086723   9.04800     0.0     0.0   \n",
       "2327     0.0  ...    207.0  14.953657  118.110717   0.00000     0.0     0.0   \n",
       "2328     0.0  ...    227.0  11.336151  110.160958  50.00528     0.0     0.0   \n",
       "\n",
       "      Wire 6  Wire 7  Wire 8  Wire 9  \n",
       "0        0.0     0.0     0.0     0.0  \n",
       "1        0.0     0.0     0.0     0.0  \n",
       "2        0.0     0.0     0.0     0.0  \n",
       "3        0.0     0.0     0.0     0.0  \n",
       "4        0.0     0.0     0.0     0.0  \n",
       "...      ...     ...     ...     ...  \n",
       "2324     0.0     0.0     0.0     0.0  \n",
       "2325     0.0     0.0     0.0     0.0  \n",
       "2326     0.0     0.0     0.0     0.0  \n",
       "2327     0.0     0.0     0.0     0.0  \n",
       "2328     0.0     0.0     0.0     0.0  \n",
       "\n",
       "[2329 rows x 29 columns]"
      ]
     },
     "metadata": {},
     "output_type": "display_data"
    }
   ],
   "source": [
    "work_data = work_data.merge(data_bulk, on='key', how='inner')\n",
    "work_data = work_data.merge(data_gas, on='key', how='inner')\n",
    "work_data = work_data.merge(data_wire, on='key', how='inner')"
   ]
  },
  {
   "cell_type": "markdown",
   "id": "1c524137",
   "metadata": {},
   "source": [
    "**План работы**\n",
    "\n",
    "**Наша главная задача - предсказать финальную температуру. Исходя из данной цели мы выполним следующие задачи:**\n",
    "- Проанализировать наши данные\n",
    "- Обработать данные\n",
    "- Сгенерировать дополнительные параметры\n",
    "- Создать единый датафрейм для дальнейшей работы\n",
    "- Разделить датафрейм на фичи/таргет и обучающую/валидационную выборки\n",
    "- Выбрать лучшую модель на кросс-валидации/валидационной выборке и проверить качество этой модели на тестовой выборке"
   ]
  },
  {
   "cell_type": "markdown",
   "id": "ed2f0a57",
   "metadata": {},
   "source": [
    "Проводим финальную чистку данных"
   ]
  },
  {
   "cell_type": "code",
   "execution_count": 25,
   "id": "87f13057",
   "metadata": {},
   "outputs": [],
   "source": [
    "work_data = work_data.fillna(0)\n",
    "work_data = work_data[work_data['Температура 2'] !=0]\n",
    "work_data = work_data.drop(['key'], axis = 1)"
   ]
  },
  {
   "cell_type": "markdown",
   "id": "3fb1ff88",
   "metadata": {},
   "source": [
    "Делим данные на выборки"
   ]
  },
  {
   "cell_type": "code",
   "execution_count": 26,
   "id": "79e330b0",
   "metadata": {},
   "outputs": [],
   "source": [
    "train_data, test_data = train_test_split(work_data, test_size=0.2, random_state=1)\n",
    "data_train, data_valid = train_test_split(train_data, test_size=0.2, random_state=1)"
   ]
  },
  {
   "cell_type": "code",
   "execution_count": 27,
   "id": "5f7492db",
   "metadata": {},
   "outputs": [],
   "source": [
    "data_train_target = data_train['Температура 2']\n",
    "data_train_features = data_train.drop('Температура 2', axis=1)\n",
    "\n",
    "data_valid_target = data_valid['Температура 2']\n",
    "data_valid_features = data_valid.drop('Температура 2', axis=1)\n",
    "\n",
    "test_data_target = test_data['Температура 2']\n",
    "test_data_features = test_data.drop('Температура 2', axis=1)"
   ]
  },
  {
   "cell_type": "markdown",
   "id": "2b64e148",
   "metadata": {},
   "source": [
    "Ниже тестируем различные модели в поисках лучшей."
   ]
  },
  {
   "cell_type": "code",
   "execution_count": 28,
   "id": "a53e2e96",
   "metadata": {},
   "outputs": [
    {
     "data": {
      "text/plain": [
       "6.098251461211146"
      ]
     },
     "execution_count": 28,
     "metadata": {},
     "output_type": "execute_result"
    }
   ],
   "source": [
    "model = LinearRegression()\n",
    "model.fit(data_train_features, data_train_target)\n",
    "result_LR = model.predict(data_valid_features)\n",
    "mean_absolute_error(data_valid_target, result_LR)"
   ]
  },
  {
   "cell_type": "code",
   "execution_count": 29,
   "id": "706046b1",
   "metadata": {},
   "outputs": [
    {
     "data": {
      "text/plain": [
       "6.098145499124539"
      ]
     },
     "execution_count": 29,
     "metadata": {},
     "output_type": "execute_result"
    }
   ],
   "source": [
    "model = Ridge(random_state=665)\n",
    "model.fit(data_train_features, data_train_target)\n",
    "result_R = model.predict(data_valid_features)\n",
    "mean_absolute_error(data_valid_target, result_R)"
   ]
  },
  {
   "cell_type": "code",
   "execution_count": 30,
   "id": "c96bbdcb",
   "metadata": {},
   "outputs": [
    {
     "data": {
      "text/plain": [
       "5.694476791749159"
      ]
     },
     "execution_count": 30,
     "metadata": {},
     "output_type": "execute_result"
    }
   ],
   "source": [
    "model = RandomForestRegressor(max_depth=9, random_state=665)\n",
    "model.fit(data_train_features, data_train_target)\n",
    "result_RFR = model.predict(data_valid_features)\n",
    "mean_absolute_error(data_valid_target, result_RFR)"
   ]
  },
  {
   "cell_type": "code",
   "execution_count": 31,
   "id": "d1559ab1",
   "metadata": {},
   "outputs": [
    {
     "data": {
      "text/plain": [
       "5.675695447031286"
      ]
     },
     "execution_count": 31,
     "metadata": {},
     "output_type": "execute_result"
    }
   ],
   "source": [
    "model = LGBMRegressor(random_state=665)\n",
    "model.fit(data_train_features, data_train_target)\n",
    "result_RFR = model.predict(data_valid_features)\n",
    "mean_absolute_error(data_valid_target, result_RFR)"
   ]
  },
  {
   "cell_type": "code",
   "execution_count": 32,
   "id": "351fd875",
   "metadata": {},
   "outputs": [
    {
     "name": "stdout",
     "output_type": "stream",
     "text": [
      "Learning rate set to 0.043606\n",
      "0:\tlearn: 11.2419024\ttotal: 51.1ms\tremaining: 51s\n",
      "1:\tlearn: 11.1169287\ttotal: 54ms\tremaining: 26.9s\n",
      "2:\tlearn: 10.9996149\ttotal: 56.8ms\tremaining: 18.9s\n",
      "3:\tlearn: 10.8791861\ttotal: 59.6ms\tremaining: 14.9s\n",
      "4:\tlearn: 10.7495530\ttotal: 62.4ms\tremaining: 12.4s\n",
      "5:\tlearn: 10.6720471\ttotal: 65.1ms\tremaining: 10.8s\n",
      "6:\tlearn: 10.5689475\ttotal: 67.8ms\tremaining: 9.62s\n",
      "7:\tlearn: 10.4711008\ttotal: 70.7ms\tremaining: 8.77s\n",
      "8:\tlearn: 10.3611599\ttotal: 73.5ms\tremaining: 8.09s\n",
      "9:\tlearn: 10.2644908\ttotal: 76.2ms\tremaining: 7.54s\n",
      "10:\tlearn: 10.1561446\ttotal: 78.9ms\tremaining: 7.1s\n",
      "11:\tlearn: 10.0854530\ttotal: 81.7ms\tremaining: 6.73s\n",
      "12:\tlearn: 9.9990899\ttotal: 84.7ms\tremaining: 6.43s\n",
      "13:\tlearn: 9.9145773\ttotal: 87.6ms\tremaining: 6.17s\n",
      "14:\tlearn: 9.8403236\ttotal: 90.3ms\tremaining: 5.93s\n",
      "15:\tlearn: 9.7683988\ttotal: 93.1ms\tremaining: 5.72s\n",
      "16:\tlearn: 9.7015838\ttotal: 96.1ms\tremaining: 5.56s\n",
      "17:\tlearn: 9.6535961\ttotal: 101ms\tremaining: 5.5s\n",
      "18:\tlearn: 9.5976874\ttotal: 105ms\tremaining: 5.45s\n",
      "19:\tlearn: 9.5238767\ttotal: 109ms\tremaining: 5.36s\n",
      "20:\tlearn: 9.4593522\ttotal: 112ms\tremaining: 5.24s\n",
      "21:\tlearn: 9.4212210\ttotal: 115ms\tremaining: 5.12s\n",
      "22:\tlearn: 9.3725862\ttotal: 118ms\tremaining: 5.01s\n",
      "23:\tlearn: 9.3139095\ttotal: 121ms\tremaining: 4.94s\n",
      "24:\tlearn: 9.2621845\ttotal: 124ms\tremaining: 4.85s\n",
      "25:\tlearn: 9.2050805\ttotal: 127ms\tremaining: 4.76s\n",
      "26:\tlearn: 9.1633384\ttotal: 130ms\tremaining: 4.69s\n",
      "27:\tlearn: 9.1238087\ttotal: 133ms\tremaining: 4.63s\n",
      "28:\tlearn: 9.0697262\ttotal: 136ms\tremaining: 4.57s\n",
      "29:\tlearn: 9.0310696\ttotal: 139ms\tremaining: 4.51s\n",
      "30:\tlearn: 8.9856822\ttotal: 143ms\tremaining: 4.46s\n",
      "31:\tlearn: 8.9591788\ttotal: 146ms\tremaining: 4.41s\n",
      "32:\tlearn: 8.9231473\ttotal: 149ms\tremaining: 4.36s\n",
      "33:\tlearn: 8.8890304\ttotal: 152ms\tremaining: 4.32s\n",
      "34:\tlearn: 8.8336260\ttotal: 155ms\tremaining: 4.27s\n",
      "35:\tlearn: 8.7898817\ttotal: 158ms\tremaining: 4.22s\n",
      "36:\tlearn: 8.7502339\ttotal: 161ms\tremaining: 4.18s\n",
      "37:\tlearn: 8.7206581\ttotal: 164ms\tremaining: 4.14s\n",
      "38:\tlearn: 8.6865663\ttotal: 168ms\tremaining: 4.13s\n",
      "39:\tlearn: 8.6571385\ttotal: 171ms\tremaining: 4.1s\n",
      "40:\tlearn: 8.6299259\ttotal: 174ms\tremaining: 4.07s\n",
      "41:\tlearn: 8.5993056\ttotal: 177ms\tremaining: 4.04s\n",
      "42:\tlearn: 8.5687267\ttotal: 180ms\tremaining: 4.01s\n",
      "43:\tlearn: 8.5506180\ttotal: 183ms\tremaining: 3.98s\n",
      "44:\tlearn: 8.5294645\ttotal: 186ms\tremaining: 3.95s\n",
      "45:\tlearn: 8.4966747\ttotal: 190ms\tremaining: 3.94s\n",
      "46:\tlearn: 8.4615385\ttotal: 195ms\tremaining: 3.95s\n",
      "47:\tlearn: 8.4337667\ttotal: 199ms\tremaining: 3.95s\n",
      "48:\tlearn: 8.3981977\ttotal: 203ms\tremaining: 3.93s\n",
      "49:\tlearn: 8.3646426\ttotal: 205ms\tremaining: 3.9s\n",
      "50:\tlearn: 8.3436199\ttotal: 208ms\tremaining: 3.88s\n",
      "51:\tlearn: 8.3207033\ttotal: 211ms\tremaining: 3.85s\n",
      "52:\tlearn: 8.2892337\ttotal: 214ms\tremaining: 3.83s\n",
      "53:\tlearn: 8.2707008\ttotal: 217ms\tremaining: 3.8s\n",
      "54:\tlearn: 8.2447628\ttotal: 220ms\tremaining: 3.78s\n",
      "55:\tlearn: 8.2233054\ttotal: 223ms\tremaining: 3.76s\n",
      "56:\tlearn: 8.2046613\ttotal: 226ms\tremaining: 3.74s\n",
      "57:\tlearn: 8.1809958\ttotal: 229ms\tremaining: 3.72s\n",
      "58:\tlearn: 8.1661461\ttotal: 232ms\tremaining: 3.7s\n",
      "59:\tlearn: 8.1442876\ttotal: 235ms\tremaining: 3.68s\n",
      "60:\tlearn: 8.1152984\ttotal: 238ms\tremaining: 3.66s\n",
      "61:\tlearn: 8.0968878\ttotal: 241ms\tremaining: 3.64s\n",
      "62:\tlearn: 8.0797453\ttotal: 244ms\tremaining: 3.62s\n",
      "63:\tlearn: 8.0495327\ttotal: 246ms\tremaining: 3.6s\n",
      "64:\tlearn: 8.0313268\ttotal: 249ms\tremaining: 3.59s\n",
      "65:\tlearn: 8.0069048\ttotal: 252ms\tremaining: 3.57s\n",
      "66:\tlearn: 7.9902190\ttotal: 255ms\tremaining: 3.55s\n",
      "67:\tlearn: 7.9701361\ttotal: 258ms\tremaining: 3.54s\n",
      "68:\tlearn: 7.9525126\ttotal: 261ms\tremaining: 3.52s\n",
      "69:\tlearn: 7.9373309\ttotal: 264ms\tremaining: 3.5s\n",
      "70:\tlearn: 7.9234193\ttotal: 267ms\tremaining: 3.49s\n",
      "71:\tlearn: 7.9037281\ttotal: 270ms\tremaining: 3.47s\n",
      "72:\tlearn: 7.8857930\ttotal: 272ms\tremaining: 3.46s\n",
      "73:\tlearn: 7.8748449\ttotal: 275ms\tremaining: 3.45s\n",
      "74:\tlearn: 7.8628388\ttotal: 278ms\tremaining: 3.43s\n",
      "75:\tlearn: 7.8460518\ttotal: 281ms\tremaining: 3.42s\n",
      "76:\tlearn: 7.8272980\ttotal: 284ms\tremaining: 3.4s\n",
      "77:\tlearn: 7.8103084\ttotal: 287ms\tremaining: 3.39s\n",
      "78:\tlearn: 7.7922091\ttotal: 290ms\tremaining: 3.38s\n",
      "79:\tlearn: 7.7756560\ttotal: 292ms\tremaining: 3.36s\n",
      "80:\tlearn: 7.7639904\ttotal: 295ms\tremaining: 3.35s\n",
      "81:\tlearn: 7.7510245\ttotal: 298ms\tremaining: 3.34s\n",
      "82:\tlearn: 7.7302516\ttotal: 301ms\tremaining: 3.32s\n",
      "83:\tlearn: 7.7210142\ttotal: 303ms\tremaining: 3.31s\n",
      "84:\tlearn: 7.7086311\ttotal: 306ms\tremaining: 3.29s\n",
      "85:\tlearn: 7.6918310\ttotal: 309ms\tremaining: 3.28s\n",
      "86:\tlearn: 7.6738721\ttotal: 311ms\tremaining: 3.27s\n",
      "87:\tlearn: 7.6585837\ttotal: 314ms\tremaining: 3.26s\n",
      "88:\tlearn: 7.6475093\ttotal: 317ms\tremaining: 3.24s\n",
      "89:\tlearn: 7.6306832\ttotal: 320ms\tremaining: 3.24s\n",
      "90:\tlearn: 7.6186158\ttotal: 323ms\tremaining: 3.23s\n",
      "91:\tlearn: 7.6105082\ttotal: 326ms\tremaining: 3.21s\n",
      "92:\tlearn: 7.5971957\ttotal: 328ms\tremaining: 3.2s\n",
      "93:\tlearn: 7.5885839\ttotal: 331ms\tremaining: 3.19s\n",
      "94:\tlearn: 7.5823495\ttotal: 334ms\tremaining: 3.18s\n",
      "95:\tlearn: 7.5730486\ttotal: 336ms\tremaining: 3.17s\n",
      "96:\tlearn: 7.5657118\ttotal: 339ms\tremaining: 3.16s\n",
      "97:\tlearn: 7.5509439\ttotal: 342ms\tremaining: 3.15s\n",
      "98:\tlearn: 7.5360982\ttotal: 345ms\tremaining: 3.14s\n",
      "99:\tlearn: 7.5204809\ttotal: 348ms\tremaining: 3.13s\n",
      "100:\tlearn: 7.5067068\ttotal: 350ms\tremaining: 3.12s\n",
      "101:\tlearn: 7.4920473\ttotal: 353ms\tremaining: 3.11s\n",
      "102:\tlearn: 7.4795342\ttotal: 356ms\tremaining: 3.1s\n",
      "103:\tlearn: 7.4673171\ttotal: 359ms\tremaining: 3.09s\n",
      "104:\tlearn: 7.4525257\ttotal: 361ms\tremaining: 3.08s\n",
      "105:\tlearn: 7.4401408\ttotal: 364ms\tremaining: 3.07s\n",
      "106:\tlearn: 7.4288737\ttotal: 367ms\tremaining: 3.06s\n",
      "107:\tlearn: 7.4198234\ttotal: 369ms\tremaining: 3.05s\n",
      "108:\tlearn: 7.4112796\ttotal: 373ms\tremaining: 3.04s\n",
      "109:\tlearn: 7.4025330\ttotal: 375ms\tremaining: 3.04s\n",
      "110:\tlearn: 7.3956696\ttotal: 378ms\tremaining: 3.02s\n",
      "111:\tlearn: 7.3872273\ttotal: 381ms\tremaining: 3.02s\n",
      "112:\tlearn: 7.3752742\ttotal: 383ms\tremaining: 3.01s\n",
      "113:\tlearn: 7.3702218\ttotal: 386ms\tremaining: 3s\n",
      "114:\tlearn: 7.3539937\ttotal: 389ms\tremaining: 2.99s\n",
      "115:\tlearn: 7.3431886\ttotal: 391ms\tremaining: 2.98s\n",
      "116:\tlearn: 7.3379711\ttotal: 394ms\tremaining: 2.97s\n",
      "117:\tlearn: 7.3311279\ttotal: 397ms\tremaining: 2.97s\n",
      "118:\tlearn: 7.3232506\ttotal: 400ms\tremaining: 2.96s\n",
      "119:\tlearn: 7.3090677\ttotal: 403ms\tremaining: 2.95s\n",
      "120:\tlearn: 7.3014784\ttotal: 406ms\tremaining: 2.95s\n",
      "121:\tlearn: 7.2841483\ttotal: 409ms\tremaining: 2.94s\n",
      "122:\tlearn: 7.2736142\ttotal: 412ms\tremaining: 2.94s\n",
      "123:\tlearn: 7.2590286\ttotal: 415ms\tremaining: 2.93s\n",
      "124:\tlearn: 7.2467892\ttotal: 418ms\tremaining: 2.92s\n",
      "125:\tlearn: 7.2375165\ttotal: 420ms\tremaining: 2.91s\n",
      "126:\tlearn: 7.2257158\ttotal: 423ms\tremaining: 2.91s\n",
      "127:\tlearn: 7.2158369\ttotal: 426ms\tremaining: 2.9s\n",
      "128:\tlearn: 7.2081901\ttotal: 428ms\tremaining: 2.89s\n",
      "129:\tlearn: 7.1993007\ttotal: 431ms\tremaining: 2.88s\n",
      "130:\tlearn: 7.1914146\ttotal: 434ms\tremaining: 2.88s\n",
      "131:\tlearn: 7.1839619\ttotal: 436ms\tremaining: 2.87s\n",
      "132:\tlearn: 7.1743170\ttotal: 439ms\tremaining: 2.86s\n",
      "133:\tlearn: 7.1606182\ttotal: 442ms\tremaining: 2.86s\n",
      "134:\tlearn: 7.1500738\ttotal: 445ms\tremaining: 2.85s\n",
      "135:\tlearn: 7.1434299\ttotal: 448ms\tremaining: 2.84s\n",
      "136:\tlearn: 7.1376754\ttotal: 450ms\tremaining: 2.84s\n",
      "137:\tlearn: 7.1307326\ttotal: 453ms\tremaining: 2.83s\n",
      "138:\tlearn: 7.1223525\ttotal: 456ms\tremaining: 2.82s\n",
      "139:\tlearn: 7.1159505\ttotal: 458ms\tremaining: 2.82s\n",
      "140:\tlearn: 7.1098235\ttotal: 461ms\tremaining: 2.81s\n",
      "141:\tlearn: 7.1042323\ttotal: 464ms\tremaining: 2.8s\n",
      "142:\tlearn: 7.0997096\ttotal: 467ms\tremaining: 2.8s\n",
      "143:\tlearn: 7.0893034\ttotal: 470ms\tremaining: 2.79s\n",
      "144:\tlearn: 7.0758960\ttotal: 472ms\tremaining: 2.79s\n",
      "145:\tlearn: 7.0667046\ttotal: 475ms\tremaining: 2.78s\n",
      "146:\tlearn: 7.0584236\ttotal: 478ms\tremaining: 2.77s\n",
      "147:\tlearn: 7.0527124\ttotal: 480ms\tremaining: 2.77s\n",
      "148:\tlearn: 7.0450110\ttotal: 483ms\tremaining: 2.76s\n",
      "149:\tlearn: 7.0379167\ttotal: 486ms\tremaining: 2.75s\n",
      "150:\tlearn: 7.0337256\ttotal: 489ms\tremaining: 2.75s\n",
      "151:\tlearn: 7.0226140\ttotal: 492ms\tremaining: 2.74s\n",
      "152:\tlearn: 7.0165975\ttotal: 494ms\tremaining: 2.74s\n",
      "153:\tlearn: 7.0099186\ttotal: 497ms\tremaining: 2.73s\n",
      "154:\tlearn: 7.0049871\ttotal: 499ms\tremaining: 2.72s\n",
      "155:\tlearn: 6.9969392\ttotal: 504ms\tremaining: 2.73s\n",
      "156:\tlearn: 6.9923774\ttotal: 508ms\tremaining: 2.73s\n",
      "157:\tlearn: 6.9862612\ttotal: 513ms\tremaining: 2.73s\n",
      "158:\tlearn: 6.9819503\ttotal: 516ms\tremaining: 2.73s\n",
      "159:\tlearn: 6.9733970\ttotal: 519ms\tremaining: 2.73s\n",
      "160:\tlearn: 6.9651378\ttotal: 523ms\tremaining: 2.72s\n",
      "161:\tlearn: 6.9536466\ttotal: 526ms\tremaining: 2.72s\n",
      "162:\tlearn: 6.9462001\ttotal: 529ms\tremaining: 2.72s\n",
      "163:\tlearn: 6.9428940\ttotal: 532ms\tremaining: 2.71s\n",
      "164:\tlearn: 6.9368024\ttotal: 536ms\tremaining: 2.71s\n",
      "165:\tlearn: 6.9284942\ttotal: 540ms\tremaining: 2.71s\n",
      "166:\tlearn: 6.9237235\ttotal: 543ms\tremaining: 2.71s\n",
      "167:\tlearn: 6.9141627\ttotal: 546ms\tremaining: 2.71s\n",
      "168:\tlearn: 6.8998000\ttotal: 550ms\tremaining: 2.7s\n",
      "169:\tlearn: 6.8925032\ttotal: 553ms\tremaining: 2.7s\n",
      "170:\tlearn: 6.8822899\ttotal: 556ms\tremaining: 2.7s\n",
      "171:\tlearn: 6.8756875\ttotal: 560ms\tremaining: 2.69s\n",
      "172:\tlearn: 6.8682344\ttotal: 564ms\tremaining: 2.69s\n",
      "173:\tlearn: 6.8538982\ttotal: 567ms\tremaining: 2.69s\n",
      "174:\tlearn: 6.8477464\ttotal: 571ms\tremaining: 2.69s\n",
      "175:\tlearn: 6.8399322\ttotal: 574ms\tremaining: 2.69s\n",
      "176:\tlearn: 6.8329614\ttotal: 578ms\tremaining: 2.69s\n",
      "177:\tlearn: 6.8256662\ttotal: 582ms\tremaining: 2.69s\n",
      "178:\tlearn: 6.8167033\ttotal: 586ms\tremaining: 2.69s\n",
      "179:\tlearn: 6.8132587\ttotal: 589ms\tremaining: 2.69s\n",
      "180:\tlearn: 6.8062577\ttotal: 593ms\tremaining: 2.68s\n",
      "181:\tlearn: 6.7867866\ttotal: 597ms\tremaining: 2.68s\n",
      "182:\tlearn: 6.7789621\ttotal: 601ms\tremaining: 2.68s\n",
      "183:\tlearn: 6.7750489\ttotal: 605ms\tremaining: 2.68s\n",
      "184:\tlearn: 6.7680341\ttotal: 609ms\tremaining: 2.68s\n",
      "185:\tlearn: 6.7590396\ttotal: 613ms\tremaining: 2.68s\n",
      "186:\tlearn: 6.7530987\ttotal: 616ms\tremaining: 2.68s\n",
      "187:\tlearn: 6.7401732\ttotal: 621ms\tremaining: 2.68s\n",
      "188:\tlearn: 6.7315796\ttotal: 625ms\tremaining: 2.68s\n",
      "189:\tlearn: 6.7299081\ttotal: 628ms\tremaining: 2.68s\n",
      "190:\tlearn: 6.7229608\ttotal: 631ms\tremaining: 2.67s\n",
      "191:\tlearn: 6.7080403\ttotal: 635ms\tremaining: 2.67s\n",
      "192:\tlearn: 6.6932317\ttotal: 639ms\tremaining: 2.67s\n",
      "193:\tlearn: 6.6864640\ttotal: 642ms\tremaining: 2.67s\n",
      "194:\tlearn: 6.6761458\ttotal: 646ms\tremaining: 2.67s\n",
      "195:\tlearn: 6.6698086\ttotal: 649ms\tremaining: 2.66s\n",
      "196:\tlearn: 6.6552319\ttotal: 653ms\tremaining: 2.66s\n",
      "197:\tlearn: 6.6398541\ttotal: 656ms\tremaining: 2.66s\n",
      "198:\tlearn: 6.6325524\ttotal: 659ms\tremaining: 2.65s\n",
      "199:\tlearn: 6.6264986\ttotal: 662ms\tremaining: 2.65s\n",
      "200:\tlearn: 6.6185157\ttotal: 665ms\tremaining: 2.64s\n",
      "201:\tlearn: 6.6117462\ttotal: 670ms\tremaining: 2.65s\n",
      "202:\tlearn: 6.6048486\ttotal: 673ms\tremaining: 2.64s\n",
      "203:\tlearn: 6.6016348\ttotal: 676ms\tremaining: 2.64s\n",
      "204:\tlearn: 6.5896665\ttotal: 678ms\tremaining: 2.63s\n",
      "205:\tlearn: 6.5821676\ttotal: 681ms\tremaining: 2.63s\n",
      "206:\tlearn: 6.5734845\ttotal: 684ms\tremaining: 2.62s\n",
      "207:\tlearn: 6.5673286\ttotal: 686ms\tremaining: 2.61s\n",
      "208:\tlearn: 6.5594061\ttotal: 689ms\tremaining: 2.61s\n",
      "209:\tlearn: 6.5560236\ttotal: 692ms\tremaining: 2.6s\n",
      "210:\tlearn: 6.5479390\ttotal: 695ms\tremaining: 2.6s\n",
      "211:\tlearn: 6.5398041\ttotal: 698ms\tremaining: 2.59s\n",
      "212:\tlearn: 6.5363712\ttotal: 701ms\tremaining: 2.59s\n",
      "213:\tlearn: 6.5338021\ttotal: 704ms\tremaining: 2.58s\n",
      "214:\tlearn: 6.5247411\ttotal: 707ms\tremaining: 2.58s\n",
      "215:\tlearn: 6.5183585\ttotal: 709ms\tremaining: 2.57s\n",
      "216:\tlearn: 6.5151595\ttotal: 712ms\tremaining: 2.57s\n",
      "217:\tlearn: 6.5114813\ttotal: 715ms\tremaining: 2.56s\n",
      "218:\tlearn: 6.5081311\ttotal: 719ms\tremaining: 2.56s\n",
      "219:\tlearn: 6.4998915\ttotal: 722ms\tremaining: 2.56s\n",
      "220:\tlearn: 6.4939440\ttotal: 725ms\tremaining: 2.56s\n",
      "221:\tlearn: 6.4898888\ttotal: 728ms\tremaining: 2.55s\n",
      "222:\tlearn: 6.4831257\ttotal: 731ms\tremaining: 2.55s\n",
      "223:\tlearn: 6.4770570\ttotal: 734ms\tremaining: 2.54s\n",
      "224:\tlearn: 6.4668887\ttotal: 736ms\tremaining: 2.54s\n",
      "225:\tlearn: 6.4579164\ttotal: 739ms\tremaining: 2.53s\n",
      "226:\tlearn: 6.4484761\ttotal: 742ms\tremaining: 2.52s\n",
      "227:\tlearn: 6.4391655\ttotal: 744ms\tremaining: 2.52s\n",
      "228:\tlearn: 6.4290976\ttotal: 747ms\tremaining: 2.52s\n",
      "229:\tlearn: 6.4239514\ttotal: 750ms\tremaining: 2.51s\n",
      "230:\tlearn: 6.4164200\ttotal: 753ms\tremaining: 2.51s\n",
      "231:\tlearn: 6.4146451\ttotal: 756ms\tremaining: 2.5s\n",
      "232:\tlearn: 6.3992984\ttotal: 759ms\tremaining: 2.5s\n",
      "233:\tlearn: 6.3961009\ttotal: 762ms\tremaining: 2.49s\n",
      "234:\tlearn: 6.3840980\ttotal: 765ms\tremaining: 2.49s\n",
      "235:\tlearn: 6.3808143\ttotal: 767ms\tremaining: 2.48s\n",
      "236:\tlearn: 6.3702404\ttotal: 770ms\tremaining: 2.48s\n",
      "237:\tlearn: 6.3598615\ttotal: 773ms\tremaining: 2.48s\n",
      "238:\tlearn: 6.3547827\ttotal: 776ms\tremaining: 2.47s\n",
      "239:\tlearn: 6.3530935\ttotal: 779ms\tremaining: 2.47s\n",
      "240:\tlearn: 6.3473697\ttotal: 782ms\tremaining: 2.46s\n",
      "241:\tlearn: 6.3376237\ttotal: 784ms\tremaining: 2.46s\n",
      "242:\tlearn: 6.3289561\ttotal: 787ms\tremaining: 2.45s\n",
      "243:\tlearn: 6.3224599\ttotal: 790ms\tremaining: 2.45s\n",
      "244:\tlearn: 6.3158935\ttotal: 793ms\tremaining: 2.44s\n",
      "245:\tlearn: 6.3001642\ttotal: 795ms\tremaining: 2.44s\n",
      "246:\tlearn: 6.2944475\ttotal: 798ms\tremaining: 2.43s\n",
      "247:\tlearn: 6.2764839\ttotal: 801ms\tremaining: 2.43s\n",
      "248:\tlearn: 6.2633329\ttotal: 803ms\tremaining: 2.42s\n",
      "249:\tlearn: 6.2575600\ttotal: 806ms\tremaining: 2.42s\n",
      "250:\tlearn: 6.2511333\ttotal: 809ms\tremaining: 2.41s\n",
      "251:\tlearn: 6.2441160\ttotal: 812ms\tremaining: 2.41s\n",
      "252:\tlearn: 6.2384813\ttotal: 814ms\tremaining: 2.4s\n",
      "253:\tlearn: 6.2266261\ttotal: 817ms\tremaining: 2.4s\n",
      "254:\tlearn: 6.2176422\ttotal: 820ms\tremaining: 2.4s\n",
      "255:\tlearn: 6.2125686\ttotal: 823ms\tremaining: 2.39s\n",
      "256:\tlearn: 6.2067010\ttotal: 826ms\tremaining: 2.39s\n",
      "257:\tlearn: 6.2012947\ttotal: 829ms\tremaining: 2.38s\n",
      "258:\tlearn: 6.1950799\ttotal: 832ms\tremaining: 2.38s\n",
      "259:\tlearn: 6.1894602\ttotal: 834ms\tremaining: 2.37s\n",
      "260:\tlearn: 6.1821038\ttotal: 837ms\tremaining: 2.37s\n",
      "261:\tlearn: 6.1662313\ttotal: 840ms\tremaining: 2.37s\n",
      "262:\tlearn: 6.1599075\ttotal: 843ms\tremaining: 2.36s\n",
      "263:\tlearn: 6.1505916\ttotal: 846ms\tremaining: 2.36s\n",
      "264:\tlearn: 6.1456015\ttotal: 849ms\tremaining: 2.35s\n",
      "265:\tlearn: 6.1437696\ttotal: 852ms\tremaining: 2.35s\n",
      "266:\tlearn: 6.1370082\ttotal: 855ms\tremaining: 2.35s\n",
      "267:\tlearn: 6.1326882\ttotal: 857ms\tremaining: 2.34s\n",
      "268:\tlearn: 6.1288222\ttotal: 861ms\tremaining: 2.34s\n",
      "269:\tlearn: 6.1156588\ttotal: 865ms\tremaining: 2.34s\n",
      "270:\tlearn: 6.1057680\ttotal: 867ms\tremaining: 2.33s\n",
      "271:\tlearn: 6.0971506\ttotal: 871ms\tremaining: 2.33s\n",
      "272:\tlearn: 6.0944161\ttotal: 874ms\tremaining: 2.33s\n",
      "273:\tlearn: 6.0917018\ttotal: 877ms\tremaining: 2.32s\n",
      "274:\tlearn: 6.0873357\ttotal: 880ms\tremaining: 2.32s\n",
      "275:\tlearn: 6.0785981\ttotal: 883ms\tremaining: 2.32s\n",
      "276:\tlearn: 6.0695699\ttotal: 887ms\tremaining: 2.31s\n",
      "277:\tlearn: 6.0620571\ttotal: 891ms\tremaining: 2.31s\n",
      "278:\tlearn: 6.0572468\ttotal: 895ms\tremaining: 2.31s\n",
      "279:\tlearn: 6.0528414\ttotal: 898ms\tremaining: 2.31s\n",
      "280:\tlearn: 6.0486841\ttotal: 901ms\tremaining: 2.31s\n",
      "281:\tlearn: 6.0423194\ttotal: 904ms\tremaining: 2.3s\n",
      "282:\tlearn: 6.0384341\ttotal: 907ms\tremaining: 2.3s\n",
      "283:\tlearn: 6.0361405\ttotal: 910ms\tremaining: 2.29s\n",
      "284:\tlearn: 6.0275808\ttotal: 913ms\tremaining: 2.29s\n",
      "285:\tlearn: 6.0191200\ttotal: 916ms\tremaining: 2.29s\n",
      "286:\tlearn: 6.0131597\ttotal: 918ms\tremaining: 2.28s\n",
      "287:\tlearn: 6.0084626\ttotal: 921ms\tremaining: 2.28s\n",
      "288:\tlearn: 6.0003826\ttotal: 924ms\tremaining: 2.27s\n",
      "289:\tlearn: 5.9927189\ttotal: 927ms\tremaining: 2.27s\n",
      "290:\tlearn: 5.9834929\ttotal: 930ms\tremaining: 2.27s\n",
      "291:\tlearn: 5.9746413\ttotal: 933ms\tremaining: 2.26s\n",
      "292:\tlearn: 5.9691510\ttotal: 936ms\tremaining: 2.26s\n",
      "293:\tlearn: 5.9603496\ttotal: 939ms\tremaining: 2.25s\n",
      "294:\tlearn: 5.9558425\ttotal: 942ms\tremaining: 2.25s\n",
      "295:\tlearn: 5.9503891\ttotal: 945ms\tremaining: 2.25s\n",
      "296:\tlearn: 5.9365181\ttotal: 948ms\tremaining: 2.24s\n",
      "297:\tlearn: 5.9258651\ttotal: 951ms\tremaining: 2.24s\n",
      "298:\tlearn: 5.9227053\ttotal: 954ms\tremaining: 2.23s\n",
      "299:\tlearn: 5.9198098\ttotal: 957ms\tremaining: 2.23s\n",
      "300:\tlearn: 5.9148301\ttotal: 960ms\tremaining: 2.23s\n",
      "301:\tlearn: 5.8996261\ttotal: 962ms\tremaining: 2.22s\n",
      "302:\tlearn: 5.8931904\ttotal: 965ms\tremaining: 2.22s\n",
      "303:\tlearn: 5.8830730\ttotal: 968ms\tremaining: 2.22s\n",
      "304:\tlearn: 5.8815394\ttotal: 971ms\tremaining: 2.21s\n",
      "305:\tlearn: 5.8786477\ttotal: 974ms\tremaining: 2.21s\n",
      "306:\tlearn: 5.8745318\ttotal: 977ms\tremaining: 2.21s\n",
      "307:\tlearn: 5.8729274\ttotal: 980ms\tremaining: 2.2s\n",
      "308:\tlearn: 5.8639400\ttotal: 983ms\tremaining: 2.2s\n",
      "309:\tlearn: 5.8610650\ttotal: 986ms\tremaining: 2.19s\n",
      "310:\tlearn: 5.8550304\ttotal: 989ms\tremaining: 2.19s\n",
      "311:\tlearn: 5.8502939\ttotal: 992ms\tremaining: 2.19s\n",
      "312:\tlearn: 5.8448836\ttotal: 995ms\tremaining: 2.18s\n",
      "313:\tlearn: 5.8355696\ttotal: 998ms\tremaining: 2.18s\n",
      "314:\tlearn: 5.8279467\ttotal: 1s\tremaining: 2.18s\n",
      "315:\tlearn: 5.8250176\ttotal: 1s\tremaining: 2.17s\n",
      "316:\tlearn: 5.8237587\ttotal: 1.01s\tremaining: 2.17s\n",
      "317:\tlearn: 5.8211282\ttotal: 1.01s\tremaining: 2.17s\n",
      "318:\tlearn: 5.8138486\ttotal: 1.01s\tremaining: 2.16s\n",
      "319:\tlearn: 5.8016660\ttotal: 1.02s\tremaining: 2.16s\n",
      "320:\tlearn: 5.7992585\ttotal: 1.02s\tremaining: 2.16s\n",
      "321:\tlearn: 5.7968657\ttotal: 1.02s\tremaining: 2.15s\n",
      "322:\tlearn: 5.7948211\ttotal: 1.02s\tremaining: 2.15s\n",
      "323:\tlearn: 5.7904962\ttotal: 1.03s\tremaining: 2.15s\n",
      "324:\tlearn: 5.7856680\ttotal: 1.03s\tremaining: 2.14s\n",
      "325:\tlearn: 5.7801633\ttotal: 1.03s\tremaining: 2.14s\n",
      "326:\tlearn: 5.7708878\ttotal: 1.04s\tremaining: 2.13s\n",
      "327:\tlearn: 5.7694069\ttotal: 1.04s\tremaining: 2.13s\n",
      "328:\tlearn: 5.7639064\ttotal: 1.04s\tremaining: 2.13s\n",
      "329:\tlearn: 5.7577258\ttotal: 1.04s\tremaining: 2.12s\n",
      "330:\tlearn: 5.7495199\ttotal: 1.05s\tremaining: 2.12s\n",
      "331:\tlearn: 5.7478403\ttotal: 1.05s\tremaining: 2.11s\n",
      "332:\tlearn: 5.7406782\ttotal: 1.05s\tremaining: 2.11s\n",
      "333:\tlearn: 5.7329418\ttotal: 1.06s\tremaining: 2.11s\n",
      "334:\tlearn: 5.7233285\ttotal: 1.06s\tremaining: 2.1s\n",
      "335:\tlearn: 5.7198140\ttotal: 1.06s\tremaining: 2.1s\n",
      "336:\tlearn: 5.7125017\ttotal: 1.06s\tremaining: 2.09s\n",
      "337:\tlearn: 5.7097222\ttotal: 1.07s\tremaining: 2.09s\n",
      "338:\tlearn: 5.7052095\ttotal: 1.07s\tremaining: 2.09s\n",
      "339:\tlearn: 5.7042333\ttotal: 1.07s\tremaining: 2.08s\n",
      "340:\tlearn: 5.6972476\ttotal: 1.08s\tremaining: 2.08s\n",
      "341:\tlearn: 5.6862346\ttotal: 1.08s\tremaining: 2.08s\n",
      "342:\tlearn: 5.6782859\ttotal: 1.08s\tremaining: 2.07s\n",
      "343:\tlearn: 5.6710992\ttotal: 1.08s\tremaining: 2.07s\n",
      "344:\tlearn: 5.6698366\ttotal: 1.09s\tremaining: 2.06s\n",
      "345:\tlearn: 5.6588814\ttotal: 1.09s\tremaining: 2.06s\n",
      "346:\tlearn: 5.6537197\ttotal: 1.09s\tremaining: 2.06s\n",
      "347:\tlearn: 5.6515281\ttotal: 1.1s\tremaining: 2.05s\n",
      "348:\tlearn: 5.6439782\ttotal: 1.1s\tremaining: 2.05s\n",
      "349:\tlearn: 5.6355394\ttotal: 1.1s\tremaining: 2.05s\n",
      "350:\tlearn: 5.6286346\ttotal: 1.11s\tremaining: 2.05s\n",
      "351:\tlearn: 5.6198048\ttotal: 1.11s\tremaining: 2.04s\n",
      "352:\tlearn: 5.6161831\ttotal: 1.11s\tremaining: 2.04s\n",
      "353:\tlearn: 5.6144971\ttotal: 1.11s\tremaining: 2.04s\n",
      "354:\tlearn: 5.6121975\ttotal: 1.12s\tremaining: 2.03s\n",
      "355:\tlearn: 5.6036715\ttotal: 1.12s\tremaining: 2.03s\n",
      "356:\tlearn: 5.5934436\ttotal: 1.12s\tremaining: 2.02s\n",
      "357:\tlearn: 5.5870544\ttotal: 1.13s\tremaining: 2.02s\n",
      "358:\tlearn: 5.5813763\ttotal: 1.13s\tremaining: 2.02s\n",
      "359:\tlearn: 5.5788687\ttotal: 1.13s\tremaining: 2.01s\n",
      "360:\tlearn: 5.5774756\ttotal: 1.14s\tremaining: 2.01s\n",
      "361:\tlearn: 5.5727890\ttotal: 1.14s\tremaining: 2.01s\n",
      "362:\tlearn: 5.5640418\ttotal: 1.14s\tremaining: 2s\n",
      "363:\tlearn: 5.5587261\ttotal: 1.14s\tremaining: 2s\n",
      "364:\tlearn: 5.5560329\ttotal: 1.15s\tremaining: 2s\n",
      "365:\tlearn: 5.5531982\ttotal: 1.15s\tremaining: 1.99s\n",
      "366:\tlearn: 5.5429649\ttotal: 1.15s\tremaining: 1.99s\n",
      "367:\tlearn: 5.5407166\ttotal: 1.16s\tremaining: 1.99s\n",
      "368:\tlearn: 5.5347423\ttotal: 1.16s\tremaining: 1.98s\n",
      "369:\tlearn: 5.5265802\ttotal: 1.16s\tremaining: 1.98s\n",
      "370:\tlearn: 5.5209036\ttotal: 1.16s\tremaining: 1.97s\n",
      "371:\tlearn: 5.5114198\ttotal: 1.17s\tremaining: 1.97s\n",
      "372:\tlearn: 5.5031163\ttotal: 1.17s\tremaining: 1.97s\n",
      "373:\tlearn: 5.4990626\ttotal: 1.17s\tremaining: 1.96s\n",
      "374:\tlearn: 5.4974656\ttotal: 1.18s\tremaining: 1.96s\n",
      "375:\tlearn: 5.4938759\ttotal: 1.18s\tremaining: 1.96s\n",
      "376:\tlearn: 5.4872891\ttotal: 1.18s\tremaining: 1.95s\n",
      "377:\tlearn: 5.4836577\ttotal: 1.18s\tremaining: 1.95s\n",
      "378:\tlearn: 5.4809467\ttotal: 1.19s\tremaining: 1.94s\n",
      "379:\tlearn: 5.4751398\ttotal: 1.19s\tremaining: 1.94s\n",
      "380:\tlearn: 5.4669233\ttotal: 1.19s\tremaining: 1.94s\n",
      "381:\tlearn: 5.4639457\ttotal: 1.2s\tremaining: 1.93s\n",
      "382:\tlearn: 5.4575245\ttotal: 1.2s\tremaining: 1.93s\n",
      "383:\tlearn: 5.4517485\ttotal: 1.2s\tremaining: 1.93s\n",
      "384:\tlearn: 5.4508670\ttotal: 1.21s\tremaining: 1.93s\n",
      "385:\tlearn: 5.4455612\ttotal: 1.21s\tremaining: 1.92s\n",
      "386:\tlearn: 5.4444709\ttotal: 1.21s\tremaining: 1.92s\n",
      "387:\tlearn: 5.4363182\ttotal: 1.21s\tremaining: 1.91s\n",
      "388:\tlearn: 5.4331214\ttotal: 1.22s\tremaining: 1.91s\n",
      "389:\tlearn: 5.4323119\ttotal: 1.22s\tremaining: 1.91s\n",
      "390:\tlearn: 5.4236093\ttotal: 1.22s\tremaining: 1.9s\n",
      "391:\tlearn: 5.4194267\ttotal: 1.22s\tremaining: 1.9s\n",
      "392:\tlearn: 5.4120338\ttotal: 1.23s\tremaining: 1.9s\n",
      "393:\tlearn: 5.4087844\ttotal: 1.23s\tremaining: 1.89s\n",
      "394:\tlearn: 5.4073394\ttotal: 1.23s\tremaining: 1.89s\n",
      "395:\tlearn: 5.4030611\ttotal: 1.24s\tremaining: 1.88s\n",
      "396:\tlearn: 5.3943977\ttotal: 1.24s\tremaining: 1.88s\n",
      "397:\tlearn: 5.3880591\ttotal: 1.24s\tremaining: 1.88s\n",
      "398:\tlearn: 5.3848188\ttotal: 1.24s\tremaining: 1.87s\n",
      "399:\tlearn: 5.3806182\ttotal: 1.25s\tremaining: 1.87s\n",
      "400:\tlearn: 5.3795284\ttotal: 1.25s\tremaining: 1.86s\n",
      "401:\tlearn: 5.3769403\ttotal: 1.25s\tremaining: 1.86s\n",
      "402:\tlearn: 5.3697008\ttotal: 1.25s\tremaining: 1.86s\n",
      "403:\tlearn: 5.3686292\ttotal: 1.26s\tremaining: 1.85s\n",
      "404:\tlearn: 5.3638175\ttotal: 1.26s\tremaining: 1.85s\n",
      "405:\tlearn: 5.3624076\ttotal: 1.26s\tremaining: 1.85s\n",
      "406:\tlearn: 5.3541601\ttotal: 1.26s\tremaining: 1.84s\n",
      "407:\tlearn: 5.3498981\ttotal: 1.27s\tremaining: 1.84s\n",
      "408:\tlearn: 5.3422133\ttotal: 1.27s\tremaining: 1.84s\n",
      "409:\tlearn: 5.3345557\ttotal: 1.27s\tremaining: 1.83s\n",
      "410:\tlearn: 5.3314624\ttotal: 1.28s\tremaining: 1.83s\n",
      "411:\tlearn: 5.3264051\ttotal: 1.28s\tremaining: 1.83s\n",
      "412:\tlearn: 5.3226480\ttotal: 1.28s\tremaining: 1.82s\n",
      "413:\tlearn: 5.3188293\ttotal: 1.29s\tremaining: 1.82s\n",
      "414:\tlearn: 5.3150662\ttotal: 1.29s\tremaining: 1.82s\n",
      "415:\tlearn: 5.3102630\ttotal: 1.29s\tremaining: 1.81s\n",
      "416:\tlearn: 5.3063332\ttotal: 1.29s\tremaining: 1.81s\n",
      "417:\tlearn: 5.3003636\ttotal: 1.3s\tremaining: 1.8s\n",
      "418:\tlearn: 5.2944424\ttotal: 1.3s\tremaining: 1.8s\n",
      "419:\tlearn: 5.2926117\ttotal: 1.3s\tremaining: 1.8s\n",
      "420:\tlearn: 5.2891007\ttotal: 1.3s\tremaining: 1.79s\n",
      "421:\tlearn: 5.2848649\ttotal: 1.31s\tremaining: 1.79s\n",
      "422:\tlearn: 5.2819890\ttotal: 1.31s\tremaining: 1.79s\n",
      "423:\tlearn: 5.2811053\ttotal: 1.31s\tremaining: 1.78s\n",
      "424:\tlearn: 5.2778785\ttotal: 1.32s\tremaining: 1.78s\n",
      "425:\tlearn: 5.2678474\ttotal: 1.32s\tremaining: 1.78s\n",
      "426:\tlearn: 5.2662625\ttotal: 1.32s\tremaining: 1.77s\n",
      "427:\tlearn: 5.2566479\ttotal: 1.32s\tremaining: 1.77s\n",
      "428:\tlearn: 5.2507794\ttotal: 1.33s\tremaining: 1.77s\n",
      "429:\tlearn: 5.2415926\ttotal: 1.33s\tremaining: 1.76s\n",
      "430:\tlearn: 5.2331640\ttotal: 1.33s\tremaining: 1.76s\n",
      "431:\tlearn: 5.2275751\ttotal: 1.34s\tremaining: 1.76s\n",
      "432:\tlearn: 5.2213855\ttotal: 1.34s\tremaining: 1.75s\n",
      "433:\tlearn: 5.2196038\ttotal: 1.34s\tremaining: 1.75s\n",
      "434:\tlearn: 5.2123287\ttotal: 1.34s\tremaining: 1.75s\n",
      "435:\tlearn: 5.2056996\ttotal: 1.35s\tremaining: 1.74s\n",
      "436:\tlearn: 5.1978773\ttotal: 1.35s\tremaining: 1.74s\n",
      "437:\tlearn: 5.1964198\ttotal: 1.35s\tremaining: 1.73s\n",
      "438:\tlearn: 5.1898075\ttotal: 1.35s\tremaining: 1.73s\n",
      "439:\tlearn: 5.1850820\ttotal: 1.36s\tremaining: 1.73s\n",
      "440:\tlearn: 5.1753913\ttotal: 1.36s\tremaining: 1.72s\n",
      "441:\tlearn: 5.1721208\ttotal: 1.36s\tremaining: 1.72s\n",
      "442:\tlearn: 5.1672930\ttotal: 1.36s\tremaining: 1.72s\n",
      "443:\tlearn: 5.1597023\ttotal: 1.37s\tremaining: 1.71s\n",
      "444:\tlearn: 5.1520851\ttotal: 1.37s\tremaining: 1.71s\n",
      "445:\tlearn: 5.1476753\ttotal: 1.37s\tremaining: 1.71s\n",
      "446:\tlearn: 5.1437593\ttotal: 1.38s\tremaining: 1.7s\n",
      "447:\tlearn: 5.1422669\ttotal: 1.38s\tremaining: 1.7s\n",
      "448:\tlearn: 5.1337567\ttotal: 1.38s\tremaining: 1.7s\n",
      "449:\tlearn: 5.1284653\ttotal: 1.39s\tremaining: 1.69s\n",
      "450:\tlearn: 5.1269998\ttotal: 1.39s\tremaining: 1.69s\n",
      "451:\tlearn: 5.1207593\ttotal: 1.39s\tremaining: 1.69s\n",
      "452:\tlearn: 5.1198825\ttotal: 1.39s\tremaining: 1.68s\n",
      "453:\tlearn: 5.1173813\ttotal: 1.4s\tremaining: 1.68s\n",
      "454:\tlearn: 5.1159525\ttotal: 1.4s\tremaining: 1.68s\n",
      "455:\tlearn: 5.1123236\ttotal: 1.4s\tremaining: 1.67s\n",
      "456:\tlearn: 5.1111960\ttotal: 1.41s\tremaining: 1.67s\n",
      "457:\tlearn: 5.1096827\ttotal: 1.41s\tremaining: 1.67s\n",
      "458:\tlearn: 5.1086114\ttotal: 1.41s\tremaining: 1.66s\n",
      "459:\tlearn: 5.1069396\ttotal: 1.41s\tremaining: 1.66s\n",
      "460:\tlearn: 5.1013476\ttotal: 1.42s\tremaining: 1.66s\n",
      "461:\tlearn: 5.0917868\ttotal: 1.42s\tremaining: 1.65s\n",
      "462:\tlearn: 5.0905542\ttotal: 1.42s\tremaining: 1.65s\n",
      "463:\tlearn: 5.0863220\ttotal: 1.43s\tremaining: 1.65s\n",
      "464:\tlearn: 5.0848194\ttotal: 1.43s\tremaining: 1.64s\n",
      "465:\tlearn: 5.0763580\ttotal: 1.43s\tremaining: 1.64s\n",
      "466:\tlearn: 5.0709502\ttotal: 1.43s\tremaining: 1.64s\n",
      "467:\tlearn: 5.0633630\ttotal: 1.44s\tremaining: 1.63s\n",
      "468:\tlearn: 5.0621456\ttotal: 1.44s\tremaining: 1.63s\n",
      "469:\tlearn: 5.0590511\ttotal: 1.44s\tremaining: 1.63s\n",
      "470:\tlearn: 5.0512313\ttotal: 1.45s\tremaining: 1.62s\n",
      "471:\tlearn: 5.0477495\ttotal: 1.45s\tremaining: 1.62s\n",
      "472:\tlearn: 5.0396100\ttotal: 1.45s\tremaining: 1.62s\n",
      "473:\tlearn: 5.0332160\ttotal: 1.45s\tremaining: 1.61s\n",
      "474:\tlearn: 5.0319090\ttotal: 1.46s\tremaining: 1.61s\n",
      "475:\tlearn: 5.0312671\ttotal: 1.46s\tremaining: 1.61s\n",
      "476:\tlearn: 5.0299881\ttotal: 1.46s\tremaining: 1.6s\n",
      "477:\tlearn: 5.0246091\ttotal: 1.47s\tremaining: 1.6s\n",
      "478:\tlearn: 5.0236965\ttotal: 1.47s\tremaining: 1.6s\n",
      "479:\tlearn: 5.0176943\ttotal: 1.47s\tremaining: 1.59s\n",
      "480:\tlearn: 5.0128039\ttotal: 1.48s\tremaining: 1.59s\n",
      "481:\tlearn: 5.0090186\ttotal: 1.48s\tremaining: 1.59s\n",
      "482:\tlearn: 5.0070379\ttotal: 1.48s\tremaining: 1.59s\n",
      "483:\tlearn: 5.0028051\ttotal: 1.49s\tremaining: 1.58s\n",
      "484:\tlearn: 4.9975460\ttotal: 1.49s\tremaining: 1.58s\n",
      "485:\tlearn: 4.9919602\ttotal: 1.49s\tremaining: 1.58s\n",
      "486:\tlearn: 4.9899977\ttotal: 1.49s\tremaining: 1.57s\n",
      "487:\tlearn: 4.9856282\ttotal: 1.5s\tremaining: 1.57s\n",
      "488:\tlearn: 4.9803767\ttotal: 1.5s\tremaining: 1.57s\n",
      "489:\tlearn: 4.9728466\ttotal: 1.5s\tremaining: 1.56s\n",
      "490:\tlearn: 4.9669861\ttotal: 1.5s\tremaining: 1.56s\n",
      "491:\tlearn: 4.9652135\ttotal: 1.51s\tremaining: 1.56s\n",
      "492:\tlearn: 4.9605258\ttotal: 1.51s\tremaining: 1.55s\n",
      "493:\tlearn: 4.9552355\ttotal: 1.51s\tremaining: 1.55s\n",
      "494:\tlearn: 4.9511359\ttotal: 1.52s\tremaining: 1.55s\n",
      "495:\tlearn: 4.9492767\ttotal: 1.52s\tremaining: 1.54s\n",
      "496:\tlearn: 4.9468289\ttotal: 1.52s\tremaining: 1.54s\n",
      "497:\tlearn: 4.9441770\ttotal: 1.52s\tremaining: 1.54s\n",
      "498:\tlearn: 4.9404203\ttotal: 1.53s\tremaining: 1.53s\n",
      "499:\tlearn: 4.9328934\ttotal: 1.53s\tremaining: 1.53s\n",
      "500:\tlearn: 4.9284933\ttotal: 1.53s\tremaining: 1.53s\n",
      "501:\tlearn: 4.9267760\ttotal: 1.54s\tremaining: 1.52s\n",
      "502:\tlearn: 4.9229930\ttotal: 1.54s\tremaining: 1.52s\n",
      "503:\tlearn: 4.9221691\ttotal: 1.54s\tremaining: 1.52s\n",
      "504:\tlearn: 4.9194035\ttotal: 1.54s\tremaining: 1.51s\n",
      "505:\tlearn: 4.9113862\ttotal: 1.55s\tremaining: 1.51s\n",
      "506:\tlearn: 4.9106212\ttotal: 1.55s\tremaining: 1.51s\n",
      "507:\tlearn: 4.9064275\ttotal: 1.55s\tremaining: 1.5s\n",
      "508:\tlearn: 4.9052783\ttotal: 1.56s\tremaining: 1.5s\n",
      "509:\tlearn: 4.8997467\ttotal: 1.56s\tremaining: 1.5s\n",
      "510:\tlearn: 4.8990084\ttotal: 1.56s\tremaining: 1.49s\n",
      "511:\tlearn: 4.8953051\ttotal: 1.56s\tremaining: 1.49s\n",
      "512:\tlearn: 4.8887775\ttotal: 1.57s\tremaining: 1.49s\n",
      "513:\tlearn: 4.8864761\ttotal: 1.57s\tremaining: 1.48s\n",
      "514:\tlearn: 4.8810198\ttotal: 1.57s\tremaining: 1.48s\n",
      "515:\tlearn: 4.8757025\ttotal: 1.58s\tremaining: 1.48s\n",
      "516:\tlearn: 4.8715798\ttotal: 1.58s\tremaining: 1.47s\n",
      "517:\tlearn: 4.8683519\ttotal: 1.58s\tremaining: 1.47s\n",
      "518:\tlearn: 4.8632503\ttotal: 1.58s\tremaining: 1.47s\n",
      "519:\tlearn: 4.8596652\ttotal: 1.59s\tremaining: 1.46s\n",
      "520:\tlearn: 4.8555915\ttotal: 1.59s\tremaining: 1.46s\n",
      "521:\tlearn: 4.8530924\ttotal: 1.59s\tremaining: 1.46s\n",
      "522:\tlearn: 4.8520052\ttotal: 1.59s\tremaining: 1.45s\n",
      "523:\tlearn: 4.8489308\ttotal: 1.6s\tremaining: 1.45s\n",
      "524:\tlearn: 4.8447752\ttotal: 1.6s\tremaining: 1.45s\n",
      "525:\tlearn: 4.8436390\ttotal: 1.6s\tremaining: 1.44s\n",
      "526:\tlearn: 4.8387245\ttotal: 1.6s\tremaining: 1.44s\n",
      "527:\tlearn: 4.8359975\ttotal: 1.61s\tremaining: 1.44s\n",
      "528:\tlearn: 4.8330822\ttotal: 1.61s\tremaining: 1.43s\n",
      "529:\tlearn: 4.8223908\ttotal: 1.61s\tremaining: 1.43s\n",
      "530:\tlearn: 4.8195858\ttotal: 1.62s\tremaining: 1.43s\n",
      "531:\tlearn: 4.8146131\ttotal: 1.62s\tremaining: 1.42s\n",
      "532:\tlearn: 4.8091795\ttotal: 1.62s\tremaining: 1.42s\n",
      "533:\tlearn: 4.8048797\ttotal: 1.63s\tremaining: 1.42s\n",
      "534:\tlearn: 4.7990678\ttotal: 1.63s\tremaining: 1.42s\n",
      "535:\tlearn: 4.7961052\ttotal: 1.63s\tremaining: 1.41s\n",
      "536:\tlearn: 4.7878421\ttotal: 1.63s\tremaining: 1.41s\n",
      "537:\tlearn: 4.7812699\ttotal: 1.64s\tremaining: 1.41s\n",
      "538:\tlearn: 4.7744404\ttotal: 1.64s\tremaining: 1.4s\n",
      "539:\tlearn: 4.7720154\ttotal: 1.64s\tremaining: 1.4s\n",
      "540:\tlearn: 4.7702603\ttotal: 1.65s\tremaining: 1.4s\n",
      "541:\tlearn: 4.7664994\ttotal: 1.65s\tremaining: 1.39s\n",
      "542:\tlearn: 4.7613333\ttotal: 1.65s\tremaining: 1.39s\n",
      "543:\tlearn: 4.7568578\ttotal: 1.65s\tremaining: 1.39s\n",
      "544:\tlearn: 4.7523767\ttotal: 1.66s\tremaining: 1.38s\n",
      "545:\tlearn: 4.7489324\ttotal: 1.66s\tremaining: 1.38s\n",
      "546:\tlearn: 4.7448046\ttotal: 1.66s\tremaining: 1.38s\n",
      "547:\tlearn: 4.7378407\ttotal: 1.67s\tremaining: 1.37s\n",
      "548:\tlearn: 4.7366175\ttotal: 1.67s\tremaining: 1.37s\n",
      "549:\tlearn: 4.7336532\ttotal: 1.67s\tremaining: 1.37s\n",
      "550:\tlearn: 4.7303302\ttotal: 1.67s\tremaining: 1.36s\n",
      "551:\tlearn: 4.7250743\ttotal: 1.68s\tremaining: 1.36s\n",
      "552:\tlearn: 4.7222113\ttotal: 1.68s\tremaining: 1.36s\n",
      "553:\tlearn: 4.7156890\ttotal: 1.68s\tremaining: 1.35s\n",
      "554:\tlearn: 4.7100953\ttotal: 1.69s\tremaining: 1.35s\n",
      "555:\tlearn: 4.7079541\ttotal: 1.69s\tremaining: 1.35s\n",
      "556:\tlearn: 4.7043036\ttotal: 1.69s\tremaining: 1.34s\n",
      "557:\tlearn: 4.6980505\ttotal: 1.69s\tremaining: 1.34s\n",
      "558:\tlearn: 4.6948985\ttotal: 1.7s\tremaining: 1.34s\n",
      "559:\tlearn: 4.6919607\ttotal: 1.7s\tremaining: 1.33s\n",
      "560:\tlearn: 4.6874363\ttotal: 1.7s\tremaining: 1.33s\n",
      "561:\tlearn: 4.6836270\ttotal: 1.7s\tremaining: 1.33s\n",
      "562:\tlearn: 4.6773555\ttotal: 1.71s\tremaining: 1.32s\n",
      "563:\tlearn: 4.6769330\ttotal: 1.71s\tremaining: 1.32s\n",
      "564:\tlearn: 4.6693890\ttotal: 1.71s\tremaining: 1.32s\n",
      "565:\tlearn: 4.6634466\ttotal: 1.72s\tremaining: 1.31s\n",
      "566:\tlearn: 4.6604554\ttotal: 1.72s\tremaining: 1.31s\n",
      "567:\tlearn: 4.6593451\ttotal: 1.72s\tremaining: 1.31s\n",
      "568:\tlearn: 4.6588187\ttotal: 1.72s\tremaining: 1.31s\n",
      "569:\tlearn: 4.6547883\ttotal: 1.73s\tremaining: 1.3s\n",
      "570:\tlearn: 4.6481212\ttotal: 1.73s\tremaining: 1.3s\n",
      "571:\tlearn: 4.6461140\ttotal: 1.73s\tremaining: 1.3s\n",
      "572:\tlearn: 4.6410512\ttotal: 1.74s\tremaining: 1.29s\n",
      "573:\tlearn: 4.6346452\ttotal: 1.74s\tremaining: 1.29s\n",
      "574:\tlearn: 4.6321353\ttotal: 1.74s\tremaining: 1.29s\n",
      "575:\tlearn: 4.6301818\ttotal: 1.74s\tremaining: 1.28s\n",
      "576:\tlearn: 4.6247800\ttotal: 1.75s\tremaining: 1.28s\n",
      "577:\tlearn: 4.6212765\ttotal: 1.75s\tremaining: 1.28s\n",
      "578:\tlearn: 4.6170468\ttotal: 1.75s\tremaining: 1.27s\n",
      "579:\tlearn: 4.6155121\ttotal: 1.75s\tremaining: 1.27s\n",
      "580:\tlearn: 4.6106540\ttotal: 1.76s\tremaining: 1.27s\n",
      "581:\tlearn: 4.6053681\ttotal: 1.76s\tremaining: 1.26s\n",
      "582:\tlearn: 4.6021314\ttotal: 1.76s\tremaining: 1.26s\n",
      "583:\tlearn: 4.5991161\ttotal: 1.77s\tremaining: 1.26s\n",
      "584:\tlearn: 4.5957591\ttotal: 1.77s\tremaining: 1.26s\n",
      "585:\tlearn: 4.5917117\ttotal: 1.77s\tremaining: 1.25s\n",
      "586:\tlearn: 4.5873606\ttotal: 1.78s\tremaining: 1.25s\n",
      "587:\tlearn: 4.5810873\ttotal: 1.78s\tremaining: 1.25s\n",
      "588:\tlearn: 4.5776825\ttotal: 1.78s\tremaining: 1.24s\n",
      "589:\tlearn: 4.5752300\ttotal: 1.79s\tremaining: 1.24s\n",
      "590:\tlearn: 4.5745340\ttotal: 1.79s\tremaining: 1.24s\n",
      "591:\tlearn: 4.5683890\ttotal: 1.79s\tremaining: 1.24s\n",
      "592:\tlearn: 4.5652298\ttotal: 1.79s\tremaining: 1.23s\n",
      "593:\tlearn: 4.5608417\ttotal: 1.8s\tremaining: 1.23s\n",
      "594:\tlearn: 4.5603256\ttotal: 1.8s\tremaining: 1.23s\n",
      "595:\tlearn: 4.5536876\ttotal: 1.8s\tremaining: 1.22s\n",
      "596:\tlearn: 4.5499066\ttotal: 1.81s\tremaining: 1.22s\n",
      "597:\tlearn: 4.5418736\ttotal: 1.81s\tremaining: 1.22s\n",
      "598:\tlearn: 4.5412240\ttotal: 1.81s\tremaining: 1.21s\n",
      "599:\tlearn: 4.5398391\ttotal: 1.82s\tremaining: 1.21s\n",
      "600:\tlearn: 4.5344317\ttotal: 1.82s\tremaining: 1.21s\n",
      "601:\tlearn: 4.5310521\ttotal: 1.82s\tremaining: 1.2s\n",
      "602:\tlearn: 4.5303475\ttotal: 1.82s\tremaining: 1.2s\n",
      "603:\tlearn: 4.5293336\ttotal: 1.83s\tremaining: 1.2s\n",
      "604:\tlearn: 4.5256907\ttotal: 1.83s\tremaining: 1.2s\n",
      "605:\tlearn: 4.5241207\ttotal: 1.83s\tremaining: 1.19s\n",
      "606:\tlearn: 4.5211010\ttotal: 1.84s\tremaining: 1.19s\n",
      "607:\tlearn: 4.5177415\ttotal: 1.84s\tremaining: 1.19s\n",
      "608:\tlearn: 4.5139084\ttotal: 1.84s\tremaining: 1.18s\n",
      "609:\tlearn: 4.5092642\ttotal: 1.85s\tremaining: 1.18s\n",
      "610:\tlearn: 4.5049414\ttotal: 1.85s\tremaining: 1.18s\n",
      "611:\tlearn: 4.5007678\ttotal: 1.85s\tremaining: 1.18s\n",
      "612:\tlearn: 4.4961367\ttotal: 1.86s\tremaining: 1.17s\n",
      "613:\tlearn: 4.4955291\ttotal: 1.86s\tremaining: 1.17s\n",
      "614:\tlearn: 4.4932120\ttotal: 1.86s\tremaining: 1.17s\n",
      "615:\tlearn: 4.4891259\ttotal: 1.86s\tremaining: 1.16s\n",
      "616:\tlearn: 4.4863607\ttotal: 1.87s\tremaining: 1.16s\n",
      "617:\tlearn: 4.4825740\ttotal: 1.87s\tremaining: 1.16s\n",
      "618:\tlearn: 4.4804560\ttotal: 1.87s\tremaining: 1.15s\n",
      "619:\tlearn: 4.4751092\ttotal: 1.88s\tremaining: 1.15s\n",
      "620:\tlearn: 4.4710642\ttotal: 1.88s\tremaining: 1.15s\n",
      "621:\tlearn: 4.4700130\ttotal: 1.88s\tremaining: 1.14s\n",
      "622:\tlearn: 4.4654076\ttotal: 1.88s\tremaining: 1.14s\n",
      "623:\tlearn: 4.4593342\ttotal: 1.89s\tremaining: 1.14s\n",
      "624:\tlearn: 4.4569568\ttotal: 1.89s\tremaining: 1.13s\n",
      "625:\tlearn: 4.4563358\ttotal: 1.89s\tremaining: 1.13s\n",
      "626:\tlearn: 4.4556089\ttotal: 1.9s\tremaining: 1.13s\n",
      "627:\tlearn: 4.4534792\ttotal: 1.9s\tremaining: 1.13s\n",
      "628:\tlearn: 4.4496753\ttotal: 1.9s\tremaining: 1.12s\n",
      "629:\tlearn: 4.4457959\ttotal: 1.91s\tremaining: 1.12s\n",
      "630:\tlearn: 4.4431763\ttotal: 1.91s\tremaining: 1.11s\n",
      "631:\tlearn: 4.4416399\ttotal: 1.91s\tremaining: 1.11s\n",
      "632:\tlearn: 4.4406129\ttotal: 1.91s\tremaining: 1.11s\n",
      "633:\tlearn: 4.4359833\ttotal: 1.92s\tremaining: 1.11s\n",
      "634:\tlearn: 4.4310572\ttotal: 1.92s\tremaining: 1.1s\n",
      "635:\tlearn: 4.4288988\ttotal: 1.92s\tremaining: 1.1s\n",
      "636:\tlearn: 4.4229835\ttotal: 1.93s\tremaining: 1.1s\n",
      "637:\tlearn: 4.4209772\ttotal: 1.93s\tremaining: 1.09s\n",
      "638:\tlearn: 4.4139759\ttotal: 1.93s\tremaining: 1.09s\n",
      "639:\tlearn: 4.4128967\ttotal: 1.93s\tremaining: 1.09s\n",
      "640:\tlearn: 4.4086708\ttotal: 1.94s\tremaining: 1.08s\n",
      "641:\tlearn: 4.4070691\ttotal: 1.94s\tremaining: 1.08s\n",
      "642:\tlearn: 4.4012316\ttotal: 1.94s\tremaining: 1.08s\n",
      "643:\tlearn: 4.4008079\ttotal: 1.95s\tremaining: 1.07s\n",
      "644:\tlearn: 4.3972852\ttotal: 1.95s\tremaining: 1.07s\n",
      "645:\tlearn: 4.3913872\ttotal: 1.95s\tremaining: 1.07s\n",
      "646:\tlearn: 4.3854022\ttotal: 1.96s\tremaining: 1.07s\n",
      "647:\tlearn: 4.3800965\ttotal: 1.96s\tremaining: 1.06s\n",
      "648:\tlearn: 4.3772883\ttotal: 1.96s\tremaining: 1.06s\n",
      "649:\tlearn: 4.3751381\ttotal: 1.96s\tremaining: 1.06s\n",
      "650:\tlearn: 4.3704893\ttotal: 1.97s\tremaining: 1.05s\n",
      "651:\tlearn: 4.3659603\ttotal: 1.97s\tremaining: 1.05s\n",
      "652:\tlearn: 4.3599724\ttotal: 1.97s\tremaining: 1.05s\n",
      "653:\tlearn: 4.3548644\ttotal: 1.98s\tremaining: 1.04s\n",
      "654:\tlearn: 4.3524927\ttotal: 1.98s\tremaining: 1.04s\n",
      "655:\tlearn: 4.3507336\ttotal: 1.98s\tremaining: 1.04s\n",
      "656:\tlearn: 4.3493699\ttotal: 1.98s\tremaining: 1.03s\n",
      "657:\tlearn: 4.3451097\ttotal: 1.99s\tremaining: 1.03s\n",
      "658:\tlearn: 4.3427462\ttotal: 1.99s\tremaining: 1.03s\n",
      "659:\tlearn: 4.3373345\ttotal: 1.99s\tremaining: 1.03s\n",
      "660:\tlearn: 4.3363440\ttotal: 1.99s\tremaining: 1.02s\n",
      "661:\tlearn: 4.3321246\ttotal: 2s\tremaining: 1.02s\n",
      "662:\tlearn: 4.3291671\ttotal: 2s\tremaining: 1.02s\n",
      "663:\tlearn: 4.3266000\ttotal: 2s\tremaining: 1.01s\n",
      "664:\tlearn: 4.3262107\ttotal: 2.01s\tremaining: 1.01s\n",
      "665:\tlearn: 4.3238984\ttotal: 2.01s\tremaining: 1.01s\n",
      "666:\tlearn: 4.3187343\ttotal: 2.01s\tremaining: 1s\n",
      "667:\tlearn: 4.3150653\ttotal: 2.02s\tremaining: 1s\n",
      "668:\tlearn: 4.3117941\ttotal: 2.02s\tremaining: 999ms\n",
      "669:\tlearn: 4.3059388\ttotal: 2.02s\tremaining: 996ms\n",
      "670:\tlearn: 4.3025236\ttotal: 2.02s\tremaining: 992ms\n",
      "671:\tlearn: 4.3019681\ttotal: 2.03s\tremaining: 989ms\n",
      "672:\tlearn: 4.2989158\ttotal: 2.03s\tremaining: 986ms\n",
      "673:\tlearn: 4.2968191\ttotal: 2.03s\tremaining: 983ms\n",
      "674:\tlearn: 4.2935458\ttotal: 2.04s\tremaining: 980ms\n",
      "675:\tlearn: 4.2882530\ttotal: 2.04s\tremaining: 977ms\n",
      "676:\tlearn: 4.2855293\ttotal: 2.04s\tremaining: 974ms\n",
      "677:\tlearn: 4.2840428\ttotal: 2.04s\tremaining: 970ms\n",
      "678:\tlearn: 4.2830594\ttotal: 2.05s\tremaining: 967ms\n",
      "679:\tlearn: 4.2786686\ttotal: 2.05s\tremaining: 964ms\n",
      "680:\tlearn: 4.2710536\ttotal: 2.05s\tremaining: 961ms\n",
      "681:\tlearn: 4.2679071\ttotal: 2.05s\tremaining: 958ms\n",
      "682:\tlearn: 4.2647793\ttotal: 2.06s\tremaining: 955ms\n",
      "683:\tlearn: 4.2621572\ttotal: 2.06s\tremaining: 952ms\n",
      "684:\tlearn: 4.2582364\ttotal: 2.06s\tremaining: 949ms\n",
      "685:\tlearn: 4.2555602\ttotal: 2.07s\tremaining: 946ms\n",
      "686:\tlearn: 4.2545017\ttotal: 2.07s\tremaining: 943ms\n",
      "687:\tlearn: 4.2536457\ttotal: 2.07s\tremaining: 940ms\n",
      "688:\tlearn: 4.2502445\ttotal: 2.07s\tremaining: 937ms\n",
      "689:\tlearn: 4.2462196\ttotal: 2.08s\tremaining: 934ms\n",
      "690:\tlearn: 4.2433780\ttotal: 2.08s\tremaining: 931ms\n",
      "691:\tlearn: 4.2402028\ttotal: 2.08s\tremaining: 928ms\n",
      "692:\tlearn: 4.2369644\ttotal: 2.09s\tremaining: 924ms\n",
      "693:\tlearn: 4.2361886\ttotal: 2.09s\tremaining: 921ms\n",
      "694:\tlearn: 4.2333231\ttotal: 2.09s\tremaining: 918ms\n",
      "695:\tlearn: 4.2294706\ttotal: 2.1s\tremaining: 915ms\n",
      "696:\tlearn: 4.2259721\ttotal: 2.1s\tremaining: 912ms\n",
      "697:\tlearn: 4.2236820\ttotal: 2.1s\tremaining: 909ms\n",
      "698:\tlearn: 4.2233809\ttotal: 2.1s\tremaining: 906ms\n",
      "699:\tlearn: 4.2228728\ttotal: 2.11s\tremaining: 903ms\n",
      "700:\tlearn: 4.2219280\ttotal: 2.11s\tremaining: 900ms\n",
      "701:\tlearn: 4.2188749\ttotal: 2.11s\tremaining: 897ms\n",
      "702:\tlearn: 4.2136438\ttotal: 2.12s\tremaining: 894ms\n",
      "703:\tlearn: 4.2071421\ttotal: 2.12s\tremaining: 891ms\n",
      "704:\tlearn: 4.2030953\ttotal: 2.12s\tremaining: 888ms\n",
      "705:\tlearn: 4.2008356\ttotal: 2.12s\tremaining: 885ms\n",
      "706:\tlearn: 4.1960539\ttotal: 2.13s\tremaining: 882ms\n",
      "707:\tlearn: 4.1938483\ttotal: 2.13s\tremaining: 878ms\n",
      "708:\tlearn: 4.1887831\ttotal: 2.13s\tremaining: 875ms\n",
      "709:\tlearn: 4.1850365\ttotal: 2.13s\tremaining: 872ms\n",
      "710:\tlearn: 4.1802562\ttotal: 2.14s\tremaining: 869ms\n",
      "711:\tlearn: 4.1799713\ttotal: 2.14s\tremaining: 866ms\n",
      "712:\tlearn: 4.1765638\ttotal: 2.14s\tremaining: 863ms\n",
      "713:\tlearn: 4.1749650\ttotal: 2.15s\tremaining: 860ms\n",
      "714:\tlearn: 4.1712076\ttotal: 2.15s\tremaining: 857ms\n",
      "715:\tlearn: 4.1670721\ttotal: 2.15s\tremaining: 854ms\n",
      "716:\tlearn: 4.1622069\ttotal: 2.16s\tremaining: 851ms\n",
      "717:\tlearn: 4.1598987\ttotal: 2.16s\tremaining: 848ms\n",
      "718:\tlearn: 4.1566976\ttotal: 2.16s\tremaining: 845ms\n",
      "719:\tlearn: 4.1525285\ttotal: 2.16s\tremaining: 842ms\n",
      "720:\tlearn: 4.1486609\ttotal: 2.17s\tremaining: 839ms\n",
      "721:\tlearn: 4.1460961\ttotal: 2.17s\tremaining: 835ms\n",
      "722:\tlearn: 4.1413155\ttotal: 2.17s\tremaining: 832ms\n",
      "723:\tlearn: 4.1388635\ttotal: 2.18s\tremaining: 830ms\n",
      "724:\tlearn: 4.1380018\ttotal: 2.18s\tremaining: 826ms\n",
      "725:\tlearn: 4.1361931\ttotal: 2.18s\tremaining: 823ms\n",
      "726:\tlearn: 4.1338381\ttotal: 2.18s\tremaining: 820ms\n",
      "727:\tlearn: 4.1282538\ttotal: 2.19s\tremaining: 817ms\n",
      "728:\tlearn: 4.1257336\ttotal: 2.19s\tremaining: 814ms\n",
      "729:\tlearn: 4.1223544\ttotal: 2.19s\tremaining: 811ms\n",
      "730:\tlearn: 4.1204838\ttotal: 2.19s\tremaining: 808ms\n",
      "731:\tlearn: 4.1162474\ttotal: 2.2s\tremaining: 805ms\n",
      "732:\tlearn: 4.1135458\ttotal: 2.2s\tremaining: 802ms\n",
      "733:\tlearn: 4.1120464\ttotal: 2.2s\tremaining: 799ms\n",
      "734:\tlearn: 4.1052437\ttotal: 2.21s\tremaining: 796ms\n",
      "735:\tlearn: 4.1024052\ttotal: 2.21s\tremaining: 793ms\n",
      "736:\tlearn: 4.0989010\ttotal: 2.21s\tremaining: 789ms\n",
      "737:\tlearn: 4.0951754\ttotal: 2.21s\tremaining: 786ms\n",
      "738:\tlearn: 4.0949094\ttotal: 2.22s\tremaining: 783ms\n",
      "739:\tlearn: 4.0899260\ttotal: 2.22s\tremaining: 780ms\n",
      "740:\tlearn: 4.0835510\ttotal: 2.22s\tremaining: 777ms\n",
      "741:\tlearn: 4.0811193\ttotal: 2.23s\tremaining: 774ms\n",
      "742:\tlearn: 4.0771315\ttotal: 2.23s\tremaining: 771ms\n",
      "743:\tlearn: 4.0750610\ttotal: 2.23s\tremaining: 768ms\n",
      "744:\tlearn: 4.0696433\ttotal: 2.23s\tremaining: 765ms\n",
      "745:\tlearn: 4.0656125\ttotal: 2.24s\tremaining: 762ms\n",
      "746:\tlearn: 4.0633564\ttotal: 2.24s\tremaining: 759ms\n",
      "747:\tlearn: 4.0619438\ttotal: 2.24s\tremaining: 755ms\n",
      "748:\tlearn: 4.0613157\ttotal: 2.25s\tremaining: 752ms\n",
      "749:\tlearn: 4.0582727\ttotal: 2.25s\tremaining: 749ms\n",
      "750:\tlearn: 4.0567809\ttotal: 2.25s\tremaining: 746ms\n",
      "751:\tlearn: 4.0512870\ttotal: 2.25s\tremaining: 743ms\n",
      "752:\tlearn: 4.0490272\ttotal: 2.26s\tremaining: 740ms\n",
      "753:\tlearn: 4.0460065\ttotal: 2.26s\tremaining: 737ms\n",
      "754:\tlearn: 4.0426623\ttotal: 2.26s\tremaining: 734ms\n",
      "755:\tlearn: 4.0364399\ttotal: 2.27s\tremaining: 731ms\n",
      "756:\tlearn: 4.0333847\ttotal: 2.27s\tremaining: 728ms\n",
      "757:\tlearn: 4.0314850\ttotal: 2.27s\tremaining: 725ms\n",
      "758:\tlearn: 4.0300092\ttotal: 2.27s\tremaining: 722ms\n",
      "759:\tlearn: 4.0260404\ttotal: 2.28s\tremaining: 719ms\n",
      "760:\tlearn: 4.0228414\ttotal: 2.28s\tremaining: 716ms\n",
      "761:\tlearn: 4.0187591\ttotal: 2.28s\tremaining: 713ms\n",
      "762:\tlearn: 4.0162920\ttotal: 2.29s\tremaining: 710ms\n",
      "763:\tlearn: 4.0094110\ttotal: 2.29s\tremaining: 707ms\n",
      "764:\tlearn: 4.0064865\ttotal: 2.29s\tremaining: 704ms\n",
      "765:\tlearn: 4.0052013\ttotal: 2.29s\tremaining: 701ms\n",
      "766:\tlearn: 4.0030536\ttotal: 2.3s\tremaining: 698ms\n",
      "767:\tlearn: 4.0013623\ttotal: 2.3s\tremaining: 695ms\n",
      "768:\tlearn: 3.9991828\ttotal: 2.3s\tremaining: 692ms\n",
      "769:\tlearn: 3.9951449\ttotal: 2.31s\tremaining: 689ms\n",
      "770:\tlearn: 3.9908628\ttotal: 2.31s\tremaining: 686ms\n",
      "771:\tlearn: 3.9880388\ttotal: 2.31s\tremaining: 683ms\n",
      "772:\tlearn: 3.9829547\ttotal: 2.31s\tremaining: 680ms\n",
      "773:\tlearn: 3.9811056\ttotal: 2.32s\tremaining: 677ms\n",
      "774:\tlearn: 3.9784010\ttotal: 2.32s\tremaining: 675ms\n",
      "775:\tlearn: 3.9754342\ttotal: 2.33s\tremaining: 672ms\n",
      "776:\tlearn: 3.9712631\ttotal: 2.33s\tremaining: 669ms\n",
      "777:\tlearn: 3.9688847\ttotal: 2.33s\tremaining: 666ms\n",
      "778:\tlearn: 3.9634435\ttotal: 2.34s\tremaining: 663ms\n",
      "779:\tlearn: 3.9601441\ttotal: 2.34s\tremaining: 660ms\n",
      "780:\tlearn: 3.9578777\ttotal: 2.34s\tremaining: 657ms\n",
      "781:\tlearn: 3.9522944\ttotal: 2.35s\tremaining: 654ms\n",
      "782:\tlearn: 3.9499413\ttotal: 2.35s\tremaining: 651ms\n",
      "783:\tlearn: 3.9445708\ttotal: 2.35s\tremaining: 648ms\n",
      "784:\tlearn: 3.9406869\ttotal: 2.35s\tremaining: 645ms\n",
      "785:\tlearn: 3.9389725\ttotal: 2.36s\tremaining: 642ms\n",
      "786:\tlearn: 3.9366340\ttotal: 2.36s\tremaining: 639ms\n",
      "787:\tlearn: 3.9309277\ttotal: 2.36s\tremaining: 636ms\n",
      "788:\tlearn: 3.9284517\ttotal: 2.37s\tremaining: 633ms\n",
      "789:\tlearn: 3.9246887\ttotal: 2.37s\tremaining: 630ms\n",
      "790:\tlearn: 3.9214765\ttotal: 2.37s\tremaining: 627ms\n",
      "791:\tlearn: 3.9179136\ttotal: 2.37s\tremaining: 624ms\n",
      "792:\tlearn: 3.9152458\ttotal: 2.38s\tremaining: 621ms\n",
      "793:\tlearn: 3.9147208\ttotal: 2.38s\tremaining: 618ms\n",
      "794:\tlearn: 3.9143527\ttotal: 2.38s\tremaining: 614ms\n",
      "795:\tlearn: 3.9103114\ttotal: 2.39s\tremaining: 611ms\n",
      "796:\tlearn: 3.9101174\ttotal: 2.39s\tremaining: 608ms\n",
      "797:\tlearn: 3.9079382\ttotal: 2.39s\tremaining: 605ms\n",
      "798:\tlearn: 3.9068074\ttotal: 2.39s\tremaining: 602ms\n",
      "799:\tlearn: 3.9021624\ttotal: 2.4s\tremaining: 599ms\n",
      "800:\tlearn: 3.8993394\ttotal: 2.4s\tremaining: 596ms\n",
      "801:\tlearn: 3.8962352\ttotal: 2.4s\tremaining: 593ms\n",
      "802:\tlearn: 3.8951350\ttotal: 2.41s\tremaining: 590ms\n",
      "803:\tlearn: 3.8922400\ttotal: 2.41s\tremaining: 587ms\n",
      "804:\tlearn: 3.8842817\ttotal: 2.41s\tremaining: 584ms\n",
      "805:\tlearn: 3.8823041\ttotal: 2.42s\tremaining: 581ms\n",
      "806:\tlearn: 3.8813916\ttotal: 2.42s\tremaining: 578ms\n",
      "807:\tlearn: 3.8800102\ttotal: 2.42s\tremaining: 575ms\n",
      "808:\tlearn: 3.8765800\ttotal: 2.42s\tremaining: 572ms\n",
      "809:\tlearn: 3.8714377\ttotal: 2.43s\tremaining: 569ms\n",
      "810:\tlearn: 3.8685411\ttotal: 2.43s\tremaining: 566ms\n",
      "811:\tlearn: 3.8642601\ttotal: 2.43s\tremaining: 563ms\n",
      "812:\tlearn: 3.8602239\ttotal: 2.43s\tremaining: 560ms\n",
      "813:\tlearn: 3.8568799\ttotal: 2.44s\tremaining: 557ms\n",
      "814:\tlearn: 3.8559953\ttotal: 2.44s\tremaining: 554ms\n",
      "815:\tlearn: 3.8545949\ttotal: 2.44s\tremaining: 551ms\n",
      "816:\tlearn: 3.8505068\ttotal: 2.44s\tremaining: 548ms\n",
      "817:\tlearn: 3.8483259\ttotal: 2.45s\tremaining: 545ms\n",
      "818:\tlearn: 3.8449357\ttotal: 2.45s\tremaining: 542ms\n",
      "819:\tlearn: 3.8432061\ttotal: 2.45s\tremaining: 539ms\n",
      "820:\tlearn: 3.8418107\ttotal: 2.46s\tremaining: 536ms\n",
      "821:\tlearn: 3.8386657\ttotal: 2.46s\tremaining: 533ms\n",
      "822:\tlearn: 3.8360444\ttotal: 2.46s\tremaining: 530ms\n",
      "823:\tlearn: 3.8322256\ttotal: 2.47s\tremaining: 527ms\n",
      "824:\tlearn: 3.8299048\ttotal: 2.47s\tremaining: 524ms\n",
      "825:\tlearn: 3.8256398\ttotal: 2.47s\tremaining: 521ms\n",
      "826:\tlearn: 3.8230444\ttotal: 2.47s\tremaining: 518ms\n",
      "827:\tlearn: 3.8210051\ttotal: 2.48s\tremaining: 515ms\n",
      "828:\tlearn: 3.8193216\ttotal: 2.48s\tremaining: 512ms\n",
      "829:\tlearn: 3.8167131\ttotal: 2.48s\tremaining: 509ms\n",
      "830:\tlearn: 3.8150027\ttotal: 2.48s\tremaining: 506ms\n",
      "831:\tlearn: 3.8131763\ttotal: 2.49s\tremaining: 502ms\n",
      "832:\tlearn: 3.8106107\ttotal: 2.49s\tremaining: 499ms\n",
      "833:\tlearn: 3.8067692\ttotal: 2.49s\tremaining: 496ms\n",
      "834:\tlearn: 3.8047044\ttotal: 2.5s\tremaining: 493ms\n",
      "835:\tlearn: 3.8026176\ttotal: 2.5s\tremaining: 490ms\n",
      "836:\tlearn: 3.7980057\ttotal: 2.5s\tremaining: 487ms\n",
      "837:\tlearn: 3.7934423\ttotal: 2.5s\tremaining: 484ms\n",
      "838:\tlearn: 3.7931324\ttotal: 2.51s\tremaining: 481ms\n",
      "839:\tlearn: 3.7913171\ttotal: 2.51s\tremaining: 478ms\n",
      "840:\tlearn: 3.7869892\ttotal: 2.51s\tremaining: 475ms\n",
      "841:\tlearn: 3.7854428\ttotal: 2.52s\tremaining: 472ms\n",
      "842:\tlearn: 3.7843538\ttotal: 2.52s\tremaining: 469ms\n",
      "843:\tlearn: 3.7815885\ttotal: 2.52s\tremaining: 466ms\n",
      "844:\tlearn: 3.7768727\ttotal: 2.52s\tremaining: 463ms\n",
      "845:\tlearn: 3.7755190\ttotal: 2.53s\tremaining: 460ms\n",
      "846:\tlearn: 3.7738621\ttotal: 2.53s\tremaining: 457ms\n",
      "847:\tlearn: 3.7722227\ttotal: 2.53s\tremaining: 454ms\n",
      "848:\tlearn: 3.7692241\ttotal: 2.54s\tremaining: 451ms\n",
      "849:\tlearn: 3.7681684\ttotal: 2.54s\tremaining: 448ms\n",
      "850:\tlearn: 3.7654324\ttotal: 2.54s\tremaining: 445ms\n",
      "851:\tlearn: 3.7612087\ttotal: 2.55s\tremaining: 442ms\n",
      "852:\tlearn: 3.7594490\ttotal: 2.55s\tremaining: 440ms\n",
      "853:\tlearn: 3.7589831\ttotal: 2.55s\tremaining: 437ms\n",
      "854:\tlearn: 3.7572507\ttotal: 2.56s\tremaining: 434ms\n",
      "855:\tlearn: 3.7559251\ttotal: 2.56s\tremaining: 431ms\n",
      "856:\tlearn: 3.7525518\ttotal: 2.56s\tremaining: 428ms\n",
      "857:\tlearn: 3.7513588\ttotal: 2.57s\tremaining: 425ms\n",
      "858:\tlearn: 3.7487511\ttotal: 2.57s\tremaining: 422ms\n",
      "859:\tlearn: 3.7451127\ttotal: 2.57s\tremaining: 419ms\n",
      "860:\tlearn: 3.7449123\ttotal: 2.58s\tremaining: 416ms\n",
      "861:\tlearn: 3.7434703\ttotal: 2.58s\tremaining: 413ms\n",
      "862:\tlearn: 3.7416635\ttotal: 2.58s\tremaining: 410ms\n",
      "863:\tlearn: 3.7361152\ttotal: 2.58s\tremaining: 407ms\n",
      "864:\tlearn: 3.7315762\ttotal: 2.59s\tremaining: 404ms\n",
      "865:\tlearn: 3.7291765\ttotal: 2.59s\tremaining: 401ms\n",
      "866:\tlearn: 3.7285050\ttotal: 2.59s\tremaining: 398ms\n",
      "867:\tlearn: 3.7238389\ttotal: 2.6s\tremaining: 395ms\n",
      "868:\tlearn: 3.7210971\ttotal: 2.6s\tremaining: 392ms\n",
      "869:\tlearn: 3.7208874\ttotal: 2.6s\tremaining: 389ms\n",
      "870:\tlearn: 3.7178370\ttotal: 2.6s\tremaining: 386ms\n",
      "871:\tlearn: 3.7175054\ttotal: 2.61s\tremaining: 383ms\n",
      "872:\tlearn: 3.7170802\ttotal: 2.61s\tremaining: 380ms\n",
      "873:\tlearn: 3.7126137\ttotal: 2.61s\tremaining: 377ms\n",
      "874:\tlearn: 3.7106282\ttotal: 2.61s\tremaining: 374ms\n",
      "875:\tlearn: 3.7081020\ttotal: 2.62s\tremaining: 371ms\n",
      "876:\tlearn: 3.7074665\ttotal: 2.62s\tremaining: 368ms\n",
      "877:\tlearn: 3.7072453\ttotal: 2.62s\tremaining: 365ms\n",
      "878:\tlearn: 3.7037704\ttotal: 2.63s\tremaining: 362ms\n",
      "879:\tlearn: 3.7022041\ttotal: 2.63s\tremaining: 359ms\n",
      "880:\tlearn: 3.6999641\ttotal: 2.63s\tremaining: 355ms\n",
      "881:\tlearn: 3.6931891\ttotal: 2.63s\tremaining: 352ms\n",
      "882:\tlearn: 3.6907925\ttotal: 2.64s\tremaining: 349ms\n",
      "883:\tlearn: 3.6881255\ttotal: 2.64s\tremaining: 346ms\n",
      "884:\tlearn: 3.6846610\ttotal: 2.64s\tremaining: 343ms\n",
      "885:\tlearn: 3.6817873\ttotal: 2.65s\tremaining: 340ms\n",
      "886:\tlearn: 3.6781302\ttotal: 2.65s\tremaining: 337ms\n",
      "887:\tlearn: 3.6738204\ttotal: 2.65s\tremaining: 334ms\n",
      "888:\tlearn: 3.6707552\ttotal: 2.65s\tremaining: 331ms\n",
      "889:\tlearn: 3.6684176\ttotal: 2.66s\tremaining: 328ms\n",
      "890:\tlearn: 3.6669669\ttotal: 2.66s\tremaining: 325ms\n",
      "891:\tlearn: 3.6640637\ttotal: 2.66s\tremaining: 322ms\n",
      "892:\tlearn: 3.6627987\ttotal: 2.67s\tremaining: 319ms\n",
      "893:\tlearn: 3.6594033\ttotal: 2.67s\tremaining: 316ms\n",
      "894:\tlearn: 3.6553032\ttotal: 2.67s\tremaining: 313ms\n",
      "895:\tlearn: 3.6525709\ttotal: 2.68s\tremaining: 311ms\n",
      "896:\tlearn: 3.6515298\ttotal: 2.68s\tremaining: 308ms\n",
      "897:\tlearn: 3.6492686\ttotal: 2.68s\tremaining: 305ms\n",
      "898:\tlearn: 3.6463878\ttotal: 2.69s\tremaining: 302ms\n",
      "899:\tlearn: 3.6427988\ttotal: 2.69s\tremaining: 299ms\n",
      "900:\tlearn: 3.6387672\ttotal: 2.69s\tremaining: 296ms\n",
      "901:\tlearn: 3.6380775\ttotal: 2.69s\tremaining: 293ms\n",
      "902:\tlearn: 3.6354794\ttotal: 2.7s\tremaining: 290ms\n",
      "903:\tlearn: 3.6342870\ttotal: 2.7s\tremaining: 287ms\n",
      "904:\tlearn: 3.6309888\ttotal: 2.7s\tremaining: 284ms\n",
      "905:\tlearn: 3.6284995\ttotal: 2.71s\tremaining: 281ms\n",
      "906:\tlearn: 3.6255683\ttotal: 2.71s\tremaining: 278ms\n",
      "907:\tlearn: 3.6254055\ttotal: 2.71s\tremaining: 275ms\n",
      "908:\tlearn: 3.6229868\ttotal: 2.71s\tremaining: 272ms\n",
      "909:\tlearn: 3.6205358\ttotal: 2.72s\tremaining: 269ms\n",
      "910:\tlearn: 3.6183190\ttotal: 2.72s\tremaining: 266ms\n",
      "911:\tlearn: 3.6142096\ttotal: 2.72s\tremaining: 263ms\n",
      "912:\tlearn: 3.6097751\ttotal: 2.73s\tremaining: 260ms\n",
      "913:\tlearn: 3.6031577\ttotal: 2.73s\tremaining: 257ms\n",
      "914:\tlearn: 3.5990651\ttotal: 2.73s\tremaining: 254ms\n",
      "915:\tlearn: 3.5982795\ttotal: 2.73s\tremaining: 251ms\n",
      "916:\tlearn: 3.5960369\ttotal: 2.74s\tremaining: 248ms\n",
      "917:\tlearn: 3.5938240\ttotal: 2.74s\tremaining: 245ms\n",
      "918:\tlearn: 3.5911533\ttotal: 2.74s\tremaining: 242ms\n",
      "919:\tlearn: 3.5890303\ttotal: 2.75s\tremaining: 239ms\n",
      "920:\tlearn: 3.5860621\ttotal: 2.75s\tremaining: 236ms\n",
      "921:\tlearn: 3.5822160\ttotal: 2.75s\tremaining: 233ms\n",
      "922:\tlearn: 3.5814868\ttotal: 2.75s\tremaining: 230ms\n",
      "923:\tlearn: 3.5783322\ttotal: 2.76s\tremaining: 227ms\n",
      "924:\tlearn: 3.5759542\ttotal: 2.76s\tremaining: 224ms\n",
      "925:\tlearn: 3.5735053\ttotal: 2.76s\tremaining: 221ms\n",
      "926:\tlearn: 3.5719044\ttotal: 2.77s\tremaining: 218ms\n",
      "927:\tlearn: 3.5696754\ttotal: 2.77s\tremaining: 215ms\n",
      "928:\tlearn: 3.5663385\ttotal: 2.77s\tremaining: 212ms\n",
      "929:\tlearn: 3.5636478\ttotal: 2.78s\tremaining: 209ms\n",
      "930:\tlearn: 3.5632817\ttotal: 2.78s\tremaining: 206ms\n",
      "931:\tlearn: 3.5612732\ttotal: 2.78s\tremaining: 203ms\n",
      "932:\tlearn: 3.5575770\ttotal: 2.79s\tremaining: 200ms\n",
      "933:\tlearn: 3.5537988\ttotal: 2.79s\tremaining: 197ms\n",
      "934:\tlearn: 3.5516691\ttotal: 2.79s\tremaining: 194ms\n",
      "935:\tlearn: 3.5484323\ttotal: 2.79s\tremaining: 191ms\n",
      "936:\tlearn: 3.5447361\ttotal: 2.8s\tremaining: 188ms\n",
      "937:\tlearn: 3.5412971\ttotal: 2.8s\tremaining: 185ms\n",
      "938:\tlearn: 3.5362738\ttotal: 2.8s\tremaining: 182ms\n",
      "939:\tlearn: 3.5340535\ttotal: 2.81s\tremaining: 179ms\n",
      "940:\tlearn: 3.5320029\ttotal: 2.81s\tremaining: 176ms\n",
      "941:\tlearn: 3.5305332\ttotal: 2.81s\tremaining: 173ms\n",
      "942:\tlearn: 3.5301094\ttotal: 2.82s\tremaining: 170ms\n",
      "943:\tlearn: 3.5259381\ttotal: 2.82s\tremaining: 167ms\n",
      "944:\tlearn: 3.5240300\ttotal: 2.82s\tremaining: 164ms\n",
      "945:\tlearn: 3.5230964\ttotal: 2.83s\tremaining: 161ms\n",
      "946:\tlearn: 3.5216467\ttotal: 2.83s\tremaining: 158ms\n",
      "947:\tlearn: 3.5189717\ttotal: 2.83s\tremaining: 155ms\n",
      "948:\tlearn: 3.5165195\ttotal: 2.83s\tremaining: 152ms\n",
      "949:\tlearn: 3.5140286\ttotal: 2.84s\tremaining: 149ms\n",
      "950:\tlearn: 3.5101187\ttotal: 2.84s\tremaining: 146ms\n",
      "951:\tlearn: 3.5098260\ttotal: 2.84s\tremaining: 143ms\n",
      "952:\tlearn: 3.5086426\ttotal: 2.85s\tremaining: 140ms\n",
      "953:\tlearn: 3.5080372\ttotal: 2.85s\tremaining: 137ms\n",
      "954:\tlearn: 3.5064707\ttotal: 2.85s\tremaining: 134ms\n",
      "955:\tlearn: 3.5039719\ttotal: 2.85s\tremaining: 131ms\n",
      "956:\tlearn: 3.5010187\ttotal: 2.86s\tremaining: 128ms\n",
      "957:\tlearn: 3.4978950\ttotal: 2.86s\tremaining: 125ms\n",
      "958:\tlearn: 3.4965392\ttotal: 2.87s\tremaining: 122ms\n",
      "959:\tlearn: 3.4948022\ttotal: 2.87s\tremaining: 120ms\n",
      "960:\tlearn: 3.4919138\ttotal: 2.87s\tremaining: 117ms\n",
      "961:\tlearn: 3.4913366\ttotal: 2.87s\tremaining: 114ms\n",
      "962:\tlearn: 3.4884932\ttotal: 2.88s\tremaining: 111ms\n",
      "963:\tlearn: 3.4875610\ttotal: 2.88s\tremaining: 108ms\n",
      "964:\tlearn: 3.4860588\ttotal: 2.88s\tremaining: 105ms\n",
      "965:\tlearn: 3.4834933\ttotal: 2.89s\tremaining: 102ms\n",
      "966:\tlearn: 3.4830138\ttotal: 2.89s\tremaining: 98.6ms\n",
      "967:\tlearn: 3.4807127\ttotal: 2.89s\tremaining: 95.6ms\n",
      "968:\tlearn: 3.4801580\ttotal: 2.9s\tremaining: 92.6ms\n",
      "969:\tlearn: 3.4762309\ttotal: 2.9s\tremaining: 89.6ms\n",
      "970:\tlearn: 3.4743417\ttotal: 2.9s\tremaining: 86.6ms\n",
      "971:\tlearn: 3.4737650\ttotal: 2.9s\tremaining: 83.7ms\n",
      "972:\tlearn: 3.4702731\ttotal: 2.91s\tremaining: 80.7ms\n",
      "973:\tlearn: 3.4681987\ttotal: 2.91s\tremaining: 77.7ms\n",
      "974:\tlearn: 3.4650943\ttotal: 2.91s\tremaining: 74.7ms\n",
      "975:\tlearn: 3.4643012\ttotal: 2.92s\tremaining: 71.7ms\n",
      "976:\tlearn: 3.4624951\ttotal: 2.92s\tremaining: 68.7ms\n",
      "977:\tlearn: 3.4612984\ttotal: 2.92s\tremaining: 65.7ms\n",
      "978:\tlearn: 3.4591860\ttotal: 2.92s\tremaining: 62.7ms\n",
      "979:\tlearn: 3.4554057\ttotal: 2.93s\tremaining: 59.7ms\n",
      "980:\tlearn: 3.4538883\ttotal: 2.93s\tremaining: 56.7ms\n",
      "981:\tlearn: 3.4516598\ttotal: 2.93s\tremaining: 53.7ms\n",
      "982:\tlearn: 3.4509554\ttotal: 2.94s\tremaining: 50.8ms\n",
      "983:\tlearn: 3.4482347\ttotal: 2.94s\tremaining: 47.8ms\n",
      "984:\tlearn: 3.4467112\ttotal: 2.94s\tremaining: 44.8ms\n",
      "985:\tlearn: 3.4450891\ttotal: 2.94s\tremaining: 41.8ms\n",
      "986:\tlearn: 3.4437933\ttotal: 2.95s\tremaining: 38.8ms\n",
      "987:\tlearn: 3.4416381\ttotal: 2.95s\tremaining: 35.8ms\n",
      "988:\tlearn: 3.4396110\ttotal: 2.95s\tremaining: 32.8ms\n",
      "989:\tlearn: 3.4365468\ttotal: 2.96s\tremaining: 29.9ms\n",
      "990:\tlearn: 3.4350893\ttotal: 2.96s\tremaining: 26.9ms\n",
      "991:\tlearn: 3.4347910\ttotal: 2.96s\tremaining: 23.9ms\n",
      "992:\tlearn: 3.4306765\ttotal: 2.96s\tremaining: 20.9ms\n",
      "993:\tlearn: 3.4294332\ttotal: 2.97s\tremaining: 17.9ms\n",
      "994:\tlearn: 3.4251461\ttotal: 2.97s\tremaining: 14.9ms\n",
      "995:\tlearn: 3.4220268\ttotal: 2.97s\tremaining: 11.9ms\n",
      "996:\tlearn: 3.4201922\ttotal: 2.98s\tremaining: 8.95ms\n",
      "997:\tlearn: 3.4199053\ttotal: 2.98s\tremaining: 5.97ms\n",
      "998:\tlearn: 3.4184835\ttotal: 2.98s\tremaining: 2.98ms\n",
      "999:\tlearn: 3.4166967\ttotal: 2.98s\tremaining: 0us\n"
     ]
    }
   ],
   "source": [
    "model = CatBoostRegressor(random_state=665)\n",
    "model.fit(data_train_features, data_train_target)\n",
    "result_RFR = model.predict(data_valid_features)"
   ]
  },
  {
   "cell_type": "code",
   "execution_count": 33,
   "id": "b0996bfa",
   "metadata": {},
   "outputs": [
    {
     "data": {
      "text/plain": [
       "5.491454934638283"
      ]
     },
     "execution_count": 33,
     "metadata": {},
     "output_type": "execute_result"
    }
   ],
   "source": [
    "mean_absolute_error(data_valid_target, result_RFR)"
   ]
  },
  {
   "cell_type": "markdown",
   "id": "3d9f2938",
   "metadata": {},
   "source": [
    "Видим, что лучшие результаты показывает CatBoost. Отправляем модель на финальным этап."
   ]
  },
  {
   "cell_type": "markdown",
   "id": "1d106d19",
   "metadata": {},
   "source": [
    "Финальная проверка качества модели."
   ]
  },
  {
   "cell_type": "code",
   "execution_count": 34,
   "id": "83bac12e",
   "metadata": {},
   "outputs": [
    {
     "data": {
      "text/plain": [
       "5.8745989911086"
      ]
     },
     "execution_count": 34,
     "metadata": {},
     "output_type": "execute_result"
    }
   ],
   "source": [
    "result_RFR_test = model.predict(test_data_features)\n",
    "mean_absolute_error(test_data_target, result_RFR_test)"
   ]
  },
  {
   "cell_type": "markdown",
   "id": "98ed9a1c",
   "metadata": {},
   "source": [
    "Модель удовлетворяет нашим требованиям.\n",
    "\n",
    "В результате мы выявили, что уменьшение количества данных положительно влияет на модель и не все классические метрики (в разрезе мощности) применимы и положительно влияют на модель."
   ]
  },
  {
   "cell_type": "markdown",
   "id": "7b46c113",
   "metadata": {},
   "source": [
    "Использованные признаки:\n",
    "- Начальная температура.  Взяли начальную температуру\n",
    "\n",
    "- Последняя температура.  Взяли последнюю измеренную температуру\n",
    "- Активаня мощность.  Взяли активную мощность. \n",
    "- Реактивная мощность.  Взяли реактивную мощность\n",
    "- Количество нагреваний.  Посчитали количество итераций нагревания.\n",
    "- Bulk с разбивкой по итерациям.  Здесь мы взяли данные без группировок, так как группкировки типа суммирования показали себя хуже сырых данных.\n",
    "- Газ.  Взяли объём газа для продувки.\n",
    "- Wire с разбивкой по итерациям.  Здесь мы взяли данные без группировок, так как группкировки типа суммирования показали себя хуже сырых данных."
   ]
  },
  {
   "cell_type": "markdown",
   "id": "9b4e7702",
   "metadata": {},
   "source": [
    "**Ниже параметры нашей лучшей модели.**"
   ]
  },
  {
   "cell_type": "code",
   "execution_count": 35,
   "id": "284cbf16",
   "metadata": {},
   "outputs": [
    {
     "name": "stdout",
     "output_type": "stream",
     "text": [
      "{'nan_mode': 'Min', 'eval_metric': 'RMSE', 'iterations': 1000, 'sampling_frequency': 'PerTree', 'leaf_estimation_method': 'Newton', 'grow_policy': 'SymmetricTree', 'penalties_coefficient': 1, 'boosting_type': 'Plain', 'model_shrink_mode': 'Constant', 'feature_border_type': 'GreedyLogSum', 'bayesian_matrix_reg': 0.10000000149011612, 'force_unit_auto_pair_weights': False, 'l2_leaf_reg': 3, 'random_strength': 1, 'rsm': 1, 'boost_from_average': True, 'model_size_reg': 0.5, 'pool_metainfo_options': {'tags': {}}, 'subsample': 0.800000011920929, 'use_best_model': False, 'random_seed': 665, 'depth': 6, 'posterior_sampling': False, 'border_count': 254, 'classes_count': 0, 'auto_class_weights': 'None', 'sparse_features_conflict_fraction': 0, 'leaf_estimation_backtracking': 'AnyImprovement', 'best_model_min_trees': 1, 'model_shrink_rate': 0, 'min_data_in_leaf': 1, 'loss_function': 'RMSE', 'learning_rate': 0.043605998158454895, 'score_function': 'Cosine', 'task_type': 'CPU', 'leaf_estimation_iterations': 1, 'bootstrap_type': 'MVS', 'max_leaves': 64}\n"
     ]
    }
   ],
   "source": [
    "print(model.get_all_params())"
   ]
  }
 ],
 "metadata": {
  "ExecuteTimeLog": [
   {
    "duration": 73,
    "start_time": "2022-07-20T06:18:34.611Z"
   },
   {
    "duration": 78,
    "start_time": "2022-07-20T06:19:34.584Z"
   },
   {
    "duration": 2110,
    "start_time": "2022-07-24T06:55:29.413Z"
   },
   {
    "duration": 475,
    "start_time": "2022-07-24T06:55:31.526Z"
   },
   {
    "duration": 38,
    "start_time": "2022-07-24T06:55:32.002Z"
   },
   {
    "duration": 6,
    "start_time": "2022-07-24T06:55:32.042Z"
   },
   {
    "duration": 95,
    "start_time": "2022-07-24T06:55:32.050Z"
   },
   {
    "duration": 4,
    "start_time": "2022-07-24T06:55:32.147Z"
   },
   {
    "duration": 63,
    "start_time": "2022-07-24T06:55:32.153Z"
   },
   {
    "duration": 23,
    "start_time": "2022-07-24T06:55:32.218Z"
   },
   {
    "duration": 58,
    "start_time": "2022-07-24T06:55:32.243Z"
   },
   {
    "duration": 54,
    "start_time": "2022-07-24T06:55:32.303Z"
   },
   {
    "duration": 17,
    "start_time": "2022-07-24T06:55:32.359Z"
   },
   {
    "duration": 52,
    "start_time": "2022-07-24T06:55:32.379Z"
   },
   {
    "duration": 13,
    "start_time": "2022-07-24T06:55:32.433Z"
   },
   {
    "duration": 803,
    "start_time": "2022-07-24T06:55:32.447Z"
   },
   {
    "duration": 24,
    "start_time": "2022-07-24T06:55:33.251Z"
   },
   {
    "duration": 57,
    "start_time": "2022-07-24T06:55:33.278Z"
   },
   {
    "duration": 13,
    "start_time": "2022-07-24T06:55:33.337Z"
   },
   {
    "duration": 34,
    "start_time": "2022-07-24T06:55:33.351Z"
   },
   {
    "duration": 16,
    "start_time": "2022-07-24T06:55:33.386Z"
   },
   {
    "duration": 62,
    "start_time": "2022-07-24T06:55:33.403Z"
   },
   {
    "duration": 11,
    "start_time": "2022-07-24T06:55:33.469Z"
   },
   {
    "duration": 33,
    "start_time": "2022-07-24T06:55:36.506Z"
   },
   {
    "duration": 7,
    "start_time": "2022-07-24T06:55:54.817Z"
   },
   {
    "duration": 87,
    "start_time": "2022-07-24T06:56:21.821Z"
   },
   {
    "duration": 6,
    "start_time": "2022-07-24T06:56:37.617Z"
   },
   {
    "duration": 84,
    "start_time": "2022-07-24T06:56:45.509Z"
   },
   {
    "duration": 6,
    "start_time": "2022-07-24T06:57:18.093Z"
   },
   {
    "duration": 45,
    "start_time": "2022-07-24T06:57:30.689Z"
   },
   {
    "duration": 1569,
    "start_time": "2022-07-24T07:03:50.988Z"
   },
   {
    "duration": 190,
    "start_time": "2022-07-24T07:03:52.559Z"
   },
   {
    "duration": 49,
    "start_time": "2022-07-24T07:03:52.751Z"
   },
   {
    "duration": 4,
    "start_time": "2022-07-24T07:03:52.802Z"
   },
   {
    "duration": 90,
    "start_time": "2022-07-24T07:03:52.808Z"
   },
   {
    "duration": 3,
    "start_time": "2022-07-24T07:03:52.900Z"
   },
   {
    "duration": 34,
    "start_time": "2022-07-24T07:03:52.905Z"
   },
   {
    "duration": 53,
    "start_time": "2022-07-24T07:03:52.941Z"
   },
   {
    "duration": 27,
    "start_time": "2022-07-24T07:03:52.996Z"
   },
   {
    "duration": 80,
    "start_time": "2022-07-24T07:03:53.025Z"
   },
   {
    "duration": 4,
    "start_time": "2022-07-24T07:03:53.106Z"
   },
   {
    "duration": 64,
    "start_time": "2022-07-24T07:03:53.111Z"
   },
   {
    "duration": 12,
    "start_time": "2022-07-24T07:03:53.177Z"
   },
   {
    "duration": 848,
    "start_time": "2022-07-24T07:03:53.191Z"
   },
   {
    "duration": 12,
    "start_time": "2022-07-24T07:04:12.400Z"
   },
   {
    "duration": 15,
    "start_time": "2022-07-24T07:04:35.196Z"
   },
   {
    "duration": 1571,
    "start_time": "2022-07-24T07:29:49.316Z"
   },
   {
    "duration": 200,
    "start_time": "2022-07-24T07:29:50.888Z"
   },
   {
    "duration": 55,
    "start_time": "2022-07-24T07:29:51.089Z"
   },
   {
    "duration": 6,
    "start_time": "2022-07-24T07:29:51.146Z"
   },
   {
    "duration": 116,
    "start_time": "2022-07-24T07:29:51.153Z"
   },
   {
    "duration": 5,
    "start_time": "2022-07-24T07:29:51.271Z"
   },
   {
    "duration": 56,
    "start_time": "2022-07-24T07:29:51.278Z"
   },
   {
    "duration": 26,
    "start_time": "2022-07-24T07:29:51.336Z"
   },
   {
    "duration": 66,
    "start_time": "2022-07-24T07:29:51.364Z"
   },
   {
    "duration": 86,
    "start_time": "2022-07-24T07:29:51.433Z"
   },
   {
    "duration": 7,
    "start_time": "2022-07-24T07:29:51.522Z"
   },
   {
    "duration": 52,
    "start_time": "2022-07-24T07:29:51.531Z"
   },
   {
    "duration": 39,
    "start_time": "2022-07-24T07:29:51.585Z"
   },
   {
    "duration": 942,
    "start_time": "2022-07-24T07:29:51.626Z"
   },
   {
    "duration": 16,
    "start_time": "2022-07-24T07:29:52.570Z"
   },
   {
    "duration": 38,
    "start_time": "2022-07-24T07:29:52.587Z"
   },
   {
    "duration": 22,
    "start_time": "2022-07-24T07:29:52.627Z"
   },
   {
    "duration": 22,
    "start_time": "2022-07-24T07:29:52.651Z"
   },
   {
    "duration": 3,
    "start_time": "2022-07-24T07:29:52.674Z"
   },
   {
    "duration": 57,
    "start_time": "2022-07-24T07:29:52.679Z"
   },
   {
    "duration": 3,
    "start_time": "2022-07-24T07:29:52.738Z"
   },
   {
    "duration": 19,
    "start_time": "2022-07-24T07:29:52.742Z"
   },
   {
    "duration": 7,
    "start_time": "2022-07-24T07:29:52.763Z"
   },
   {
    "duration": 9,
    "start_time": "2022-07-24T07:29:52.771Z"
   },
   {
    "duration": 139,
    "start_time": "2022-07-24T07:29:52.781Z"
   },
   {
    "duration": 199,
    "start_time": "2022-07-24T07:29:52.922Z"
   },
   {
    "duration": 944,
    "start_time": "2022-07-24T07:29:53.123Z"
   },
   {
    "duration": 39440,
    "start_time": "2022-07-24T07:29:54.070Z"
   },
   {
    "duration": 4387,
    "start_time": "2022-07-24T07:30:33.512Z"
   },
   {
    "duration": 5,
    "start_time": "2022-07-24T07:30:37.900Z"
   },
   {
    "duration": 19,
    "start_time": "2022-07-24T07:30:37.906Z"
   },
   {
    "duration": 34,
    "start_time": "2022-07-24T07:32:39.968Z"
   },
   {
    "duration": 1561,
    "start_time": "2022-07-24T07:34:40.322Z"
   },
   {
    "duration": 215,
    "start_time": "2022-07-24T07:34:41.884Z"
   },
   {
    "duration": 48,
    "start_time": "2022-07-24T07:34:42.101Z"
   },
   {
    "duration": 5,
    "start_time": "2022-07-24T07:34:42.151Z"
   },
   {
    "duration": 98,
    "start_time": "2022-07-24T07:34:42.158Z"
   },
   {
    "duration": 3,
    "start_time": "2022-07-24T07:34:42.259Z"
   },
   {
    "duration": 55,
    "start_time": "2022-07-24T07:34:42.263Z"
   },
   {
    "duration": 29,
    "start_time": "2022-07-24T07:34:42.321Z"
   },
   {
    "duration": 30,
    "start_time": "2022-07-24T07:34:42.352Z"
   },
   {
    "duration": 59,
    "start_time": "2022-07-24T07:34:42.411Z"
   },
   {
    "duration": 3,
    "start_time": "2022-07-24T07:34:42.472Z"
   },
   {
    "duration": 70,
    "start_time": "2022-07-24T07:34:42.477Z"
   },
   {
    "duration": 10,
    "start_time": "2022-07-24T07:34:42.548Z"
   },
   {
    "duration": 816,
    "start_time": "2022-07-24T07:34:42.560Z"
   },
   {
    "duration": 15,
    "start_time": "2022-07-24T07:34:43.378Z"
   },
   {
    "duration": 30,
    "start_time": "2022-07-24T07:34:43.395Z"
   },
   {
    "duration": 27,
    "start_time": "2022-07-24T07:34:43.428Z"
   },
   {
    "duration": 7,
    "start_time": "2022-07-24T07:34:43.457Z"
   },
   {
    "duration": 15,
    "start_time": "2022-07-24T07:34:43.465Z"
   },
   {
    "duration": 4,
    "start_time": "2022-07-24T07:34:43.482Z"
   },
   {
    "duration": 63,
    "start_time": "2022-07-24T07:34:43.488Z"
   },
   {
    "duration": 0,
    "start_time": "2022-07-24T07:34:43.554Z"
   },
   {
    "duration": 0,
    "start_time": "2022-07-24T07:34:43.555Z"
   },
   {
    "duration": 0,
    "start_time": "2022-07-24T07:34:43.556Z"
   },
   {
    "duration": 0,
    "start_time": "2022-07-24T07:34:43.557Z"
   },
   {
    "duration": 0,
    "start_time": "2022-07-24T07:34:43.558Z"
   },
   {
    "duration": 0,
    "start_time": "2022-07-24T07:34:43.560Z"
   },
   {
    "duration": 0,
    "start_time": "2022-07-24T07:34:43.561Z"
   },
   {
    "duration": 0,
    "start_time": "2022-07-24T07:34:43.562Z"
   },
   {
    "duration": 0,
    "start_time": "2022-07-24T07:34:43.563Z"
   },
   {
    "duration": 0,
    "start_time": "2022-07-24T07:34:43.564Z"
   },
   {
    "duration": 0,
    "start_time": "2022-07-24T07:34:43.565Z"
   },
   {
    "duration": 1483,
    "start_time": "2022-07-24T07:37:16.766Z"
   },
   {
    "duration": 185,
    "start_time": "2022-07-24T07:37:18.251Z"
   },
   {
    "duration": 39,
    "start_time": "2022-07-24T07:37:18.438Z"
   },
   {
    "duration": 5,
    "start_time": "2022-07-24T07:37:18.480Z"
   },
   {
    "duration": 74,
    "start_time": "2022-07-24T07:37:18.486Z"
   },
   {
    "duration": 3,
    "start_time": "2022-07-24T07:37:18.562Z"
   },
   {
    "duration": 54,
    "start_time": "2022-07-24T07:37:18.567Z"
   },
   {
    "duration": 34,
    "start_time": "2022-07-24T07:37:18.623Z"
   },
   {
    "duration": 64,
    "start_time": "2022-07-24T07:37:18.659Z"
   },
   {
    "duration": 61,
    "start_time": "2022-07-24T07:37:18.726Z"
   },
   {
    "duration": 5,
    "start_time": "2022-07-24T07:37:18.810Z"
   },
   {
    "duration": 34,
    "start_time": "2022-07-24T07:37:18.818Z"
   },
   {
    "duration": 9,
    "start_time": "2022-07-24T07:37:18.854Z"
   },
   {
    "duration": 615,
    "start_time": "2022-07-24T07:37:18.865Z"
   },
   {
    "duration": 0,
    "start_time": "2022-07-24T07:37:19.482Z"
   },
   {
    "duration": 0,
    "start_time": "2022-07-24T07:37:19.483Z"
   },
   {
    "duration": 0,
    "start_time": "2022-07-24T07:37:19.484Z"
   },
   {
    "duration": 0,
    "start_time": "2022-07-24T07:37:19.485Z"
   },
   {
    "duration": 0,
    "start_time": "2022-07-24T07:37:19.487Z"
   },
   {
    "duration": 0,
    "start_time": "2022-07-24T07:37:19.488Z"
   },
   {
    "duration": 0,
    "start_time": "2022-07-24T07:37:19.489Z"
   },
   {
    "duration": 0,
    "start_time": "2022-07-24T07:37:19.490Z"
   },
   {
    "duration": 0,
    "start_time": "2022-07-24T07:37:19.491Z"
   },
   {
    "duration": 0,
    "start_time": "2022-07-24T07:37:19.509Z"
   },
   {
    "duration": 0,
    "start_time": "2022-07-24T07:37:19.510Z"
   },
   {
    "duration": 0,
    "start_time": "2022-07-24T07:37:19.512Z"
   },
   {
    "duration": 0,
    "start_time": "2022-07-24T07:37:19.513Z"
   },
   {
    "duration": 0,
    "start_time": "2022-07-24T07:37:19.515Z"
   },
   {
    "duration": 0,
    "start_time": "2022-07-24T07:37:19.516Z"
   },
   {
    "duration": 0,
    "start_time": "2022-07-24T07:37:19.516Z"
   },
   {
    "duration": 0,
    "start_time": "2022-07-24T07:37:19.517Z"
   },
   {
    "duration": 0,
    "start_time": "2022-07-24T07:37:19.519Z"
   },
   {
    "duration": 5,
    "start_time": "2022-07-24T07:39:57.789Z"
   },
   {
    "duration": 8,
    "start_time": "2022-07-24T07:40:02.668Z"
   },
   {
    "duration": 272,
    "start_time": "2022-07-24T07:40:24.528Z"
   },
   {
    "duration": 267,
    "start_time": "2022-07-24T07:40:33.474Z"
   },
   {
    "duration": 53,
    "start_time": "2022-07-24T07:40:39.664Z"
   },
   {
    "duration": 50,
    "start_time": "2022-07-24T07:40:46.637Z"
   },
   {
    "duration": 260,
    "start_time": "2022-07-24T07:40:50.598Z"
   },
   {
    "duration": 5,
    "start_time": "2022-07-24T07:41:06.983Z"
   },
   {
    "duration": 311,
    "start_time": "2022-07-24T07:41:07.427Z"
   },
   {
    "duration": 253,
    "start_time": "2022-07-24T07:41:16.126Z"
   },
   {
    "duration": 8,
    "start_time": "2022-07-24T07:41:19.732Z"
   },
   {
    "duration": 5,
    "start_time": "2022-07-24T07:42:17.730Z"
   },
   {
    "duration": 253,
    "start_time": "2022-07-24T07:42:18.243Z"
   },
   {
    "duration": 13,
    "start_time": "2022-07-24T07:42:42.365Z"
   },
   {
    "duration": 5,
    "start_time": "2022-07-24T07:42:46.983Z"
   },
   {
    "duration": 229,
    "start_time": "2022-07-24T07:42:53.598Z"
   },
   {
    "duration": 9,
    "start_time": "2022-07-24T07:42:56.959Z"
   },
   {
    "duration": 242,
    "start_time": "2022-07-24T07:43:09.665Z"
   },
   {
    "duration": 10,
    "start_time": "2022-07-24T07:43:10.701Z"
   },
   {
    "duration": 5,
    "start_time": "2022-07-24T07:43:15.757Z"
   },
   {
    "duration": 277,
    "start_time": "2022-07-24T07:43:15.996Z"
   },
   {
    "duration": 9,
    "start_time": "2022-07-24T07:43:16.582Z"
   },
   {
    "duration": 10,
    "start_time": "2022-07-24T07:43:48.465Z"
   },
   {
    "duration": 5,
    "start_time": "2022-07-24T07:43:56.466Z"
   },
   {
    "duration": 262,
    "start_time": "2022-07-24T07:43:56.756Z"
   },
   {
    "duration": 13,
    "start_time": "2022-07-24T07:43:57.246Z"
   },
   {
    "duration": 4,
    "start_time": "2022-07-24T07:44:09.680Z"
   },
   {
    "duration": 244,
    "start_time": "2022-07-24T07:44:10.032Z"
   },
   {
    "duration": 13,
    "start_time": "2022-07-24T07:44:10.510Z"
   },
   {
    "duration": 12,
    "start_time": "2022-07-24T07:44:12.236Z"
   },
   {
    "duration": 4,
    "start_time": "2022-07-24T07:44:36.030Z"
   },
   {
    "duration": 9,
    "start_time": "2022-07-24T07:44:41.986Z"
   },
   {
    "duration": 9,
    "start_time": "2022-07-24T07:44:49.833Z"
   },
   {
    "duration": 7,
    "start_time": "2022-07-24T07:44:53.345Z"
   },
   {
    "duration": 16,
    "start_time": "2022-07-24T08:00:12.539Z"
   },
   {
    "duration": 15,
    "start_time": "2022-07-24T08:00:25.698Z"
   },
   {
    "duration": 252,
    "start_time": "2022-07-24T08:01:37.065Z"
   },
   {
    "duration": 6,
    "start_time": "2022-07-24T08:01:39.536Z"
   },
   {
    "duration": 248,
    "start_time": "2022-07-24T08:01:39.953Z"
   },
   {
    "duration": 12,
    "start_time": "2022-07-24T08:01:40.796Z"
   },
   {
    "duration": 276,
    "start_time": "2022-07-24T08:01:43.203Z"
   },
   {
    "duration": 13,
    "start_time": "2022-07-24T08:01:56.177Z"
   },
   {
    "duration": 267,
    "start_time": "2022-07-24T08:02:54.162Z"
   },
   {
    "duration": 5,
    "start_time": "2022-07-24T08:03:07.824Z"
   },
   {
    "duration": 431,
    "start_time": "2022-07-24T08:03:08.109Z"
   },
   {
    "duration": 10,
    "start_time": "2022-07-24T08:03:09.957Z"
   },
   {
    "duration": 5,
    "start_time": "2022-07-24T08:03:48.326Z"
   },
   {
    "duration": 245,
    "start_time": "2022-07-24T08:03:49.073Z"
   },
   {
    "duration": 14,
    "start_time": "2022-07-24T08:03:50.803Z"
   },
   {
    "duration": 6,
    "start_time": "2022-07-24T08:04:03.957Z"
   },
   {
    "duration": 268,
    "start_time": "2022-07-24T08:04:04.324Z"
   },
   {
    "duration": 11,
    "start_time": "2022-07-24T08:04:04.805Z"
   },
   {
    "duration": 12,
    "start_time": "2022-07-24T08:04:06.524Z"
   },
   {
    "duration": 16,
    "start_time": "2022-07-24T08:04:39.194Z"
   },
   {
    "duration": 12,
    "start_time": "2022-07-24T08:11:53.149Z"
   },
   {
    "duration": 6,
    "start_time": "2022-07-24T08:12:09.382Z"
   },
   {
    "duration": 7,
    "start_time": "2022-07-24T08:12:09.793Z"
   },
   {
    "duration": 1582,
    "start_time": "2022-07-24T08:48:51.176Z"
   },
   {
    "duration": 191,
    "start_time": "2022-07-24T08:48:52.760Z"
   },
   {
    "duration": 42,
    "start_time": "2022-07-24T08:48:52.952Z"
   },
   {
    "duration": 7,
    "start_time": "2022-07-24T08:48:53.085Z"
   },
   {
    "duration": 69,
    "start_time": "2022-07-24T08:48:53.764Z"
   },
   {
    "duration": 3,
    "start_time": "2022-07-24T08:48:54.167Z"
   },
   {
    "duration": 33,
    "start_time": "2022-07-24T08:48:54.882Z"
   },
   {
    "duration": 26,
    "start_time": "2022-07-24T08:48:55.410Z"
   },
   {
    "duration": 29,
    "start_time": "2022-07-24T08:48:56.467Z"
   },
   {
    "duration": 56,
    "start_time": "2022-07-24T08:48:57.569Z"
   },
   {
    "duration": 3,
    "start_time": "2022-07-24T08:48:58.248Z"
   },
   {
    "duration": 31,
    "start_time": "2022-07-24T08:48:59.373Z"
   },
   {
    "duration": 11,
    "start_time": "2022-07-24T08:49:00.497Z"
   },
   {
    "duration": 28,
    "start_time": "2022-07-24T08:49:00.750Z"
   },
   {
    "duration": 8,
    "start_time": "2022-07-24T08:49:00.947Z"
   },
   {
    "duration": 247,
    "start_time": "2022-07-24T08:49:01.111Z"
   },
   {
    "duration": 12,
    "start_time": "2022-07-24T08:49:01.360Z"
   },
   {
    "duration": 18,
    "start_time": "2022-07-24T08:49:01.470Z"
   },
   {
    "duration": 379,
    "start_time": "2022-07-24T08:49:02.014Z"
   },
   {
    "duration": 32,
    "start_time": "2022-07-24T08:49:20.747Z"
   },
   {
    "duration": 10,
    "start_time": "2022-07-24T08:49:21.072Z"
   },
   {
    "duration": 245,
    "start_time": "2022-07-24T08:49:28.788Z"
   },
   {
    "duration": 14,
    "start_time": "2022-07-24T08:49:29.907Z"
   },
   {
    "duration": 9,
    "start_time": "2022-07-24T08:49:31.269Z"
   },
   {
    "duration": 253,
    "start_time": "2022-07-24T08:50:19.018Z"
   },
   {
    "duration": 11,
    "start_time": "2022-07-24T08:50:48.432Z"
   },
   {
    "duration": 29,
    "start_time": "2022-07-24T08:50:48.795Z"
   },
   {
    "duration": 8,
    "start_time": "2022-07-24T08:50:51.828Z"
   },
   {
    "duration": 485,
    "start_time": "2022-07-24T08:51:42.195Z"
   },
   {
    "duration": 14,
    "start_time": "2022-07-24T08:51:47.223Z"
   },
   {
    "duration": 11,
    "start_time": "2022-07-24T08:52:00.355Z"
   },
   {
    "duration": 30,
    "start_time": "2022-07-24T08:52:24.582Z"
   },
   {
    "duration": 8,
    "start_time": "2022-07-24T08:52:24.956Z"
   },
   {
    "duration": 448,
    "start_time": "2022-07-24T08:52:25.401Z"
   },
   {
    "duration": 20,
    "start_time": "2022-07-24T08:52:25.855Z"
   },
   {
    "duration": 13,
    "start_time": "2022-07-24T08:52:57.077Z"
   },
   {
    "duration": 1461,
    "start_time": "2022-07-24T08:53:09.508Z"
   },
   {
    "duration": 190,
    "start_time": "2022-07-24T08:53:10.971Z"
   },
   {
    "duration": 40,
    "start_time": "2022-07-24T08:53:11.164Z"
   },
   {
    "duration": 6,
    "start_time": "2022-07-24T08:53:11.206Z"
   },
   {
    "duration": 71,
    "start_time": "2022-07-24T08:53:11.213Z"
   },
   {
    "duration": 4,
    "start_time": "2022-07-24T08:53:11.285Z"
   },
   {
    "duration": 37,
    "start_time": "2022-07-24T08:53:11.309Z"
   },
   {
    "duration": 25,
    "start_time": "2022-07-24T08:53:11.348Z"
   },
   {
    "duration": 60,
    "start_time": "2022-07-24T08:53:11.375Z"
   },
   {
    "duration": 83,
    "start_time": "2022-07-24T08:53:11.439Z"
   },
   {
    "duration": 4,
    "start_time": "2022-07-24T08:53:11.524Z"
   },
   {
    "duration": 43,
    "start_time": "2022-07-24T08:53:11.530Z"
   },
   {
    "duration": 41,
    "start_time": "2022-07-24T08:53:11.575Z"
   },
   {
    "duration": 37,
    "start_time": "2022-07-24T08:53:11.618Z"
   },
   {
    "duration": 7,
    "start_time": "2022-07-24T08:53:11.657Z"
   },
   {
    "duration": 519,
    "start_time": "2022-07-24T08:53:11.666Z"
   },
   {
    "duration": 29,
    "start_time": "2022-07-24T08:53:12.186Z"
   },
   {
    "duration": 14,
    "start_time": "2022-07-24T08:53:12.216Z"
   },
   {
    "duration": 15,
    "start_time": "2022-07-24T08:53:12.232Z"
   },
   {
    "duration": 6,
    "start_time": "2022-07-24T08:53:12.249Z"
   },
   {
    "duration": 11,
    "start_time": "2022-07-24T08:53:12.257Z"
   },
   {
    "duration": 4,
    "start_time": "2022-07-24T08:53:12.269Z"
   },
   {
    "duration": 66,
    "start_time": "2022-07-24T08:53:12.274Z"
   },
   {
    "duration": 3,
    "start_time": "2022-07-24T08:53:12.341Z"
   },
   {
    "duration": 9,
    "start_time": "2022-07-24T08:53:12.345Z"
   },
   {
    "duration": 5,
    "start_time": "2022-07-24T08:53:12.356Z"
   },
   {
    "duration": 6,
    "start_time": "2022-07-24T08:53:12.363Z"
   },
   {
    "duration": 47,
    "start_time": "2022-07-24T08:53:12.372Z"
   },
   {
    "duration": 15,
    "start_time": "2022-07-24T08:53:12.610Z"
   },
   {
    "duration": 727,
    "start_time": "2022-07-24T08:53:12.709Z"
   },
   {
    "duration": 1180,
    "start_time": "2022-07-24T08:53:13.437Z"
   },
   {
    "duration": 4140,
    "start_time": "2022-07-24T08:53:14.619Z"
   },
   {
    "duration": 5,
    "start_time": "2022-07-24T08:53:18.761Z"
   },
   {
    "duration": 12,
    "start_time": "2022-07-24T08:53:18.767Z"
   },
   {
    "duration": 1457,
    "start_time": "2022-07-24T08:54:36.420Z"
   },
   {
    "duration": 190,
    "start_time": "2022-07-24T08:54:37.879Z"
   },
   {
    "duration": 41,
    "start_time": "2022-07-24T08:54:38.070Z"
   },
   {
    "duration": 6,
    "start_time": "2022-07-24T08:54:38.113Z"
   },
   {
    "duration": 81,
    "start_time": "2022-07-24T08:54:38.120Z"
   },
   {
    "duration": 4,
    "start_time": "2022-07-24T08:54:38.209Z"
   },
   {
    "duration": 35,
    "start_time": "2022-07-24T08:54:38.214Z"
   },
   {
    "duration": 25,
    "start_time": "2022-07-24T08:54:38.251Z"
   },
   {
    "duration": 55,
    "start_time": "2022-07-24T08:54:38.278Z"
   },
   {
    "duration": 47,
    "start_time": "2022-07-24T08:54:38.335Z"
   },
   {
    "duration": 26,
    "start_time": "2022-07-24T08:54:38.384Z"
   },
   {
    "duration": 33,
    "start_time": "2022-07-24T08:54:38.412Z"
   },
   {
    "duration": 9,
    "start_time": "2022-07-24T08:54:38.447Z"
   },
   {
    "duration": 55,
    "start_time": "2022-07-24T08:54:38.458Z"
   },
   {
    "duration": 7,
    "start_time": "2022-07-24T08:54:38.515Z"
   },
   {
    "duration": 508,
    "start_time": "2022-07-24T08:54:38.523Z"
   },
   {
    "duration": 22,
    "start_time": "2022-07-24T08:54:39.033Z"
   },
   {
    "duration": 14,
    "start_time": "2022-07-24T08:54:39.056Z"
   },
   {
    "duration": 16,
    "start_time": "2022-07-24T08:54:39.071Z"
   },
   {
    "duration": 25,
    "start_time": "2022-07-24T08:54:39.089Z"
   },
   {
    "duration": 20,
    "start_time": "2022-07-24T08:54:39.116Z"
   },
   {
    "duration": 7,
    "start_time": "2022-07-24T08:54:39.137Z"
   },
   {
    "duration": 43,
    "start_time": "2022-07-24T08:54:39.145Z"
   },
   {
    "duration": 2,
    "start_time": "2022-07-24T08:54:39.190Z"
   },
   {
    "duration": 23,
    "start_time": "2022-07-24T08:54:39.194Z"
   },
   {
    "duration": 6,
    "start_time": "2022-07-24T08:54:39.219Z"
   },
   {
    "duration": 11,
    "start_time": "2022-07-24T08:54:39.227Z"
   },
   {
    "duration": 171,
    "start_time": "2022-07-24T08:54:39.241Z"
   },
   {
    "duration": 11,
    "start_time": "2022-07-24T08:54:39.414Z"
   },
   {
    "duration": 751,
    "start_time": "2022-07-24T08:54:39.512Z"
   },
   {
    "duration": 1051,
    "start_time": "2022-07-24T08:54:40.264Z"
   },
   {
    "duration": 3807,
    "start_time": "2022-07-24T08:54:41.316Z"
   },
   {
    "duration": 5,
    "start_time": "2022-07-24T08:54:45.124Z"
   },
   {
    "duration": 30,
    "start_time": "2022-07-24T08:54:45.130Z"
   },
   {
    "duration": 32,
    "start_time": "2022-07-24T08:55:48.480Z"
   },
   {
    "duration": 1440,
    "start_time": "2022-07-24T08:55:57.931Z"
   },
   {
    "duration": 208,
    "start_time": "2022-07-24T08:55:59.376Z"
   },
   {
    "duration": 42,
    "start_time": "2022-07-24T08:55:59.587Z"
   },
   {
    "duration": 6,
    "start_time": "2022-07-24T08:55:59.632Z"
   },
   {
    "duration": 86,
    "start_time": "2022-07-24T08:55:59.639Z"
   },
   {
    "duration": 3,
    "start_time": "2022-07-24T08:55:59.727Z"
   },
   {
    "duration": 42,
    "start_time": "2022-07-24T08:55:59.732Z"
   },
   {
    "duration": 49,
    "start_time": "2022-07-24T08:55:59.776Z"
   },
   {
    "duration": 30,
    "start_time": "2022-07-24T08:55:59.826Z"
   },
   {
    "duration": 78,
    "start_time": "2022-07-24T08:55:59.859Z"
   },
   {
    "duration": 4,
    "start_time": "2022-07-24T08:55:59.938Z"
   },
   {
    "duration": 40,
    "start_time": "2022-07-24T08:55:59.943Z"
   },
   {
    "duration": 25,
    "start_time": "2022-07-24T08:55:59.985Z"
   },
   {
    "duration": 38,
    "start_time": "2022-07-24T08:56:00.012Z"
   },
   {
    "duration": 9,
    "start_time": "2022-07-24T08:56:00.052Z"
   },
   {
    "duration": 524,
    "start_time": "2022-07-24T08:56:00.063Z"
   },
   {
    "duration": 28,
    "start_time": "2022-07-24T08:56:00.588Z"
   },
   {
    "duration": 15,
    "start_time": "2022-07-24T08:56:00.617Z"
   },
   {
    "duration": 17,
    "start_time": "2022-07-24T08:56:00.634Z"
   },
   {
    "duration": 13,
    "start_time": "2022-07-24T08:56:00.653Z"
   },
   {
    "duration": 36,
    "start_time": "2022-07-24T08:56:00.667Z"
   },
   {
    "duration": 18,
    "start_time": "2022-07-24T08:56:00.704Z"
   },
   {
    "duration": 44,
    "start_time": "2022-07-24T08:56:00.724Z"
   },
   {
    "duration": 2,
    "start_time": "2022-07-24T08:56:00.770Z"
   },
   {
    "duration": 19,
    "start_time": "2022-07-24T08:56:00.774Z"
   },
   {
    "duration": 11,
    "start_time": "2022-07-24T08:56:00.795Z"
   },
   {
    "duration": 10,
    "start_time": "2022-07-24T08:56:00.808Z"
   },
   {
    "duration": 96,
    "start_time": "2022-07-24T08:56:00.822Z"
   },
   {
    "duration": 195,
    "start_time": "2022-07-24T08:56:00.920Z"
   },
   {
    "duration": 803,
    "start_time": "2022-07-24T08:56:01.117Z"
   },
   {
    "duration": 1504,
    "start_time": "2022-07-24T08:56:01.922Z"
   },
   {
    "duration": 4004,
    "start_time": "2022-07-24T08:56:03.427Z"
   },
   {
    "duration": 4,
    "start_time": "2022-07-24T08:56:07.432Z"
   },
   {
    "duration": 35,
    "start_time": "2022-07-24T08:56:07.437Z"
   },
   {
    "duration": 1603,
    "start_time": "2022-07-24T09:00:21.384Z"
   },
   {
    "duration": 191,
    "start_time": "2022-07-24T09:00:22.989Z"
   },
   {
    "duration": 40,
    "start_time": "2022-07-24T09:00:23.182Z"
   },
   {
    "duration": 5,
    "start_time": "2022-07-24T09:00:23.224Z"
   },
   {
    "duration": 79,
    "start_time": "2022-07-24T09:00:23.230Z"
   },
   {
    "duration": 4,
    "start_time": "2022-07-24T09:00:23.310Z"
   },
   {
    "duration": 47,
    "start_time": "2022-07-24T09:00:23.315Z"
   },
   {
    "duration": 23,
    "start_time": "2022-07-24T09:00:23.364Z"
   },
   {
    "duration": 47,
    "start_time": "2022-07-24T09:00:23.389Z"
   },
   {
    "duration": 56,
    "start_time": "2022-07-24T09:00:23.438Z"
   },
   {
    "duration": 4,
    "start_time": "2022-07-24T09:00:23.510Z"
   },
   {
    "duration": 52,
    "start_time": "2022-07-24T09:00:23.516Z"
   },
   {
    "duration": 10,
    "start_time": "2022-07-24T09:00:23.570Z"
   },
   {
    "duration": 62,
    "start_time": "2022-07-24T09:00:23.581Z"
   },
   {
    "duration": 13,
    "start_time": "2022-07-24T09:00:23.644Z"
   },
   {
    "duration": 508,
    "start_time": "2022-07-24T09:00:23.658Z"
   },
   {
    "duration": 22,
    "start_time": "2022-07-24T09:00:24.168Z"
   },
   {
    "duration": 22,
    "start_time": "2022-07-24T09:00:24.191Z"
   },
   {
    "duration": 17,
    "start_time": "2022-07-24T09:00:24.215Z"
   },
   {
    "duration": 6,
    "start_time": "2022-07-24T09:00:24.234Z"
   },
   {
    "duration": 12,
    "start_time": "2022-07-24T09:00:24.242Z"
   },
   {
    "duration": 11,
    "start_time": "2022-07-24T09:00:24.255Z"
   },
   {
    "duration": 57,
    "start_time": "2022-07-24T09:00:24.268Z"
   },
   {
    "duration": 3,
    "start_time": "2022-07-24T09:00:24.326Z"
   },
   {
    "duration": 9,
    "start_time": "2022-07-24T09:00:24.330Z"
   },
   {
    "duration": 8,
    "start_time": "2022-07-24T09:00:24.340Z"
   },
   {
    "duration": 10,
    "start_time": "2022-07-24T09:00:24.349Z"
   },
   {
    "duration": 148,
    "start_time": "2022-07-24T09:00:24.363Z"
   },
   {
    "duration": 108,
    "start_time": "2022-07-24T09:00:24.513Z"
   },
   {
    "duration": 743,
    "start_time": "2022-07-24T09:00:24.711Z"
   },
   {
    "duration": 1163,
    "start_time": "2022-07-24T09:00:25.455Z"
   },
   {
    "duration": 3807,
    "start_time": "2022-07-24T09:00:26.619Z"
   },
   {
    "duration": 6,
    "start_time": "2022-07-24T09:00:30.430Z"
   },
   {
    "duration": 26,
    "start_time": "2022-07-24T09:00:30.437Z"
   },
   {
    "duration": 2157,
    "start_time": "2022-07-24T10:10:14.644Z"
   },
   {
    "duration": 203,
    "start_time": "2022-07-24T10:10:16.803Z"
   },
   {
    "duration": 43,
    "start_time": "2022-07-24T10:10:17.008Z"
   },
   {
    "duration": 5,
    "start_time": "2022-07-24T10:10:17.053Z"
   },
   {
    "duration": 78,
    "start_time": "2022-07-24T10:10:17.060Z"
   },
   {
    "duration": 4,
    "start_time": "2022-07-24T10:10:17.139Z"
   },
   {
    "duration": 60,
    "start_time": "2022-07-24T10:10:17.144Z"
   },
   {
    "duration": 28,
    "start_time": "2022-07-24T10:10:17.205Z"
   },
   {
    "duration": 60,
    "start_time": "2022-07-24T10:10:17.235Z"
   },
   {
    "duration": 74,
    "start_time": "2022-07-24T10:10:17.298Z"
   },
   {
    "duration": 5,
    "start_time": "2022-07-24T10:10:17.373Z"
   },
   {
    "duration": 36,
    "start_time": "2022-07-24T10:10:17.380Z"
   },
   {
    "duration": 10,
    "start_time": "2022-07-24T10:10:17.417Z"
   },
   {
    "duration": 63,
    "start_time": "2022-07-24T10:10:17.428Z"
   },
   {
    "duration": 8,
    "start_time": "2022-07-24T10:10:17.492Z"
   },
   {
    "duration": 569,
    "start_time": "2022-07-24T10:10:17.501Z"
   },
   {
    "duration": 24,
    "start_time": "2022-07-24T10:10:18.075Z"
   },
   {
    "duration": 15,
    "start_time": "2022-07-24T10:10:18.100Z"
   },
   {
    "duration": 14,
    "start_time": "2022-07-24T10:10:18.117Z"
   },
   {
    "duration": 27,
    "start_time": "2022-07-24T10:10:18.133Z"
   },
   {
    "duration": 17,
    "start_time": "2022-07-24T10:10:18.162Z"
   },
   {
    "duration": 8,
    "start_time": "2022-07-24T10:10:18.181Z"
   },
   {
    "duration": 41,
    "start_time": "2022-07-24T10:10:18.191Z"
   },
   {
    "duration": 2,
    "start_time": "2022-07-24T10:10:18.234Z"
   },
   {
    "duration": 33,
    "start_time": "2022-07-24T10:10:18.238Z"
   },
   {
    "duration": 8,
    "start_time": "2022-07-24T10:10:18.277Z"
   },
   {
    "duration": 10,
    "start_time": "2022-07-24T10:10:18.287Z"
   },
   {
    "duration": 363,
    "start_time": "2022-07-24T10:10:18.300Z"
   },
   {
    "duration": 106,
    "start_time": "2022-07-24T10:10:18.666Z"
   },
   {
    "duration": 849,
    "start_time": "2022-07-24T10:10:18.777Z"
   },
   {
    "duration": 64753,
    "start_time": "2022-07-24T10:10:19.628Z"
   },
   {
    "duration": 4466,
    "start_time": "2022-07-24T10:11:24.383Z"
   },
   {
    "duration": 4,
    "start_time": "2022-07-24T10:11:28.851Z"
   },
   {
    "duration": 10,
    "start_time": "2022-07-24T10:11:28.856Z"
   },
   {
    "duration": 1562,
    "start_time": "2022-07-24T10:12:10.099Z"
   },
   {
    "duration": 192,
    "start_time": "2022-07-24T10:12:11.664Z"
   },
   {
    "duration": 51,
    "start_time": "2022-07-24T10:12:11.857Z"
   },
   {
    "duration": 6,
    "start_time": "2022-07-24T10:12:11.910Z"
   },
   {
    "duration": 94,
    "start_time": "2022-07-24T10:12:11.918Z"
   },
   {
    "duration": 4,
    "start_time": "2022-07-24T10:12:12.014Z"
   },
   {
    "duration": 55,
    "start_time": "2022-07-24T10:12:12.019Z"
   },
   {
    "duration": 28,
    "start_time": "2022-07-24T10:12:12.076Z"
   },
   {
    "duration": 55,
    "start_time": "2022-07-24T10:12:12.105Z"
   },
   {
    "duration": 52,
    "start_time": "2022-07-24T10:12:12.163Z"
   },
   {
    "duration": 3,
    "start_time": "2022-07-24T10:12:12.216Z"
   },
   {
    "duration": 65,
    "start_time": "2022-07-24T10:12:12.221Z"
   },
   {
    "duration": 10,
    "start_time": "2022-07-24T10:12:12.287Z"
   },
   {
    "duration": 39,
    "start_time": "2022-07-24T10:12:12.299Z"
   },
   {
    "duration": 22,
    "start_time": "2022-07-24T10:12:12.340Z"
   },
   {
    "duration": 535,
    "start_time": "2022-07-24T10:12:12.364Z"
   },
   {
    "duration": 23,
    "start_time": "2022-07-24T10:12:12.900Z"
   },
   {
    "duration": 16,
    "start_time": "2022-07-24T10:12:12.924Z"
   },
   {
    "duration": 34,
    "start_time": "2022-07-24T10:12:12.941Z"
   },
   {
    "duration": 15,
    "start_time": "2022-07-24T10:12:12.977Z"
   },
   {
    "duration": 20,
    "start_time": "2022-07-24T10:12:12.994Z"
   },
   {
    "duration": 4,
    "start_time": "2022-07-24T10:12:13.015Z"
   },
   {
    "duration": 50,
    "start_time": "2022-07-24T10:12:13.020Z"
   },
   {
    "duration": 4,
    "start_time": "2022-07-24T10:12:13.075Z"
   },
   {
    "duration": 17,
    "start_time": "2022-07-24T10:12:13.081Z"
   },
   {
    "duration": 10,
    "start_time": "2022-07-24T10:12:26.186Z"
   },
   {
    "duration": 15,
    "start_time": "2022-07-24T10:12:33.855Z"
   },
   {
    "duration": 1639,
    "start_time": "2022-07-24T10:12:54.107Z"
   },
   {
    "duration": 188,
    "start_time": "2022-07-24T10:12:55.748Z"
   },
   {
    "duration": 48,
    "start_time": "2022-07-24T10:12:55.937Z"
   },
   {
    "duration": 6,
    "start_time": "2022-07-24T10:12:55.987Z"
   },
   {
    "duration": 83,
    "start_time": "2022-07-24T10:12:55.994Z"
   },
   {
    "duration": 5,
    "start_time": "2022-07-24T10:12:56.080Z"
   },
   {
    "duration": 42,
    "start_time": "2022-07-24T10:12:56.088Z"
   },
   {
    "duration": 56,
    "start_time": "2022-07-24T10:12:56.131Z"
   },
   {
    "duration": 36,
    "start_time": "2022-07-24T10:12:56.189Z"
   },
   {
    "duration": 93,
    "start_time": "2022-07-24T10:12:56.228Z"
   },
   {
    "duration": 4,
    "start_time": "2022-07-24T10:12:56.323Z"
   },
   {
    "duration": 64,
    "start_time": "2022-07-24T10:12:56.329Z"
   },
   {
    "duration": 12,
    "start_time": "2022-07-24T10:12:56.395Z"
   },
   {
    "duration": 64,
    "start_time": "2022-07-24T10:12:56.409Z"
   },
   {
    "duration": 12,
    "start_time": "2022-07-24T10:12:56.476Z"
   },
   {
    "duration": 536,
    "start_time": "2022-07-24T10:12:56.489Z"
   },
   {
    "duration": 20,
    "start_time": "2022-07-24T10:12:57.026Z"
   },
   {
    "duration": 45,
    "start_time": "2022-07-24T10:12:57.047Z"
   },
   {
    "duration": 22,
    "start_time": "2022-07-24T10:12:57.094Z"
   },
   {
    "duration": 8,
    "start_time": "2022-07-24T10:12:57.118Z"
   },
   {
    "duration": 24,
    "start_time": "2022-07-24T10:12:57.128Z"
   },
   {
    "duration": 8,
    "start_time": "2022-07-24T10:12:57.154Z"
   },
   {
    "duration": 52,
    "start_time": "2022-07-24T10:12:57.165Z"
   },
   {
    "duration": 3,
    "start_time": "2022-07-24T10:12:57.218Z"
   },
   {
    "duration": 11,
    "start_time": "2022-07-24T10:13:00.284Z"
   },
   {
    "duration": 31,
    "start_time": "2022-07-24T10:13:12.016Z"
   },
   {
    "duration": 6,
    "start_time": "2022-07-24T10:14:12.987Z"
   },
   {
    "duration": 12,
    "start_time": "2022-07-24T10:14:28.236Z"
   },
   {
    "duration": 1656,
    "start_time": "2022-07-24T10:14:59.254Z"
   },
   {
    "duration": 197,
    "start_time": "2022-07-24T10:15:00.912Z"
   },
   {
    "duration": 38,
    "start_time": "2022-07-24T10:15:01.111Z"
   },
   {
    "duration": 6,
    "start_time": "2022-07-24T10:15:01.151Z"
   },
   {
    "duration": 77,
    "start_time": "2022-07-24T10:15:01.158Z"
   },
   {
    "duration": 4,
    "start_time": "2022-07-24T10:15:01.237Z"
   },
   {
    "duration": 61,
    "start_time": "2022-07-24T10:15:01.243Z"
   },
   {
    "duration": 28,
    "start_time": "2022-07-24T10:15:01.305Z"
   },
   {
    "duration": 76,
    "start_time": "2022-07-24T10:15:01.334Z"
   },
   {
    "duration": 82,
    "start_time": "2022-07-24T10:15:01.413Z"
   },
   {
    "duration": 3,
    "start_time": "2022-07-24T10:15:01.497Z"
   },
   {
    "duration": 63,
    "start_time": "2022-07-24T10:15:01.502Z"
   },
   {
    "duration": 24,
    "start_time": "2022-07-24T10:15:01.568Z"
   },
   {
    "duration": 48,
    "start_time": "2022-07-24T10:15:01.594Z"
   },
   {
    "duration": 40,
    "start_time": "2022-07-24T10:15:01.644Z"
   },
   {
    "duration": 494,
    "start_time": "2022-07-24T10:15:01.686Z"
   },
   {
    "duration": 23,
    "start_time": "2022-07-24T10:15:02.182Z"
   },
   {
    "duration": 71,
    "start_time": "2022-07-24T10:15:02.207Z"
   },
   {
    "duration": 19,
    "start_time": "2022-07-24T10:15:02.280Z"
   },
   {
    "duration": 23,
    "start_time": "2022-07-24T10:15:02.301Z"
   },
   {
    "duration": 33,
    "start_time": "2022-07-24T10:15:02.326Z"
   },
   {
    "duration": 39,
    "start_time": "2022-07-24T10:15:02.361Z"
   },
   {
    "duration": 56,
    "start_time": "2022-07-24T10:15:02.402Z"
   },
   {
    "duration": 5,
    "start_time": "2022-07-24T10:15:02.460Z"
   },
   {
    "duration": 42,
    "start_time": "2022-07-24T10:15:02.472Z"
   },
   {
    "duration": 1681,
    "start_time": "2022-07-24T10:16:35.545Z"
   },
   {
    "duration": 196,
    "start_time": "2022-07-24T10:16:37.228Z"
   },
   {
    "duration": 40,
    "start_time": "2022-07-24T10:16:37.426Z"
   },
   {
    "duration": 7,
    "start_time": "2022-07-24T10:16:37.470Z"
   },
   {
    "duration": 85,
    "start_time": "2022-07-24T10:16:37.479Z"
   },
   {
    "duration": 4,
    "start_time": "2022-07-24T10:16:37.567Z"
   },
   {
    "duration": 52,
    "start_time": "2022-07-24T10:16:37.574Z"
   },
   {
    "duration": 59,
    "start_time": "2022-07-24T10:16:37.628Z"
   },
   {
    "duration": 30,
    "start_time": "2022-07-24T10:16:37.689Z"
   },
   {
    "duration": 80,
    "start_time": "2022-07-24T10:16:37.721Z"
   },
   {
    "duration": 3,
    "start_time": "2022-07-24T10:16:37.803Z"
   },
   {
    "duration": 31,
    "start_time": "2022-07-24T10:16:37.807Z"
   },
   {
    "duration": 15,
    "start_time": "2022-07-24T10:16:37.862Z"
   },
   {
    "duration": 35,
    "start_time": "2022-07-24T10:16:37.879Z"
   },
   {
    "duration": 7,
    "start_time": "2022-07-24T10:16:37.916Z"
   },
   {
    "duration": 486,
    "start_time": "2022-07-24T10:16:37.925Z"
   },
   {
    "duration": 21,
    "start_time": "2022-07-24T10:16:38.412Z"
   },
   {
    "duration": 13,
    "start_time": "2022-07-24T10:16:38.434Z"
   },
   {
    "duration": 16,
    "start_time": "2022-07-24T10:16:38.460Z"
   },
   {
    "duration": 12,
    "start_time": "2022-07-24T10:16:38.478Z"
   },
   {
    "duration": 11,
    "start_time": "2022-07-24T10:16:38.492Z"
   },
   {
    "duration": 4,
    "start_time": "2022-07-24T10:16:38.505Z"
   },
   {
    "duration": 70,
    "start_time": "2022-07-24T10:16:38.510Z"
   },
   {
    "duration": 3,
    "start_time": "2022-07-24T10:16:38.582Z"
   },
   {
    "duration": 10,
    "start_time": "2022-07-24T10:16:38.587Z"
   },
   {
    "duration": 6,
    "start_time": "2022-07-24T10:16:38.598Z"
   },
   {
    "duration": 6,
    "start_time": "2022-07-24T10:16:38.606Z"
   },
   {
    "duration": 146,
    "start_time": "2022-07-24T10:16:38.616Z"
   },
   {
    "duration": 107,
    "start_time": "2022-07-24T10:16:38.764Z"
   },
   {
    "duration": 862,
    "start_time": "2022-07-24T10:16:38.873Z"
   },
   {
    "duration": 68726,
    "start_time": "2022-07-24T10:16:39.736Z"
   },
   {
    "duration": 4101,
    "start_time": "2022-07-24T10:17:48.464Z"
   },
   {
    "duration": 10,
    "start_time": "2022-07-24T10:17:52.568Z"
   },
   {
    "duration": 15,
    "start_time": "2022-07-24T10:17:52.581Z"
   },
   {
    "duration": 1680,
    "start_time": "2022-07-24T10:19:29.034Z"
   },
   {
    "duration": 202,
    "start_time": "2022-07-24T10:19:30.716Z"
   },
   {
    "duration": 38,
    "start_time": "2022-07-24T10:19:30.920Z"
   },
   {
    "duration": 9,
    "start_time": "2022-07-24T10:19:30.961Z"
   },
   {
    "duration": 89,
    "start_time": "2022-07-24T10:19:30.973Z"
   },
   {
    "duration": 6,
    "start_time": "2022-07-24T10:19:31.065Z"
   },
   {
    "duration": 62,
    "start_time": "2022-07-24T10:19:31.073Z"
   },
   {
    "duration": 40,
    "start_time": "2022-07-24T10:19:31.137Z"
   },
   {
    "duration": 67,
    "start_time": "2022-07-24T10:19:31.179Z"
   },
   {
    "duration": 58,
    "start_time": "2022-07-24T10:19:31.248Z"
   },
   {
    "duration": 3,
    "start_time": "2022-07-24T10:19:31.308Z"
   },
   {
    "duration": 86,
    "start_time": "2022-07-24T10:19:31.313Z"
   },
   {
    "duration": 10,
    "start_time": "2022-07-24T10:19:31.401Z"
   },
   {
    "duration": 76,
    "start_time": "2022-07-24T10:19:31.412Z"
   },
   {
    "duration": 19,
    "start_time": "2022-07-24T10:19:31.490Z"
   },
   {
    "duration": 556,
    "start_time": "2022-07-24T10:19:31.510Z"
   },
   {
    "duration": 28,
    "start_time": "2022-07-24T10:19:32.068Z"
   },
   {
    "duration": 25,
    "start_time": "2022-07-24T10:19:32.098Z"
   },
   {
    "duration": 52,
    "start_time": "2022-07-24T10:19:32.124Z"
   },
   {
    "duration": 49,
    "start_time": "2022-07-24T10:19:32.179Z"
   },
   {
    "duration": 52,
    "start_time": "2022-07-24T10:19:32.230Z"
   },
   {
    "duration": 35,
    "start_time": "2022-07-24T10:19:32.283Z"
   },
   {
    "duration": 60,
    "start_time": "2022-07-24T10:19:32.320Z"
   },
   {
    "duration": 3,
    "start_time": "2022-07-24T10:19:32.382Z"
   },
   {
    "duration": 22,
    "start_time": "2022-07-24T10:19:32.388Z"
   },
   {
    "duration": 39,
    "start_time": "2022-07-24T10:19:32.412Z"
   },
   {
    "duration": 52,
    "start_time": "2022-07-24T10:19:32.452Z"
   },
   {
    "duration": 165,
    "start_time": "2022-07-24T10:19:32.507Z"
   },
   {
    "duration": 104,
    "start_time": "2022-07-24T10:19:32.760Z"
   },
   {
    "duration": 786,
    "start_time": "2022-07-24T10:19:32.869Z"
   },
   {
    "duration": 50006,
    "start_time": "2022-07-24T10:19:33.656Z"
   },
   {
    "duration": 3996,
    "start_time": "2022-07-24T10:20:23.663Z"
   },
   {
    "duration": 5,
    "start_time": "2022-07-24T10:20:27.660Z"
   },
   {
    "duration": 13,
    "start_time": "2022-07-24T10:20:27.667Z"
   },
   {
    "duration": 1580,
    "start_time": "2022-07-24T10:20:59.210Z"
   },
   {
    "duration": 188,
    "start_time": "2022-07-24T10:21:00.793Z"
   },
   {
    "duration": 43,
    "start_time": "2022-07-24T10:21:00.983Z"
   },
   {
    "duration": 6,
    "start_time": "2022-07-24T10:21:01.029Z"
   },
   {
    "duration": 97,
    "start_time": "2022-07-24T10:21:01.036Z"
   },
   {
    "duration": 3,
    "start_time": "2022-07-24T10:21:01.135Z"
   },
   {
    "duration": 52,
    "start_time": "2022-07-24T10:21:01.139Z"
   },
   {
    "duration": 49,
    "start_time": "2022-07-24T10:21:01.193Z"
   },
   {
    "duration": 30,
    "start_time": "2022-07-24T10:21:01.244Z"
   },
   {
    "duration": 50,
    "start_time": "2022-07-24T10:21:01.276Z"
   },
   {
    "duration": 3,
    "start_time": "2022-07-24T10:21:01.328Z"
   },
   {
    "duration": 52,
    "start_time": "2022-07-24T10:21:01.333Z"
   },
   {
    "duration": 13,
    "start_time": "2022-07-24T10:21:01.387Z"
   },
   {
    "duration": 39,
    "start_time": "2022-07-24T10:21:01.402Z"
   },
   {
    "duration": 21,
    "start_time": "2022-07-24T10:21:01.442Z"
   },
   {
    "duration": 534,
    "start_time": "2022-07-24T10:21:01.465Z"
   },
   {
    "duration": 21,
    "start_time": "2022-07-24T10:21:02.001Z"
   },
   {
    "duration": 34,
    "start_time": "2022-07-24T10:21:02.023Z"
   },
   {
    "duration": 48,
    "start_time": "2022-07-24T10:21:02.059Z"
   },
   {
    "duration": 68,
    "start_time": "2022-07-24T10:21:02.109Z"
   },
   {
    "duration": 54,
    "start_time": "2022-07-24T10:21:02.178Z"
   },
   {
    "duration": 36,
    "start_time": "2022-07-24T10:21:02.233Z"
   },
   {
    "duration": 61,
    "start_time": "2022-07-24T10:21:02.270Z"
   },
   {
    "duration": 3,
    "start_time": "2022-07-24T10:21:02.333Z"
   },
   {
    "duration": 57,
    "start_time": "2022-07-24T10:21:16.166Z"
   },
   {
    "duration": 1734,
    "start_time": "2022-07-24T10:39:26.800Z"
   },
   {
    "duration": 456,
    "start_time": "2022-07-24T10:39:28.536Z"
   },
   {
    "duration": 39,
    "start_time": "2022-07-24T10:39:28.993Z"
   },
   {
    "duration": 5,
    "start_time": "2022-07-24T10:39:29.033Z"
   },
   {
    "duration": 76,
    "start_time": "2022-07-24T10:39:29.040Z"
   },
   {
    "duration": 4,
    "start_time": "2022-07-24T10:39:29.117Z"
   },
   {
    "duration": 62,
    "start_time": "2022-07-24T10:39:29.122Z"
   },
   {
    "duration": 32,
    "start_time": "2022-07-24T10:39:29.186Z"
   },
   {
    "duration": 66,
    "start_time": "2022-07-24T10:39:29.220Z"
   },
   {
    "duration": 94,
    "start_time": "2022-07-24T10:39:29.288Z"
   },
   {
    "duration": 4,
    "start_time": "2022-07-24T10:39:29.384Z"
   },
   {
    "duration": 31,
    "start_time": "2022-07-24T10:39:29.390Z"
   },
   {
    "duration": 9,
    "start_time": "2022-07-24T10:39:29.423Z"
   },
   {
    "duration": 58,
    "start_time": "2022-07-24T10:39:29.435Z"
   },
   {
    "duration": 7,
    "start_time": "2022-07-24T10:39:29.495Z"
   },
   {
    "duration": 602,
    "start_time": "2022-07-24T10:39:29.504Z"
   },
   {
    "duration": 20,
    "start_time": "2022-07-24T10:39:30.108Z"
   },
   {
    "duration": 14,
    "start_time": "2022-07-24T10:39:30.129Z"
   },
   {
    "duration": 39,
    "start_time": "2022-07-24T10:39:30.144Z"
   },
   {
    "duration": 9,
    "start_time": "2022-07-24T10:39:30.186Z"
   },
   {
    "duration": 20,
    "start_time": "2022-07-24T10:39:30.197Z"
   },
   {
    "duration": 14,
    "start_time": "2022-07-24T10:39:30.219Z"
   },
   {
    "duration": 70,
    "start_time": "2022-07-24T10:39:30.234Z"
   },
   {
    "duration": 2,
    "start_time": "2022-07-24T10:39:30.306Z"
   },
   {
    "duration": 21,
    "start_time": "2022-07-24T10:39:30.310Z"
   },
   {
    "duration": 16,
    "start_time": "2022-07-24T10:39:30.332Z"
   },
   {
    "duration": 35,
    "start_time": "2022-07-24T10:39:30.349Z"
   },
   {
    "duration": 175,
    "start_time": "2022-07-24T10:39:30.387Z"
   },
   {
    "duration": 101,
    "start_time": "2022-07-24T10:39:30.564Z"
   },
   {
    "duration": 830,
    "start_time": "2022-07-24T10:39:30.667Z"
   },
   {
    "duration": 24371,
    "start_time": "2022-07-24T10:39:31.498Z"
   },
   {
    "duration": 4209,
    "start_time": "2022-07-24T10:39:55.871Z"
   },
   {
    "duration": 4,
    "start_time": "2022-07-24T10:40:00.082Z"
   },
   {
    "duration": 12,
    "start_time": "2022-07-24T10:40:00.087Z"
   },
   {
    "duration": 68,
    "start_time": "2022-07-24T10:40:50.634Z"
   },
   {
    "duration": 1463,
    "start_time": "2022-07-24T10:40:54.228Z"
   },
   {
    "duration": 202,
    "start_time": "2022-07-24T10:40:55.693Z"
   },
   {
    "duration": 38,
    "start_time": "2022-07-24T10:40:55.896Z"
   },
   {
    "duration": 5,
    "start_time": "2022-07-24T10:40:55.936Z"
   },
   {
    "duration": 80,
    "start_time": "2022-07-24T10:40:55.943Z"
   },
   {
    "duration": 3,
    "start_time": "2022-07-24T10:40:56.025Z"
   },
   {
    "duration": 53,
    "start_time": "2022-07-24T10:40:56.029Z"
   },
   {
    "duration": 24,
    "start_time": "2022-07-24T10:40:56.083Z"
   },
   {
    "duration": 52,
    "start_time": "2022-07-24T10:40:56.109Z"
   },
   {
    "duration": 80,
    "start_time": "2022-07-24T10:40:56.164Z"
   },
   {
    "duration": 18,
    "start_time": "2022-07-24T10:40:56.246Z"
   },
   {
    "duration": 68,
    "start_time": "2022-07-24T10:40:56.266Z"
   },
   {
    "duration": 12,
    "start_time": "2022-07-24T10:40:56.336Z"
   },
   {
    "duration": 55,
    "start_time": "2022-07-24T10:40:56.350Z"
   },
   {
    "duration": 9,
    "start_time": "2022-07-24T10:40:56.407Z"
   },
   {
    "duration": 549,
    "start_time": "2022-07-24T10:40:56.418Z"
   },
   {
    "duration": 23,
    "start_time": "2022-07-24T10:40:56.969Z"
   },
   {
    "duration": 14,
    "start_time": "2022-07-24T10:40:56.994Z"
   },
   {
    "duration": 14,
    "start_time": "2022-07-24T10:40:57.009Z"
   },
   {
    "duration": 37,
    "start_time": "2022-07-24T10:40:57.025Z"
   },
   {
    "duration": 20,
    "start_time": "2022-07-24T10:40:57.077Z"
   },
   {
    "duration": 15,
    "start_time": "2022-07-24T10:40:57.099Z"
   },
   {
    "duration": 58,
    "start_time": "2022-07-24T10:40:57.116Z"
   },
   {
    "duration": 3,
    "start_time": "2022-07-24T10:40:57.176Z"
   },
   {
    "duration": 17,
    "start_time": "2022-07-24T10:40:57.180Z"
   },
   {
    "duration": 7,
    "start_time": "2022-07-24T10:40:57.199Z"
   },
   {
    "duration": 8,
    "start_time": "2022-07-24T10:40:57.208Z"
   },
   {
    "duration": 1480,
    "start_time": "2022-07-24T10:41:00.760Z"
   },
   {
    "duration": 194,
    "start_time": "2022-07-24T10:41:02.241Z"
   },
   {
    "duration": 46,
    "start_time": "2022-07-24T10:41:02.437Z"
   },
   {
    "duration": 6,
    "start_time": "2022-07-24T10:41:02.484Z"
   },
   {
    "duration": 80,
    "start_time": "2022-07-24T10:41:02.491Z"
   },
   {
    "duration": 5,
    "start_time": "2022-07-24T10:41:02.573Z"
   },
   {
    "duration": 39,
    "start_time": "2022-07-24T10:41:02.579Z"
   },
   {
    "duration": 54,
    "start_time": "2022-07-24T10:41:02.619Z"
   },
   {
    "duration": 31,
    "start_time": "2022-07-24T10:41:02.675Z"
   },
   {
    "duration": 66,
    "start_time": "2022-07-24T10:41:02.709Z"
   },
   {
    "duration": 5,
    "start_time": "2022-07-24T10:41:02.776Z"
   },
   {
    "duration": 44,
    "start_time": "2022-07-24T10:41:02.783Z"
   },
   {
    "duration": 10,
    "start_time": "2022-07-24T10:41:02.828Z"
   },
   {
    "duration": 50,
    "start_time": "2022-07-24T10:41:02.840Z"
   },
   {
    "duration": 7,
    "start_time": "2022-07-24T10:41:02.892Z"
   },
   {
    "duration": 507,
    "start_time": "2022-07-24T10:41:02.900Z"
   },
   {
    "duration": 22,
    "start_time": "2022-07-24T10:41:03.408Z"
   },
   {
    "duration": 27,
    "start_time": "2022-07-24T10:41:03.433Z"
   },
   {
    "duration": 31,
    "start_time": "2022-07-24T10:41:03.462Z"
   },
   {
    "duration": 7,
    "start_time": "2022-07-24T10:41:03.494Z"
   },
   {
    "duration": 13,
    "start_time": "2022-07-24T10:41:03.502Z"
   },
   {
    "duration": 5,
    "start_time": "2022-07-24T10:41:03.516Z"
   },
   {
    "duration": 54,
    "start_time": "2022-07-24T10:41:03.523Z"
   },
   {
    "duration": 2,
    "start_time": "2022-07-24T10:41:03.579Z"
   },
   {
    "duration": 11,
    "start_time": "2022-07-24T10:41:03.583Z"
   },
   {
    "duration": 7,
    "start_time": "2022-07-24T10:41:03.596Z"
   },
   {
    "duration": 8,
    "start_time": "2022-07-24T10:41:03.605Z"
   },
   {
    "duration": 145,
    "start_time": "2022-07-24T10:41:03.617Z"
   },
   {
    "duration": 16,
    "start_time": "2022-07-24T10:41:03.764Z"
   },
   {
    "duration": 888,
    "start_time": "2022-07-24T10:41:03.782Z"
   },
   {
    "duration": 1474,
    "start_time": "2022-07-24T10:41:10.367Z"
   },
   {
    "duration": 204,
    "start_time": "2022-07-24T10:41:11.843Z"
   },
   {
    "duration": 47,
    "start_time": "2022-07-24T10:41:12.048Z"
   },
   {
    "duration": 5,
    "start_time": "2022-07-24T10:41:12.097Z"
   },
   {
    "duration": 87,
    "start_time": "2022-07-24T10:41:12.103Z"
   },
   {
    "duration": 4,
    "start_time": "2022-07-24T10:41:12.192Z"
   },
   {
    "duration": 38,
    "start_time": "2022-07-24T10:41:12.198Z"
   },
   {
    "duration": 51,
    "start_time": "2022-07-24T10:41:12.239Z"
   },
   {
    "duration": 28,
    "start_time": "2022-07-24T10:41:12.292Z"
   },
   {
    "duration": 75,
    "start_time": "2022-07-24T10:41:12.323Z"
   },
   {
    "duration": 4,
    "start_time": "2022-07-24T10:41:12.400Z"
   },
   {
    "duration": 55,
    "start_time": "2022-07-24T10:41:12.406Z"
   },
   {
    "duration": 15,
    "start_time": "2022-07-24T10:41:12.462Z"
   },
   {
    "duration": 29,
    "start_time": "2022-07-24T10:41:12.479Z"
   },
   {
    "duration": 8,
    "start_time": "2022-07-24T10:41:12.510Z"
   },
   {
    "duration": 528,
    "start_time": "2022-07-24T10:41:12.520Z"
   },
   {
    "duration": 33,
    "start_time": "2022-07-24T10:41:13.049Z"
   },
   {
    "duration": 15,
    "start_time": "2022-07-24T10:41:13.084Z"
   },
   {
    "duration": 17,
    "start_time": "2022-07-24T10:41:13.101Z"
   },
   {
    "duration": 7,
    "start_time": "2022-07-24T10:41:13.120Z"
   },
   {
    "duration": 32,
    "start_time": "2022-07-24T10:41:13.128Z"
   },
   {
    "duration": 4,
    "start_time": "2022-07-24T10:41:13.163Z"
   },
   {
    "duration": 58,
    "start_time": "2022-07-24T10:41:13.169Z"
   },
   {
    "duration": 3,
    "start_time": "2022-07-24T10:41:13.229Z"
   },
   {
    "duration": 10,
    "start_time": "2022-07-24T10:41:13.234Z"
   },
   {
    "duration": 6,
    "start_time": "2022-07-24T10:41:13.245Z"
   },
   {
    "duration": 13,
    "start_time": "2022-07-24T10:41:13.252Z"
   },
   {
    "duration": 29,
    "start_time": "2022-07-24T10:41:13.270Z"
   },
   {
    "duration": 176,
    "start_time": "2022-07-24T10:41:13.301Z"
   },
   {
    "duration": 828,
    "start_time": "2022-07-24T10:41:13.562Z"
   },
   {
    "duration": 9789,
    "start_time": "2022-07-24T10:41:14.391Z"
   },
   {
    "duration": 4259,
    "start_time": "2022-07-24T10:41:24.183Z"
   },
   {
    "duration": 4,
    "start_time": "2022-07-24T10:41:28.444Z"
   },
   {
    "duration": 13,
    "start_time": "2022-07-24T10:41:28.450Z"
   },
   {
    "duration": 1724,
    "start_time": "2022-07-24T13:03:10.317Z"
   },
   {
    "duration": 471,
    "start_time": "2022-07-24T13:03:12.043Z"
   },
   {
    "duration": 42,
    "start_time": "2022-07-24T13:03:12.515Z"
   },
   {
    "duration": 6,
    "start_time": "2022-07-24T13:03:12.559Z"
   },
   {
    "duration": 84,
    "start_time": "2022-07-24T13:03:12.567Z"
   },
   {
    "duration": 4,
    "start_time": "2022-07-24T13:03:12.652Z"
   },
   {
    "duration": 56,
    "start_time": "2022-07-24T13:03:12.657Z"
   },
   {
    "duration": 25,
    "start_time": "2022-07-24T13:03:12.715Z"
   },
   {
    "duration": 32,
    "start_time": "2022-07-24T13:03:12.742Z"
   },
   {
    "duration": 74,
    "start_time": "2022-07-24T13:03:12.775Z"
   },
   {
    "duration": 3,
    "start_time": "2022-07-24T13:03:12.851Z"
   },
   {
    "duration": 54,
    "start_time": "2022-07-24T13:03:12.856Z"
   },
   {
    "duration": 10,
    "start_time": "2022-07-24T13:03:12.912Z"
   },
   {
    "duration": 30,
    "start_time": "2022-07-24T13:03:12.926Z"
   },
   {
    "duration": 7,
    "start_time": "2022-07-24T13:03:12.958Z"
   },
   {
    "duration": 500,
    "start_time": "2022-07-24T13:03:12.967Z"
   },
   {
    "duration": 22,
    "start_time": "2022-07-24T13:03:13.469Z"
   },
   {
    "duration": 25,
    "start_time": "2022-07-24T13:03:13.493Z"
   },
   {
    "duration": 15,
    "start_time": "2022-07-24T13:03:13.520Z"
   },
   {
    "duration": 8,
    "start_time": "2022-07-24T13:03:13.536Z"
   },
   {
    "duration": 12,
    "start_time": "2022-07-24T13:03:13.545Z"
   },
   {
    "duration": 4,
    "start_time": "2022-07-24T13:03:13.558Z"
   },
   {
    "duration": 79,
    "start_time": "2022-07-24T13:03:13.563Z"
   },
   {
    "duration": 3,
    "start_time": "2022-07-24T13:03:13.643Z"
   },
   {
    "duration": 9,
    "start_time": "2022-07-24T13:03:13.647Z"
   },
   {
    "duration": 7,
    "start_time": "2022-07-24T13:03:13.657Z"
   },
   {
    "duration": 6,
    "start_time": "2022-07-24T13:03:13.665Z"
   },
   {
    "duration": 139,
    "start_time": "2022-07-24T13:03:13.672Z"
   },
   {
    "duration": 110,
    "start_time": "2022-07-24T13:03:13.813Z"
   },
   {
    "duration": 725,
    "start_time": "2022-07-24T13:03:14.013Z"
   },
   {
    "duration": 1177,
    "start_time": "2022-07-24T13:03:14.740Z"
   },
   {
    "duration": 4026,
    "start_time": "2022-07-24T13:03:15.918Z"
   },
   {
    "duration": 5,
    "start_time": "2022-07-24T13:03:19.945Z"
   },
   {
    "duration": 10,
    "start_time": "2022-07-24T13:03:19.951Z"
   },
   {
    "duration": 37,
    "start_time": "2022-07-24T13:03:55.742Z"
   },
   {
    "duration": 117,
    "start_time": "2022-07-24T13:11:39.720Z"
   },
   {
    "duration": 4,
    "start_time": "2022-07-24T13:13:27.525Z"
   },
   {
    "duration": 56,
    "start_time": "2022-07-24T13:14:11.343Z"
   },
   {
    "duration": 3959,
    "start_time": "2022-07-24T13:14:17.552Z"
   },
   {
    "duration": 6,
    "start_time": "2022-07-24T13:14:32.248Z"
   },
   {
    "duration": 4,
    "start_time": "2022-07-24T13:15:10.641Z"
   },
   {
    "duration": 1477,
    "start_time": "2022-07-24T13:15:35.190Z"
   },
   {
    "duration": 198,
    "start_time": "2022-07-24T13:15:36.669Z"
   },
   {
    "duration": 41,
    "start_time": "2022-07-24T13:15:36.870Z"
   },
   {
    "duration": 6,
    "start_time": "2022-07-24T13:15:36.914Z"
   },
   {
    "duration": 70,
    "start_time": "2022-07-24T13:15:36.922Z"
   },
   {
    "duration": 4,
    "start_time": "2022-07-24T13:15:37.010Z"
   },
   {
    "duration": 49,
    "start_time": "2022-07-24T13:15:37.016Z"
   },
   {
    "duration": 50,
    "start_time": "2022-07-24T13:15:37.067Z"
   },
   {
    "duration": 31,
    "start_time": "2022-07-24T13:15:37.119Z"
   },
   {
    "duration": 75,
    "start_time": "2022-07-24T13:15:37.154Z"
   },
   {
    "duration": 4,
    "start_time": "2022-07-24T13:15:37.230Z"
   },
   {
    "duration": 32,
    "start_time": "2022-07-24T13:15:37.236Z"
   },
   {
    "duration": 10,
    "start_time": "2022-07-24T13:15:37.269Z"
   },
   {
    "duration": 59,
    "start_time": "2022-07-24T13:15:37.280Z"
   },
   {
    "duration": 7,
    "start_time": "2022-07-24T13:15:37.340Z"
   },
   {
    "duration": 503,
    "start_time": "2022-07-24T13:15:37.349Z"
   },
   {
    "duration": 22,
    "start_time": "2022-07-24T13:15:37.853Z"
   },
   {
    "duration": 15,
    "start_time": "2022-07-24T13:15:37.876Z"
   },
   {
    "duration": 18,
    "start_time": "2022-07-24T13:15:37.910Z"
   },
   {
    "duration": 8,
    "start_time": "2022-07-24T13:15:37.930Z"
   },
   {
    "duration": 15,
    "start_time": "2022-07-24T13:15:37.940Z"
   },
   {
    "duration": 4,
    "start_time": "2022-07-24T13:15:37.957Z"
   },
   {
    "duration": 82,
    "start_time": "2022-07-24T13:15:37.963Z"
   },
   {
    "duration": 3,
    "start_time": "2022-07-24T13:15:38.046Z"
   },
   {
    "duration": 8,
    "start_time": "2022-07-24T13:15:38.051Z"
   },
   {
    "duration": 8,
    "start_time": "2022-07-24T13:15:38.061Z"
   },
   {
    "duration": 8,
    "start_time": "2022-07-24T13:15:38.071Z"
   },
   {
    "duration": 130,
    "start_time": "2022-07-24T13:15:38.082Z"
   },
   {
    "duration": 197,
    "start_time": "2022-07-24T13:15:38.214Z"
   },
   {
    "duration": 786,
    "start_time": "2022-07-24T13:15:38.414Z"
   },
   {
    "duration": 1321,
    "start_time": "2022-07-24T13:15:39.202Z"
   },
   {
    "duration": 3937,
    "start_time": "2022-07-24T13:15:40.525Z"
   },
   {
    "duration": 5,
    "start_time": "2022-07-24T13:15:44.464Z"
   },
   {
    "duration": 14,
    "start_time": "2022-07-24T13:15:44.470Z"
   },
   {
    "duration": 5,
    "start_time": "2022-07-24T13:15:44.486Z"
   }
  ],
  "kernelspec": {
   "display_name": "Python 3 (ipykernel)",
   "language": "python",
   "name": "python3"
  },
  "language_info": {
   "codemirror_mode": {
    "name": "ipython",
    "version": 3
   },
   "file_extension": ".py",
   "mimetype": "text/x-python",
   "name": "python",
   "nbconvert_exporter": "python",
   "pygments_lexer": "ipython3",
   "version": "3.9.7"
  },
  "toc": {
   "base_numbering": 1,
   "nav_menu": {},
   "number_sections": true,
   "sideBar": true,
   "skip_h1_title": true,
   "title_cell": "Table of Contents",
   "title_sidebar": "Contents",
   "toc_cell": false,
   "toc_position": {},
   "toc_section_display": true,
   "toc_window_display": false
  }
 },
 "nbformat": 4,
 "nbformat_minor": 5
}
